{
 "cells": [
  {
   "cell_type": "code",
   "execution_count": 1,
   "id": "596d8312-34c6-4372-a594-e82f21a37ce1",
   "metadata": {},
   "outputs": [
    {
     "name": "stdout",
     "output_type": "stream",
     "text": [
      "AZURE_API_KEY: d5c1ae66fe5a41fd82f61e0b9fe88470\n",
      "AZURE_API_VERSION: 2024-02-15-preview\n",
      "AZURE_DEPLOYMENT: gpt-4t\n",
      "AZURE_ENDPOINT: https://itp-azopenai-ne.openai.azure.com/\n"
     ]
    },
    {
     "name": "stderr",
     "output_type": "stream",
     "text": [
      "C:\\Users\\vlad\\AppData\\Local\\Packages\\PythonSoftwareFoundation.Python.3.9_qbz5n2kfra8p0\\LocalCache\\local-packages\\Python39\\site-packages\\huggingface_hub\\file_download.py:1132: FutureWarning: `resume_download` is deprecated and will be removed in version 1.0.0. Downloads always resume when possible. If you want to force a new download, use `force_download=True`.\n",
      "  warnings.warn(\n",
      "C:\\Users\\vlad\\AppData\\Local\\Packages\\PythonSoftwareFoundation.Python.3.9_qbz5n2kfra8p0\\LocalCache\\local-packages\\Python39\\site-packages\\huggingface_hub\\file_download.py:1132: FutureWarning: `resume_download` is deprecated and will be removed in version 1.0.0. Downloads always resume when possible. If you want to force a new download, use `force_download=True`.\n",
      "  warnings.warn(\n"
     ]
    },
    {
     "data": {
      "application/vnd.jupyter.widget-view+json": {
       "model_id": "389afed76b6446b9b0470330917d1642",
       "version_major": 2,
       "version_minor": 0
      },
      "text/plain": [
       "Batches:   0%|          | 0/1 [00:00<?, ?it/s]"
      ]
     },
     "metadata": {},
     "output_type": "display_data"
    },
    {
     "data": {
      "application/vnd.jupyter.widget-view+json": {
       "model_id": "ce7baa1191ff4579a9becdada3f5e260",
       "version_major": 2,
       "version_minor": 0
      },
      "text/plain": [
       "Batches:   0%|          | 0/1 [00:00<?, ?it/s]"
      ]
     },
     "metadata": {},
     "output_type": "display_data"
    },
    {
     "data": {
      "application/vnd.jupyter.widget-view+json": {
       "model_id": "83cc91d16945482c86fad1f7bbe882f7",
       "version_major": 2,
       "version_minor": 0
      },
      "text/plain": [
       "Batches:   0%|          | 0/1 [00:00<?, ?it/s]"
      ]
     },
     "metadata": {},
     "output_type": "display_data"
    },
    {
     "data": {
      "application/vnd.jupyter.widget-view+json": {
       "model_id": "f36a52f6fcaf4953a2b1e6c253f74045",
       "version_major": 2,
       "version_minor": 0
      },
      "text/plain": [
       "Batches:   0%|          | 0/1 [00:00<?, ?it/s]"
      ]
     },
     "metadata": {},
     "output_type": "display_data"
    },
    {
     "data": {
      "application/vnd.jupyter.widget-view+json": {
       "model_id": "069590eb27f5421bad9fbe572b163fba",
       "version_major": 2,
       "version_minor": 0
      },
      "text/plain": [
       "Batches:   0%|          | 0/1 [00:00<?, ?it/s]"
      ]
     },
     "metadata": {},
     "output_type": "display_data"
    },
    {
     "data": {
      "application/vnd.jupyter.widget-view+json": {
       "model_id": "c2d8d5d3da244041b173b3c768383326",
       "version_major": 2,
       "version_minor": 0
      },
      "text/plain": [
       "Batches:   0%|          | 0/1 [00:00<?, ?it/s]"
      ]
     },
     "metadata": {},
     "output_type": "display_data"
    },
    {
     "data": {
      "application/vnd.jupyter.widget-view+json": {
       "model_id": "dc8c5a953007490f90481b1ee64451fd",
       "version_major": 2,
       "version_minor": 0
      },
      "text/plain": [
       "Batches:   0%|          | 0/1 [00:00<?, ?it/s]"
      ]
     },
     "metadata": {},
     "output_type": "display_data"
    },
    {
     "data": {
      "application/vnd.jupyter.widget-view+json": {
       "model_id": "a1e753ba8e9c4998a7c481b117495b54",
       "version_major": 2,
       "version_minor": 0
      },
      "text/plain": [
       "Batches:   0%|          | 0/1 [00:00<?, ?it/s]"
      ]
     },
     "metadata": {},
     "output_type": "display_data"
    },
    {
     "data": {
      "application/vnd.jupyter.widget-view+json": {
       "model_id": "0277143bbde54138b4c0eb337455b815",
       "version_major": 2,
       "version_minor": 0
      },
      "text/plain": [
       "Batches:   0%|          | 0/1 [00:00<?, ?it/s]"
      ]
     },
     "metadata": {},
     "output_type": "display_data"
    },
    {
     "data": {
      "application/vnd.jupyter.widget-view+json": {
       "model_id": "8a5e215183c84013b3ff4e566ac586ed",
       "version_major": 2,
       "version_minor": 0
      },
      "text/plain": [
       "Batches:   0%|          | 0/1 [00:00<?, ?it/s]"
      ]
     },
     "metadata": {},
     "output_type": "display_data"
    },
    {
     "data": {
      "application/vnd.jupyter.widget-view+json": {
       "model_id": "0c6da2e3c3b849f5b2711123be9dbcd0",
       "version_major": 2,
       "version_minor": 0
      },
      "text/plain": [
       "Batches:   0%|          | 0/1 [00:00<?, ?it/s]"
      ]
     },
     "metadata": {},
     "output_type": "display_data"
    },
    {
     "data": {
      "application/vnd.jupyter.widget-view+json": {
       "model_id": "0b924e82acec49eda56f25526b258767",
       "version_major": 2,
       "version_minor": 0
      },
      "text/plain": [
       "Batches:   0%|          | 0/1 [00:00<?, ?it/s]"
      ]
     },
     "metadata": {},
     "output_type": "display_data"
    },
    {
     "data": {
      "application/vnd.jupyter.widget-view+json": {
       "model_id": "491432bedbd44a99beb7ea3effe93964",
       "version_major": 2,
       "version_minor": 0
      },
      "text/plain": [
       "Batches:   0%|          | 0/1 [00:00<?, ?it/s]"
      ]
     },
     "metadata": {},
     "output_type": "display_data"
    },
    {
     "data": {
      "application/vnd.jupyter.widget-view+json": {
       "model_id": "cc738a4c23ce442090edd9a39f79fd39",
       "version_major": 2,
       "version_minor": 0
      },
      "text/plain": [
       "Batches:   0%|          | 0/1 [00:00<?, ?it/s]"
      ]
     },
     "metadata": {},
     "output_type": "display_data"
    },
    {
     "data": {
      "application/vnd.jupyter.widget-view+json": {
       "model_id": "96424d0574cd4ac692d0ae32ce518a73",
       "version_major": 2,
       "version_minor": 0
      },
      "text/plain": [
       "Batches:   0%|          | 0/1 [00:00<?, ?it/s]"
      ]
     },
     "metadata": {},
     "output_type": "display_data"
    },
    {
     "data": {
      "application/vnd.jupyter.widget-view+json": {
       "model_id": "6c0937274dfd4d37a8712a488a31b81f",
       "version_major": 2,
       "version_minor": 0
      },
      "text/plain": [
       "Batches:   0%|          | 0/1 [00:00<?, ?it/s]"
      ]
     },
     "metadata": {},
     "output_type": "display_data"
    },
    {
     "data": {
      "application/vnd.jupyter.widget-view+json": {
       "model_id": "c2b5cc9e118d432c96d5410ae07331fc",
       "version_major": 2,
       "version_minor": 0
      },
      "text/plain": [
       "Batches:   0%|          | 0/1 [00:00<?, ?it/s]"
      ]
     },
     "metadata": {},
     "output_type": "display_data"
    },
    {
     "data": {
      "application/vnd.jupyter.widget-view+json": {
       "model_id": "661269b3893848ad8ed3601f9f4b53b3",
       "version_major": 2,
       "version_minor": 0
      },
      "text/plain": [
       "Batches:   0%|          | 0/1 [00:00<?, ?it/s]"
      ]
     },
     "metadata": {},
     "output_type": "display_data"
    },
    {
     "data": {
      "application/vnd.jupyter.widget-view+json": {
       "model_id": "b69af2f71c7b425996e485f43bd9ddde",
       "version_major": 2,
       "version_minor": 0
      },
      "text/plain": [
       "Batches:   0%|          | 0/1 [00:00<?, ?it/s]"
      ]
     },
     "metadata": {},
     "output_type": "display_data"
    },
    {
     "data": {
      "application/vnd.jupyter.widget-view+json": {
       "model_id": "5e4e652d41b841599a5bd544d0b4f444",
       "version_major": 2,
       "version_minor": 0
      },
      "text/plain": [
       "Batches:   0%|          | 0/1 [00:00<?, ?it/s]"
      ]
     },
     "metadata": {},
     "output_type": "display_data"
    },
    {
     "data": {
      "application/vnd.jupyter.widget-view+json": {
       "model_id": "2de6fb3829c248edacf9a8217535b935",
       "version_major": 2,
       "version_minor": 0
      },
      "text/plain": [
       "Batches:   0%|          | 0/1 [00:00<?, ?it/s]"
      ]
     },
     "metadata": {},
     "output_type": "display_data"
    },
    {
     "data": {
      "application/vnd.jupyter.widget-view+json": {
       "model_id": "0f92bbc81f0f44819b0d491856c1b392",
       "version_major": 2,
       "version_minor": 0
      },
      "text/plain": [
       "Batches:   0%|          | 0/1 [00:00<?, ?it/s]"
      ]
     },
     "metadata": {},
     "output_type": "display_data"
    },
    {
     "data": {
      "application/vnd.jupyter.widget-view+json": {
       "model_id": "33b098d013e84a6598adbc259af08342",
       "version_major": 2,
       "version_minor": 0
      },
      "text/plain": [
       "Batches:   0%|          | 0/1 [00:00<?, ?it/s]"
      ]
     },
     "metadata": {},
     "output_type": "display_data"
    },
    {
     "data": {
      "application/vnd.jupyter.widget-view+json": {
       "model_id": "7bb412bee1dd43ff9ed101d5ac699f6b",
       "version_major": 2,
       "version_minor": 0
      },
      "text/plain": [
       "Batches:   0%|          | 0/1 [00:00<?, ?it/s]"
      ]
     },
     "metadata": {},
     "output_type": "display_data"
    },
    {
     "data": {
      "application/vnd.jupyter.widget-view+json": {
       "model_id": "10eda7aff6164803a49685a64ddfe4f3",
       "version_major": 2,
       "version_minor": 0
      },
      "text/plain": [
       "Batches:   0%|          | 0/1 [00:00<?, ?it/s]"
      ]
     },
     "metadata": {},
     "output_type": "display_data"
    },
    {
     "data": {
      "application/vnd.jupyter.widget-view+json": {
       "model_id": "4f20091517544a5ea7c7cf001f28e1cf",
       "version_major": 2,
       "version_minor": 0
      },
      "text/plain": [
       "Batches:   0%|          | 0/1 [00:00<?, ?it/s]"
      ]
     },
     "metadata": {},
     "output_type": "display_data"
    },
    {
     "data": {
      "application/vnd.jupyter.widget-view+json": {
       "model_id": "0ce52a151fa74781ba0e6447e9c71aa1",
       "version_major": 2,
       "version_minor": 0
      },
      "text/plain": [
       "Batches:   0%|          | 0/1 [00:00<?, ?it/s]"
      ]
     },
     "metadata": {},
     "output_type": "display_data"
    },
    {
     "data": {
      "application/vnd.jupyter.widget-view+json": {
       "model_id": "01e9b0d1aa9249158afa7a705093548b",
       "version_major": 2,
       "version_minor": 0
      },
      "text/plain": [
       "Batches:   0%|          | 0/1 [00:00<?, ?it/s]"
      ]
     },
     "metadata": {},
     "output_type": "display_data"
    },
    {
     "data": {
      "application/vnd.jupyter.widget-view+json": {
       "model_id": "4af76a9fc1584fee8a666c11521d909d",
       "version_major": 2,
       "version_minor": 0
      },
      "text/plain": [
       "Batches:   0%|          | 0/1 [00:00<?, ?it/s]"
      ]
     },
     "metadata": {},
     "output_type": "display_data"
    },
    {
     "data": {
      "application/vnd.jupyter.widget-view+json": {
       "model_id": "81e4949a66314f428172ffce10e79a12",
       "version_major": 2,
       "version_minor": 0
      },
      "text/plain": [
       "Batches:   0%|          | 0/1 [00:00<?, ?it/s]"
      ]
     },
     "metadata": {},
     "output_type": "display_data"
    },
    {
     "data": {
      "application/vnd.jupyter.widget-view+json": {
       "model_id": "6b07ed5ed4614e6cb67a73e67b526ad2",
       "version_major": 2,
       "version_minor": 0
      },
      "text/plain": [
       "Batches:   0%|          | 0/1 [00:00<?, ?it/s]"
      ]
     },
     "metadata": {},
     "output_type": "display_data"
    },
    {
     "data": {
      "application/vnd.jupyter.widget-view+json": {
       "model_id": "dbeb869c33494981913aba9c24cfbd90",
       "version_major": 2,
       "version_minor": 0
      },
      "text/plain": [
       "Batches:   0%|          | 0/1 [00:00<?, ?it/s]"
      ]
     },
     "metadata": {},
     "output_type": "display_data"
    },
    {
     "data": {
      "application/vnd.jupyter.widget-view+json": {
       "model_id": "b2904eb4f67a483997d3d1d6f650f5e2",
       "version_major": 2,
       "version_minor": 0
      },
      "text/plain": [
       "Batches:   0%|          | 0/1 [00:00<?, ?it/s]"
      ]
     },
     "metadata": {},
     "output_type": "display_data"
    },
    {
     "data": {
      "application/vnd.jupyter.widget-view+json": {
       "model_id": "a3018e3fe9b9421d8fd4dae384bb5763",
       "version_major": 2,
       "version_minor": 0
      },
      "text/plain": [
       "Batches:   0%|          | 0/1 [00:00<?, ?it/s]"
      ]
     },
     "metadata": {},
     "output_type": "display_data"
    },
    {
     "data": {
      "application/vnd.jupyter.widget-view+json": {
       "model_id": "fae2c602f9064783b11585c852d879c7",
       "version_major": 2,
       "version_minor": 0
      },
      "text/plain": [
       "Batches:   0%|          | 0/1 [00:00<?, ?it/s]"
      ]
     },
     "metadata": {},
     "output_type": "display_data"
    },
    {
     "data": {
      "application/vnd.jupyter.widget-view+json": {
       "model_id": "4c5416c7273a472ebd1791f92e9f4954",
       "version_major": 2,
       "version_minor": 0
      },
      "text/plain": [
       "Batches:   0%|          | 0/1 [00:00<?, ?it/s]"
      ]
     },
     "metadata": {},
     "output_type": "display_data"
    },
    {
     "data": {
      "application/vnd.jupyter.widget-view+json": {
       "model_id": "276da763d0c941c08a1d8e3ead799dce",
       "version_major": 2,
       "version_minor": 0
      },
      "text/plain": [
       "Batches:   0%|          | 0/1 [00:00<?, ?it/s]"
      ]
     },
     "metadata": {},
     "output_type": "display_data"
    },
    {
     "data": {
      "application/vnd.jupyter.widget-view+json": {
       "model_id": "232e36d91d4a48d8b293f393ce4990a4",
       "version_major": 2,
       "version_minor": 0
      },
      "text/plain": [
       "Batches:   0%|          | 0/1 [00:00<?, ?it/s]"
      ]
     },
     "metadata": {},
     "output_type": "display_data"
    },
    {
     "data": {
      "application/vnd.jupyter.widget-view+json": {
       "model_id": "b7c2c696fa5f41c9b46ebdbfb1376ba4",
       "version_major": 2,
       "version_minor": 0
      },
      "text/plain": [
       "Batches:   0%|          | 0/1 [00:00<?, ?it/s]"
      ]
     },
     "metadata": {},
     "output_type": "display_data"
    },
    {
     "data": {
      "application/vnd.jupyter.widget-view+json": {
       "model_id": "4de2e6c4bf4b42b5b13da98080a9d38c",
       "version_major": 2,
       "version_minor": 0
      },
      "text/plain": [
       "Batches:   0%|          | 0/1 [00:00<?, ?it/s]"
      ]
     },
     "metadata": {},
     "output_type": "display_data"
    },
    {
     "data": {
      "application/vnd.jupyter.widget-view+json": {
       "model_id": "bee94cad3194489092349bd4c20d29f5",
       "version_major": 2,
       "version_minor": 0
      },
      "text/plain": [
       "Batches:   0%|          | 0/1 [00:00<?, ?it/s]"
      ]
     },
     "metadata": {},
     "output_type": "display_data"
    },
    {
     "data": {
      "application/vnd.jupyter.widget-view+json": {
       "model_id": "16319e33422343d4bb34f6b929ceaaf6",
       "version_major": 2,
       "version_minor": 0
      },
      "text/plain": [
       "Batches:   0%|          | 0/1 [00:00<?, ?it/s]"
      ]
     },
     "metadata": {},
     "output_type": "display_data"
    },
    {
     "data": {
      "application/vnd.jupyter.widget-view+json": {
       "model_id": "12d3620806b849adab3ade7d32e7e82d",
       "version_major": 2,
       "version_minor": 0
      },
      "text/plain": [
       "Batches:   0%|          | 0/1 [00:00<?, ?it/s]"
      ]
     },
     "metadata": {},
     "output_type": "display_data"
    },
    {
     "data": {
      "application/vnd.jupyter.widget-view+json": {
       "model_id": "9e7d1593e1ea4047bc0a4ec6bcfd6c8f",
       "version_major": 2,
       "version_minor": 0
      },
      "text/plain": [
       "Batches:   0%|          | 0/1 [00:00<?, ?it/s]"
      ]
     },
     "metadata": {},
     "output_type": "display_data"
    },
    {
     "data": {
      "application/vnd.jupyter.widget-view+json": {
       "model_id": "4bac2de8afdb4f58828545a8c4af9cb4",
       "version_major": 2,
       "version_minor": 0
      },
      "text/plain": [
       "Batches:   0%|          | 0/1 [00:00<?, ?it/s]"
      ]
     },
     "metadata": {},
     "output_type": "display_data"
    },
    {
     "data": {
      "application/vnd.jupyter.widget-view+json": {
       "model_id": "a036d3d845014413ad530a36c5ea7706",
       "version_major": 2,
       "version_minor": 0
      },
      "text/plain": [
       "Batches:   0%|          | 0/1 [00:00<?, ?it/s]"
      ]
     },
     "metadata": {},
     "output_type": "display_data"
    },
    {
     "data": {
      "application/vnd.jupyter.widget-view+json": {
       "model_id": "10de574de3d144d1b50845b53025d694",
       "version_major": 2,
       "version_minor": 0
      },
      "text/plain": [
       "Batches:   0%|          | 0/1 [00:00<?, ?it/s]"
      ]
     },
     "metadata": {},
     "output_type": "display_data"
    },
    {
     "data": {
      "application/vnd.jupyter.widget-view+json": {
       "model_id": "b290bdc8e3d243daae0263e4b48e34c6",
       "version_major": 2,
       "version_minor": 0
      },
      "text/plain": [
       "Batches:   0%|          | 0/1 [00:00<?, ?it/s]"
      ]
     },
     "metadata": {},
     "output_type": "display_data"
    },
    {
     "data": {
      "application/vnd.jupyter.widget-view+json": {
       "model_id": "28911dc34dc64899a0b714b135f3e5b6",
       "version_major": 2,
       "version_minor": 0
      },
      "text/plain": [
       "Batches:   0%|          | 0/1 [00:00<?, ?it/s]"
      ]
     },
     "metadata": {},
     "output_type": "display_data"
    },
    {
     "data": {
      "application/vnd.jupyter.widget-view+json": {
       "model_id": "00514dfcfa6840c19fa88a629f47cf0a",
       "version_major": 2,
       "version_minor": 0
      },
      "text/plain": [
       "Batches:   0%|          | 0/1 [00:00<?, ?it/s]"
      ]
     },
     "metadata": {},
     "output_type": "display_data"
    },
    {
     "data": {
      "application/vnd.jupyter.widget-view+json": {
       "model_id": "423359001eb24b878f89946450b997a5",
       "version_major": 2,
       "version_minor": 0
      },
      "text/plain": [
       "Batches:   0%|          | 0/1 [00:00<?, ?it/s]"
      ]
     },
     "metadata": {},
     "output_type": "display_data"
    },
    {
     "data": {
      "application/vnd.jupyter.widget-view+json": {
       "model_id": "ceac102fa3484ddda48cb95a6734bfbf",
       "version_major": 2,
       "version_minor": 0
      },
      "text/plain": [
       "Batches:   0%|          | 0/1 [00:00<?, ?it/s]"
      ]
     },
     "metadata": {},
     "output_type": "display_data"
    },
    {
     "data": {
      "application/vnd.jupyter.widget-view+json": {
       "model_id": "56e8543f6b7b4216888c8e07edf99558",
       "version_major": 2,
       "version_minor": 0
      },
      "text/plain": [
       "Batches:   0%|          | 0/1 [00:00<?, ?it/s]"
      ]
     },
     "metadata": {},
     "output_type": "display_data"
    },
    {
     "data": {
      "application/vnd.jupyter.widget-view+json": {
       "model_id": "88ca555c3df74467a2773548888fa62e",
       "version_major": 2,
       "version_minor": 0
      },
      "text/plain": [
       "Batches:   0%|          | 0/1 [00:00<?, ?it/s]"
      ]
     },
     "metadata": {},
     "output_type": "display_data"
    },
    {
     "data": {
      "application/vnd.jupyter.widget-view+json": {
       "model_id": "155cadf6879e4297a0e0b5118b059360",
       "version_major": 2,
       "version_minor": 0
      },
      "text/plain": [
       "Batches:   0%|          | 0/1 [00:00<?, ?it/s]"
      ]
     },
     "metadata": {},
     "output_type": "display_data"
    },
    {
     "data": {
      "application/vnd.jupyter.widget-view+json": {
       "model_id": "cf5638475b9d4ca8b48257ace0a456ac",
       "version_major": 2,
       "version_minor": 0
      },
      "text/plain": [
       "Batches:   0%|          | 0/1 [00:00<?, ?it/s]"
      ]
     },
     "metadata": {},
     "output_type": "display_data"
    },
    {
     "data": {
      "application/vnd.jupyter.widget-view+json": {
       "model_id": "30bd744f544647be89518c4ced33f001",
       "version_major": 2,
       "version_minor": 0
      },
      "text/plain": [
       "Batches:   0%|          | 0/1 [00:00<?, ?it/s]"
      ]
     },
     "metadata": {},
     "output_type": "display_data"
    },
    {
     "data": {
      "application/vnd.jupyter.widget-view+json": {
       "model_id": "86b33fdb67034dd8a6adfd3acc2b4265",
       "version_major": 2,
       "version_minor": 0
      },
      "text/plain": [
       "Batches:   0%|          | 0/1 [00:00<?, ?it/s]"
      ]
     },
     "metadata": {},
     "output_type": "display_data"
    },
    {
     "data": {
      "application/vnd.jupyter.widget-view+json": {
       "model_id": "ee0a04c2091a41158490513cab42d8ba",
       "version_major": 2,
       "version_minor": 0
      },
      "text/plain": [
       "Batches:   0%|          | 0/1 [00:00<?, ?it/s]"
      ]
     },
     "metadata": {},
     "output_type": "display_data"
    },
    {
     "data": {
      "application/vnd.jupyter.widget-view+json": {
       "model_id": "9861a2b3bc7c4535a9267d8505b5fd90",
       "version_major": 2,
       "version_minor": 0
      },
      "text/plain": [
       "Batches:   0%|          | 0/1 [00:00<?, ?it/s]"
      ]
     },
     "metadata": {},
     "output_type": "display_data"
    },
    {
     "data": {
      "application/vnd.jupyter.widget-view+json": {
       "model_id": "1845e17c066d42ada06431582cd84554",
       "version_major": 2,
       "version_minor": 0
      },
      "text/plain": [
       "Batches:   0%|          | 0/1 [00:00<?, ?it/s]"
      ]
     },
     "metadata": {},
     "output_type": "display_data"
    },
    {
     "data": {
      "application/vnd.jupyter.widget-view+json": {
       "model_id": "9aa15ac2d26541ac843622db85c90349",
       "version_major": 2,
       "version_minor": 0
      },
      "text/plain": [
       "Batches:   0%|          | 0/1 [00:00<?, ?it/s]"
      ]
     },
     "metadata": {},
     "output_type": "display_data"
    },
    {
     "data": {
      "application/vnd.jupyter.widget-view+json": {
       "model_id": "721832a91e2942fc9c621ab82553749c",
       "version_major": 2,
       "version_minor": 0
      },
      "text/plain": [
       "Batches:   0%|          | 0/1 [00:00<?, ?it/s]"
      ]
     },
     "metadata": {},
     "output_type": "display_data"
    },
    {
     "data": {
      "application/vnd.jupyter.widget-view+json": {
       "model_id": "150401573c184a92b31db009dcee3c12",
       "version_major": 2,
       "version_minor": 0
      },
      "text/plain": [
       "Batches:   0%|          | 0/1 [00:00<?, ?it/s]"
      ]
     },
     "metadata": {},
     "output_type": "display_data"
    },
    {
     "data": {
      "application/vnd.jupyter.widget-view+json": {
       "model_id": "bd6a0c8350ee44bdaefb7dacaa81283a",
       "version_major": 2,
       "version_minor": 0
      },
      "text/plain": [
       "Batches:   0%|          | 0/1 [00:00<?, ?it/s]"
      ]
     },
     "metadata": {},
     "output_type": "display_data"
    },
    {
     "data": {
      "application/vnd.jupyter.widget-view+json": {
       "model_id": "60cf9294a838429d99a0405232f0aac8",
       "version_major": 2,
       "version_minor": 0
      },
      "text/plain": [
       "Batches:   0%|          | 0/1 [00:00<?, ?it/s]"
      ]
     },
     "metadata": {},
     "output_type": "display_data"
    },
    {
     "data": {
      "application/vnd.jupyter.widget-view+json": {
       "model_id": "3ce1c3a5c0a3438b83f16bc413d9196b",
       "version_major": 2,
       "version_minor": 0
      },
      "text/plain": [
       "Batches:   0%|          | 0/1 [00:00<?, ?it/s]"
      ]
     },
     "metadata": {},
     "output_type": "display_data"
    },
    {
     "data": {
      "application/vnd.jupyter.widget-view+json": {
       "model_id": "82a851abcb694470b894797d3eb5671f",
       "version_major": 2,
       "version_minor": 0
      },
      "text/plain": [
       "Batches:   0%|          | 0/1 [00:00<?, ?it/s]"
      ]
     },
     "metadata": {},
     "output_type": "display_data"
    },
    {
     "data": {
      "application/vnd.jupyter.widget-view+json": {
       "model_id": "5ada99b551424a4baedc535581179e28",
       "version_major": 2,
       "version_minor": 0
      },
      "text/plain": [
       "Batches:   0%|          | 0/1 [00:00<?, ?it/s]"
      ]
     },
     "metadata": {},
     "output_type": "display_data"
    },
    {
     "data": {
      "application/vnd.jupyter.widget-view+json": {
       "model_id": "12e6ca55daf544e1b9702c10443cb2a8",
       "version_major": 2,
       "version_minor": 0
      },
      "text/plain": [
       "Batches:   0%|          | 0/1 [00:00<?, ?it/s]"
      ]
     },
     "metadata": {},
     "output_type": "display_data"
    },
    {
     "data": {
      "application/vnd.jupyter.widget-view+json": {
       "model_id": "2e76c835c0a74c4bacc520c849b508fd",
       "version_major": 2,
       "version_minor": 0
      },
      "text/plain": [
       "Batches:   0%|          | 0/1 [00:00<?, ?it/s]"
      ]
     },
     "metadata": {},
     "output_type": "display_data"
    },
    {
     "data": {
      "application/vnd.jupyter.widget-view+json": {
       "model_id": "c630042c6b4f48e3bfb988d7883f9371",
       "version_major": 2,
       "version_minor": 0
      },
      "text/plain": [
       "Batches:   0%|          | 0/1 [00:00<?, ?it/s]"
      ]
     },
     "metadata": {},
     "output_type": "display_data"
    },
    {
     "data": {
      "application/vnd.jupyter.widget-view+json": {
       "model_id": "fff67e68af6d4d75b57425cb541143bd",
       "version_major": 2,
       "version_minor": 0
      },
      "text/plain": [
       "Batches:   0%|          | 0/1 [00:00<?, ?it/s]"
      ]
     },
     "metadata": {},
     "output_type": "display_data"
    },
    {
     "data": {
      "application/vnd.jupyter.widget-view+json": {
       "model_id": "8598f8fae51f4a90bd4a401bed129dcb",
       "version_major": 2,
       "version_minor": 0
      },
      "text/plain": [
       "Batches:   0%|          | 0/1 [00:00<?, ?it/s]"
      ]
     },
     "metadata": {},
     "output_type": "display_data"
    },
    {
     "data": {
      "application/vnd.jupyter.widget-view+json": {
       "model_id": "be7420601a4f4ca2bdc1b21d70b82a96",
       "version_major": 2,
       "version_minor": 0
      },
      "text/plain": [
       "Batches:   0%|          | 0/1 [00:00<?, ?it/s]"
      ]
     },
     "metadata": {},
     "output_type": "display_data"
    },
    {
     "data": {
      "application/vnd.jupyter.widget-view+json": {
       "model_id": "5261a1331b344cc797a7289ed2b526f0",
       "version_major": 2,
       "version_minor": 0
      },
      "text/plain": [
       "Batches:   0%|          | 0/1 [00:00<?, ?it/s]"
      ]
     },
     "metadata": {},
     "output_type": "display_data"
    },
    {
     "data": {
      "application/vnd.jupyter.widget-view+json": {
       "model_id": "7c67cf1595874214a665af2fbb4a9acd",
       "version_major": 2,
       "version_minor": 0
      },
      "text/plain": [
       "Batches:   0%|          | 0/1 [00:00<?, ?it/s]"
      ]
     },
     "metadata": {},
     "output_type": "display_data"
    },
    {
     "data": {
      "application/vnd.jupyter.widget-view+json": {
       "model_id": "dd20b7a46bbb48a3982b19a4dba28254",
       "version_major": 2,
       "version_minor": 0
      },
      "text/plain": [
       "Batches:   0%|          | 0/1 [00:00<?, ?it/s]"
      ]
     },
     "metadata": {},
     "output_type": "display_data"
    },
    {
     "data": {
      "application/vnd.jupyter.widget-view+json": {
       "model_id": "07f30b26e3eb41d6a18fcc76d37d04de",
       "version_major": 2,
       "version_minor": 0
      },
      "text/plain": [
       "Batches:   0%|          | 0/1 [00:00<?, ?it/s]"
      ]
     },
     "metadata": {},
     "output_type": "display_data"
    },
    {
     "data": {
      "application/vnd.jupyter.widget-view+json": {
       "model_id": "48fbc7335a4545fa9f1deb8d717503b6",
       "version_major": 2,
       "version_minor": 0
      },
      "text/plain": [
       "Batches:   0%|          | 0/1 [00:00<?, ?it/s]"
      ]
     },
     "metadata": {},
     "output_type": "display_data"
    },
    {
     "data": {
      "application/vnd.jupyter.widget-view+json": {
       "model_id": "199bae566a1d40899a316995f7dcfb93",
       "version_major": 2,
       "version_minor": 0
      },
      "text/plain": [
       "Batches:   0%|          | 0/1 [00:00<?, ?it/s]"
      ]
     },
     "metadata": {},
     "output_type": "display_data"
    },
    {
     "data": {
      "application/vnd.jupyter.widget-view+json": {
       "model_id": "7f1d29d5281749be8edd2e06e520dc44",
       "version_major": 2,
       "version_minor": 0
      },
      "text/plain": [
       "Batches:   0%|          | 0/1 [00:00<?, ?it/s]"
      ]
     },
     "metadata": {},
     "output_type": "display_data"
    },
    {
     "data": {
      "application/vnd.jupyter.widget-view+json": {
       "model_id": "c64353704cfc403a8ddfa31509bf58d6",
       "version_major": 2,
       "version_minor": 0
      },
      "text/plain": [
       "Batches:   0%|          | 0/1 [00:00<?, ?it/s]"
      ]
     },
     "metadata": {},
     "output_type": "display_data"
    },
    {
     "data": {
      "application/vnd.jupyter.widget-view+json": {
       "model_id": "471945b6e10349179cb930e7ad918b98",
       "version_major": 2,
       "version_minor": 0
      },
      "text/plain": [
       "Batches:   0%|          | 0/1 [00:00<?, ?it/s]"
      ]
     },
     "metadata": {},
     "output_type": "display_data"
    },
    {
     "data": {
      "application/vnd.jupyter.widget-view+json": {
       "model_id": "91c00022f9d447f3a54e7a5bcdcdbaa8",
       "version_major": 2,
       "version_minor": 0
      },
      "text/plain": [
       "Batches:   0%|          | 0/1 [00:00<?, ?it/s]"
      ]
     },
     "metadata": {},
     "output_type": "display_data"
    },
    {
     "data": {
      "application/vnd.jupyter.widget-view+json": {
       "model_id": "ce790d5e1ce84daf96778ea63a7b7e58",
       "version_major": 2,
       "version_minor": 0
      },
      "text/plain": [
       "Batches:   0%|          | 0/1 [00:00<?, ?it/s]"
      ]
     },
     "metadata": {},
     "output_type": "display_data"
    },
    {
     "data": {
      "application/vnd.jupyter.widget-view+json": {
       "model_id": "3b90235abe804f2c9ff234328f99caba",
       "version_major": 2,
       "version_minor": 0
      },
      "text/plain": [
       "Batches:   0%|          | 0/1 [00:00<?, ?it/s]"
      ]
     },
     "metadata": {},
     "output_type": "display_data"
    },
    {
     "data": {
      "application/vnd.jupyter.widget-view+json": {
       "model_id": "dd7f7a0c2a0f496784e9cb0aa047cd6c",
       "version_major": 2,
       "version_minor": 0
      },
      "text/plain": [
       "Batches:   0%|          | 0/1 [00:00<?, ?it/s]"
      ]
     },
     "metadata": {},
     "output_type": "display_data"
    },
    {
     "data": {
      "application/vnd.jupyter.widget-view+json": {
       "model_id": "d7b8eb7d90c0457c87fb39cefbdc30f7",
       "version_major": 2,
       "version_minor": 0
      },
      "text/plain": [
       "Batches:   0%|          | 0/1 [00:00<?, ?it/s]"
      ]
     },
     "metadata": {},
     "output_type": "display_data"
    },
    {
     "data": {
      "application/vnd.jupyter.widget-view+json": {
       "model_id": "b855b767baa545ff9a024beeacdfbbdb",
       "version_major": 2,
       "version_minor": 0
      },
      "text/plain": [
       "Batches:   0%|          | 0/1 [00:00<?, ?it/s]"
      ]
     },
     "metadata": {},
     "output_type": "display_data"
    },
    {
     "data": {
      "application/vnd.jupyter.widget-view+json": {
       "model_id": "65a86289c5344447b8af164c889fc1ef",
       "version_major": 2,
       "version_minor": 0
      },
      "text/plain": [
       "Batches:   0%|          | 0/1 [00:00<?, ?it/s]"
      ]
     },
     "metadata": {},
     "output_type": "display_data"
    },
    {
     "data": {
      "application/vnd.jupyter.widget-view+json": {
       "model_id": "8fb667cb8db245efba2686dbdca9b724",
       "version_major": 2,
       "version_minor": 0
      },
      "text/plain": [
       "Batches:   0%|          | 0/1 [00:00<?, ?it/s]"
      ]
     },
     "metadata": {},
     "output_type": "display_data"
    },
    {
     "data": {
      "application/vnd.jupyter.widget-view+json": {
       "model_id": "59d5d93866f54bc590ad3933eefc2eac",
       "version_major": 2,
       "version_minor": 0
      },
      "text/plain": [
       "Batches:   0%|          | 0/1 [00:00<?, ?it/s]"
      ]
     },
     "metadata": {},
     "output_type": "display_data"
    },
    {
     "data": {
      "application/vnd.jupyter.widget-view+json": {
       "model_id": "e07da7970cdd44d5b38894e852f1c7f2",
       "version_major": 2,
       "version_minor": 0
      },
      "text/plain": [
       "Batches:   0%|          | 0/1 [00:00<?, ?it/s]"
      ]
     },
     "metadata": {},
     "output_type": "display_data"
    },
    {
     "data": {
      "application/vnd.jupyter.widget-view+json": {
       "model_id": "333c3d7585a94480a8e81509bc3cdb51",
       "version_major": 2,
       "version_minor": 0
      },
      "text/plain": [
       "Batches:   0%|          | 0/1 [00:00<?, ?it/s]"
      ]
     },
     "metadata": {},
     "output_type": "display_data"
    },
    {
     "data": {
      "application/vnd.jupyter.widget-view+json": {
       "model_id": "6f7582e45ffd47f6a7d96e4b82f212c5",
       "version_major": 2,
       "version_minor": 0
      },
      "text/plain": [
       "Batches:   0%|          | 0/1 [00:00<?, ?it/s]"
      ]
     },
     "metadata": {},
     "output_type": "display_data"
    },
    {
     "data": {
      "application/vnd.jupyter.widget-view+json": {
       "model_id": "537dd173c60a4d9a9350d953401a59cf",
       "version_major": 2,
       "version_minor": 0
      },
      "text/plain": [
       "Batches:   0%|          | 0/1 [00:00<?, ?it/s]"
      ]
     },
     "metadata": {},
     "output_type": "display_data"
    },
    {
     "data": {
      "application/vnd.jupyter.widget-view+json": {
       "model_id": "b6fbd4b315664be3b99427fee85b3545",
       "version_major": 2,
       "version_minor": 0
      },
      "text/plain": [
       "Batches:   0%|          | 0/1 [00:00<?, ?it/s]"
      ]
     },
     "metadata": {},
     "output_type": "display_data"
    },
    {
     "data": {
      "application/vnd.jupyter.widget-view+json": {
       "model_id": "b23c09d6869c40889e92bdd5b805cebb",
       "version_major": 2,
       "version_minor": 0
      },
      "text/plain": [
       "Batches:   0%|          | 0/1 [00:00<?, ?it/s]"
      ]
     },
     "metadata": {},
     "output_type": "display_data"
    },
    {
     "data": {
      "application/vnd.jupyter.widget-view+json": {
       "model_id": "5854389142204d46b7e13d3c6b5881ab",
       "version_major": 2,
       "version_minor": 0
      },
      "text/plain": [
       "Batches:   0%|          | 0/1 [00:00<?, ?it/s]"
      ]
     },
     "metadata": {},
     "output_type": "display_data"
    },
    {
     "data": {
      "application/vnd.jupyter.widget-view+json": {
       "model_id": "5c6869512ed746ff92a50dfe56615153",
       "version_major": 2,
       "version_minor": 0
      },
      "text/plain": [
       "Batches:   0%|          | 0/1 [00:00<?, ?it/s]"
      ]
     },
     "metadata": {},
     "output_type": "display_data"
    },
    {
     "data": {
      "application/vnd.jupyter.widget-view+json": {
       "model_id": "4112cb2904874c7dbb39c2f850b9437a",
       "version_major": 2,
       "version_minor": 0
      },
      "text/plain": [
       "Batches:   0%|          | 0/1 [00:00<?, ?it/s]"
      ]
     },
     "metadata": {},
     "output_type": "display_data"
    },
    {
     "data": {
      "application/vnd.jupyter.widget-view+json": {
       "model_id": "0dc0d7fbc75946d48e97ee7c812784aa",
       "version_major": 2,
       "version_minor": 0
      },
      "text/plain": [
       "Batches:   0%|          | 0/1 [00:00<?, ?it/s]"
      ]
     },
     "metadata": {},
     "output_type": "display_data"
    },
    {
     "data": {
      "application/vnd.jupyter.widget-view+json": {
       "model_id": "625dab281fa7422db28da209400ead3f",
       "version_major": 2,
       "version_minor": 0
      },
      "text/plain": [
       "Batches:   0%|          | 0/1 [00:00<?, ?it/s]"
      ]
     },
     "metadata": {},
     "output_type": "display_data"
    },
    {
     "data": {
      "application/vnd.jupyter.widget-view+json": {
       "model_id": "6a921acbdd0846229329bce83941d86a",
       "version_major": 2,
       "version_minor": 0
      },
      "text/plain": [
       "Batches:   0%|          | 0/1 [00:00<?, ?it/s]"
      ]
     },
     "metadata": {},
     "output_type": "display_data"
    },
    {
     "data": {
      "application/vnd.jupyter.widget-view+json": {
       "model_id": "baf1fd762c1a4b7ba60275e13892e2df",
       "version_major": 2,
       "version_minor": 0
      },
      "text/plain": [
       "Batches:   0%|          | 0/1 [00:00<?, ?it/s]"
      ]
     },
     "metadata": {},
     "output_type": "display_data"
    },
    {
     "data": {
      "application/vnd.jupyter.widget-view+json": {
       "model_id": "dad22ab225c74fad81b01528a86c1535",
       "version_major": 2,
       "version_minor": 0
      },
      "text/plain": [
       "Batches:   0%|          | 0/1 [00:00<?, ?it/s]"
      ]
     },
     "metadata": {},
     "output_type": "display_data"
    },
    {
     "data": {
      "application/vnd.jupyter.widget-view+json": {
       "model_id": "1ca9920ee461406e93c12ceebdb1749b",
       "version_major": 2,
       "version_minor": 0
      },
      "text/plain": [
       "Batches:   0%|          | 0/1 [00:00<?, ?it/s]"
      ]
     },
     "metadata": {},
     "output_type": "display_data"
    },
    {
     "data": {
      "application/vnd.jupyter.widget-view+json": {
       "model_id": "29ce60c8202e4ce590fcc4aa4891d78c",
       "version_major": 2,
       "version_minor": 0
      },
      "text/plain": [
       "Batches:   0%|          | 0/1 [00:00<?, ?it/s]"
      ]
     },
     "metadata": {},
     "output_type": "display_data"
    },
    {
     "data": {
      "application/vnd.jupyter.widget-view+json": {
       "model_id": "14c896f05eb648c79e5726a337b716fe",
       "version_major": 2,
       "version_minor": 0
      },
      "text/plain": [
       "Batches:   0%|          | 0/1 [00:00<?, ?it/s]"
      ]
     },
     "metadata": {},
     "output_type": "display_data"
    },
    {
     "data": {
      "application/vnd.jupyter.widget-view+json": {
       "model_id": "7bc7ce495f1a4bf4b4a5ea97f2d00fd2",
       "version_major": 2,
       "version_minor": 0
      },
      "text/plain": [
       "Batches:   0%|          | 0/1 [00:00<?, ?it/s]"
      ]
     },
     "metadata": {},
     "output_type": "display_data"
    },
    {
     "data": {
      "application/vnd.jupyter.widget-view+json": {
       "model_id": "05682f95b6544a8e81119d1758f91e5c",
       "version_major": 2,
       "version_minor": 0
      },
      "text/plain": [
       "Batches:   0%|          | 0/1 [00:00<?, ?it/s]"
      ]
     },
     "metadata": {},
     "output_type": "display_data"
    },
    {
     "data": {
      "application/vnd.jupyter.widget-view+json": {
       "model_id": "d4a4fdf3edca48b3a43d0aa4a78a6a0c",
       "version_major": 2,
       "version_minor": 0
      },
      "text/plain": [
       "Batches:   0%|          | 0/1 [00:00<?, ?it/s]"
      ]
     },
     "metadata": {},
     "output_type": "display_data"
    },
    {
     "data": {
      "application/vnd.jupyter.widget-view+json": {
       "model_id": "990d9c0b165e461ab4e1fba9db80f0d2",
       "version_major": 2,
       "version_minor": 0
      },
      "text/plain": [
       "Batches:   0%|          | 0/1 [00:00<?, ?it/s]"
      ]
     },
     "metadata": {},
     "output_type": "display_data"
    },
    {
     "data": {
      "application/vnd.jupyter.widget-view+json": {
       "model_id": "d94c962d723b4308a49e56538ec2522b",
       "version_major": 2,
       "version_minor": 0
      },
      "text/plain": [
       "Batches:   0%|          | 0/1 [00:00<?, ?it/s]"
      ]
     },
     "metadata": {},
     "output_type": "display_data"
    },
    {
     "data": {
      "application/vnd.jupyter.widget-view+json": {
       "model_id": "dc559f4783414fbdb748a10d23f7ddc4",
       "version_major": 2,
       "version_minor": 0
      },
      "text/plain": [
       "Batches:   0%|          | 0/1 [00:00<?, ?it/s]"
      ]
     },
     "metadata": {},
     "output_type": "display_data"
    },
    {
     "data": {
      "application/vnd.jupyter.widget-view+json": {
       "model_id": "5ad2f1eb84ae443297935873b9eb87f0",
       "version_major": 2,
       "version_minor": 0
      },
      "text/plain": [
       "Batches:   0%|          | 0/1 [00:00<?, ?it/s]"
      ]
     },
     "metadata": {},
     "output_type": "display_data"
    },
    {
     "data": {
      "application/vnd.jupyter.widget-view+json": {
       "model_id": "6ee9c6bb173d4869b7db9e82e85ac2a2",
       "version_major": 2,
       "version_minor": 0
      },
      "text/plain": [
       "Batches:   0%|          | 0/1 [00:00<?, ?it/s]"
      ]
     },
     "metadata": {},
     "output_type": "display_data"
    },
    {
     "data": {
      "application/vnd.jupyter.widget-view+json": {
       "model_id": "2e26986e562f40919352c321e060691a",
       "version_major": 2,
       "version_minor": 0
      },
      "text/plain": [
       "Batches:   0%|          | 0/1 [00:00<?, ?it/s]"
      ]
     },
     "metadata": {},
     "output_type": "display_data"
    },
    {
     "data": {
      "application/vnd.jupyter.widget-view+json": {
       "model_id": "1aa4db89d86840ab8c90d36cfca429e6",
       "version_major": 2,
       "version_minor": 0
      },
      "text/plain": [
       "Batches:   0%|          | 0/1 [00:00<?, ?it/s]"
      ]
     },
     "metadata": {},
     "output_type": "display_data"
    },
    {
     "data": {
      "application/vnd.jupyter.widget-view+json": {
       "model_id": "c10003b0ce224c4fa1463249db10b966",
       "version_major": 2,
       "version_minor": 0
      },
      "text/plain": [
       "Batches:   0%|          | 0/1 [00:00<?, ?it/s]"
      ]
     },
     "metadata": {},
     "output_type": "display_data"
    },
    {
     "data": {
      "application/vnd.jupyter.widget-view+json": {
       "model_id": "95ac6bf0443d44818f7bb58221810a92",
       "version_major": 2,
       "version_minor": 0
      },
      "text/plain": [
       "Batches:   0%|          | 0/1 [00:00<?, ?it/s]"
      ]
     },
     "metadata": {},
     "output_type": "display_data"
    },
    {
     "data": {
      "application/vnd.jupyter.widget-view+json": {
       "model_id": "d96e2008685a46fdb710711ff42ad7b5",
       "version_major": 2,
       "version_minor": 0
      },
      "text/plain": [
       "Batches:   0%|          | 0/1 [00:00<?, ?it/s]"
      ]
     },
     "metadata": {},
     "output_type": "display_data"
    },
    {
     "data": {
      "application/vnd.jupyter.widget-view+json": {
       "model_id": "98d839b46d4348a5b4ecb676225124f7",
       "version_major": 2,
       "version_minor": 0
      },
      "text/plain": [
       "Batches:   0%|          | 0/1 [00:00<?, ?it/s]"
      ]
     },
     "metadata": {},
     "output_type": "display_data"
    },
    {
     "data": {
      "application/vnd.jupyter.widget-view+json": {
       "model_id": "59298c908913486290fceda4716d8997",
       "version_major": 2,
       "version_minor": 0
      },
      "text/plain": [
       "Batches:   0%|          | 0/1 [00:00<?, ?it/s]"
      ]
     },
     "metadata": {},
     "output_type": "display_data"
    },
    {
     "data": {
      "application/vnd.jupyter.widget-view+json": {
       "model_id": "1e812467c410415690402682dbb89433",
       "version_major": 2,
       "version_minor": 0
      },
      "text/plain": [
       "Batches:   0%|          | 0/1 [00:00<?, ?it/s]"
      ]
     },
     "metadata": {},
     "output_type": "display_data"
    },
    {
     "data": {
      "application/vnd.jupyter.widget-view+json": {
       "model_id": "26338718e29d495ebde1cfdcc995a341",
       "version_major": 2,
       "version_minor": 0
      },
      "text/plain": [
       "Batches:   0%|          | 0/1 [00:00<?, ?it/s]"
      ]
     },
     "metadata": {},
     "output_type": "display_data"
    },
    {
     "data": {
      "application/vnd.jupyter.widget-view+json": {
       "model_id": "ad17d5c7608a474c90d12740fa3946e4",
       "version_major": 2,
       "version_minor": 0
      },
      "text/plain": [
       "Batches:   0%|          | 0/1 [00:00<?, ?it/s]"
      ]
     },
     "metadata": {},
     "output_type": "display_data"
    },
    {
     "data": {
      "application/vnd.jupyter.widget-view+json": {
       "model_id": "f4b407ce7c9d4d71a074adebc9942ed2",
       "version_major": 2,
       "version_minor": 0
      },
      "text/plain": [
       "Batches:   0%|          | 0/1 [00:00<?, ?it/s]"
      ]
     },
     "metadata": {},
     "output_type": "display_data"
    },
    {
     "data": {
      "application/vnd.jupyter.widget-view+json": {
       "model_id": "3d32cda395924e7f8a75616186968991",
       "version_major": 2,
       "version_minor": 0
      },
      "text/plain": [
       "Batches:   0%|          | 0/1 [00:00<?, ?it/s]"
      ]
     },
     "metadata": {},
     "output_type": "display_data"
    },
    {
     "data": {
      "application/vnd.jupyter.widget-view+json": {
       "model_id": "e56b39912fd74b33b59e88e487873d60",
       "version_major": 2,
       "version_minor": 0
      },
      "text/plain": [
       "Batches:   0%|          | 0/1 [00:00<?, ?it/s]"
      ]
     },
     "metadata": {},
     "output_type": "display_data"
    },
    {
     "data": {
      "application/vnd.jupyter.widget-view+json": {
       "model_id": "c0fc9e00409742f5b048b0a6e2eb33c5",
       "version_major": 2,
       "version_minor": 0
      },
      "text/plain": [
       "Batches:   0%|          | 0/1 [00:00<?, ?it/s]"
      ]
     },
     "metadata": {},
     "output_type": "display_data"
    },
    {
     "data": {
      "application/vnd.jupyter.widget-view+json": {
       "model_id": "12a188a1a9af4164be92a5d9fd561f87",
       "version_major": 2,
       "version_minor": 0
      },
      "text/plain": [
       "Batches:   0%|          | 0/1 [00:00<?, ?it/s]"
      ]
     },
     "metadata": {},
     "output_type": "display_data"
    },
    {
     "data": {
      "application/vnd.jupyter.widget-view+json": {
       "model_id": "5cd46d331d494cee8c6d3e110a04c3d3",
       "version_major": 2,
       "version_minor": 0
      },
      "text/plain": [
       "Batches:   0%|          | 0/1 [00:00<?, ?it/s]"
      ]
     },
     "metadata": {},
     "output_type": "display_data"
    },
    {
     "data": {
      "application/vnd.jupyter.widget-view+json": {
       "model_id": "3bcc77332cc143c6aac6e72aa814d35e",
       "version_major": 2,
       "version_minor": 0
      },
      "text/plain": [
       "Batches:   0%|          | 0/1 [00:00<?, ?it/s]"
      ]
     },
     "metadata": {},
     "output_type": "display_data"
    },
    {
     "data": {
      "application/vnd.jupyter.widget-view+json": {
       "model_id": "fac25b88359b4b65b2cfadee3903c355",
       "version_major": 2,
       "version_minor": 0
      },
      "text/plain": [
       "Batches:   0%|          | 0/1 [00:00<?, ?it/s]"
      ]
     },
     "metadata": {},
     "output_type": "display_data"
    },
    {
     "data": {
      "application/vnd.jupyter.widget-view+json": {
       "model_id": "bde16515d06845afbf3d0d223bcf5889",
       "version_major": 2,
       "version_minor": 0
      },
      "text/plain": [
       "Batches:   0%|          | 0/1 [00:00<?, ?it/s]"
      ]
     },
     "metadata": {},
     "output_type": "display_data"
    },
    {
     "data": {
      "application/vnd.jupyter.widget-view+json": {
       "model_id": "99114a3764434965a6e2a7ed6cf29a6b",
       "version_major": 2,
       "version_minor": 0
      },
      "text/plain": [
       "Batches:   0%|          | 0/1 [00:00<?, ?it/s]"
      ]
     },
     "metadata": {},
     "output_type": "display_data"
    },
    {
     "data": {
      "application/vnd.jupyter.widget-view+json": {
       "model_id": "59e5f958218a46c699acf30c20b5bf2d",
       "version_major": 2,
       "version_minor": 0
      },
      "text/plain": [
       "Batches:   0%|          | 0/1 [00:00<?, ?it/s]"
      ]
     },
     "metadata": {},
     "output_type": "display_data"
    },
    {
     "data": {
      "application/vnd.jupyter.widget-view+json": {
       "model_id": "93db51ff8ed24a038ccd7bdf09b9565c",
       "version_major": 2,
       "version_minor": 0
      },
      "text/plain": [
       "Batches:   0%|          | 0/1 [00:00<?, ?it/s]"
      ]
     },
     "metadata": {},
     "output_type": "display_data"
    },
    {
     "data": {
      "application/vnd.jupyter.widget-view+json": {
       "model_id": "8c6bc59de5624d548cd36a92de47e5c2",
       "version_major": 2,
       "version_minor": 0
      },
      "text/plain": [
       "Batches:   0%|          | 0/1 [00:00<?, ?it/s]"
      ]
     },
     "metadata": {},
     "output_type": "display_data"
    },
    {
     "data": {
      "application/vnd.jupyter.widget-view+json": {
       "model_id": "71ae8859ba4643caae0856ad4aa89696",
       "version_major": 2,
       "version_minor": 0
      },
      "text/plain": [
       "Batches:   0%|          | 0/1 [00:00<?, ?it/s]"
      ]
     },
     "metadata": {},
     "output_type": "display_data"
    },
    {
     "data": {
      "application/vnd.jupyter.widget-view+json": {
       "model_id": "45065400b5a44f2aa1c887fb6e6419e5",
       "version_major": 2,
       "version_minor": 0
      },
      "text/plain": [
       "Batches:   0%|          | 0/1 [00:00<?, ?it/s]"
      ]
     },
     "metadata": {},
     "output_type": "display_data"
    },
    {
     "data": {
      "application/vnd.jupyter.widget-view+json": {
       "model_id": "2a2cc41f9a2a49d8b82574b1339d5982",
       "version_major": 2,
       "version_minor": 0
      },
      "text/plain": [
       "Batches:   0%|          | 0/1 [00:00<?, ?it/s]"
      ]
     },
     "metadata": {},
     "output_type": "display_data"
    },
    {
     "data": {
      "application/vnd.jupyter.widget-view+json": {
       "model_id": "6ab8c18fff93434b8481a43aa5accb2c",
       "version_major": 2,
       "version_minor": 0
      },
      "text/plain": [
       "Batches:   0%|          | 0/1 [00:00<?, ?it/s]"
      ]
     },
     "metadata": {},
     "output_type": "display_data"
    },
    {
     "data": {
      "application/vnd.jupyter.widget-view+json": {
       "model_id": "c388b3e5d07b4c8488dbb14bc080902c",
       "version_major": 2,
       "version_minor": 0
      },
      "text/plain": [
       "Batches:   0%|          | 0/1 [00:00<?, ?it/s]"
      ]
     },
     "metadata": {},
     "output_type": "display_data"
    },
    {
     "data": {
      "application/vnd.jupyter.widget-view+json": {
       "model_id": "3fd729b9e9f843049a3561dfecb39b01",
       "version_major": 2,
       "version_minor": 0
      },
      "text/plain": [
       "Batches:   0%|          | 0/1 [00:00<?, ?it/s]"
      ]
     },
     "metadata": {},
     "output_type": "display_data"
    },
    {
     "data": {
      "application/vnd.jupyter.widget-view+json": {
       "model_id": "b6b53d5d32d745df8fcc2b3f4bc5fb99",
       "version_major": 2,
       "version_minor": 0
      },
      "text/plain": [
       "Batches:   0%|          | 0/1 [00:00<?, ?it/s]"
      ]
     },
     "metadata": {},
     "output_type": "display_data"
    },
    {
     "data": {
      "application/vnd.jupyter.widget-view+json": {
       "model_id": "d9a4c57441844c919799d5688e49051a",
       "version_major": 2,
       "version_minor": 0
      },
      "text/plain": [
       "Batches:   0%|          | 0/1 [00:00<?, ?it/s]"
      ]
     },
     "metadata": {},
     "output_type": "display_data"
    },
    {
     "data": {
      "application/vnd.jupyter.widget-view+json": {
       "model_id": "bca61615e6f54d96890683e32f7a9663",
       "version_major": 2,
       "version_minor": 0
      },
      "text/plain": [
       "Batches:   0%|          | 0/1 [00:00<?, ?it/s]"
      ]
     },
     "metadata": {},
     "output_type": "display_data"
    },
    {
     "data": {
      "application/vnd.jupyter.widget-view+json": {
       "model_id": "939e91131260497ca3702eb76898ca3b",
       "version_major": 2,
       "version_minor": 0
      },
      "text/plain": [
       "Batches:   0%|          | 0/1 [00:00<?, ?it/s]"
      ]
     },
     "metadata": {},
     "output_type": "display_data"
    },
    {
     "data": {
      "application/vnd.jupyter.widget-view+json": {
       "model_id": "48848647fac745268ed2e8d5c1b98e54",
       "version_major": 2,
       "version_minor": 0
      },
      "text/plain": [
       "Batches:   0%|          | 0/1 [00:00<?, ?it/s]"
      ]
     },
     "metadata": {},
     "output_type": "display_data"
    },
    {
     "data": {
      "application/vnd.jupyter.widget-view+json": {
       "model_id": "ec157c328dfe4aacad7a5aa5502618eb",
       "version_major": 2,
       "version_minor": 0
      },
      "text/plain": [
       "Batches:   0%|          | 0/1 [00:00<?, ?it/s]"
      ]
     },
     "metadata": {},
     "output_type": "display_data"
    },
    {
     "data": {
      "application/vnd.jupyter.widget-view+json": {
       "model_id": "755f2bae81d44025945f405a8bef1022",
       "version_major": 2,
       "version_minor": 0
      },
      "text/plain": [
       "Batches:   0%|          | 0/1 [00:00<?, ?it/s]"
      ]
     },
     "metadata": {},
     "output_type": "display_data"
    },
    {
     "data": {
      "application/vnd.jupyter.widget-view+json": {
       "model_id": "b9bd1796d9a942aca4d5d3af2a92f665",
       "version_major": 2,
       "version_minor": 0
      },
      "text/plain": [
       "Batches:   0%|          | 0/1 [00:00<?, ?it/s]"
      ]
     },
     "metadata": {},
     "output_type": "display_data"
    },
    {
     "data": {
      "application/vnd.jupyter.widget-view+json": {
       "model_id": "56d5ae0277fe474cbb7c51e12f3cfc66",
       "version_major": 2,
       "version_minor": 0
      },
      "text/plain": [
       "Batches:   0%|          | 0/1 [00:00<?, ?it/s]"
      ]
     },
     "metadata": {},
     "output_type": "display_data"
    },
    {
     "data": {
      "application/vnd.jupyter.widget-view+json": {
       "model_id": "094ef5d260784205ad5e6410be922858",
       "version_major": 2,
       "version_minor": 0
      },
      "text/plain": [
       "Batches:   0%|          | 0/1 [00:00<?, ?it/s]"
      ]
     },
     "metadata": {},
     "output_type": "display_data"
    },
    {
     "data": {
      "application/vnd.jupyter.widget-view+json": {
       "model_id": "543194b1d7ce4eee8735305d09cb7cad",
       "version_major": 2,
       "version_minor": 0
      },
      "text/plain": [
       "Batches:   0%|          | 0/1 [00:00<?, ?it/s]"
      ]
     },
     "metadata": {},
     "output_type": "display_data"
    },
    {
     "data": {
      "application/vnd.jupyter.widget-view+json": {
       "model_id": "808e03dea9ed427cae2ab2d4fac985b7",
       "version_major": 2,
       "version_minor": 0
      },
      "text/plain": [
       "Batches:   0%|          | 0/1 [00:00<?, ?it/s]"
      ]
     },
     "metadata": {},
     "output_type": "display_data"
    },
    {
     "data": {
      "application/vnd.jupyter.widget-view+json": {
       "model_id": "cfd3e95c30304c309130822771f50312",
       "version_major": 2,
       "version_minor": 0
      },
      "text/plain": [
       "Batches:   0%|          | 0/1 [00:00<?, ?it/s]"
      ]
     },
     "metadata": {},
     "output_type": "display_data"
    },
    {
     "data": {
      "application/vnd.jupyter.widget-view+json": {
       "model_id": "6abf0972951d4c0e9b6004a48a23d9c9",
       "version_major": 2,
       "version_minor": 0
      },
      "text/plain": [
       "Batches:   0%|          | 0/1 [00:00<?, ?it/s]"
      ]
     },
     "metadata": {},
     "output_type": "display_data"
    },
    {
     "data": {
      "application/vnd.jupyter.widget-view+json": {
       "model_id": "18e7af277e824212a1a227506641f4fd",
       "version_major": 2,
       "version_minor": 0
      },
      "text/plain": [
       "Batches:   0%|          | 0/1 [00:00<?, ?it/s]"
      ]
     },
     "metadata": {},
     "output_type": "display_data"
    },
    {
     "data": {
      "application/vnd.jupyter.widget-view+json": {
       "model_id": "ebdcf207638549529e5ac7dddbfd4050",
       "version_major": 2,
       "version_minor": 0
      },
      "text/plain": [
       "Batches:   0%|          | 0/1 [00:00<?, ?it/s]"
      ]
     },
     "metadata": {},
     "output_type": "display_data"
    },
    {
     "data": {
      "application/vnd.jupyter.widget-view+json": {
       "model_id": "ba9bbdd5da63485f98469c318cc9827d",
       "version_major": 2,
       "version_minor": 0
      },
      "text/plain": [
       "Batches:   0%|          | 0/1 [00:00<?, ?it/s]"
      ]
     },
     "metadata": {},
     "output_type": "display_data"
    },
    {
     "data": {
      "application/vnd.jupyter.widget-view+json": {
       "model_id": "0080f14204ab466faa4a4faf64ae2e46",
       "version_major": 2,
       "version_minor": 0
      },
      "text/plain": [
       "Batches:   0%|          | 0/1 [00:00<?, ?it/s]"
      ]
     },
     "metadata": {},
     "output_type": "display_data"
    },
    {
     "data": {
      "application/vnd.jupyter.widget-view+json": {
       "model_id": "e2cb68225fb744cc920e88038daadae1",
       "version_major": 2,
       "version_minor": 0
      },
      "text/plain": [
       "Batches:   0%|          | 0/1 [00:00<?, ?it/s]"
      ]
     },
     "metadata": {},
     "output_type": "display_data"
    },
    {
     "data": {
      "application/vnd.jupyter.widget-view+json": {
       "model_id": "1fe79a2940754b10a728120bf63fe921",
       "version_major": 2,
       "version_minor": 0
      },
      "text/plain": [
       "Batches:   0%|          | 0/1 [00:00<?, ?it/s]"
      ]
     },
     "metadata": {},
     "output_type": "display_data"
    },
    {
     "data": {
      "application/vnd.jupyter.widget-view+json": {
       "model_id": "bdae5ed57aff42c692698a7c156a6a13",
       "version_major": 2,
       "version_minor": 0
      },
      "text/plain": [
       "Batches:   0%|          | 0/1 [00:00<?, ?it/s]"
      ]
     },
     "metadata": {},
     "output_type": "display_data"
    },
    {
     "data": {
      "application/vnd.jupyter.widget-view+json": {
       "model_id": "cb1ee5956e31431fbab82b3ad0e2c29b",
       "version_major": 2,
       "version_minor": 0
      },
      "text/plain": [
       "Batches:   0%|          | 0/1 [00:00<?, ?it/s]"
      ]
     },
     "metadata": {},
     "output_type": "display_data"
    },
    {
     "data": {
      "application/vnd.jupyter.widget-view+json": {
       "model_id": "db1103e704514c75beb33d10aae00031",
       "version_major": 2,
       "version_minor": 0
      },
      "text/plain": [
       "Batches:   0%|          | 0/1 [00:00<?, ?it/s]"
      ]
     },
     "metadata": {},
     "output_type": "display_data"
    },
    {
     "data": {
      "application/vnd.jupyter.widget-view+json": {
       "model_id": "8c6989838e93451dbae6af54388e8de0",
       "version_major": 2,
       "version_minor": 0
      },
      "text/plain": [
       "Batches:   0%|          | 0/1 [00:00<?, ?it/s]"
      ]
     },
     "metadata": {},
     "output_type": "display_data"
    },
    {
     "data": {
      "application/vnd.jupyter.widget-view+json": {
       "model_id": "2c1808d30e454966a603b31c42babdb4",
       "version_major": 2,
       "version_minor": 0
      },
      "text/plain": [
       "Batches:   0%|          | 0/1 [00:00<?, ?it/s]"
      ]
     },
     "metadata": {},
     "output_type": "display_data"
    },
    {
     "data": {
      "application/vnd.jupyter.widget-view+json": {
       "model_id": "552824d5ddf34eefa29e106ebbd95e2d",
       "version_major": 2,
       "version_minor": 0
      },
      "text/plain": [
       "Batches:   0%|          | 0/1 [00:00<?, ?it/s]"
      ]
     },
     "metadata": {},
     "output_type": "display_data"
    },
    {
     "data": {
      "application/vnd.jupyter.widget-view+json": {
       "model_id": "5019a905047548a3a267e880628f7488",
       "version_major": 2,
       "version_minor": 0
      },
      "text/plain": [
       "Batches:   0%|          | 0/1 [00:00<?, ?it/s]"
      ]
     },
     "metadata": {},
     "output_type": "display_data"
    },
    {
     "data": {
      "application/vnd.jupyter.widget-view+json": {
       "model_id": "ec633182738d4bfca5988c03b7a98e23",
       "version_major": 2,
       "version_minor": 0
      },
      "text/plain": [
       "Batches:   0%|          | 0/1 [00:00<?, ?it/s]"
      ]
     },
     "metadata": {},
     "output_type": "display_data"
    },
    {
     "data": {
      "application/vnd.jupyter.widget-view+json": {
       "model_id": "3d17a7171fdb4ef48dd01a05fb1af5b3",
       "version_major": 2,
       "version_minor": 0
      },
      "text/plain": [
       "Batches:   0%|          | 0/1 [00:00<?, ?it/s]"
      ]
     },
     "metadata": {},
     "output_type": "display_data"
    },
    {
     "data": {
      "application/vnd.jupyter.widget-view+json": {
       "model_id": "2f36c98d456f400288227088474b683c",
       "version_major": 2,
       "version_minor": 0
      },
      "text/plain": [
       "Batches:   0%|          | 0/1 [00:00<?, ?it/s]"
      ]
     },
     "metadata": {},
     "output_type": "display_data"
    },
    {
     "data": {
      "application/vnd.jupyter.widget-view+json": {
       "model_id": "28b9fd3194204cae83f8369725cc44eb",
       "version_major": 2,
       "version_minor": 0
      },
      "text/plain": [
       "Batches:   0%|          | 0/1 [00:00<?, ?it/s]"
      ]
     },
     "metadata": {},
     "output_type": "display_data"
    },
    {
     "data": {
      "application/vnd.jupyter.widget-view+json": {
       "model_id": "124a9a282de1493b964b2786acef4e86",
       "version_major": 2,
       "version_minor": 0
      },
      "text/plain": [
       "Batches:   0%|          | 0/1 [00:00<?, ?it/s]"
      ]
     },
     "metadata": {},
     "output_type": "display_data"
    },
    {
     "data": {
      "application/vnd.jupyter.widget-view+json": {
       "model_id": "96a2cc8f2dd349b5807b8ee1dc456fe3",
       "version_major": 2,
       "version_minor": 0
      },
      "text/plain": [
       "Batches:   0%|          | 0/1 [00:00<?, ?it/s]"
      ]
     },
     "metadata": {},
     "output_type": "display_data"
    },
    {
     "data": {
      "application/vnd.jupyter.widget-view+json": {
       "model_id": "cfac897282e24d7a840ed8e971c65a45",
       "version_major": 2,
       "version_minor": 0
      },
      "text/plain": [
       "Batches:   0%|          | 0/1 [00:00<?, ?it/s]"
      ]
     },
     "metadata": {},
     "output_type": "display_data"
    },
    {
     "data": {
      "application/vnd.jupyter.widget-view+json": {
       "model_id": "37724404ada045af871515f1a6213706",
       "version_major": 2,
       "version_minor": 0
      },
      "text/plain": [
       "Batches:   0%|          | 0/1 [00:00<?, ?it/s]"
      ]
     },
     "metadata": {},
     "output_type": "display_data"
    },
    {
     "data": {
      "application/vnd.jupyter.widget-view+json": {
       "model_id": "5948c5b9f3de4ee7a73c46a96b195710",
       "version_major": 2,
       "version_minor": 0
      },
      "text/plain": [
       "Batches:   0%|          | 0/1 [00:00<?, ?it/s]"
      ]
     },
     "metadata": {},
     "output_type": "display_data"
    },
    {
     "data": {
      "application/vnd.jupyter.widget-view+json": {
       "model_id": "aa9290b36583404488169634690f86cd",
       "version_major": 2,
       "version_minor": 0
      },
      "text/plain": [
       "Batches:   0%|          | 0/1 [00:00<?, ?it/s]"
      ]
     },
     "metadata": {},
     "output_type": "display_data"
    },
    {
     "data": {
      "application/vnd.jupyter.widget-view+json": {
       "model_id": "7f137fc14ae74940bf7aa46dfe663255",
       "version_major": 2,
       "version_minor": 0
      },
      "text/plain": [
       "Batches:   0%|          | 0/1 [00:00<?, ?it/s]"
      ]
     },
     "metadata": {},
     "output_type": "display_data"
    },
    {
     "data": {
      "application/vnd.jupyter.widget-view+json": {
       "model_id": "8fbe9d748c0c4a379f46c41ba17eee78",
       "version_major": 2,
       "version_minor": 0
      },
      "text/plain": [
       "Batches:   0%|          | 0/1 [00:00<?, ?it/s]"
      ]
     },
     "metadata": {},
     "output_type": "display_data"
    },
    {
     "data": {
      "application/vnd.jupyter.widget-view+json": {
       "model_id": "2e0a538ff3ab4205b7f8ca9f6a107783",
       "version_major": 2,
       "version_minor": 0
      },
      "text/plain": [
       "Batches:   0%|          | 0/1 [00:00<?, ?it/s]"
      ]
     },
     "metadata": {},
     "output_type": "display_data"
    },
    {
     "data": {
      "application/vnd.jupyter.widget-view+json": {
       "model_id": "3817843d21b043239e1ec1b34f86e223",
       "version_major": 2,
       "version_minor": 0
      },
      "text/plain": [
       "Batches:   0%|          | 0/1 [00:00<?, ?it/s]"
      ]
     },
     "metadata": {},
     "output_type": "display_data"
    },
    {
     "data": {
      "application/vnd.jupyter.widget-view+json": {
       "model_id": "143b4fb459e74c8bbd4759220e72f57e",
       "version_major": 2,
       "version_minor": 0
      },
      "text/plain": [
       "Batches:   0%|          | 0/1 [00:00<?, ?it/s]"
      ]
     },
     "metadata": {},
     "output_type": "display_data"
    },
    {
     "data": {
      "application/vnd.jupyter.widget-view+json": {
       "model_id": "e8cbb307eecd4af288e81a245030c6ea",
       "version_major": 2,
       "version_minor": 0
      },
      "text/plain": [
       "Batches:   0%|          | 0/1 [00:00<?, ?it/s]"
      ]
     },
     "metadata": {},
     "output_type": "display_data"
    },
    {
     "data": {
      "application/vnd.jupyter.widget-view+json": {
       "model_id": "90615e7e31054cf39bc1c8ac3249f9cc",
       "version_major": 2,
       "version_minor": 0
      },
      "text/plain": [
       "Batches:   0%|          | 0/1 [00:00<?, ?it/s]"
      ]
     },
     "metadata": {},
     "output_type": "display_data"
    },
    {
     "data": {
      "application/vnd.jupyter.widget-view+json": {
       "model_id": "ff3b8f7b5e954a2fa14acd84f643711a",
       "version_major": 2,
       "version_minor": 0
      },
      "text/plain": [
       "Batches:   0%|          | 0/1 [00:00<?, ?it/s]"
      ]
     },
     "metadata": {},
     "output_type": "display_data"
    },
    {
     "data": {
      "application/vnd.jupyter.widget-view+json": {
       "model_id": "c2a6cdc79abd4aa4b4345f72200feb97",
       "version_major": 2,
       "version_minor": 0
      },
      "text/plain": [
       "Batches:   0%|          | 0/1 [00:00<?, ?it/s]"
      ]
     },
     "metadata": {},
     "output_type": "display_data"
    },
    {
     "data": {
      "application/vnd.jupyter.widget-view+json": {
       "model_id": "7fe14af72ed64232a528ab1872d4e58d",
       "version_major": 2,
       "version_minor": 0
      },
      "text/plain": [
       "Batches:   0%|          | 0/1 [00:00<?, ?it/s]"
      ]
     },
     "metadata": {},
     "output_type": "display_data"
    },
    {
     "data": {
      "application/vnd.jupyter.widget-view+json": {
       "model_id": "a63aa79916214a5297997c8ef06e7ee4",
       "version_major": 2,
       "version_minor": 0
      },
      "text/plain": [
       "Batches:   0%|          | 0/1 [00:00<?, ?it/s]"
      ]
     },
     "metadata": {},
     "output_type": "display_data"
    },
    {
     "data": {
      "application/vnd.jupyter.widget-view+json": {
       "model_id": "c477bb9a4c294bb4b1c8a27fa99f15a5",
       "version_major": 2,
       "version_minor": 0
      },
      "text/plain": [
       "Batches:   0%|          | 0/1 [00:00<?, ?it/s]"
      ]
     },
     "metadata": {},
     "output_type": "display_data"
    },
    {
     "data": {
      "application/vnd.jupyter.widget-view+json": {
       "model_id": "6e126d8e9dd24fa0969cb0e36579806c",
       "version_major": 2,
       "version_minor": 0
      },
      "text/plain": [
       "Batches:   0%|          | 0/1 [00:00<?, ?it/s]"
      ]
     },
     "metadata": {},
     "output_type": "display_data"
    },
    {
     "data": {
      "application/vnd.jupyter.widget-view+json": {
       "model_id": "04877dcd9cd64cc893f3cb13c9e7b6e2",
       "version_major": 2,
       "version_minor": 0
      },
      "text/plain": [
       "Batches:   0%|          | 0/1 [00:00<?, ?it/s]"
      ]
     },
     "metadata": {},
     "output_type": "display_data"
    },
    {
     "data": {
      "application/vnd.jupyter.widget-view+json": {
       "model_id": "7386d7554d25460eb54f65bab6f53268",
       "version_major": 2,
       "version_minor": 0
      },
      "text/plain": [
       "Batches:   0%|          | 0/1 [00:00<?, ?it/s]"
      ]
     },
     "metadata": {},
     "output_type": "display_data"
    },
    {
     "data": {
      "application/vnd.jupyter.widget-view+json": {
       "model_id": "81ef4b2e75384b6db3a6f5121150928d",
       "version_major": 2,
       "version_minor": 0
      },
      "text/plain": [
       "Batches:   0%|          | 0/1 [00:00<?, ?it/s]"
      ]
     },
     "metadata": {},
     "output_type": "display_data"
    },
    {
     "data": {
      "application/vnd.jupyter.widget-view+json": {
       "model_id": "0b8cd5c1ad2e4cd883994a8a6ae787e7",
       "version_major": 2,
       "version_minor": 0
      },
      "text/plain": [
       "Batches:   0%|          | 0/1 [00:00<?, ?it/s]"
      ]
     },
     "metadata": {},
     "output_type": "display_data"
    },
    {
     "data": {
      "application/vnd.jupyter.widget-view+json": {
       "model_id": "4920bac0fd19461eb318dbf6677e90ba",
       "version_major": 2,
       "version_minor": 0
      },
      "text/plain": [
       "Batches:   0%|          | 0/1 [00:00<?, ?it/s]"
      ]
     },
     "metadata": {},
     "output_type": "display_data"
    },
    {
     "data": {
      "application/vnd.jupyter.widget-view+json": {
       "model_id": "78242961ce66454eaaa2de400dba5804",
       "version_major": 2,
       "version_minor": 0
      },
      "text/plain": [
       "Batches:   0%|          | 0/1 [00:00<?, ?it/s]"
      ]
     },
     "metadata": {},
     "output_type": "display_data"
    },
    {
     "data": {
      "application/vnd.jupyter.widget-view+json": {
       "model_id": "2bddc5c83d5b4910bfc2e8811cd6691b",
       "version_major": 2,
       "version_minor": 0
      },
      "text/plain": [
       "Batches:   0%|          | 0/1 [00:00<?, ?it/s]"
      ]
     },
     "metadata": {},
     "output_type": "display_data"
    },
    {
     "data": {
      "application/vnd.jupyter.widget-view+json": {
       "model_id": "ca785020520b4538b9be78e38ba5f400",
       "version_major": 2,
       "version_minor": 0
      },
      "text/plain": [
       "Batches:   0%|          | 0/1 [00:00<?, ?it/s]"
      ]
     },
     "metadata": {},
     "output_type": "display_data"
    },
    {
     "data": {
      "application/vnd.jupyter.widget-view+json": {
       "model_id": "218f9b177dc045ac9905fa17a92b87f5",
       "version_major": 2,
       "version_minor": 0
      },
      "text/plain": [
       "Batches:   0%|          | 0/1 [00:00<?, ?it/s]"
      ]
     },
     "metadata": {},
     "output_type": "display_data"
    },
    {
     "data": {
      "application/vnd.jupyter.widget-view+json": {
       "model_id": "580c9ea9a00e490c8eab591ee13fbfdd",
       "version_major": 2,
       "version_minor": 0
      },
      "text/plain": [
       "Batches:   0%|          | 0/1 [00:00<?, ?it/s]"
      ]
     },
     "metadata": {},
     "output_type": "display_data"
    },
    {
     "data": {
      "application/vnd.jupyter.widget-view+json": {
       "model_id": "254ec401b8ea48d696fc667b23633cee",
       "version_major": 2,
       "version_minor": 0
      },
      "text/plain": [
       "Batches:   0%|          | 0/1 [00:00<?, ?it/s]"
      ]
     },
     "metadata": {},
     "output_type": "display_data"
    },
    {
     "data": {
      "application/vnd.jupyter.widget-view+json": {
       "model_id": "a66b507bd91c407397283fc162b09000",
       "version_major": 2,
       "version_minor": 0
      },
      "text/plain": [
       "Batches:   0%|          | 0/1 [00:00<?, ?it/s]"
      ]
     },
     "metadata": {},
     "output_type": "display_data"
    },
    {
     "data": {
      "application/vnd.jupyter.widget-view+json": {
       "model_id": "24e1df2a9b4b44dbbc320dd6ebdd2adb",
       "version_major": 2,
       "version_minor": 0
      },
      "text/plain": [
       "Batches:   0%|          | 0/1 [00:00<?, ?it/s]"
      ]
     },
     "metadata": {},
     "output_type": "display_data"
    },
    {
     "data": {
      "application/vnd.jupyter.widget-view+json": {
       "model_id": "de8425c9c5aa484dad08af129f527f94",
       "version_major": 2,
       "version_minor": 0
      },
      "text/plain": [
       "Batches:   0%|          | 0/1 [00:00<?, ?it/s]"
      ]
     },
     "metadata": {},
     "output_type": "display_data"
    },
    {
     "data": {
      "application/vnd.jupyter.widget-view+json": {
       "model_id": "6941f1ac8fd3433a992591ef375c1e0f",
       "version_major": 2,
       "version_minor": 0
      },
      "text/plain": [
       "Batches:   0%|          | 0/1 [00:00<?, ?it/s]"
      ]
     },
     "metadata": {},
     "output_type": "display_data"
    },
    {
     "data": {
      "application/vnd.jupyter.widget-view+json": {
       "model_id": "c840e07f8ff943cdb4496849fbb66b51",
       "version_major": 2,
       "version_minor": 0
      },
      "text/plain": [
       "Batches:   0%|          | 0/1 [00:00<?, ?it/s]"
      ]
     },
     "metadata": {},
     "output_type": "display_data"
    },
    {
     "data": {
      "application/vnd.jupyter.widget-view+json": {
       "model_id": "d44ae4412c0e488cad9da22dcd8960cd",
       "version_major": 2,
       "version_minor": 0
      },
      "text/plain": [
       "Batches:   0%|          | 0/1 [00:00<?, ?it/s]"
      ]
     },
     "metadata": {},
     "output_type": "display_data"
    },
    {
     "data": {
      "application/vnd.jupyter.widget-view+json": {
       "model_id": "b6ab4a4d76124f619432d36fefc44982",
       "version_major": 2,
       "version_minor": 0
      },
      "text/plain": [
       "Batches:   0%|          | 0/1 [00:00<?, ?it/s]"
      ]
     },
     "metadata": {},
     "output_type": "display_data"
    },
    {
     "data": {
      "application/vnd.jupyter.widget-view+json": {
       "model_id": "0767f5ad216e499597c4cd7f5efa62fa",
       "version_major": 2,
       "version_minor": 0
      },
      "text/plain": [
       "Batches:   0%|          | 0/1 [00:00<?, ?it/s]"
      ]
     },
     "metadata": {},
     "output_type": "display_data"
    },
    {
     "data": {
      "application/vnd.jupyter.widget-view+json": {
       "model_id": "0ff32eedab224990a8c154c20d6e1336",
       "version_major": 2,
       "version_minor": 0
      },
      "text/plain": [
       "Batches:   0%|          | 0/1 [00:00<?, ?it/s]"
      ]
     },
     "metadata": {},
     "output_type": "display_data"
    },
    {
     "data": {
      "application/vnd.jupyter.widget-view+json": {
       "model_id": "57cfed5d54304982a70d9ac135eaead7",
       "version_major": 2,
       "version_minor": 0
      },
      "text/plain": [
       "Batches:   0%|          | 0/1 [00:00<?, ?it/s]"
      ]
     },
     "metadata": {},
     "output_type": "display_data"
    },
    {
     "data": {
      "application/vnd.jupyter.widget-view+json": {
       "model_id": "3bbac5a73c0340a6a18f57998ce293dc",
       "version_major": 2,
       "version_minor": 0
      },
      "text/plain": [
       "Batches:   0%|          | 0/1 [00:00<?, ?it/s]"
      ]
     },
     "metadata": {},
     "output_type": "display_data"
    },
    {
     "data": {
      "application/vnd.jupyter.widget-view+json": {
       "model_id": "93a883ab8c9e4213bebaa68d91fa2812",
       "version_major": 2,
       "version_minor": 0
      },
      "text/plain": [
       "Batches:   0%|          | 0/1 [00:00<?, ?it/s]"
      ]
     },
     "metadata": {},
     "output_type": "display_data"
    },
    {
     "data": {
      "application/vnd.jupyter.widget-view+json": {
       "model_id": "e0d7886e8c5a403598aa98d42189351a",
       "version_major": 2,
       "version_minor": 0
      },
      "text/plain": [
       "Batches:   0%|          | 0/1 [00:00<?, ?it/s]"
      ]
     },
     "metadata": {},
     "output_type": "display_data"
    },
    {
     "data": {
      "application/vnd.jupyter.widget-view+json": {
       "model_id": "0c10df8c268b485e85c683caf4217df7",
       "version_major": 2,
       "version_minor": 0
      },
      "text/plain": [
       "Batches:   0%|          | 0/1 [00:00<?, ?it/s]"
      ]
     },
     "metadata": {},
     "output_type": "display_data"
    },
    {
     "data": {
      "application/vnd.jupyter.widget-view+json": {
       "model_id": "750697cd029b4f9885fe2c2c97d1c29b",
       "version_major": 2,
       "version_minor": 0
      },
      "text/plain": [
       "Batches:   0%|          | 0/1 [00:00<?, ?it/s]"
      ]
     },
     "metadata": {},
     "output_type": "display_data"
    },
    {
     "data": {
      "application/vnd.jupyter.widget-view+json": {
       "model_id": "c134d8b97f454b229a3379d55cdaae58",
       "version_major": 2,
       "version_minor": 0
      },
      "text/plain": [
       "Batches:   0%|          | 0/1 [00:00<?, ?it/s]"
      ]
     },
     "metadata": {},
     "output_type": "display_data"
    },
    {
     "data": {
      "application/vnd.jupyter.widget-view+json": {
       "model_id": "2d9c638633b849eeb9489e9f998d86c4",
       "version_major": 2,
       "version_minor": 0
      },
      "text/plain": [
       "Batches:   0%|          | 0/1 [00:00<?, ?it/s]"
      ]
     },
     "metadata": {},
     "output_type": "display_data"
    },
    {
     "data": {
      "application/vnd.jupyter.widget-view+json": {
       "model_id": "95aa68d86df54be6a28b17c6920e8238",
       "version_major": 2,
       "version_minor": 0
      },
      "text/plain": [
       "Batches:   0%|          | 0/1 [00:00<?, ?it/s]"
      ]
     },
     "metadata": {},
     "output_type": "display_data"
    },
    {
     "data": {
      "application/vnd.jupyter.widget-view+json": {
       "model_id": "10bc352de07a4b7790a26849353123ef",
       "version_major": 2,
       "version_minor": 0
      },
      "text/plain": [
       "Batches:   0%|          | 0/1 [00:00<?, ?it/s]"
      ]
     },
     "metadata": {},
     "output_type": "display_data"
    },
    {
     "data": {
      "application/vnd.jupyter.widget-view+json": {
       "model_id": "3e33c31f4a7b48ea9c1050ab85d51b77",
       "version_major": 2,
       "version_minor": 0
      },
      "text/plain": [
       "Batches:   0%|          | 0/1 [00:00<?, ?it/s]"
      ]
     },
     "metadata": {},
     "output_type": "display_data"
    },
    {
     "data": {
      "application/vnd.jupyter.widget-view+json": {
       "model_id": "64b27a54860d49759bc90152bf61ce94",
       "version_major": 2,
       "version_minor": 0
      },
      "text/plain": [
       "Batches:   0%|          | 0/1 [00:00<?, ?it/s]"
      ]
     },
     "metadata": {},
     "output_type": "display_data"
    },
    {
     "data": {
      "application/vnd.jupyter.widget-view+json": {
       "model_id": "9c22c6ff6eb3461ea3969ea4597e2767",
       "version_major": 2,
       "version_minor": 0
      },
      "text/plain": [
       "Batches:   0%|          | 0/1 [00:00<?, ?it/s]"
      ]
     },
     "metadata": {},
     "output_type": "display_data"
    },
    {
     "data": {
      "application/vnd.jupyter.widget-view+json": {
       "model_id": "e734355498c14b44b6e7e4e13fba49ec",
       "version_major": 2,
       "version_minor": 0
      },
      "text/plain": [
       "Batches:   0%|          | 0/1 [00:00<?, ?it/s]"
      ]
     },
     "metadata": {},
     "output_type": "display_data"
    },
    {
     "data": {
      "application/vnd.jupyter.widget-view+json": {
       "model_id": "7864f09cf03d425cb1e3c1bc3adc0db0",
       "version_major": 2,
       "version_minor": 0
      },
      "text/plain": [
       "Batches:   0%|          | 0/1 [00:00<?, ?it/s]"
      ]
     },
     "metadata": {},
     "output_type": "display_data"
    },
    {
     "data": {
      "application/vnd.jupyter.widget-view+json": {
       "model_id": "306553a389ac4205a0cc2cf7f4b1ad29",
       "version_major": 2,
       "version_minor": 0
      },
      "text/plain": [
       "Batches:   0%|          | 0/1 [00:00<?, ?it/s]"
      ]
     },
     "metadata": {},
     "output_type": "display_data"
    },
    {
     "data": {
      "application/vnd.jupyter.widget-view+json": {
       "model_id": "c96da123a2dd4c4aad559ddbead8a410",
       "version_major": 2,
       "version_minor": 0
      },
      "text/plain": [
       "Batches:   0%|          | 0/1 [00:00<?, ?it/s]"
      ]
     },
     "metadata": {},
     "output_type": "display_data"
    },
    {
     "data": {
      "application/vnd.jupyter.widget-view+json": {
       "model_id": "4677c12f4c9e4d01a88aa87da61a7f94",
       "version_major": 2,
       "version_minor": 0
      },
      "text/plain": [
       "Batches:   0%|          | 0/1 [00:00<?, ?it/s]"
      ]
     },
     "metadata": {},
     "output_type": "display_data"
    },
    {
     "data": {
      "application/vnd.jupyter.widget-view+json": {
       "model_id": "88ee2c14fca4476b9b5f912b2ad00971",
       "version_major": 2,
       "version_minor": 0
      },
      "text/plain": [
       "Batches:   0%|          | 0/1 [00:00<?, ?it/s]"
      ]
     },
     "metadata": {},
     "output_type": "display_data"
    },
    {
     "data": {
      "application/vnd.jupyter.widget-view+json": {
       "model_id": "04009cb4876e4e0aa62320c6d71bbf4f",
       "version_major": 2,
       "version_minor": 0
      },
      "text/plain": [
       "Batches:   0%|          | 0/1 [00:00<?, ?it/s]"
      ]
     },
     "metadata": {},
     "output_type": "display_data"
    },
    {
     "data": {
      "application/vnd.jupyter.widget-view+json": {
       "model_id": "b3d6cc29973a42e9a4a4e02147185278",
       "version_major": 2,
       "version_minor": 0
      },
      "text/plain": [
       "Batches:   0%|          | 0/1 [00:00<?, ?it/s]"
      ]
     },
     "metadata": {},
     "output_type": "display_data"
    },
    {
     "data": {
      "application/vnd.jupyter.widget-view+json": {
       "model_id": "a2e5a10ff7f24544b57ed438154e6ff0",
       "version_major": 2,
       "version_minor": 0
      },
      "text/plain": [
       "Batches:   0%|          | 0/1 [00:00<?, ?it/s]"
      ]
     },
     "metadata": {},
     "output_type": "display_data"
    },
    {
     "data": {
      "application/vnd.jupyter.widget-view+json": {
       "model_id": "9f736dc38e444575926f8b14628a4494",
       "version_major": 2,
       "version_minor": 0
      },
      "text/plain": [
       "Batches:   0%|          | 0/1 [00:00<?, ?it/s]"
      ]
     },
     "metadata": {},
     "output_type": "display_data"
    },
    {
     "data": {
      "application/vnd.jupyter.widget-view+json": {
       "model_id": "2ee2ffeaaf2e463f9a54c7e40c33bb9a",
       "version_major": 2,
       "version_minor": 0
      },
      "text/plain": [
       "Batches:   0%|          | 0/1 [00:00<?, ?it/s]"
      ]
     },
     "metadata": {},
     "output_type": "display_data"
    },
    {
     "data": {
      "application/vnd.jupyter.widget-view+json": {
       "model_id": "add2aaeb27cd4c84a71cdfa3aba0bda5",
       "version_major": 2,
       "version_minor": 0
      },
      "text/plain": [
       "Batches:   0%|          | 0/1 [00:00<?, ?it/s]"
      ]
     },
     "metadata": {},
     "output_type": "display_data"
    },
    {
     "data": {
      "application/vnd.jupyter.widget-view+json": {
       "model_id": "99a613ed4a114904a6d49923ef44e1c0",
       "version_major": 2,
       "version_minor": 0
      },
      "text/plain": [
       "Batches:   0%|          | 0/1 [00:00<?, ?it/s]"
      ]
     },
     "metadata": {},
     "output_type": "display_data"
    },
    {
     "data": {
      "application/vnd.jupyter.widget-view+json": {
       "model_id": "46649ff5cb7145c98118aefd78429960",
       "version_major": 2,
       "version_minor": 0
      },
      "text/plain": [
       "Batches:   0%|          | 0/1 [00:00<?, ?it/s]"
      ]
     },
     "metadata": {},
     "output_type": "display_data"
    },
    {
     "data": {
      "application/vnd.jupyter.widget-view+json": {
       "model_id": "a7adfe82ec6f4648a91d7dfabc3010b1",
       "version_major": 2,
       "version_minor": 0
      },
      "text/plain": [
       "Batches:   0%|          | 0/1 [00:00<?, ?it/s]"
      ]
     },
     "metadata": {},
     "output_type": "display_data"
    },
    {
     "data": {
      "application/vnd.jupyter.widget-view+json": {
       "model_id": "b0c88c699f51491481baa53762729513",
       "version_major": 2,
       "version_minor": 0
      },
      "text/plain": [
       "Batches:   0%|          | 0/1 [00:00<?, ?it/s]"
      ]
     },
     "metadata": {},
     "output_type": "display_data"
    },
    {
     "data": {
      "application/vnd.jupyter.widget-view+json": {
       "model_id": "90942e1d43f542a8b33bff03f8aa7f8c",
       "version_major": 2,
       "version_minor": 0
      },
      "text/plain": [
       "Batches:   0%|          | 0/1 [00:00<?, ?it/s]"
      ]
     },
     "metadata": {},
     "output_type": "display_data"
    },
    {
     "data": {
      "application/vnd.jupyter.widget-view+json": {
       "model_id": "25f3bbd9defb46cdb45e2f2d72020be1",
       "version_major": 2,
       "version_minor": 0
      },
      "text/plain": [
       "Batches:   0%|          | 0/1 [00:00<?, ?it/s]"
      ]
     },
     "metadata": {},
     "output_type": "display_data"
    },
    {
     "data": {
      "application/vnd.jupyter.widget-view+json": {
       "model_id": "0bb38900286c422ebace29933d1a3631",
       "version_major": 2,
       "version_minor": 0
      },
      "text/plain": [
       "Batches:   0%|          | 0/1 [00:00<?, ?it/s]"
      ]
     },
     "metadata": {},
     "output_type": "display_data"
    },
    {
     "data": {
      "application/vnd.jupyter.widget-view+json": {
       "model_id": "1b66fddc93b44422a2ecb320de3072fc",
       "version_major": 2,
       "version_minor": 0
      },
      "text/plain": [
       "Batches:   0%|          | 0/1 [00:00<?, ?it/s]"
      ]
     },
     "metadata": {},
     "output_type": "display_data"
    },
    {
     "data": {
      "application/vnd.jupyter.widget-view+json": {
       "model_id": "a87fe7936f804557840e61c272469d54",
       "version_major": 2,
       "version_minor": 0
      },
      "text/plain": [
       "Batches:   0%|          | 0/1 [00:00<?, ?it/s]"
      ]
     },
     "metadata": {},
     "output_type": "display_data"
    },
    {
     "data": {
      "application/vnd.jupyter.widget-view+json": {
       "model_id": "f05c5798e9334050bfabbf3356ffc717",
       "version_major": 2,
       "version_minor": 0
      },
      "text/plain": [
       "Batches:   0%|          | 0/1 [00:00<?, ?it/s]"
      ]
     },
     "metadata": {},
     "output_type": "display_data"
    },
    {
     "data": {
      "application/vnd.jupyter.widget-view+json": {
       "model_id": "cbb1b0a0ccd643f89f90131ee7765a10",
       "version_major": 2,
       "version_minor": 0
      },
      "text/plain": [
       "Batches:   0%|          | 0/1 [00:00<?, ?it/s]"
      ]
     },
     "metadata": {},
     "output_type": "display_data"
    },
    {
     "data": {
      "application/vnd.jupyter.widget-view+json": {
       "model_id": "d52d0b285ab34ad79b2f0887c7509cbc",
       "version_major": 2,
       "version_minor": 0
      },
      "text/plain": [
       "Batches:   0%|          | 0/1 [00:00<?, ?it/s]"
      ]
     },
     "metadata": {},
     "output_type": "display_data"
    },
    {
     "data": {
      "application/vnd.jupyter.widget-view+json": {
       "model_id": "5862a72afe4c4ca6b5371dabf29056aa",
       "version_major": 2,
       "version_minor": 0
      },
      "text/plain": [
       "Batches:   0%|          | 0/1 [00:00<?, ?it/s]"
      ]
     },
     "metadata": {},
     "output_type": "display_data"
    },
    {
     "data": {
      "application/vnd.jupyter.widget-view+json": {
       "model_id": "66c448cd1a9d4c3ea7836af80456427b",
       "version_major": 2,
       "version_minor": 0
      },
      "text/plain": [
       "Batches:   0%|          | 0/1 [00:00<?, ?it/s]"
      ]
     },
     "metadata": {},
     "output_type": "display_data"
    },
    {
     "data": {
      "application/vnd.jupyter.widget-view+json": {
       "model_id": "3bce450b8a7547a086733d6376cbaece",
       "version_major": 2,
       "version_minor": 0
      },
      "text/plain": [
       "Batches:   0%|          | 0/1 [00:00<?, ?it/s]"
      ]
     },
     "metadata": {},
     "output_type": "display_data"
    },
    {
     "data": {
      "application/vnd.jupyter.widget-view+json": {
       "model_id": "f8cae186964f444ebbd9f369d2c7b488",
       "version_major": 2,
       "version_minor": 0
      },
      "text/plain": [
       "Batches:   0%|          | 0/1 [00:00<?, ?it/s]"
      ]
     },
     "metadata": {},
     "output_type": "display_data"
    },
    {
     "data": {
      "application/vnd.jupyter.widget-view+json": {
       "model_id": "6e4a6db9686e4e0a839201e953735c3c",
       "version_major": 2,
       "version_minor": 0
      },
      "text/plain": [
       "Batches:   0%|          | 0/1 [00:00<?, ?it/s]"
      ]
     },
     "metadata": {},
     "output_type": "display_data"
    },
    {
     "data": {
      "application/vnd.jupyter.widget-view+json": {
       "model_id": "b8062b3ecf6c4aab849d88d00d914161",
       "version_major": 2,
       "version_minor": 0
      },
      "text/plain": [
       "Batches:   0%|          | 0/1 [00:00<?, ?it/s]"
      ]
     },
     "metadata": {},
     "output_type": "display_data"
    },
    {
     "data": {
      "application/vnd.jupyter.widget-view+json": {
       "model_id": "7956dd0c9e974e689b0662042c5fbd0f",
       "version_major": 2,
       "version_minor": 0
      },
      "text/plain": [
       "Batches:   0%|          | 0/1 [00:00<?, ?it/s]"
      ]
     },
     "metadata": {},
     "output_type": "display_data"
    },
    {
     "data": {
      "application/vnd.jupyter.widget-view+json": {
       "model_id": "4a2f26cbbce649d3bd81acc257b0f2fa",
       "version_major": 2,
       "version_minor": 0
      },
      "text/plain": [
       "Batches:   0%|          | 0/1 [00:00<?, ?it/s]"
      ]
     },
     "metadata": {},
     "output_type": "display_data"
    },
    {
     "data": {
      "application/vnd.jupyter.widget-view+json": {
       "model_id": "b24b6ae9a3584758befd074a4781054d",
       "version_major": 2,
       "version_minor": 0
      },
      "text/plain": [
       "Batches:   0%|          | 0/1 [00:00<?, ?it/s]"
      ]
     },
     "metadata": {},
     "output_type": "display_data"
    },
    {
     "data": {
      "application/vnd.jupyter.widget-view+json": {
       "model_id": "915ab10deee6450d8422975c7730106a",
       "version_major": 2,
       "version_minor": 0
      },
      "text/plain": [
       "Batches:   0%|          | 0/1 [00:00<?, ?it/s]"
      ]
     },
     "metadata": {},
     "output_type": "display_data"
    },
    {
     "data": {
      "application/vnd.jupyter.widget-view+json": {
       "model_id": "d18abcf0520b441fbb4c9f86dea4d576",
       "version_major": 2,
       "version_minor": 0
      },
      "text/plain": [
       "Batches:   0%|          | 0/1 [00:00<?, ?it/s]"
      ]
     },
     "metadata": {},
     "output_type": "display_data"
    },
    {
     "data": {
      "application/vnd.jupyter.widget-view+json": {
       "model_id": "00d807cad9e347e3850c250c55321a87",
       "version_major": 2,
       "version_minor": 0
      },
      "text/plain": [
       "Batches:   0%|          | 0/1 [00:00<?, ?it/s]"
      ]
     },
     "metadata": {},
     "output_type": "display_data"
    },
    {
     "data": {
      "application/vnd.jupyter.widget-view+json": {
       "model_id": "d37e65ed17c6474abad897b613988810",
       "version_major": 2,
       "version_minor": 0
      },
      "text/plain": [
       "Batches:   0%|          | 0/1 [00:00<?, ?it/s]"
      ]
     },
     "metadata": {},
     "output_type": "display_data"
    },
    {
     "data": {
      "application/vnd.jupyter.widget-view+json": {
       "model_id": "5b5de3ed172443638d48c0b83a94fd87",
       "version_major": 2,
       "version_minor": 0
      },
      "text/plain": [
       "Batches:   0%|          | 0/1 [00:00<?, ?it/s]"
      ]
     },
     "metadata": {},
     "output_type": "display_data"
    },
    {
     "data": {
      "application/vnd.jupyter.widget-view+json": {
       "model_id": "01b2ab0bd2a5427492c403d870134346",
       "version_major": 2,
       "version_minor": 0
      },
      "text/plain": [
       "Batches:   0%|          | 0/1 [00:00<?, ?it/s]"
      ]
     },
     "metadata": {},
     "output_type": "display_data"
    },
    {
     "data": {
      "application/vnd.jupyter.widget-view+json": {
       "model_id": "ed9a314195be410e9adcd84f18663ed5",
       "version_major": 2,
       "version_minor": 0
      },
      "text/plain": [
       "Batches:   0%|          | 0/1 [00:00<?, ?it/s]"
      ]
     },
     "metadata": {},
     "output_type": "display_data"
    },
    {
     "data": {
      "application/vnd.jupyter.widget-view+json": {
       "model_id": "bd372d0fbc8e46c896d0ea625f4497e2",
       "version_major": 2,
       "version_minor": 0
      },
      "text/plain": [
       "Batches:   0%|          | 0/1 [00:00<?, ?it/s]"
      ]
     },
     "metadata": {},
     "output_type": "display_data"
    },
    {
     "data": {
      "application/vnd.jupyter.widget-view+json": {
       "model_id": "b577f906bc7d49229ac3a5afe84d0bd3",
       "version_major": 2,
       "version_minor": 0
      },
      "text/plain": [
       "Batches:   0%|          | 0/1 [00:00<?, ?it/s]"
      ]
     },
     "metadata": {},
     "output_type": "display_data"
    },
    {
     "data": {
      "application/vnd.jupyter.widget-view+json": {
       "model_id": "f6ef77749cd441a2b2cdf0365027dfd9",
       "version_major": 2,
       "version_minor": 0
      },
      "text/plain": [
       "Batches:   0%|          | 0/1 [00:00<?, ?it/s]"
      ]
     },
     "metadata": {},
     "output_type": "display_data"
    },
    {
     "data": {
      "application/vnd.jupyter.widget-view+json": {
       "model_id": "4a7ae0c22a57468287c713126c4ceab3",
       "version_major": 2,
       "version_minor": 0
      },
      "text/plain": [
       "Batches:   0%|          | 0/1 [00:00<?, ?it/s]"
      ]
     },
     "metadata": {},
     "output_type": "display_data"
    },
    {
     "data": {
      "application/vnd.jupyter.widget-view+json": {
       "model_id": "10dc79d1121c494087ba828ba128b84c",
       "version_major": 2,
       "version_minor": 0
      },
      "text/plain": [
       "Batches:   0%|          | 0/1 [00:00<?, ?it/s]"
      ]
     },
     "metadata": {},
     "output_type": "display_data"
    },
    {
     "data": {
      "application/vnd.jupyter.widget-view+json": {
       "model_id": "96c9227dab094a0d92ab4500560e9343",
       "version_major": 2,
       "version_minor": 0
      },
      "text/plain": [
       "Batches:   0%|          | 0/1 [00:00<?, ?it/s]"
      ]
     },
     "metadata": {},
     "output_type": "display_data"
    },
    {
     "data": {
      "application/vnd.jupyter.widget-view+json": {
       "model_id": "c401de9cf4214ba4abe2f60e1d488031",
       "version_major": 2,
       "version_minor": 0
      },
      "text/plain": [
       "Batches:   0%|          | 0/1 [00:00<?, ?it/s]"
      ]
     },
     "metadata": {},
     "output_type": "display_data"
    },
    {
     "data": {
      "application/vnd.jupyter.widget-view+json": {
       "model_id": "0ee77a91702347a693d81ea28e4f844f",
       "version_major": 2,
       "version_minor": 0
      },
      "text/plain": [
       "Batches:   0%|          | 0/1 [00:00<?, ?it/s]"
      ]
     },
     "metadata": {},
     "output_type": "display_data"
    },
    {
     "data": {
      "application/vnd.jupyter.widget-view+json": {
       "model_id": "95eaeb93dd454ffaabe7071f58f19ff3",
       "version_major": 2,
       "version_minor": 0
      },
      "text/plain": [
       "Batches:   0%|          | 0/1 [00:00<?, ?it/s]"
      ]
     },
     "metadata": {},
     "output_type": "display_data"
    },
    {
     "data": {
      "application/vnd.jupyter.widget-view+json": {
       "model_id": "2cd822969c2b4371bd9cac05e0c54043",
       "version_major": 2,
       "version_minor": 0
      },
      "text/plain": [
       "Batches:   0%|          | 0/1 [00:00<?, ?it/s]"
      ]
     },
     "metadata": {},
     "output_type": "display_data"
    },
    {
     "data": {
      "application/vnd.jupyter.widget-view+json": {
       "model_id": "8cba6bdc38b54506a23e1ca7da25abb7",
       "version_major": 2,
       "version_minor": 0
      },
      "text/plain": [
       "Batches:   0%|          | 0/1 [00:00<?, ?it/s]"
      ]
     },
     "metadata": {},
     "output_type": "display_data"
    },
    {
     "data": {
      "application/vnd.jupyter.widget-view+json": {
       "model_id": "625344907a3240059885540961835ddd",
       "version_major": 2,
       "version_minor": 0
      },
      "text/plain": [
       "Batches:   0%|          | 0/1 [00:00<?, ?it/s]"
      ]
     },
     "metadata": {},
     "output_type": "display_data"
    },
    {
     "data": {
      "application/vnd.jupyter.widget-view+json": {
       "model_id": "fc3a5afbb242450f9bff824f116b0d18",
       "version_major": 2,
       "version_minor": 0
      },
      "text/plain": [
       "Batches:   0%|          | 0/1 [00:00<?, ?it/s]"
      ]
     },
     "metadata": {},
     "output_type": "display_data"
    },
    {
     "data": {
      "application/vnd.jupyter.widget-view+json": {
       "model_id": "687139dd6346415f90153a6423e5468b",
       "version_major": 2,
       "version_minor": 0
      },
      "text/plain": [
       "Batches:   0%|          | 0/1 [00:00<?, ?it/s]"
      ]
     },
     "metadata": {},
     "output_type": "display_data"
    },
    {
     "data": {
      "application/vnd.jupyter.widget-view+json": {
       "model_id": "2626843f6f39493d98da5d1bdcb6d4e2",
       "version_major": 2,
       "version_minor": 0
      },
      "text/plain": [
       "Batches:   0%|          | 0/1 [00:00<?, ?it/s]"
      ]
     },
     "metadata": {},
     "output_type": "display_data"
    },
    {
     "data": {
      "application/vnd.jupyter.widget-view+json": {
       "model_id": "6da1f8458f3f4bf3ae6e4734440bc75d",
       "version_major": 2,
       "version_minor": 0
      },
      "text/plain": [
       "Batches:   0%|          | 0/1 [00:00<?, ?it/s]"
      ]
     },
     "metadata": {},
     "output_type": "display_data"
    },
    {
     "data": {
      "application/vnd.jupyter.widget-view+json": {
       "model_id": "fabba17e2e1449ab92affbaf4bc119b7",
       "version_major": 2,
       "version_minor": 0
      },
      "text/plain": [
       "Batches:   0%|          | 0/1 [00:00<?, ?it/s]"
      ]
     },
     "metadata": {},
     "output_type": "display_data"
    },
    {
     "data": {
      "application/vnd.jupyter.widget-view+json": {
       "model_id": "40800b5fd1c94dcfa53d6a087583e56e",
       "version_major": 2,
       "version_minor": 0
      },
      "text/plain": [
       "Batches:   0%|          | 0/1 [00:00<?, ?it/s]"
      ]
     },
     "metadata": {},
     "output_type": "display_data"
    },
    {
     "data": {
      "application/vnd.jupyter.widget-view+json": {
       "model_id": "0e04e3f22389453db59b8a93a9c07b71",
       "version_major": 2,
       "version_minor": 0
      },
      "text/plain": [
       "Batches:   0%|          | 0/1 [00:00<?, ?it/s]"
      ]
     },
     "metadata": {},
     "output_type": "display_data"
    },
    {
     "data": {
      "application/vnd.jupyter.widget-view+json": {
       "model_id": "68b0daa15fe94010b610eb5545f174d6",
       "version_major": 2,
       "version_minor": 0
      },
      "text/plain": [
       "Batches:   0%|          | 0/1 [00:00<?, ?it/s]"
      ]
     },
     "metadata": {},
     "output_type": "display_data"
    },
    {
     "data": {
      "application/vnd.jupyter.widget-view+json": {
       "model_id": "c06432e807104bcd99aa6c7e89b9edd9",
       "version_major": 2,
       "version_minor": 0
      },
      "text/plain": [
       "Batches:   0%|          | 0/1 [00:00<?, ?it/s]"
      ]
     },
     "metadata": {},
     "output_type": "display_data"
    },
    {
     "data": {
      "application/vnd.jupyter.widget-view+json": {
       "model_id": "e158d3f46f354dd9952c73b5d8681722",
       "version_major": 2,
       "version_minor": 0
      },
      "text/plain": [
       "Batches:   0%|          | 0/1 [00:00<?, ?it/s]"
      ]
     },
     "metadata": {},
     "output_type": "display_data"
    },
    {
     "data": {
      "application/vnd.jupyter.widget-view+json": {
       "model_id": "93fd46548c9a44ac977f7d0fdaba4f2c",
       "version_major": 2,
       "version_minor": 0
      },
      "text/plain": [
       "Batches:   0%|          | 0/1 [00:00<?, ?it/s]"
      ]
     },
     "metadata": {},
     "output_type": "display_data"
    },
    {
     "data": {
      "application/vnd.jupyter.widget-view+json": {
       "model_id": "d531b8a2d5394def8054bce958eb00b0",
       "version_major": 2,
       "version_minor": 0
      },
      "text/plain": [
       "Batches:   0%|          | 0/1 [00:00<?, ?it/s]"
      ]
     },
     "metadata": {},
     "output_type": "display_data"
    },
    {
     "data": {
      "application/vnd.jupyter.widget-view+json": {
       "model_id": "7e14dba36d164d36ae625c005c5291fb",
       "version_major": 2,
       "version_minor": 0
      },
      "text/plain": [
       "Batches:   0%|          | 0/1 [00:00<?, ?it/s]"
      ]
     },
     "metadata": {},
     "output_type": "display_data"
    },
    {
     "data": {
      "application/vnd.jupyter.widget-view+json": {
       "model_id": "2c400803d8a44a3b863133fa618bf163",
       "version_major": 2,
       "version_minor": 0
      },
      "text/plain": [
       "Batches:   0%|          | 0/1 [00:00<?, ?it/s]"
      ]
     },
     "metadata": {},
     "output_type": "display_data"
    },
    {
     "data": {
      "application/vnd.jupyter.widget-view+json": {
       "model_id": "d05a8432efcb49cabffd50c4dc56f73e",
       "version_major": 2,
       "version_minor": 0
      },
      "text/plain": [
       "Batches:   0%|          | 0/1 [00:00<?, ?it/s]"
      ]
     },
     "metadata": {},
     "output_type": "display_data"
    },
    {
     "data": {
      "application/vnd.jupyter.widget-view+json": {
       "model_id": "4b801493729f42bf8874384efe8e46dc",
       "version_major": 2,
       "version_minor": 0
      },
      "text/plain": [
       "Batches:   0%|          | 0/1 [00:00<?, ?it/s]"
      ]
     },
     "metadata": {},
     "output_type": "display_data"
    },
    {
     "data": {
      "application/vnd.jupyter.widget-view+json": {
       "model_id": "2900a4c9630b400c9d8045af924a551c",
       "version_major": 2,
       "version_minor": 0
      },
      "text/plain": [
       "Batches:   0%|          | 0/1 [00:00<?, ?it/s]"
      ]
     },
     "metadata": {},
     "output_type": "display_data"
    },
    {
     "data": {
      "application/vnd.jupyter.widget-view+json": {
       "model_id": "9ff0c435e69e4acbaa868014a669f5fd",
       "version_major": 2,
       "version_minor": 0
      },
      "text/plain": [
       "Batches:   0%|          | 0/1 [00:00<?, ?it/s]"
      ]
     },
     "metadata": {},
     "output_type": "display_data"
    },
    {
     "data": {
      "application/vnd.jupyter.widget-view+json": {
       "model_id": "a29dcefc3ce34480aa8c1967fdaf44f1",
       "version_major": 2,
       "version_minor": 0
      },
      "text/plain": [
       "Batches:   0%|          | 0/1 [00:00<?, ?it/s]"
      ]
     },
     "metadata": {},
     "output_type": "display_data"
    },
    {
     "data": {
      "application/vnd.jupyter.widget-view+json": {
       "model_id": "ee6d6af2de4e4bc3a81cd7430e090e6a",
       "version_major": 2,
       "version_minor": 0
      },
      "text/plain": [
       "Batches:   0%|          | 0/1 [00:00<?, ?it/s]"
      ]
     },
     "metadata": {},
     "output_type": "display_data"
    },
    {
     "data": {
      "application/vnd.jupyter.widget-view+json": {
       "model_id": "4ff8174efd8142bf9b9bb639d76a7c0d",
       "version_major": 2,
       "version_minor": 0
      },
      "text/plain": [
       "Batches:   0%|          | 0/1 [00:00<?, ?it/s]"
      ]
     },
     "metadata": {},
     "output_type": "display_data"
    },
    {
     "data": {
      "application/vnd.jupyter.widget-view+json": {
       "model_id": "94d9cc6559c5483e96b71eb6620fd36e",
       "version_major": 2,
       "version_minor": 0
      },
      "text/plain": [
       "Batches:   0%|          | 0/1 [00:00<?, ?it/s]"
      ]
     },
     "metadata": {},
     "output_type": "display_data"
    },
    {
     "data": {
      "application/vnd.jupyter.widget-view+json": {
       "model_id": "04a4ceb39a594879a8c0c3df69a5190f",
       "version_major": 2,
       "version_minor": 0
      },
      "text/plain": [
       "Batches:   0%|          | 0/1 [00:00<?, ?it/s]"
      ]
     },
     "metadata": {},
     "output_type": "display_data"
    },
    {
     "data": {
      "application/vnd.jupyter.widget-view+json": {
       "model_id": "a3e5b662dad547058ac786478027ce23",
       "version_major": 2,
       "version_minor": 0
      },
      "text/plain": [
       "Batches:   0%|          | 0/1 [00:00<?, ?it/s]"
      ]
     },
     "metadata": {},
     "output_type": "display_data"
    },
    {
     "data": {
      "application/vnd.jupyter.widget-view+json": {
       "model_id": "b1f6ab62978d4b6796d9532cc6eba295",
       "version_major": 2,
       "version_minor": 0
      },
      "text/plain": [
       "Batches:   0%|          | 0/1 [00:00<?, ?it/s]"
      ]
     },
     "metadata": {},
     "output_type": "display_data"
    },
    {
     "data": {
      "application/vnd.jupyter.widget-view+json": {
       "model_id": "bd70467618d44c9ab38361ab882ec4f6",
       "version_major": 2,
       "version_minor": 0
      },
      "text/plain": [
       "Batches:   0%|          | 0/1 [00:00<?, ?it/s]"
      ]
     },
     "metadata": {},
     "output_type": "display_data"
    },
    {
     "data": {
      "application/vnd.jupyter.widget-view+json": {
       "model_id": "a9b86e01620d4066894d148b56fb63b4",
       "version_major": 2,
       "version_minor": 0
      },
      "text/plain": [
       "Batches:   0%|          | 0/1 [00:00<?, ?it/s]"
      ]
     },
     "metadata": {},
     "output_type": "display_data"
    },
    {
     "data": {
      "application/vnd.jupyter.widget-view+json": {
       "model_id": "83270cee289f4771b6382b29d435ba95",
       "version_major": 2,
       "version_minor": 0
      },
      "text/plain": [
       "Batches:   0%|          | 0/1 [00:00<?, ?it/s]"
      ]
     },
     "metadata": {},
     "output_type": "display_data"
    },
    {
     "data": {
      "application/vnd.jupyter.widget-view+json": {
       "model_id": "4e917b82169f484fa96e76d0bae41e62",
       "version_major": 2,
       "version_minor": 0
      },
      "text/plain": [
       "Batches:   0%|          | 0/1 [00:00<?, ?it/s]"
      ]
     },
     "metadata": {},
     "output_type": "display_data"
    },
    {
     "data": {
      "application/vnd.jupyter.widget-view+json": {
       "model_id": "f52a4ff1dc0f48f2ae476487cf0ba432",
       "version_major": 2,
       "version_minor": 0
      },
      "text/plain": [
       "Batches:   0%|          | 0/1 [00:00<?, ?it/s]"
      ]
     },
     "metadata": {},
     "output_type": "display_data"
    },
    {
     "data": {
      "application/vnd.jupyter.widget-view+json": {
       "model_id": "8272f6a610434f63a6c420b89a7c7a67",
       "version_major": 2,
       "version_minor": 0
      },
      "text/plain": [
       "Batches:   0%|          | 0/1 [00:00<?, ?it/s]"
      ]
     },
     "metadata": {},
     "output_type": "display_data"
    },
    {
     "data": {
      "application/vnd.jupyter.widget-view+json": {
       "model_id": "8f8e4e688a4b40e497269a3a763cf376",
       "version_major": 2,
       "version_minor": 0
      },
      "text/plain": [
       "Batches:   0%|          | 0/1 [00:00<?, ?it/s]"
      ]
     },
     "metadata": {},
     "output_type": "display_data"
    },
    {
     "data": {
      "application/vnd.jupyter.widget-view+json": {
       "model_id": "42d456c617a94e85ae8cea669fa1cf02",
       "version_major": 2,
       "version_minor": 0
      },
      "text/plain": [
       "Batches:   0%|          | 0/1 [00:00<?, ?it/s]"
      ]
     },
     "metadata": {},
     "output_type": "display_data"
    },
    {
     "data": {
      "application/vnd.jupyter.widget-view+json": {
       "model_id": "7ba4c7042dbc4d60b9c6c655ca6bb1fa",
       "version_major": 2,
       "version_minor": 0
      },
      "text/plain": [
       "Batches:   0%|          | 0/1 [00:00<?, ?it/s]"
      ]
     },
     "metadata": {},
     "output_type": "display_data"
    },
    {
     "data": {
      "application/vnd.jupyter.widget-view+json": {
       "model_id": "9090f9fb10bc4efc82efbbb05f884158",
       "version_major": 2,
       "version_minor": 0
      },
      "text/plain": [
       "Batches:   0%|          | 0/1 [00:00<?, ?it/s]"
      ]
     },
     "metadata": {},
     "output_type": "display_data"
    },
    {
     "data": {
      "application/vnd.jupyter.widget-view+json": {
       "model_id": "7e09ed1cb10e4b23b52564af65a91a43",
       "version_major": 2,
       "version_minor": 0
      },
      "text/plain": [
       "Batches:   0%|          | 0/1 [00:00<?, ?it/s]"
      ]
     },
     "metadata": {},
     "output_type": "display_data"
    },
    {
     "data": {
      "application/vnd.jupyter.widget-view+json": {
       "model_id": "321506a120164ca68f1cd0ba2b9e859e",
       "version_major": 2,
       "version_minor": 0
      },
      "text/plain": [
       "Batches:   0%|          | 0/1 [00:00<?, ?it/s]"
      ]
     },
     "metadata": {},
     "output_type": "display_data"
    },
    {
     "data": {
      "application/vnd.jupyter.widget-view+json": {
       "model_id": "45fb69b9ee3d45f0abc375ce70edff6b",
       "version_major": 2,
       "version_minor": 0
      },
      "text/plain": [
       "Batches:   0%|          | 0/1 [00:00<?, ?it/s]"
      ]
     },
     "metadata": {},
     "output_type": "display_data"
    },
    {
     "data": {
      "application/vnd.jupyter.widget-view+json": {
       "model_id": "9b07e9a73858438f9ecb11bab18eb00b",
       "version_major": 2,
       "version_minor": 0
      },
      "text/plain": [
       "Batches:   0%|          | 0/1 [00:00<?, ?it/s]"
      ]
     },
     "metadata": {},
     "output_type": "display_data"
    },
    {
     "data": {
      "application/vnd.jupyter.widget-view+json": {
       "model_id": "bbd7fb1f7f154c1d9bd3b6e252a5c4e2",
       "version_major": 2,
       "version_minor": 0
      },
      "text/plain": [
       "Batches:   0%|          | 0/1 [00:00<?, ?it/s]"
      ]
     },
     "metadata": {},
     "output_type": "display_data"
    },
    {
     "data": {
      "application/vnd.jupyter.widget-view+json": {
       "model_id": "72b21862131b4af8a69b5b0dc405bd1f",
       "version_major": 2,
       "version_minor": 0
      },
      "text/plain": [
       "Batches:   0%|          | 0/1 [00:00<?, ?it/s]"
      ]
     },
     "metadata": {},
     "output_type": "display_data"
    },
    {
     "data": {
      "application/vnd.jupyter.widget-view+json": {
       "model_id": "21094e15abb54e8083bbc3cb5c4bf377",
       "version_major": 2,
       "version_minor": 0
      },
      "text/plain": [
       "Batches:   0%|          | 0/1 [00:00<?, ?it/s]"
      ]
     },
     "metadata": {},
     "output_type": "display_data"
    },
    {
     "data": {
      "application/vnd.jupyter.widget-view+json": {
       "model_id": "fc04f964ace44d7d9b3d4b2f173c7336",
       "version_major": 2,
       "version_minor": 0
      },
      "text/plain": [
       "Batches:   0%|          | 0/1 [00:00<?, ?it/s]"
      ]
     },
     "metadata": {},
     "output_type": "display_data"
    },
    {
     "data": {
      "application/vnd.jupyter.widget-view+json": {
       "model_id": "bade812e1de04038ac339a00770fa4bd",
       "version_major": 2,
       "version_minor": 0
      },
      "text/plain": [
       "Batches:   0%|          | 0/1 [00:00<?, ?it/s]"
      ]
     },
     "metadata": {},
     "output_type": "display_data"
    },
    {
     "data": {
      "application/vnd.jupyter.widget-view+json": {
       "model_id": "d83b66b7dc5e4f30a41b1b0a091b83ab",
       "version_major": 2,
       "version_minor": 0
      },
      "text/plain": [
       "Batches:   0%|          | 0/1 [00:00<?, ?it/s]"
      ]
     },
     "metadata": {},
     "output_type": "display_data"
    },
    {
     "data": {
      "application/vnd.jupyter.widget-view+json": {
       "model_id": "912bb51b475b40bd95f5f89e96f22d0f",
       "version_major": 2,
       "version_minor": 0
      },
      "text/plain": [
       "Batches:   0%|          | 0/1 [00:00<?, ?it/s]"
      ]
     },
     "metadata": {},
     "output_type": "display_data"
    },
    {
     "data": {
      "application/vnd.jupyter.widget-view+json": {
       "model_id": "1f93ad5130b44614911648d7535b4290",
       "version_major": 2,
       "version_minor": 0
      },
      "text/plain": [
       "Batches:   0%|          | 0/1 [00:00<?, ?it/s]"
      ]
     },
     "metadata": {},
     "output_type": "display_data"
    },
    {
     "data": {
      "application/vnd.jupyter.widget-view+json": {
       "model_id": "9e11eb5d5b214cff913d3f61a30389de",
       "version_major": 2,
       "version_minor": 0
      },
      "text/plain": [
       "Batches:   0%|          | 0/1 [00:00<?, ?it/s]"
      ]
     },
     "metadata": {},
     "output_type": "display_data"
    },
    {
     "data": {
      "application/vnd.jupyter.widget-view+json": {
       "model_id": "65b78776d7de4bd39dff3be4b12f9f46",
       "version_major": 2,
       "version_minor": 0
      },
      "text/plain": [
       "Batches:   0%|          | 0/1 [00:00<?, ?it/s]"
      ]
     },
     "metadata": {},
     "output_type": "display_data"
    },
    {
     "data": {
      "application/vnd.jupyter.widget-view+json": {
       "model_id": "e48d8c37a09543ed9dd83281314d2adf",
       "version_major": 2,
       "version_minor": 0
      },
      "text/plain": [
       "Batches:   0%|          | 0/1 [00:00<?, ?it/s]"
      ]
     },
     "metadata": {},
     "output_type": "display_data"
    },
    {
     "data": {
      "application/vnd.jupyter.widget-view+json": {
       "model_id": "f234407a98bb4cb8aafd51841c02b50e",
       "version_major": 2,
       "version_minor": 0
      },
      "text/plain": [
       "Batches:   0%|          | 0/1 [00:00<?, ?it/s]"
      ]
     },
     "metadata": {},
     "output_type": "display_data"
    },
    {
     "data": {
      "application/vnd.jupyter.widget-view+json": {
       "model_id": "d28b0752627044bd99307d20aaf82101",
       "version_major": 2,
       "version_minor": 0
      },
      "text/plain": [
       "Batches:   0%|          | 0/1 [00:00<?, ?it/s]"
      ]
     },
     "metadata": {},
     "output_type": "display_data"
    },
    {
     "data": {
      "application/vnd.jupyter.widget-view+json": {
       "model_id": "e4b3f8cd65b94635a518eead638e3f5a",
       "version_major": 2,
       "version_minor": 0
      },
      "text/plain": [
       "Batches:   0%|          | 0/1 [00:00<?, ?it/s]"
      ]
     },
     "metadata": {},
     "output_type": "display_data"
    },
    {
     "data": {
      "application/vnd.jupyter.widget-view+json": {
       "model_id": "4967c1852bf94243bb52ee6c51fcd11c",
       "version_major": 2,
       "version_minor": 0
      },
      "text/plain": [
       "Batches:   0%|          | 0/1 [00:00<?, ?it/s]"
      ]
     },
     "metadata": {},
     "output_type": "display_data"
    },
    {
     "data": {
      "application/vnd.jupyter.widget-view+json": {
       "model_id": "1f3931a063d34b6984978bbab85eebbb",
       "version_major": 2,
       "version_minor": 0
      },
      "text/plain": [
       "Batches:   0%|          | 0/1 [00:00<?, ?it/s]"
      ]
     },
     "metadata": {},
     "output_type": "display_data"
    },
    {
     "data": {
      "application/vnd.jupyter.widget-view+json": {
       "model_id": "bf1aa46777e44d2ba9d50693a63f3bea",
       "version_major": 2,
       "version_minor": 0
      },
      "text/plain": [
       "Batches:   0%|          | 0/1 [00:00<?, ?it/s]"
      ]
     },
     "metadata": {},
     "output_type": "display_data"
    },
    {
     "data": {
      "application/vnd.jupyter.widget-view+json": {
       "model_id": "ae0db88e5fa5433b8244db0c6672de97",
       "version_major": 2,
       "version_minor": 0
      },
      "text/plain": [
       "Batches:   0%|          | 0/1 [00:00<?, ?it/s]"
      ]
     },
     "metadata": {},
     "output_type": "display_data"
    },
    {
     "data": {
      "application/vnd.jupyter.widget-view+json": {
       "model_id": "f6ed1f57d6d645e7ab58c525333d9233",
       "version_major": 2,
       "version_minor": 0
      },
      "text/plain": [
       "Batches:   0%|          | 0/1 [00:00<?, ?it/s]"
      ]
     },
     "metadata": {},
     "output_type": "display_data"
    },
    {
     "data": {
      "application/vnd.jupyter.widget-view+json": {
       "model_id": "7b593ecc71334c8ea5cc1f8987140317",
       "version_major": 2,
       "version_minor": 0
      },
      "text/plain": [
       "Batches:   0%|          | 0/1 [00:00<?, ?it/s]"
      ]
     },
     "metadata": {},
     "output_type": "display_data"
    },
    {
     "data": {
      "application/vnd.jupyter.widget-view+json": {
       "model_id": "033af77e98aa4ca3a18d32be35700ad6",
       "version_major": 2,
       "version_minor": 0
      },
      "text/plain": [
       "Batches:   0%|          | 0/1 [00:00<?, ?it/s]"
      ]
     },
     "metadata": {},
     "output_type": "display_data"
    },
    {
     "data": {
      "application/vnd.jupyter.widget-view+json": {
       "model_id": "1871ae0cc8194dfe88e5f42bb51c05cd",
       "version_major": 2,
       "version_minor": 0
      },
      "text/plain": [
       "Batches:   0%|          | 0/1 [00:00<?, ?it/s]"
      ]
     },
     "metadata": {},
     "output_type": "display_data"
    },
    {
     "data": {
      "application/vnd.jupyter.widget-view+json": {
       "model_id": "326ade1ddbeb491581cc7fad61c0540a",
       "version_major": 2,
       "version_minor": 0
      },
      "text/plain": [
       "Batches:   0%|          | 0/1 [00:00<?, ?it/s]"
      ]
     },
     "metadata": {},
     "output_type": "display_data"
    },
    {
     "data": {
      "application/vnd.jupyter.widget-view+json": {
       "model_id": "4fa85818ef814c778f64cbd44c558992",
       "version_major": 2,
       "version_minor": 0
      },
      "text/plain": [
       "Batches:   0%|          | 0/1 [00:00<?, ?it/s]"
      ]
     },
     "metadata": {},
     "output_type": "display_data"
    },
    {
     "data": {
      "application/vnd.jupyter.widget-view+json": {
       "model_id": "aa82ad50129e43abb976cf78e2922751",
       "version_major": 2,
       "version_minor": 0
      },
      "text/plain": [
       "Batches:   0%|          | 0/1 [00:00<?, ?it/s]"
      ]
     },
     "metadata": {},
     "output_type": "display_data"
    },
    {
     "data": {
      "application/vnd.jupyter.widget-view+json": {
       "model_id": "3564cd8a946243319de1bbde304eeaff",
       "version_major": 2,
       "version_minor": 0
      },
      "text/plain": [
       "Batches:   0%|          | 0/1 [00:00<?, ?it/s]"
      ]
     },
     "metadata": {},
     "output_type": "display_data"
    },
    {
     "data": {
      "application/vnd.jupyter.widget-view+json": {
       "model_id": "ffc770fcaa514fe99fd7537399b9219f",
       "version_major": 2,
       "version_minor": 0
      },
      "text/plain": [
       "Batches:   0%|          | 0/1 [00:00<?, ?it/s]"
      ]
     },
     "metadata": {},
     "output_type": "display_data"
    },
    {
     "data": {
      "application/vnd.jupyter.widget-view+json": {
       "model_id": "8624ad3b148341f9b44a36a8042cb1af",
       "version_major": 2,
       "version_minor": 0
      },
      "text/plain": [
       "Batches:   0%|          | 0/1 [00:00<?, ?it/s]"
      ]
     },
     "metadata": {},
     "output_type": "display_data"
    },
    {
     "data": {
      "application/vnd.jupyter.widget-view+json": {
       "model_id": "362ed119425f411abf167e39db31f87c",
       "version_major": 2,
       "version_minor": 0
      },
      "text/plain": [
       "Batches:   0%|          | 0/1 [00:00<?, ?it/s]"
      ]
     },
     "metadata": {},
     "output_type": "display_data"
    },
    {
     "data": {
      "application/vnd.jupyter.widget-view+json": {
       "model_id": "e0e96191b4174f3ebc2625add4f707d9",
       "version_major": 2,
       "version_minor": 0
      },
      "text/plain": [
       "Batches:   0%|          | 0/1 [00:00<?, ?it/s]"
      ]
     },
     "metadata": {},
     "output_type": "display_data"
    },
    {
     "data": {
      "application/vnd.jupyter.widget-view+json": {
       "model_id": "ddc38ab8b24046828a7345b074f06be0",
       "version_major": 2,
       "version_minor": 0
      },
      "text/plain": [
       "Batches:   0%|          | 0/1 [00:00<?, ?it/s]"
      ]
     },
     "metadata": {},
     "output_type": "display_data"
    },
    {
     "data": {
      "application/vnd.jupyter.widget-view+json": {
       "model_id": "1f0ab6e488da473b9f11abba3e037285",
       "version_major": 2,
       "version_minor": 0
      },
      "text/plain": [
       "Batches:   0%|          | 0/1 [00:00<?, ?it/s]"
      ]
     },
     "metadata": {},
     "output_type": "display_data"
    },
    {
     "data": {
      "application/vnd.jupyter.widget-view+json": {
       "model_id": "e775e1e4e4e747a0bca0d10d7d98f13a",
       "version_major": 2,
       "version_minor": 0
      },
      "text/plain": [
       "Batches:   0%|          | 0/1 [00:00<?, ?it/s]"
      ]
     },
     "metadata": {},
     "output_type": "display_data"
    },
    {
     "data": {
      "application/vnd.jupyter.widget-view+json": {
       "model_id": "db43bbd0337543cdaac8f2ffcd01790d",
       "version_major": 2,
       "version_minor": 0
      },
      "text/plain": [
       "Batches:   0%|          | 0/1 [00:00<?, ?it/s]"
      ]
     },
     "metadata": {},
     "output_type": "display_data"
    },
    {
     "data": {
      "application/vnd.jupyter.widget-view+json": {
       "model_id": "df7d413c0a134d0da80bfacc8bec3163",
       "version_major": 2,
       "version_minor": 0
      },
      "text/plain": [
       "Batches:   0%|          | 0/1 [00:00<?, ?it/s]"
      ]
     },
     "metadata": {},
     "output_type": "display_data"
    },
    {
     "data": {
      "application/vnd.jupyter.widget-view+json": {
       "model_id": "1a36ad11bc6248c98018ffdd1b6c104e",
       "version_major": 2,
       "version_minor": 0
      },
      "text/plain": [
       "Batches:   0%|          | 0/1 [00:00<?, ?it/s]"
      ]
     },
     "metadata": {},
     "output_type": "display_data"
    },
    {
     "data": {
      "application/vnd.jupyter.widget-view+json": {
       "model_id": "3ae4c304c9834b13871f3bd48baea01d",
       "version_major": 2,
       "version_minor": 0
      },
      "text/plain": [
       "Batches:   0%|          | 0/1 [00:00<?, ?it/s]"
      ]
     },
     "metadata": {},
     "output_type": "display_data"
    },
    {
     "data": {
      "application/vnd.jupyter.widget-view+json": {
       "model_id": "f903ea807dec492fa9f5fe989e1cfb7e",
       "version_major": 2,
       "version_minor": 0
      },
      "text/plain": [
       "Batches:   0%|          | 0/1 [00:00<?, ?it/s]"
      ]
     },
     "metadata": {},
     "output_type": "display_data"
    },
    {
     "data": {
      "application/vnd.jupyter.widget-view+json": {
       "model_id": "e1400f638dd04b7c858610c62283d8a0",
       "version_major": 2,
       "version_minor": 0
      },
      "text/plain": [
       "Batches:   0%|          | 0/1 [00:00<?, ?it/s]"
      ]
     },
     "metadata": {},
     "output_type": "display_data"
    },
    {
     "data": {
      "application/vnd.jupyter.widget-view+json": {
       "model_id": "806e4c081ee64b1abcf4ab9a44f985ce",
       "version_major": 2,
       "version_minor": 0
      },
      "text/plain": [
       "Batches:   0%|          | 0/1 [00:00<?, ?it/s]"
      ]
     },
     "metadata": {},
     "output_type": "display_data"
    },
    {
     "data": {
      "application/vnd.jupyter.widget-view+json": {
       "model_id": "0e540df5703a44ac9d4869312d599205",
       "version_major": 2,
       "version_minor": 0
      },
      "text/plain": [
       "Batches:   0%|          | 0/1 [00:00<?, ?it/s]"
      ]
     },
     "metadata": {},
     "output_type": "display_data"
    },
    {
     "data": {
      "application/vnd.jupyter.widget-view+json": {
       "model_id": "0d45c1e5979a4e30aead9ab4f23437cc",
       "version_major": 2,
       "version_minor": 0
      },
      "text/plain": [
       "Batches:   0%|          | 0/1 [00:00<?, ?it/s]"
      ]
     },
     "metadata": {},
     "output_type": "display_data"
    },
    {
     "data": {
      "application/vnd.jupyter.widget-view+json": {
       "model_id": "7cd9b3b6d19047e084744431d1c30fda",
       "version_major": 2,
       "version_minor": 0
      },
      "text/plain": [
       "Batches:   0%|          | 0/1 [00:00<?, ?it/s]"
      ]
     },
     "metadata": {},
     "output_type": "display_data"
    },
    {
     "data": {
      "application/vnd.jupyter.widget-view+json": {
       "model_id": "403a161efca342aaba0148c2ce7fe3aa",
       "version_major": 2,
       "version_minor": 0
      },
      "text/plain": [
       "Batches:   0%|          | 0/1 [00:00<?, ?it/s]"
      ]
     },
     "metadata": {},
     "output_type": "display_data"
    },
    {
     "data": {
      "application/vnd.jupyter.widget-view+json": {
       "model_id": "8492055794bf4ee7963728311d62a726",
       "version_major": 2,
       "version_minor": 0
      },
      "text/plain": [
       "Batches:   0%|          | 0/1 [00:00<?, ?it/s]"
      ]
     },
     "metadata": {},
     "output_type": "display_data"
    },
    {
     "data": {
      "application/vnd.jupyter.widget-view+json": {
       "model_id": "d7ca56b0d8d5450ba2840d1e8e10a3f1",
       "version_major": 2,
       "version_minor": 0
      },
      "text/plain": [
       "Batches:   0%|          | 0/1 [00:00<?, ?it/s]"
      ]
     },
     "metadata": {},
     "output_type": "display_data"
    },
    {
     "data": {
      "application/vnd.jupyter.widget-view+json": {
       "model_id": "d6aaf28296bc4b8c95011995e63628c0",
       "version_major": 2,
       "version_minor": 0
      },
      "text/plain": [
       "Batches:   0%|          | 0/1 [00:00<?, ?it/s]"
      ]
     },
     "metadata": {},
     "output_type": "display_data"
    },
    {
     "data": {
      "application/vnd.jupyter.widget-view+json": {
       "model_id": "18e895523a894deaba0aa8e924860481",
       "version_major": 2,
       "version_minor": 0
      },
      "text/plain": [
       "Batches:   0%|          | 0/1 [00:00<?, ?it/s]"
      ]
     },
     "metadata": {},
     "output_type": "display_data"
    },
    {
     "data": {
      "application/vnd.jupyter.widget-view+json": {
       "model_id": "2b652801d8a040c0b1688ef188ee9d7b",
       "version_major": 2,
       "version_minor": 0
      },
      "text/plain": [
       "Batches:   0%|          | 0/1 [00:00<?, ?it/s]"
      ]
     },
     "metadata": {},
     "output_type": "display_data"
    },
    {
     "data": {
      "application/vnd.jupyter.widget-view+json": {
       "model_id": "b78b89f371804a9988cb3b5aeaaaccf5",
       "version_major": 2,
       "version_minor": 0
      },
      "text/plain": [
       "Batches:   0%|          | 0/1 [00:00<?, ?it/s]"
      ]
     },
     "metadata": {},
     "output_type": "display_data"
    },
    {
     "data": {
      "application/vnd.jupyter.widget-view+json": {
       "model_id": "b2cc8881af914d1db231fb54bd596fe3",
       "version_major": 2,
       "version_minor": 0
      },
      "text/plain": [
       "Batches:   0%|          | 0/1 [00:00<?, ?it/s]"
      ]
     },
     "metadata": {},
     "output_type": "display_data"
    },
    {
     "data": {
      "application/vnd.jupyter.widget-view+json": {
       "model_id": "fa97cbaba46c431099adc5ff163bdaa1",
       "version_major": 2,
       "version_minor": 0
      },
      "text/plain": [
       "Batches:   0%|          | 0/1 [00:00<?, ?it/s]"
      ]
     },
     "metadata": {},
     "output_type": "display_data"
    },
    {
     "data": {
      "application/vnd.jupyter.widget-view+json": {
       "model_id": "237eb5789f26470bbd98fcee08f602c7",
       "version_major": 2,
       "version_minor": 0
      },
      "text/plain": [
       "Batches:   0%|          | 0/1 [00:00<?, ?it/s]"
      ]
     },
     "metadata": {},
     "output_type": "display_data"
    },
    {
     "data": {
      "application/vnd.jupyter.widget-view+json": {
       "model_id": "cc1d1eeb8c424e53811927947f83cc48",
       "version_major": 2,
       "version_minor": 0
      },
      "text/plain": [
       "Batches:   0%|          | 0/1 [00:00<?, ?it/s]"
      ]
     },
     "metadata": {},
     "output_type": "display_data"
    },
    {
     "data": {
      "application/vnd.jupyter.widget-view+json": {
       "model_id": "c5d3c55cb7a14911b5cc1dcc24c54146",
       "version_major": 2,
       "version_minor": 0
      },
      "text/plain": [
       "Batches:   0%|          | 0/1 [00:00<?, ?it/s]"
      ]
     },
     "metadata": {},
     "output_type": "display_data"
    },
    {
     "data": {
      "application/vnd.jupyter.widget-view+json": {
       "model_id": "baf8e92bc3124eda923b99bf664cd3d2",
       "version_major": 2,
       "version_minor": 0
      },
      "text/plain": [
       "Batches:   0%|          | 0/1 [00:00<?, ?it/s]"
      ]
     },
     "metadata": {},
     "output_type": "display_data"
    },
    {
     "data": {
      "application/vnd.jupyter.widget-view+json": {
       "model_id": "7620146e8ea24dd5bc81eaad299ecfe4",
       "version_major": 2,
       "version_minor": 0
      },
      "text/plain": [
       "Batches:   0%|          | 0/1 [00:00<?, ?it/s]"
      ]
     },
     "metadata": {},
     "output_type": "display_data"
    },
    {
     "data": {
      "application/vnd.jupyter.widget-view+json": {
       "model_id": "333b47f95a044bb5b51990b09bb5b937",
       "version_major": 2,
       "version_minor": 0
      },
      "text/plain": [
       "Batches:   0%|          | 0/1 [00:00<?, ?it/s]"
      ]
     },
     "metadata": {},
     "output_type": "display_data"
    },
    {
     "data": {
      "application/vnd.jupyter.widget-view+json": {
       "model_id": "51c552fe66354bcb9da3ee5c4012300f",
       "version_major": 2,
       "version_minor": 0
      },
      "text/plain": [
       "Batches:   0%|          | 0/1 [00:00<?, ?it/s]"
      ]
     },
     "metadata": {},
     "output_type": "display_data"
    },
    {
     "data": {
      "application/vnd.jupyter.widget-view+json": {
       "model_id": "6afe64fee8324c8c88d746f8d3d785d6",
       "version_major": 2,
       "version_minor": 0
      },
      "text/plain": [
       "Batches:   0%|          | 0/1 [00:00<?, ?it/s]"
      ]
     },
     "metadata": {},
     "output_type": "display_data"
    },
    {
     "data": {
      "application/vnd.jupyter.widget-view+json": {
       "model_id": "4ad20ec895cb4cc097c4346612b55c38",
       "version_major": 2,
       "version_minor": 0
      },
      "text/plain": [
       "Batches:   0%|          | 0/1 [00:00<?, ?it/s]"
      ]
     },
     "metadata": {},
     "output_type": "display_data"
    },
    {
     "data": {
      "application/vnd.jupyter.widget-view+json": {
       "model_id": "0a6960be0ff543088b335b7c8073323a",
       "version_major": 2,
       "version_minor": 0
      },
      "text/plain": [
       "Batches:   0%|          | 0/1 [00:00<?, ?it/s]"
      ]
     },
     "metadata": {},
     "output_type": "display_data"
    },
    {
     "data": {
      "application/vnd.jupyter.widget-view+json": {
       "model_id": "9f0d721660f5462ea3c414988e800d0b",
       "version_major": 2,
       "version_minor": 0
      },
      "text/plain": [
       "Batches:   0%|          | 0/1 [00:00<?, ?it/s]"
      ]
     },
     "metadata": {},
     "output_type": "display_data"
    },
    {
     "data": {
      "application/vnd.jupyter.widget-view+json": {
       "model_id": "bef9040435fb4baaaae26761cf537537",
       "version_major": 2,
       "version_minor": 0
      },
      "text/plain": [
       "Batches:   0%|          | 0/1 [00:00<?, ?it/s]"
      ]
     },
     "metadata": {},
     "output_type": "display_data"
    },
    {
     "data": {
      "application/vnd.jupyter.widget-view+json": {
       "model_id": "445367823c2947a387a6851d21888ea2",
       "version_major": 2,
       "version_minor": 0
      },
      "text/plain": [
       "Batches:   0%|          | 0/1 [00:00<?, ?it/s]"
      ]
     },
     "metadata": {},
     "output_type": "display_data"
    },
    {
     "data": {
      "application/vnd.jupyter.widget-view+json": {
       "model_id": "e0d0d1efcd5c4456809046a00e03a6f1",
       "version_major": 2,
       "version_minor": 0
      },
      "text/plain": [
       "Batches:   0%|          | 0/1 [00:00<?, ?it/s]"
      ]
     },
     "metadata": {},
     "output_type": "display_data"
    },
    {
     "data": {
      "application/vnd.jupyter.widget-view+json": {
       "model_id": "090b435e825a4ea8b675e27b5e5631f5",
       "version_major": 2,
       "version_minor": 0
      },
      "text/plain": [
       "Batches:   0%|          | 0/1 [00:00<?, ?it/s]"
      ]
     },
     "metadata": {},
     "output_type": "display_data"
    },
    {
     "data": {
      "application/vnd.jupyter.widget-view+json": {
       "model_id": "ebd25d8406eb4468868d87137513f791",
       "version_major": 2,
       "version_minor": 0
      },
      "text/plain": [
       "Batches:   0%|          | 0/1 [00:00<?, ?it/s]"
      ]
     },
     "metadata": {},
     "output_type": "display_data"
    },
    {
     "data": {
      "application/vnd.jupyter.widget-view+json": {
       "model_id": "354c8753f5194cc0a06c0b048e90504d",
       "version_major": 2,
       "version_minor": 0
      },
      "text/plain": [
       "Batches:   0%|          | 0/1 [00:00<?, ?it/s]"
      ]
     },
     "metadata": {},
     "output_type": "display_data"
    },
    {
     "data": {
      "application/vnd.jupyter.widget-view+json": {
       "model_id": "925b45680c1249deb464bae4447e5177",
       "version_major": 2,
       "version_minor": 0
      },
      "text/plain": [
       "Batches:   0%|          | 0/1 [00:00<?, ?it/s]"
      ]
     },
     "metadata": {},
     "output_type": "display_data"
    },
    {
     "data": {
      "application/vnd.jupyter.widget-view+json": {
       "model_id": "b640c78a221f4a6a8bf4de16e24a13a9",
       "version_major": 2,
       "version_minor": 0
      },
      "text/plain": [
       "Batches:   0%|          | 0/1 [00:00<?, ?it/s]"
      ]
     },
     "metadata": {},
     "output_type": "display_data"
    },
    {
     "data": {
      "application/vnd.jupyter.widget-view+json": {
       "model_id": "ae4de22d31f34ed09d27e0d0ffe334a5",
       "version_major": 2,
       "version_minor": 0
      },
      "text/plain": [
       "Batches:   0%|          | 0/1 [00:00<?, ?it/s]"
      ]
     },
     "metadata": {},
     "output_type": "display_data"
    },
    {
     "data": {
      "application/vnd.jupyter.widget-view+json": {
       "model_id": "20904fbfd651432194dcaf22af5fe324",
       "version_major": 2,
       "version_minor": 0
      },
      "text/plain": [
       "Batches:   0%|          | 0/1 [00:00<?, ?it/s]"
      ]
     },
     "metadata": {},
     "output_type": "display_data"
    },
    {
     "data": {
      "application/vnd.jupyter.widget-view+json": {
       "model_id": "61d2e959b07c4522bd8651ea329e4d53",
       "version_major": 2,
       "version_minor": 0
      },
      "text/plain": [
       "Batches:   0%|          | 0/1 [00:00<?, ?it/s]"
      ]
     },
     "metadata": {},
     "output_type": "display_data"
    },
    {
     "data": {
      "application/vnd.jupyter.widget-view+json": {
       "model_id": "20ffb3a418db4e7bbdae911afb75cb45",
       "version_major": 2,
       "version_minor": 0
      },
      "text/plain": [
       "Batches:   0%|          | 0/1 [00:00<?, ?it/s]"
      ]
     },
     "metadata": {},
     "output_type": "display_data"
    },
    {
     "data": {
      "application/vnd.jupyter.widget-view+json": {
       "model_id": "0e0b6d052312482a9947b2b7f7250c03",
       "version_major": 2,
       "version_minor": 0
      },
      "text/plain": [
       "Batches:   0%|          | 0/1 [00:00<?, ?it/s]"
      ]
     },
     "metadata": {},
     "output_type": "display_data"
    },
    {
     "data": {
      "application/vnd.jupyter.widget-view+json": {
       "model_id": "9bb9528009204360a44b188ced544637",
       "version_major": 2,
       "version_minor": 0
      },
      "text/plain": [
       "Batches:   0%|          | 0/1 [00:00<?, ?it/s]"
      ]
     },
     "metadata": {},
     "output_type": "display_data"
    },
    {
     "data": {
      "application/vnd.jupyter.widget-view+json": {
       "model_id": "bca8ab41e93146129f6da9bef085ac02",
       "version_major": 2,
       "version_minor": 0
      },
      "text/plain": [
       "Batches:   0%|          | 0/1 [00:00<?, ?it/s]"
      ]
     },
     "metadata": {},
     "output_type": "display_data"
    },
    {
     "data": {
      "application/vnd.jupyter.widget-view+json": {
       "model_id": "079733e7aada490a87ddbe2351b1aad9",
       "version_major": 2,
       "version_minor": 0
      },
      "text/plain": [
       "Batches:   0%|          | 0/1 [00:00<?, ?it/s]"
      ]
     },
     "metadata": {},
     "output_type": "display_data"
    },
    {
     "data": {
      "application/vnd.jupyter.widget-view+json": {
       "model_id": "6260576d36e64fe897dfe0d47c73a203",
       "version_major": 2,
       "version_minor": 0
      },
      "text/plain": [
       "Batches:   0%|          | 0/1 [00:00<?, ?it/s]"
      ]
     },
     "metadata": {},
     "output_type": "display_data"
    },
    {
     "data": {
      "application/vnd.jupyter.widget-view+json": {
       "model_id": "b13ec1e48a9a43ebbd8f31a8dbe7f838",
       "version_major": 2,
       "version_minor": 0
      },
      "text/plain": [
       "Batches:   0%|          | 0/1 [00:00<?, ?it/s]"
      ]
     },
     "metadata": {},
     "output_type": "display_data"
    },
    {
     "data": {
      "application/vnd.jupyter.widget-view+json": {
       "model_id": "ee1e6235036141a99bce4b7f25fa9c20",
       "version_major": 2,
       "version_minor": 0
      },
      "text/plain": [
       "Batches:   0%|          | 0/1 [00:00<?, ?it/s]"
      ]
     },
     "metadata": {},
     "output_type": "display_data"
    },
    {
     "data": {
      "application/vnd.jupyter.widget-view+json": {
       "model_id": "5a2891c4c0794759ac42c251f537dfc0",
       "version_major": 2,
       "version_minor": 0
      },
      "text/plain": [
       "Batches:   0%|          | 0/1 [00:00<?, ?it/s]"
      ]
     },
     "metadata": {},
     "output_type": "display_data"
    },
    {
     "data": {
      "application/vnd.jupyter.widget-view+json": {
       "model_id": "824e6d0253ef4a9ea8be405ab626f036",
       "version_major": 2,
       "version_minor": 0
      },
      "text/plain": [
       "Batches:   0%|          | 0/1 [00:00<?, ?it/s]"
      ]
     },
     "metadata": {},
     "output_type": "display_data"
    },
    {
     "data": {
      "application/vnd.jupyter.widget-view+json": {
       "model_id": "af7a3ff4988045c9a5f3cff113c311c3",
       "version_major": 2,
       "version_minor": 0
      },
      "text/plain": [
       "Batches:   0%|          | 0/1 [00:00<?, ?it/s]"
      ]
     },
     "metadata": {},
     "output_type": "display_data"
    },
    {
     "data": {
      "application/vnd.jupyter.widget-view+json": {
       "model_id": "cc5032efe148486ab25bf1d28d76766b",
       "version_major": 2,
       "version_minor": 0
      },
      "text/plain": [
       "Batches:   0%|          | 0/1 [00:00<?, ?it/s]"
      ]
     },
     "metadata": {},
     "output_type": "display_data"
    },
    {
     "data": {
      "application/vnd.jupyter.widget-view+json": {
       "model_id": "ea0ffdaa300e4d92a0d29c947a57f02c",
       "version_major": 2,
       "version_minor": 0
      },
      "text/plain": [
       "Batches:   0%|          | 0/1 [00:00<?, ?it/s]"
      ]
     },
     "metadata": {},
     "output_type": "display_data"
    },
    {
     "data": {
      "application/vnd.jupyter.widget-view+json": {
       "model_id": "4ed793c4d584413e9a392c598dedc6be",
       "version_major": 2,
       "version_minor": 0
      },
      "text/plain": [
       "Batches:   0%|          | 0/1 [00:00<?, ?it/s]"
      ]
     },
     "metadata": {},
     "output_type": "display_data"
    },
    {
     "data": {
      "application/vnd.jupyter.widget-view+json": {
       "model_id": "cbc8123fe8904c1ebcc16d72f5cf6a97",
       "version_major": 2,
       "version_minor": 0
      },
      "text/plain": [
       "Batches:   0%|          | 0/1 [00:00<?, ?it/s]"
      ]
     },
     "metadata": {},
     "output_type": "display_data"
    },
    {
     "data": {
      "application/vnd.jupyter.widget-view+json": {
       "model_id": "38e785b249e947ea83d7cee064b6e6ed",
       "version_major": 2,
       "version_minor": 0
      },
      "text/plain": [
       "Batches:   0%|          | 0/1 [00:00<?, ?it/s]"
      ]
     },
     "metadata": {},
     "output_type": "display_data"
    },
    {
     "data": {
      "application/vnd.jupyter.widget-view+json": {
       "model_id": "b55519b20c564b0f9ca38fe92796b5f6",
       "version_major": 2,
       "version_minor": 0
      },
      "text/plain": [
       "Batches:   0%|          | 0/1 [00:00<?, ?it/s]"
      ]
     },
     "metadata": {},
     "output_type": "display_data"
    },
    {
     "data": {
      "application/vnd.jupyter.widget-view+json": {
       "model_id": "d5ae5ee5c5724658b934b35ed8b54f87",
       "version_major": 2,
       "version_minor": 0
      },
      "text/plain": [
       "Batches:   0%|          | 0/1 [00:00<?, ?it/s]"
      ]
     },
     "metadata": {},
     "output_type": "display_data"
    },
    {
     "data": {
      "application/vnd.jupyter.widget-view+json": {
       "model_id": "4ea289d87be84b858dbf7c6b63d037f7",
       "version_major": 2,
       "version_minor": 0
      },
      "text/plain": [
       "Batches:   0%|          | 0/1 [00:00<?, ?it/s]"
      ]
     },
     "metadata": {},
     "output_type": "display_data"
    },
    {
     "data": {
      "application/vnd.jupyter.widget-view+json": {
       "model_id": "dee1873de9684bad8961d3cad04ce6cb",
       "version_major": 2,
       "version_minor": 0
      },
      "text/plain": [
       "Batches:   0%|          | 0/1 [00:00<?, ?it/s]"
      ]
     },
     "metadata": {},
     "output_type": "display_data"
    },
    {
     "data": {
      "application/vnd.jupyter.widget-view+json": {
       "model_id": "2598a23856b7446a9910e030656303c4",
       "version_major": 2,
       "version_minor": 0
      },
      "text/plain": [
       "Batches:   0%|          | 0/1 [00:00<?, ?it/s]"
      ]
     },
     "metadata": {},
     "output_type": "display_data"
    },
    {
     "data": {
      "application/vnd.jupyter.widget-view+json": {
       "model_id": "aa85e1acebac446a8280a9d718a53a07",
       "version_major": 2,
       "version_minor": 0
      },
      "text/plain": [
       "Batches:   0%|          | 0/1 [00:00<?, ?it/s]"
      ]
     },
     "metadata": {},
     "output_type": "display_data"
    },
    {
     "data": {
      "application/vnd.jupyter.widget-view+json": {
       "model_id": "9f6e012040864d22b151d0c29caf292f",
       "version_major": 2,
       "version_minor": 0
      },
      "text/plain": [
       "Batches:   0%|          | 0/1 [00:00<?, ?it/s]"
      ]
     },
     "metadata": {},
     "output_type": "display_data"
    },
    {
     "data": {
      "application/vnd.jupyter.widget-view+json": {
       "model_id": "a29d35ba5ccd404bb0e475193468f160",
       "version_major": 2,
       "version_minor": 0
      },
      "text/plain": [
       "Batches:   0%|          | 0/1 [00:00<?, ?it/s]"
      ]
     },
     "metadata": {},
     "output_type": "display_data"
    },
    {
     "data": {
      "application/vnd.jupyter.widget-view+json": {
       "model_id": "411ff7237fa042e58586f3a588832345",
       "version_major": 2,
       "version_minor": 0
      },
      "text/plain": [
       "Batches:   0%|          | 0/1 [00:00<?, ?it/s]"
      ]
     },
     "metadata": {},
     "output_type": "display_data"
    },
    {
     "data": {
      "application/vnd.jupyter.widget-view+json": {
       "model_id": "15b1f19042324a2c91aa826ea3e626a2",
       "version_major": 2,
       "version_minor": 0
      },
      "text/plain": [
       "Batches:   0%|          | 0/1 [00:00<?, ?it/s]"
      ]
     },
     "metadata": {},
     "output_type": "display_data"
    },
    {
     "data": {
      "application/vnd.jupyter.widget-view+json": {
       "model_id": "fddd33de8ab54707a80c59d77e0b5550",
       "version_major": 2,
       "version_minor": 0
      },
      "text/plain": [
       "Batches:   0%|          | 0/1 [00:00<?, ?it/s]"
      ]
     },
     "metadata": {},
     "output_type": "display_data"
    },
    {
     "data": {
      "application/vnd.jupyter.widget-view+json": {
       "model_id": "6b31545034f9447d8f071b4e3ae37074",
       "version_major": 2,
       "version_minor": 0
      },
      "text/plain": [
       "Batches:   0%|          | 0/1 [00:00<?, ?it/s]"
      ]
     },
     "metadata": {},
     "output_type": "display_data"
    },
    {
     "data": {
      "application/vnd.jupyter.widget-view+json": {
       "model_id": "37b832ad6b664efeb7e4e8904d5d2ecb",
       "version_major": 2,
       "version_minor": 0
      },
      "text/plain": [
       "Batches:   0%|          | 0/1 [00:00<?, ?it/s]"
      ]
     },
     "metadata": {},
     "output_type": "display_data"
    },
    {
     "data": {
      "application/vnd.jupyter.widget-view+json": {
       "model_id": "7d9415a7f26443578f3c8c292a832868",
       "version_major": 2,
       "version_minor": 0
      },
      "text/plain": [
       "Batches:   0%|          | 0/1 [00:00<?, ?it/s]"
      ]
     },
     "metadata": {},
     "output_type": "display_data"
    },
    {
     "data": {
      "application/vnd.jupyter.widget-view+json": {
       "model_id": "5f0e7bcd4c62494aaba0af5c77bdcf03",
       "version_major": 2,
       "version_minor": 0
      },
      "text/plain": [
       "Batches:   0%|          | 0/1 [00:00<?, ?it/s]"
      ]
     },
     "metadata": {},
     "output_type": "display_data"
    },
    {
     "data": {
      "application/vnd.jupyter.widget-view+json": {
       "model_id": "73f434956bdd4248a09b2a4292e9d6a6",
       "version_major": 2,
       "version_minor": 0
      },
      "text/plain": [
       "Batches:   0%|          | 0/1 [00:00<?, ?it/s]"
      ]
     },
     "metadata": {},
     "output_type": "display_data"
    },
    {
     "data": {
      "application/vnd.jupyter.widget-view+json": {
       "model_id": "72cafe5648124bf29a2832436323e604",
       "version_major": 2,
       "version_minor": 0
      },
      "text/plain": [
       "Batches:   0%|          | 0/1 [00:00<?, ?it/s]"
      ]
     },
     "metadata": {},
     "output_type": "display_data"
    },
    {
     "data": {
      "application/vnd.jupyter.widget-view+json": {
       "model_id": "4680c594d25146bd9df27fb95f3b2c1d",
       "version_major": 2,
       "version_minor": 0
      },
      "text/plain": [
       "Batches:   0%|          | 0/1 [00:00<?, ?it/s]"
      ]
     },
     "metadata": {},
     "output_type": "display_data"
    },
    {
     "data": {
      "application/vnd.jupyter.widget-view+json": {
       "model_id": "237f6e0856f54973801d3fa95e666fa1",
       "version_major": 2,
       "version_minor": 0
      },
      "text/plain": [
       "Batches:   0%|          | 0/1 [00:00<?, ?it/s]"
      ]
     },
     "metadata": {},
     "output_type": "display_data"
    },
    {
     "data": {
      "application/vnd.jupyter.widget-view+json": {
       "model_id": "3dacc29028c7419bb8c20cffbc6f5911",
       "version_major": 2,
       "version_minor": 0
      },
      "text/plain": [
       "Batches:   0%|          | 0/1 [00:00<?, ?it/s]"
      ]
     },
     "metadata": {},
     "output_type": "display_data"
    },
    {
     "data": {
      "application/vnd.jupyter.widget-view+json": {
       "model_id": "a48e2255f5954772aed9657188d37133",
       "version_major": 2,
       "version_minor": 0
      },
      "text/plain": [
       "Batches:   0%|          | 0/1 [00:00<?, ?it/s]"
      ]
     },
     "metadata": {},
     "output_type": "display_data"
    },
    {
     "data": {
      "application/vnd.jupyter.widget-view+json": {
       "model_id": "cad59ffa74194e58888326e27b0b8420",
       "version_major": 2,
       "version_minor": 0
      },
      "text/plain": [
       "Batches:   0%|          | 0/1 [00:00<?, ?it/s]"
      ]
     },
     "metadata": {},
     "output_type": "display_data"
    },
    {
     "data": {
      "application/vnd.jupyter.widget-view+json": {
       "model_id": "1ff6049e46244c849cb71de4fabda526",
       "version_major": 2,
       "version_minor": 0
      },
      "text/plain": [
       "Batches:   0%|          | 0/1 [00:00<?, ?it/s]"
      ]
     },
     "metadata": {},
     "output_type": "display_data"
    },
    {
     "data": {
      "application/vnd.jupyter.widget-view+json": {
       "model_id": "4c90d30bf4e9404e91ce2eca8d97255e",
       "version_major": 2,
       "version_minor": 0
      },
      "text/plain": [
       "Batches:   0%|          | 0/1 [00:00<?, ?it/s]"
      ]
     },
     "metadata": {},
     "output_type": "display_data"
    },
    {
     "data": {
      "application/vnd.jupyter.widget-view+json": {
       "model_id": "5aba449f178d46298be7ea2156dd893e",
       "version_major": 2,
       "version_minor": 0
      },
      "text/plain": [
       "Batches:   0%|          | 0/1 [00:00<?, ?it/s]"
      ]
     },
     "metadata": {},
     "output_type": "display_data"
    },
    {
     "data": {
      "application/vnd.jupyter.widget-view+json": {
       "model_id": "edcd6fc2e6d14317a9234ec76af96998",
       "version_major": 2,
       "version_minor": 0
      },
      "text/plain": [
       "Batches:   0%|          | 0/1 [00:00<?, ?it/s]"
      ]
     },
     "metadata": {},
     "output_type": "display_data"
    },
    {
     "data": {
      "application/vnd.jupyter.widget-view+json": {
       "model_id": "1433337c86c8406a95411b313f6e72ef",
       "version_major": 2,
       "version_minor": 0
      },
      "text/plain": [
       "Batches:   0%|          | 0/1 [00:00<?, ?it/s]"
      ]
     },
     "metadata": {},
     "output_type": "display_data"
    },
    {
     "data": {
      "application/vnd.jupyter.widget-view+json": {
       "model_id": "69f7b7c277b14929b48426fc4694696a",
       "version_major": 2,
       "version_minor": 0
      },
      "text/plain": [
       "Batches:   0%|          | 0/1 [00:00<?, ?it/s]"
      ]
     },
     "metadata": {},
     "output_type": "display_data"
    },
    {
     "data": {
      "application/vnd.jupyter.widget-view+json": {
       "model_id": "af69ca0b711541d583ca8ffaa769e6f6",
       "version_major": 2,
       "version_minor": 0
      },
      "text/plain": [
       "Batches:   0%|          | 0/1 [00:00<?, ?it/s]"
      ]
     },
     "metadata": {},
     "output_type": "display_data"
    },
    {
     "data": {
      "application/vnd.jupyter.widget-view+json": {
       "model_id": "45c495000abc4ec89a1589da849bb14a",
       "version_major": 2,
       "version_minor": 0
      },
      "text/plain": [
       "Batches:   0%|          | 0/1 [00:00<?, ?it/s]"
      ]
     },
     "metadata": {},
     "output_type": "display_data"
    },
    {
     "data": {
      "application/vnd.jupyter.widget-view+json": {
       "model_id": "556aa2bf34b04ee7b9e46fb4ca916f47",
       "version_major": 2,
       "version_minor": 0
      },
      "text/plain": [
       "Batches:   0%|          | 0/1 [00:00<?, ?it/s]"
      ]
     },
     "metadata": {},
     "output_type": "display_data"
    },
    {
     "data": {
      "application/vnd.jupyter.widget-view+json": {
       "model_id": "f69944b19a2644c19a49fd6b36ba80c6",
       "version_major": 2,
       "version_minor": 0
      },
      "text/plain": [
       "Batches:   0%|          | 0/1 [00:00<?, ?it/s]"
      ]
     },
     "metadata": {},
     "output_type": "display_data"
    },
    {
     "data": {
      "application/vnd.jupyter.widget-view+json": {
       "model_id": "d2af243455d44cdaa868fad0b85a5a50",
       "version_major": 2,
       "version_minor": 0
      },
      "text/plain": [
       "Batches:   0%|          | 0/1 [00:00<?, ?it/s]"
      ]
     },
     "metadata": {},
     "output_type": "display_data"
    },
    {
     "data": {
      "application/vnd.jupyter.widget-view+json": {
       "model_id": "8022f5da4a534d1aa0b08dea1fb0776b",
       "version_major": 2,
       "version_minor": 0
      },
      "text/plain": [
       "Batches:   0%|          | 0/1 [00:00<?, ?it/s]"
      ]
     },
     "metadata": {},
     "output_type": "display_data"
    },
    {
     "data": {
      "application/vnd.jupyter.widget-view+json": {
       "model_id": "b8056086d8ad453ba1c5354fd01904e3",
       "version_major": 2,
       "version_minor": 0
      },
      "text/plain": [
       "Batches:   0%|          | 0/1 [00:00<?, ?it/s]"
      ]
     },
     "metadata": {},
     "output_type": "display_data"
    },
    {
     "data": {
      "application/vnd.jupyter.widget-view+json": {
       "model_id": "c42c27517b6d499292f5bd423931785d",
       "version_major": 2,
       "version_minor": 0
      },
      "text/plain": [
       "Batches:   0%|          | 0/1 [00:00<?, ?it/s]"
      ]
     },
     "metadata": {},
     "output_type": "display_data"
    },
    {
     "data": {
      "application/vnd.jupyter.widget-view+json": {
       "model_id": "9fdd31aa0d474f57b80cb45863d9625a",
       "version_major": 2,
       "version_minor": 0
      },
      "text/plain": [
       "Batches:   0%|          | 0/1 [00:00<?, ?it/s]"
      ]
     },
     "metadata": {},
     "output_type": "display_data"
    },
    {
     "data": {
      "application/vnd.jupyter.widget-view+json": {
       "model_id": "2f75a074dff1418e8a033bf7dd9e49e0",
       "version_major": 2,
       "version_minor": 0
      },
      "text/plain": [
       "Batches:   0%|          | 0/1 [00:00<?, ?it/s]"
      ]
     },
     "metadata": {},
     "output_type": "display_data"
    },
    {
     "data": {
      "application/vnd.jupyter.widget-view+json": {
       "model_id": "9b295c33544f41348d76f0364ff9d7c0",
       "version_major": 2,
       "version_minor": 0
      },
      "text/plain": [
       "Batches:   0%|          | 0/1 [00:00<?, ?it/s]"
      ]
     },
     "metadata": {},
     "output_type": "display_data"
    },
    {
     "data": {
      "application/vnd.jupyter.widget-view+json": {
       "model_id": "291836a53b3e44acbac2006d45fac73e",
       "version_major": 2,
       "version_minor": 0
      },
      "text/plain": [
       "Batches:   0%|          | 0/1 [00:00<?, ?it/s]"
      ]
     },
     "metadata": {},
     "output_type": "display_data"
    },
    {
     "data": {
      "application/vnd.jupyter.widget-view+json": {
       "model_id": "b293158b89e64587a9e824e1b4bd2bf6",
       "version_major": 2,
       "version_minor": 0
      },
      "text/plain": [
       "Batches:   0%|          | 0/1 [00:00<?, ?it/s]"
      ]
     },
     "metadata": {},
     "output_type": "display_data"
    },
    {
     "data": {
      "application/vnd.jupyter.widget-view+json": {
       "model_id": "7af26bf4ce6840a88abd89bc09bf7925",
       "version_major": 2,
       "version_minor": 0
      },
      "text/plain": [
       "Batches:   0%|          | 0/1 [00:00<?, ?it/s]"
      ]
     },
     "metadata": {},
     "output_type": "display_data"
    },
    {
     "data": {
      "application/vnd.jupyter.widget-view+json": {
       "model_id": "d306f1bd0bf141be8ef665df89bf1bca",
       "version_major": 2,
       "version_minor": 0
      },
      "text/plain": [
       "Batches:   0%|          | 0/1 [00:00<?, ?it/s]"
      ]
     },
     "metadata": {},
     "output_type": "display_data"
    },
    {
     "data": {
      "application/vnd.jupyter.widget-view+json": {
       "model_id": "bd7ba78833a641269e4964d2b1eb940f",
       "version_major": 2,
       "version_minor": 0
      },
      "text/plain": [
       "Batches:   0%|          | 0/1 [00:00<?, ?it/s]"
      ]
     },
     "metadata": {},
     "output_type": "display_data"
    },
    {
     "data": {
      "application/vnd.jupyter.widget-view+json": {
       "model_id": "6d4c958f4de74137875a42bd4ef3e98c",
       "version_major": 2,
       "version_minor": 0
      },
      "text/plain": [
       "Batches:   0%|          | 0/1 [00:00<?, ?it/s]"
      ]
     },
     "metadata": {},
     "output_type": "display_data"
    },
    {
     "data": {
      "application/vnd.jupyter.widget-view+json": {
       "model_id": "6a7f34bd51cc479ebb62fbf19bea8c33",
       "version_major": 2,
       "version_minor": 0
      },
      "text/plain": [
       "Batches:   0%|          | 0/1 [00:00<?, ?it/s]"
      ]
     },
     "metadata": {},
     "output_type": "display_data"
    },
    {
     "data": {
      "application/vnd.jupyter.widget-view+json": {
       "model_id": "fdd2639079a04c57bff9a5c43af1f9a1",
       "version_major": 2,
       "version_minor": 0
      },
      "text/plain": [
       "Batches:   0%|          | 0/1 [00:00<?, ?it/s]"
      ]
     },
     "metadata": {},
     "output_type": "display_data"
    },
    {
     "data": {
      "application/vnd.jupyter.widget-view+json": {
       "model_id": "3604c17895d44b4d936e6adb27b644c2",
       "version_major": 2,
       "version_minor": 0
      },
      "text/plain": [
       "Batches:   0%|          | 0/1 [00:00<?, ?it/s]"
      ]
     },
     "metadata": {},
     "output_type": "display_data"
    },
    {
     "data": {
      "application/vnd.jupyter.widget-view+json": {
       "model_id": "2fae4c102719441c97c483b7d4fd7b08",
       "version_major": 2,
       "version_minor": 0
      },
      "text/plain": [
       "Batches:   0%|          | 0/1 [00:00<?, ?it/s]"
      ]
     },
     "metadata": {},
     "output_type": "display_data"
    },
    {
     "data": {
      "application/vnd.jupyter.widget-view+json": {
       "model_id": "56f580b91bc843c999619d2cb207b397",
       "version_major": 2,
       "version_minor": 0
      },
      "text/plain": [
       "Batches:   0%|          | 0/1 [00:00<?, ?it/s]"
      ]
     },
     "metadata": {},
     "output_type": "display_data"
    },
    {
     "data": {
      "application/vnd.jupyter.widget-view+json": {
       "model_id": "37459c61b1cf4fb2b9cfdedf669d1682",
       "version_major": 2,
       "version_minor": 0
      },
      "text/plain": [
       "Batches:   0%|          | 0/1 [00:00<?, ?it/s]"
      ]
     },
     "metadata": {},
     "output_type": "display_data"
    },
    {
     "name": "stderr",
     "output_type": "stream",
     "text": [
      "`embedding_function` is expected to be an Embeddings object, support for passing in a function will soon be removed.\n"
     ]
    },
    {
     "data": {
      "application/vnd.jupyter.widget-view+json": {
       "model_id": "6aa26ae6193b4f5e8dd1c7155881aa1a",
       "version_major": 2,
       "version_minor": 0
      },
      "text/plain": [
       "Batches:   0%|          | 0/1 [00:00<?, ?it/s]"
      ]
     },
     "metadata": {},
     "output_type": "display_data"
    },
    {
     "data": {
      "application/vnd.jupyter.widget-view+json": {
       "model_id": "331e71131d13460797eacb22a3c97821",
       "version_major": 2,
       "version_minor": 0
      },
      "text/plain": [
       "Batches:   0%|          | 0/1 [00:00<?, ?it/s]"
      ]
     },
     "metadata": {},
     "output_type": "display_data"
    },
    {
     "data": {
      "application/vnd.jupyter.widget-view+json": {
       "model_id": "ce7812bb190f4c40b4b8db7ee475b587",
       "version_major": 2,
       "version_minor": 0
      },
      "text/plain": [
       "Batches:   0%|          | 0/1 [00:00<?, ?it/s]"
      ]
     },
     "metadata": {},
     "output_type": "display_data"
    },
    {
     "data": {
      "application/vnd.jupyter.widget-view+json": {
       "model_id": "4b9cb3b3d32b43eb9069993319437e85",
       "version_major": 2,
       "version_minor": 0
      },
      "text/plain": [
       "Batches:   0%|          | 0/1 [00:00<?, ?it/s]"
      ]
     },
     "metadata": {},
     "output_type": "display_data"
    },
    {
     "data": {
      "application/vnd.jupyter.widget-view+json": {
       "model_id": "f86662b25fd34194bd1f7fe194e80604",
       "version_major": 2,
       "version_minor": 0
      },
      "text/plain": [
       "Batches:   0%|          | 0/1 [00:00<?, ?it/s]"
      ]
     },
     "metadata": {},
     "output_type": "display_data"
    },
    {
     "data": {
      "application/vnd.jupyter.widget-view+json": {
       "model_id": "52aa2d846cc94656b3561c1fd4b23dac",
       "version_major": 2,
       "version_minor": 0
      },
      "text/plain": [
       "Batches:   0%|          | 0/1 [00:00<?, ?it/s]"
      ]
     },
     "metadata": {},
     "output_type": "display_data"
    },
    {
     "data": {
      "application/vnd.jupyter.widget-view+json": {
       "model_id": "c49ca824fa9841729909fa3b1ab18126",
       "version_major": 2,
       "version_minor": 0
      },
      "text/plain": [
       "Batches:   0%|          | 0/1 [00:00<?, ?it/s]"
      ]
     },
     "metadata": {},
     "output_type": "display_data"
    },
    {
     "data": {
      "application/vnd.jupyter.widget-view+json": {
       "model_id": "7e848fe96a65495592cc12b15bc4de85",
       "version_major": 2,
       "version_minor": 0
      },
      "text/plain": [
       "Batches:   0%|          | 0/1 [00:00<?, ?it/s]"
      ]
     },
     "metadata": {},
     "output_type": "display_data"
    },
    {
     "data": {
      "application/vnd.jupyter.widget-view+json": {
       "model_id": "440d7790e22446869e50fad858786119",
       "version_major": 2,
       "version_minor": 0
      },
      "text/plain": [
       "Batches:   0%|          | 0/1 [00:00<?, ?it/s]"
      ]
     },
     "metadata": {},
     "output_type": "display_data"
    },
    {
     "data": {
      "application/vnd.jupyter.widget-view+json": {
       "model_id": "d229164b1d8f4cd3883482e567db95a4",
       "version_major": 2,
       "version_minor": 0
      },
      "text/plain": [
       "Batches:   0%|          | 0/1 [00:00<?, ?it/s]"
      ]
     },
     "metadata": {},
     "output_type": "display_data"
    },
    {
     "data": {
      "application/vnd.jupyter.widget-view+json": {
       "model_id": "46e8d2cf05cf4a24b42f73a9cfe53863",
       "version_major": 2,
       "version_minor": 0
      },
      "text/plain": [
       "Batches:   0%|          | 0/1 [00:00<?, ?it/s]"
      ]
     },
     "metadata": {},
     "output_type": "display_data"
    },
    {
     "data": {
      "application/vnd.jupyter.widget-view+json": {
       "model_id": "6df06a228d534875823b5b8461965707",
       "version_major": 2,
       "version_minor": 0
      },
      "text/plain": [
       "Batches:   0%|          | 0/1 [00:00<?, ?it/s]"
      ]
     },
     "metadata": {},
     "output_type": "display_data"
    },
    {
     "data": {
      "application/vnd.jupyter.widget-view+json": {
       "model_id": "07d3029f423c4bcd97c6c499f4c831ca",
       "version_major": 2,
       "version_minor": 0
      },
      "text/plain": [
       "Batches:   0%|          | 0/1 [00:00<?, ?it/s]"
      ]
     },
     "metadata": {},
     "output_type": "display_data"
    },
    {
     "data": {
      "application/vnd.jupyter.widget-view+json": {
       "model_id": "f7f6b64bd7dc4635915fc4306c58891c",
       "version_major": 2,
       "version_minor": 0
      },
      "text/plain": [
       "Batches:   0%|          | 0/1 [00:00<?, ?it/s]"
      ]
     },
     "metadata": {},
     "output_type": "display_data"
    },
    {
     "data": {
      "application/vnd.jupyter.widget-view+json": {
       "model_id": "8c5e73c2e3634a85aa78d40552de9458",
       "version_major": 2,
       "version_minor": 0
      },
      "text/plain": [
       "Batches:   0%|          | 0/1 [00:00<?, ?it/s]"
      ]
     },
     "metadata": {},
     "output_type": "display_data"
    },
    {
     "data": {
      "application/vnd.jupyter.widget-view+json": {
       "model_id": "4d834ab29f8443078ae361d058102587",
       "version_major": 2,
       "version_minor": 0
      },
      "text/plain": [
       "Batches:   0%|          | 0/1 [00:00<?, ?it/s]"
      ]
     },
     "metadata": {},
     "output_type": "display_data"
    },
    {
     "data": {
      "application/vnd.jupyter.widget-view+json": {
       "model_id": "b908f0091a9a434fae459395b7eacc5d",
       "version_major": 2,
       "version_minor": 0
      },
      "text/plain": [
       "Batches:   0%|          | 0/1 [00:00<?, ?it/s]"
      ]
     },
     "metadata": {},
     "output_type": "display_data"
    },
    {
     "data": {
      "application/vnd.jupyter.widget-view+json": {
       "model_id": "a8785f0e5ee2471083ffda18706d922e",
       "version_major": 2,
       "version_minor": 0
      },
      "text/plain": [
       "Batches:   0%|          | 0/1 [00:00<?, ?it/s]"
      ]
     },
     "metadata": {},
     "output_type": "display_data"
    },
    {
     "data": {
      "application/vnd.jupyter.widget-view+json": {
       "model_id": "6e8e545e66c941eca01bf8bb476f1627",
       "version_major": 2,
       "version_minor": 0
      },
      "text/plain": [
       "Batches:   0%|          | 0/1 [00:00<?, ?it/s]"
      ]
     },
     "metadata": {},
     "output_type": "display_data"
    },
    {
     "data": {
      "application/vnd.jupyter.widget-view+json": {
       "model_id": "ff1cb2167b4d41ada7e650dad1c06d3c",
       "version_major": 2,
       "version_minor": 0
      },
      "text/plain": [
       "Batches:   0%|          | 0/1 [00:00<?, ?it/s]"
      ]
     },
     "metadata": {},
     "output_type": "display_data"
    },
    {
     "data": {
      "application/vnd.jupyter.widget-view+json": {
       "model_id": "74c8cc64970e46cb8eb28107b3824d0b",
       "version_major": 2,
       "version_minor": 0
      },
      "text/plain": [
       "Batches:   0%|          | 0/1 [00:00<?, ?it/s]"
      ]
     },
     "metadata": {},
     "output_type": "display_data"
    },
    {
     "data": {
      "application/vnd.jupyter.widget-view+json": {
       "model_id": "f2da5c168e47408182cfe99d7f13d3f1",
       "version_major": 2,
       "version_minor": 0
      },
      "text/plain": [
       "Batches:   0%|          | 0/1 [00:00<?, ?it/s]"
      ]
     },
     "metadata": {},
     "output_type": "display_data"
    },
    {
     "data": {
      "application/vnd.jupyter.widget-view+json": {
       "model_id": "0e4612976ed94710b429402f768d0d62",
       "version_major": 2,
       "version_minor": 0
      },
      "text/plain": [
       "Batches:   0%|          | 0/1 [00:00<?, ?it/s]"
      ]
     },
     "metadata": {},
     "output_type": "display_data"
    },
    {
     "data": {
      "application/vnd.jupyter.widget-view+json": {
       "model_id": "0efe2de1f7cc4ff09df3609147aa3459",
       "version_major": 2,
       "version_minor": 0
      },
      "text/plain": [
       "Batches:   0%|          | 0/1 [00:00<?, ?it/s]"
      ]
     },
     "metadata": {},
     "output_type": "display_data"
    },
    {
     "data": {
      "application/vnd.jupyter.widget-view+json": {
       "model_id": "53bb47d3e8934a50ab86b152d971020a",
       "version_major": 2,
       "version_minor": 0
      },
      "text/plain": [
       "Batches:   0%|          | 0/1 [00:00<?, ?it/s]"
      ]
     },
     "metadata": {},
     "output_type": "display_data"
    },
    {
     "data": {
      "application/vnd.jupyter.widget-view+json": {
       "model_id": "f237f5104af243d98cd8ad0738a1b77d",
       "version_major": 2,
       "version_minor": 0
      },
      "text/plain": [
       "Batches:   0%|          | 0/1 [00:00<?, ?it/s]"
      ]
     },
     "metadata": {},
     "output_type": "display_data"
    },
    {
     "data": {
      "application/vnd.jupyter.widget-view+json": {
       "model_id": "15cbd69c59f849f09edf8527913e26f1",
       "version_major": 2,
       "version_minor": 0
      },
      "text/plain": [
       "Batches:   0%|          | 0/1 [00:00<?, ?it/s]"
      ]
     },
     "metadata": {},
     "output_type": "display_data"
    },
    {
     "data": {
      "application/vnd.jupyter.widget-view+json": {
       "model_id": "06d586a821be461b9570afa20655f51b",
       "version_major": 2,
       "version_minor": 0
      },
      "text/plain": [
       "Batches:   0%|          | 0/1 [00:00<?, ?it/s]"
      ]
     },
     "metadata": {},
     "output_type": "display_data"
    },
    {
     "data": {
      "application/vnd.jupyter.widget-view+json": {
       "model_id": "3796b90614ad4dc7ad453becf6a2c8b5",
       "version_major": 2,
       "version_minor": 0
      },
      "text/plain": [
       "Batches:   0%|          | 0/1 [00:00<?, ?it/s]"
      ]
     },
     "metadata": {},
     "output_type": "display_data"
    },
    {
     "data": {
      "application/vnd.jupyter.widget-view+json": {
       "model_id": "d179adcf14754cc195682c252c874401",
       "version_major": 2,
       "version_minor": 0
      },
      "text/plain": [
       "Batches:   0%|          | 0/1 [00:00<?, ?it/s]"
      ]
     },
     "metadata": {},
     "output_type": "display_data"
    },
    {
     "data": {
      "application/vnd.jupyter.widget-view+json": {
       "model_id": "0b7c2a89da2e4eb88a8d5104c108ddfe",
       "version_major": 2,
       "version_minor": 0
      },
      "text/plain": [
       "Batches:   0%|          | 0/1 [00:00<?, ?it/s]"
      ]
     },
     "metadata": {},
     "output_type": "display_data"
    },
    {
     "data": {
      "application/vnd.jupyter.widget-view+json": {
       "model_id": "93cfff6469704050933f421566d4c293",
       "version_major": 2,
       "version_minor": 0
      },
      "text/plain": [
       "Batches:   0%|          | 0/1 [00:00<?, ?it/s]"
      ]
     },
     "metadata": {},
     "output_type": "display_data"
    },
    {
     "data": {
      "application/vnd.jupyter.widget-view+json": {
       "model_id": "7393313e7bd04715b32b32a322b5daa7",
       "version_major": 2,
       "version_minor": 0
      },
      "text/plain": [
       "Batches:   0%|          | 0/1 [00:00<?, ?it/s]"
      ]
     },
     "metadata": {},
     "output_type": "display_data"
    },
    {
     "data": {
      "application/vnd.jupyter.widget-view+json": {
       "model_id": "a5779d4534fb4e2192e8e34e3d4444f3",
       "version_major": 2,
       "version_minor": 0
      },
      "text/plain": [
       "Batches:   0%|          | 0/1 [00:00<?, ?it/s]"
      ]
     },
     "metadata": {},
     "output_type": "display_data"
    },
    {
     "data": {
      "application/vnd.jupyter.widget-view+json": {
       "model_id": "ab617bf9c3cd4022951b2a4715462ce4",
       "version_major": 2,
       "version_minor": 0
      },
      "text/plain": [
       "Batches:   0%|          | 0/1 [00:00<?, ?it/s]"
      ]
     },
     "metadata": {},
     "output_type": "display_data"
    },
    {
     "data": {
      "application/vnd.jupyter.widget-view+json": {
       "model_id": "e1d0bb8935a1492da95d342083bd4255",
       "version_major": 2,
       "version_minor": 0
      },
      "text/plain": [
       "Batches:   0%|          | 0/1 [00:00<?, ?it/s]"
      ]
     },
     "metadata": {},
     "output_type": "display_data"
    },
    {
     "data": {
      "application/vnd.jupyter.widget-view+json": {
       "model_id": "3073dd8dfe3745aa8ce109b393a4ed0c",
       "version_major": 2,
       "version_minor": 0
      },
      "text/plain": [
       "Batches:   0%|          | 0/1 [00:00<?, ?it/s]"
      ]
     },
     "metadata": {},
     "output_type": "display_data"
    },
    {
     "data": {
      "application/vnd.jupyter.widget-view+json": {
       "model_id": "51a82c54644045dca51d4f296d99dd2e",
       "version_major": 2,
       "version_minor": 0
      },
      "text/plain": [
       "Batches:   0%|          | 0/1 [00:00<?, ?it/s]"
      ]
     },
     "metadata": {},
     "output_type": "display_data"
    },
    {
     "data": {
      "application/vnd.jupyter.widget-view+json": {
       "model_id": "d554a3aeae48459f85b6cd2293835646",
       "version_major": 2,
       "version_minor": 0
      },
      "text/plain": [
       "Batches:   0%|          | 0/1 [00:00<?, ?it/s]"
      ]
     },
     "metadata": {},
     "output_type": "display_data"
    },
    {
     "data": {
      "application/vnd.jupyter.widget-view+json": {
       "model_id": "b85876853ac043dd91c46f445e0e3e06",
       "version_major": 2,
       "version_minor": 0
      },
      "text/plain": [
       "Batches:   0%|          | 0/1 [00:00<?, ?it/s]"
      ]
     },
     "metadata": {},
     "output_type": "display_data"
    },
    {
     "data": {
      "application/vnd.jupyter.widget-view+json": {
       "model_id": "27b1057f015c4184ae206916ae4596f8",
       "version_major": 2,
       "version_minor": 0
      },
      "text/plain": [
       "Batches:   0%|          | 0/1 [00:00<?, ?it/s]"
      ]
     },
     "metadata": {},
     "output_type": "display_data"
    },
    {
     "data": {
      "application/vnd.jupyter.widget-view+json": {
       "model_id": "0ed507c5b0194eaca4993dc1885c6fbb",
       "version_major": 2,
       "version_minor": 0
      },
      "text/plain": [
       "Batches:   0%|          | 0/1 [00:00<?, ?it/s]"
      ]
     },
     "metadata": {},
     "output_type": "display_data"
    },
    {
     "data": {
      "application/vnd.jupyter.widget-view+json": {
       "model_id": "afaa524dc55f4479996a9129247a635d",
       "version_major": 2,
       "version_minor": 0
      },
      "text/plain": [
       "Batches:   0%|          | 0/1 [00:00<?, ?it/s]"
      ]
     },
     "metadata": {},
     "output_type": "display_data"
    },
    {
     "data": {
      "application/vnd.jupyter.widget-view+json": {
       "model_id": "1c20b9f659ed4ff8bcbef94251e27248",
       "version_major": 2,
       "version_minor": 0
      },
      "text/plain": [
       "Batches:   0%|          | 0/1 [00:00<?, ?it/s]"
      ]
     },
     "metadata": {},
     "output_type": "display_data"
    },
    {
     "data": {
      "application/vnd.jupyter.widget-view+json": {
       "model_id": "0bc326ff9a2b487e946d1ce583d693ba",
       "version_major": 2,
       "version_minor": 0
      },
      "text/plain": [
       "Batches:   0%|          | 0/1 [00:00<?, ?it/s]"
      ]
     },
     "metadata": {},
     "output_type": "display_data"
    },
    {
     "data": {
      "application/vnd.jupyter.widget-view+json": {
       "model_id": "b052563be85c4ee9af79d077e6553fd8",
       "version_major": 2,
       "version_minor": 0
      },
      "text/plain": [
       "Batches:   0%|          | 0/1 [00:00<?, ?it/s]"
      ]
     },
     "metadata": {},
     "output_type": "display_data"
    },
    {
     "data": {
      "application/vnd.jupyter.widget-view+json": {
       "model_id": "2fd01fdd057a4e77b5f95f198af31060",
       "version_major": 2,
       "version_minor": 0
      },
      "text/plain": [
       "Batches:   0%|          | 0/1 [00:00<?, ?it/s]"
      ]
     },
     "metadata": {},
     "output_type": "display_data"
    },
    {
     "data": {
      "application/vnd.jupyter.widget-view+json": {
       "model_id": "6434d54998414a87a09013233862951a",
       "version_major": 2,
       "version_minor": 0
      },
      "text/plain": [
       "Batches:   0%|          | 0/1 [00:00<?, ?it/s]"
      ]
     },
     "metadata": {},
     "output_type": "display_data"
    },
    {
     "data": {
      "application/vnd.jupyter.widget-view+json": {
       "model_id": "78b1e0030e89463c98fa5a4b8748b571",
       "version_major": 2,
       "version_minor": 0
      },
      "text/plain": [
       "Batches:   0%|          | 0/1 [00:00<?, ?it/s]"
      ]
     },
     "metadata": {},
     "output_type": "display_data"
    },
    {
     "data": {
      "application/vnd.jupyter.widget-view+json": {
       "model_id": "fe266c7dd3494f3a80d67659eb46eb7b",
       "version_major": 2,
       "version_minor": 0
      },
      "text/plain": [
       "Batches:   0%|          | 0/1 [00:00<?, ?it/s]"
      ]
     },
     "metadata": {},
     "output_type": "display_data"
    },
    {
     "data": {
      "application/vnd.jupyter.widget-view+json": {
       "model_id": "a98763981fce4302866c7b246cf1acea",
       "version_major": 2,
       "version_minor": 0
      },
      "text/plain": [
       "Batches:   0%|          | 0/1 [00:00<?, ?it/s]"
      ]
     },
     "metadata": {},
     "output_type": "display_data"
    },
    {
     "data": {
      "application/vnd.jupyter.widget-view+json": {
       "model_id": "6ca221c9c0714a8fb2eb344f3cd6897e",
       "version_major": 2,
       "version_minor": 0
      },
      "text/plain": [
       "Batches:   0%|          | 0/1 [00:00<?, ?it/s]"
      ]
     },
     "metadata": {},
     "output_type": "display_data"
    },
    {
     "data": {
      "application/vnd.jupyter.widget-view+json": {
       "model_id": "d3a2bd3c1c864c0fbb1de0f5a9b8ef33",
       "version_major": 2,
       "version_minor": 0
      },
      "text/plain": [
       "Batches:   0%|          | 0/1 [00:00<?, ?it/s]"
      ]
     },
     "metadata": {},
     "output_type": "display_data"
    },
    {
     "data": {
      "application/vnd.jupyter.widget-view+json": {
       "model_id": "98f4eab7e8a040118589448d1aae3685",
       "version_major": 2,
       "version_minor": 0
      },
      "text/plain": [
       "Batches:   0%|          | 0/1 [00:00<?, ?it/s]"
      ]
     },
     "metadata": {},
     "output_type": "display_data"
    },
    {
     "data": {
      "application/vnd.jupyter.widget-view+json": {
       "model_id": "fde230b8d63c41c89f2de7a8982cbf34",
       "version_major": 2,
       "version_minor": 0
      },
      "text/plain": [
       "Batches:   0%|          | 0/1 [00:00<?, ?it/s]"
      ]
     },
     "metadata": {},
     "output_type": "display_data"
    },
    {
     "data": {
      "application/vnd.jupyter.widget-view+json": {
       "model_id": "8c165c8f1bb048ad9dcff809059cd98c",
       "version_major": 2,
       "version_minor": 0
      },
      "text/plain": [
       "Batches:   0%|          | 0/1 [00:00<?, ?it/s]"
      ]
     },
     "metadata": {},
     "output_type": "display_data"
    },
    {
     "data": {
      "application/vnd.jupyter.widget-view+json": {
       "model_id": "a1c51d5887044cdb9e96e4f9a2a8853e",
       "version_major": 2,
       "version_minor": 0
      },
      "text/plain": [
       "Batches:   0%|          | 0/1 [00:00<?, ?it/s]"
      ]
     },
     "metadata": {},
     "output_type": "display_data"
    },
    {
     "data": {
      "application/vnd.jupyter.widget-view+json": {
       "model_id": "e36cc1476416462ca28db24d7ebf1db8",
       "version_major": 2,
       "version_minor": 0
      },
      "text/plain": [
       "Batches:   0%|          | 0/1 [00:00<?, ?it/s]"
      ]
     },
     "metadata": {},
     "output_type": "display_data"
    },
    {
     "data": {
      "application/vnd.jupyter.widget-view+json": {
       "model_id": "e433cf7a061f4f66a977d3788620f741",
       "version_major": 2,
       "version_minor": 0
      },
      "text/plain": [
       "Batches:   0%|          | 0/1 [00:00<?, ?it/s]"
      ]
     },
     "metadata": {},
     "output_type": "display_data"
    },
    {
     "data": {
      "application/vnd.jupyter.widget-view+json": {
       "model_id": "396b00d4fedf41738c45a32a69045e72",
       "version_major": 2,
       "version_minor": 0
      },
      "text/plain": [
       "Batches:   0%|          | 0/1 [00:00<?, ?it/s]"
      ]
     },
     "metadata": {},
     "output_type": "display_data"
    },
    {
     "data": {
      "application/vnd.jupyter.widget-view+json": {
       "model_id": "ed2db54575bc403bba138659d467672c",
       "version_major": 2,
       "version_minor": 0
      },
      "text/plain": [
       "Batches:   0%|          | 0/1 [00:00<?, ?it/s]"
      ]
     },
     "metadata": {},
     "output_type": "display_data"
    },
    {
     "data": {
      "application/vnd.jupyter.widget-view+json": {
       "model_id": "6073ea055b5e42cc8490805cb881f5bb",
       "version_major": 2,
       "version_minor": 0
      },
      "text/plain": [
       "Batches:   0%|          | 0/1 [00:00<?, ?it/s]"
      ]
     },
     "metadata": {},
     "output_type": "display_data"
    },
    {
     "data": {
      "application/vnd.jupyter.widget-view+json": {
       "model_id": "b194f55da89d4699a001d6565ff83165",
       "version_major": 2,
       "version_minor": 0
      },
      "text/plain": [
       "Batches:   0%|          | 0/1 [00:00<?, ?it/s]"
      ]
     },
     "metadata": {},
     "output_type": "display_data"
    },
    {
     "data": {
      "application/vnd.jupyter.widget-view+json": {
       "model_id": "ecff750fef724f819e204fc4a61adbde",
       "version_major": 2,
       "version_minor": 0
      },
      "text/plain": [
       "Batches:   0%|          | 0/1 [00:00<?, ?it/s]"
      ]
     },
     "metadata": {},
     "output_type": "display_data"
    },
    {
     "data": {
      "application/vnd.jupyter.widget-view+json": {
       "model_id": "d38d64f186bb4b368909f89f49b325f4",
       "version_major": 2,
       "version_minor": 0
      },
      "text/plain": [
       "Batches:   0%|          | 0/1 [00:00<?, ?it/s]"
      ]
     },
     "metadata": {},
     "output_type": "display_data"
    },
    {
     "data": {
      "application/vnd.jupyter.widget-view+json": {
       "model_id": "60c7b0c719914ed990501b81e5077e07",
       "version_major": 2,
       "version_minor": 0
      },
      "text/plain": [
       "Batches:   0%|          | 0/1 [00:00<?, ?it/s]"
      ]
     },
     "metadata": {},
     "output_type": "display_data"
    },
    {
     "data": {
      "application/vnd.jupyter.widget-view+json": {
       "model_id": "d862b9d2e8764d3da4643105f09a6652",
       "version_major": 2,
       "version_minor": 0
      },
      "text/plain": [
       "Batches:   0%|          | 0/1 [00:00<?, ?it/s]"
      ]
     },
     "metadata": {},
     "output_type": "display_data"
    },
    {
     "data": {
      "application/vnd.jupyter.widget-view+json": {
       "model_id": "70de0c790a91492a91bbe435ce87779c",
       "version_major": 2,
       "version_minor": 0
      },
      "text/plain": [
       "Batches:   0%|          | 0/1 [00:00<?, ?it/s]"
      ]
     },
     "metadata": {},
     "output_type": "display_data"
    },
    {
     "data": {
      "application/vnd.jupyter.widget-view+json": {
       "model_id": "f26379ce2d4644f5a9ae098e10fb61b6",
       "version_major": 2,
       "version_minor": 0
      },
      "text/plain": [
       "Batches:   0%|          | 0/1 [00:00<?, ?it/s]"
      ]
     },
     "metadata": {},
     "output_type": "display_data"
    },
    {
     "data": {
      "application/vnd.jupyter.widget-view+json": {
       "model_id": "a45bf5acc377482c86a589908bd99cb8",
       "version_major": 2,
       "version_minor": 0
      },
      "text/plain": [
       "Batches:   0%|          | 0/1 [00:00<?, ?it/s]"
      ]
     },
     "metadata": {},
     "output_type": "display_data"
    },
    {
     "data": {
      "application/vnd.jupyter.widget-view+json": {
       "model_id": "d068d10d1b284da3b5dd0e37bc76b733",
       "version_major": 2,
       "version_minor": 0
      },
      "text/plain": [
       "Batches:   0%|          | 0/1 [00:00<?, ?it/s]"
      ]
     },
     "metadata": {},
     "output_type": "display_data"
    },
    {
     "data": {
      "application/vnd.jupyter.widget-view+json": {
       "model_id": "a54a6017e5334b7582ef6d9d058da49b",
       "version_major": 2,
       "version_minor": 0
      },
      "text/plain": [
       "Batches:   0%|          | 0/1 [00:00<?, ?it/s]"
      ]
     },
     "metadata": {},
     "output_type": "display_data"
    },
    {
     "data": {
      "application/vnd.jupyter.widget-view+json": {
       "model_id": "09ff7e63d2504e63bd9bcecbd90b3ce7",
       "version_major": 2,
       "version_minor": 0
      },
      "text/plain": [
       "Batches:   0%|          | 0/1 [00:00<?, ?it/s]"
      ]
     },
     "metadata": {},
     "output_type": "display_data"
    },
    {
     "data": {
      "application/vnd.jupyter.widget-view+json": {
       "model_id": "316b3d27075c45f2904f54b868c9a61c",
       "version_major": 2,
       "version_minor": 0
      },
      "text/plain": [
       "Batches:   0%|          | 0/1 [00:00<?, ?it/s]"
      ]
     },
     "metadata": {},
     "output_type": "display_data"
    },
    {
     "data": {
      "application/vnd.jupyter.widget-view+json": {
       "model_id": "51df38025c38462ab81ddd844f55ca70",
       "version_major": 2,
       "version_minor": 0
      },
      "text/plain": [
       "Batches:   0%|          | 0/1 [00:00<?, ?it/s]"
      ]
     },
     "metadata": {},
     "output_type": "display_data"
    },
    {
     "data": {
      "application/vnd.jupyter.widget-view+json": {
       "model_id": "287f3a90ad61420d91162f865257a395",
       "version_major": 2,
       "version_minor": 0
      },
      "text/plain": [
       "Batches:   0%|          | 0/1 [00:00<?, ?it/s]"
      ]
     },
     "metadata": {},
     "output_type": "display_data"
    },
    {
     "data": {
      "application/vnd.jupyter.widget-view+json": {
       "model_id": "c29cd9677ef348c281f41b43d14caf32",
       "version_major": 2,
       "version_minor": 0
      },
      "text/plain": [
       "Batches:   0%|          | 0/1 [00:00<?, ?it/s]"
      ]
     },
     "metadata": {},
     "output_type": "display_data"
    },
    {
     "data": {
      "application/vnd.jupyter.widget-view+json": {
       "model_id": "ed5114f057314ce58348ddd7f5e7e758",
       "version_major": 2,
       "version_minor": 0
      },
      "text/plain": [
       "Batches:   0%|          | 0/1 [00:00<?, ?it/s]"
      ]
     },
     "metadata": {},
     "output_type": "display_data"
    },
    {
     "data": {
      "application/vnd.jupyter.widget-view+json": {
       "model_id": "00e8946261b74641a650280765fdd773",
       "version_major": 2,
       "version_minor": 0
      },
      "text/plain": [
       "Batches:   0%|          | 0/1 [00:00<?, ?it/s]"
      ]
     },
     "metadata": {},
     "output_type": "display_data"
    },
    {
     "data": {
      "application/vnd.jupyter.widget-view+json": {
       "model_id": "ce2f32a163e94f9f84c6b083d9ef2f51",
       "version_major": 2,
       "version_minor": 0
      },
      "text/plain": [
       "Batches:   0%|          | 0/1 [00:00<?, ?it/s]"
      ]
     },
     "metadata": {},
     "output_type": "display_data"
    },
    {
     "data": {
      "application/vnd.jupyter.widget-view+json": {
       "model_id": "c82b8545a93c467eb2ffe45cc4da6b1d",
       "version_major": 2,
       "version_minor": 0
      },
      "text/plain": [
       "Batches:   0%|          | 0/1 [00:00<?, ?it/s]"
      ]
     },
     "metadata": {},
     "output_type": "display_data"
    },
    {
     "data": {
      "application/vnd.jupyter.widget-view+json": {
       "model_id": "584ec4cfdc574297861a8f04a0612164",
       "version_major": 2,
       "version_minor": 0
      },
      "text/plain": [
       "Batches:   0%|          | 0/1 [00:00<?, ?it/s]"
      ]
     },
     "metadata": {},
     "output_type": "display_data"
    },
    {
     "data": {
      "application/vnd.jupyter.widget-view+json": {
       "model_id": "3ca1c75272f64a6e982de2795f94706c",
       "version_major": 2,
       "version_minor": 0
      },
      "text/plain": [
       "Batches:   0%|          | 0/1 [00:00<?, ?it/s]"
      ]
     },
     "metadata": {},
     "output_type": "display_data"
    },
    {
     "data": {
      "application/vnd.jupyter.widget-view+json": {
       "model_id": "d02b613bc14741e995a4e78392599a58",
       "version_major": 2,
       "version_minor": 0
      },
      "text/plain": [
       "Batches:   0%|          | 0/1 [00:00<?, ?it/s]"
      ]
     },
     "metadata": {},
     "output_type": "display_data"
    },
    {
     "data": {
      "application/vnd.jupyter.widget-view+json": {
       "model_id": "9d0374a979084b75b823645b9ba3ced4",
       "version_major": 2,
       "version_minor": 0
      },
      "text/plain": [
       "Batches:   0%|          | 0/1 [00:00<?, ?it/s]"
      ]
     },
     "metadata": {},
     "output_type": "display_data"
    },
    {
     "data": {
      "application/vnd.jupyter.widget-view+json": {
       "model_id": "d15da66d04f2459a88ce9c73773d85ee",
       "version_major": 2,
       "version_minor": 0
      },
      "text/plain": [
       "Batches:   0%|          | 0/1 [00:00<?, ?it/s]"
      ]
     },
     "metadata": {},
     "output_type": "display_data"
    },
    {
     "data": {
      "application/vnd.jupyter.widget-view+json": {
       "model_id": "9a22255c31ea419c838e6d35cdcc1627",
       "version_major": 2,
       "version_minor": 0
      },
      "text/plain": [
       "Batches:   0%|          | 0/1 [00:00<?, ?it/s]"
      ]
     },
     "metadata": {},
     "output_type": "display_data"
    },
    {
     "data": {
      "application/vnd.jupyter.widget-view+json": {
       "model_id": "6ebd544ca83d48079d2502d93b168b0f",
       "version_major": 2,
       "version_minor": 0
      },
      "text/plain": [
       "Batches:   0%|          | 0/1 [00:00<?, ?it/s]"
      ]
     },
     "metadata": {},
     "output_type": "display_data"
    },
    {
     "data": {
      "application/vnd.jupyter.widget-view+json": {
       "model_id": "f287ccc511f042a18ac233d0a4cdc02b",
       "version_major": 2,
       "version_minor": 0
      },
      "text/plain": [
       "Batches:   0%|          | 0/1 [00:00<?, ?it/s]"
      ]
     },
     "metadata": {},
     "output_type": "display_data"
    },
    {
     "data": {
      "application/vnd.jupyter.widget-view+json": {
       "model_id": "fbd4afb1bac949ae8dee3db23b47a820",
       "version_major": 2,
       "version_minor": 0
      },
      "text/plain": [
       "Batches:   0%|          | 0/1 [00:00<?, ?it/s]"
      ]
     },
     "metadata": {},
     "output_type": "display_data"
    },
    {
     "data": {
      "application/vnd.jupyter.widget-view+json": {
       "model_id": "1b9adb169f1a45caadd4d7114489c9ef",
       "version_major": 2,
       "version_minor": 0
      },
      "text/plain": [
       "Batches:   0%|          | 0/1 [00:00<?, ?it/s]"
      ]
     },
     "metadata": {},
     "output_type": "display_data"
    },
    {
     "data": {
      "application/vnd.jupyter.widget-view+json": {
       "model_id": "61b7e1c4531147708e7ddc804fe38a87",
       "version_major": 2,
       "version_minor": 0
      },
      "text/plain": [
       "Batches:   0%|          | 0/1 [00:00<?, ?it/s]"
      ]
     },
     "metadata": {},
     "output_type": "display_data"
    },
    {
     "data": {
      "application/vnd.jupyter.widget-view+json": {
       "model_id": "bd5bd9eca76446e3973110d3a14588a3",
       "version_major": 2,
       "version_minor": 0
      },
      "text/plain": [
       "Batches:   0%|          | 0/1 [00:00<?, ?it/s]"
      ]
     },
     "metadata": {},
     "output_type": "display_data"
    },
    {
     "data": {
      "application/vnd.jupyter.widget-view+json": {
       "model_id": "06e999ac0dc241299bb19ada3823a154",
       "version_major": 2,
       "version_minor": 0
      },
      "text/plain": [
       "Batches:   0%|          | 0/1 [00:00<?, ?it/s]"
      ]
     },
     "metadata": {},
     "output_type": "display_data"
    },
    {
     "data": {
      "application/vnd.jupyter.widget-view+json": {
       "model_id": "9e1d563be6cf4a6883898ed3170b4171",
       "version_major": 2,
       "version_minor": 0
      },
      "text/plain": [
       "Batches:   0%|          | 0/1 [00:00<?, ?it/s]"
      ]
     },
     "metadata": {},
     "output_type": "display_data"
    },
    {
     "data": {
      "application/vnd.jupyter.widget-view+json": {
       "model_id": "ece5ad2ebd5e4a5a994d28e7b8d47cb8",
       "version_major": 2,
       "version_minor": 0
      },
      "text/plain": [
       "Batches:   0%|          | 0/1 [00:00<?, ?it/s]"
      ]
     },
     "metadata": {},
     "output_type": "display_data"
    },
    {
     "data": {
      "application/vnd.jupyter.widget-view+json": {
       "model_id": "a112ff268f9d477c8036e6b2dcf143fd",
       "version_major": 2,
       "version_minor": 0
      },
      "text/plain": [
       "Batches:   0%|          | 0/1 [00:00<?, ?it/s]"
      ]
     },
     "metadata": {},
     "output_type": "display_data"
    },
    {
     "data": {
      "application/vnd.jupyter.widget-view+json": {
       "model_id": "55fb9ac8c38148d8ba99116619c24b56",
       "version_major": 2,
       "version_minor": 0
      },
      "text/plain": [
       "Batches:   0%|          | 0/1 [00:00<?, ?it/s]"
      ]
     },
     "metadata": {},
     "output_type": "display_data"
    },
    {
     "data": {
      "application/vnd.jupyter.widget-view+json": {
       "model_id": "cd2b029c9cb04fc78bfd768c0b8e45e9",
       "version_major": 2,
       "version_minor": 0
      },
      "text/plain": [
       "Batches:   0%|          | 0/1 [00:00<?, ?it/s]"
      ]
     },
     "metadata": {},
     "output_type": "display_data"
    },
    {
     "data": {
      "application/vnd.jupyter.widget-view+json": {
       "model_id": "47e68e92ca4e4bbc8a4f9d90a44c235b",
       "version_major": 2,
       "version_minor": 0
      },
      "text/plain": [
       "Batches:   0%|          | 0/1 [00:00<?, ?it/s]"
      ]
     },
     "metadata": {},
     "output_type": "display_data"
    },
    {
     "data": {
      "application/vnd.jupyter.widget-view+json": {
       "model_id": "c7c84db0ca8c4102aa058005f13d692c",
       "version_major": 2,
       "version_minor": 0
      },
      "text/plain": [
       "Batches:   0%|          | 0/1 [00:00<?, ?it/s]"
      ]
     },
     "metadata": {},
     "output_type": "display_data"
    },
    {
     "data": {
      "application/vnd.jupyter.widget-view+json": {
       "model_id": "96dcd474f2684660b712b469275050f2",
       "version_major": 2,
       "version_minor": 0
      },
      "text/plain": [
       "Batches:   0%|          | 0/1 [00:00<?, ?it/s]"
      ]
     },
     "metadata": {},
     "output_type": "display_data"
    },
    {
     "data": {
      "application/vnd.jupyter.widget-view+json": {
       "model_id": "c7dbcb4f9de84247b2c39d488fa33c58",
       "version_major": 2,
       "version_minor": 0
      },
      "text/plain": [
       "Batches:   0%|          | 0/1 [00:00<?, ?it/s]"
      ]
     },
     "metadata": {},
     "output_type": "display_data"
    },
    {
     "data": {
      "application/vnd.jupyter.widget-view+json": {
       "model_id": "309fc8ca6d6f4fac938f66906967521d",
       "version_major": 2,
       "version_minor": 0
      },
      "text/plain": [
       "Batches:   0%|          | 0/1 [00:00<?, ?it/s]"
      ]
     },
     "metadata": {},
     "output_type": "display_data"
    },
    {
     "data": {
      "application/vnd.jupyter.widget-view+json": {
       "model_id": "247c2ae4dd674d7ab4119bc47334595c",
       "version_major": 2,
       "version_minor": 0
      },
      "text/plain": [
       "Batches:   0%|          | 0/1 [00:00<?, ?it/s]"
      ]
     },
     "metadata": {},
     "output_type": "display_data"
    },
    {
     "data": {
      "application/vnd.jupyter.widget-view+json": {
       "model_id": "87cfc39e27df4c4a8a75f49e3742aba9",
       "version_major": 2,
       "version_minor": 0
      },
      "text/plain": [
       "Batches:   0%|          | 0/1 [00:00<?, ?it/s]"
      ]
     },
     "metadata": {},
     "output_type": "display_data"
    },
    {
     "data": {
      "application/vnd.jupyter.widget-view+json": {
       "model_id": "1863230609d942b2929275c6df889ea2",
       "version_major": 2,
       "version_minor": 0
      },
      "text/plain": [
       "Batches:   0%|          | 0/1 [00:00<?, ?it/s]"
      ]
     },
     "metadata": {},
     "output_type": "display_data"
    },
    {
     "data": {
      "application/vnd.jupyter.widget-view+json": {
       "model_id": "601fd89ac21f418e9b78d19fd2251539",
       "version_major": 2,
       "version_minor": 0
      },
      "text/plain": [
       "Batches:   0%|          | 0/1 [00:00<?, ?it/s]"
      ]
     },
     "metadata": {},
     "output_type": "display_data"
    },
    {
     "data": {
      "application/vnd.jupyter.widget-view+json": {
       "model_id": "2181d3ba14864915a88d5d62b58d2478",
       "version_major": 2,
       "version_minor": 0
      },
      "text/plain": [
       "Batches:   0%|          | 0/1 [00:00<?, ?it/s]"
      ]
     },
     "metadata": {},
     "output_type": "display_data"
    },
    {
     "data": {
      "application/vnd.jupyter.widget-view+json": {
       "model_id": "1b8494c421e14720870ead7c69f8635c",
       "version_major": 2,
       "version_minor": 0
      },
      "text/plain": [
       "Batches:   0%|          | 0/1 [00:00<?, ?it/s]"
      ]
     },
     "metadata": {},
     "output_type": "display_data"
    },
    {
     "data": {
      "application/vnd.jupyter.widget-view+json": {
       "model_id": "e8ae6d708e72429d878892f94cbf10d3",
       "version_major": 2,
       "version_minor": 0
      },
      "text/plain": [
       "Batches:   0%|          | 0/1 [00:00<?, ?it/s]"
      ]
     },
     "metadata": {},
     "output_type": "display_data"
    },
    {
     "data": {
      "application/vnd.jupyter.widget-view+json": {
       "model_id": "7050add09aeb47ff96597c86664c602a",
       "version_major": 2,
       "version_minor": 0
      },
      "text/plain": [
       "Batches:   0%|          | 0/1 [00:00<?, ?it/s]"
      ]
     },
     "metadata": {},
     "output_type": "display_data"
    },
    {
     "data": {
      "application/vnd.jupyter.widget-view+json": {
       "model_id": "eaea1f485f8f4ca7a6515b8a81edb683",
       "version_major": 2,
       "version_minor": 0
      },
      "text/plain": [
       "Batches:   0%|          | 0/1 [00:00<?, ?it/s]"
      ]
     },
     "metadata": {},
     "output_type": "display_data"
    },
    {
     "data": {
      "application/vnd.jupyter.widget-view+json": {
       "model_id": "d5d309ee23a24396bb5be4dc425b4061",
       "version_major": 2,
       "version_minor": 0
      },
      "text/plain": [
       "Batches:   0%|          | 0/1 [00:00<?, ?it/s]"
      ]
     },
     "metadata": {},
     "output_type": "display_data"
    },
    {
     "data": {
      "application/vnd.jupyter.widget-view+json": {
       "model_id": "59fe3d7b589f4292b3a3d611498c2f5f",
       "version_major": 2,
       "version_minor": 0
      },
      "text/plain": [
       "Batches:   0%|          | 0/1 [00:00<?, ?it/s]"
      ]
     },
     "metadata": {},
     "output_type": "display_data"
    },
    {
     "data": {
      "application/vnd.jupyter.widget-view+json": {
       "model_id": "5d5846915746444c96cd23da7118e101",
       "version_major": 2,
       "version_minor": 0
      },
      "text/plain": [
       "Batches:   0%|          | 0/1 [00:00<?, ?it/s]"
      ]
     },
     "metadata": {},
     "output_type": "display_data"
    },
    {
     "data": {
      "application/vnd.jupyter.widget-view+json": {
       "model_id": "32316e1c88834e70981a9e2a72143047",
       "version_major": 2,
       "version_minor": 0
      },
      "text/plain": [
       "Batches:   0%|          | 0/1 [00:00<?, ?it/s]"
      ]
     },
     "metadata": {},
     "output_type": "display_data"
    },
    {
     "data": {
      "application/vnd.jupyter.widget-view+json": {
       "model_id": "b34e13e915e54a90aad936abab6d2902",
       "version_major": 2,
       "version_minor": 0
      },
      "text/plain": [
       "Batches:   0%|          | 0/1 [00:00<?, ?it/s]"
      ]
     },
     "metadata": {},
     "output_type": "display_data"
    },
    {
     "data": {
      "application/vnd.jupyter.widget-view+json": {
       "model_id": "0a68582ae59a4fd2ac9ab3b66cac3cfc",
       "version_major": 2,
       "version_minor": 0
      },
      "text/plain": [
       "Batches:   0%|          | 0/1 [00:00<?, ?it/s]"
      ]
     },
     "metadata": {},
     "output_type": "display_data"
    },
    {
     "data": {
      "application/vnd.jupyter.widget-view+json": {
       "model_id": "3e61a120b4164faca1f91d7ddeb7c44b",
       "version_major": 2,
       "version_minor": 0
      },
      "text/plain": [
       "Batches:   0%|          | 0/1 [00:00<?, ?it/s]"
      ]
     },
     "metadata": {},
     "output_type": "display_data"
    },
    {
     "data": {
      "application/vnd.jupyter.widget-view+json": {
       "model_id": "d64f75234fbf46bab03a52d40fb01a51",
       "version_major": 2,
       "version_minor": 0
      },
      "text/plain": [
       "Batches:   0%|          | 0/1 [00:00<?, ?it/s]"
      ]
     },
     "metadata": {},
     "output_type": "display_data"
    },
    {
     "data": {
      "application/vnd.jupyter.widget-view+json": {
       "model_id": "5b3ff420fbb94a69a80b43775d78406c",
       "version_major": 2,
       "version_minor": 0
      },
      "text/plain": [
       "Batches:   0%|          | 0/1 [00:00<?, ?it/s]"
      ]
     },
     "metadata": {},
     "output_type": "display_data"
    },
    {
     "data": {
      "application/vnd.jupyter.widget-view+json": {
       "model_id": "5e04a612267f4e30bfe519f458726478",
       "version_major": 2,
       "version_minor": 0
      },
      "text/plain": [
       "Batches:   0%|          | 0/1 [00:00<?, ?it/s]"
      ]
     },
     "metadata": {},
     "output_type": "display_data"
    },
    {
     "data": {
      "application/vnd.jupyter.widget-view+json": {
       "model_id": "d795eef3984a43c0a1de4c8071f1b8e0",
       "version_major": 2,
       "version_minor": 0
      },
      "text/plain": [
       "Batches:   0%|          | 0/1 [00:00<?, ?it/s]"
      ]
     },
     "metadata": {},
     "output_type": "display_data"
    },
    {
     "data": {
      "application/vnd.jupyter.widget-view+json": {
       "model_id": "25dac6681a3a4c0a85fab8c3fd4325aa",
       "version_major": 2,
       "version_minor": 0
      },
      "text/plain": [
       "Batches:   0%|          | 0/1 [00:00<?, ?it/s]"
      ]
     },
     "metadata": {},
     "output_type": "display_data"
    },
    {
     "data": {
      "application/vnd.jupyter.widget-view+json": {
       "model_id": "76197ab4cab44cf7ab76f8d5f7cae511",
       "version_major": 2,
       "version_minor": 0
      },
      "text/plain": [
       "Batches:   0%|          | 0/1 [00:00<?, ?it/s]"
      ]
     },
     "metadata": {},
     "output_type": "display_data"
    },
    {
     "data": {
      "application/vnd.jupyter.widget-view+json": {
       "model_id": "8583b3d7d8ba43b4960c05d291f3321c",
       "version_major": 2,
       "version_minor": 0
      },
      "text/plain": [
       "Batches:   0%|          | 0/1 [00:00<?, ?it/s]"
      ]
     },
     "metadata": {},
     "output_type": "display_data"
    },
    {
     "data": {
      "application/vnd.jupyter.widget-view+json": {
       "model_id": "678a6b82fda04393a484a3dc860220cc",
       "version_major": 2,
       "version_minor": 0
      },
      "text/plain": [
       "Batches:   0%|          | 0/1 [00:00<?, ?it/s]"
      ]
     },
     "metadata": {},
     "output_type": "display_data"
    },
    {
     "data": {
      "application/vnd.jupyter.widget-view+json": {
       "model_id": "e92168ceba074a809adccd9634a0f685",
       "version_major": 2,
       "version_minor": 0
      },
      "text/plain": [
       "Batches:   0%|          | 0/1 [00:00<?, ?it/s]"
      ]
     },
     "metadata": {},
     "output_type": "display_data"
    },
    {
     "data": {
      "application/vnd.jupyter.widget-view+json": {
       "model_id": "111175c23fd6434e922c1ec37809768a",
       "version_major": 2,
       "version_minor": 0
      },
      "text/plain": [
       "Batches:   0%|          | 0/1 [00:00<?, ?it/s]"
      ]
     },
     "metadata": {},
     "output_type": "display_data"
    },
    {
     "data": {
      "application/vnd.jupyter.widget-view+json": {
       "model_id": "359d3c5303ea437584aa27b67b49cfd0",
       "version_major": 2,
       "version_minor": 0
      },
      "text/plain": [
       "Batches:   0%|          | 0/1 [00:00<?, ?it/s]"
      ]
     },
     "metadata": {},
     "output_type": "display_data"
    },
    {
     "data": {
      "application/vnd.jupyter.widget-view+json": {
       "model_id": "e0d514cab1704425bc7058f76bad1e68",
       "version_major": 2,
       "version_minor": 0
      },
      "text/plain": [
       "Batches:   0%|          | 0/1 [00:00<?, ?it/s]"
      ]
     },
     "metadata": {},
     "output_type": "display_data"
    },
    {
     "data": {
      "application/vnd.jupyter.widget-view+json": {
       "model_id": "2c12512b1d7a405db96a858d8cc7bcf9",
       "version_major": 2,
       "version_minor": 0
      },
      "text/plain": [
       "Batches:   0%|          | 0/1 [00:00<?, ?it/s]"
      ]
     },
     "metadata": {},
     "output_type": "display_data"
    },
    {
     "data": {
      "application/vnd.jupyter.widget-view+json": {
       "model_id": "2b2ddafa5d2d43bda2adcd2b06b938a7",
       "version_major": 2,
       "version_minor": 0
      },
      "text/plain": [
       "Batches:   0%|          | 0/1 [00:00<?, ?it/s]"
      ]
     },
     "metadata": {},
     "output_type": "display_data"
    },
    {
     "data": {
      "application/vnd.jupyter.widget-view+json": {
       "model_id": "f72ea4da4ed44a7f922507803f42e48b",
       "version_major": 2,
       "version_minor": 0
      },
      "text/plain": [
       "Batches:   0%|          | 0/1 [00:00<?, ?it/s]"
      ]
     },
     "metadata": {},
     "output_type": "display_data"
    },
    {
     "data": {
      "application/vnd.jupyter.widget-view+json": {
       "model_id": "5a9ad23b798c4437a19b92438d2a8e81",
       "version_major": 2,
       "version_minor": 0
      },
      "text/plain": [
       "Batches:   0%|          | 0/1 [00:00<?, ?it/s]"
      ]
     },
     "metadata": {},
     "output_type": "display_data"
    },
    {
     "data": {
      "application/vnd.jupyter.widget-view+json": {
       "model_id": "c289a505878142ddbbc78b99344ae9b8",
       "version_major": 2,
       "version_minor": 0
      },
      "text/plain": [
       "Batches:   0%|          | 0/1 [00:00<?, ?it/s]"
      ]
     },
     "metadata": {},
     "output_type": "display_data"
    },
    {
     "data": {
      "application/vnd.jupyter.widget-view+json": {
       "model_id": "9006b185f35d498697f6f606be13dad1",
       "version_major": 2,
       "version_minor": 0
      },
      "text/plain": [
       "Batches:   0%|          | 0/1 [00:00<?, ?it/s]"
      ]
     },
     "metadata": {},
     "output_type": "display_data"
    },
    {
     "data": {
      "application/vnd.jupyter.widget-view+json": {
       "model_id": "3df45c0a3b2049c299f6010c9d3b28fe",
       "version_major": 2,
       "version_minor": 0
      },
      "text/plain": [
       "Batches:   0%|          | 0/1 [00:00<?, ?it/s]"
      ]
     },
     "metadata": {},
     "output_type": "display_data"
    },
    {
     "data": {
      "application/vnd.jupyter.widget-view+json": {
       "model_id": "4d55658b68ae4071a964e4e8a05e0f07",
       "version_major": 2,
       "version_minor": 0
      },
      "text/plain": [
       "Batches:   0%|          | 0/1 [00:00<?, ?it/s]"
      ]
     },
     "metadata": {},
     "output_type": "display_data"
    },
    {
     "data": {
      "application/vnd.jupyter.widget-view+json": {
       "model_id": "2ef414a20fcc4af7864aeeaf536a1a87",
       "version_major": 2,
       "version_minor": 0
      },
      "text/plain": [
       "Batches:   0%|          | 0/1 [00:00<?, ?it/s]"
      ]
     },
     "metadata": {},
     "output_type": "display_data"
    },
    {
     "data": {
      "application/vnd.jupyter.widget-view+json": {
       "model_id": "5951df617e5e43eda97b468820c2c999",
       "version_major": 2,
       "version_minor": 0
      },
      "text/plain": [
       "Batches:   0%|          | 0/1 [00:00<?, ?it/s]"
      ]
     },
     "metadata": {},
     "output_type": "display_data"
    },
    {
     "data": {
      "application/vnd.jupyter.widget-view+json": {
       "model_id": "b5d447dc7dd34b96a6d3e0532250305a",
       "version_major": 2,
       "version_minor": 0
      },
      "text/plain": [
       "Batches:   0%|          | 0/1 [00:00<?, ?it/s]"
      ]
     },
     "metadata": {},
     "output_type": "display_data"
    },
    {
     "data": {
      "application/vnd.jupyter.widget-view+json": {
       "model_id": "6411544539a14c8c92a7ef84c7fe5f8e",
       "version_major": 2,
       "version_minor": 0
      },
      "text/plain": [
       "Batches:   0%|          | 0/1 [00:00<?, ?it/s]"
      ]
     },
     "metadata": {},
     "output_type": "display_data"
    },
    {
     "data": {
      "application/vnd.jupyter.widget-view+json": {
       "model_id": "2f87d38568c349329a22127968370c5c",
       "version_major": 2,
       "version_minor": 0
      },
      "text/plain": [
       "Batches:   0%|          | 0/1 [00:00<?, ?it/s]"
      ]
     },
     "metadata": {},
     "output_type": "display_data"
    },
    {
     "data": {
      "application/vnd.jupyter.widget-view+json": {
       "model_id": "abadab60705448d58963cb6541344b70",
       "version_major": 2,
       "version_minor": 0
      },
      "text/plain": [
       "Batches:   0%|          | 0/1 [00:00<?, ?it/s]"
      ]
     },
     "metadata": {},
     "output_type": "display_data"
    },
    {
     "data": {
      "application/vnd.jupyter.widget-view+json": {
       "model_id": "b2f027c4ca6e4ad0a394e82ddebe2361",
       "version_major": 2,
       "version_minor": 0
      },
      "text/plain": [
       "Batches:   0%|          | 0/1 [00:00<?, ?it/s]"
      ]
     },
     "metadata": {},
     "output_type": "display_data"
    },
    {
     "data": {
      "application/vnd.jupyter.widget-view+json": {
       "model_id": "3f235d32c78e46e59c2b69f915b9dce8",
       "version_major": 2,
       "version_minor": 0
      },
      "text/plain": [
       "Batches:   0%|          | 0/1 [00:00<?, ?it/s]"
      ]
     },
     "metadata": {},
     "output_type": "display_data"
    },
    {
     "data": {
      "application/vnd.jupyter.widget-view+json": {
       "model_id": "ddf7c5059f8d4fd4acda731bbb3e969e",
       "version_major": 2,
       "version_minor": 0
      },
      "text/plain": [
       "Batches:   0%|          | 0/1 [00:00<?, ?it/s]"
      ]
     },
     "metadata": {},
     "output_type": "display_data"
    },
    {
     "data": {
      "application/vnd.jupyter.widget-view+json": {
       "model_id": "57e865a696c44dd3aa6e23bae06c2453",
       "version_major": 2,
       "version_minor": 0
      },
      "text/plain": [
       "Batches:   0%|          | 0/1 [00:00<?, ?it/s]"
      ]
     },
     "metadata": {},
     "output_type": "display_data"
    },
    {
     "data": {
      "application/vnd.jupyter.widget-view+json": {
       "model_id": "104a3033592240b3a54ce8b15a88b5f9",
       "version_major": 2,
       "version_minor": 0
      },
      "text/plain": [
       "Batches:   0%|          | 0/1 [00:00<?, ?it/s]"
      ]
     },
     "metadata": {},
     "output_type": "display_data"
    },
    {
     "data": {
      "application/vnd.jupyter.widget-view+json": {
       "model_id": "91cacf0b94aa44018efb751b70566598",
       "version_major": 2,
       "version_minor": 0
      },
      "text/plain": [
       "Batches:   0%|          | 0/1 [00:00<?, ?it/s]"
      ]
     },
     "metadata": {},
     "output_type": "display_data"
    },
    {
     "data": {
      "application/vnd.jupyter.widget-view+json": {
       "model_id": "ad61c7ce722447c4831c6c74b266a110",
       "version_major": 2,
       "version_minor": 0
      },
      "text/plain": [
       "Batches:   0%|          | 0/1 [00:00<?, ?it/s]"
      ]
     },
     "metadata": {},
     "output_type": "display_data"
    },
    {
     "data": {
      "application/vnd.jupyter.widget-view+json": {
       "model_id": "7502bd0b05414c319cf40f3e9a415594",
       "version_major": 2,
       "version_minor": 0
      },
      "text/plain": [
       "Batches:   0%|          | 0/1 [00:00<?, ?it/s]"
      ]
     },
     "metadata": {},
     "output_type": "display_data"
    },
    {
     "data": {
      "application/vnd.jupyter.widget-view+json": {
       "model_id": "1903dea2bf4c455d9d5bd725b594c002",
       "version_major": 2,
       "version_minor": 0
      },
      "text/plain": [
       "Batches:   0%|          | 0/1 [00:00<?, ?it/s]"
      ]
     },
     "metadata": {},
     "output_type": "display_data"
    },
    {
     "data": {
      "application/vnd.jupyter.widget-view+json": {
       "model_id": "aca695c913764bcb8c8ae7b46abfd123",
       "version_major": 2,
       "version_minor": 0
      },
      "text/plain": [
       "Batches:   0%|          | 0/1 [00:00<?, ?it/s]"
      ]
     },
     "metadata": {},
     "output_type": "display_data"
    },
    {
     "data": {
      "application/vnd.jupyter.widget-view+json": {
       "model_id": "079cbf34991c4c4b83a3a63acca936bb",
       "version_major": 2,
       "version_minor": 0
      },
      "text/plain": [
       "Batches:   0%|          | 0/1 [00:00<?, ?it/s]"
      ]
     },
     "metadata": {},
     "output_type": "display_data"
    },
    {
     "data": {
      "application/vnd.jupyter.widget-view+json": {
       "model_id": "49229c5299b845cf87f78c1d71a9a1e1",
       "version_major": 2,
       "version_minor": 0
      },
      "text/plain": [
       "Batches:   0%|          | 0/1 [00:00<?, ?it/s]"
      ]
     },
     "metadata": {},
     "output_type": "display_data"
    },
    {
     "data": {
      "application/vnd.jupyter.widget-view+json": {
       "model_id": "f36df619c2484863bec60bef207e6099",
       "version_major": 2,
       "version_minor": 0
      },
      "text/plain": [
       "Batches:   0%|          | 0/1 [00:00<?, ?it/s]"
      ]
     },
     "metadata": {},
     "output_type": "display_data"
    },
    {
     "data": {
      "application/vnd.jupyter.widget-view+json": {
       "model_id": "7b738889cdb845369015fcdd58c37990",
       "version_major": 2,
       "version_minor": 0
      },
      "text/plain": [
       "Batches:   0%|          | 0/1 [00:00<?, ?it/s]"
      ]
     },
     "metadata": {},
     "output_type": "display_data"
    },
    {
     "data": {
      "application/vnd.jupyter.widget-view+json": {
       "model_id": "d3915750c458429db2254ac042438811",
       "version_major": 2,
       "version_minor": 0
      },
      "text/plain": [
       "Batches:   0%|          | 0/1 [00:00<?, ?it/s]"
      ]
     },
     "metadata": {},
     "output_type": "display_data"
    },
    {
     "data": {
      "application/vnd.jupyter.widget-view+json": {
       "model_id": "a44c3ee501d1476388573ff4edb5a710",
       "version_major": 2,
       "version_minor": 0
      },
      "text/plain": [
       "Batches:   0%|          | 0/1 [00:00<?, ?it/s]"
      ]
     },
     "metadata": {},
     "output_type": "display_data"
    },
    {
     "data": {
      "application/vnd.jupyter.widget-view+json": {
       "model_id": "ab6c1519f9974f46b2d317753f15776e",
       "version_major": 2,
       "version_minor": 0
      },
      "text/plain": [
       "Batches:   0%|          | 0/1 [00:00<?, ?it/s]"
      ]
     },
     "metadata": {},
     "output_type": "display_data"
    },
    {
     "data": {
      "application/vnd.jupyter.widget-view+json": {
       "model_id": "2538254d09e04689897707b81c385231",
       "version_major": 2,
       "version_minor": 0
      },
      "text/plain": [
       "Batches:   0%|          | 0/1 [00:00<?, ?it/s]"
      ]
     },
     "metadata": {},
     "output_type": "display_data"
    },
    {
     "data": {
      "application/vnd.jupyter.widget-view+json": {
       "model_id": "47aac2686bc442beb687ec2bd1f39bd9",
       "version_major": 2,
       "version_minor": 0
      },
      "text/plain": [
       "Batches:   0%|          | 0/1 [00:00<?, ?it/s]"
      ]
     },
     "metadata": {},
     "output_type": "display_data"
    },
    {
     "data": {
      "application/vnd.jupyter.widget-view+json": {
       "model_id": "489622216737483985dbe46af0493ce4",
       "version_major": 2,
       "version_minor": 0
      },
      "text/plain": [
       "Batches:   0%|          | 0/1 [00:00<?, ?it/s]"
      ]
     },
     "metadata": {},
     "output_type": "display_data"
    },
    {
     "data": {
      "application/vnd.jupyter.widget-view+json": {
       "model_id": "48c6a26bb9a547d9b5e06ac566ff28cd",
       "version_major": 2,
       "version_minor": 0
      },
      "text/plain": [
       "Batches:   0%|          | 0/1 [00:00<?, ?it/s]"
      ]
     },
     "metadata": {},
     "output_type": "display_data"
    },
    {
     "data": {
      "application/vnd.jupyter.widget-view+json": {
       "model_id": "899e8dddb83941df8aef5d614bfc1016",
       "version_major": 2,
       "version_minor": 0
      },
      "text/plain": [
       "Batches:   0%|          | 0/1 [00:00<?, ?it/s]"
      ]
     },
     "metadata": {},
     "output_type": "display_data"
    },
    {
     "data": {
      "application/vnd.jupyter.widget-view+json": {
       "model_id": "fbba7ee93f504bc680d602723346b5df",
       "version_major": 2,
       "version_minor": 0
      },
      "text/plain": [
       "Batches:   0%|          | 0/1 [00:00<?, ?it/s]"
      ]
     },
     "metadata": {},
     "output_type": "display_data"
    },
    {
     "data": {
      "application/vnd.jupyter.widget-view+json": {
       "model_id": "3a747bb2a15a4db4b31aed7bca9ae214",
       "version_major": 2,
       "version_minor": 0
      },
      "text/plain": [
       "Batches:   0%|          | 0/1 [00:00<?, ?it/s]"
      ]
     },
     "metadata": {},
     "output_type": "display_data"
    },
    {
     "data": {
      "application/vnd.jupyter.widget-view+json": {
       "model_id": "6c40754ab1c4415eac1b589bad9cf2de",
       "version_major": 2,
       "version_minor": 0
      },
      "text/plain": [
       "Batches:   0%|          | 0/1 [00:00<?, ?it/s]"
      ]
     },
     "metadata": {},
     "output_type": "display_data"
    },
    {
     "data": {
      "application/vnd.jupyter.widget-view+json": {
       "model_id": "5ebabd1a38cf45389accc32dd05ab82d",
       "version_major": 2,
       "version_minor": 0
      },
      "text/plain": [
       "Batches:   0%|          | 0/1 [00:00<?, ?it/s]"
      ]
     },
     "metadata": {},
     "output_type": "display_data"
    },
    {
     "data": {
      "application/vnd.jupyter.widget-view+json": {
       "model_id": "68ef889cf1c5463fa29d44332227e3e3",
       "version_major": 2,
       "version_minor": 0
      },
      "text/plain": [
       "Batches:   0%|          | 0/1 [00:00<?, ?it/s]"
      ]
     },
     "metadata": {},
     "output_type": "display_data"
    },
    {
     "data": {
      "application/vnd.jupyter.widget-view+json": {
       "model_id": "2615a99d64954d1c8bfda4dcfffef8d9",
       "version_major": 2,
       "version_minor": 0
      },
      "text/plain": [
       "Batches:   0%|          | 0/1 [00:00<?, ?it/s]"
      ]
     },
     "metadata": {},
     "output_type": "display_data"
    },
    {
     "data": {
      "application/vnd.jupyter.widget-view+json": {
       "model_id": "650386d8510043cba014fab5bf03ac15",
       "version_major": 2,
       "version_minor": 0
      },
      "text/plain": [
       "Batches:   0%|          | 0/1 [00:00<?, ?it/s]"
      ]
     },
     "metadata": {},
     "output_type": "display_data"
    },
    {
     "data": {
      "application/vnd.jupyter.widget-view+json": {
       "model_id": "b949d93c9a354ac6ba8a68fc2f835797",
       "version_major": 2,
       "version_minor": 0
      },
      "text/plain": [
       "Batches:   0%|          | 0/1 [00:00<?, ?it/s]"
      ]
     },
     "metadata": {},
     "output_type": "display_data"
    },
    {
     "data": {
      "application/vnd.jupyter.widget-view+json": {
       "model_id": "b32e898796fc4184b0a7815e39ed34fa",
       "version_major": 2,
       "version_minor": 0
      },
      "text/plain": [
       "Batches:   0%|          | 0/1 [00:00<?, ?it/s]"
      ]
     },
     "metadata": {},
     "output_type": "display_data"
    },
    {
     "data": {
      "application/vnd.jupyter.widget-view+json": {
       "model_id": "574d72ef338a404fba2d2380ee109202",
       "version_major": 2,
       "version_minor": 0
      },
      "text/plain": [
       "Batches:   0%|          | 0/1 [00:00<?, ?it/s]"
      ]
     },
     "metadata": {},
     "output_type": "display_data"
    },
    {
     "data": {
      "application/vnd.jupyter.widget-view+json": {
       "model_id": "c88f770e80514e17ac4334bab77708d3",
       "version_major": 2,
       "version_minor": 0
      },
      "text/plain": [
       "Batches:   0%|          | 0/1 [00:00<?, ?it/s]"
      ]
     },
     "metadata": {},
     "output_type": "display_data"
    },
    {
     "data": {
      "application/vnd.jupyter.widget-view+json": {
       "model_id": "0726ebe476144dd8994f6d050f7cf7c9",
       "version_major": 2,
       "version_minor": 0
      },
      "text/plain": [
       "Batches:   0%|          | 0/1 [00:00<?, ?it/s]"
      ]
     },
     "metadata": {},
     "output_type": "display_data"
    },
    {
     "data": {
      "application/vnd.jupyter.widget-view+json": {
       "model_id": "5a3577259b114cf881b73fc2ac904f47",
       "version_major": 2,
       "version_minor": 0
      },
      "text/plain": [
       "Batches:   0%|          | 0/1 [00:00<?, ?it/s]"
      ]
     },
     "metadata": {},
     "output_type": "display_data"
    },
    {
     "data": {
      "application/vnd.jupyter.widget-view+json": {
       "model_id": "46b175cecc9a434c9c99135013c40d56",
       "version_major": 2,
       "version_minor": 0
      },
      "text/plain": [
       "Batches:   0%|          | 0/1 [00:00<?, ?it/s]"
      ]
     },
     "metadata": {},
     "output_type": "display_data"
    },
    {
     "data": {
      "application/vnd.jupyter.widget-view+json": {
       "model_id": "80ff23849e8e427ca4cd007f2c7b573a",
       "version_major": 2,
       "version_minor": 0
      },
      "text/plain": [
       "Batches:   0%|          | 0/1 [00:00<?, ?it/s]"
      ]
     },
     "metadata": {},
     "output_type": "display_data"
    },
    {
     "data": {
      "application/vnd.jupyter.widget-view+json": {
       "model_id": "7f319932344d4f87a5ecf023cda6c6de",
       "version_major": 2,
       "version_minor": 0
      },
      "text/plain": [
       "Batches:   0%|          | 0/1 [00:00<?, ?it/s]"
      ]
     },
     "metadata": {},
     "output_type": "display_data"
    },
    {
     "data": {
      "application/vnd.jupyter.widget-view+json": {
       "model_id": "ea033219fd634d7ebd63aa950b00dda7",
       "version_major": 2,
       "version_minor": 0
      },
      "text/plain": [
       "Batches:   0%|          | 0/1 [00:00<?, ?it/s]"
      ]
     },
     "metadata": {},
     "output_type": "display_data"
    },
    {
     "data": {
      "application/vnd.jupyter.widget-view+json": {
       "model_id": "11c664ec869e46ad803f0b797ac12756",
       "version_major": 2,
       "version_minor": 0
      },
      "text/plain": [
       "Batches:   0%|          | 0/1 [00:00<?, ?it/s]"
      ]
     },
     "metadata": {},
     "output_type": "display_data"
    },
    {
     "data": {
      "application/vnd.jupyter.widget-view+json": {
       "model_id": "f3c487b3c9a040f2a76f24fb96a9cc0b",
       "version_major": 2,
       "version_minor": 0
      },
      "text/plain": [
       "Batches:   0%|          | 0/1 [00:00<?, ?it/s]"
      ]
     },
     "metadata": {},
     "output_type": "display_data"
    },
    {
     "data": {
      "application/vnd.jupyter.widget-view+json": {
       "model_id": "33e037269d82497786bb0c7966fcb949",
       "version_major": 2,
       "version_minor": 0
      },
      "text/plain": [
       "Batches:   0%|          | 0/1 [00:00<?, ?it/s]"
      ]
     },
     "metadata": {},
     "output_type": "display_data"
    },
    {
     "data": {
      "application/vnd.jupyter.widget-view+json": {
       "model_id": "a0f8a3c470a64ae2ba859b08337e907f",
       "version_major": 2,
       "version_minor": 0
      },
      "text/plain": [
       "Batches:   0%|          | 0/1 [00:00<?, ?it/s]"
      ]
     },
     "metadata": {},
     "output_type": "display_data"
    },
    {
     "data": {
      "application/vnd.jupyter.widget-view+json": {
       "model_id": "86388164e5984df0b7c5e7203e38d6e1",
       "version_major": 2,
       "version_minor": 0
      },
      "text/plain": [
       "Batches:   0%|          | 0/1 [00:00<?, ?it/s]"
      ]
     },
     "metadata": {},
     "output_type": "display_data"
    },
    {
     "data": {
      "application/vnd.jupyter.widget-view+json": {
       "model_id": "41c5a5fb041c41f9af7f6b5309fbd5c0",
       "version_major": 2,
       "version_minor": 0
      },
      "text/plain": [
       "Batches:   0%|          | 0/1 [00:00<?, ?it/s]"
      ]
     },
     "metadata": {},
     "output_type": "display_data"
    },
    {
     "data": {
      "application/vnd.jupyter.widget-view+json": {
       "model_id": "dedd3130ed2d4766ab685bec487a46d9",
       "version_major": 2,
       "version_minor": 0
      },
      "text/plain": [
       "Batches:   0%|          | 0/1 [00:00<?, ?it/s]"
      ]
     },
     "metadata": {},
     "output_type": "display_data"
    },
    {
     "data": {
      "application/vnd.jupyter.widget-view+json": {
       "model_id": "9ba25072da6c4c769b93ee2e941bc21a",
       "version_major": 2,
       "version_minor": 0
      },
      "text/plain": [
       "Batches:   0%|          | 0/1 [00:00<?, ?it/s]"
      ]
     },
     "metadata": {},
     "output_type": "display_data"
    },
    {
     "data": {
      "application/vnd.jupyter.widget-view+json": {
       "model_id": "20a97ceb6beb4d8ebaf9b53e4d5cbd5f",
       "version_major": 2,
       "version_minor": 0
      },
      "text/plain": [
       "Batches:   0%|          | 0/1 [00:00<?, ?it/s]"
      ]
     },
     "metadata": {},
     "output_type": "display_data"
    },
    {
     "data": {
      "application/vnd.jupyter.widget-view+json": {
       "model_id": "518e845fd68448cab747312a2f37d3b4",
       "version_major": 2,
       "version_minor": 0
      },
      "text/plain": [
       "Batches:   0%|          | 0/1 [00:00<?, ?it/s]"
      ]
     },
     "metadata": {},
     "output_type": "display_data"
    },
    {
     "data": {
      "application/vnd.jupyter.widget-view+json": {
       "model_id": "e0500c612c154348be534a2d8a443d15",
       "version_major": 2,
       "version_minor": 0
      },
      "text/plain": [
       "Batches:   0%|          | 0/1 [00:00<?, ?it/s]"
      ]
     },
     "metadata": {},
     "output_type": "display_data"
    },
    {
     "data": {
      "application/vnd.jupyter.widget-view+json": {
       "model_id": "4b238c7328664389bd31ff9a6dcd139e",
       "version_major": 2,
       "version_minor": 0
      },
      "text/plain": [
       "Batches:   0%|          | 0/1 [00:00<?, ?it/s]"
      ]
     },
     "metadata": {},
     "output_type": "display_data"
    },
    {
     "data": {
      "application/vnd.jupyter.widget-view+json": {
       "model_id": "be3de3f269954ead9daf262deec901e7",
       "version_major": 2,
       "version_minor": 0
      },
      "text/plain": [
       "Batches:   0%|          | 0/1 [00:00<?, ?it/s]"
      ]
     },
     "metadata": {},
     "output_type": "display_data"
    },
    {
     "data": {
      "application/vnd.jupyter.widget-view+json": {
       "model_id": "287289ae82634512a7efd74e446c1be0",
       "version_major": 2,
       "version_minor": 0
      },
      "text/plain": [
       "Batches:   0%|          | 0/1 [00:00<?, ?it/s]"
      ]
     },
     "metadata": {},
     "output_type": "display_data"
    },
    {
     "data": {
      "application/vnd.jupyter.widget-view+json": {
       "model_id": "941ad6896fd84ca7b9dd019e9ab107b0",
       "version_major": 2,
       "version_minor": 0
      },
      "text/plain": [
       "Batches:   0%|          | 0/1 [00:00<?, ?it/s]"
      ]
     },
     "metadata": {},
     "output_type": "display_data"
    },
    {
     "data": {
      "application/vnd.jupyter.widget-view+json": {
       "model_id": "69128434598d4c08b8461e3fa59f67ad",
       "version_major": 2,
       "version_minor": 0
      },
      "text/plain": [
       "Batches:   0%|          | 0/1 [00:00<?, ?it/s]"
      ]
     },
     "metadata": {},
     "output_type": "display_data"
    },
    {
     "data": {
      "application/vnd.jupyter.widget-view+json": {
       "model_id": "043cded49a2a49c08d0bae39580a7b97",
       "version_major": 2,
       "version_minor": 0
      },
      "text/plain": [
       "Batches:   0%|          | 0/1 [00:00<?, ?it/s]"
      ]
     },
     "metadata": {},
     "output_type": "display_data"
    },
    {
     "data": {
      "application/vnd.jupyter.widget-view+json": {
       "model_id": "629c03346db34eb1abf3c9e2bbfc3975",
       "version_major": 2,
       "version_minor": 0
      },
      "text/plain": [
       "Batches:   0%|          | 0/1 [00:00<?, ?it/s]"
      ]
     },
     "metadata": {},
     "output_type": "display_data"
    },
    {
     "data": {
      "application/vnd.jupyter.widget-view+json": {
       "model_id": "f7db33b6f3334198b0b4e26f6146549f",
       "version_major": 2,
       "version_minor": 0
      },
      "text/plain": [
       "Batches:   0%|          | 0/1 [00:00<?, ?it/s]"
      ]
     },
     "metadata": {},
     "output_type": "display_data"
    },
    {
     "data": {
      "application/vnd.jupyter.widget-view+json": {
       "model_id": "013eabdd84d14454ad3104ebb4857916",
       "version_major": 2,
       "version_minor": 0
      },
      "text/plain": [
       "Batches:   0%|          | 0/1 [00:00<?, ?it/s]"
      ]
     },
     "metadata": {},
     "output_type": "display_data"
    },
    {
     "data": {
      "application/vnd.jupyter.widget-view+json": {
       "model_id": "265706e629784e278b78cafca57dac9a",
       "version_major": 2,
       "version_minor": 0
      },
      "text/plain": [
       "Batches:   0%|          | 0/1 [00:00<?, ?it/s]"
      ]
     },
     "metadata": {},
     "output_type": "display_data"
    },
    {
     "data": {
      "application/vnd.jupyter.widget-view+json": {
       "model_id": "5492b8f75d2b4c84b4e44fc26a75522a",
       "version_major": 2,
       "version_minor": 0
      },
      "text/plain": [
       "Batches:   0%|          | 0/1 [00:00<?, ?it/s]"
      ]
     },
     "metadata": {},
     "output_type": "display_data"
    },
    {
     "data": {
      "application/vnd.jupyter.widget-view+json": {
       "model_id": "e3850d83a4164c508347994df5b60ff3",
       "version_major": 2,
       "version_minor": 0
      },
      "text/plain": [
       "Batches:   0%|          | 0/1 [00:00<?, ?it/s]"
      ]
     },
     "metadata": {},
     "output_type": "display_data"
    },
    {
     "data": {
      "application/vnd.jupyter.widget-view+json": {
       "model_id": "158799c6317e4e2ea13a6bd2ee2a1d78",
       "version_major": 2,
       "version_minor": 0
      },
      "text/plain": [
       "Batches:   0%|          | 0/1 [00:00<?, ?it/s]"
      ]
     },
     "metadata": {},
     "output_type": "display_data"
    },
    {
     "data": {
      "application/vnd.jupyter.widget-view+json": {
       "model_id": "1d6e7223fd604692a8ca48a88f13fcdb",
       "version_major": 2,
       "version_minor": 0
      },
      "text/plain": [
       "Batches:   0%|          | 0/1 [00:00<?, ?it/s]"
      ]
     },
     "metadata": {},
     "output_type": "display_data"
    },
    {
     "data": {
      "application/vnd.jupyter.widget-view+json": {
       "model_id": "1425047fdb004935a2131996246a9f02",
       "version_major": 2,
       "version_minor": 0
      },
      "text/plain": [
       "Batches:   0%|          | 0/1 [00:00<?, ?it/s]"
      ]
     },
     "metadata": {},
     "output_type": "display_data"
    },
    {
     "data": {
      "application/vnd.jupyter.widget-view+json": {
       "model_id": "799d50ff37744dd6986947ad54e5a3d7",
       "version_major": 2,
       "version_minor": 0
      },
      "text/plain": [
       "Batches:   0%|          | 0/1 [00:00<?, ?it/s]"
      ]
     },
     "metadata": {},
     "output_type": "display_data"
    },
    {
     "data": {
      "application/vnd.jupyter.widget-view+json": {
       "model_id": "6112747a52934a8db81e86a7209a3934",
       "version_major": 2,
       "version_minor": 0
      },
      "text/plain": [
       "Batches:   0%|          | 0/1 [00:00<?, ?it/s]"
      ]
     },
     "metadata": {},
     "output_type": "display_data"
    },
    {
     "data": {
      "application/vnd.jupyter.widget-view+json": {
       "model_id": "03a0a2308fd048a4820fcdb87d10abfc",
       "version_major": 2,
       "version_minor": 0
      },
      "text/plain": [
       "Batches:   0%|          | 0/1 [00:00<?, ?it/s]"
      ]
     },
     "metadata": {},
     "output_type": "display_data"
    },
    {
     "data": {
      "application/vnd.jupyter.widget-view+json": {
       "model_id": "3b30cadb76784025aa1366e58279546d",
       "version_major": 2,
       "version_minor": 0
      },
      "text/plain": [
       "Batches:   0%|          | 0/1 [00:00<?, ?it/s]"
      ]
     },
     "metadata": {},
     "output_type": "display_data"
    },
    {
     "data": {
      "application/vnd.jupyter.widget-view+json": {
       "model_id": "a1282d0dbf514b63ad60106c39140a42",
       "version_major": 2,
       "version_minor": 0
      },
      "text/plain": [
       "Batches:   0%|          | 0/1 [00:00<?, ?it/s]"
      ]
     },
     "metadata": {},
     "output_type": "display_data"
    },
    {
     "data": {
      "application/vnd.jupyter.widget-view+json": {
       "model_id": "b5e761a639894858a0c962ed2dd7b5d1",
       "version_major": 2,
       "version_minor": 0
      },
      "text/plain": [
       "Batches:   0%|          | 0/1 [00:00<?, ?it/s]"
      ]
     },
     "metadata": {},
     "output_type": "display_data"
    },
    {
     "data": {
      "application/vnd.jupyter.widget-view+json": {
       "model_id": "9d8e0fb7f06d42e9b7e28a6d10020b29",
       "version_major": 2,
       "version_minor": 0
      },
      "text/plain": [
       "Batches:   0%|          | 0/1 [00:00<?, ?it/s]"
      ]
     },
     "metadata": {},
     "output_type": "display_data"
    },
    {
     "data": {
      "application/vnd.jupyter.widget-view+json": {
       "model_id": "44ae098d719c47c8bd2b56673e36684c",
       "version_major": 2,
       "version_minor": 0
      },
      "text/plain": [
       "Batches:   0%|          | 0/1 [00:00<?, ?it/s]"
      ]
     },
     "metadata": {},
     "output_type": "display_data"
    },
    {
     "data": {
      "application/vnd.jupyter.widget-view+json": {
       "model_id": "d1a6435ca4a64d29ad462a1f50146e9f",
       "version_major": 2,
       "version_minor": 0
      },
      "text/plain": [
       "Batches:   0%|          | 0/1 [00:00<?, ?it/s]"
      ]
     },
     "metadata": {},
     "output_type": "display_data"
    },
    {
     "data": {
      "application/vnd.jupyter.widget-view+json": {
       "model_id": "3e4a19a60d36411d87fada6e993bdf85",
       "version_major": 2,
       "version_minor": 0
      },
      "text/plain": [
       "Batches:   0%|          | 0/1 [00:00<?, ?it/s]"
      ]
     },
     "metadata": {},
     "output_type": "display_data"
    },
    {
     "data": {
      "application/vnd.jupyter.widget-view+json": {
       "model_id": "4073b9014cde44c38418e4870845489b",
       "version_major": 2,
       "version_minor": 0
      },
      "text/plain": [
       "Batches:   0%|          | 0/1 [00:00<?, ?it/s]"
      ]
     },
     "metadata": {},
     "output_type": "display_data"
    },
    {
     "data": {
      "application/vnd.jupyter.widget-view+json": {
       "model_id": "2bb45e2867fb464fa09614eb9fe7941d",
       "version_major": 2,
       "version_minor": 0
      },
      "text/plain": [
       "Batches:   0%|          | 0/1 [00:00<?, ?it/s]"
      ]
     },
     "metadata": {},
     "output_type": "display_data"
    },
    {
     "data": {
      "application/vnd.jupyter.widget-view+json": {
       "model_id": "1b7f6c3ee43a4ca4a7733d03795213a1",
       "version_major": 2,
       "version_minor": 0
      },
      "text/plain": [
       "Batches:   0%|          | 0/1 [00:00<?, ?it/s]"
      ]
     },
     "metadata": {},
     "output_type": "display_data"
    },
    {
     "data": {
      "application/vnd.jupyter.widget-view+json": {
       "model_id": "a4db3a9c013841b3a1576ce921822560",
       "version_major": 2,
       "version_minor": 0
      },
      "text/plain": [
       "Batches:   0%|          | 0/1 [00:00<?, ?it/s]"
      ]
     },
     "metadata": {},
     "output_type": "display_data"
    },
    {
     "data": {
      "application/vnd.jupyter.widget-view+json": {
       "model_id": "b2040ae1594449e183fca01a4f299079",
       "version_major": 2,
       "version_minor": 0
      },
      "text/plain": [
       "Batches:   0%|          | 0/1 [00:00<?, ?it/s]"
      ]
     },
     "metadata": {},
     "output_type": "display_data"
    },
    {
     "data": {
      "application/vnd.jupyter.widget-view+json": {
       "model_id": "001ceaaa7d294beba66842d570e8b2cd",
       "version_major": 2,
       "version_minor": 0
      },
      "text/plain": [
       "Batches:   0%|          | 0/1 [00:00<?, ?it/s]"
      ]
     },
     "metadata": {},
     "output_type": "display_data"
    },
    {
     "data": {
      "application/vnd.jupyter.widget-view+json": {
       "model_id": "22d1c548ecae452295745ddc8bf001fd",
       "version_major": 2,
       "version_minor": 0
      },
      "text/plain": [
       "Batches:   0%|          | 0/1 [00:00<?, ?it/s]"
      ]
     },
     "metadata": {},
     "output_type": "display_data"
    },
    {
     "data": {
      "application/vnd.jupyter.widget-view+json": {
       "model_id": "f1219218ab794c9db886a1c5fbcf87a2",
       "version_major": 2,
       "version_minor": 0
      },
      "text/plain": [
       "Batches:   0%|          | 0/1 [00:00<?, ?it/s]"
      ]
     },
     "metadata": {},
     "output_type": "display_data"
    },
    {
     "data": {
      "application/vnd.jupyter.widget-view+json": {
       "model_id": "c72d945acabb4b80a24bcc134f7b5c6d",
       "version_major": 2,
       "version_minor": 0
      },
      "text/plain": [
       "Batches:   0%|          | 0/1 [00:00<?, ?it/s]"
      ]
     },
     "metadata": {},
     "output_type": "display_data"
    },
    {
     "data": {
      "application/vnd.jupyter.widget-view+json": {
       "model_id": "c9005281a8f1436c8b057f957ae518f8",
       "version_major": 2,
       "version_minor": 0
      },
      "text/plain": [
       "Batches:   0%|          | 0/1 [00:00<?, ?it/s]"
      ]
     },
     "metadata": {},
     "output_type": "display_data"
    }
   ],
   "source": [
    "from typing import List, Any, Tuple, Dict, Set\n",
    "import numpy as np\n",
    "from sklearn.metrics.pairwise import cosine_similarity\n",
    "from ragas import evaluate\n",
    "from ragas.metrics import (\n",
    "    answer_relevancy,\n",
    "    faithfulness,\n",
    "    context_recall,\n",
    "    context_utilization,\n",
    ")\n",
    "from datasets import Dataset, Features, Sequence, Value\n",
    "from langchain_openai import AzureChatOpenAI\n",
    "\n",
    "# Assume that the previous notebooks have been run to load environment variables, imports, embeddings, chunked texts, vector stores, RAG chains, and conversational RAG chains\n",
    "%run \"conversational_ragchain.ipynb\"\n",
    "\n",
    "# Initialize the AzureChatOpenAI model\n",
    "llm = AzureChatOpenAI(\n",
    "    openai_api_version=os.getenv('AZURE_API_VERSION'),\n",
    "    azure_deployment=os.getenv('AZURE_DEPLOYMENT'),\n",
    "    api_key=os.getenv('AZURE_API_KEY'),\n",
    "    azure_endpoint=os.getenv('AZURE_ENDPOINT')\n",
    ")\n",
    "\n",
    "def evaluate_answer(answer: str, question: str, context: List[Any], ground_truth: str) -> Dict[str, float]:\n",
    "    # Format the context as a list of strings for 'contexts'\n",
    "    context_str = format_context(context)\n",
    "    context_list = context_str.split('\\n\\n')\n",
    "\n",
    "    # Create a dictionary with lists for each column\n",
    "    data = {\n",
    "        \"question\": [question],\n",
    "        \"context\": [context_str],\n",
    "        \"answer\": [answer],\n",
    "        \"contexts\": [context_list],  # 'contexts' as a list of strings\n",
    "        \"ground_truth\": [ground_truth]  # 'ground_truth' column\n",
    "    }\n",
    "\n",
    "    # Define the feature types\n",
    "    features = Features({\n",
    "        \"question\": Value(\"string\"),\n",
    "        \"context\": Value(\"string\"),\n",
    "        \"answer\": Value(\"string\"),\n",
    "        \"contexts\": Sequence(Value(\"string\")),\n",
    "        \"ground_truth\": Value(\"string\")\n",
    "    })\n",
    "\n",
    "    # Convert to HuggingFace dataset\n",
    "    dataset = Dataset.from_dict(data, features=features)\n",
    "\n",
    "    # Evaluate using RAGAS\n",
    "    scores = evaluate(\n",
    "        dataset,\n",
    "        metrics=[context_utilization, faithfulness, answer_relevancy, context_recall],\n",
    "        column_map={\"question\": \"question\", \"context\": \"context\", \"answer\": \"answer\", \"contexts\": \"contexts\", \"ground_truth\": \"ground_truth\"},\n",
    "        llm=llm,  # Pass the AzureChatOpenAI model\n",
    "        embeddings=embedding_function  # Pass the SentenceTransformerEmbeddings\n",
    "    )\n",
    "    return scores\n",
    "\n",
    "def get_aggregated_answer_and_sources(input_question: str, session_id=\"abc123\") -> Tuple[str, Dict[str, str], List[Any], Set[Tuple[str, str]]]:\n",
    "    def is_invalid_answer(answer: str) -> bool:\n",
    "        return \"I don't\" in answer or \"I'm sorry\" in answer\n",
    "\n",
    "    def get_response_and_sources(response: Dict[str, Any], all_texts: List[Any]) -> Tuple[str, List[Any], Set[Tuple[str, str]]]:\n",
    "        answer = response[\"answer\"]\n",
    "        context = response[\"context\"]\n",
    "        used_chunks = [doc for doc in all_texts if any(chunk.page_content in doc.page_content for chunk in context)]\n",
    "        sources = {(chunk.metadata['file'], chunk.metadata.get('page', 'Unknown')) for chunk in used_chunks}\n",
    "        return answer, context, sources\n",
    "\n",
    "    all_responses = {}\n",
    "    all_contexts = []\n",
    "    all_sources = set()\n",
    "\n",
    "    for key in ['chroma', 'faiss', 'pinecone']:\n",
    "        response = conversational_rag_chains[key].invoke(\n",
    "            {\"input\": input_question},\n",
    "            config={\"configurable\": {\"session_id\": session_id}},\n",
    "        )\n",
    "        if not is_invalid_answer(response[\"answer\"]):\n",
    "            answer, context, sources = get_response_and_sources(response, all_texts[key])\n",
    "            all_responses[key] = answer\n",
    "            all_contexts.extend(context)\n",
    "            all_sources.update(sources)\n",
    "\n",
    "    if not all_responses:\n",
    "        return \"I don't know the answer.\", {}, [], set()\n",
    "\n",
    "    # Combine all the valid responses into one, filtering out duplicates\n",
    "    sentences = []\n",
    "    for answer in all_responses.values():\n",
    "        sentences.extend(answer.split(\". \"))\n",
    "\n",
    "    # Embed the sentences to filter out duplicates\n",
    "    sentence_embeddings = embedding_function.embed_documents(sentences)\n",
    "    unique_sentences = []\n",
    "    unique_embeddings = []\n",
    "\n",
    "    for i, embedding in enumerate(sentence_embeddings):\n",
    "        if not unique_embeddings:  # First sentence\n",
    "            unique_sentences.append(sentences[i])\n",
    "            unique_embeddings.append(embedding)\n",
    "        else:\n",
    "            similarities = cosine_similarity([embedding], unique_embeddings)\n",
    "            if all(sim < 0.8 for sim in similarities[0]):  # Adjust the threshold as needed\n",
    "                unique_sentences.append(sentences[i])\n",
    "                unique_embeddings.append(embedding)\n",
    "\n",
    "    aggregated_answer = \". \".join(unique_sentences)\n",
    "\n",
    "    return aggregated_answer, all_responses, all_contexts, all_sources\n",
    "\n",
    "def format_context(context: List[Any]) -> str:\n",
    "    formatted_context = \"\\n\\n\".join([\n",
    "        f\"File: {doc.metadata['file']}, Page {doc.metadata.get('page', 'Unknown')}: {doc.page_content}\"\n",
    "        for doc in context\n",
    "    ])\n",
    "    return formatted_context\n",
    "\n"
   ]
  },
  {
   "cell_type": "code",
   "execution_count": 2,
   "id": "297fa61d-88a2-43ed-ada7-a22a58fa7614",
   "metadata": {},
   "outputs": [
    {
     "data": {
      "application/vnd.jupyter.widget-view+json": {
       "model_id": "367c939a93b84393acfec63c4c29b361",
       "version_major": 2,
       "version_minor": 0
      },
      "text/plain": [
       "Batches:   0%|          | 0/1 [00:00<?, ?it/s]"
      ]
     },
     "metadata": {},
     "output_type": "display_data"
    },
    {
     "data": {
      "application/vnd.jupyter.widget-view+json": {
       "model_id": "3333b5dedfce420395d70e9e201ec31d",
       "version_major": 2,
       "version_minor": 0
      },
      "text/plain": [
       "Batches:   0%|          | 0/1 [00:00<?, ?it/s]"
      ]
     },
     "metadata": {},
     "output_type": "display_data"
    },
    {
     "data": {
      "application/vnd.jupyter.widget-view+json": {
       "model_id": "556575cacff64d5eb1b7c79e6e00f91d",
       "version_major": 2,
       "version_minor": 0
      },
      "text/plain": [
       "Batches:   0%|          | 0/1 [00:00<?, ?it/s]"
      ]
     },
     "metadata": {},
     "output_type": "display_data"
    },
    {
     "data": {
      "application/vnd.jupyter.widget-view+json": {
       "model_id": "c58af989ebc147b5b0854e540e77ec6a",
       "version_major": 2,
       "version_minor": 0
      },
      "text/plain": [
       "Batches:   0%|          | 0/1 [00:00<?, ?it/s]"
      ]
     },
     "metadata": {},
     "output_type": "display_data"
    },
    {
     "data": {
      "application/vnd.jupyter.widget-view+json": {
       "model_id": "daf13c788f8e40c897f80643200d5a44",
       "version_major": 2,
       "version_minor": 0
      },
      "text/plain": [
       "Batches:   0%|          | 0/1 [00:00<?, ?it/s]"
      ]
     },
     "metadata": {},
     "output_type": "display_data"
    },
    {
     "data": {
      "application/vnd.jupyter.widget-view+json": {
       "model_id": "313f1cd0d8b3455d8f3060bda0c27a84",
       "version_major": 2,
       "version_minor": 0
      },
      "text/plain": [
       "Batches:   0%|          | 0/1 [00:00<?, ?it/s]"
      ]
     },
     "metadata": {},
     "output_type": "display_data"
    },
    {
     "data": {
      "application/vnd.jupyter.widget-view+json": {
       "model_id": "c1c0bb3885bf42d78ca628b60b94303b",
       "version_major": 2,
       "version_minor": 0
      },
      "text/plain": [
       "Batches:   0%|          | 0/1 [00:00<?, ?it/s]"
      ]
     },
     "metadata": {},
     "output_type": "display_data"
    },
    {
     "data": {
      "application/vnd.jupyter.widget-view+json": {
       "model_id": "e7cfbfed15b949519e385afd16d29497",
       "version_major": 2,
       "version_minor": 0
      },
      "text/plain": [
       "Batches:   0%|          | 0/1 [00:00<?, ?it/s]"
      ]
     },
     "metadata": {},
     "output_type": "display_data"
    },
    {
     "data": {
      "application/vnd.jupyter.widget-view+json": {
       "model_id": "08898220500f483da9e44eec962ef468",
       "version_major": 2,
       "version_minor": 0
      },
      "text/plain": [
       "Batches:   0%|          | 0/1 [00:00<?, ?it/s]"
      ]
     },
     "metadata": {},
     "output_type": "display_data"
    },
    {
     "data": {
      "application/vnd.jupyter.widget-view+json": {
       "model_id": "f6fee68f11954fe7893cb8fb1e042126",
       "version_major": 2,
       "version_minor": 0
      },
      "text/plain": [
       "Batches:   0%|          | 0/1 [00:00<?, ?it/s]"
      ]
     },
     "metadata": {},
     "output_type": "display_data"
    },
    {
     "data": {
      "application/vnd.jupyter.widget-view+json": {
       "model_id": "cf8d7e727cd6412698278e1713a6c007",
       "version_major": 2,
       "version_minor": 0
      },
      "text/plain": [
       "Batches:   0%|          | 0/1 [00:00<?, ?it/s]"
      ]
     },
     "metadata": {},
     "output_type": "display_data"
    },
    {
     "data": {
      "application/vnd.jupyter.widget-view+json": {
       "model_id": "bc3db92d2b6e4d14ba6bc2c58dfcbb3d",
       "version_major": 2,
       "version_minor": 0
      },
      "text/plain": [
       "Batches:   0%|          | 0/1 [00:00<?, ?it/s]"
      ]
     },
     "metadata": {},
     "output_type": "display_data"
    },
    {
     "data": {
      "application/vnd.jupyter.widget-view+json": {
       "model_id": "8242cd1af5f148abbd4e357699645bd9",
       "version_major": 2,
       "version_minor": 0
      },
      "text/plain": [
       "Batches:   0%|          | 0/1 [00:00<?, ?it/s]"
      ]
     },
     "metadata": {},
     "output_type": "display_data"
    },
    {
     "data": {
      "application/vnd.jupyter.widget-view+json": {
       "model_id": "5e932eb34f17496d93f735079ab1d23d",
       "version_major": 2,
       "version_minor": 0
      },
      "text/plain": [
       "Batches:   0%|          | 0/1 [00:00<?, ?it/s]"
      ]
     },
     "metadata": {},
     "output_type": "display_data"
    },
    {
     "data": {
      "application/vnd.jupyter.widget-view+json": {
       "model_id": "c322811e69294a1fa40724bfa73aa210",
       "version_major": 2,
       "version_minor": 0
      },
      "text/plain": [
       "Batches:   0%|          | 0/1 [00:00<?, ?it/s]"
      ]
     },
     "metadata": {},
     "output_type": "display_data"
    },
    {
     "data": {
      "application/vnd.jupyter.widget-view+json": {
       "model_id": "14bb6245c0ed4f9d88ef631e20804196",
       "version_major": 2,
       "version_minor": 0
      },
      "text/plain": [
       "Batches:   0%|          | 0/1 [00:00<?, ?it/s]"
      ]
     },
     "metadata": {},
     "output_type": "display_data"
    },
    {
     "data": {
      "application/vnd.jupyter.widget-view+json": {
       "model_id": "a1c7a89147af447c91c363bd2d5e5dfa",
       "version_major": 2,
       "version_minor": 0
      },
      "text/plain": [
       "Batches:   0%|          | 0/1 [00:00<?, ?it/s]"
      ]
     },
     "metadata": {},
     "output_type": "display_data"
    },
    {
     "name": "stdout",
     "output_type": "stream",
     "text": [
      "\n",
      "Final Aggregated Answer: The primary tasks performed by broadcast technicians during radio and television broadcasts include maintaining programming logs as required by station management and the Federal Communications Commission, controlling audio equipment to regulate volume and sound quality, monitoring strength, clarity, and reliability of incoming and outgoing signals and adjusting equipment to maintain quality broadcasts, regulating fidelity, brightness, and contrast of video transmissions, observing monitors and conversing with station personnel to ensure proper audio and video levels, previewing scheduled programs for readiness, selecting sources for programming reception or transmission, and reporting equipment problems and performing emergency repairs when necessary.. They control audio equipment to regulate volume level and quality of sound, operate radio transmitters, maintain programming logs, monitor and adjust signal strength and quality, regulate video transmissions, preview scheduled programs, and select programming sources for reception or transmission. Additionally, they report and address equipment problems, making repairs as necessary.. During radio and television broadcasts, broadcast technicians primarily:\n",
      "\n",
      "1. Control audio equipment to regulate volume and sound quality.\n",
      "2. Monitor and adjust the strength, clarity, and reliability of incoming and outgoing signals to maintain quality broadcasts.\n",
      "3. Regulate video transmissions' fidelity, brightness, and contrast using video console control panels.\n",
      "\n",
      "Other tasks include maintaining programming logs, previewing scheduled programs, selecting programming sources, reporting and repairing equipment problems, and ensuring that programs are airing through observation and communication with station personnel.\n",
      "\n",
      "Intermediate Answers:\n",
      "Chroma: The primary tasks performed by broadcast technicians during radio and television broadcasts include maintaining programming logs as required by station management and the Federal Communications Commission, controlling audio equipment to regulate volume and sound quality, monitoring strength, clarity, and reliability of incoming and outgoing signals and adjusting equipment to maintain quality broadcasts, regulating fidelity, brightness, and contrast of video transmissions, observing monitors and conversing with station personnel to ensure proper audio and video levels, previewing scheduled programs for readiness, selecting sources for programming reception or transmission, and reporting equipment problems and performing emergency repairs when necessary.\n",
      "FAISS: Broadcast technicians primarily set up, operate, and maintain the electronic equipment used for transmitting radio and television programs. They control audio equipment to regulate volume level and quality of sound, operate radio transmitters, maintain programming logs, monitor and adjust signal strength and quality, regulate video transmissions, preview scheduled programs, and select programming sources for reception or transmission. Additionally, they report and address equipment problems, making repairs as necessary.\n",
      "Pinecone: During radio and television broadcasts, broadcast technicians primarily:\n",
      "\n",
      "1. Control audio equipment to regulate volume and sound quality.\n",
      "2. Monitor and adjust the strength, clarity, and reliability of incoming and outgoing signals to maintain quality broadcasts.\n",
      "3. Regulate video transmissions' fidelity, brightness, and contrast using video console control panels.\n",
      "\n",
      "Other tasks include maintaining programming logs, previewing scheduled programs, selecting programming sources, reporting and repairing equipment problems, and ensuring that programs are airing through observation and communication with station personnel.\n",
      "\n",
      "Context used for answer:\n",
      "File: 1_chroma.pdf, Page 0: Broadcast Technicians, page 1 of 3\n",
      "A CareerZone Occupational Brief for:\n",
      "Broadcast Technicians\n",
      "An occupation in Engineering and Technologies\n",
      "New York State Department of Labor\n",
      "David A. Paterson, Governor\n",
      "Job Description\n",
      "Set up, operate, and maintain the electronic equipment used to transmit radio and television programs. Control\n",
      "audio equipment to regulate volume level and quality of sound during radio and television broadcasts. Operate\n",
      "radio transmitter to broadcast radio and television programs.\n",
      "Interests\n",
      "Realistic - Realistic occupations frequently involve work activities that include practical, hands-on problems and\n",
      "solutions. They often deal with plants, animals, and real-world materials like wood, tools, and machinery. Many of\n",
      "the occupations require working outside, and do not involve a lot of paperwork or working closely with others.\n",
      "Tasks\n",
      "1. Maintain programming logs, as required by station management and the Federal Communications\n",
      "Commission.\n",
      "\n",
      "File: 1_chroma.pdf, Page 1: management; principles of interpersonal and mediated communications; radio, television, and digital media\n",
      "production; and related aspects of technology and communications systems.\n",
      "Radio and Television Broadcasting Technology/Technician. - A program that prepares individuals to apply\n",
      "technical knowledge and skills to the production of radio and television programs, and related operations, under\n",
      "the supervision of broadcast and studio managers, directors, editors, and producers. Includes instruction in\n",
      "sound, lighting, and camera operation and maintenance; power and feed control; studio operations; production\n",
      "preparation; broadcast engineering; related computer applications; and specialized applications such as news,\n",
      "entertainment, live talk, sports, commercials, and taping.\n",
      "\n",
      "File: 1_chroma.pdf, Page 0: Tasks\n",
      "1. Maintain programming logs, as required by station management and the Federal Communications\n",
      "Commission.\n",
      "2. Control audio equipment to regulate the volume and sound quality during radio and television broadcasts.\n",
      "3. Monitor strength, clarity, and reliability of incoming and outgoing signals, and adjust equipment as necessary to\n",
      "maintain quality broadcasts.\n",
      "4. Regulate the fidelity, brightness, and contrast of video transmissions, using video console control panels.\n",
      "5. Observe monitors and converse with station personnel to determine audio and video levels and to ascertain\n",
      "that programs are airing.\n",
      "6. Preview scheduled programs to ensure that signals are functioning and programs are ready for transmission.\n",
      "7. Select sources from which programming will be received, or through which programming will be transmitted.\n",
      "8. Report equipment problems, ensure that repairs are made, and make emergency repairs to equipment when\n",
      "necessary and possible.\n",
      "\n",
      "File: 1_chroma.pdf, Page 1: Broadcast Technicians, page 2 of 3\n",
      "Troubleshooting - Determining causes of operating errors and deciding what to do about it.\n",
      "Active Listening - Giving full attention to what other people are saying, taking time to understand the points\n",
      "being made, asking questions as appropriate, and not interrupting at inappropriate times.\n",
      "Active Learning - Understanding the implications of new information for both current and future problem-solving\n",
      "and decision-making.\n",
      "Critical Thinking - Using logic and reasoning to identify the strengths and weaknesses of alternative solutions,\n",
      "conclusions or approaches to problems.\n",
      "Knowledge\n",
      "Telecommunications - Knowledge of transmission, broadcasting, switching, control, and operation of\n",
      "telecommunications systems.\n",
      "Communications and Media - Knowledge of media production, communication, and dissemination techniques\n",
      "and methods. This includes alternative ways to inform and entertain via written, oral, and visual media.\n",
      "\n",
      "File: 1_chroma.pdf, Page 2: Radio Operators - Receive and transmit communications using radiotelegraph or radiotelephone equipment in\n",
      "accordance with government regulations. May repair equipment.\n",
      "Sound Engineering Technicians - Operate machines and equipment to record, synchronize, mix, or reproduce\n",
      "music, voices, or sound effects in sporting arenas, theater productions, recording studios, or movie and video\n",
      "productions.\n",
      "Film and Video Editors - Edit motion picture soundtracks, film, and video.\n",
      "Telecommunications Equipment Installers and Repairers, Except Line Installers - Set-up, rearrange,\n",
      "or remove switching and dialing equipment used in central offices. Service or repair telephones and other\n",
      "communication equipment on customers' property. May install equipment in new locations or install wiring and\n",
      "telephone jacks in buildings under construction.\n",
      "Electronic Home Entertainment Equipment Installers and Repairers - Repair, adjust, or install audio or\n",
      "\n",
      "File: 1_chroma.pdf, Page 0: Broadcast Technicians, page 1 of 3\n",
      "A CareerZone Occupational Brief for:\n",
      "Broadcast Technicians\n",
      "An occupation in Engineering and Technologies\n",
      "New York State Department of Labor\n",
      "David A. Paterson, Governor\n",
      "Job Description\n",
      "Set up, operate, and maintain the electronic equipment used to transmit radio and television programs. Control\n",
      "audio equipment to regulate volume level and quality of sound during radio and television broadcasts. Operate\n",
      "radio transmitter to broadcast radio and television programs.\n",
      "Interests\n",
      "Realistic - Realistic occupations frequently involve work activities that include practical, hands-on problems and\n",
      "solutions. They often deal with plants, animals, and real-world materials like wood, tools, and machinery. Many of\n",
      "the occupations require working outside, and do not involve a lot of paperwork or working closely with others.\n",
      "Tasks\n",
      "1. Maintain programming logs, as required by station management and the Federal Communications\n",
      "Commission.\n",
      "\n",
      "File: 1_chroma.pdf, Page 1: management; principles of interpersonal and mediated communications; radio, television, and digital media\n",
      "production; and related aspects of technology and communications systems.\n",
      "Radio and Television Broadcasting Technology/Technician. - A program that prepares individuals to apply\n",
      "technical knowledge and skills to the production of radio and television programs, and related operations, under\n",
      "the supervision of broadcast and studio managers, directors, editors, and producers. Includes instruction in\n",
      "sound, lighting, and camera operation and maintenance; power and feed control; studio operations; production\n",
      "preparation; broadcast engineering; related computer applications; and specialized applications such as news,\n",
      "entertainment, live talk, sports, commercials, and taping.\n",
      "\n",
      "File: 1_chroma.pdf, Page 0: Tasks\n",
      "1. Maintain programming logs, as required by station management and the Federal Communications\n",
      "Commission.\n",
      "2. Control audio equipment to regulate the volume and sound quality during radio and television broadcasts.\n",
      "3. Monitor strength, clarity, and reliability of incoming and outgoing signals, and adjust equipment as necessary to\n",
      "maintain quality broadcasts.\n",
      "4. Regulate the fidelity, brightness, and contrast of video transmissions, using video console control panels.\n",
      "5. Observe monitors and converse with station personnel to determine audio and video levels and to ascertain\n",
      "that programs are airing.\n",
      "6. Preview scheduled programs to ensure that signals are functioning and programs are ready for transmission.\n",
      "7. Select sources from which programming will be received, or through which programming will be transmitted.\n",
      "8. Report equipment problems, ensure that repairs are made, and make emergency repairs to equipment when\n",
      "necessary and possible.\n",
      "\n",
      "File: 1_chroma.pdf, Page 2: Radio Operators - Receive and transmit communications using radiotelegraph or radiotelephone equipment in\n",
      "accordance with government regulations. May repair equipment.\n",
      "Sound Engineering Technicians - Operate machines and equipment to record, synchronize, mix, or reproduce\n",
      "music, voices, or sound effects in sporting arenas, theater productions, recording studios, or movie and video\n",
      "productions.\n",
      "Film and Video Editors - Edit motion picture soundtracks, film, and video.\n",
      "Telecommunications Equipment Installers and Repairers, Except Line Installers - Set-up, rearrange,\n",
      "or remove switching and dialing equipment used in central offices. Service or repair telephones and other\n",
      "communication equipment on customers' property. May install equipment in new locations or install wiring and\n",
      "telephone jacks in buildings under construction.\n",
      "Electronic Home Entertainment Equipment Installers and Repairers - Repair, adjust, or install audio or\n",
      "\n",
      "File: 1_chroma.pdf, Page 1: Broadcast Technicians, page 2 of 3\n",
      "Troubleshooting - Determining causes of operating errors and deciding what to do about it.\n",
      "Active Listening - Giving full attention to what other people are saying, taking time to understand the points\n",
      "being made, asking questions as appropriate, and not interrupting at inappropriate times.\n",
      "Active Learning - Understanding the implications of new information for both current and future problem-solving\n",
      "and decision-making.\n",
      "Critical Thinking - Using logic and reasoning to identify the strengths and weaknesses of alternative solutions,\n",
      "conclusions or approaches to problems.\n",
      "Knowledge\n",
      "Telecommunications - Knowledge of transmission, broadcasting, switching, control, and operation of\n",
      "telecommunications systems.\n",
      "Communications and Media - Knowledge of media production, communication, and dissemination techniques\n",
      "and methods. This includes alternative ways to inform and entertain via written, oral, and visual media.\n",
      "\n",
      "File: 1_chroma.pdf, Page 0.0: Broadcast Technicians, page 1 of 3\n",
      "A CareerZone Occupational Brief for:\n",
      "Broadcast Technicians\n",
      "An occupation in Engineering and Technologies\n",
      "New York State Department of Labor\n",
      "David A. Paterson, Governor\n",
      "Job Description\n",
      "Set up, operate, and maintain the electronic equipment used to transmit radio and television programs. Control\n",
      "audio equipment to regulate volume level and quality of sound during radio and television broadcasts. Operate\n",
      "radio transmitter to broadcast radio and television programs. Interests\n",
      "Realistic - Realistic occupations frequently involve work activities that include practical, hands-on problems and\n",
      "solutions. They often deal with plants, animals, and real-world materials like wood, tools, and machinery. Many of\n",
      "the occupations require working outside, and do not involve a lot of paperwork or working closely with others. Tasks\n",
      "1. Maintain programming logs, as required by station management and the Federal Communications\n",
      "Commission. 2. Control audio equipment to regulate the volume and sound quality during radio and television broadcasts. 3. Monitor strength, clarity, and reliability of incoming and outgoing signals, and adjust equipment as necessary to\n",
      "maintain quality broadcasts. 4. Regulate the fidelity, brightness, and contrast of video transmissions, using video console control panels. 5. Observe monitors and converse with station personnel to determine audio and video levels and to ascertain\n",
      "that programs are airing. 6. Preview scheduled programs to ensure that signals are functioning and programs are ready for transmission. 7. Select sources from which programming will be received, or through which programming will be transmitted. 8. Report equipment problems, ensure that repairs are made, and make emergency repairs to equipment when\n",
      "necessary and possible. 9. Record sound onto tape or film for radio or television, checking its quality and making adjustments where\n",
      "necessary. 10. Align antennae with receiving dishes to obtain the clearest signal for transmission of broadcasts from field\n",
      "locations. 11. Substitute programs in cases where signals fail. Skills\n",
      "Operation Monitoring - Watching gauges, dials, or other indicators to make sure a machine is working properly. Reading Comprehension - Understanding written sentences and paragraphs in work related documents. Operation and Control - Controlling operations of equipment or systems. \n",
      "\n",
      "File: 1_chroma.pdf, Page 0.0: Tasks\n",
      "1. Maintain programming logs, as required by station management and the Federal Communications\n",
      "Commission.\n",
      "2. Control audio equipment to regulate the volume and sound quality during radio and television broadcasts.\n",
      "3. Monitor strength, clarity, and reliability of incoming and outgoing signals, and adjust equipment as necessary to\n",
      "maintain quality broadcasts.\n",
      "4. Regulate the fidelity, brightness, and contrast of video transmissions, using video console control panels.\n",
      "5. Observe monitors and converse with station personnel to determine audio and video levels and to ascertain\n",
      "that programs are airing.\n",
      "6. Preview scheduled programs to ensure that signals are functioning and programs are ready for transmission.\n",
      "7. Select sources from which programming will be received, or through which programming will be transmitted.\n",
      "8. Report equipment problems, ensure that repairs are made, and make emergency repairs to equipment when\n",
      "necessary and possible.\n",
      "\n",
      "File: 1_chroma.pdf, Page 1.0: management; principles of interpersonal and mediated communications; radio, television, and digital media\n",
      "production; and related aspects of technology and communications systems.\n",
      "Radio and Television Broadcasting Technology/Technician. - A program that prepares individuals to apply\n",
      "technical knowledge and skills to the production of radio and television programs, and related operations, under\n",
      "the supervision of broadcast and studio managers, directors, editors, and producers. Includes instruction in\n",
      "sound, lighting, and camera operation and maintenance; power and feed control; studio operations; production\n",
      "preparation; broadcast engineering; related computer applications; and specialized applications such as news,\n",
      "entertainment, live talk, sports, commercials, and taping.\n",
      "\n"
     ]
    },
    {
     "data": {
      "application/vnd.jupyter.widget-view+json": {
       "model_id": "0d605bcbc3864188b0b9477aa01c9762",
       "version_major": 2,
       "version_minor": 0
      },
      "text/plain": [
       "Evaluating:   0%|          | 0/4 [00:00<?, ?it/s]"
      ]
     },
     "metadata": {},
     "output_type": "display_data"
    },
    {
     "data": {
      "application/vnd.jupyter.widget-view+json": {
       "model_id": "06e5994779b94c159191e3f334086f71",
       "version_major": 2,
       "version_minor": 0
      },
      "text/plain": [
       "Batches:   0%|          | 0/1 [00:00<?, ?it/s]"
      ]
     },
     "metadata": {},
     "output_type": "display_data"
    },
    {
     "data": {
      "application/vnd.jupyter.widget-view+json": {
       "model_id": "32a23231f6624e0e9e09e9746eb43c36",
       "version_major": 2,
       "version_minor": 0
      },
      "text/plain": [
       "Batches:   0%|          | 0/1 [00:00<?, ?it/s]"
      ]
     },
     "metadata": {},
     "output_type": "display_data"
    },
    {
     "data": {
      "application/vnd.jupyter.widget-view+json": {
       "model_id": "333a9833c822427eb82073741de4e01f",
       "version_major": 2,
       "version_minor": 0
      },
      "text/plain": [
       "Batches:   0%|          | 0/1 [00:00<?, ?it/s]"
      ]
     },
     "metadata": {},
     "output_type": "display_data"
    },
    {
     "data": {
      "application/vnd.jupyter.widget-view+json": {
       "model_id": "79e2157aa1e14c6eaaa01053cca83e19",
       "version_major": 2,
       "version_minor": 0
      },
      "text/plain": [
       "Batches:   0%|          | 0/1 [00:00<?, ?it/s]"
      ]
     },
     "metadata": {},
     "output_type": "display_data"
    },
    {
     "name": "stdout",
     "output_type": "stream",
     "text": [
      "\n",
      "Final Aggregated Answer Evaluation Scores: {'context_utilization': 0.8865, 'faithfulness': 1.0000, 'answer_relevancy': 1.0000, 'context_recall': 1.0000}\n"
     ]
    },
    {
     "data": {
      "application/vnd.jupyter.widget-view+json": {
       "model_id": "c998ddfbb6f54777a02b2f7bf4d12012",
       "version_major": 2,
       "version_minor": 0
      },
      "text/plain": [
       "Evaluating:   0%|          | 0/4 [00:00<?, ?it/s]"
      ]
     },
     "metadata": {},
     "output_type": "display_data"
    },
    {
     "data": {
      "application/vnd.jupyter.widget-view+json": {
       "model_id": "89bb3dc2a74b4949b18ef75bf9668feb",
       "version_major": 2,
       "version_minor": 0
      },
      "text/plain": [
       "Batches:   0%|          | 0/1 [00:00<?, ?it/s]"
      ]
     },
     "metadata": {},
     "output_type": "display_data"
    },
    {
     "data": {
      "application/vnd.jupyter.widget-view+json": {
       "model_id": "165daf1c3dfb4028ac024b048bf4b2b6",
       "version_major": 2,
       "version_minor": 0
      },
      "text/plain": [
       "Batches:   0%|          | 0/1 [00:00<?, ?it/s]"
      ]
     },
     "metadata": {},
     "output_type": "display_data"
    },
    {
     "data": {
      "application/vnd.jupyter.widget-view+json": {
       "model_id": "6fcc4196b77a408ba6128682d5a38b12",
       "version_major": 2,
       "version_minor": 0
      },
      "text/plain": [
       "Batches:   0%|          | 0/1 [00:00<?, ?it/s]"
      ]
     },
     "metadata": {},
     "output_type": "display_data"
    },
    {
     "data": {
      "application/vnd.jupyter.widget-view+json": {
       "model_id": "11ad8a00b1db44ab975045704f115807",
       "version_major": 2,
       "version_minor": 0
      },
      "text/plain": [
       "Batches:   0%|          | 0/1 [00:00<?, ?it/s]"
      ]
     },
     "metadata": {},
     "output_type": "display_data"
    },
    {
     "name": "stdout",
     "output_type": "stream",
     "text": [
      "\n",
      "Chroma Answer Evaluation Scores: {'context_utilization': 0.8865, 'faithfulness': 1.0000, 'answer_relevancy': 1.0000, 'context_recall': 1.0000}\n"
     ]
    },
    {
     "data": {
      "application/vnd.jupyter.widget-view+json": {
       "model_id": "80fadbec64584bdcb25cb723fe7dffa2",
       "version_major": 2,
       "version_minor": 0
      },
      "text/plain": [
       "Evaluating:   0%|          | 0/4 [00:00<?, ?it/s]"
      ]
     },
     "metadata": {},
     "output_type": "display_data"
    },
    {
     "data": {
      "application/vnd.jupyter.widget-view+json": {
       "model_id": "a8790b6043f2437d8512b26608e6ac40",
       "version_major": 2,
       "version_minor": 0
      },
      "text/plain": [
       "Batches:   0%|          | 0/1 [00:00<?, ?it/s]"
      ]
     },
     "metadata": {},
     "output_type": "display_data"
    },
    {
     "data": {
      "application/vnd.jupyter.widget-view+json": {
       "model_id": "3fa895f2b7274d59be969e5238854bcb",
       "version_major": 2,
       "version_minor": 0
      },
      "text/plain": [
       "Batches:   0%|          | 0/1 [00:00<?, ?it/s]"
      ]
     },
     "metadata": {},
     "output_type": "display_data"
    },
    {
     "data": {
      "application/vnd.jupyter.widget-view+json": {
       "model_id": "188e9048e60c4013991bc93c94548ff9",
       "version_major": 2,
       "version_minor": 0
      },
      "text/plain": [
       "Batches:   0%|          | 0/1 [00:00<?, ?it/s]"
      ]
     },
     "metadata": {},
     "output_type": "display_data"
    },
    {
     "data": {
      "application/vnd.jupyter.widget-view+json": {
       "model_id": "347e6fd9b3e34f4abc6faa51659085f3",
       "version_major": 2,
       "version_minor": 0
      },
      "text/plain": [
       "Batches:   0%|          | 0/1 [00:00<?, ?it/s]"
      ]
     },
     "metadata": {},
     "output_type": "display_data"
    },
    {
     "name": "stdout",
     "output_type": "stream",
     "text": [
      "\n",
      "Faiss Answer Evaluation Scores: {'context_utilization': 0.8865, 'faithfulness': 0.9375, 'answer_relevancy': 0.8550, 'context_recall': 1.0000}\n"
     ]
    },
    {
     "data": {
      "application/vnd.jupyter.widget-view+json": {
       "model_id": "e9021e29d8ab453ab3883e3a9d5824d9",
       "version_major": 2,
       "version_minor": 0
      },
      "text/plain": [
       "Evaluating:   0%|          | 0/4 [00:00<?, ?it/s]"
      ]
     },
     "metadata": {},
     "output_type": "display_data"
    },
    {
     "data": {
      "application/vnd.jupyter.widget-view+json": {
       "model_id": "1fa603bab5e842f7b62ac466f80afb9c",
       "version_major": 2,
       "version_minor": 0
      },
      "text/plain": [
       "Batches:   0%|          | 0/1 [00:00<?, ?it/s]"
      ]
     },
     "metadata": {},
     "output_type": "display_data"
    },
    {
     "data": {
      "application/vnd.jupyter.widget-view+json": {
       "model_id": "0741bbf1f9c7482abfe9e868ce7c06f0",
       "version_major": 2,
       "version_minor": 0
      },
      "text/plain": [
       "Batches:   0%|          | 0/1 [00:00<?, ?it/s]"
      ]
     },
     "metadata": {},
     "output_type": "display_data"
    },
    {
     "data": {
      "application/vnd.jupyter.widget-view+json": {
       "model_id": "b29c3280e1804fbc8abe904281c32114",
       "version_major": 2,
       "version_minor": 0
      },
      "text/plain": [
       "Batches:   0%|          | 0/1 [00:00<?, ?it/s]"
      ]
     },
     "metadata": {},
     "output_type": "display_data"
    },
    {
     "data": {
      "application/vnd.jupyter.widget-view+json": {
       "model_id": "9ce4dd729066471c950b581f67aac2ff",
       "version_major": 2,
       "version_minor": 0
      },
      "text/plain": [
       "Batches:   0%|          | 0/1 [00:00<?, ?it/s]"
      ]
     },
     "metadata": {},
     "output_type": "display_data"
    },
    {
     "name": "stdout",
     "output_type": "stream",
     "text": [
      "\n",
      "Pinecone Answer Evaluation Scores: {'context_utilization': 0.8865, 'faithfulness': 1.0000, 'answer_relevancy': 0.9545, 'context_recall': 1.0000}\n"
     ]
    }
   ],
   "source": [
    "# Usage Example\n",
    "question = \"What are the primary tasks performed by broadcast technicians during radio and television broadcasts?\"\n",
    "aggregated_answer, all_responses, context, sources = get_aggregated_answer_and_sources(question)\n",
    "\n",
    "# Format the output in a readable way\n",
    "formatted_context = format_context(context)\n",
    "\n",
    "output = f\"\"\"\n",
    "Final Aggregated Answer: {aggregated_answer}\n",
    "\n",
    "Intermediate Answers:\n",
    "Chroma: {all_responses.get('chroma', 'No valid answer found')}\n",
    "FAISS: {all_responses.get('faiss', 'No valid answer found')}\n",
    "Pinecone: {all_responses.get('pinecone', 'No valid answer found')}\n",
    "\n",
    "Context used for answer:\n",
    "{formatted_context}\n",
    "\"\"\"\n",
    "\n",
    "print(output)\n",
    "\n",
    "# Assuming ground_truth is known for this example\n",
    "ground_truth = \"Primary tasks performed by broadcast technicians during radio and television broadcasts include operating and maintaining equipment, monitoring signal strength, and ensuring quality of audio and video transmissions.\"\n",
    "\n",
    "# Evaluate the final aggregated answer\n",
    "final_scores = evaluate_answer(aggregated_answer, question, context, ground_truth)\n",
    "print(\"\\nFinal Aggregated Answer Evaluation Scores:\", final_scores)\n",
    "\n",
    "# Evaluate individual retriever answers\n",
    "for key, answer in all_responses.items():\n",
    "    retriever_scores = evaluate_answer(answer, question, context, ground_truth)\n",
    "    print(f\"\\n{key.capitalize()} Answer Evaluation Scores:\", retriever_scores)\n"
   ]
  },
  {
   "cell_type": "code",
   "execution_count": 3,
   "id": "4042096d-4d64-4206-89a0-c98f0ec0f43e",
   "metadata": {},
   "outputs": [
    {
     "data": {
      "application/vnd.jupyter.widget-view+json": {
       "model_id": "4c3b26c357fe4fe884aedee6afd3b5c7",
       "version_major": 2,
       "version_minor": 0
      },
      "text/plain": [
       "Batches:   0%|          | 0/1 [00:00<?, ?it/s]"
      ]
     },
     "metadata": {},
     "output_type": "display_data"
    },
    {
     "data": {
      "application/vnd.jupyter.widget-view+json": {
       "model_id": "908e7cddb2a14f85b49d7a508b4c4074",
       "version_major": 2,
       "version_minor": 0
      },
      "text/plain": [
       "Batches:   0%|          | 0/1 [00:00<?, ?it/s]"
      ]
     },
     "metadata": {},
     "output_type": "display_data"
    },
    {
     "data": {
      "application/vnd.jupyter.widget-view+json": {
       "model_id": "6fb0c6e056504125821f04eddb1a0898",
       "version_major": 2,
       "version_minor": 0
      },
      "text/plain": [
       "Batches:   0%|          | 0/1 [00:00<?, ?it/s]"
      ]
     },
     "metadata": {},
     "output_type": "display_data"
    },
    {
     "data": {
      "application/vnd.jupyter.widget-view+json": {
       "model_id": "8ec196daa1784985b5af40c7009c0501",
       "version_major": 2,
       "version_minor": 0
      },
      "text/plain": [
       "Batches:   0%|          | 0/1 [00:00<?, ?it/s]"
      ]
     },
     "metadata": {},
     "output_type": "display_data"
    },
    {
     "data": {
      "application/vnd.jupyter.widget-view+json": {
       "model_id": "91245448869646c6a5fed64c7e79f212",
       "version_major": 2,
       "version_minor": 0
      },
      "text/plain": [
       "Batches:   0%|          | 0/1 [00:00<?, ?it/s]"
      ]
     },
     "metadata": {},
     "output_type": "display_data"
    },
    {
     "data": {
      "application/vnd.jupyter.widget-view+json": {
       "model_id": "12a81f38a895422ba2f9447f8132e129",
       "version_major": 2,
       "version_minor": 0
      },
      "text/plain": [
       "Batches:   0%|          | 0/1 [00:00<?, ?it/s]"
      ]
     },
     "metadata": {},
     "output_type": "display_data"
    },
    {
     "data": {
      "application/vnd.jupyter.widget-view+json": {
       "model_id": "276e4622b74245a2b44fc0af167262e1",
       "version_major": 2,
       "version_minor": 0
      },
      "text/plain": [
       "Batches:   0%|          | 0/1 [00:00<?, ?it/s]"
      ]
     },
     "metadata": {},
     "output_type": "display_data"
    },
    {
     "data": {
      "application/vnd.jupyter.widget-view+json": {
       "model_id": "b56c7a6541624ea29eccc23b6631a91a",
       "version_major": 2,
       "version_minor": 0
      },
      "text/plain": [
       "Batches:   0%|          | 0/1 [00:00<?, ?it/s]"
      ]
     },
     "metadata": {},
     "output_type": "display_data"
    },
    {
     "data": {
      "application/vnd.jupyter.widget-view+json": {
       "model_id": "caddb04e6a454d81bce72b285b220ef0",
       "version_major": 2,
       "version_minor": 0
      },
      "text/plain": [
       "Batches:   0%|          | 0/1 [00:00<?, ?it/s]"
      ]
     },
     "metadata": {},
     "output_type": "display_data"
    },
    {
     "data": {
      "application/vnd.jupyter.widget-view+json": {
       "model_id": "fe1453f785ef49d98b775d7c5ab7ce25",
       "version_major": 2,
       "version_minor": 0
      },
      "text/plain": [
       "Batches:   0%|          | 0/1 [00:00<?, ?it/s]"
      ]
     },
     "metadata": {},
     "output_type": "display_data"
    },
    {
     "data": {
      "application/vnd.jupyter.widget-view+json": {
       "model_id": "49c09c2147ec44bcb3766fed223d0335",
       "version_major": 2,
       "version_minor": 0
      },
      "text/plain": [
       "Batches:   0%|          | 0/1 [00:00<?, ?it/s]"
      ]
     },
     "metadata": {},
     "output_type": "display_data"
    },
    {
     "data": {
      "application/vnd.jupyter.widget-view+json": {
       "model_id": "f7c1beaea0a048f4a9fd8cc6bee10d2d",
       "version_major": 2,
       "version_minor": 0
      },
      "text/plain": [
       "Batches:   0%|          | 0/1 [00:00<?, ?it/s]"
      ]
     },
     "metadata": {},
     "output_type": "display_data"
    },
    {
     "data": {
      "application/vnd.jupyter.widget-view+json": {
       "model_id": "0f4488cc033348a493ec67c8d13256d3",
       "version_major": 2,
       "version_minor": 0
      },
      "text/plain": [
       "Batches:   0%|          | 0/1 [00:00<?, ?it/s]"
      ]
     },
     "metadata": {},
     "output_type": "display_data"
    },
    {
     "data": {
      "application/vnd.jupyter.widget-view+json": {
       "model_id": "a46309b1aa774847bde9dbc8af003631",
       "version_major": 2,
       "version_minor": 0
      },
      "text/plain": [
       "Batches:   0%|          | 0/1 [00:00<?, ?it/s]"
      ]
     },
     "metadata": {},
     "output_type": "display_data"
    },
    {
     "data": {
      "application/vnd.jupyter.widget-view+json": {
       "model_id": "6897f03abfc842ccb867f176eac33bbf",
       "version_major": 2,
       "version_minor": 0
      },
      "text/plain": [
       "Batches:   0%|          | 0/1 [00:00<?, ?it/s]"
      ]
     },
     "metadata": {},
     "output_type": "display_data"
    },
    {
     "data": {
      "application/vnd.jupyter.widget-view+json": {
       "model_id": "d9bbcd871435404ab7212fdbd0f348e3",
       "version_major": 2,
       "version_minor": 0
      },
      "text/plain": [
       "Batches:   0%|          | 0/1 [00:00<?, ?it/s]"
      ]
     },
     "metadata": {},
     "output_type": "display_data"
    },
    {
     "data": {
      "application/vnd.jupyter.widget-view+json": {
       "model_id": "b8b2153e2e5c457ea78845dd9ba5a217",
       "version_major": 2,
       "version_minor": 0
      },
      "text/plain": [
       "Batches:   0%|          | 0/1 [00:00<?, ?it/s]"
      ]
     },
     "metadata": {},
     "output_type": "display_data"
    },
    {
     "name": "stdout",
     "output_type": "stream",
     "text": [
      "\n",
      "Final Aggregated Answer: According to the retrieved context, the forecasts for U.S. crude oil production in the fourth quarter (Q4) of 2016 are as follows:\n",
      "\n",
      "- The current forecast for U.S. crude oil production in Q4 2016 was 8.87 million barrels per day.. The forecasts for U.S\n",
      "\n",
      "Intermediate Answers:\n",
      "Chroma: According to the retrieved context, the forecasts for U.S. crude oil production in the fourth quarter (Q4) of 2016 are as follows:\n",
      "\n",
      "- The current forecast for U.S. crude oil production in Q4 2016 is 8.94 million barrels per day.\n",
      "- The previous forecast for U.S. crude oil production in Q4 2016 was 8.87 million barrels per day.\n",
      "FAISS: The forecasts for U.S. crude oil production in the fourth quarter of 2016 were as follows:\n",
      "\n",
      "- The current forecast for Q4 2016 was 8.94 million barrels per day.\n",
      "- The previous forecast for Q4 2016 was 8.87 million barrels per day.\n",
      "Pinecone: The forecasts for U.S. crude oil production in the fourth quarter of 2016 were:\n",
      "\n",
      "- For Q4 2016, the current forecast was 8.94 million barrels per day.\n",
      "- The previous forecast for the same period was 8.87 million barrels per day.\n",
      "\n",
      "Context used for answer:\n",
      "File: 6_FAISS.pdf, Page 0: Current Forecast: December 6, 2016; Previous Forecast: November 8, 2016\n",
      "Q1\n",
      "Q2\n",
      "Q3\n",
      "Q4\n",
      "Q1\n",
      "Q2\n",
      "Q3\n",
      "Q4\n",
      "Q1\n",
      "Q2\n",
      "Q3\n",
      "Q4\n",
      "2014\n",
      "2015\n",
      "2016\n",
      "2017\n",
      "2014-2015\n",
      "2015-2016\n",
      "2016-2017\n",
      "U.S. Energy Supply\n",
      "   U.S. Crude Oil Production (million barrels per day)\n",
      "      Current\n",
      "9.49\n",
      "9.47\n",
      "9.41\n",
      "9.30\n",
      "9.17\n",
      "8.85\n",
      "8.67\n",
      "8.75\n",
      "8.75\n",
      "8.74\n",
      "8.70\n",
      "8.94\n",
      "8.76\n",
      "9.42\n",
      "8.86\n",
      "8.78\n",
      "7.4%\n",
      "-5.9%\n",
      "-0.9%\n",
      "      Previous\n",
      "9.49\n",
      "9.47\n",
      "9.41\n",
      "9.30\n",
      "9.17\n",
      "8.85\n",
      "8.68\n",
      "8.68\n",
      "8.68\n",
      "8.71\n",
      "8.67\n",
      "8.87\n",
      "8.76\n",
      "9.42\n",
      "8.84\n",
      "8.73\n",
      "7.4%\n",
      "-6.1%\n",
      "-1.3%\n",
      "         Percent Change\n",
      "0.0%\n",
      "0.0%\n",
      "0.0%\n",
      "0.0%\n",
      "0.0%\n",
      "0.0%\n",
      "-0.1%\n",
      "0.7%\n",
      "0.7%\n",
      "0.4%\n",
      "0.3%\n",
      "0.8%\n",
      "0.0%\n",
      "0.0%\n",
      "0.2%\n",
      "0.6%\n",
      "   U.S. Dry Natural Gas Production (billion cubic feet per day)\n",
      "      Current\n",
      "73.44\n",
      "74.50\n",
      "74.51\n",
      "74.08\n",
      "73.77\n",
      "72.38\n",
      "71.89\n",
      "71.94\n",
      "73.22\n",
      "74.48\n",
      "75.34\n",
      "76.13\n",
      "70.93\n",
      "74.14\n",
      "72.49\n",
      "74.80\n",
      "4.5%\n",
      "-2.2%\n",
      "3.2%\n",
      "      Previous\n",
      "73.44\n",
      "74.50\n",
      "74.51\n",
      "74.08\n",
      "73.77\n",
      "72.38\n",
      "71.73\n",
      "71.51\n",
      "73.06\n",
      "74.41\n",
      "75.81\n",
      "76.93\n",
      "70.93\n",
      "74.14\n",
      "72.34\n",
      "75.06\n",
      "4.5%\n",
      "-2.4%\n",
      "3.8%\n",
      "         Percent Change\n",
      "0.0%\n",
      "0.0%\n",
      "0.0%\n",
      "0.0%\n",
      "0.0%\n",
      "0.0%\n",
      "0.2%\n",
      "0.6%\n",
      "0.2%\n",
      "0.1%\n",
      "-0.6%\n",
      "-1.0%\n",
      "0.0%\n",
      "0.0%\n",
      "0.2%\n",
      "-0.4%\n",
      "\n",
      "File: 6_FAISS.pdf, Page 3: Current Forecast: December 6, 2016; Previous Forecast: November 8, 2016\n",
      "Q1\n",
      "Q2\n",
      "Q3\n",
      "Q4\n",
      "Q1\n",
      "Q2\n",
      "Q3\n",
      "Q4\n",
      "Q1\n",
      "Q2\n",
      "Q3\n",
      "Q4\n",
      "2014\n",
      "2015\n",
      "2016\n",
      "2017\n",
      "2014-2015\n",
      "2015-2016\n",
      "2016-2017\n",
      "U.S. Supply  (million barrels per day)\n",
      "   U.S. Crude Oil Production \n",
      "      Current\n",
      "9.49\n",
      "9.47\n",
      "9.41\n",
      "9.30\n",
      "9.17\n",
      "8.85\n",
      "8.67\n",
      "8.75\n",
      "8.75\n",
      "8.74\n",
      "8.70\n",
      "8.94\n",
      "8.76\n",
      "9.42\n",
      "8.86\n",
      "8.78\n",
      "7.4%\n",
      "-5.9%\n",
      "-0.9%\n",
      "      Previous\n",
      "9.49\n",
      "9.47\n",
      "9.41\n",
      "9.30\n",
      "9.17\n",
      "8.85\n",
      "8.68\n",
      "8.68\n",
      "8.68\n",
      "8.71\n",
      "8.67\n",
      "8.87\n",
      "8.76\n",
      "9.42\n",
      "8.84\n",
      "8.73\n",
      "7.4%\n",
      "-6.1%\n",
      "-1.3%\n",
      "         Percent Change\n",
      "0.0%\n",
      "0.0%\n",
      "0.0%\n",
      "0.0%\n",
      "0.0%\n",
      "0.0%\n",
      "-0.1%\n",
      "0.7%\n",
      "0.7%\n",
      "0.4%\n",
      "0.3%\n",
      "0.8%\n",
      "0.0%\n",
      "0.0%\n",
      "0.2%\n",
      "0.6%\n",
      "   U.S. Natural Gas Plant Liquids Production\n",
      "      Current\n",
      "3.15\n",
      "3.34\n",
      "3.40\n",
      "3.47\n",
      "3.38\n",
      "3.57\n",
      "3.46\n",
      "3.49\n",
      "3.46\n",
      "3.71\n",
      "3.91\n",
      "4.03\n",
      "3.01\n",
      "3.34\n",
      "3.48\n",
      "3.78\n",
      "10.9%\n",
      "4.1%\n",
      "8.7%\n",
      "      Previous\n",
      "3.15\n",
      "3.34\n",
      "3.40\n",
      "3.47\n",
      "3.38\n",
      "3.57\n",
      "3.48\n",
      "3.51\n",
      "3.53\n",
      "3.70\n",
      "3.93\n",
      "4.06\n",
      "3.01\n",
      "3.34\n",
      "3.48\n",
      "3.81\n",
      "10.9%\n",
      "4.3%\n",
      "9.2%\n",
      "         Percent Change\n",
      "0.0%\n",
      "0.0%\n",
      "0.0%\n",
      "0.0%\n",
      "0.0%\n",
      "0.0%\n",
      "-0.4%\n",
      "-0.4%\n",
      "-2.1%\n",
      "0.4%\n",
      "-0.5%\n",
      "-0.7%\n",
      "0.0%\n",
      "0.0%\n",
      "-0.2%\n",
      "-0.7%\n",
      "   U.S. Ethanol Production\n",
      "      Current\n",
      "0.96\n",
      "0.96\n",
      "0.96\n",
      "0.99\n",
      "0.99\n",
      "\n",
      "File: 6_FAISS.pdf, Page 2: Current Forecast: December 6, 2016; Previous Forecast: November 8, 2016\n",
      "Q1\n",
      "Q2\n",
      "Q3\n",
      "Q4\n",
      "Q1\n",
      "Q2\n",
      "Q3\n",
      "Q4\n",
      "Q1\n",
      "Q2\n",
      "Q3\n",
      "Q4\n",
      "2014\n",
      "2015\n",
      "2016\n",
      "2017\n",
      "2014-2015\n",
      "2015-2016\n",
      "2016-2017\n",
      "World Crude Oil and Liquid Fuels Supply (million barrels per day)\n",
      "   OECD (Organization for Economic Cooperation and Development) Supply\n",
      "      Current\n",
      "26.76\n",
      "26.51\n",
      "26.89\n",
      "27.12\n",
      "26.97\n",
      "25.92\n",
      "26.25\n",
      "26.53\n",
      "26.43\n",
      "26.56\n",
      "26.55\n",
      "27.14\n",
      "25.81\n",
      "26.82\n",
      "26.41\n",
      "26.67\n",
      "3.9%\n",
      "-1.5%\n",
      "1.0%\n",
      "      Previous\n",
      "26.76\n",
      "26.51\n",
      "26.89\n",
      "27.12\n",
      "26.97\n",
      "25.91\n",
      "26.21\n",
      "26.48\n",
      "26.47\n",
      "26.52\n",
      "26.52\n",
      "27.07\n",
      "25.81\n",
      "26.82\n",
      "26.39\n",
      "26.65\n",
      "3.9%\n",
      "-1.6%\n",
      "1.0%\n",
      "         Percent Change\n",
      "0.0%\n",
      "0.0%\n",
      "0.0%\n",
      "0.0%\n",
      "0.0%\n",
      "0.0%\n",
      "0.2%\n",
      "0.2%\n",
      "-0.1%\n",
      "0.2%\n",
      "0.1%\n",
      "0.3%\n",
      "0.0%\n",
      "0.0%\n",
      "0.1%\n",
      "0.1%\n",
      "   OPEC (Organization of the Petroleum Exporting Countries) Supply\n",
      "      Current\n",
      "37.59\n",
      "38.30\n",
      "38.76\n",
      "38.56\n",
      "38.38\n",
      "39.07\n",
      "39.68\n",
      "40.02\n",
      "39.87\n",
      "40.18\n",
      "40.42\n",
      "40.42\n",
      "37.45\n",
      "38.31\n",
      "39.29\n",
      "40.22\n",
      "2.3%\n",
      "2.6%\n",
      "2.4%\n",
      "      Previous\n",
      "37.59\n",
      "38.30\n",
      "38.76\n",
      "38.56\n",
      "38.38\n",
      "39.08\n",
      "39.66\n",
      "39.97\n",
      "39.90\n",
      "40.17\n",
      "40.42\n",
      "40.42\n",
      "37.45\n",
      "38.31\n",
      "39.28\n",
      "40.23\n",
      "2.3%\n",
      "2.5%\n",
      "2.4%\n",
      "         Percent Change\n",
      "0.0%\n",
      "\n",
      "File: 6_FAISS.pdf, Page 1: Current Forecast: December 6, 2016; Previous Forecast: November 8, 2016\n",
      "Q1\n",
      "Q2\n",
      "Q3\n",
      "Q4\n",
      "Q1\n",
      "Q2\n",
      "Q3\n",
      "Q4\n",
      "Q1\n",
      "Q2\n",
      "Q3\n",
      "Q4\n",
      "2014\n",
      "2015\n",
      "2016\n",
      "2017\n",
      "2014-2015\n",
      "2015-2016\n",
      "2016-2017\n",
      "U.S. Petroleum\n",
      "   WTI spot ($/barrel)\n",
      "      Current\n",
      "48.48\n",
      "57.85\n",
      "46.55\n",
      "41.94\n",
      "33.35\n",
      "45.46\n",
      "44.85\n",
      "48.18\n",
      "49.00\n",
      "49.00\n",
      "51.00\n",
      "53.65\n",
      "93.17\n",
      "48.67\n",
      "43.07\n",
      "50.66\n",
      "-47.8%\n",
      "-11.5%\n",
      "17.6%\n",
      "      Previous\n",
      "48.48\n",
      "57.85\n",
      "46.55\n",
      "41.94\n",
      "33.35\n",
      "45.46\n",
      "44.85\n",
      "47.24\n",
      "47.00\n",
      "48.03\n",
      "51.00\n",
      "53.65\n",
      "93.17\n",
      "48.67\n",
      "42.84\n",
      "49.91\n",
      "-47.8%\n",
      "-12.0%\n",
      "16.5%\n",
      "         Percent Change\n",
      "0.0%\n",
      "0.0%\n",
      "0.0%\n",
      "0.0%\n",
      "0.0%\n",
      "0.0%\n",
      "0.0%\n",
      "2.0%\n",
      "4.3%\n",
      "2.0%\n",
      "0.0%\n",
      "0.0%\n",
      "0.0%\n",
      "0.0%\n",
      "0.6%\n",
      "1.5%\n",
      "  Refiner composite crude oil  acquisition cost ($/barrel)\n",
      "      Current\n",
      "47.94\n",
      "57.47\n",
      "47.67\n",
      "40.48\n",
      "30.84\n",
      "42.23\n",
      "43.18\n",
      "47.17\n",
      "48.00\n",
      "48.00\n",
      "49.98\n",
      "52.67\n",
      "92.05\n",
      "48.40\n",
      "40.92\n",
      "49.70\n",
      "-47.4%\n",
      "-15.5%\n",
      "21.5%\n",
      "      Previous\n",
      "47.94\n",
      "57.47\n",
      "47.67\n",
      "40.48\n",
      "30.84\n",
      "42.23\n",
      "43.53\n",
      "46.22\n",
      "46.00\n",
      "47.01\n",
      "49.98\n",
      "52.67\n",
      "92.05\n",
      "48.40\n",
      "40.78\n",
      "48.98\n",
      "-47.4%\n",
      "-15.8%\n",
      "20.1%\n",
      "         Percent Change\n",
      "0.0%\n",
      "0.0%\n",
      "0.0%\n",
      "0.0%\n",
      "0.0%\n",
      "0.0%\n",
      "-0.8%\n",
      "2.1%\n",
      "4.3%\n",
      "2.1%\n",
      "0.0%\n",
      "0.0%\n",
      "0.0%\n",
      "0.0%\n",
      "0.4%\n",
      "1.5%\n",
      "\n",
      "File: 6_FAISS.pdf, Page 3: 19.45\n",
      "19.42\n",
      "19.90\n",
      "19.88\n",
      "19.53\n",
      "19.69\n",
      "20.10\n",
      "20.28\n",
      "19.11\n",
      "19.53\n",
      "19.66\n",
      "19.90\n",
      "2.2%\n",
      "0.7%\n",
      "1.2%\n",
      "      Previous\n",
      "19.41\n",
      "19.47\n",
      "19.83\n",
      "19.42\n",
      "19.45\n",
      "19.42\n",
      "19.79\n",
      "19.90\n",
      "19.55\n",
      "19.73\n",
      "20.12\n",
      "20.21\n",
      "19.11\n",
      "19.53\n",
      "19.64\n",
      "19.90\n",
      "2.2%\n",
      "0.6%\n",
      "1.4%\n",
      "         Percent Change\n",
      "0.0%\n",
      "0.0%\n",
      "0.0%\n",
      "0.0%\n",
      "0.0%\n",
      "0.0%\n",
      "0.6%\n",
      "-0.1%\n",
      "-0.1%\n",
      "-0.2%\n",
      "-0.1%\n",
      "0.3%\n",
      "0.0%\n",
      "0.0%\n",
      "0.1%\n",
      "0.0%\n",
      "U.S. Closing Stocks (million barrels)\n",
      "   U.S. Crude Oil \n",
      "      Current\n",
      "443.2\n",
      "438.8\n",
      "429.1\n",
      "449.2\n",
      "501.5\n",
      "498.0\n",
      "469.1\n",
      "474.5\n",
      "491.4\n",
      "474.8\n",
      "452.7\n",
      "439.8\n",
      "360.9\n",
      "449.2\n",
      "474.5\n",
      "439.8\n",
      "24.5%\n",
      "5.6%\n",
      "-7.3%\n",
      "      Previous\n",
      "443.2\n",
      "438.8\n",
      "429.1\n",
      "449.2\n",
      "501.5\n",
      "498.0\n",
      "469.8\n",
      "467.9\n",
      "486.8\n",
      "471.5\n",
      "450.4\n",
      "438.0\n",
      "360.9\n",
      "449.2\n",
      "467.9\n",
      "438.0\n",
      "24.5%\n",
      "4.2%\n",
      "-6.4%\n",
      "         Percent Change\n",
      "0.0%\n",
      "0.0%\n",
      "0.0%\n",
      "0.0%\n",
      "0.0%\n",
      "0.0%\n",
      "-0.2%\n",
      "1.4%\n",
      "1.0%\n",
      "0.7%\n",
      "0.5%\n",
      "0.4%\n",
      "0.0%\n",
      "0.0%\n",
      "1.4%\n",
      "0.4%\n",
      "   U.S. Total Gasoline \n",
      "      Current\n",
      "232.9\n",
      "221.1\n",
      "225.2\n",
      "235.5\n",
      "243.3\n",
      "242.1\n",
      "227.0\n",
      "237.7\n",
      "233.7\n",
      "229.5\n",
      "228.8\n",
      "240.5\n",
      "240.4\n",
      "235.5\n",
      "237.7\n",
      "240.5\n",
      "-2.0%\n",
      "1.0%\n",
      "1.1%\n",
      "      Previous\n",
      "232.9\n",
      "221.1\n",
      "225.2\n",
      "235.5\n",
      "243.3\n",
      "242.1\n",
      "227.1\n",
      "239.5\n",
      "233.6\n",
      "229.8\n",
      "228.9\n",
      "240.8\n",
      "240.4\n",
      "235.5\n",
      "239.5\n",
      "240.8\n",
      "\n",
      "File: 6_FAISS.pdf, Page 0: Current Forecast: December 6, 2016; Previous Forecast: November 8, 2016\n",
      "Q1\n",
      "Q2\n",
      "Q3\n",
      "Q4\n",
      "Q1\n",
      "Q2\n",
      "Q3\n",
      "Q4\n",
      "Q1\n",
      "Q2\n",
      "Q3\n",
      "Q4\n",
      "2014\n",
      "2015\n",
      "2016\n",
      "2017\n",
      "2014-2015\n",
      "2015-2016\n",
      "2016-2017\n",
      "U.S. Energy Supply\n",
      "   U.S. Crude Oil Production (million barrels per day)\n",
      "      Current\n",
      "9.49\n",
      "9.47\n",
      "9.41\n",
      "9.30\n",
      "9.17\n",
      "8.85\n",
      "8.67\n",
      "8.75\n",
      "8.75\n",
      "8.74\n",
      "8.70\n",
      "8.94\n",
      "8.76\n",
      "9.42\n",
      "8.86\n",
      "8.78\n",
      "7.4%\n",
      "-5.9%\n",
      "-0.9%\n",
      "      Previous\n",
      "9.49\n",
      "9.47\n",
      "9.41\n",
      "9.30\n",
      "9.17\n",
      "8.85\n",
      "8.68\n",
      "8.68\n",
      "8.68\n",
      "8.71\n",
      "8.67\n",
      "8.87\n",
      "8.76\n",
      "9.42\n",
      "8.84\n",
      "8.73\n",
      "7.4%\n",
      "-6.1%\n",
      "-1.3%\n",
      "         Percent Change\n",
      "0.0%\n",
      "0.0%\n",
      "0.0%\n",
      "0.0%\n",
      "0.0%\n",
      "0.0%\n",
      "-0.1%\n",
      "0.7%\n",
      "0.7%\n",
      "0.4%\n",
      "0.3%\n",
      "0.8%\n",
      "0.0%\n",
      "0.0%\n",
      "0.2%\n",
      "0.6%\n",
      "   U.S. Dry Natural Gas Production (billion cubic feet per day)\n",
      "      Current\n",
      "73.44\n",
      "74.50\n",
      "74.51\n",
      "74.08\n",
      "73.77\n",
      "72.38\n",
      "71.89\n",
      "71.94\n",
      "73.22\n",
      "74.48\n",
      "75.34\n",
      "76.13\n",
      "70.93\n",
      "74.14\n",
      "72.49\n",
      "74.80\n",
      "4.5%\n",
      "-2.2%\n",
      "3.2%\n",
      "      Previous\n",
      "73.44\n",
      "74.50\n",
      "74.51\n",
      "74.08\n",
      "73.77\n",
      "72.38\n",
      "71.73\n",
      "71.51\n",
      "73.06\n",
      "74.41\n",
      "75.81\n",
      "76.93\n",
      "70.93\n",
      "74.14\n",
      "72.34\n",
      "75.06\n",
      "4.5%\n",
      "-2.4%\n",
      "3.8%\n",
      "         Percent Change\n",
      "0.0%\n",
      "0.0%\n",
      "0.0%\n",
      "0.0%\n",
      "0.0%\n",
      "0.0%\n",
      "0.2%\n",
      "0.6%\n",
      "0.2%\n",
      "0.1%\n",
      "-0.6%\n",
      "-1.0%\n",
      "0.0%\n",
      "0.0%\n",
      "0.2%\n",
      "-0.4%\n",
      "\n",
      "File: 6_FAISS.pdf, Page 3: Current Forecast: December 6, 2016; Previous Forecast: November 8, 2016\n",
      "Q1\n",
      "Q2\n",
      "Q3\n",
      "Q4\n",
      "Q1\n",
      "Q2\n",
      "Q3\n",
      "Q4\n",
      "Q1\n",
      "Q2\n",
      "Q3\n",
      "Q4\n",
      "2014\n",
      "2015\n",
      "2016\n",
      "2017\n",
      "2014-2015\n",
      "2015-2016\n",
      "2016-2017\n",
      "U.S. Supply  (million barrels per day)\n",
      "   U.S. Crude Oil Production \n",
      "      Current\n",
      "9.49\n",
      "9.47\n",
      "9.41\n",
      "9.30\n",
      "9.17\n",
      "8.85\n",
      "8.67\n",
      "8.75\n",
      "8.75\n",
      "8.74\n",
      "8.70\n",
      "8.94\n",
      "8.76\n",
      "9.42\n",
      "8.86\n",
      "8.78\n",
      "7.4%\n",
      "-5.9%\n",
      "-0.9%\n",
      "      Previous\n",
      "9.49\n",
      "9.47\n",
      "9.41\n",
      "9.30\n",
      "9.17\n",
      "8.85\n",
      "8.68\n",
      "8.68\n",
      "8.68\n",
      "8.71\n",
      "8.67\n",
      "8.87\n",
      "8.76\n",
      "9.42\n",
      "8.84\n",
      "8.73\n",
      "7.4%\n",
      "-6.1%\n",
      "-1.3%\n",
      "         Percent Change\n",
      "0.0%\n",
      "0.0%\n",
      "0.0%\n",
      "0.0%\n",
      "0.0%\n",
      "0.0%\n",
      "-0.1%\n",
      "0.7%\n",
      "0.7%\n",
      "0.4%\n",
      "0.3%\n",
      "0.8%\n",
      "0.0%\n",
      "0.0%\n",
      "0.2%\n",
      "0.6%\n",
      "   U.S. Natural Gas Plant Liquids Production\n",
      "      Current\n",
      "3.15\n",
      "3.34\n",
      "3.40\n",
      "3.47\n",
      "3.38\n",
      "3.57\n",
      "3.46\n",
      "3.49\n",
      "3.46\n",
      "3.71\n",
      "3.91\n",
      "4.03\n",
      "3.01\n",
      "3.34\n",
      "3.48\n",
      "3.78\n",
      "10.9%\n",
      "4.1%\n",
      "8.7%\n",
      "      Previous\n",
      "3.15\n",
      "3.34\n",
      "3.40\n",
      "3.47\n",
      "3.38\n",
      "3.57\n",
      "3.48\n",
      "3.51\n",
      "3.53\n",
      "3.70\n",
      "3.93\n",
      "4.06\n",
      "3.01\n",
      "3.34\n",
      "3.48\n",
      "3.81\n",
      "10.9%\n",
      "4.3%\n",
      "9.2%\n",
      "         Percent Change\n",
      "0.0%\n",
      "0.0%\n",
      "0.0%\n",
      "0.0%\n",
      "0.0%\n",
      "0.0%\n",
      "-0.4%\n",
      "-0.4%\n",
      "-2.1%\n",
      "0.4%\n",
      "-0.5%\n",
      "-0.7%\n",
      "0.0%\n",
      "0.0%\n",
      "-0.2%\n",
      "-0.7%\n",
      "   U.S. Ethanol Production\n",
      "      Current\n",
      "0.96\n",
      "0.96\n",
      "0.96\n",
      "0.99\n",
      "0.99\n",
      "\n",
      "File: 6_FAISS.pdf, Page 2: Current Forecast: December 6, 2016; Previous Forecast: November 8, 2016\n",
      "Q1\n",
      "Q2\n",
      "Q3\n",
      "Q4\n",
      "Q1\n",
      "Q2\n",
      "Q3\n",
      "Q4\n",
      "Q1\n",
      "Q2\n",
      "Q3\n",
      "Q4\n",
      "2014\n",
      "2015\n",
      "2016\n",
      "2017\n",
      "2014-2015\n",
      "2015-2016\n",
      "2016-2017\n",
      "World Crude Oil and Liquid Fuels Supply (million barrels per day)\n",
      "   OECD (Organization for Economic Cooperation and Development) Supply\n",
      "      Current\n",
      "26.76\n",
      "26.51\n",
      "26.89\n",
      "27.12\n",
      "26.97\n",
      "25.92\n",
      "26.25\n",
      "26.53\n",
      "26.43\n",
      "26.56\n",
      "26.55\n",
      "27.14\n",
      "25.81\n",
      "26.82\n",
      "26.41\n",
      "26.67\n",
      "3.9%\n",
      "-1.5%\n",
      "1.0%\n",
      "      Previous\n",
      "26.76\n",
      "26.51\n",
      "26.89\n",
      "27.12\n",
      "26.97\n",
      "25.91\n",
      "26.21\n",
      "26.48\n",
      "26.47\n",
      "26.52\n",
      "26.52\n",
      "27.07\n",
      "25.81\n",
      "26.82\n",
      "26.39\n",
      "26.65\n",
      "3.9%\n",
      "-1.6%\n",
      "1.0%\n",
      "         Percent Change\n",
      "0.0%\n",
      "0.0%\n",
      "0.0%\n",
      "0.0%\n",
      "0.0%\n",
      "0.0%\n",
      "0.2%\n",
      "0.2%\n",
      "-0.1%\n",
      "0.2%\n",
      "0.1%\n",
      "0.3%\n",
      "0.0%\n",
      "0.0%\n",
      "0.1%\n",
      "0.1%\n",
      "   OPEC (Organization of the Petroleum Exporting Countries) Supply\n",
      "      Current\n",
      "37.59\n",
      "38.30\n",
      "38.76\n",
      "38.56\n",
      "38.38\n",
      "39.07\n",
      "39.68\n",
      "40.02\n",
      "39.87\n",
      "40.18\n",
      "40.42\n",
      "40.42\n",
      "37.45\n",
      "38.31\n",
      "39.29\n",
      "40.22\n",
      "2.3%\n",
      "2.6%\n",
      "2.4%\n",
      "      Previous\n",
      "37.59\n",
      "38.30\n",
      "38.76\n",
      "38.56\n",
      "38.38\n",
      "39.08\n",
      "39.66\n",
      "39.97\n",
      "39.90\n",
      "40.17\n",
      "40.42\n",
      "40.42\n",
      "37.45\n",
      "38.31\n",
      "39.28\n",
      "40.23\n",
      "2.3%\n",
      "2.5%\n",
      "2.4%\n",
      "         Percent Change\n",
      "0.0%\n",
      "\n",
      "File: 6_FAISS.pdf, Page 1: Current Forecast: December 6, 2016; Previous Forecast: November 8, 2016\n",
      "Q1\n",
      "Q2\n",
      "Q3\n",
      "Q4\n",
      "Q1\n",
      "Q2\n",
      "Q3\n",
      "Q4\n",
      "Q1\n",
      "Q2\n",
      "Q3\n",
      "Q4\n",
      "2014\n",
      "2015\n",
      "2016\n",
      "2017\n",
      "2014-2015\n",
      "2015-2016\n",
      "2016-2017\n",
      "U.S. Petroleum\n",
      "   WTI spot ($/barrel)\n",
      "      Current\n",
      "48.48\n",
      "57.85\n",
      "46.55\n",
      "41.94\n",
      "33.35\n",
      "45.46\n",
      "44.85\n",
      "48.18\n",
      "49.00\n",
      "49.00\n",
      "51.00\n",
      "53.65\n",
      "93.17\n",
      "48.67\n",
      "43.07\n",
      "50.66\n",
      "-47.8%\n",
      "-11.5%\n",
      "17.6%\n",
      "      Previous\n",
      "48.48\n",
      "57.85\n",
      "46.55\n",
      "41.94\n",
      "33.35\n",
      "45.46\n",
      "44.85\n",
      "47.24\n",
      "47.00\n",
      "48.03\n",
      "51.00\n",
      "53.65\n",
      "93.17\n",
      "48.67\n",
      "42.84\n",
      "49.91\n",
      "-47.8%\n",
      "-12.0%\n",
      "16.5%\n",
      "         Percent Change\n",
      "0.0%\n",
      "0.0%\n",
      "0.0%\n",
      "0.0%\n",
      "0.0%\n",
      "0.0%\n",
      "0.0%\n",
      "2.0%\n",
      "4.3%\n",
      "2.0%\n",
      "0.0%\n",
      "0.0%\n",
      "0.0%\n",
      "0.0%\n",
      "0.6%\n",
      "1.5%\n",
      "  Refiner composite crude oil  acquisition cost ($/barrel)\n",
      "      Current\n",
      "47.94\n",
      "57.47\n",
      "47.67\n",
      "40.48\n",
      "30.84\n",
      "42.23\n",
      "43.18\n",
      "47.17\n",
      "48.00\n",
      "48.00\n",
      "49.98\n",
      "52.67\n",
      "92.05\n",
      "48.40\n",
      "40.92\n",
      "49.70\n",
      "-47.4%\n",
      "-15.5%\n",
      "21.5%\n",
      "      Previous\n",
      "47.94\n",
      "57.47\n",
      "47.67\n",
      "40.48\n",
      "30.84\n",
      "42.23\n",
      "43.53\n",
      "46.22\n",
      "46.00\n",
      "47.01\n",
      "49.98\n",
      "52.67\n",
      "92.05\n",
      "48.40\n",
      "40.78\n",
      "48.98\n",
      "-47.4%\n",
      "-15.8%\n",
      "20.1%\n",
      "         Percent Change\n",
      "0.0%\n",
      "0.0%\n",
      "0.0%\n",
      "0.0%\n",
      "0.0%\n",
      "0.0%\n",
      "-0.8%\n",
      "2.1%\n",
      "4.3%\n",
      "2.1%\n",
      "0.0%\n",
      "0.0%\n",
      "0.0%\n",
      "0.0%\n",
      "0.4%\n",
      "1.5%\n",
      "\n",
      "File: 6_FAISS.pdf, Page 0.0: Current Forecast: December 6, 2016; Previous Forecast: November 8, 2016\n",
      "Q1\n",
      "Q2\n",
      "Q3\n",
      "Q4\n",
      "Q1\n",
      "Q2\n",
      "Q3\n",
      "Q4\n",
      "Q1\n",
      "Q2\n",
      "Q3\n",
      "Q4\n",
      "2014\n",
      "2015\n",
      "2016\n",
      "2017\n",
      "2014-2015\n",
      "2015-2016\n",
      "2016-2017\n",
      "U.S. Energy Supply\n",
      "   U.S. Crude Oil Production (million barrels per day)\n",
      "      Current\n",
      "9.49\n",
      "9.47\n",
      "9.41\n",
      "9.30\n",
      "9.17\n",
      "8.85\n",
      "8.67\n",
      "8.75\n",
      "8.75\n",
      "8.74\n",
      "8.70\n",
      "8.94\n",
      "8.76\n",
      "9.42\n",
      "8.86\n",
      "8.78\n",
      "7.4%\n",
      "-5.9%\n",
      "-0.9%\n",
      "      Previous\n",
      "9.49\n",
      "9.47\n",
      "9.41\n",
      "9.30\n",
      "9.17\n",
      "8.85\n",
      "8.68\n",
      "8.68\n",
      "8.68\n",
      "8.71\n",
      "8.67\n",
      "8.87\n",
      "8.76\n",
      "9.42\n",
      "8.84\n",
      "8.73\n",
      "7.4%\n",
      "-6.1%\n",
      "-1.3%\n",
      "         Percent Change\n",
      "0.0%\n",
      "0.0%\n",
      "0.0%\n",
      "0.0%\n",
      "0.0%\n",
      "0.0%\n",
      "-0.1%\n",
      "0.7%\n",
      "0.7%\n",
      "0.4%\n",
      "0.3%\n",
      "0.8%\n",
      "0.0%\n",
      "0.0%\n",
      "0.2%\n",
      "0.6%\n",
      "   U.S. Dry Natural Gas Production (billion cubic feet per day)\n",
      "      Current\n",
      "73.44\n",
      "74.50\n",
      "74.51\n",
      "74.08\n",
      "73.77\n",
      "72.38\n",
      "71.89\n",
      "71.94\n",
      "73.22\n",
      "74.48\n",
      "75.34\n",
      "76.13\n",
      "70.93\n",
      "74.14\n",
      "72.49\n",
      "74.80\n",
      "4.5%\n",
      "-2.2%\n",
      "3.2%\n",
      "      Previous\n",
      "73.44\n",
      "74.50\n",
      "74.51\n",
      "74.08\n",
      "73.77\n",
      "72.38\n",
      "71.73\n",
      "71.51\n",
      "73.06\n",
      "74.41\n",
      "75.81\n",
      "76.93\n",
      "70.93\n",
      "74.14\n",
      "72.34\n",
      "75.06\n",
      "4.5%\n",
      "-2.4%\n",
      "3.8%\n",
      "         Percent Change\n",
      "0.0%\n",
      "0.0%\n",
      "0.0%\n",
      "0.0%\n",
      "0.0%\n",
      "0.0%\n",
      "0.2%\n",
      "0.6%\n",
      "0.2%\n",
      "0.1%\n",
      "-0.6%\n",
      "-1.0%\n",
      "0.0%\n",
      "0.0%\n",
      "0.2%\n",
      "-0.4%\n",
      "   U.S. Coal Production (million short tons)\n",
      "      Current\n",
      "240.3\n",
      "212.5\n",
      "237.0\n",
      "207.2\n",
      "173.0\n",
      "160.5\n",
      "204.6\n",
      "220.2\n",
      "194.4\n",
      "175.9\n",
      "200.4\n",
      "201.5\n",
      "1000.0\n",
      "897.0\n",
      "758.4\n",
      "772.1\n",
      "-10.3%\n",
      "-15.5%\n",
      "1.8%\n",
      "      Previous\n",
      "240.3\n",
      "212.5\n",
      "237.0\n",
      "207.2\n",
      "173.0\n",
      "160.5\n",
      "204.6\n",
      "208.4\n",
      "198.1\n",
      "174.8\n",
      "199.7\n",
      "195.1\n",
      "1000.0\n",
      "897.0\n",
      "746.5\n",
      "767.7\n",
      "-10.3%\n",
      "-16.8%\n",
      "2.8%\n",
      "         Percent Change\n",
      "0.0%\n",
      "0.0%\n",
      "0.0%\n",
      "0.0%\n",
      "0.0%\n",
      "0.0%\n",
      "0.0%\n",
      "5.7%\n",
      "-1.8%\n",
      "0.6%\n",
      "0.3%\n",
      "3.3%\n",
      "0.0%\n",
      "0.0%\n",
      "1.6%\n",
      "0.6%\n",
      "U.S. Energy Consumption\n",
      "   U.S. Petroleum and Other Liquid Fuels Consumption (million barrels per day)\n",
      "      Current\n",
      "19.41\n",
      "19.47\n",
      "19.83\n",
      "19.42\n",
      "19.45\n",
      "19.42\n",
      "19.90\n",
      "19.88\n",
      "19.53\n",
      "19.69\n",
      "20.10\n",
      "20.28\n",
      "19.11\n",
      "19.53\n",
      "19.66\n",
      "19.90\n",
      "2.2%\n",
      "0.7%\n",
      "1.2%\n",
      "      Previous\n",
      "19.41\n",
      "19.47\n",
      "19.83\n",
      "19.42\n",
      "19.45\n",
      "19.42\n",
      "19.79\n",
      "19.90\n",
      "19.55\n",
      "19.73\n",
      "20.12\n",
      "20.21\n",
      "19.11\n",
      "19.53\n",
      "19.64\n",
      "19.90\n",
      "2.2%\n",
      "0.6%\n",
      "1.4%\n",
      "         Percent Change\n",
      "0.0%\n",
      "0.0%\n",
      "0.0%\n",
      "0.0%\n",
      "0.0%\n",
      "0.0%\n",
      "0.6%\n",
      "-0.1%\n",
      "-0.1%\n",
      "-0.2%\n",
      "-0.1%\n",
      "0.3%\n",
      "0.0%\n",
      "0.0%\n",
      "0.1%\n",
      "0.0%\n",
      "   U.S. Natural Gas Consumption (billion cubic feet per day)\n",
      "      Current\n",
      "95.88\n",
      "63.40\n",
      "65.48\n",
      "74.19\n",
      "89.30\n",
      "66.81\n",
      "69.24\n",
      "75.57\n",
      "91.73\n",
      "65.84\n",
      "67.89\n",
      "78.59\n",
      "72.86\n",
      "74.65\n",
      "75.22\n",
      "75.96\n",
      "2.5%\n",
      "0.8%\n",
      "1.0%\n",
      "      Previous\n",
      "95.94\n",
      "63.57\n",
      "65.73\n",
      "74.34\n",
      "89.38\n",
      "66.89\n",
      "69.54\n",
      "76.90\n",
      "92.26\n",
      "65.97\n",
      "67.85\n",
      "78.06\n",
      "72.86\n",
      "74.81\n",
      "75.66\n",
      "75.97\n",
      "2.7%\n",
      "1.1%\n",
      "0.4%\n",
      "         Percent Change\n",
      "-0.1%\n",
      "-0.3%\n",
      "-0.4%\n",
      "-0.2%\n",
      "-0.1%\n",
      "-0.1%\n",
      "-0.4%\n",
      "-1.7%\n",
      "-0.6%\n",
      "-0.2%\n",
      "0.1%\n",
      "0.7%\n",
      "0.0%\n",
      "-0.2%\n",
      "-0.6%\n",
      "0.0%\n",
      "   U.S. Electricity Retail Sales (million kilowatthours per day)\n",
      "      Current\n",
      "10,498\n",
      "9,769\n",
      "11,488\n",
      "9,438\n",
      "9,805\n",
      "9,583\n",
      "11,692\n",
      "9,681\n",
      "10,058\n",
      "9,726\n",
      "11,494\n",
      "9,761\n",
      "10,314\n",
      "10,299\n",
      "10,193\n",
      "10,262\n",
      "-0.2%\n",
      "-1.0%\n",
      "0.7%\n",
      "      Previous\n",
      "10,374\n",
      "9,685\n",
      "11,402\n",
      "9,354\n",
      "9,829\n",
      "9,589\n",
      "11,774\n",
      "9,682\n",
      "10,221\n",
      "9,766\n",
      "11,490\n",
      "9,620\n",
      "10,314\n",
      "10,204\n",
      "10,221\n",
      "10,276\n",
      "-1.1%\n",
      "0.2%\n",
      "0.5%\n",
      "         Percent Change\n",
      "1.2%\n",
      "0.9%\n",
      "0.8%\n",
      "0.9%\n",
      "-0.2%\n",
      "-0.1%\n",
      "-0.7%\n",
      "0.0%\n",
      "-1.6%\n",
      "-0.4%\n",
      "0.0%\n",
      "1.5%\n",
      "0.0%\n",
      "0.9%\n",
      "-0.3%\n",
      "-0.1%\n",
      "   U.S. Total Energy Consumption (quadrillion Btu)\n",
      "      Current\n",
      "26.34\n",
      "23.04\n",
      "24.47\n",
      "23.70\n",
      "25.32\n",
      "23.02\n",
      "24.73\n",
      "24.17\n",
      "25.26\n",
      "22.95\n",
      "24.31\n",
      "24.67\n",
      "98.32\n",
      "97.55\n",
      "97.24\n",
      "97.19\n",
      "-0.8%\n",
      "-0.3%\n",
      "0.0%\n",
      "      Previous\n",
      "26.30\n",
      "23.01\n",
      "24.44\n",
      "23.67\n",
      "25.28\n",
      "22.99\n",
      "24.56\n",
      "24.18\n",
      "25.33\n",
      "22.91\n",
      "24.27\n",
      "24.47\n",
      "98.30\n",
      "97.42\n",
      "97.01\n",
      "96.97\n",
      "-0.9%\n",
      "-0.4%\n",
      "0.0%\n",
      "         Percent Change\n",
      "0.2%\n",
      "0.1%\n",
      "0.1%\n",
      "0.1%\n",
      "0.2%\n",
      "0.1%\n",
      "0.7%\n",
      "0.0%\n",
      "-0.3%\n",
      "0.2%\n",
      "0.2%\n",
      "0.8%\n",
      "0.0%\n",
      "0.1%\n",
      "0.2%\n",
      "0.2%\n",
      "U.S. Macroeconomic and Weather\n",
      "   U.S. Real Gross Domestic Product  (billion chained 2009 dollars) \n",
      "      Current\n",
      "16,269\n",
      "16,374\n",
      "16,455\n",
      "16,491\n",
      "16,525\n",
      "16,583\n",
      "16,702\n",
      "16,786\n",
      "16,880\n",
      "16,968\n",
      "17,060\n",
      "17,142\n",
      "15,982\n",
      "16,397\n",
      "16,649\n",
      "17,013\n",
      "2.6%\n",
      "1.5%\n",
      "2.2%\n",
      "      Previous\n",
      "16,269\n",
      "16,374\n",
      "16,455\n",
      "16,491\n",
      "16,525\n",
      "16,583\n",
      "16,657\n",
      "16,738\n",
      "16,834\n",
      "16,931\n",
      "17,031\n",
      "17,116\n",
      "15,982\n",
      "16,397\n",
      "16,626\n",
      "16,978\n",
      "2.6%\n",
      "1.4%\n",
      "2.1%\n",
      "         Percent Change\n",
      "0.0%\n",
      "0.0%\n",
      "0.0%\n",
      "0.0%\n",
      "0.0%\n",
      "0.0%\n",
      "0.3%\n",
      "0.3%\n",
      "0.3%\n",
      "0.2%\n",
      "0.2%\n",
      "0.1%\n",
      "0.0%\n",
      "0.0%\n",
      "0.1%\n",
      "0.2%\n",
      "   U.S. Manufacturing  Production Index (index 2012 = 100) \n",
      "      Current\n",
      "103.2\n",
      "103.4\n",
      "103.9\n",
      "103.7\n",
      "103.9\n",
      "103.6\n",
      "103.9\n",
      "103.9\n",
      "104.3\n",
      "104.5\n",
      "105.1\n",
      "106.0\n",
      "102.5\n",
      "103.6\n",
      "103.8\n",
      "105.0\n",
      "1.1%\n",
      "0.3%\n",
      "1.1%\n",
      "      Previous\n",
      "103.2\n",
      "103.4\n",
      "103.9\n",
      "103.7\n",
      "103.9\n",
      "103.6\n",
      "103.9\n",
      "104.2\n",
      "104.6\n",
      "105.0\n",
      "106.0\n",
      "106.9\n",
      "102.5\n",
      "103.6\n",
      "103.9\n",
      "105.6\n",
      "1.1%\n",
      "0.3%\n",
      "1.7%\n",
      "         Percent Change\n",
      "0.0%\n",
      "0.0%\n",
      "0.0%\n",
      "0.0%\n",
      "0.0%\n",
      "0.0%\n",
      "0.0%\n",
      "-0.3%\n",
      "-0.4%\n",
      "-0.5%\n",
      "-0.9%\n",
      "-0.8%\n",
      "0.0%\n",
      "0.0%\n",
      "-0.1%\n",
      "-0.6%\n",
      "   U.S. Heating Degree Days\n",
      "      Current\n",
      "2,340\n",
      "442\n",
      "49\n",
      "1,252\n",
      "1,946\n",
      "480\n",
      "51\n",
      "1,379\n",
      "2,087\n",
      "455\n",
      "68\n",
      "1,495\n",
      "4,549\n",
      "4,084\n",
      "3,856\n",
      "4,106\n",
      "-10.2%\n",
      "-5.6%\n",
      "6.5%\n",
      "      Previous\n",
      "2,340\n",
      "443\n",
      "49\n",
      "1,253\n",
      "1,947\n",
      "481\n",
      "50\n",
      "1,426\n",
      "2,090\n",
      "462\n",
      "70\n",
      "1,495\n",
      "4,549\n",
      "4,085\n",
      "3,903\n",
      "4,117\n",
      "-10.2%\n",
      "-4.4%\n",
      "5.5%\n",
      "         Percent Change\n",
      "0.0%\n",
      "0.0%\n",
      "0.0%\n",
      "0.0%\n",
      "0.0%\n",
      "-0.2%\n",
      "1.8%\n",
      "-3.3%\n",
      "-0.1%\n",
      "-1.5%\n",
      "-2.8%\n",
      "0.1%\n",
      "0.0%\n",
      "0.0%\n",
      "-1.2%\n",
      "-0.3%\n",
      "   U.S. Cooling Degree Days\n",
      "      Current\n",
      "46\n",
      "435\n",
      "875\n",
      "134\n",
      "54\n",
      "411\n",
      "966\n",
      "125\n",
      "45\n",
      "417\n",
      "871\n",
      "97\n",
      "1,299\n",
      "1,490\n",
      "1,556\n",
      "1,429\n",
      "14.7%\n",
      "4.4%\n",
      "-8.1%\n",
      "      Previous\n",
      "46\n",
      "434\n",
      "875\n",
      "133\n",
      "54\n",
      "410\n",
      "969\n",
      "128\n",
      "45\n",
      "413\n",
      "863\n",
      "97\n",
      "1,299\n",
      "1,489\n",
      "1,562\n",
      "1,417\n",
      "14.7%\n",
      "4.9%\n",
      "-9.2%\n",
      "         Percent Change\n",
      "0.0%\n",
      "0.1%\n",
      "0.0%\n",
      "0.1%\n",
      "0.3%\n",
      "0.3%\n",
      "-0.4%\n",
      "-3.0%\n",
      "0.2%\n",
      "1.0%\n",
      "0.9%\n",
      "-0.1%\n",
      "0.0%\n",
      "0.1%\n",
      "-0.4%\n",
      "0.9%\n",
      "Source: Energy Information Administration, Short-Term Energy Outlook (http://www.eia/doe.gov/emeu/steo/pub/contents.html)\n",
      "STEO Current/Previous Forecast Comparisons: U.S. Energy Supply and Demand Summary\n",
      "Year\n",
      "Growth Rate\n",
      "2015\n",
      "2016\n",
      "2017\n",
      "\n",
      "\n"
     ]
    },
    {
     "data": {
      "application/vnd.jupyter.widget-view+json": {
       "model_id": "28a1bf4724c747cd8d829dfa0d1002ae",
       "version_major": 2,
       "version_minor": 0
      },
      "text/plain": [
       "Evaluating:   0%|          | 0/4 [00:00<?, ?it/s]"
      ]
     },
     "metadata": {},
     "output_type": "display_data"
    },
    {
     "data": {
      "application/vnd.jupyter.widget-view+json": {
       "model_id": "e0e3656da5b54628863407a614506b0b",
       "version_major": 2,
       "version_minor": 0
      },
      "text/plain": [
       "Batches:   0%|          | 0/1 [00:00<?, ?it/s]"
      ]
     },
     "metadata": {},
     "output_type": "display_data"
    },
    {
     "data": {
      "application/vnd.jupyter.widget-view+json": {
       "model_id": "e48edb02df074fedb6bae5e6dedd7fef",
       "version_major": 2,
       "version_minor": 0
      },
      "text/plain": [
       "Batches:   0%|          | 0/1 [00:00<?, ?it/s]"
      ]
     },
     "metadata": {},
     "output_type": "display_data"
    },
    {
     "data": {
      "application/vnd.jupyter.widget-view+json": {
       "model_id": "ec422e7a42484acbb69e5d6bb46635d6",
       "version_major": 2,
       "version_minor": 0
      },
      "text/plain": [
       "Batches:   0%|          | 0/1 [00:00<?, ?it/s]"
      ]
     },
     "metadata": {},
     "output_type": "display_data"
    },
    {
     "data": {
      "application/vnd.jupyter.widget-view+json": {
       "model_id": "4e6405084a4a4905b095992bd4e2d2b4",
       "version_major": 2,
       "version_minor": 0
      },
      "text/plain": [
       "Batches:   0%|          | 0/1 [00:00<?, ?it/s]"
      ]
     },
     "metadata": {},
     "output_type": "display_data"
    },
    {
     "name": "stdout",
     "output_type": "stream",
     "text": [
      "\n",
      "Final Aggregated Answer Evaluation Scores: {'context_utilization': 0.7143, 'faithfulness': 0.0000, 'answer_relevancy': 0.9862, 'context_recall': 1.0000}\n"
     ]
    },
    {
     "data": {
      "application/vnd.jupyter.widget-view+json": {
       "model_id": "978dcd382c83401e91f9378096e9712b",
       "version_major": 2,
       "version_minor": 0
      },
      "text/plain": [
       "Evaluating:   0%|          | 0/4 [00:00<?, ?it/s]"
      ]
     },
     "metadata": {},
     "output_type": "display_data"
    },
    {
     "data": {
      "application/vnd.jupyter.widget-view+json": {
       "model_id": "625e1e553d7948518e86a1ab2ad74d0a",
       "version_major": 2,
       "version_minor": 0
      },
      "text/plain": [
       "Batches:   0%|          | 0/1 [00:00<?, ?it/s]"
      ]
     },
     "metadata": {},
     "output_type": "display_data"
    },
    {
     "data": {
      "application/vnd.jupyter.widget-view+json": {
       "model_id": "68797b50abbd4073909444105db3cebf",
       "version_major": 2,
       "version_minor": 0
      },
      "text/plain": [
       "Batches:   0%|          | 0/1 [00:00<?, ?it/s]"
      ]
     },
     "metadata": {},
     "output_type": "display_data"
    },
    {
     "data": {
      "application/vnd.jupyter.widget-view+json": {
       "model_id": "9c8466a5512041389ac935f59043f68d",
       "version_major": 2,
       "version_minor": 0
      },
      "text/plain": [
       "Batches:   0%|          | 0/1 [00:00<?, ?it/s]"
      ]
     },
     "metadata": {},
     "output_type": "display_data"
    },
    {
     "data": {
      "application/vnd.jupyter.widget-view+json": {
       "model_id": "fdd82b7fc30142a8993434f254e85c81",
       "version_major": 2,
       "version_minor": 0
      },
      "text/plain": [
       "Batches:   0%|          | 0/1 [00:00<?, ?it/s]"
      ]
     },
     "metadata": {},
     "output_type": "display_data"
    },
    {
     "name": "stdout",
     "output_type": "stream",
     "text": [
      "\n",
      "Chroma Answer Evaluation Scores: {'context_utilization': 0.7143, 'faithfulness': 1.0000, 'answer_relevancy': 0.9405, 'context_recall': 1.0000}\n"
     ]
    },
    {
     "data": {
      "application/vnd.jupyter.widget-view+json": {
       "model_id": "cee66916abe0484db65ea598e829c549",
       "version_major": 2,
       "version_minor": 0
      },
      "text/plain": [
       "Evaluating:   0%|          | 0/4 [00:00<?, ?it/s]"
      ]
     },
     "metadata": {},
     "output_type": "display_data"
    },
    {
     "data": {
      "application/vnd.jupyter.widget-view+json": {
       "model_id": "2832aaf2f1314ddfb73e6dd1b5918cc0",
       "version_major": 2,
       "version_minor": 0
      },
      "text/plain": [
       "Batches:   0%|          | 0/1 [00:00<?, ?it/s]"
      ]
     },
     "metadata": {},
     "output_type": "display_data"
    },
    {
     "data": {
      "application/vnd.jupyter.widget-view+json": {
       "model_id": "dce5a417c1c74c63a5261d82cff8dfc7",
       "version_major": 2,
       "version_minor": 0
      },
      "text/plain": [
       "Batches:   0%|          | 0/1 [00:00<?, ?it/s]"
      ]
     },
     "metadata": {},
     "output_type": "display_data"
    },
    {
     "data": {
      "application/vnd.jupyter.widget-view+json": {
       "model_id": "ed5778acb7854137b2e59b63fe2bab9f",
       "version_major": 2,
       "version_minor": 0
      },
      "text/plain": [
       "Batches:   0%|          | 0/1 [00:00<?, ?it/s]"
      ]
     },
     "metadata": {},
     "output_type": "display_data"
    },
    {
     "data": {
      "application/vnd.jupyter.widget-view+json": {
       "model_id": "8ad925ae6b474c2cbc3d9bcb1ae2a8ee",
       "version_major": 2,
       "version_minor": 0
      },
      "text/plain": [
       "Batches:   0%|          | 0/1 [00:00<?, ?it/s]"
      ]
     },
     "metadata": {},
     "output_type": "display_data"
    },
    {
     "name": "stdout",
     "output_type": "stream",
     "text": [
      "\n",
      "Faiss Answer Evaluation Scores: {'context_utilization': 0.7143, 'faithfulness': 1.0000, 'answer_relevancy': 1.0000, 'context_recall': 1.0000}\n"
     ]
    },
    {
     "data": {
      "application/vnd.jupyter.widget-view+json": {
       "model_id": "e560877879834ade9770848103931d21",
       "version_major": 2,
       "version_minor": 0
      },
      "text/plain": [
       "Evaluating:   0%|          | 0/4 [00:00<?, ?it/s]"
      ]
     },
     "metadata": {},
     "output_type": "display_data"
    },
    {
     "data": {
      "application/vnd.jupyter.widget-view+json": {
       "model_id": "5d0c941f2bfa4040b839604e362a6bbc",
       "version_major": 2,
       "version_minor": 0
      },
      "text/plain": [
       "Batches:   0%|          | 0/1 [00:00<?, ?it/s]"
      ]
     },
     "metadata": {},
     "output_type": "display_data"
    },
    {
     "data": {
      "application/vnd.jupyter.widget-view+json": {
       "model_id": "1b283e71a44e4f2b8f6503a4729c8ba8",
       "version_major": 2,
       "version_minor": 0
      },
      "text/plain": [
       "Batches:   0%|          | 0/1 [00:00<?, ?it/s]"
      ]
     },
     "metadata": {},
     "output_type": "display_data"
    },
    {
     "data": {
      "application/vnd.jupyter.widget-view+json": {
       "model_id": "fc560b231707498d9ede9ff39c639d6f",
       "version_major": 2,
       "version_minor": 0
      },
      "text/plain": [
       "Batches:   0%|          | 0/1 [00:00<?, ?it/s]"
      ]
     },
     "metadata": {},
     "output_type": "display_data"
    },
    {
     "data": {
      "application/vnd.jupyter.widget-view+json": {
       "model_id": "03088ffff0a84c34bd411f5c38769d08",
       "version_major": 2,
       "version_minor": 0
      },
      "text/plain": [
       "Batches:   0%|          | 0/1 [00:00<?, ?it/s]"
      ]
     },
     "metadata": {},
     "output_type": "display_data"
    },
    {
     "name": "stdout",
     "output_type": "stream",
     "text": [
      "\n",
      "Pinecone Answer Evaluation Scores: {'context_utilization': 0.7143, 'faithfulness': 1.0000, 'answer_relevancy': 0.9903, 'context_recall': 1.0000}\n"
     ]
    }
   ],
   "source": [
    "# Usage Example\n",
    "question = \"What were the forecasts for U.S. crude oil production in the fourth quarter of 2016?\"\n",
    "aggregated_answer, all_responses, context, sources = get_aggregated_answer_and_sources(question)\n",
    "\n",
    "# Format the output in a readable way\n",
    "formatted_context = format_context(context)\n",
    "\n",
    "output = f\"\"\"\n",
    "Final Aggregated Answer: {aggregated_answer}\n",
    "\n",
    "Intermediate Answers:\n",
    "Chroma: {all_responses.get('chroma', 'No valid answer found')}\n",
    "FAISS: {all_responses.get('faiss', 'No valid answer found')}\n",
    "Pinecone: {all_responses.get('pinecone', 'No valid answer found')}\n",
    "\n",
    "Context used for answer:\n",
    "{formatted_context}\n",
    "\"\"\"\n",
    "\n",
    "print(output)\n",
    "\n",
    "# Define the correct ground truth for the question\n",
    "ground_truth = \"The forecasts for U.S. crude oil production in the fourth quarter of 2016 were as follows: Current Forecast (as of December 6, 2016): 8.94 million barrels per day. Previous Forecast (as of November 8, 2016): 8.87 million barrels per day. This represents a percent change increase of 0.8% from the previous forecast to the current forecast for Q4 of 2016.\"\n",
    "\n",
    "# Evaluate the final aggregated answer using the updated ground truth\n",
    "final_scores = evaluate_answer(aggregated_answer, question, context, ground_truth)\n",
    "print(\"\\nFinal Aggregated Answer Evaluation Scores:\", final_scores)\n",
    "\n",
    "# Evaluate individual retriever answers using the updated ground truth\n",
    "for key, answer in all_responses.items():\n",
    "    retriever_scores = evaluate_answer(answer, question, context, ground_truth)\n",
    "    print(f\"\\n{key.capitalize()} Answer Evaluation Scores:\", retriever_scores)\n"
   ]
  },
  {
   "cell_type": "code",
   "execution_count": 4,
   "id": "cb57fad5-053e-407a-b2eb-e82ed7c363f8",
   "metadata": {},
   "outputs": [
    {
     "data": {
      "application/vnd.jupyter.widget-view+json": {
       "model_id": "8db7397db47644cba8e44a96e970a5ed",
       "version_major": 2,
       "version_minor": 0
      },
      "text/plain": [
       "Batches:   0%|          | 0/1 [00:00<?, ?it/s]"
      ]
     },
     "metadata": {},
     "output_type": "display_data"
    },
    {
     "data": {
      "application/vnd.jupyter.widget-view+json": {
       "model_id": "248b030cba434a0bb98c016436ac041f",
       "version_major": 2,
       "version_minor": 0
      },
      "text/plain": [
       "Batches:   0%|          | 0/1 [00:00<?, ?it/s]"
      ]
     },
     "metadata": {},
     "output_type": "display_data"
    },
    {
     "data": {
      "application/vnd.jupyter.widget-view+json": {
       "model_id": "6273bbbe909d4890b766a409fd210ca6",
       "version_major": 2,
       "version_minor": 0
      },
      "text/plain": [
       "Batches:   0%|          | 0/1 [00:00<?, ?it/s]"
      ]
     },
     "metadata": {},
     "output_type": "display_data"
    },
    {
     "data": {
      "application/vnd.jupyter.widget-view+json": {
       "model_id": "2f0e5fc75f194360bbe7117b7c83260c",
       "version_major": 2,
       "version_minor": 0
      },
      "text/plain": [
       "Batches:   0%|          | 0/1 [00:00<?, ?it/s]"
      ]
     },
     "metadata": {},
     "output_type": "display_data"
    },
    {
     "data": {
      "application/vnd.jupyter.widget-view+json": {
       "model_id": "456df9e8a1c84346a87862fa986f54fe",
       "version_major": 2,
       "version_minor": 0
      },
      "text/plain": [
       "Batches:   0%|          | 0/1 [00:00<?, ?it/s]"
      ]
     },
     "metadata": {},
     "output_type": "display_data"
    },
    {
     "data": {
      "application/vnd.jupyter.widget-view+json": {
       "model_id": "e972716b9ab34afa99612890cc084c19",
       "version_major": 2,
       "version_minor": 0
      },
      "text/plain": [
       "Batches:   0%|          | 0/1 [00:00<?, ?it/s]"
      ]
     },
     "metadata": {},
     "output_type": "display_data"
    },
    {
     "data": {
      "application/vnd.jupyter.widget-view+json": {
       "model_id": "357a45f327cf4eaf9a417511e4c1c7b6",
       "version_major": 2,
       "version_minor": 0
      },
      "text/plain": [
       "Batches:   0%|          | 0/1 [00:00<?, ?it/s]"
      ]
     },
     "metadata": {},
     "output_type": "display_data"
    },
    {
     "data": {
      "application/vnd.jupyter.widget-view+json": {
       "model_id": "eb0d1e5e087f4fb696a2467673c30c6a",
       "version_major": 2,
       "version_minor": 0
      },
      "text/plain": [
       "Batches:   0%|          | 0/1 [00:00<?, ?it/s]"
      ]
     },
     "metadata": {},
     "output_type": "display_data"
    },
    {
     "data": {
      "application/vnd.jupyter.widget-view+json": {
       "model_id": "cbe1500ef7124b30b66add33c858e1d3",
       "version_major": 2,
       "version_minor": 0
      },
      "text/plain": [
       "Batches:   0%|          | 0/1 [00:00<?, ?it/s]"
      ]
     },
     "metadata": {},
     "output_type": "display_data"
    },
    {
     "data": {
      "application/vnd.jupyter.widget-view+json": {
       "model_id": "f8b77ce0ca3b4434bc0eb9d177ce78ef",
       "version_major": 2,
       "version_minor": 0
      },
      "text/plain": [
       "Batches:   0%|          | 0/1 [00:00<?, ?it/s]"
      ]
     },
     "metadata": {},
     "output_type": "display_data"
    },
    {
     "data": {
      "application/vnd.jupyter.widget-view+json": {
       "model_id": "ee0fca6fd43148e28de50d5790bbf0df",
       "version_major": 2,
       "version_minor": 0
      },
      "text/plain": [
       "Batches:   0%|          | 0/1 [00:00<?, ?it/s]"
      ]
     },
     "metadata": {},
     "output_type": "display_data"
    },
    {
     "data": {
      "application/vnd.jupyter.widget-view+json": {
       "model_id": "5b6b1dc9ffbc44118a70b663e96f3848",
       "version_major": 2,
       "version_minor": 0
      },
      "text/plain": [
       "Batches:   0%|          | 0/1 [00:00<?, ?it/s]"
      ]
     },
     "metadata": {},
     "output_type": "display_data"
    },
    {
     "data": {
      "application/vnd.jupyter.widget-view+json": {
       "model_id": "af9dac3c77f14b46b396bafafa0a069a",
       "version_major": 2,
       "version_minor": 0
      },
      "text/plain": [
       "Batches:   0%|          | 0/1 [00:00<?, ?it/s]"
      ]
     },
     "metadata": {},
     "output_type": "display_data"
    },
    {
     "data": {
      "application/vnd.jupyter.widget-view+json": {
       "model_id": "57282eaaf7fa4dc6ad92770d81e45b5f",
       "version_major": 2,
       "version_minor": 0
      },
      "text/plain": [
       "Batches:   0%|          | 0/1 [00:00<?, ?it/s]"
      ]
     },
     "metadata": {},
     "output_type": "display_data"
    },
    {
     "data": {
      "application/vnd.jupyter.widget-view+json": {
       "model_id": "5d06c872fb6146a7861f9b2dce329ba4",
       "version_major": 2,
       "version_minor": 0
      },
      "text/plain": [
       "Batches:   0%|          | 0/1 [00:00<?, ?it/s]"
      ]
     },
     "metadata": {},
     "output_type": "display_data"
    },
    {
     "data": {
      "application/vnd.jupyter.widget-view+json": {
       "model_id": "2db65360fab2427f8a300027417f1d54",
       "version_major": 2,
       "version_minor": 0
      },
      "text/plain": [
       "Batches:   0%|          | 0/1 [00:00<?, ?it/s]"
      ]
     },
     "metadata": {},
     "output_type": "display_data"
    },
    {
     "data": {
      "application/vnd.jupyter.widget-view+json": {
       "model_id": "2128b0b1ae034f2082e2fc37ccd706f4",
       "version_major": 2,
       "version_minor": 0
      },
      "text/plain": [
       "Batches:   0%|          | 0/1 [00:00<?, ?it/s]"
      ]
     },
     "metadata": {},
     "output_type": "display_data"
    },
    {
     "data": {
      "application/vnd.jupyter.widget-view+json": {
       "model_id": "783ff567195d444ebac4f16c40246b65",
       "version_major": 2,
       "version_minor": 0
      },
      "text/plain": [
       "Batches:   0%|          | 0/1 [00:00<?, ?it/s]"
      ]
     },
     "metadata": {},
     "output_type": "display_data"
    },
    {
     "name": "stdout",
     "output_type": "stream",
     "text": [
      "\n",
      "Final Aggregated Answer: Between 1994 and 2004, the number of Chapter 11 filings in Connecticut decreased. In 1994, there were 216 filings, and by 2004 the number had decreased to 84 filings. This represents a significant decline over the ten-year period.. This shows a downward trend in Chapter 11 filings over that decade.\n",
      "\n",
      "Intermediate Answers:\n",
      "Chroma: Between 1994 and 2004, the number of Chapter 11 filings in Connecticut decreased. In 1994, there were 216 filings, and by 2004 the number had decreased to 84 filings. This represents a significant decline over the ten-year period.\n",
      "FAISS: The number of Chapter 11 filings in Connecticut decreased between 1994 and 2004. In 1994, there were 216 filings, and by 2004, the number had declined to 84 filings. This shows a downward trend in Chapter 11 filings over that decade.\n",
      "Pinecone: Between 1994 and 2004, the number of Chapter 11 filings in Connecticut showed a general downward trend. In 1994, there were 216 filings, and by 2004, this number had decreased to 84 filings. This represents a significant drop in Chapter 11 filings over the ten-year period.\n",
      "\n",
      "Context used for answer:\n",
      "File: 7_FAISS.pdf, Page 0: 0\n",
      "50\n",
      "100\n",
      "150\n",
      "200\n",
      "250\n",
      "CHAPTER 11 FILINGS\n",
      "1994\n",
      "1995\n",
      "1996\n",
      "1997\n",
      "1998\n",
      "1999\n",
      "2000\n",
      "2001\n",
      "2002\n",
      "2003\n",
      "2004\n",
      "CALENDAR YEAR\n",
      "216\n",
      "178\n",
      "166\n",
      "134\n",
      "97\n",
      "90\n",
      "79\n",
      "88\n",
      "125\n",
      "103\n",
      "84\n",
      "CHAPTER 11 FILINGS IN CONNECTICUT\n",
      "CALENDAR YEARS   1994 --  2004\n",
      "\n",
      "File: 9_FAISS.pdf, Page 0: UNITED STATES BANKRUPTCY COURT FOR THE DISTRICT OF ALASKA\n",
      "Monday                  \n",
      "Historic Courtroom\n",
      "April 18, 2016            \n",
      "605 West Fourth Avenue\n",
      "Page 1                                                  Anchorage, Alaska\n",
      "CALENDAR OF BANKRUPTCY JUDGE GARY SPRAKER\n",
      "------------------------------------------------------------------------\n",
      "  TIME      \n",
      "  CASE/ADVERSARY NUMBER, NAME, and CHAPTER\n",
      "                       TYPE OF PROCEEDING and COUNSEL\n",
      "1:45 p.m.\n",
      "Case No. A14-00065-GS, In re DAVID M. DECKER and MARILYN\n",
      "L. DECKER, Debtors.  Ch 11.\n",
      "TELEPHONIC Scheduling Hearing on Disclosure\n",
      "Statement (DE# 93) and Chapter 11 Plan (DE# 92). \n",
      "Robert Crowther for the Debtors; Thomas Buford at\n",
      "(206)553-2000 ext. 229 for the U.S. Trustee. \n",
      "2:00 p.m.\n",
      "Case No. A15-00279-GS, In re SEWARD SHIP’S DRYDOCK,\n",
      "INC., Debtor.  Ch 11.\n",
      "Hearing on Debtor’s Motion to Dismiss (DE# 43). \n",
      "David Bundy for the Debtor; Gary Sleeper for\n",
      "Alaska Marine Highway System; Thomas Buford for\n",
      "the U.S. Trustee.\n",
      "\n",
      "File: 15_pinecone.pdf, Page 3: incompatibility of TC 01 and ARC 34.\n",
      "Based on the record before me, I conclude the Fiscal Accounting Division acted\n",
      "correctly with respect to the subject assessment.  The Appellant has offered no\n",
      "arguments which would justify the waiver of these charges.  Accordingly, the subject\n",
      "appeal is denied.\n",
      "(Decision at 2).\n",
      "In its statement of reasons (SOR), Exxon initially asks the Board to disregard the Deputy\n",
      "Director's conclusion that the record supports the finding that Exxon had been notified of the incompatibility\n",
      "of ARC 34 and TC 01 and TC 06.  This request derives from MMS' failure to provide a copy of the Fiscal\n",
      "Accounting Division field report to Exxon or refer to any document of record supporting the MMS\n",
      "notification claim.\n",
      "Exxon also repeats the arguments it presented in its appeal to the Director.  Exxon notes that its\n",
      "royalty reporting consists of two components--valuation and transportation allowances--and that the asserted\n",
      "\n",
      "File: 15_pinecone.pdf, Page 3: IBLA 88-181\n",
      "The Deputy Director continued:\n",
      "The Appellant states that the MMS Payor Handbook does not explain this\n",
      "incompatibility and that Exxon has never been notified that the use of ARC 34 for this\n",
      "kind of reporting is incorrect.\n",
      "The MMS Fiscal Accounting Division, in the field report on this appeal\n",
      "prepared pursuant to 30 CFR 290.3(b) (1986), states that Exxon's errors were\n",
      "avoidable because the adjustments made by Exxon (the reversals of TC 01 and 06)\n",
      "were unwarranted and unnecessary.  The Fiscal Accounting Division further states that\n",
      "Exxon was notified in November 1984 that this type of reporting was inappropriate.\n",
      "The record supports the finding that Exxon had been notified of the\n",
      "incompatibility of TC 01 and ARC 34.\n",
      "Based on the record before me, I conclude the Fiscal Accounting Division acted\n",
      "correctly with respect to the subject assessment.  The Appellant has offered no\n",
      "\n",
      "File: 15_pinecone.pdf, Page 8: supporting this argument consists of three sample pages of the Royalty Rejected Line Detail Report prepared\n",
      "in response to Exxon's October 1984 Form MMS-2014, and attached as an exhibit to the Fiscal Accounting\n",
      "Division field report.  Although one of those pages does contain a signed acknowledgement that \n",
      "the changes are accurate and complete, the report itself merely states \"INCORRECT REASON CODE FOR\n",
      "THIS TRANSACTION,\" and provides no explanation whatsoever for this conclusion.  We also note that,\n",
      "when preparing this report, MMS changed some of the ARC's from 34 to 00 and others to 38.  \n",
      "There is no explanation whatsoever for this conclusion, and no statement that ARC 34 is incompatible with\n",
      "TC 01 and TC 06.  We therefore reverse the assessments based on line item entries found to be incorrect for\n",
      "that reason only.\n",
      "We note that the ambiguities in the 1982 Oil and Gas Payor Handbook leading to this appeal no\n",
      "\n",
      "File: 7_FAISS.pdf, Page 0: 0\n",
      "50\n",
      "100\n",
      "150\n",
      "200\n",
      "250\n",
      "CHAPTER 11 FILINGS\n",
      "1994\n",
      "1995\n",
      "1996\n",
      "1997\n",
      "1998\n",
      "1999\n",
      "2000\n",
      "2001\n",
      "2002\n",
      "2003\n",
      "2004\n",
      "CALENDAR YEAR\n",
      "216\n",
      "178\n",
      "166\n",
      "134\n",
      "97\n",
      "90\n",
      "79\n",
      "88\n",
      "125\n",
      "103\n",
      "84\n",
      "CHAPTER 11 FILINGS IN CONNECTICUT\n",
      "CALENDAR YEARS   1994 --  2004\n",
      "\n",
      "File: 9_FAISS.pdf, Page 0: UNITED STATES BANKRUPTCY COURT FOR THE DISTRICT OF ALASKA\n",
      "Monday                  \n",
      "Historic Courtroom\n",
      "April 18, 2016            \n",
      "605 West Fourth Avenue\n",
      "Page 1                                                  Anchorage, Alaska\n",
      "CALENDAR OF BANKRUPTCY JUDGE GARY SPRAKER\n",
      "------------------------------------------------------------------------\n",
      "  TIME      \n",
      "  CASE/ADVERSARY NUMBER, NAME, and CHAPTER\n",
      "                       TYPE OF PROCEEDING and COUNSEL\n",
      "1:45 p.m.\n",
      "Case No. A14-00065-GS, In re DAVID M. DECKER and MARILYN\n",
      "L. DECKER, Debtors.  Ch 11.\n",
      "TELEPHONIC Scheduling Hearing on Disclosure\n",
      "Statement (DE# 93) and Chapter 11 Plan (DE# 92). \n",
      "Robert Crowther for the Debtors; Thomas Buford at\n",
      "(206)553-2000 ext. 229 for the U.S. Trustee. \n",
      "2:00 p.m.\n",
      "Case No. A15-00279-GS, In re SEWARD SHIP’S DRYDOCK,\n",
      "INC., Debtor.  Ch 11.\n",
      "Hearing on Debtor’s Motion to Dismiss (DE# 43). \n",
      "David Bundy for the Debtor; Gary Sleeper for\n",
      "Alaska Marine Highway System; Thomas Buford for\n",
      "the U.S. Trustee.\n",
      "\n",
      "File: 15_pinecone.pdf, Page 3: incompatibility of TC 01 and ARC 34.\n",
      "Based on the record before me, I conclude the Fiscal Accounting Division acted\n",
      "correctly with respect to the subject assessment.  The Appellant has offered no\n",
      "arguments which would justify the waiver of these charges.  Accordingly, the subject\n",
      "appeal is denied.\n",
      "(Decision at 2).\n",
      "In its statement of reasons (SOR), Exxon initially asks the Board to disregard the Deputy\n",
      "Director's conclusion that the record supports the finding that Exxon had been notified of the incompatibility\n",
      "of ARC 34 and TC 01 and TC 06.  This request derives from MMS' failure to provide a copy of the Fiscal\n",
      "Accounting Division field report to Exxon or refer to any document of record supporting the MMS\n",
      "notification claim.\n",
      "Exxon also repeats the arguments it presented in its appeal to the Director.  Exxon notes that its\n",
      "royalty reporting consists of two components--valuation and transportation allowances--and that the asserted\n",
      "\n",
      "File: 15_pinecone.pdf, Page 3: IBLA 88-181\n",
      "The Deputy Director continued:\n",
      "The Appellant states that the MMS Payor Handbook does not explain this\n",
      "incompatibility and that Exxon has never been notified that the use of ARC 34 for this\n",
      "kind of reporting is incorrect.\n",
      "The MMS Fiscal Accounting Division, in the field report on this appeal\n",
      "prepared pursuant to 30 CFR 290.3(b) (1986), states that Exxon's errors were\n",
      "avoidable because the adjustments made by Exxon (the reversals of TC 01 and 06)\n",
      "were unwarranted and unnecessary.  The Fiscal Accounting Division further states that\n",
      "Exxon was notified in November 1984 that this type of reporting was inappropriate.\n",
      "The record supports the finding that Exxon had been notified of the\n",
      "incompatibility of TC 01 and ARC 34.\n",
      "Based on the record before me, I conclude the Fiscal Accounting Division acted\n",
      "correctly with respect to the subject assessment.  The Appellant has offered no\n",
      "\n",
      "File: 15_pinecone.pdf, Page 8: supporting this argument consists of three sample pages of the Royalty Rejected Line Detail Report prepared\n",
      "in response to Exxon's October 1984 Form MMS-2014, and attached as an exhibit to the Fiscal Accounting\n",
      "Division field report.  Although one of those pages does contain a signed acknowledgement that \n",
      "the changes are accurate and complete, the report itself merely states \"INCORRECT REASON CODE FOR\n",
      "THIS TRANSACTION,\" and provides no explanation whatsoever for this conclusion.  We also note that,\n",
      "when preparing this report, MMS changed some of the ARC's from 34 to 00 and others to 38.  \n",
      "There is no explanation whatsoever for this conclusion, and no statement that ARC 34 is incompatible with\n",
      "TC 01 and TC 06.  We therefore reverse the assessments based on line item entries found to be incorrect for\n",
      "that reason only.\n",
      "We note that the ambiguities in the 1982 Oil and Gas Payor Handbook leading to this appeal no\n",
      "\n",
      "File: 15_pinecone.pdf, Page 2: coding or typographical errors.  Exxon further asserted that it had never been notified that ARC 34 was\n",
      "incompatible with TC 01 and TC 06.\n",
      "By decision dated October 5, 1987, the Deputy Director, MMS, denied Exxon's appeal.  He first\n",
      "noted that a completed Form MMS-2014 must accompany all royalty payments to MMS.  He also indicated\n",
      "that 30 CFR 218.40(b) (1986) provides for an assessment of $10 for each report which is completed\n",
      "incorrectly, and that 30 CFR 218.40(c) (1986) defines a report as each line on a Form MMS-2014.  He\n",
      "further found that Exxon's adjustments using ARC 34 in conjunction with TC 01 and TC 06 had been\n",
      "rejected by the MMS exception processing system because ARC 34, as an adjustment to allowances, \n",
      "is \"incompatible\" with TC 01 and TC 06, which are used for royalty transactions and not allowance\n",
      "transactions.\n",
      "113 IBLA 201\n",
      "\n",
      "File: 7_FAISS.pdf, Page 0.0: 0\n",
      "50\n",
      "100\n",
      "150\n",
      "200\n",
      "250\n",
      "CHAPTER 11 FILINGS\n",
      "1994\n",
      "1995\n",
      "1996\n",
      "1997\n",
      "1998\n",
      "1999\n",
      "2000\n",
      "2001\n",
      "2002\n",
      "2003\n",
      "2004\n",
      "CALENDAR YEAR\n",
      "216\n",
      "178\n",
      "166\n",
      "134\n",
      "97\n",
      "90\n",
      "79\n",
      "88\n",
      "125\n",
      "103\n",
      "84\n",
      "CHAPTER 11 FILINGS IN CONNECTICUT\n",
      "CALENDAR YEARS   1994 --  2004\n",
      "\n",
      "\n"
     ]
    },
    {
     "data": {
      "application/vnd.jupyter.widget-view+json": {
       "model_id": "7be2ae3f40ab4079acbabbf1077c8e62",
       "version_major": 2,
       "version_minor": 0
      },
      "text/plain": [
       "Evaluating:   0%|          | 0/4 [00:00<?, ?it/s]"
      ]
     },
     "metadata": {},
     "output_type": "display_data"
    },
    {
     "data": {
      "application/vnd.jupyter.widget-view+json": {
       "model_id": "f9ec4fd70026421a95decffb7d1765be",
       "version_major": 2,
       "version_minor": 0
      },
      "text/plain": [
       "Batches:   0%|          | 0/1 [00:00<?, ?it/s]"
      ]
     },
     "metadata": {},
     "output_type": "display_data"
    },
    {
     "data": {
      "application/vnd.jupyter.widget-view+json": {
       "model_id": "fe5a227c4c1d41e6bb8fa67fe562498e",
       "version_major": 2,
       "version_minor": 0
      },
      "text/plain": [
       "Batches:   0%|          | 0/1 [00:00<?, ?it/s]"
      ]
     },
     "metadata": {},
     "output_type": "display_data"
    },
    {
     "data": {
      "application/vnd.jupyter.widget-view+json": {
       "model_id": "adeeb1e5738b4e26877298643b5db24f",
       "version_major": 2,
       "version_minor": 0
      },
      "text/plain": [
       "Batches:   0%|          | 0/1 [00:00<?, ?it/s]"
      ]
     },
     "metadata": {},
     "output_type": "display_data"
    },
    {
     "data": {
      "application/vnd.jupyter.widget-view+json": {
       "model_id": "ea5bb4defd094ad38d98c75d7ed38d00",
       "version_major": 2,
       "version_minor": 0
      },
      "text/plain": [
       "Batches:   0%|          | 0/1 [00:00<?, ?it/s]"
      ]
     },
     "metadata": {},
     "output_type": "display_data"
    },
    {
     "name": "stdout",
     "output_type": "stream",
     "text": [
      "\n",
      "Final Aggregated Answer Evaluation Scores: {'context_utilization': 0.5278, 'faithfulness': 0.8000, 'answer_relevancy': 1.0000, 'context_recall': 1.0000}\n"
     ]
    },
    {
     "data": {
      "application/vnd.jupyter.widget-view+json": {
       "model_id": "12efb72977e6452194522f68dff99cff",
       "version_major": 2,
       "version_minor": 0
      },
      "text/plain": [
       "Evaluating:   0%|          | 0/4 [00:00<?, ?it/s]"
      ]
     },
     "metadata": {},
     "output_type": "display_data"
    },
    {
     "data": {
      "application/vnd.jupyter.widget-view+json": {
       "model_id": "35976c0925564742bd7bdf33871bb913",
       "version_major": 2,
       "version_minor": 0
      },
      "text/plain": [
       "Batches:   0%|          | 0/1 [00:00<?, ?it/s]"
      ]
     },
     "metadata": {},
     "output_type": "display_data"
    },
    {
     "data": {
      "application/vnd.jupyter.widget-view+json": {
       "model_id": "7791a87e9cea41f9b10ed414371c86e1",
       "version_major": 2,
       "version_minor": 0
      },
      "text/plain": [
       "Batches:   0%|          | 0/1 [00:00<?, ?it/s]"
      ]
     },
     "metadata": {},
     "output_type": "display_data"
    },
    {
     "data": {
      "application/vnd.jupyter.widget-view+json": {
       "model_id": "72d63e03e52a4565a60ea9d22f2ab0dd",
       "version_major": 2,
       "version_minor": 0
      },
      "text/plain": [
       "Batches:   0%|          | 0/1 [00:00<?, ?it/s]"
      ]
     },
     "metadata": {},
     "output_type": "display_data"
    },
    {
     "data": {
      "application/vnd.jupyter.widget-view+json": {
       "model_id": "323259d5c50b4e95a39334e87da597ea",
       "version_major": 2,
       "version_minor": 0
      },
      "text/plain": [
       "Batches:   0%|          | 0/1 [00:00<?, ?it/s]"
      ]
     },
     "metadata": {},
     "output_type": "display_data"
    },
    {
     "name": "stdout",
     "output_type": "stream",
     "text": [
      "\n",
      "Chroma Answer Evaluation Scores: {'context_utilization': 0.5278, 'faithfulness': 0.7500, 'answer_relevancy': 1.0000, 'context_recall': 1.0000}\n"
     ]
    },
    {
     "data": {
      "application/vnd.jupyter.widget-view+json": {
       "model_id": "4f50a26a885d49119d9a1f1caebd78b7",
       "version_major": 2,
       "version_minor": 0
      },
      "text/plain": [
       "Evaluating:   0%|          | 0/4 [00:00<?, ?it/s]"
      ]
     },
     "metadata": {},
     "output_type": "display_data"
    },
    {
     "data": {
      "application/vnd.jupyter.widget-view+json": {
       "model_id": "e6950813df1c4042a8b00d80f8d1647f",
       "version_major": 2,
       "version_minor": 0
      },
      "text/plain": [
       "Batches:   0%|          | 0/1 [00:00<?, ?it/s]"
      ]
     },
     "metadata": {},
     "output_type": "display_data"
    },
    {
     "data": {
      "application/vnd.jupyter.widget-view+json": {
       "model_id": "d8b6e7df9f604bfd9f2474be7fbc3e15",
       "version_major": 2,
       "version_minor": 0
      },
      "text/plain": [
       "Batches:   0%|          | 0/1 [00:00<?, ?it/s]"
      ]
     },
     "metadata": {},
     "output_type": "display_data"
    },
    {
     "data": {
      "application/vnd.jupyter.widget-view+json": {
       "model_id": "d6e3bbb6fcab41f6952930b9ef9a234b",
       "version_major": 2,
       "version_minor": 0
      },
      "text/plain": [
       "Batches:   0%|          | 0/1 [00:00<?, ?it/s]"
      ]
     },
     "metadata": {},
     "output_type": "display_data"
    },
    {
     "data": {
      "application/vnd.jupyter.widget-view+json": {
       "model_id": "92990091d1dc4ab49e6afeaec457dbf9",
       "version_major": 2,
       "version_minor": 0
      },
      "text/plain": [
       "Batches:   0%|          | 0/1 [00:00<?, ?it/s]"
      ]
     },
     "metadata": {},
     "output_type": "display_data"
    },
    {
     "name": "stdout",
     "output_type": "stream",
     "text": [
      "\n",
      "Faiss Answer Evaluation Scores: {'context_utilization': 0.5278, 'faithfulness': 1.0000, 'answer_relevancy': 1.0000, 'context_recall': 1.0000}\n"
     ]
    },
    {
     "data": {
      "application/vnd.jupyter.widget-view+json": {
       "model_id": "21f2d546d0e44ce59a8d1b954bf2a483",
       "version_major": 2,
       "version_minor": 0
      },
      "text/plain": [
       "Evaluating:   0%|          | 0/4 [00:00<?, ?it/s]"
      ]
     },
     "metadata": {},
     "output_type": "display_data"
    },
    {
     "data": {
      "application/vnd.jupyter.widget-view+json": {
       "model_id": "135c6ddd40ec40f9a8bef4e63768506f",
       "version_major": 2,
       "version_minor": 0
      },
      "text/plain": [
       "Batches:   0%|          | 0/1 [00:00<?, ?it/s]"
      ]
     },
     "metadata": {},
     "output_type": "display_data"
    },
    {
     "data": {
      "application/vnd.jupyter.widget-view+json": {
       "model_id": "da2ebe708b9f40b9a20d581df14f3dbd",
       "version_major": 2,
       "version_minor": 0
      },
      "text/plain": [
       "Batches:   0%|          | 0/1 [00:00<?, ?it/s]"
      ]
     },
     "metadata": {},
     "output_type": "display_data"
    },
    {
     "data": {
      "application/vnd.jupyter.widget-view+json": {
       "model_id": "14149c87fa77477290c3f77904ef6cd6",
       "version_major": 2,
       "version_minor": 0
      },
      "text/plain": [
       "Batches:   0%|          | 0/1 [00:00<?, ?it/s]"
      ]
     },
     "metadata": {},
     "output_type": "display_data"
    },
    {
     "data": {
      "application/vnd.jupyter.widget-view+json": {
       "model_id": "66d473286f244f468cf4f314c3c57075",
       "version_major": 2,
       "version_minor": 0
      },
      "text/plain": [
       "Batches:   0%|          | 0/1 [00:00<?, ?it/s]"
      ]
     },
     "metadata": {},
     "output_type": "display_data"
    },
    {
     "name": "stdout",
     "output_type": "stream",
     "text": [
      "\n",
      "Pinecone Answer Evaluation Scores: {'context_utilization': 0.5278, 'faithfulness': 1.0000, 'answer_relevancy': 1.0000, 'context_recall': 1.0000}\n"
     ]
    }
   ],
   "source": [
    "# Usage Example\n",
    "question = \"How did the number of Chapter 11 filings in Connecticut change between 1994 and 2004?\"\n",
    "aggregated_answer, all_responses, context, sources = get_aggregated_answer_and_sources(question)\n",
    "\n",
    "# Format the output in a readable way\n",
    "formatted_context = format_context(context)\n",
    "\n",
    "output = f\"\"\"\n",
    "Final Aggregated Answer: {aggregated_answer}\n",
    "\n",
    "Intermediate Answers:\n",
    "Chroma: {all_responses.get('chroma', 'No valid answer found')}\n",
    "FAISS: {all_responses.get('faiss', 'No valid answer found')}\n",
    "Pinecone: {all_responses.get('pinecone', 'No valid answer found')}\n",
    "\n",
    "Context used for answer:\n",
    "{formatted_context}\n",
    "\"\"\"\n",
    "\n",
    "print(output)\n",
    "\n",
    "# Define the correct ground truth for the question\n",
    "ground_truth = \"Between 1994 and 2004, the number of Chapter 11 filings in Connecticut decreased. In 1994, there were 216 filings, and by 2004 the number had declined to 84 filings. This represents a significant reduction over the ten-year period.\"\n",
    "\n",
    "# Evaluate the final aggregated answer using the updated ground truth\n",
    "final_scores = evaluate_answer(aggregated_answer, question, context, ground_truth)\n",
    "print(\"\\nFinal Aggregated Answer Evaluation Scores:\", final_scores)\n",
    "\n",
    "# Evaluate individual retriever answers using the updated ground truth\n",
    "for key, answer in all_responses.items():\n",
    "    retriever_scores = evaluate_answer(answer, question, context, ground_truth)\n",
    "    print(f\"\\n{key.capitalize()} Answer Evaluation Scores:\", retriever_scores)\n"
   ]
  },
  {
   "cell_type": "code",
   "execution_count": 5,
   "id": "0e254b57-fc5a-4417-80f1-6491dbac9a24",
   "metadata": {},
   "outputs": [
    {
     "data": {
      "application/vnd.jupyter.widget-view+json": {
       "model_id": "fda56e7f650c488184cf1bc60cd392e5",
       "version_major": 2,
       "version_minor": 0
      },
      "text/plain": [
       "Batches:   0%|          | 0/1 [00:00<?, ?it/s]"
      ]
     },
     "metadata": {},
     "output_type": "display_data"
    },
    {
     "data": {
      "application/vnd.jupyter.widget-view+json": {
       "model_id": "53e6c3ec93b64cffa567dfc5ee8ffdc5",
       "version_major": 2,
       "version_minor": 0
      },
      "text/plain": [
       "Batches:   0%|          | 0/1 [00:00<?, ?it/s]"
      ]
     },
     "metadata": {},
     "output_type": "display_data"
    },
    {
     "data": {
      "application/vnd.jupyter.widget-view+json": {
       "model_id": "82065bb282eb4af282f72cdb32ac45ba",
       "version_major": 2,
       "version_minor": 0
      },
      "text/plain": [
       "Batches:   0%|          | 0/1 [00:00<?, ?it/s]"
      ]
     },
     "metadata": {},
     "output_type": "display_data"
    },
    {
     "data": {
      "application/vnd.jupyter.widget-view+json": {
       "model_id": "6e717124d79749a8b991a830a8634b94",
       "version_major": 2,
       "version_minor": 0
      },
      "text/plain": [
       "Batches:   0%|          | 0/1 [00:00<?, ?it/s]"
      ]
     },
     "metadata": {},
     "output_type": "display_data"
    },
    {
     "data": {
      "application/vnd.jupyter.widget-view+json": {
       "model_id": "3fec99171bbc482d945f16fad36a79c3",
       "version_major": 2,
       "version_minor": 0
      },
      "text/plain": [
       "Batches:   0%|          | 0/1 [00:00<?, ?it/s]"
      ]
     },
     "metadata": {},
     "output_type": "display_data"
    },
    {
     "data": {
      "application/vnd.jupyter.widget-view+json": {
       "model_id": "4829d3d869b94e519acb7f3164b7a895",
       "version_major": 2,
       "version_minor": 0
      },
      "text/plain": [
       "Batches:   0%|          | 0/1 [00:00<?, ?it/s]"
      ]
     },
     "metadata": {},
     "output_type": "display_data"
    },
    {
     "data": {
      "application/vnd.jupyter.widget-view+json": {
       "model_id": "432643bbc4c24353905f1fdfe2c66367",
       "version_major": 2,
       "version_minor": 0
      },
      "text/plain": [
       "Batches:   0%|          | 0/1 [00:00<?, ?it/s]"
      ]
     },
     "metadata": {},
     "output_type": "display_data"
    },
    {
     "data": {
      "application/vnd.jupyter.widget-view+json": {
       "model_id": "d25f8df472204d71aa4a7a13f9cc9e8f",
       "version_major": 2,
       "version_minor": 0
      },
      "text/plain": [
       "Batches:   0%|          | 0/1 [00:00<?, ?it/s]"
      ]
     },
     "metadata": {},
     "output_type": "display_data"
    },
    {
     "data": {
      "application/vnd.jupyter.widget-view+json": {
       "model_id": "55899dc581ca4101bfbedcfe06385a61",
       "version_major": 2,
       "version_minor": 0
      },
      "text/plain": [
       "Batches:   0%|          | 0/1 [00:00<?, ?it/s]"
      ]
     },
     "metadata": {},
     "output_type": "display_data"
    },
    {
     "data": {
      "application/vnd.jupyter.widget-view+json": {
       "model_id": "7760535126b24c28ac1a20b71cb45c81",
       "version_major": 2,
       "version_minor": 0
      },
      "text/plain": [
       "Batches:   0%|          | 0/1 [00:00<?, ?it/s]"
      ]
     },
     "metadata": {},
     "output_type": "display_data"
    },
    {
     "data": {
      "application/vnd.jupyter.widget-view+json": {
       "model_id": "f92a510666ae4b7aa490286853af2457",
       "version_major": 2,
       "version_minor": 0
      },
      "text/plain": [
       "Batches:   0%|          | 0/1 [00:00<?, ?it/s]"
      ]
     },
     "metadata": {},
     "output_type": "display_data"
    },
    {
     "data": {
      "application/vnd.jupyter.widget-view+json": {
       "model_id": "877984ad0fd041eba2c3486136231e12",
       "version_major": 2,
       "version_minor": 0
      },
      "text/plain": [
       "Batches:   0%|          | 0/1 [00:00<?, ?it/s]"
      ]
     },
     "metadata": {},
     "output_type": "display_data"
    },
    {
     "data": {
      "application/vnd.jupyter.widget-view+json": {
       "model_id": "da78c86132fb48a8b17bc77d9506905f",
       "version_major": 2,
       "version_minor": 0
      },
      "text/plain": [
       "Batches:   0%|          | 0/1 [00:00<?, ?it/s]"
      ]
     },
     "metadata": {},
     "output_type": "display_data"
    },
    {
     "data": {
      "application/vnd.jupyter.widget-view+json": {
       "model_id": "eefe88e197954b68a733c27f50f178d1",
       "version_major": 2,
       "version_minor": 0
      },
      "text/plain": [
       "Batches:   0%|          | 0/1 [00:00<?, ?it/s]"
      ]
     },
     "metadata": {},
     "output_type": "display_data"
    },
    {
     "data": {
      "application/vnd.jupyter.widget-view+json": {
       "model_id": "cf9e401ab2314f58b216fb7d1bbdb91d",
       "version_major": 2,
       "version_minor": 0
      },
      "text/plain": [
       "Batches:   0%|          | 0/1 [00:00<?, ?it/s]"
      ]
     },
     "metadata": {},
     "output_type": "display_data"
    },
    {
     "data": {
      "application/vnd.jupyter.widget-view+json": {
       "model_id": "e101ce087df9449792a377a1460f879d",
       "version_major": 2,
       "version_minor": 0
      },
      "text/plain": [
       "Batches:   0%|          | 0/1 [00:00<?, ?it/s]"
      ]
     },
     "metadata": {},
     "output_type": "display_data"
    },
    {
     "data": {
      "application/vnd.jupyter.widget-view+json": {
       "model_id": "08c49b4bcc0240f3b0feb52090d35ad5",
       "version_major": 2,
       "version_minor": 0
      },
      "text/plain": [
       "Batches:   0%|          | 0/1 [00:00<?, ?it/s]"
      ]
     },
     "metadata": {},
     "output_type": "display_data"
    },
    {
     "data": {
      "application/vnd.jupyter.widget-view+json": {
       "model_id": "456923b8cc074a03800d278fc68f5c9d",
       "version_major": 2,
       "version_minor": 0
      },
      "text/plain": [
       "Batches:   0%|          | 0/1 [00:00<?, ?it/s]"
      ]
     },
     "metadata": {},
     "output_type": "display_data"
    },
    {
     "data": {
      "application/vnd.jupyter.widget-view+json": {
       "model_id": "79cc96b271c94bf5b4dfcebd0bbcc40d",
       "version_major": 2,
       "version_minor": 0
      },
      "text/plain": [
       "Batches:   0%|          | 0/1 [00:00<?, ?it/s]"
      ]
     },
     "metadata": {},
     "output_type": "display_data"
    },
    {
     "data": {
      "application/vnd.jupyter.widget-view+json": {
       "model_id": "d47a8aebed9040649a6e614bea88b009",
       "version_major": 2,
       "version_minor": 0
      },
      "text/plain": [
       "Batches:   0%|          | 0/1 [00:00<?, ?it/s]"
      ]
     },
     "metadata": {},
     "output_type": "display_data"
    },
    {
     "data": {
      "application/vnd.jupyter.widget-view+json": {
       "model_id": "923feae515e44988a1e6f694f853b590",
       "version_major": 2,
       "version_minor": 0
      },
      "text/plain": [
       "Batches:   0%|          | 0/1 [00:00<?, ?it/s]"
      ]
     },
     "metadata": {},
     "output_type": "display_data"
    },
    {
     "name": "stdout",
     "output_type": "stream",
     "text": [
      "\n",
      "Final Aggregated Answer: After the Cosco Busan oil spill in San Francisco Bay, Nancy Powell and other volunteers took immediate action to rescue birds affected by the spill. Powell and her grassroots group were among the few who attempted to rescue birds in Richmond that first weekend following the spill, despite no one from state or federal agencies being present to help. According to the context provided, these local volunteers were actively involved in the rescue efforts, particularly in areas that were hardest hit and had significant numbers of oiled birds.. Organizing a bird-rescue network to handle tasks like closing off the shoreline, reporting oiled birds, and capturing and transporting them.\n",
      "2. Purchasing over $500 worth of fishing nets and towels to rescue birds, and recruiting drivers to transport them to a wildlife center.\n",
      "3. Continuing their rescue efforts even after being warned they could be arrested for unauthorized collection of birds, emphasizing the urgency to get authorized personnel to take over.\n",
      "\n",
      "These efforts were largely self-initiated and self-funded, as the volunteers stepped in to fill the gap left by the lack of an official response in the critical initial period after the spill.. They did this without assistance from state or federal agencies during the first weekend after the incident. These efforts by Powell and her grassroots group to help the wildlife in Richmond reflected similar volunteer activities along the Oakland shoreline, indicating a larger community response to the environmental disaster despite the perceived lack of organized official response in the initial days.\n",
      "\n",
      "Intermediate Answers:\n",
      "Chroma: After the Cosco Busan oil spill in San Francisco Bay, Nancy Powell and other volunteers took immediate action to rescue birds affected by the spill. Powell and her grassroots group were among the few who attempted to rescue birds in Richmond that first weekend following the spill, despite no one from state or federal agencies being present to help. According to the context provided, these local volunteers were actively involved in the rescue efforts, particularly in areas that were hardest hit and had significant numbers of oiled birds.\n",
      "FAISS: Following the Cosco Busan oil spill in San Francisco Bay, Nancy Powell and other volunteers took immediate actions that included:\n",
      "\n",
      "1. Organizing a bird-rescue network to handle tasks like closing off the shoreline, reporting oiled birds, and capturing and transporting them.\n",
      "2. Purchasing over $500 worth of fishing nets and towels to rescue birds, and recruiting drivers to transport them to a wildlife center.\n",
      "3. Continuing their rescue efforts even after being warned they could be arrested for unauthorized collection of birds, emphasizing the urgency to get authorized personnel to take over.\n",
      "\n",
      "These efforts were largely self-initiated and self-funded, as the volunteers stepped in to fill the gap left by the lack of an official response in the critical initial period after the spill.\n",
      "Pinecone: Following the Cosco Busan oil spill in San Francisco Bay, Nancy Powell and other volunteers immediately took action by rescuing birds affected by the spill. They did this without assistance from state or federal agencies during the first weekend after the incident. These efforts by Powell and her grassroots group to help the wildlife in Richmond reflected similar volunteer activities along the Oakland shoreline, indicating a larger community response to the environmental disaster despite the perceived lack of organized official response in the initial days.\n",
      "\n",
      "Context used for answer:\n",
      "File: 14_pinecone.pdf, Page 1: Monday and her grassroots group, says Powell,\n",
      "no one from state or federal agencies rescued\n",
      "birds in Richmond that first weekend.\n",
      "The experiences of Powell and the others in\n",
      "Richmond is a microcosm of the situation else-\n",
      "where. The Environmental Water Caucus’ David\n",
      "Nesmith reported a similar fiasco along the\n",
      "Oakland shoreline. “It’s a scandal to have all of\n",
      "this human infrastructure potential [volunteers]\n",
      "out there and to not have used it. I think OSPR\n",
      "completely screwed up on this.” Local officials\n",
      "including Berkeley Assemblywoman Loni Hancock\n",
      "also wanted to know why events unfolded the\n",
      "way they did; Hancock convened the first hearing\n",
      "looking into the spill in Emeryville on November\n",
      "15, nine days after the spill.\n",
      "Present at this hearing was Greg Hurner,\n",
      "deputy director of OSPR. He brought a four-inch\n",
      "thick binder and recited chapter and verse from it\n",
      "regarding the procedures followed by the agency,\n",
      "the gallons of oil recovered, the numbers of skim-\n",
      "\n",
      "File: 14_pinecone.pdf, Page 1: Congressman George Miller (D-Martinez), U.S.\n",
      "Coast Guard Rear Admiral Craig Bone deemed the\n",
      "cleanup effort, “one of the most successful\n",
      "cleanups I’ve ever experienced.” Sylvia Wright,\n",
      "with the Oiled Wildlife Care Network at UC Davis,\n",
      "said that “While questions remain to be answered\n",
      "about the spill response itself, there is no doubt\n",
      "that the wildlife rescue effort was as successful as it\n",
      "could possibly have been, thanks to long-range\n",
      "planning and advance training of 1,000 wildlife\n",
      "rescue individuals from throughout the state.”\n",
      "Pelosi did not agree. “The people we represent are\n",
      "not satisfied with this response,” she said.\n",
      "Nor were some of the authorized wildlife\n",
      "responders on the shoreline who spoke anony-\n",
      "mously out of fear of losing their jobs. Said one,\n",
      "“I really, really, really don’t want to be left in the\n",
      "field again in California with only one dipnet for\n",
      "equipment with 20 miles of shoreline to patrol\n",
      "with hundreds of oiled birds everywhere I look.\n",
      "\n",
      "File: 14_pinecone.pdf, Page 0: A GREENER BLUE?\n",
      "Conference wrapup . . . . . . . . .3\n",
      "POLLUTION\n",
      "Conference, cont’d . . . . . . . . . .6\n",
      "RESTORATION\n",
      "Conference, cont’d . . . . . . . . . .8\n",
      "LAND USE\n",
      "Conference, cont’d . . . . . . . . . .9\n",
      "LADY LINCHPIN\n",
      "RETIRES . . . . . . . . . . . . . . . . . .10\n",
      "INSIDE\n",
      "SOILED\n",
      "Shortly before 8:30 a.m. on Wednesday,\n",
      "November 7, the cargo ship Cosco Busan—en\n",
      "route to South Korea from the Port of Oakland—\n",
      "ran into a support post for the Bay Bridge,\n",
      "gashing its fuel tank and sending 58,000 gallons\n",
      "of oil into San Francisco Bay. Initial reports by the\n",
      "shipping company put the size of the spill at 400\n",
      "gallons. Twelve hours later, local officials learned\n",
      "the results of an initial investigation by state and\n",
      "federal agencies—that the spill was over 100\n",
      "times the size first reported.\n",
      "When those first oily drops hit the water, no\n",
      "booms were in place around the ship. So swirling\n",
      "Bay currents spread the oil far and wide—hitting\n",
      "shorelines from San Francisco to Berkeley to\n",
      "\n",
      "File: 14_pinecone.pdf, Page 1: deputy director of OSPR. He brought a four-inch\n",
      "thick binder and recited chapter and verse from it\n",
      "regarding the procedures followed by the agency,\n",
      "the gallons of oil recovered, the numbers of skim-\n",
      "mers on the Bay, and even the amount of boom\n",
      "deployed. Still, none of that placated Hancock.\n",
      "What she wanted was accountability.\n",
      "“So my question to you, really, would be ... in\n",
      "your best professional judgment, what went\n",
      "wrong?” Hurner replied, “I’m not saying that any-\n",
      "thing went wrong.”\n",
      "Members of the packed audience gasped and\n",
      "shook their heads in dismay at his response.\n",
      "Hurner was not alone in this assessment. Four\n",
      "days later, at a hearing in San Francisco’s Presidio,\n",
      "a U.S. Congressional delegation that included\n",
      "House Speaker Nancy Pelosi (D-San Francisco) and\n",
      "Congressman George Miller (D-Martinez), U.S.\n",
      "Coast Guard Rear Admiral Craig Bone deemed the\n",
      "cleanup effort, “one of the most successful\n",
      "cleanups I’ve ever experienced.” Sylvia Wright,\n",
      "\n",
      "File: 14_pinecone.pdf, Page 1: workers were frustrated at not hearing sooner\n",
      "about the extent of the spill. And they were ham-\n",
      "strung by a lack of proper equipment. “They\n",
      "actually wanted to boom off the Richmond\n",
      "marsh, but they couldn’t get a boat,” says Powell.\n",
      "The California Office of Oil Spill Prevention and\n",
      "Response (“OSPR”)—under the aegis of Cal Fish\n",
      "& Game—created a map of the Bay showing the\n",
      "areas hardest hit by the spill. Richmond, which, at\n",
      "32 miles of shoreline, is the city with the longest\n",
      "coastline on San Francisco Bay, is identified on the\n",
      "map as among those areas. Hot spots included\n",
      "Brooks Island, home to a bird sanctuary, and\n",
      "Barbara and Jay Vincent Park, one of the locations\n",
      "where Powell and her fellow volunteers worked.\n",
      "With the exception of two bird capturers from\n",
      "International Bird Rescue who showed up on\n",
      "Monday and her grassroots group, says Powell,\n",
      "no one from state or federal agencies rescued\n",
      "birds in Richmond that first weekend.\n",
      "The experiences of Powell and the others in\n",
      "\n",
      "File: 14_pinecone.pdf, Page 1: THE PRICE OF OIL, CONTINUED\n",
      "SOILED, CONTINUED\n",
      "DEC\n",
      "2007\n",
      "ment. In some cases, agency represen-\n",
      "tatives were lost and needed\n",
      "directions—and offered little in the way\n",
      "of help. Late Saturday afternoon, a\n",
      "truck of workers from the Contra Costa\n",
      "Hazardous Materials Program came on\n",
      "their own authority to clean the county\n",
      "beaches and boom off the shoreline.\n",
      "“They are real heroes in my book,”\n",
      "says Powell. “Because the Coast Guard\n",
      "apparently told all of the local agencies\n",
      "to wait for direction from them and\n",
      "Contra Costa said, ‘Nope.’”\n",
      "But because this was the third day\n",
      "after the spill, some of the work of the\n",
      "county hazardous materials workers\n",
      "had little effect—booms they were able\n",
      "to put into the Bay actually hemmed in the oil\n",
      "along the shoreline. Powell and others say these\n",
      "workers were frustrated at not hearing sooner\n",
      "about the extent of the spill. And they were ham-\n",
      "strung by a lack of proper equipment. “They\n",
      "actually wanted to boom off the Richmond\n",
      "\n",
      "File: 14_pinecone.pdf, Page 1: Monday and her grassroots group, says Powell,\n",
      "no one from state or federal agencies rescued\n",
      "birds in Richmond that first weekend.\n",
      "The experiences of Powell and the others in\n",
      "Richmond is a microcosm of the situation else-\n",
      "where. The Environmental Water Caucus’ David\n",
      "Nesmith reported a similar fiasco along the\n",
      "Oakland shoreline. “It’s a scandal to have all of\n",
      "this human infrastructure potential [volunteers]\n",
      "out there and to not have used it. I think OSPR\n",
      "completely screwed up on this.” Local officials\n",
      "including Berkeley Assemblywoman Loni Hancock\n",
      "also wanted to know why events unfolded the\n",
      "way they did; Hancock convened the first hearing\n",
      "looking into the spill in Emeryville on November\n",
      "15, nine days after the spill.\n",
      "Present at this hearing was Greg Hurner,\n",
      "deputy director of OSPR. He brought a four-inch\n",
      "thick binder and recited chapter and verse from it\n",
      "regarding the procedures followed by the agency,\n",
      "the gallons of oil recovered, the numbers of skim-\n",
      "\n",
      "File: 14_pinecone.pdf, Page 0: the stretch of shoreline curving between Point\n",
      "Isabelle and the Richmond Inner Harbor the third\n",
      "day following the spill, they found oiled birds on\n",
      "the rocks and beaches being chased by dogs and\n",
      "their owners, but no one taking charge of the sit-\n",
      "uation—not even to do crowd control.\n",
      "“A Richmond fire truck was there, and he said,\n",
      "‘Yeah, I really think this trail should be closed off,\n",
      "but I don’t have the authority to do it,’” said\n",
      "Powell, who, along with other members of her\n",
      "group, again took matters into their own hands.\n",
      "They organized a bird-rescue network with peo-\n",
      "ple handling tasks such as closing off the\n",
      "shoreline, taking reports of oiled birds along the\n",
      "shore, and catching and transporting birds. Over\n",
      "the course of a week, says Powell, her group res-\n",
      "cued over 50 birds.\n",
      "“The person running the Oiled Wildlife Care\n",
      "Network command center kept trying to tell me,\n",
      "‘You know, there is unauthorized collection of\n",
      "birds going on,’” explains an incredulous Powell.\n",
      "\n",
      "File: 14_pinecone.pdf, Page 0: “The person running the Oiled Wildlife Care\n",
      "Network command center kept trying to tell me,\n",
      "‘You know, there is unauthorized collection of\n",
      "birds going on,’” explains an incredulous Powell.\n",
      "“And the message I kept sending back was that\n",
      "‘you get authorized people out here to cover this\n",
      "waterfront, and we are gone immediately.’”\n",
      "Powell and others working the Richmond\n",
      "shoreline those first days after the spill say there\n",
      "were a few authorized people on the waterfront\n",
      "in Richmond—but only one or two people in a\n",
      "truck with no cleanup—or bird capture—equip-\n",
      "D E C E M B E R 2 0 0 7\n",
      "V O L U M E 1 6 , N O . 6\n",
      "Y O U R I N D E P E N D E N T S O U R C E F O R B A Y - D E L T A N E W S & V I E W S\n",
      "THE PRICE OF OIL\n",
      "The Cosco Busan\n",
      "spill claimed the lives\n",
      "of at least 45 species\n",
      "of birds, ranging from\n",
      "the pelagic northern\n",
      "fulmar and parasitic\n",
      "jaeger to the shore-\n",
      "bound fox sparrow.\n",
      "Some were hit harder\n",
      "than others. First\n",
      "impressions that most of\n",
      "the oiled birds were surf scoters are sup-\n",
      "\n",
      "File: 14_pinecone.pdf, Page 0: and they were able to catch a couple of birds on\n",
      "that beach.”\n",
      "Powell had seen a spill on the Bay ten years\n",
      "ago, and she had helped cleaning oiled birds. So\n",
      "she had experience, and serendipitously, she\n",
      "found other would-be volunteers that morning at\n",
      "Shorebird Park with backgrounds in wildlife res-\n",
      "cue and a strong desire to do something. The\n",
      "volunteers bought over $500 worth of fishing\n",
      "nets and towels from local stores, and spent the\n",
      "day helping rescue birds in Berkeley. The group\n",
      "also recruited drivers to take birds to the Cordelia\n",
      "wildlife center. Later, the unofficial group (warned\n",
      "that they could be arrested) moved to Albany,\n",
      "where they rescued birds and transported birds\n",
      "being caught by homeless people.\n",
      "When the group arrived at Hoffman Marsh on\n",
      "the stretch of shoreline curving between Point\n",
      "Isabelle and the Richmond Inner Harbor the third\n",
      "day following the spill, they found oiled birds on\n",
      "the rocks and beaches being chased by dogs and\n",
      "\n",
      "File: 14_pinecone.pdf, Page 1: workers were frustrated at not hearing sooner\n",
      "about the extent of the spill. And they were ham-\n",
      "strung by a lack of proper equipment. “They\n",
      "actually wanted to boom off the Richmond\n",
      "marsh, but they couldn’t get a boat,” says Powell.\n",
      "The California Office of Oil Spill Prevention and\n",
      "Response (“OSPR”)—under the aegis of Cal Fish\n",
      "& Game—created a map of the Bay showing the\n",
      "areas hardest hit by the spill. Richmond, which, at\n",
      "32 miles of shoreline, is the city with the longest\n",
      "coastline on San Francisco Bay, is identified on the\n",
      "map as among those areas. Hot spots included\n",
      "Brooks Island, home to a bird sanctuary, and\n",
      "Barbara and Jay Vincent Park, one of the locations\n",
      "where Powell and her fellow volunteers worked.\n",
      "With the exception of two bird capturers from\n",
      "International Bird Rescue who showed up on\n",
      "Monday and her grassroots group, says Powell,\n",
      "no one from state or federal agencies rescued\n",
      "birds in Richmond that first weekend.\n",
      "The experiences of Powell and the others in\n",
      "\n",
      "File: 14_pinecone.pdf, Page 1: Congressman George Miller (D-Martinez), U.S.\n",
      "Coast Guard Rear Admiral Craig Bone deemed the\n",
      "cleanup effort, “one of the most successful\n",
      "cleanups I’ve ever experienced.” Sylvia Wright,\n",
      "with the Oiled Wildlife Care Network at UC Davis,\n",
      "said that “While questions remain to be answered\n",
      "about the spill response itself, there is no doubt\n",
      "that the wildlife rescue effort was as successful as it\n",
      "could possibly have been, thanks to long-range\n",
      "planning and advance training of 1,000 wildlife\n",
      "rescue individuals from throughout the state.”\n",
      "Pelosi did not agree. “The people we represent are\n",
      "not satisfied with this response,” she said.\n",
      "Nor were some of the authorized wildlife\n",
      "responders on the shoreline who spoke anony-\n",
      "mously out of fear of losing their jobs. Said one,\n",
      "“I really, really, really don’t want to be left in the\n",
      "field again in California with only one dipnet for\n",
      "equipment with 20 miles of shoreline to patrol\n",
      "with hundreds of oiled birds everywhere I look.\n",
      "\n",
      "File: 14_pinecone.pdf, Page 1.0: Monday and her grassroots group, says Powell,\n",
      "no one from state or federal agencies rescued\n",
      "birds in Richmond that first weekend.\n",
      "The experiences of Powell and the others in\n",
      "Richmond is a microcosm of the situation else-\n",
      "where. The Environmental Water Caucus’ David\n",
      "Nesmith reported a similar fiasco along the\n",
      "Oakland shoreline. “It’s a scandal to have all of\n",
      "this human infrastructure potential [volunteers]\n",
      "out there and to not have used it. I think OSPR\n",
      "completely screwed up on this.” Local officials\n",
      "including Berkeley Assemblywoman Loni Hancock\n",
      "also wanted to know why events unfolded the\n",
      "way they did; Hancock convened the first hearing\n",
      "looking into the spill in Emeryville on November\n",
      "15, nine days after the spill.\n",
      "Present at this hearing was Greg Hurner,\n",
      "deputy director of OSPR. He brought a four-inch\n",
      "thick binder and recited chapter and verse from it\n",
      "regarding the procedures followed by the agency,\n",
      "the gallons of oil recovered, the numbers of skim-\n",
      "\n",
      "File: 11_pinecone.pdf, Page 39.0: \n",
      "\n",
      "File: 11_pinecone.pdf, Page 33.0: \n",
      "\n",
      "File: 5_chroma.pdf, Page 2.0: \n",
      "\n",
      "File: 11_pinecone.pdf, Page 9.0: \n",
      "\n",
      "File: 14_pinecone.pdf, Page 1.0: Congressman George Miller (D-Martinez), U.S.\n",
      "Coast Guard Rear Admiral Craig Bone deemed the\n",
      "cleanup effort, “one of the most successful\n",
      "cleanups I’ve ever experienced.” Sylvia Wright,\n",
      "with the Oiled Wildlife Care Network at UC Davis,\n",
      "said that “While questions remain to be answered\n",
      "about the spill response itself, there is no doubt\n",
      "that the wildlife rescue effort was as successful as it\n",
      "could possibly have been, thanks to long-range\n",
      "planning and advance training of 1,000 wildlife\n",
      "rescue individuals from throughout the state.”\n",
      "Pelosi did not agree. “The people we represent are\n",
      "not satisfied with this response,” she said.\n",
      "Nor were some of the authorized wildlife\n",
      "responders on the shoreline who spoke anony-\n",
      "mously out of fear of losing their jobs. Said one,\n",
      "“I really, really, really don’t want to be left in the\n",
      "field again in California with only one dipnet for\n",
      "equipment with 20 miles of shoreline to patrol\n",
      "with hundreds of oiled birds everywhere I look.\n",
      "\n",
      "File: 5_chroma.pdf, Page 0.0: \n",
      "\n",
      "File: 11_pinecone.pdf, Page 50.0: \n",
      "\n"
     ]
    },
    {
     "data": {
      "application/vnd.jupyter.widget-view+json": {
       "model_id": "a59f00a8bffa4e9babd7ec194d23f13e",
       "version_major": 2,
       "version_minor": 0
      },
      "text/plain": [
       "Evaluating:   0%|          | 0/4 [00:00<?, ?it/s]"
      ]
     },
     "metadata": {},
     "output_type": "display_data"
    },
    {
     "data": {
      "application/vnd.jupyter.widget-view+json": {
       "model_id": "215723f1617c4c82a4941bf5b272d81e",
       "version_major": 2,
       "version_minor": 0
      },
      "text/plain": [
       "Batches:   0%|          | 0/1 [00:00<?, ?it/s]"
      ]
     },
     "metadata": {},
     "output_type": "display_data"
    },
    {
     "data": {
      "application/vnd.jupyter.widget-view+json": {
       "model_id": "c20ea32a993f499ca0455f9be96edfbe",
       "version_major": 2,
       "version_minor": 0
      },
      "text/plain": [
       "Batches:   0%|          | 0/1 [00:00<?, ?it/s]"
      ]
     },
     "metadata": {},
     "output_type": "display_data"
    },
    {
     "data": {
      "application/vnd.jupyter.widget-view+json": {
       "model_id": "aecc55bd76044c68a43efa5484d14a57",
       "version_major": 2,
       "version_minor": 0
      },
      "text/plain": [
       "Batches:   0%|          | 0/1 [00:00<?, ?it/s]"
      ]
     },
     "metadata": {},
     "output_type": "display_data"
    },
    {
     "data": {
      "application/vnd.jupyter.widget-view+json": {
       "model_id": "68381f3a78864738ba22d751d6ca76d1",
       "version_major": 2,
       "version_minor": 0
      },
      "text/plain": [
       "Batches:   0%|          | 0/1 [00:00<?, ?it/s]"
      ]
     },
     "metadata": {},
     "output_type": "display_data"
    },
    {
     "name": "stdout",
     "output_type": "stream",
     "text": [
      "\n",
      "Final Aggregated Answer Evaluation Scores: {'context_utilization': 0.2784, 'faithfulness': 0.9500, 'answer_relevancy': 0.9615, 'context_recall': 1.0000}\n"
     ]
    },
    {
     "data": {
      "application/vnd.jupyter.widget-view+json": {
       "model_id": "ec7b448fb11a4b438f954f3a45a9e4e5",
       "version_major": 2,
       "version_minor": 0
      },
      "text/plain": [
       "Evaluating:   0%|          | 0/4 [00:00<?, ?it/s]"
      ]
     },
     "metadata": {},
     "output_type": "display_data"
    },
    {
     "data": {
      "application/vnd.jupyter.widget-view+json": {
       "model_id": "fbd5eb39994d431f9ad4c3f59cd4d52f",
       "version_major": 2,
       "version_minor": 0
      },
      "text/plain": [
       "Batches:   0%|          | 0/1 [00:00<?, ?it/s]"
      ]
     },
     "metadata": {},
     "output_type": "display_data"
    },
    {
     "data": {
      "application/vnd.jupyter.widget-view+json": {
       "model_id": "9f6fdc22c74742e29d1945c1df20d32f",
       "version_major": 2,
       "version_minor": 0
      },
      "text/plain": [
       "Batches:   0%|          | 0/1 [00:00<?, ?it/s]"
      ]
     },
     "metadata": {},
     "output_type": "display_data"
    },
    {
     "data": {
      "application/vnd.jupyter.widget-view+json": {
       "model_id": "be185760387246e6a6f27018eb9d4273",
       "version_major": 2,
       "version_minor": 0
      },
      "text/plain": [
       "Batches:   0%|          | 0/1 [00:00<?, ?it/s]"
      ]
     },
     "metadata": {},
     "output_type": "display_data"
    },
    {
     "data": {
      "application/vnd.jupyter.widget-view+json": {
       "model_id": "d009b2dc0b7047e98d943217bc569d47",
       "version_major": 2,
       "version_minor": 0
      },
      "text/plain": [
       "Batches:   0%|          | 0/1 [00:00<?, ?it/s]"
      ]
     },
     "metadata": {},
     "output_type": "display_data"
    },
    {
     "name": "stdout",
     "output_type": "stream",
     "text": [
      "\n",
      "Chroma Answer Evaluation Scores: {'context_utilization': 0.2784, 'faithfulness': 0.7500, 'answer_relevancy': 0.9711, 'context_recall': 1.0000}\n"
     ]
    },
    {
     "data": {
      "application/vnd.jupyter.widget-view+json": {
       "model_id": "7604177d688b4e8b99fcd061f9ce720b",
       "version_major": 2,
       "version_minor": 0
      },
      "text/plain": [
       "Evaluating:   0%|          | 0/4 [00:00<?, ?it/s]"
      ]
     },
     "metadata": {},
     "output_type": "display_data"
    },
    {
     "data": {
      "application/vnd.jupyter.widget-view+json": {
       "model_id": "a7119c6fb9b2409baf2f3731ba7cf744",
       "version_major": 2,
       "version_minor": 0
      },
      "text/plain": [
       "Batches:   0%|          | 0/1 [00:00<?, ?it/s]"
      ]
     },
     "metadata": {},
     "output_type": "display_data"
    },
    {
     "data": {
      "application/vnd.jupyter.widget-view+json": {
       "model_id": "8d87b080e5814611af2df6955ac7dbd0",
       "version_major": 2,
       "version_minor": 0
      },
      "text/plain": [
       "Batches:   0%|          | 0/1 [00:00<?, ?it/s]"
      ]
     },
     "metadata": {},
     "output_type": "display_data"
    },
    {
     "data": {
      "application/vnd.jupyter.widget-view+json": {
       "model_id": "bca20a74db1d40659f35edb4c04de1fb",
       "version_major": 2,
       "version_minor": 0
      },
      "text/plain": [
       "Batches:   0%|          | 0/1 [00:00<?, ?it/s]"
      ]
     },
     "metadata": {},
     "output_type": "display_data"
    },
    {
     "data": {
      "application/vnd.jupyter.widget-view+json": {
       "model_id": "a4ea69971fd04a3eb2a448a78a628668",
       "version_major": 2,
       "version_minor": 0
      },
      "text/plain": [
       "Batches:   0%|          | 0/1 [00:00<?, ?it/s]"
      ]
     },
     "metadata": {},
     "output_type": "display_data"
    },
    {
     "name": "stdout",
     "output_type": "stream",
     "text": [
      "\n",
      "Faiss Answer Evaluation Scores: {'context_utilization': 0.1625, 'faithfulness': 1.0000, 'answer_relevancy': 0.9862, 'context_recall': 1.0000}\n"
     ]
    },
    {
     "data": {
      "application/vnd.jupyter.widget-view+json": {
       "model_id": "36cd3134366a49cc85586faba38f10a3",
       "version_major": 2,
       "version_minor": 0
      },
      "text/plain": [
       "Evaluating:   0%|          | 0/4 [00:00<?, ?it/s]"
      ]
     },
     "metadata": {},
     "output_type": "display_data"
    },
    {
     "data": {
      "application/vnd.jupyter.widget-view+json": {
       "model_id": "7d982a9ab2b0448bb1cdd8df637325a4",
       "version_major": 2,
       "version_minor": 0
      },
      "text/plain": [
       "Batches:   0%|          | 0/1 [00:00<?, ?it/s]"
      ]
     },
     "metadata": {},
     "output_type": "display_data"
    },
    {
     "data": {
      "application/vnd.jupyter.widget-view+json": {
       "model_id": "1105baea517549ffaacc950aeafb584b",
       "version_major": 2,
       "version_minor": 0
      },
      "text/plain": [
       "Batches:   0%|          | 0/1 [00:00<?, ?it/s]"
      ]
     },
     "metadata": {},
     "output_type": "display_data"
    },
    {
     "data": {
      "application/vnd.jupyter.widget-view+json": {
       "model_id": "4673aef4323a40258c1dd4581707f1e3",
       "version_major": 2,
       "version_minor": 0
      },
      "text/plain": [
       "Batches:   0%|          | 0/1 [00:00<?, ?it/s]"
      ]
     },
     "metadata": {},
     "output_type": "display_data"
    },
    {
     "data": {
      "application/vnd.jupyter.widget-view+json": {
       "model_id": "b1fb300ea4634c53affc4ab545fe6ff2",
       "version_major": 2,
       "version_minor": 0
      },
      "text/plain": [
       "Batches:   0%|          | 0/1 [00:00<?, ?it/s]"
      ]
     },
     "metadata": {},
     "output_type": "display_data"
    },
    {
     "name": "stdout",
     "output_type": "stream",
     "text": [
      "\n",
      "Pinecone Answer Evaluation Scores: {'context_utilization': 0.2784, 'faithfulness': 1.0000, 'answer_relevancy': 0.9582, 'context_recall': 1.0000}\n"
     ]
    }
   ],
   "source": [
    "# Usage Example\n",
    "question = \"What were the immediate actions taken by Nancy Powell and other volunteers following the Cosco Busan oil spill in San Francisco Bay?\"\n",
    "aggregated_answer, all_responses, context, sources = get_aggregated_answer_and_sources(question)\n",
    "\n",
    "# Format the output in a readable way\n",
    "formatted_context = format_context(context)\n",
    "\n",
    "output = f\"\"\"\n",
    "Final Aggregated Answer: {aggregated_answer}\n",
    "\n",
    "Intermediate Answers:\n",
    "Chroma: {all_responses.get('chroma', 'No valid answer found')}\n",
    "FAISS: {all_responses.get('faiss', 'No valid answer found')}\n",
    "Pinecone: {all_responses.get('pinecone', 'No valid answer found')}\n",
    "\n",
    "Context used for answer:\n",
    "{formatted_context}\n",
    "\"\"\"\n",
    "\n",
    "print(output)\n",
    "\n",
    "# Define the summarized ground truth for the question\n",
    "ground_truth = (\"Following the Cosco Busan oil spill, Nancy Powell and other volunteers took immediate actions such as walking along the Bay to locate and protect oiled birds, purchasing equipment to rescue birds, organizing a bird-rescue network, and transporting birds to a wildlife center.\")\n",
    "\n",
    "# Evaluate the final aggregated answer using the updated ground truth\n",
    "final_scores = evaluate_answer(aggregated_answer, question, context, ground_truth)\n",
    "print(\"\\nFinal Aggregated Answer Evaluation Scores:\", final_scores)\n",
    "\n",
    "# Evaluate individual retriever answers using the updated ground truth\n",
    "for key, answer in all_responses.items():\n",
    "    retriever_scores = evaluate_answer(answer, question, context, ground_truth)\n",
    "    print(f\"\\n{key.capitalize()} Answer Evaluation Scores:\", retriever_scores)\n"
   ]
  },
  {
   "cell_type": "code",
   "execution_count": null,
   "id": "ea592c9b-9865-49df-9350-c94f8c094bdd",
   "metadata": {},
   "outputs": [],
   "source": []
  }
 ],
 "metadata": {
  "kernelspec": {
   "display_name": "Python 3 (ipykernel)",
   "language": "python",
   "name": "python3"
  },
  "language_info": {
   "codemirror_mode": {
    "name": "ipython",
    "version": 3
   },
   "file_extension": ".py",
   "mimetype": "text/x-python",
   "name": "python",
   "nbconvert_exporter": "python",
   "pygments_lexer": "ipython3",
   "version": "3.9.13"
  }
 },
 "nbformat": 4,
 "nbformat_minor": 5
}
