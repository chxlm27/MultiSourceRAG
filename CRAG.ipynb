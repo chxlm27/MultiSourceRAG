{
 "cells": [
  {
   "cell_type": "code",
   "execution_count": 1,
   "id": "0429ee3a-26a2-4dee-87b3-82d5d5b5556c",
   "metadata": {},
   "outputs": [
    {
     "name": "stdout",
     "output_type": "stream",
     "text": [
      "AZURE_API_KEY: d5c1ae66fe5a41fd82f61e0b9fe88470\n",
      "AZURE_API_VERSION: 2024-02-15-preview\n",
      "AZURE_DEPLOYMENT: gpt-4t\n",
      "AZURE_ENDPOINT: https://itp-azopenai-ne.openai.azure.com/\n"
     ]
    },
    {
     "name": "stderr",
     "output_type": "stream",
     "text": [
      "C:\\Users\\vlad\\AppData\\Local\\Packages\\PythonSoftwareFoundation.Python.3.9_qbz5n2kfra8p0\\LocalCache\\local-packages\\Python39\\site-packages\\huggingface_hub\\file_download.py:1132: FutureWarning: `resume_download` is deprecated and will be removed in version 1.0.0. Downloads always resume when possible. If you want to force a new download, use `force_download=True`.\n",
      "  warnings.warn(\n",
      "C:\\Users\\vlad\\AppData\\Local\\Packages\\PythonSoftwareFoundation.Python.3.9_qbz5n2kfra8p0\\LocalCache\\local-packages\\Python39\\site-packages\\huggingface_hub\\file_download.py:1132: FutureWarning: `resume_download` is deprecated and will be removed in version 1.0.0. Downloads always resume when possible. If you want to force a new download, use `force_download=True`.\n",
      "  warnings.warn(\n"
     ]
    },
    {
     "data": {
      "application/vnd.jupyter.widget-view+json": {
       "model_id": "d170da1177574ab8a45eb2bfaaa7201b",
       "version_major": 2,
       "version_minor": 0
      },
      "text/plain": [
       "Batches:   0%|          | 0/1 [00:00<?, ?it/s]"
      ]
     },
     "metadata": {},
     "output_type": "display_data"
    },
    {
     "data": {
      "application/vnd.jupyter.widget-view+json": {
       "model_id": "a4c8372dc2264d2eac2f2c7c6514fc02",
       "version_major": 2,
       "version_minor": 0
      },
      "text/plain": [
       "Batches:   0%|          | 0/1 [00:00<?, ?it/s]"
      ]
     },
     "metadata": {},
     "output_type": "display_data"
    },
    {
     "data": {
      "application/vnd.jupyter.widget-view+json": {
       "model_id": "eefc0ef360064a829354e5a9652b5c74",
       "version_major": 2,
       "version_minor": 0
      },
      "text/plain": [
       "Batches:   0%|          | 0/1 [00:00<?, ?it/s]"
      ]
     },
     "metadata": {},
     "output_type": "display_data"
    },
    {
     "data": {
      "application/vnd.jupyter.widget-view+json": {
       "model_id": "504b7270b51d4345a29a0a6d9aafbfcd",
       "version_major": 2,
       "version_minor": 0
      },
      "text/plain": [
       "Batches:   0%|          | 0/1 [00:00<?, ?it/s]"
      ]
     },
     "metadata": {},
     "output_type": "display_data"
    },
    {
     "data": {
      "application/vnd.jupyter.widget-view+json": {
       "model_id": "13a7a3da7f5e43d39f1e6fe14e311dd5",
       "version_major": 2,
       "version_minor": 0
      },
      "text/plain": [
       "Batches:   0%|          | 0/1 [00:00<?, ?it/s]"
      ]
     },
     "metadata": {},
     "output_type": "display_data"
    },
    {
     "data": {
      "application/vnd.jupyter.widget-view+json": {
       "model_id": "7564bc22d2814a06bfc782cd7d40a301",
       "version_major": 2,
       "version_minor": 0
      },
      "text/plain": [
       "Batches:   0%|          | 0/1 [00:00<?, ?it/s]"
      ]
     },
     "metadata": {},
     "output_type": "display_data"
    },
    {
     "data": {
      "application/vnd.jupyter.widget-view+json": {
       "model_id": "e3119db08897406aaf7be78fd71a458b",
       "version_major": 2,
       "version_minor": 0
      },
      "text/plain": [
       "Batches:   0%|          | 0/1 [00:00<?, ?it/s]"
      ]
     },
     "metadata": {},
     "output_type": "display_data"
    },
    {
     "data": {
      "application/vnd.jupyter.widget-view+json": {
       "model_id": "54e155d5d6f94325a75985fde97e926a",
       "version_major": 2,
       "version_minor": 0
      },
      "text/plain": [
       "Batches:   0%|          | 0/1 [00:00<?, ?it/s]"
      ]
     },
     "metadata": {},
     "output_type": "display_data"
    },
    {
     "data": {
      "application/vnd.jupyter.widget-view+json": {
       "model_id": "03e2284e275e417baace57e5e635e4be",
       "version_major": 2,
       "version_minor": 0
      },
      "text/plain": [
       "Batches:   0%|          | 0/1 [00:00<?, ?it/s]"
      ]
     },
     "metadata": {},
     "output_type": "display_data"
    },
    {
     "data": {
      "application/vnd.jupyter.widget-view+json": {
       "model_id": "439c245a310a4ec78a1a6f9717a7ac05",
       "version_major": 2,
       "version_minor": 0
      },
      "text/plain": [
       "Batches:   0%|          | 0/1 [00:00<?, ?it/s]"
      ]
     },
     "metadata": {},
     "output_type": "display_data"
    },
    {
     "data": {
      "application/vnd.jupyter.widget-view+json": {
       "model_id": "ebe73823dc664a6881934ebef502a12b",
       "version_major": 2,
       "version_minor": 0
      },
      "text/plain": [
       "Batches:   0%|          | 0/1 [00:00<?, ?it/s]"
      ]
     },
     "metadata": {},
     "output_type": "display_data"
    },
    {
     "data": {
      "application/vnd.jupyter.widget-view+json": {
       "model_id": "e8ddd3e5831c4f2b892e1bd5917a7ce4",
       "version_major": 2,
       "version_minor": 0
      },
      "text/plain": [
       "Batches:   0%|          | 0/1 [00:00<?, ?it/s]"
      ]
     },
     "metadata": {},
     "output_type": "display_data"
    },
    {
     "data": {
      "application/vnd.jupyter.widget-view+json": {
       "model_id": "e3faa2b2980f48f3a4fefc1017f0b069",
       "version_major": 2,
       "version_minor": 0
      },
      "text/plain": [
       "Batches:   0%|          | 0/1 [00:00<?, ?it/s]"
      ]
     },
     "metadata": {},
     "output_type": "display_data"
    },
    {
     "data": {
      "application/vnd.jupyter.widget-view+json": {
       "model_id": "26af4de7acb243308aa9c60c3289be0c",
       "version_major": 2,
       "version_minor": 0
      },
      "text/plain": [
       "Batches:   0%|          | 0/1 [00:00<?, ?it/s]"
      ]
     },
     "metadata": {},
     "output_type": "display_data"
    },
    {
     "data": {
      "application/vnd.jupyter.widget-view+json": {
       "model_id": "48e04757264b472c89c04cbeeea61fba",
       "version_major": 2,
       "version_minor": 0
      },
      "text/plain": [
       "Batches:   0%|          | 0/1 [00:00<?, ?it/s]"
      ]
     },
     "metadata": {},
     "output_type": "display_data"
    },
    {
     "data": {
      "application/vnd.jupyter.widget-view+json": {
       "model_id": "4629544abd5c4d1194fb59b9bcee92a7",
       "version_major": 2,
       "version_minor": 0
      },
      "text/plain": [
       "Batches:   0%|          | 0/1 [00:00<?, ?it/s]"
      ]
     },
     "metadata": {},
     "output_type": "display_data"
    },
    {
     "data": {
      "application/vnd.jupyter.widget-view+json": {
       "model_id": "592b8340ecf848ab99cb7f3eda1d2d1b",
       "version_major": 2,
       "version_minor": 0
      },
      "text/plain": [
       "Batches:   0%|          | 0/1 [00:00<?, ?it/s]"
      ]
     },
     "metadata": {},
     "output_type": "display_data"
    },
    {
     "data": {
      "application/vnd.jupyter.widget-view+json": {
       "model_id": "bd891bc2d2364b78a477f3940a876307",
       "version_major": 2,
       "version_minor": 0
      },
      "text/plain": [
       "Batches:   0%|          | 0/1 [00:00<?, ?it/s]"
      ]
     },
     "metadata": {},
     "output_type": "display_data"
    },
    {
     "data": {
      "application/vnd.jupyter.widget-view+json": {
       "model_id": "b76d1abed3ab4d3dbc01dec41ed9c6c1",
       "version_major": 2,
       "version_minor": 0
      },
      "text/plain": [
       "Batches:   0%|          | 0/1 [00:00<?, ?it/s]"
      ]
     },
     "metadata": {},
     "output_type": "display_data"
    },
    {
     "data": {
      "application/vnd.jupyter.widget-view+json": {
       "model_id": "2c19c1cf68f548328711bbfad9a63e74",
       "version_major": 2,
       "version_minor": 0
      },
      "text/plain": [
       "Batches:   0%|          | 0/1 [00:00<?, ?it/s]"
      ]
     },
     "metadata": {},
     "output_type": "display_data"
    },
    {
     "data": {
      "application/vnd.jupyter.widget-view+json": {
       "model_id": "96a06836afe442199bed2091f1cddf93",
       "version_major": 2,
       "version_minor": 0
      },
      "text/plain": [
       "Batches:   0%|          | 0/1 [00:00<?, ?it/s]"
      ]
     },
     "metadata": {},
     "output_type": "display_data"
    },
    {
     "data": {
      "application/vnd.jupyter.widget-view+json": {
       "model_id": "c9ff73e7364d453a9018f5c13f4e4309",
       "version_major": 2,
       "version_minor": 0
      },
      "text/plain": [
       "Batches:   0%|          | 0/1 [00:00<?, ?it/s]"
      ]
     },
     "metadata": {},
     "output_type": "display_data"
    },
    {
     "data": {
      "application/vnd.jupyter.widget-view+json": {
       "model_id": "4ea71e5d08204e7b99c05637674b6c81",
       "version_major": 2,
       "version_minor": 0
      },
      "text/plain": [
       "Batches:   0%|          | 0/1 [00:00<?, ?it/s]"
      ]
     },
     "metadata": {},
     "output_type": "display_data"
    },
    {
     "data": {
      "application/vnd.jupyter.widget-view+json": {
       "model_id": "a00fd76520d74c15aa010a4eb4403b4e",
       "version_major": 2,
       "version_minor": 0
      },
      "text/plain": [
       "Batches:   0%|          | 0/1 [00:00<?, ?it/s]"
      ]
     },
     "metadata": {},
     "output_type": "display_data"
    },
    {
     "data": {
      "application/vnd.jupyter.widget-view+json": {
       "model_id": "3bb1698b627b400795fdcbca9dce2f0b",
       "version_major": 2,
       "version_minor": 0
      },
      "text/plain": [
       "Batches:   0%|          | 0/1 [00:00<?, ?it/s]"
      ]
     },
     "metadata": {},
     "output_type": "display_data"
    },
    {
     "data": {
      "application/vnd.jupyter.widget-view+json": {
       "model_id": "825a34b3c83948c793fb81b093251991",
       "version_major": 2,
       "version_minor": 0
      },
      "text/plain": [
       "Batches:   0%|          | 0/1 [00:00<?, ?it/s]"
      ]
     },
     "metadata": {},
     "output_type": "display_data"
    },
    {
     "data": {
      "application/vnd.jupyter.widget-view+json": {
       "model_id": "731caa602bd443eab6e0fe404f6a75a4",
       "version_major": 2,
       "version_minor": 0
      },
      "text/plain": [
       "Batches:   0%|          | 0/1 [00:00<?, ?it/s]"
      ]
     },
     "metadata": {},
     "output_type": "display_data"
    },
    {
     "data": {
      "application/vnd.jupyter.widget-view+json": {
       "model_id": "50bd79a2ec5a4f488a7011502703b89e",
       "version_major": 2,
       "version_minor": 0
      },
      "text/plain": [
       "Batches:   0%|          | 0/1 [00:00<?, ?it/s]"
      ]
     },
     "metadata": {},
     "output_type": "display_data"
    },
    {
     "data": {
      "application/vnd.jupyter.widget-view+json": {
       "model_id": "da237d0d953649d5bd00e9f18de9b4af",
       "version_major": 2,
       "version_minor": 0
      },
      "text/plain": [
       "Batches:   0%|          | 0/1 [00:00<?, ?it/s]"
      ]
     },
     "metadata": {},
     "output_type": "display_data"
    },
    {
     "data": {
      "application/vnd.jupyter.widget-view+json": {
       "model_id": "d65b9a62c6334c73ba5a7c8e430e26ea",
       "version_major": 2,
       "version_minor": 0
      },
      "text/plain": [
       "Batches:   0%|          | 0/1 [00:00<?, ?it/s]"
      ]
     },
     "metadata": {},
     "output_type": "display_data"
    },
    {
     "data": {
      "application/vnd.jupyter.widget-view+json": {
       "model_id": "154cfcb0c2e54ceea3d6fd1e863d08c7",
       "version_major": 2,
       "version_minor": 0
      },
      "text/plain": [
       "Batches:   0%|          | 0/1 [00:00<?, ?it/s]"
      ]
     },
     "metadata": {},
     "output_type": "display_data"
    },
    {
     "data": {
      "application/vnd.jupyter.widget-view+json": {
       "model_id": "b24cc24c60b047a8bef0ff5b3a134f1b",
       "version_major": 2,
       "version_minor": 0
      },
      "text/plain": [
       "Batches:   0%|          | 0/1 [00:00<?, ?it/s]"
      ]
     },
     "metadata": {},
     "output_type": "display_data"
    },
    {
     "data": {
      "application/vnd.jupyter.widget-view+json": {
       "model_id": "d25e2af813e747128cdeb4897f1e543a",
       "version_major": 2,
       "version_minor": 0
      },
      "text/plain": [
       "Batches:   0%|          | 0/1 [00:00<?, ?it/s]"
      ]
     },
     "metadata": {},
     "output_type": "display_data"
    },
    {
     "data": {
      "application/vnd.jupyter.widget-view+json": {
       "model_id": "a6adaf5f2553439a8f81e00b741c741c",
       "version_major": 2,
       "version_minor": 0
      },
      "text/plain": [
       "Batches:   0%|          | 0/1 [00:00<?, ?it/s]"
      ]
     },
     "metadata": {},
     "output_type": "display_data"
    },
    {
     "data": {
      "application/vnd.jupyter.widget-view+json": {
       "model_id": "8ddaa7bc2a5b458b90b730391eb6d1bd",
       "version_major": 2,
       "version_minor": 0
      },
      "text/plain": [
       "Batches:   0%|          | 0/1 [00:00<?, ?it/s]"
      ]
     },
     "metadata": {},
     "output_type": "display_data"
    },
    {
     "data": {
      "application/vnd.jupyter.widget-view+json": {
       "model_id": "5b3828881c554de09346191c97e87c8b",
       "version_major": 2,
       "version_minor": 0
      },
      "text/plain": [
       "Batches:   0%|          | 0/1 [00:00<?, ?it/s]"
      ]
     },
     "metadata": {},
     "output_type": "display_data"
    },
    {
     "data": {
      "application/vnd.jupyter.widget-view+json": {
       "model_id": "d628e9c424ce441b995d00fd57d81f5e",
       "version_major": 2,
       "version_minor": 0
      },
      "text/plain": [
       "Batches:   0%|          | 0/1 [00:00<?, ?it/s]"
      ]
     },
     "metadata": {},
     "output_type": "display_data"
    },
    {
     "data": {
      "application/vnd.jupyter.widget-view+json": {
       "model_id": "a3c18c2e28c6471faeb8c54595f43404",
       "version_major": 2,
       "version_minor": 0
      },
      "text/plain": [
       "Batches:   0%|          | 0/1 [00:00<?, ?it/s]"
      ]
     },
     "metadata": {},
     "output_type": "display_data"
    },
    {
     "data": {
      "application/vnd.jupyter.widget-view+json": {
       "model_id": "7682b75216ba424bb8353ebe78530a67",
       "version_major": 2,
       "version_minor": 0
      },
      "text/plain": [
       "Batches:   0%|          | 0/1 [00:00<?, ?it/s]"
      ]
     },
     "metadata": {},
     "output_type": "display_data"
    },
    {
     "data": {
      "application/vnd.jupyter.widget-view+json": {
       "model_id": "67db94bc80d947d080a8b2480d4d9f1e",
       "version_major": 2,
       "version_minor": 0
      },
      "text/plain": [
       "Batches:   0%|          | 0/1 [00:00<?, ?it/s]"
      ]
     },
     "metadata": {},
     "output_type": "display_data"
    },
    {
     "data": {
      "application/vnd.jupyter.widget-view+json": {
       "model_id": "6307500588204c1892d781d2318d5cc9",
       "version_major": 2,
       "version_minor": 0
      },
      "text/plain": [
       "Batches:   0%|          | 0/1 [00:00<?, ?it/s]"
      ]
     },
     "metadata": {},
     "output_type": "display_data"
    },
    {
     "data": {
      "application/vnd.jupyter.widget-view+json": {
       "model_id": "3a630cc4b3004dcea13bf7b0ec403429",
       "version_major": 2,
       "version_minor": 0
      },
      "text/plain": [
       "Batches:   0%|          | 0/1 [00:00<?, ?it/s]"
      ]
     },
     "metadata": {},
     "output_type": "display_data"
    },
    {
     "data": {
      "application/vnd.jupyter.widget-view+json": {
       "model_id": "ff0a87598b6e4759bec40f588a45ddd4",
       "version_major": 2,
       "version_minor": 0
      },
      "text/plain": [
       "Batches:   0%|          | 0/1 [00:00<?, ?it/s]"
      ]
     },
     "metadata": {},
     "output_type": "display_data"
    },
    {
     "data": {
      "application/vnd.jupyter.widget-view+json": {
       "model_id": "bd4ecba193404a409607b050a5aeca77",
       "version_major": 2,
       "version_minor": 0
      },
      "text/plain": [
       "Batches:   0%|          | 0/1 [00:00<?, ?it/s]"
      ]
     },
     "metadata": {},
     "output_type": "display_data"
    },
    {
     "data": {
      "application/vnd.jupyter.widget-view+json": {
       "model_id": "b19c316ac7e1480f872479d738081f9c",
       "version_major": 2,
       "version_minor": 0
      },
      "text/plain": [
       "Batches:   0%|          | 0/1 [00:00<?, ?it/s]"
      ]
     },
     "metadata": {},
     "output_type": "display_data"
    },
    {
     "data": {
      "application/vnd.jupyter.widget-view+json": {
       "model_id": "e9ef0206b5f440b4b16f4f948553cda2",
       "version_major": 2,
       "version_minor": 0
      },
      "text/plain": [
       "Batches:   0%|          | 0/1 [00:00<?, ?it/s]"
      ]
     },
     "metadata": {},
     "output_type": "display_data"
    },
    {
     "data": {
      "application/vnd.jupyter.widget-view+json": {
       "model_id": "ff55dbb2f1d44893876c8fbc2990292e",
       "version_major": 2,
       "version_minor": 0
      },
      "text/plain": [
       "Batches:   0%|          | 0/1 [00:00<?, ?it/s]"
      ]
     },
     "metadata": {},
     "output_type": "display_data"
    },
    {
     "data": {
      "application/vnd.jupyter.widget-view+json": {
       "model_id": "7224ab4859b5486e98a806346f892af6",
       "version_major": 2,
       "version_minor": 0
      },
      "text/plain": [
       "Batches:   0%|          | 0/1 [00:00<?, ?it/s]"
      ]
     },
     "metadata": {},
     "output_type": "display_data"
    },
    {
     "data": {
      "application/vnd.jupyter.widget-view+json": {
       "model_id": "7c3905f14b4d4c65903a3995c745f4b4",
       "version_major": 2,
       "version_minor": 0
      },
      "text/plain": [
       "Batches:   0%|          | 0/1 [00:00<?, ?it/s]"
      ]
     },
     "metadata": {},
     "output_type": "display_data"
    },
    {
     "data": {
      "application/vnd.jupyter.widget-view+json": {
       "model_id": "a501b606acfb4e1e8a087ca36f69af5d",
       "version_major": 2,
       "version_minor": 0
      },
      "text/plain": [
       "Batches:   0%|          | 0/1 [00:00<?, ?it/s]"
      ]
     },
     "metadata": {},
     "output_type": "display_data"
    },
    {
     "data": {
      "application/vnd.jupyter.widget-view+json": {
       "model_id": "861c6b9b6b90463080e7ebda8162f146",
       "version_major": 2,
       "version_minor": 0
      },
      "text/plain": [
       "Batches:   0%|          | 0/1 [00:00<?, ?it/s]"
      ]
     },
     "metadata": {},
     "output_type": "display_data"
    },
    {
     "data": {
      "application/vnd.jupyter.widget-view+json": {
       "model_id": "2a14503630c047a9a78330b5105f8271",
       "version_major": 2,
       "version_minor": 0
      },
      "text/plain": [
       "Batches:   0%|          | 0/1 [00:00<?, ?it/s]"
      ]
     },
     "metadata": {},
     "output_type": "display_data"
    },
    {
     "data": {
      "application/vnd.jupyter.widget-view+json": {
       "model_id": "bdd2b663764943dd9ea4c157c81cc9e7",
       "version_major": 2,
       "version_minor": 0
      },
      "text/plain": [
       "Batches:   0%|          | 0/1 [00:00<?, ?it/s]"
      ]
     },
     "metadata": {},
     "output_type": "display_data"
    },
    {
     "data": {
      "application/vnd.jupyter.widget-view+json": {
       "model_id": "5d6ba2a791a8466eb5e85c7171fc37f6",
       "version_major": 2,
       "version_minor": 0
      },
      "text/plain": [
       "Batches:   0%|          | 0/1 [00:00<?, ?it/s]"
      ]
     },
     "metadata": {},
     "output_type": "display_data"
    },
    {
     "data": {
      "application/vnd.jupyter.widget-view+json": {
       "model_id": "60d3f9a567c64e62baa2bbb185959dc0",
       "version_major": 2,
       "version_minor": 0
      },
      "text/plain": [
       "Batches:   0%|          | 0/1 [00:00<?, ?it/s]"
      ]
     },
     "metadata": {},
     "output_type": "display_data"
    },
    {
     "data": {
      "application/vnd.jupyter.widget-view+json": {
       "model_id": "aa6a7741f49c4970b5b16950f1e5020f",
       "version_major": 2,
       "version_minor": 0
      },
      "text/plain": [
       "Batches:   0%|          | 0/1 [00:00<?, ?it/s]"
      ]
     },
     "metadata": {},
     "output_type": "display_data"
    },
    {
     "data": {
      "application/vnd.jupyter.widget-view+json": {
       "model_id": "0f714917f4774ec0923bd4f51188d348",
       "version_major": 2,
       "version_minor": 0
      },
      "text/plain": [
       "Batches:   0%|          | 0/1 [00:00<?, ?it/s]"
      ]
     },
     "metadata": {},
     "output_type": "display_data"
    },
    {
     "data": {
      "application/vnd.jupyter.widget-view+json": {
       "model_id": "766e07d710b74a3c83fbf1915aa3873a",
       "version_major": 2,
       "version_minor": 0
      },
      "text/plain": [
       "Batches:   0%|          | 0/1 [00:00<?, ?it/s]"
      ]
     },
     "metadata": {},
     "output_type": "display_data"
    },
    {
     "data": {
      "application/vnd.jupyter.widget-view+json": {
       "model_id": "ca5fad2abbd5420b8234f63ebac92308",
       "version_major": 2,
       "version_minor": 0
      },
      "text/plain": [
       "Batches:   0%|          | 0/1 [00:00<?, ?it/s]"
      ]
     },
     "metadata": {},
     "output_type": "display_data"
    },
    {
     "data": {
      "application/vnd.jupyter.widget-view+json": {
       "model_id": "0fb4d6f8525c4e3e99d3fd6576a571bf",
       "version_major": 2,
       "version_minor": 0
      },
      "text/plain": [
       "Batches:   0%|          | 0/1 [00:00<?, ?it/s]"
      ]
     },
     "metadata": {},
     "output_type": "display_data"
    },
    {
     "data": {
      "application/vnd.jupyter.widget-view+json": {
       "model_id": "529552f8e9bc48fb922980dc2f6be2ac",
       "version_major": 2,
       "version_minor": 0
      },
      "text/plain": [
       "Batches:   0%|          | 0/1 [00:00<?, ?it/s]"
      ]
     },
     "metadata": {},
     "output_type": "display_data"
    },
    {
     "data": {
      "application/vnd.jupyter.widget-view+json": {
       "model_id": "c8a43cb9f83d40a59f879e4c0ec18d3b",
       "version_major": 2,
       "version_minor": 0
      },
      "text/plain": [
       "Batches:   0%|          | 0/1 [00:00<?, ?it/s]"
      ]
     },
     "metadata": {},
     "output_type": "display_data"
    },
    {
     "data": {
      "application/vnd.jupyter.widget-view+json": {
       "model_id": "3cd6fb00f13a4671bf86556011dca5a2",
       "version_major": 2,
       "version_minor": 0
      },
      "text/plain": [
       "Batches:   0%|          | 0/1 [00:00<?, ?it/s]"
      ]
     },
     "metadata": {},
     "output_type": "display_data"
    },
    {
     "data": {
      "application/vnd.jupyter.widget-view+json": {
       "model_id": "0de1692140f449eca358a2c903d32fa1",
       "version_major": 2,
       "version_minor": 0
      },
      "text/plain": [
       "Batches:   0%|          | 0/1 [00:00<?, ?it/s]"
      ]
     },
     "metadata": {},
     "output_type": "display_data"
    },
    {
     "data": {
      "application/vnd.jupyter.widget-view+json": {
       "model_id": "40b6ef5f0a204cfba7418e8000148aa0",
       "version_major": 2,
       "version_minor": 0
      },
      "text/plain": [
       "Batches:   0%|          | 0/1 [00:00<?, ?it/s]"
      ]
     },
     "metadata": {},
     "output_type": "display_data"
    },
    {
     "data": {
      "application/vnd.jupyter.widget-view+json": {
       "model_id": "ef947ce45e9c4bfbb2cde70827fed016",
       "version_major": 2,
       "version_minor": 0
      },
      "text/plain": [
       "Batches:   0%|          | 0/1 [00:00<?, ?it/s]"
      ]
     },
     "metadata": {},
     "output_type": "display_data"
    },
    {
     "data": {
      "application/vnd.jupyter.widget-view+json": {
       "model_id": "1c32fa2040a449b883954c8aad1e8082",
       "version_major": 2,
       "version_minor": 0
      },
      "text/plain": [
       "Batches:   0%|          | 0/1 [00:00<?, ?it/s]"
      ]
     },
     "metadata": {},
     "output_type": "display_data"
    },
    {
     "data": {
      "application/vnd.jupyter.widget-view+json": {
       "model_id": "7f867fec34aa455dac6767eafb6bef26",
       "version_major": 2,
       "version_minor": 0
      },
      "text/plain": [
       "Batches:   0%|          | 0/1 [00:00<?, ?it/s]"
      ]
     },
     "metadata": {},
     "output_type": "display_data"
    },
    {
     "data": {
      "application/vnd.jupyter.widget-view+json": {
       "model_id": "49db29061e244144ab441e2486b4e83e",
       "version_major": 2,
       "version_minor": 0
      },
      "text/plain": [
       "Batches:   0%|          | 0/1 [00:00<?, ?it/s]"
      ]
     },
     "metadata": {},
     "output_type": "display_data"
    },
    {
     "data": {
      "application/vnd.jupyter.widget-view+json": {
       "model_id": "5f9c3033fa3f4b01824c1bda605b7e22",
       "version_major": 2,
       "version_minor": 0
      },
      "text/plain": [
       "Batches:   0%|          | 0/1 [00:00<?, ?it/s]"
      ]
     },
     "metadata": {},
     "output_type": "display_data"
    },
    {
     "data": {
      "application/vnd.jupyter.widget-view+json": {
       "model_id": "63fa41ceafd54e5387fadc83039101e5",
       "version_major": 2,
       "version_minor": 0
      },
      "text/plain": [
       "Batches:   0%|          | 0/1 [00:00<?, ?it/s]"
      ]
     },
     "metadata": {},
     "output_type": "display_data"
    },
    {
     "data": {
      "application/vnd.jupyter.widget-view+json": {
       "model_id": "7c90986c5da8492681f0401ceb2cccf0",
       "version_major": 2,
       "version_minor": 0
      },
      "text/plain": [
       "Batches:   0%|          | 0/1 [00:00<?, ?it/s]"
      ]
     },
     "metadata": {},
     "output_type": "display_data"
    },
    {
     "data": {
      "application/vnd.jupyter.widget-view+json": {
       "model_id": "e567367d095347a1a653e96d4b19ce82",
       "version_major": 2,
       "version_minor": 0
      },
      "text/plain": [
       "Batches:   0%|          | 0/1 [00:00<?, ?it/s]"
      ]
     },
     "metadata": {},
     "output_type": "display_data"
    },
    {
     "data": {
      "application/vnd.jupyter.widget-view+json": {
       "model_id": "b428ebe0d02648f4ad123ee3a5461787",
       "version_major": 2,
       "version_minor": 0
      },
      "text/plain": [
       "Batches:   0%|          | 0/1 [00:00<?, ?it/s]"
      ]
     },
     "metadata": {},
     "output_type": "display_data"
    },
    {
     "data": {
      "application/vnd.jupyter.widget-view+json": {
       "model_id": "7c382c79b89f4bb4966bd5e93f376138",
       "version_major": 2,
       "version_minor": 0
      },
      "text/plain": [
       "Batches:   0%|          | 0/1 [00:00<?, ?it/s]"
      ]
     },
     "metadata": {},
     "output_type": "display_data"
    },
    {
     "data": {
      "application/vnd.jupyter.widget-view+json": {
       "model_id": "7f987c0ba4ba4b2e838e317dd06fbd02",
       "version_major": 2,
       "version_minor": 0
      },
      "text/plain": [
       "Batches:   0%|          | 0/1 [00:00<?, ?it/s]"
      ]
     },
     "metadata": {},
     "output_type": "display_data"
    },
    {
     "data": {
      "application/vnd.jupyter.widget-view+json": {
       "model_id": "80cffaae077e4bb58403e418b8f3ecd9",
       "version_major": 2,
       "version_minor": 0
      },
      "text/plain": [
       "Batches:   0%|          | 0/1 [00:00<?, ?it/s]"
      ]
     },
     "metadata": {},
     "output_type": "display_data"
    },
    {
     "data": {
      "application/vnd.jupyter.widget-view+json": {
       "model_id": "7a1f1d20d81d42e096f9decd18dd41eb",
       "version_major": 2,
       "version_minor": 0
      },
      "text/plain": [
       "Batches:   0%|          | 0/1 [00:00<?, ?it/s]"
      ]
     },
     "metadata": {},
     "output_type": "display_data"
    },
    {
     "data": {
      "application/vnd.jupyter.widget-view+json": {
       "model_id": "de01b95774b54b8889b19e5446273e7c",
       "version_major": 2,
       "version_minor": 0
      },
      "text/plain": [
       "Batches:   0%|          | 0/1 [00:00<?, ?it/s]"
      ]
     },
     "metadata": {},
     "output_type": "display_data"
    },
    {
     "data": {
      "application/vnd.jupyter.widget-view+json": {
       "model_id": "cfb35ce8d7584bc78da54c6c7d9c343a",
       "version_major": 2,
       "version_minor": 0
      },
      "text/plain": [
       "Batches:   0%|          | 0/1 [00:00<?, ?it/s]"
      ]
     },
     "metadata": {},
     "output_type": "display_data"
    },
    {
     "data": {
      "application/vnd.jupyter.widget-view+json": {
       "model_id": "72a3a69c50ad459ba60a15dae7dc97e7",
       "version_major": 2,
       "version_minor": 0
      },
      "text/plain": [
       "Batches:   0%|          | 0/1 [00:00<?, ?it/s]"
      ]
     },
     "metadata": {},
     "output_type": "display_data"
    },
    {
     "data": {
      "application/vnd.jupyter.widget-view+json": {
       "model_id": "dffc4c66b5d64fe3bab3682009f3b4ab",
       "version_major": 2,
       "version_minor": 0
      },
      "text/plain": [
       "Batches:   0%|          | 0/1 [00:00<?, ?it/s]"
      ]
     },
     "metadata": {},
     "output_type": "display_data"
    },
    {
     "data": {
      "application/vnd.jupyter.widget-view+json": {
       "model_id": "7417fcbd69254ca1b9e313c41669810a",
       "version_major": 2,
       "version_minor": 0
      },
      "text/plain": [
       "Batches:   0%|          | 0/1 [00:00<?, ?it/s]"
      ]
     },
     "metadata": {},
     "output_type": "display_data"
    },
    {
     "data": {
      "application/vnd.jupyter.widget-view+json": {
       "model_id": "ef7b4b019fcb418ab64d6b9fb0f33222",
       "version_major": 2,
       "version_minor": 0
      },
      "text/plain": [
       "Batches:   0%|          | 0/1 [00:00<?, ?it/s]"
      ]
     },
     "metadata": {},
     "output_type": "display_data"
    },
    {
     "data": {
      "application/vnd.jupyter.widget-view+json": {
       "model_id": "5ce5732a4fb441038816b925cf846a1c",
       "version_major": 2,
       "version_minor": 0
      },
      "text/plain": [
       "Batches:   0%|          | 0/1 [00:00<?, ?it/s]"
      ]
     },
     "metadata": {},
     "output_type": "display_data"
    },
    {
     "data": {
      "application/vnd.jupyter.widget-view+json": {
       "model_id": "ef3890b25d414348a93e3d9d8a768c2a",
       "version_major": 2,
       "version_minor": 0
      },
      "text/plain": [
       "Batches:   0%|          | 0/1 [00:00<?, ?it/s]"
      ]
     },
     "metadata": {},
     "output_type": "display_data"
    },
    {
     "data": {
      "application/vnd.jupyter.widget-view+json": {
       "model_id": "506825351e984d0d9c36b1ea5a58aedf",
       "version_major": 2,
       "version_minor": 0
      },
      "text/plain": [
       "Batches:   0%|          | 0/1 [00:00<?, ?it/s]"
      ]
     },
     "metadata": {},
     "output_type": "display_data"
    },
    {
     "data": {
      "application/vnd.jupyter.widget-view+json": {
       "model_id": "0a4f85d677bf48ea8af4b4e7212baab5",
       "version_major": 2,
       "version_minor": 0
      },
      "text/plain": [
       "Batches:   0%|          | 0/1 [00:00<?, ?it/s]"
      ]
     },
     "metadata": {},
     "output_type": "display_data"
    },
    {
     "data": {
      "application/vnd.jupyter.widget-view+json": {
       "model_id": "894fba3a535b4fa0996369e5ae60b0fb",
       "version_major": 2,
       "version_minor": 0
      },
      "text/plain": [
       "Batches:   0%|          | 0/1 [00:00<?, ?it/s]"
      ]
     },
     "metadata": {},
     "output_type": "display_data"
    },
    {
     "data": {
      "application/vnd.jupyter.widget-view+json": {
       "model_id": "995b746ff31e4509b9adc3e9f1e36a59",
       "version_major": 2,
       "version_minor": 0
      },
      "text/plain": [
       "Batches:   0%|          | 0/1 [00:00<?, ?it/s]"
      ]
     },
     "metadata": {},
     "output_type": "display_data"
    },
    {
     "data": {
      "application/vnd.jupyter.widget-view+json": {
       "model_id": "42259928b7e1434ebab83fbdb685e3e0",
       "version_major": 2,
       "version_minor": 0
      },
      "text/plain": [
       "Batches:   0%|          | 0/1 [00:00<?, ?it/s]"
      ]
     },
     "metadata": {},
     "output_type": "display_data"
    },
    {
     "data": {
      "application/vnd.jupyter.widget-view+json": {
       "model_id": "33b1c44015024409970a44d8e44d2443",
       "version_major": 2,
       "version_minor": 0
      },
      "text/plain": [
       "Batches:   0%|          | 0/1 [00:00<?, ?it/s]"
      ]
     },
     "metadata": {},
     "output_type": "display_data"
    },
    {
     "data": {
      "application/vnd.jupyter.widget-view+json": {
       "model_id": "3833e7839e2144b2945729a5bb217251",
       "version_major": 2,
       "version_minor": 0
      },
      "text/plain": [
       "Batches:   0%|          | 0/1 [00:00<?, ?it/s]"
      ]
     },
     "metadata": {},
     "output_type": "display_data"
    },
    {
     "data": {
      "application/vnd.jupyter.widget-view+json": {
       "model_id": "2d53e2940bb44ceabe12b938d72620f5",
       "version_major": 2,
       "version_minor": 0
      },
      "text/plain": [
       "Batches:   0%|          | 0/1 [00:00<?, ?it/s]"
      ]
     },
     "metadata": {},
     "output_type": "display_data"
    },
    {
     "data": {
      "application/vnd.jupyter.widget-view+json": {
       "model_id": "99953a022cbf4beabae367157b161ed0",
       "version_major": 2,
       "version_minor": 0
      },
      "text/plain": [
       "Batches:   0%|          | 0/1 [00:00<?, ?it/s]"
      ]
     },
     "metadata": {},
     "output_type": "display_data"
    },
    {
     "data": {
      "application/vnd.jupyter.widget-view+json": {
       "model_id": "030125301f5b453a8be7a1d65b2ddb58",
       "version_major": 2,
       "version_minor": 0
      },
      "text/plain": [
       "Batches:   0%|          | 0/1 [00:00<?, ?it/s]"
      ]
     },
     "metadata": {},
     "output_type": "display_data"
    },
    {
     "data": {
      "application/vnd.jupyter.widget-view+json": {
       "model_id": "85753daac28d4025b34a42c0e01d20b8",
       "version_major": 2,
       "version_minor": 0
      },
      "text/plain": [
       "Batches:   0%|          | 0/1 [00:00<?, ?it/s]"
      ]
     },
     "metadata": {},
     "output_type": "display_data"
    },
    {
     "data": {
      "application/vnd.jupyter.widget-view+json": {
       "model_id": "d71db4db183d4863a3aa8b7b32436f40",
       "version_major": 2,
       "version_minor": 0
      },
      "text/plain": [
       "Batches:   0%|          | 0/1 [00:00<?, ?it/s]"
      ]
     },
     "metadata": {},
     "output_type": "display_data"
    },
    {
     "data": {
      "application/vnd.jupyter.widget-view+json": {
       "model_id": "9c9b5ba79ac84f95a6a5a38caad03611",
       "version_major": 2,
       "version_minor": 0
      },
      "text/plain": [
       "Batches:   0%|          | 0/1 [00:00<?, ?it/s]"
      ]
     },
     "metadata": {},
     "output_type": "display_data"
    },
    {
     "data": {
      "application/vnd.jupyter.widget-view+json": {
       "model_id": "9b86fcc30acd4342a94f654d66c2b2c5",
       "version_major": 2,
       "version_minor": 0
      },
      "text/plain": [
       "Batches:   0%|          | 0/1 [00:00<?, ?it/s]"
      ]
     },
     "metadata": {},
     "output_type": "display_data"
    },
    {
     "data": {
      "application/vnd.jupyter.widget-view+json": {
       "model_id": "2b90d7972b2749fca1347581d78dcc10",
       "version_major": 2,
       "version_minor": 0
      },
      "text/plain": [
       "Batches:   0%|          | 0/1 [00:00<?, ?it/s]"
      ]
     },
     "metadata": {},
     "output_type": "display_data"
    },
    {
     "data": {
      "application/vnd.jupyter.widget-view+json": {
       "model_id": "9029a7232b65437c82365cc90c783010",
       "version_major": 2,
       "version_minor": 0
      },
      "text/plain": [
       "Batches:   0%|          | 0/1 [00:00<?, ?it/s]"
      ]
     },
     "metadata": {},
     "output_type": "display_data"
    },
    {
     "data": {
      "application/vnd.jupyter.widget-view+json": {
       "model_id": "124da881fec74211a264e5c7acb2334e",
       "version_major": 2,
       "version_minor": 0
      },
      "text/plain": [
       "Batches:   0%|          | 0/1 [00:00<?, ?it/s]"
      ]
     },
     "metadata": {},
     "output_type": "display_data"
    },
    {
     "data": {
      "application/vnd.jupyter.widget-view+json": {
       "model_id": "59b2118bd6054a9493b95f423aa35e5a",
       "version_major": 2,
       "version_minor": 0
      },
      "text/plain": [
       "Batches:   0%|          | 0/1 [00:00<?, ?it/s]"
      ]
     },
     "metadata": {},
     "output_type": "display_data"
    },
    {
     "data": {
      "application/vnd.jupyter.widget-view+json": {
       "model_id": "fad8465bddb04ec5888aab2548decadc",
       "version_major": 2,
       "version_minor": 0
      },
      "text/plain": [
       "Batches:   0%|          | 0/1 [00:00<?, ?it/s]"
      ]
     },
     "metadata": {},
     "output_type": "display_data"
    },
    {
     "data": {
      "application/vnd.jupyter.widget-view+json": {
       "model_id": "6d048f4685a1493caa43ce58b1b130e7",
       "version_major": 2,
       "version_minor": 0
      },
      "text/plain": [
       "Batches:   0%|          | 0/1 [00:00<?, ?it/s]"
      ]
     },
     "metadata": {},
     "output_type": "display_data"
    },
    {
     "data": {
      "application/vnd.jupyter.widget-view+json": {
       "model_id": "112365c9a1c74c3eb4982c52a6b85201",
       "version_major": 2,
       "version_minor": 0
      },
      "text/plain": [
       "Batches:   0%|          | 0/1 [00:00<?, ?it/s]"
      ]
     },
     "metadata": {},
     "output_type": "display_data"
    },
    {
     "data": {
      "application/vnd.jupyter.widget-view+json": {
       "model_id": "0a508bece8914169b91a194cd814b4a7",
       "version_major": 2,
       "version_minor": 0
      },
      "text/plain": [
       "Batches:   0%|          | 0/1 [00:00<?, ?it/s]"
      ]
     },
     "metadata": {},
     "output_type": "display_data"
    },
    {
     "data": {
      "application/vnd.jupyter.widget-view+json": {
       "model_id": "9fb869b3d4e347778da273e3af4f162f",
       "version_major": 2,
       "version_minor": 0
      },
      "text/plain": [
       "Batches:   0%|          | 0/1 [00:00<?, ?it/s]"
      ]
     },
     "metadata": {},
     "output_type": "display_data"
    },
    {
     "data": {
      "application/vnd.jupyter.widget-view+json": {
       "model_id": "52fbc3182ddb486d88a4f011a2224f18",
       "version_major": 2,
       "version_minor": 0
      },
      "text/plain": [
       "Batches:   0%|          | 0/1 [00:00<?, ?it/s]"
      ]
     },
     "metadata": {},
     "output_type": "display_data"
    },
    {
     "data": {
      "application/vnd.jupyter.widget-view+json": {
       "model_id": "f44171325a7246808420683fc2149c43",
       "version_major": 2,
       "version_minor": 0
      },
      "text/plain": [
       "Batches:   0%|          | 0/1 [00:00<?, ?it/s]"
      ]
     },
     "metadata": {},
     "output_type": "display_data"
    },
    {
     "data": {
      "application/vnd.jupyter.widget-view+json": {
       "model_id": "5ab891a4656543bbaff77a644705a06a",
       "version_major": 2,
       "version_minor": 0
      },
      "text/plain": [
       "Batches:   0%|          | 0/1 [00:00<?, ?it/s]"
      ]
     },
     "metadata": {},
     "output_type": "display_data"
    },
    {
     "data": {
      "application/vnd.jupyter.widget-view+json": {
       "model_id": "c163a1b73d8b47bf8e21ef2f99993736",
       "version_major": 2,
       "version_minor": 0
      },
      "text/plain": [
       "Batches:   0%|          | 0/1 [00:00<?, ?it/s]"
      ]
     },
     "metadata": {},
     "output_type": "display_data"
    },
    {
     "data": {
      "application/vnd.jupyter.widget-view+json": {
       "model_id": "035e522bcd0d4789b3a0e831d969891b",
       "version_major": 2,
       "version_minor": 0
      },
      "text/plain": [
       "Batches:   0%|          | 0/1 [00:00<?, ?it/s]"
      ]
     },
     "metadata": {},
     "output_type": "display_data"
    },
    {
     "data": {
      "application/vnd.jupyter.widget-view+json": {
       "model_id": "297faf0b95d040c6969f0267a97bb9b7",
       "version_major": 2,
       "version_minor": 0
      },
      "text/plain": [
       "Batches:   0%|          | 0/1 [00:00<?, ?it/s]"
      ]
     },
     "metadata": {},
     "output_type": "display_data"
    },
    {
     "data": {
      "application/vnd.jupyter.widget-view+json": {
       "model_id": "f375efd029914265b8dc12d02e6bc314",
       "version_major": 2,
       "version_minor": 0
      },
      "text/plain": [
       "Batches:   0%|          | 0/1 [00:00<?, ?it/s]"
      ]
     },
     "metadata": {},
     "output_type": "display_data"
    },
    {
     "data": {
      "application/vnd.jupyter.widget-view+json": {
       "model_id": "85d627d38ad1460e80bcd45f910aa298",
       "version_major": 2,
       "version_minor": 0
      },
      "text/plain": [
       "Batches:   0%|          | 0/1 [00:00<?, ?it/s]"
      ]
     },
     "metadata": {},
     "output_type": "display_data"
    },
    {
     "data": {
      "application/vnd.jupyter.widget-view+json": {
       "model_id": "77841f82227e4a6c805aaf37f5e54e9a",
       "version_major": 2,
       "version_minor": 0
      },
      "text/plain": [
       "Batches:   0%|          | 0/1 [00:00<?, ?it/s]"
      ]
     },
     "metadata": {},
     "output_type": "display_data"
    },
    {
     "data": {
      "application/vnd.jupyter.widget-view+json": {
       "model_id": "a76af171adbd452c9f81da1fe52156b0",
       "version_major": 2,
       "version_minor": 0
      },
      "text/plain": [
       "Batches:   0%|          | 0/1 [00:00<?, ?it/s]"
      ]
     },
     "metadata": {},
     "output_type": "display_data"
    },
    {
     "data": {
      "application/vnd.jupyter.widget-view+json": {
       "model_id": "abbcd36a85b64edd9ed0f52bbade12de",
       "version_major": 2,
       "version_minor": 0
      },
      "text/plain": [
       "Batches:   0%|          | 0/1 [00:00<?, ?it/s]"
      ]
     },
     "metadata": {},
     "output_type": "display_data"
    },
    {
     "data": {
      "application/vnd.jupyter.widget-view+json": {
       "model_id": "47461f12af7f4a4bb19da58e58e5de4a",
       "version_major": 2,
       "version_minor": 0
      },
      "text/plain": [
       "Batches:   0%|          | 0/1 [00:00<?, ?it/s]"
      ]
     },
     "metadata": {},
     "output_type": "display_data"
    },
    {
     "data": {
      "application/vnd.jupyter.widget-view+json": {
       "model_id": "8a90a4d95570489c85dde13170e96406",
       "version_major": 2,
       "version_minor": 0
      },
      "text/plain": [
       "Batches:   0%|          | 0/1 [00:00<?, ?it/s]"
      ]
     },
     "metadata": {},
     "output_type": "display_data"
    },
    {
     "data": {
      "application/vnd.jupyter.widget-view+json": {
       "model_id": "efe7e5333f2e494fb1e708a64ae11116",
       "version_major": 2,
       "version_minor": 0
      },
      "text/plain": [
       "Batches:   0%|          | 0/1 [00:00<?, ?it/s]"
      ]
     },
     "metadata": {},
     "output_type": "display_data"
    },
    {
     "data": {
      "application/vnd.jupyter.widget-view+json": {
       "model_id": "068ca5d3491d4de0ac99e4fe91616507",
       "version_major": 2,
       "version_minor": 0
      },
      "text/plain": [
       "Batches:   0%|          | 0/1 [00:00<?, ?it/s]"
      ]
     },
     "metadata": {},
     "output_type": "display_data"
    },
    {
     "data": {
      "application/vnd.jupyter.widget-view+json": {
       "model_id": "ddc6aa68f7214e18ac3315ab67ecb412",
       "version_major": 2,
       "version_minor": 0
      },
      "text/plain": [
       "Batches:   0%|          | 0/1 [00:00<?, ?it/s]"
      ]
     },
     "metadata": {},
     "output_type": "display_data"
    },
    {
     "data": {
      "application/vnd.jupyter.widget-view+json": {
       "model_id": "0660dbbfebe94f67b7f256b822605a68",
       "version_major": 2,
       "version_minor": 0
      },
      "text/plain": [
       "Batches:   0%|          | 0/1 [00:00<?, ?it/s]"
      ]
     },
     "metadata": {},
     "output_type": "display_data"
    },
    {
     "data": {
      "application/vnd.jupyter.widget-view+json": {
       "model_id": "587c5fbfec3245fca57a0707c508437a",
       "version_major": 2,
       "version_minor": 0
      },
      "text/plain": [
       "Batches:   0%|          | 0/1 [00:00<?, ?it/s]"
      ]
     },
     "metadata": {},
     "output_type": "display_data"
    },
    {
     "data": {
      "application/vnd.jupyter.widget-view+json": {
       "model_id": "d717c97c66a64ccd825586a5165f2e59",
       "version_major": 2,
       "version_minor": 0
      },
      "text/plain": [
       "Batches:   0%|          | 0/1 [00:00<?, ?it/s]"
      ]
     },
     "metadata": {},
     "output_type": "display_data"
    },
    {
     "data": {
      "application/vnd.jupyter.widget-view+json": {
       "model_id": "c9a4b006a797447ab7a199450b16203d",
       "version_major": 2,
       "version_minor": 0
      },
      "text/plain": [
       "Batches:   0%|          | 0/1 [00:00<?, ?it/s]"
      ]
     },
     "metadata": {},
     "output_type": "display_data"
    },
    {
     "data": {
      "application/vnd.jupyter.widget-view+json": {
       "model_id": "049683bff274446d9160609bd8eba577",
       "version_major": 2,
       "version_minor": 0
      },
      "text/plain": [
       "Batches:   0%|          | 0/1 [00:00<?, ?it/s]"
      ]
     },
     "metadata": {},
     "output_type": "display_data"
    },
    {
     "data": {
      "application/vnd.jupyter.widget-view+json": {
       "model_id": "f1a185f80c4b4bf098c47f092cc7ca14",
       "version_major": 2,
       "version_minor": 0
      },
      "text/plain": [
       "Batches:   0%|          | 0/1 [00:00<?, ?it/s]"
      ]
     },
     "metadata": {},
     "output_type": "display_data"
    },
    {
     "data": {
      "application/vnd.jupyter.widget-view+json": {
       "model_id": "4f415745f1d44b43a44196c1277925fe",
       "version_major": 2,
       "version_minor": 0
      },
      "text/plain": [
       "Batches:   0%|          | 0/1 [00:00<?, ?it/s]"
      ]
     },
     "metadata": {},
     "output_type": "display_data"
    },
    {
     "data": {
      "application/vnd.jupyter.widget-view+json": {
       "model_id": "13f80f64d2fd44bc8c792ea190a077c0",
       "version_major": 2,
       "version_minor": 0
      },
      "text/plain": [
       "Batches:   0%|          | 0/1 [00:00<?, ?it/s]"
      ]
     },
     "metadata": {},
     "output_type": "display_data"
    },
    {
     "data": {
      "application/vnd.jupyter.widget-view+json": {
       "model_id": "8d99c150ee52454889b31e71daee2355",
       "version_major": 2,
       "version_minor": 0
      },
      "text/plain": [
       "Batches:   0%|          | 0/1 [00:00<?, ?it/s]"
      ]
     },
     "metadata": {},
     "output_type": "display_data"
    },
    {
     "data": {
      "application/vnd.jupyter.widget-view+json": {
       "model_id": "4275e794fb244550be998e6f135b3caf",
       "version_major": 2,
       "version_minor": 0
      },
      "text/plain": [
       "Batches:   0%|          | 0/1 [00:00<?, ?it/s]"
      ]
     },
     "metadata": {},
     "output_type": "display_data"
    },
    {
     "data": {
      "application/vnd.jupyter.widget-view+json": {
       "model_id": "feca7c4c3e794eee941c0961078db2c0",
       "version_major": 2,
       "version_minor": 0
      },
      "text/plain": [
       "Batches:   0%|          | 0/1 [00:00<?, ?it/s]"
      ]
     },
     "metadata": {},
     "output_type": "display_data"
    },
    {
     "data": {
      "application/vnd.jupyter.widget-view+json": {
       "model_id": "837661900f0845e98f2087567f0fad9f",
       "version_major": 2,
       "version_minor": 0
      },
      "text/plain": [
       "Batches:   0%|          | 0/1 [00:00<?, ?it/s]"
      ]
     },
     "metadata": {},
     "output_type": "display_data"
    },
    {
     "data": {
      "application/vnd.jupyter.widget-view+json": {
       "model_id": "62a34a940dca4e2f80a3e03aef31ab35",
       "version_major": 2,
       "version_minor": 0
      },
      "text/plain": [
       "Batches:   0%|          | 0/1 [00:00<?, ?it/s]"
      ]
     },
     "metadata": {},
     "output_type": "display_data"
    },
    {
     "data": {
      "application/vnd.jupyter.widget-view+json": {
       "model_id": "9424640d1e9e4af2b79007d5d2c7f0be",
       "version_major": 2,
       "version_minor": 0
      },
      "text/plain": [
       "Batches:   0%|          | 0/1 [00:00<?, ?it/s]"
      ]
     },
     "metadata": {},
     "output_type": "display_data"
    },
    {
     "data": {
      "application/vnd.jupyter.widget-view+json": {
       "model_id": "ef132bec824c4b35be20e3dd1fa908eb",
       "version_major": 2,
       "version_minor": 0
      },
      "text/plain": [
       "Batches:   0%|          | 0/1 [00:00<?, ?it/s]"
      ]
     },
     "metadata": {},
     "output_type": "display_data"
    },
    {
     "data": {
      "application/vnd.jupyter.widget-view+json": {
       "model_id": "5d89733c19cd4ee8aa6ca0628291cf76",
       "version_major": 2,
       "version_minor": 0
      },
      "text/plain": [
       "Batches:   0%|          | 0/1 [00:00<?, ?it/s]"
      ]
     },
     "metadata": {},
     "output_type": "display_data"
    },
    {
     "data": {
      "application/vnd.jupyter.widget-view+json": {
       "model_id": "5740309406c444498f0cfb134b76f193",
       "version_major": 2,
       "version_minor": 0
      },
      "text/plain": [
       "Batches:   0%|          | 0/1 [00:00<?, ?it/s]"
      ]
     },
     "metadata": {},
     "output_type": "display_data"
    },
    {
     "data": {
      "application/vnd.jupyter.widget-view+json": {
       "model_id": "d660e030e416416a8840982e0b97df31",
       "version_major": 2,
       "version_minor": 0
      },
      "text/plain": [
       "Batches:   0%|          | 0/1 [00:00<?, ?it/s]"
      ]
     },
     "metadata": {},
     "output_type": "display_data"
    },
    {
     "data": {
      "application/vnd.jupyter.widget-view+json": {
       "model_id": "1c1bf7e3d3a64deea53d84b235512548",
       "version_major": 2,
       "version_minor": 0
      },
      "text/plain": [
       "Batches:   0%|          | 0/1 [00:00<?, ?it/s]"
      ]
     },
     "metadata": {},
     "output_type": "display_data"
    },
    {
     "data": {
      "application/vnd.jupyter.widget-view+json": {
       "model_id": "85291b93416e4569855f2bfa761473ea",
       "version_major": 2,
       "version_minor": 0
      },
      "text/plain": [
       "Batches:   0%|          | 0/1 [00:00<?, ?it/s]"
      ]
     },
     "metadata": {},
     "output_type": "display_data"
    },
    {
     "data": {
      "application/vnd.jupyter.widget-view+json": {
       "model_id": "c25dd473a03e4aef860dd380d300c615",
       "version_major": 2,
       "version_minor": 0
      },
      "text/plain": [
       "Batches:   0%|          | 0/1 [00:00<?, ?it/s]"
      ]
     },
     "metadata": {},
     "output_type": "display_data"
    },
    {
     "data": {
      "application/vnd.jupyter.widget-view+json": {
       "model_id": "34884f395f144e699e2632b92763fff7",
       "version_major": 2,
       "version_minor": 0
      },
      "text/plain": [
       "Batches:   0%|          | 0/1 [00:00<?, ?it/s]"
      ]
     },
     "metadata": {},
     "output_type": "display_data"
    },
    {
     "data": {
      "application/vnd.jupyter.widget-view+json": {
       "model_id": "e2dd8deab3ed4047bfcdce273a743622",
       "version_major": 2,
       "version_minor": 0
      },
      "text/plain": [
       "Batches:   0%|          | 0/1 [00:00<?, ?it/s]"
      ]
     },
     "metadata": {},
     "output_type": "display_data"
    },
    {
     "data": {
      "application/vnd.jupyter.widget-view+json": {
       "model_id": "708a4167a03f46b4b3b058af8a521d58",
       "version_major": 2,
       "version_minor": 0
      },
      "text/plain": [
       "Batches:   0%|          | 0/1 [00:00<?, ?it/s]"
      ]
     },
     "metadata": {},
     "output_type": "display_data"
    },
    {
     "data": {
      "application/vnd.jupyter.widget-view+json": {
       "model_id": "eb62aa5f60714d8199f80605b61aeaed",
       "version_major": 2,
       "version_minor": 0
      },
      "text/plain": [
       "Batches:   0%|          | 0/1 [00:00<?, ?it/s]"
      ]
     },
     "metadata": {},
     "output_type": "display_data"
    },
    {
     "data": {
      "application/vnd.jupyter.widget-view+json": {
       "model_id": "edbcf14a22d44538b19d7f811a08c836",
       "version_major": 2,
       "version_minor": 0
      },
      "text/plain": [
       "Batches:   0%|          | 0/1 [00:00<?, ?it/s]"
      ]
     },
     "metadata": {},
     "output_type": "display_data"
    },
    {
     "data": {
      "application/vnd.jupyter.widget-view+json": {
       "model_id": "a31325bf5aa245a99c59108c56759a48",
       "version_major": 2,
       "version_minor": 0
      },
      "text/plain": [
       "Batches:   0%|          | 0/1 [00:00<?, ?it/s]"
      ]
     },
     "metadata": {},
     "output_type": "display_data"
    },
    {
     "data": {
      "application/vnd.jupyter.widget-view+json": {
       "model_id": "e04a9928937243798a8962e856c30ae9",
       "version_major": 2,
       "version_minor": 0
      },
      "text/plain": [
       "Batches:   0%|          | 0/1 [00:00<?, ?it/s]"
      ]
     },
     "metadata": {},
     "output_type": "display_data"
    },
    {
     "data": {
      "application/vnd.jupyter.widget-view+json": {
       "model_id": "270415c79f414590a72e79897d237c68",
       "version_major": 2,
       "version_minor": 0
      },
      "text/plain": [
       "Batches:   0%|          | 0/1 [00:00<?, ?it/s]"
      ]
     },
     "metadata": {},
     "output_type": "display_data"
    },
    {
     "data": {
      "application/vnd.jupyter.widget-view+json": {
       "model_id": "94db08a95bc24ca699f89182829d9609",
       "version_major": 2,
       "version_minor": 0
      },
      "text/plain": [
       "Batches:   0%|          | 0/1 [00:00<?, ?it/s]"
      ]
     },
     "metadata": {},
     "output_type": "display_data"
    },
    {
     "data": {
      "application/vnd.jupyter.widget-view+json": {
       "model_id": "2efab733cf3342bb8b205c43ee40a6e5",
       "version_major": 2,
       "version_minor": 0
      },
      "text/plain": [
       "Batches:   0%|          | 0/1 [00:00<?, ?it/s]"
      ]
     },
     "metadata": {},
     "output_type": "display_data"
    },
    {
     "data": {
      "application/vnd.jupyter.widget-view+json": {
       "model_id": "d1db22a8485c4b1c9490d8694f6a0206",
       "version_major": 2,
       "version_minor": 0
      },
      "text/plain": [
       "Batches:   0%|          | 0/1 [00:00<?, ?it/s]"
      ]
     },
     "metadata": {},
     "output_type": "display_data"
    },
    {
     "data": {
      "application/vnd.jupyter.widget-view+json": {
       "model_id": "8a0ef388cc8b4e7aa83938a1fd9cc1e6",
       "version_major": 2,
       "version_minor": 0
      },
      "text/plain": [
       "Batches:   0%|          | 0/1 [00:00<?, ?it/s]"
      ]
     },
     "metadata": {},
     "output_type": "display_data"
    },
    {
     "data": {
      "application/vnd.jupyter.widget-view+json": {
       "model_id": "27758b2a5a4f421aa11774ecfaae8203",
       "version_major": 2,
       "version_minor": 0
      },
      "text/plain": [
       "Batches:   0%|          | 0/1 [00:00<?, ?it/s]"
      ]
     },
     "metadata": {},
     "output_type": "display_data"
    },
    {
     "data": {
      "application/vnd.jupyter.widget-view+json": {
       "model_id": "e4bc78ee9a2b42f6a2bf077e3837ad59",
       "version_major": 2,
       "version_minor": 0
      },
      "text/plain": [
       "Batches:   0%|          | 0/1 [00:00<?, ?it/s]"
      ]
     },
     "metadata": {},
     "output_type": "display_data"
    },
    {
     "data": {
      "application/vnd.jupyter.widget-view+json": {
       "model_id": "a4011380f9fb41089599ae5df08d13d4",
       "version_major": 2,
       "version_minor": 0
      },
      "text/plain": [
       "Batches:   0%|          | 0/1 [00:00<?, ?it/s]"
      ]
     },
     "metadata": {},
     "output_type": "display_data"
    },
    {
     "data": {
      "application/vnd.jupyter.widget-view+json": {
       "model_id": "8bca442dfad34dedbd0630a4c6951f93",
       "version_major": 2,
       "version_minor": 0
      },
      "text/plain": [
       "Batches:   0%|          | 0/1 [00:00<?, ?it/s]"
      ]
     },
     "metadata": {},
     "output_type": "display_data"
    },
    {
     "data": {
      "application/vnd.jupyter.widget-view+json": {
       "model_id": "1dbf2c376e2f4b298a14f1f680629830",
       "version_major": 2,
       "version_minor": 0
      },
      "text/plain": [
       "Batches:   0%|          | 0/1 [00:00<?, ?it/s]"
      ]
     },
     "metadata": {},
     "output_type": "display_data"
    },
    {
     "data": {
      "application/vnd.jupyter.widget-view+json": {
       "model_id": "3e5f7b93589644cab2c9229dd10e123d",
       "version_major": 2,
       "version_minor": 0
      },
      "text/plain": [
       "Batches:   0%|          | 0/1 [00:00<?, ?it/s]"
      ]
     },
     "metadata": {},
     "output_type": "display_data"
    },
    {
     "data": {
      "application/vnd.jupyter.widget-view+json": {
       "model_id": "b34918331a1f4e16979f687f832571ea",
       "version_major": 2,
       "version_minor": 0
      },
      "text/plain": [
       "Batches:   0%|          | 0/1 [00:00<?, ?it/s]"
      ]
     },
     "metadata": {},
     "output_type": "display_data"
    },
    {
     "data": {
      "application/vnd.jupyter.widget-view+json": {
       "model_id": "c89a7cadacc04b64a90591f53e071d0d",
       "version_major": 2,
       "version_minor": 0
      },
      "text/plain": [
       "Batches:   0%|          | 0/1 [00:00<?, ?it/s]"
      ]
     },
     "metadata": {},
     "output_type": "display_data"
    },
    {
     "data": {
      "application/vnd.jupyter.widget-view+json": {
       "model_id": "7d7aa3e8435346e5b32d3abed5f06385",
       "version_major": 2,
       "version_minor": 0
      },
      "text/plain": [
       "Batches:   0%|          | 0/1 [00:00<?, ?it/s]"
      ]
     },
     "metadata": {},
     "output_type": "display_data"
    },
    {
     "data": {
      "application/vnd.jupyter.widget-view+json": {
       "model_id": "9b1f00bde1444560b0467fb1cba94241",
       "version_major": 2,
       "version_minor": 0
      },
      "text/plain": [
       "Batches:   0%|          | 0/1 [00:00<?, ?it/s]"
      ]
     },
     "metadata": {},
     "output_type": "display_data"
    },
    {
     "data": {
      "application/vnd.jupyter.widget-view+json": {
       "model_id": "d191964f85614af6a9f8a96374cd0597",
       "version_major": 2,
       "version_minor": 0
      },
      "text/plain": [
       "Batches:   0%|          | 0/1 [00:00<?, ?it/s]"
      ]
     },
     "metadata": {},
     "output_type": "display_data"
    },
    {
     "data": {
      "application/vnd.jupyter.widget-view+json": {
       "model_id": "d4f63cc968b7405ba147ab4e51937f45",
       "version_major": 2,
       "version_minor": 0
      },
      "text/plain": [
       "Batches:   0%|          | 0/1 [00:00<?, ?it/s]"
      ]
     },
     "metadata": {},
     "output_type": "display_data"
    },
    {
     "data": {
      "application/vnd.jupyter.widget-view+json": {
       "model_id": "c86176c51e664b4d88ffc3681cf4ce5d",
       "version_major": 2,
       "version_minor": 0
      },
      "text/plain": [
       "Batches:   0%|          | 0/1 [00:00<?, ?it/s]"
      ]
     },
     "metadata": {},
     "output_type": "display_data"
    },
    {
     "data": {
      "application/vnd.jupyter.widget-view+json": {
       "model_id": "55efe426eb814b6b99907f826eadf42e",
       "version_major": 2,
       "version_minor": 0
      },
      "text/plain": [
       "Batches:   0%|          | 0/1 [00:00<?, ?it/s]"
      ]
     },
     "metadata": {},
     "output_type": "display_data"
    },
    {
     "data": {
      "application/vnd.jupyter.widget-view+json": {
       "model_id": "0d9af6ef05dd448d9dd06030b87d6404",
       "version_major": 2,
       "version_minor": 0
      },
      "text/plain": [
       "Batches:   0%|          | 0/1 [00:00<?, ?it/s]"
      ]
     },
     "metadata": {},
     "output_type": "display_data"
    },
    {
     "data": {
      "application/vnd.jupyter.widget-view+json": {
       "model_id": "78fc14bbb018436f8632b592d15e1ce1",
       "version_major": 2,
       "version_minor": 0
      },
      "text/plain": [
       "Batches:   0%|          | 0/1 [00:00<?, ?it/s]"
      ]
     },
     "metadata": {},
     "output_type": "display_data"
    },
    {
     "data": {
      "application/vnd.jupyter.widget-view+json": {
       "model_id": "b4f5f135fb9a4bd19f0c06956db553dd",
       "version_major": 2,
       "version_minor": 0
      },
      "text/plain": [
       "Batches:   0%|          | 0/1 [00:00<?, ?it/s]"
      ]
     },
     "metadata": {},
     "output_type": "display_data"
    },
    {
     "data": {
      "application/vnd.jupyter.widget-view+json": {
       "model_id": "9e8554daefcb4d7695da8e507eedb5ba",
       "version_major": 2,
       "version_minor": 0
      },
      "text/plain": [
       "Batches:   0%|          | 0/1 [00:00<?, ?it/s]"
      ]
     },
     "metadata": {},
     "output_type": "display_data"
    },
    {
     "data": {
      "application/vnd.jupyter.widget-view+json": {
       "model_id": "8bb9893d97ea4d77bd164b6cb32aab8a",
       "version_major": 2,
       "version_minor": 0
      },
      "text/plain": [
       "Batches:   0%|          | 0/1 [00:00<?, ?it/s]"
      ]
     },
     "metadata": {},
     "output_type": "display_data"
    },
    {
     "data": {
      "application/vnd.jupyter.widget-view+json": {
       "model_id": "675341b5c8284b5b8db56043a39b2233",
       "version_major": 2,
       "version_minor": 0
      },
      "text/plain": [
       "Batches:   0%|          | 0/1 [00:00<?, ?it/s]"
      ]
     },
     "metadata": {},
     "output_type": "display_data"
    },
    {
     "data": {
      "application/vnd.jupyter.widget-view+json": {
       "model_id": "7128d4e9ff3d4a98a25eea722f61db9c",
       "version_major": 2,
       "version_minor": 0
      },
      "text/plain": [
       "Batches:   0%|          | 0/1 [00:00<?, ?it/s]"
      ]
     },
     "metadata": {},
     "output_type": "display_data"
    },
    {
     "data": {
      "application/vnd.jupyter.widget-view+json": {
       "model_id": "841ec4ff4d8a4a6d8db3a35cfd493a72",
       "version_major": 2,
       "version_minor": 0
      },
      "text/plain": [
       "Batches:   0%|          | 0/1 [00:00<?, ?it/s]"
      ]
     },
     "metadata": {},
     "output_type": "display_data"
    },
    {
     "data": {
      "application/vnd.jupyter.widget-view+json": {
       "model_id": "d14823440ac14297a7ecf6f2e3f941c6",
       "version_major": 2,
       "version_minor": 0
      },
      "text/plain": [
       "Batches:   0%|          | 0/1 [00:00<?, ?it/s]"
      ]
     },
     "metadata": {},
     "output_type": "display_data"
    },
    {
     "data": {
      "application/vnd.jupyter.widget-view+json": {
       "model_id": "ec8576b46c124e1d9202f2262256d7c2",
       "version_major": 2,
       "version_minor": 0
      },
      "text/plain": [
       "Batches:   0%|          | 0/1 [00:00<?, ?it/s]"
      ]
     },
     "metadata": {},
     "output_type": "display_data"
    },
    {
     "data": {
      "application/vnd.jupyter.widget-view+json": {
       "model_id": "982f23a7e69e4331890d4c1681446831",
       "version_major": 2,
       "version_minor": 0
      },
      "text/plain": [
       "Batches:   0%|          | 0/1 [00:00<?, ?it/s]"
      ]
     },
     "metadata": {},
     "output_type": "display_data"
    },
    {
     "data": {
      "application/vnd.jupyter.widget-view+json": {
       "model_id": "527890bf997c4ed4b8ae0fad54cf324a",
       "version_major": 2,
       "version_minor": 0
      },
      "text/plain": [
       "Batches:   0%|          | 0/1 [00:00<?, ?it/s]"
      ]
     },
     "metadata": {},
     "output_type": "display_data"
    },
    {
     "data": {
      "application/vnd.jupyter.widget-view+json": {
       "model_id": "6964dde658354717b4e9cdad57d67130",
       "version_major": 2,
       "version_minor": 0
      },
      "text/plain": [
       "Batches:   0%|          | 0/1 [00:00<?, ?it/s]"
      ]
     },
     "metadata": {},
     "output_type": "display_data"
    },
    {
     "data": {
      "application/vnd.jupyter.widget-view+json": {
       "model_id": "1e39c31ea97a4238851dcdb8e624193f",
       "version_major": 2,
       "version_minor": 0
      },
      "text/plain": [
       "Batches:   0%|          | 0/1 [00:00<?, ?it/s]"
      ]
     },
     "metadata": {},
     "output_type": "display_data"
    },
    {
     "data": {
      "application/vnd.jupyter.widget-view+json": {
       "model_id": "9f60d710c0964ab584f7009707d47686",
       "version_major": 2,
       "version_minor": 0
      },
      "text/plain": [
       "Batches:   0%|          | 0/1 [00:00<?, ?it/s]"
      ]
     },
     "metadata": {},
     "output_type": "display_data"
    },
    {
     "data": {
      "application/vnd.jupyter.widget-view+json": {
       "model_id": "a5e36c62bc1b49b69866c2aa5a231792",
       "version_major": 2,
       "version_minor": 0
      },
      "text/plain": [
       "Batches:   0%|          | 0/1 [00:00<?, ?it/s]"
      ]
     },
     "metadata": {},
     "output_type": "display_data"
    },
    {
     "data": {
      "application/vnd.jupyter.widget-view+json": {
       "model_id": "f1419fc7dd66415aac1b7bf5b05a3707",
       "version_major": 2,
       "version_minor": 0
      },
      "text/plain": [
       "Batches:   0%|          | 0/1 [00:00<?, ?it/s]"
      ]
     },
     "metadata": {},
     "output_type": "display_data"
    },
    {
     "data": {
      "application/vnd.jupyter.widget-view+json": {
       "model_id": "7713033f5c284541a6b78575ae6e165a",
       "version_major": 2,
       "version_minor": 0
      },
      "text/plain": [
       "Batches:   0%|          | 0/1 [00:00<?, ?it/s]"
      ]
     },
     "metadata": {},
     "output_type": "display_data"
    },
    {
     "data": {
      "application/vnd.jupyter.widget-view+json": {
       "model_id": "c2149fafa034413faeb97f865521f607",
       "version_major": 2,
       "version_minor": 0
      },
      "text/plain": [
       "Batches:   0%|          | 0/1 [00:00<?, ?it/s]"
      ]
     },
     "metadata": {},
     "output_type": "display_data"
    },
    {
     "data": {
      "application/vnd.jupyter.widget-view+json": {
       "model_id": "c8f2f72155ac410397a5e984743c9065",
       "version_major": 2,
       "version_minor": 0
      },
      "text/plain": [
       "Batches:   0%|          | 0/1 [00:00<?, ?it/s]"
      ]
     },
     "metadata": {},
     "output_type": "display_data"
    },
    {
     "data": {
      "application/vnd.jupyter.widget-view+json": {
       "model_id": "d75f8def8daf49e49348f93a66e45f13",
       "version_major": 2,
       "version_minor": 0
      },
      "text/plain": [
       "Batches:   0%|          | 0/1 [00:00<?, ?it/s]"
      ]
     },
     "metadata": {},
     "output_type": "display_data"
    },
    {
     "data": {
      "application/vnd.jupyter.widget-view+json": {
       "model_id": "4ba59502bbfa42c99925a1691514bdb2",
       "version_major": 2,
       "version_minor": 0
      },
      "text/plain": [
       "Batches:   0%|          | 0/1 [00:00<?, ?it/s]"
      ]
     },
     "metadata": {},
     "output_type": "display_data"
    },
    {
     "data": {
      "application/vnd.jupyter.widget-view+json": {
       "model_id": "a2da85dec8a34badab35c0cb4d2c7abe",
       "version_major": 2,
       "version_minor": 0
      },
      "text/plain": [
       "Batches:   0%|          | 0/1 [00:00<?, ?it/s]"
      ]
     },
     "metadata": {},
     "output_type": "display_data"
    },
    {
     "data": {
      "application/vnd.jupyter.widget-view+json": {
       "model_id": "95543c51ab1e4416b5900786a8b43355",
       "version_major": 2,
       "version_minor": 0
      },
      "text/plain": [
       "Batches:   0%|          | 0/1 [00:00<?, ?it/s]"
      ]
     },
     "metadata": {},
     "output_type": "display_data"
    },
    {
     "data": {
      "application/vnd.jupyter.widget-view+json": {
       "model_id": "0fdacc6d86374e4bba5b1edc8b0d3ee0",
       "version_major": 2,
       "version_minor": 0
      },
      "text/plain": [
       "Batches:   0%|          | 0/1 [00:00<?, ?it/s]"
      ]
     },
     "metadata": {},
     "output_type": "display_data"
    },
    {
     "data": {
      "application/vnd.jupyter.widget-view+json": {
       "model_id": "b7725326c8d24e5f9900e2ef828956b3",
       "version_major": 2,
       "version_minor": 0
      },
      "text/plain": [
       "Batches:   0%|          | 0/1 [00:00<?, ?it/s]"
      ]
     },
     "metadata": {},
     "output_type": "display_data"
    },
    {
     "data": {
      "application/vnd.jupyter.widget-view+json": {
       "model_id": "d2dad07ef65847ceb30cd4a1be109717",
       "version_major": 2,
       "version_minor": 0
      },
      "text/plain": [
       "Batches:   0%|          | 0/1 [00:00<?, ?it/s]"
      ]
     },
     "metadata": {},
     "output_type": "display_data"
    },
    {
     "data": {
      "application/vnd.jupyter.widget-view+json": {
       "model_id": "50a98be3e886461bb11d62697f99a5ca",
       "version_major": 2,
       "version_minor": 0
      },
      "text/plain": [
       "Batches:   0%|          | 0/1 [00:00<?, ?it/s]"
      ]
     },
     "metadata": {},
     "output_type": "display_data"
    },
    {
     "data": {
      "application/vnd.jupyter.widget-view+json": {
       "model_id": "79c83dc1c21a4f8db194f01d73d12982",
       "version_major": 2,
       "version_minor": 0
      },
      "text/plain": [
       "Batches:   0%|          | 0/1 [00:00<?, ?it/s]"
      ]
     },
     "metadata": {},
     "output_type": "display_data"
    },
    {
     "data": {
      "application/vnd.jupyter.widget-view+json": {
       "model_id": "aec829c8a62742cdaa8bafe28da5a3a9",
       "version_major": 2,
       "version_minor": 0
      },
      "text/plain": [
       "Batches:   0%|          | 0/1 [00:00<?, ?it/s]"
      ]
     },
     "metadata": {},
     "output_type": "display_data"
    },
    {
     "data": {
      "application/vnd.jupyter.widget-view+json": {
       "model_id": "72c79e30c6104c7684cf08c8914df57b",
       "version_major": 2,
       "version_minor": 0
      },
      "text/plain": [
       "Batches:   0%|          | 0/1 [00:00<?, ?it/s]"
      ]
     },
     "metadata": {},
     "output_type": "display_data"
    },
    {
     "data": {
      "application/vnd.jupyter.widget-view+json": {
       "model_id": "111640854a064397b61f3aa7138990c2",
       "version_major": 2,
       "version_minor": 0
      },
      "text/plain": [
       "Batches:   0%|          | 0/1 [00:00<?, ?it/s]"
      ]
     },
     "metadata": {},
     "output_type": "display_data"
    },
    {
     "data": {
      "application/vnd.jupyter.widget-view+json": {
       "model_id": "add294c771a04733a17cfdaf96c072b7",
       "version_major": 2,
       "version_minor": 0
      },
      "text/plain": [
       "Batches:   0%|          | 0/1 [00:00<?, ?it/s]"
      ]
     },
     "metadata": {},
     "output_type": "display_data"
    },
    {
     "data": {
      "application/vnd.jupyter.widget-view+json": {
       "model_id": "deb66600c4104616a4548fed5120fa04",
       "version_major": 2,
       "version_minor": 0
      },
      "text/plain": [
       "Batches:   0%|          | 0/1 [00:00<?, ?it/s]"
      ]
     },
     "metadata": {},
     "output_type": "display_data"
    },
    {
     "data": {
      "application/vnd.jupyter.widget-view+json": {
       "model_id": "cb6d257c4b7844ee809d7a804295697c",
       "version_major": 2,
       "version_minor": 0
      },
      "text/plain": [
       "Batches:   0%|          | 0/1 [00:00<?, ?it/s]"
      ]
     },
     "metadata": {},
     "output_type": "display_data"
    },
    {
     "data": {
      "application/vnd.jupyter.widget-view+json": {
       "model_id": "30cf032af1784d5e9a376da0aa2adfa7",
       "version_major": 2,
       "version_minor": 0
      },
      "text/plain": [
       "Batches:   0%|          | 0/1 [00:00<?, ?it/s]"
      ]
     },
     "metadata": {},
     "output_type": "display_data"
    },
    {
     "data": {
      "application/vnd.jupyter.widget-view+json": {
       "model_id": "0d5f2c31ed394c2c816bae0d500e14d9",
       "version_major": 2,
       "version_minor": 0
      },
      "text/plain": [
       "Batches:   0%|          | 0/1 [00:00<?, ?it/s]"
      ]
     },
     "metadata": {},
     "output_type": "display_data"
    },
    {
     "data": {
      "application/vnd.jupyter.widget-view+json": {
       "model_id": "e61e9d2aee7c4f79bb5d25c1ea34bda1",
       "version_major": 2,
       "version_minor": 0
      },
      "text/plain": [
       "Batches:   0%|          | 0/1 [00:00<?, ?it/s]"
      ]
     },
     "metadata": {},
     "output_type": "display_data"
    },
    {
     "data": {
      "application/vnd.jupyter.widget-view+json": {
       "model_id": "8a79519f032e49c681858a7267c3558d",
       "version_major": 2,
       "version_minor": 0
      },
      "text/plain": [
       "Batches:   0%|          | 0/1 [00:00<?, ?it/s]"
      ]
     },
     "metadata": {},
     "output_type": "display_data"
    },
    {
     "data": {
      "application/vnd.jupyter.widget-view+json": {
       "model_id": "c876f2d813984fa8a408f53f7648c7b3",
       "version_major": 2,
       "version_minor": 0
      },
      "text/plain": [
       "Batches:   0%|          | 0/1 [00:00<?, ?it/s]"
      ]
     },
     "metadata": {},
     "output_type": "display_data"
    },
    {
     "data": {
      "application/vnd.jupyter.widget-view+json": {
       "model_id": "e62ec7ef4bfa46559244047b5b8f4045",
       "version_major": 2,
       "version_minor": 0
      },
      "text/plain": [
       "Batches:   0%|          | 0/1 [00:00<?, ?it/s]"
      ]
     },
     "metadata": {},
     "output_type": "display_data"
    },
    {
     "data": {
      "application/vnd.jupyter.widget-view+json": {
       "model_id": "b0c60c1e549d44a2bf2f613d503b83b2",
       "version_major": 2,
       "version_minor": 0
      },
      "text/plain": [
       "Batches:   0%|          | 0/1 [00:00<?, ?it/s]"
      ]
     },
     "metadata": {},
     "output_type": "display_data"
    },
    {
     "data": {
      "application/vnd.jupyter.widget-view+json": {
       "model_id": "46bee59072204f12b41000e6efca4b7b",
       "version_major": 2,
       "version_minor": 0
      },
      "text/plain": [
       "Batches:   0%|          | 0/1 [00:00<?, ?it/s]"
      ]
     },
     "metadata": {},
     "output_type": "display_data"
    },
    {
     "data": {
      "application/vnd.jupyter.widget-view+json": {
       "model_id": "44dd1650f59944718017e3fb4a0cadbf",
       "version_major": 2,
       "version_minor": 0
      },
      "text/plain": [
       "Batches:   0%|          | 0/1 [00:00<?, ?it/s]"
      ]
     },
     "metadata": {},
     "output_type": "display_data"
    },
    {
     "data": {
      "application/vnd.jupyter.widget-view+json": {
       "model_id": "b2437bfa616b49e1aa2591b96a84ad07",
       "version_major": 2,
       "version_minor": 0
      },
      "text/plain": [
       "Batches:   0%|          | 0/1 [00:00<?, ?it/s]"
      ]
     },
     "metadata": {},
     "output_type": "display_data"
    },
    {
     "data": {
      "application/vnd.jupyter.widget-view+json": {
       "model_id": "8ad183146f3748608f8003d67ae0e469",
       "version_major": 2,
       "version_minor": 0
      },
      "text/plain": [
       "Batches:   0%|          | 0/1 [00:00<?, ?it/s]"
      ]
     },
     "metadata": {},
     "output_type": "display_data"
    },
    {
     "data": {
      "application/vnd.jupyter.widget-view+json": {
       "model_id": "d568e9fab6f648cbb56b1b843b78e187",
       "version_major": 2,
       "version_minor": 0
      },
      "text/plain": [
       "Batches:   0%|          | 0/1 [00:00<?, ?it/s]"
      ]
     },
     "metadata": {},
     "output_type": "display_data"
    },
    {
     "data": {
      "application/vnd.jupyter.widget-view+json": {
       "model_id": "dffcd091fff14c43946e44d24be5ad95",
       "version_major": 2,
       "version_minor": 0
      },
      "text/plain": [
       "Batches:   0%|          | 0/1 [00:00<?, ?it/s]"
      ]
     },
     "metadata": {},
     "output_type": "display_data"
    },
    {
     "data": {
      "application/vnd.jupyter.widget-view+json": {
       "model_id": "7a548e1738fc4925b7f353c3bac6f013",
       "version_major": 2,
       "version_minor": 0
      },
      "text/plain": [
       "Batches:   0%|          | 0/1 [00:00<?, ?it/s]"
      ]
     },
     "metadata": {},
     "output_type": "display_data"
    },
    {
     "data": {
      "application/vnd.jupyter.widget-view+json": {
       "model_id": "9671ff482888477fa9839872d11d93c4",
       "version_major": 2,
       "version_minor": 0
      },
      "text/plain": [
       "Batches:   0%|          | 0/1 [00:00<?, ?it/s]"
      ]
     },
     "metadata": {},
     "output_type": "display_data"
    },
    {
     "data": {
      "application/vnd.jupyter.widget-view+json": {
       "model_id": "d05fd5ba8879423a8d8bfd340608d619",
       "version_major": 2,
       "version_minor": 0
      },
      "text/plain": [
       "Batches:   0%|          | 0/1 [00:00<?, ?it/s]"
      ]
     },
     "metadata": {},
     "output_type": "display_data"
    },
    {
     "data": {
      "application/vnd.jupyter.widget-view+json": {
       "model_id": "78754a1c25784f8194d17171cd45a053",
       "version_major": 2,
       "version_minor": 0
      },
      "text/plain": [
       "Batches:   0%|          | 0/1 [00:00<?, ?it/s]"
      ]
     },
     "metadata": {},
     "output_type": "display_data"
    },
    {
     "data": {
      "application/vnd.jupyter.widget-view+json": {
       "model_id": "9eb045eff4ca43f8a3b97b8f1670fe46",
       "version_major": 2,
       "version_minor": 0
      },
      "text/plain": [
       "Batches:   0%|          | 0/1 [00:00<?, ?it/s]"
      ]
     },
     "metadata": {},
     "output_type": "display_data"
    },
    {
     "data": {
      "application/vnd.jupyter.widget-view+json": {
       "model_id": "ff6034a48278428e94116e51e169f949",
       "version_major": 2,
       "version_minor": 0
      },
      "text/plain": [
       "Batches:   0%|          | 0/1 [00:00<?, ?it/s]"
      ]
     },
     "metadata": {},
     "output_type": "display_data"
    },
    {
     "data": {
      "application/vnd.jupyter.widget-view+json": {
       "model_id": "8227f65b9257457e898c0bfec4be7cce",
       "version_major": 2,
       "version_minor": 0
      },
      "text/plain": [
       "Batches:   0%|          | 0/1 [00:00<?, ?it/s]"
      ]
     },
     "metadata": {},
     "output_type": "display_data"
    },
    {
     "data": {
      "application/vnd.jupyter.widget-view+json": {
       "model_id": "b1679e5ab5ca4702bb5c7cb826e1e8b6",
       "version_major": 2,
       "version_minor": 0
      },
      "text/plain": [
       "Batches:   0%|          | 0/1 [00:00<?, ?it/s]"
      ]
     },
     "metadata": {},
     "output_type": "display_data"
    },
    {
     "data": {
      "application/vnd.jupyter.widget-view+json": {
       "model_id": "c89dc9a1daa848f394382c66bee3efdf",
       "version_major": 2,
       "version_minor": 0
      },
      "text/plain": [
       "Batches:   0%|          | 0/1 [00:00<?, ?it/s]"
      ]
     },
     "metadata": {},
     "output_type": "display_data"
    },
    {
     "data": {
      "application/vnd.jupyter.widget-view+json": {
       "model_id": "cd12b7df90374e3aa572aa04aa208d3b",
       "version_major": 2,
       "version_minor": 0
      },
      "text/plain": [
       "Batches:   0%|          | 0/1 [00:00<?, ?it/s]"
      ]
     },
     "metadata": {},
     "output_type": "display_data"
    },
    {
     "data": {
      "application/vnd.jupyter.widget-view+json": {
       "model_id": "06ef929a6062458990fa14f581294283",
       "version_major": 2,
       "version_minor": 0
      },
      "text/plain": [
       "Batches:   0%|          | 0/1 [00:00<?, ?it/s]"
      ]
     },
     "metadata": {},
     "output_type": "display_data"
    },
    {
     "data": {
      "application/vnd.jupyter.widget-view+json": {
       "model_id": "dfdd5358b8c74baaaee079ef7b9e85f7",
       "version_major": 2,
       "version_minor": 0
      },
      "text/plain": [
       "Batches:   0%|          | 0/1 [00:00<?, ?it/s]"
      ]
     },
     "metadata": {},
     "output_type": "display_data"
    },
    {
     "data": {
      "application/vnd.jupyter.widget-view+json": {
       "model_id": "dca05afca51b45e6bf0788352662f8da",
       "version_major": 2,
       "version_minor": 0
      },
      "text/plain": [
       "Batches:   0%|          | 0/1 [00:00<?, ?it/s]"
      ]
     },
     "metadata": {},
     "output_type": "display_data"
    },
    {
     "data": {
      "application/vnd.jupyter.widget-view+json": {
       "model_id": "110600226c7242bf8226369a3039d8d8",
       "version_major": 2,
       "version_minor": 0
      },
      "text/plain": [
       "Batches:   0%|          | 0/1 [00:00<?, ?it/s]"
      ]
     },
     "metadata": {},
     "output_type": "display_data"
    },
    {
     "data": {
      "application/vnd.jupyter.widget-view+json": {
       "model_id": "c5f4abcc25e74539b3d154059b48e2a6",
       "version_major": 2,
       "version_minor": 0
      },
      "text/plain": [
       "Batches:   0%|          | 0/1 [00:00<?, ?it/s]"
      ]
     },
     "metadata": {},
     "output_type": "display_data"
    },
    {
     "data": {
      "application/vnd.jupyter.widget-view+json": {
       "model_id": "db96927241ad45d8b7450ab14bfb1c0e",
       "version_major": 2,
       "version_minor": 0
      },
      "text/plain": [
       "Batches:   0%|          | 0/1 [00:00<?, ?it/s]"
      ]
     },
     "metadata": {},
     "output_type": "display_data"
    },
    {
     "data": {
      "application/vnd.jupyter.widget-view+json": {
       "model_id": "dafca2a64a224e548e887da06d510b16",
       "version_major": 2,
       "version_minor": 0
      },
      "text/plain": [
       "Batches:   0%|          | 0/1 [00:00<?, ?it/s]"
      ]
     },
     "metadata": {},
     "output_type": "display_data"
    },
    {
     "data": {
      "application/vnd.jupyter.widget-view+json": {
       "model_id": "94eeb2519369412ea172e00d4f545a5b",
       "version_major": 2,
       "version_minor": 0
      },
      "text/plain": [
       "Batches:   0%|          | 0/1 [00:00<?, ?it/s]"
      ]
     },
     "metadata": {},
     "output_type": "display_data"
    },
    {
     "data": {
      "application/vnd.jupyter.widget-view+json": {
       "model_id": "7141e3357ace48ffbd9bf7972f0e5028",
       "version_major": 2,
       "version_minor": 0
      },
      "text/plain": [
       "Batches:   0%|          | 0/1 [00:00<?, ?it/s]"
      ]
     },
     "metadata": {},
     "output_type": "display_data"
    },
    {
     "data": {
      "application/vnd.jupyter.widget-view+json": {
       "model_id": "68c6002ff17c4b758d6846564ce77114",
       "version_major": 2,
       "version_minor": 0
      },
      "text/plain": [
       "Batches:   0%|          | 0/1 [00:00<?, ?it/s]"
      ]
     },
     "metadata": {},
     "output_type": "display_data"
    },
    {
     "data": {
      "application/vnd.jupyter.widget-view+json": {
       "model_id": "1dd6c9807d2d4e40af31226260bc3768",
       "version_major": 2,
       "version_minor": 0
      },
      "text/plain": [
       "Batches:   0%|          | 0/1 [00:00<?, ?it/s]"
      ]
     },
     "metadata": {},
     "output_type": "display_data"
    },
    {
     "data": {
      "application/vnd.jupyter.widget-view+json": {
       "model_id": "0cba761b12ca46aebe7d50d53f06fb39",
       "version_major": 2,
       "version_minor": 0
      },
      "text/plain": [
       "Batches:   0%|          | 0/1 [00:00<?, ?it/s]"
      ]
     },
     "metadata": {},
     "output_type": "display_data"
    },
    {
     "data": {
      "application/vnd.jupyter.widget-view+json": {
       "model_id": "3e7efe11a1494fd6866aa16db7d8b3b8",
       "version_major": 2,
       "version_minor": 0
      },
      "text/plain": [
       "Batches:   0%|          | 0/1 [00:00<?, ?it/s]"
      ]
     },
     "metadata": {},
     "output_type": "display_data"
    },
    {
     "data": {
      "application/vnd.jupyter.widget-view+json": {
       "model_id": "dd939036709845e6813c40183df72f43",
       "version_major": 2,
       "version_minor": 0
      },
      "text/plain": [
       "Batches:   0%|          | 0/1 [00:00<?, ?it/s]"
      ]
     },
     "metadata": {},
     "output_type": "display_data"
    },
    {
     "data": {
      "application/vnd.jupyter.widget-view+json": {
       "model_id": "3ed9822f8862417da80378ee1613fc02",
       "version_major": 2,
       "version_minor": 0
      },
      "text/plain": [
       "Batches:   0%|          | 0/1 [00:00<?, ?it/s]"
      ]
     },
     "metadata": {},
     "output_type": "display_data"
    },
    {
     "data": {
      "application/vnd.jupyter.widget-view+json": {
       "model_id": "820b91d69eda4b1ba0f1d330f0f27171",
       "version_major": 2,
       "version_minor": 0
      },
      "text/plain": [
       "Batches:   0%|          | 0/1 [00:00<?, ?it/s]"
      ]
     },
     "metadata": {},
     "output_type": "display_data"
    },
    {
     "data": {
      "application/vnd.jupyter.widget-view+json": {
       "model_id": "cc4f2796a6ca49f88e25fa41c1fc4d4d",
       "version_major": 2,
       "version_minor": 0
      },
      "text/plain": [
       "Batches:   0%|          | 0/1 [00:00<?, ?it/s]"
      ]
     },
     "metadata": {},
     "output_type": "display_data"
    },
    {
     "data": {
      "application/vnd.jupyter.widget-view+json": {
       "model_id": "d05dd9ed3c404eb4a1f1521eac4cb3ca",
       "version_major": 2,
       "version_minor": 0
      },
      "text/plain": [
       "Batches:   0%|          | 0/1 [00:00<?, ?it/s]"
      ]
     },
     "metadata": {},
     "output_type": "display_data"
    },
    {
     "data": {
      "application/vnd.jupyter.widget-view+json": {
       "model_id": "8c5f4fe57a2b454abda92562d2adda43",
       "version_major": 2,
       "version_minor": 0
      },
      "text/plain": [
       "Batches:   0%|          | 0/1 [00:00<?, ?it/s]"
      ]
     },
     "metadata": {},
     "output_type": "display_data"
    },
    {
     "data": {
      "application/vnd.jupyter.widget-view+json": {
       "model_id": "df3a5a2beb144499a92dd329fb91b098",
       "version_major": 2,
       "version_minor": 0
      },
      "text/plain": [
       "Batches:   0%|          | 0/1 [00:00<?, ?it/s]"
      ]
     },
     "metadata": {},
     "output_type": "display_data"
    },
    {
     "data": {
      "application/vnd.jupyter.widget-view+json": {
       "model_id": "7084e3863f10463aac21ff2872671d41",
       "version_major": 2,
       "version_minor": 0
      },
      "text/plain": [
       "Batches:   0%|          | 0/1 [00:00<?, ?it/s]"
      ]
     },
     "metadata": {},
     "output_type": "display_data"
    },
    {
     "data": {
      "application/vnd.jupyter.widget-view+json": {
       "model_id": "b79e436693014381ac97b08dc23355d8",
       "version_major": 2,
       "version_minor": 0
      },
      "text/plain": [
       "Batches:   0%|          | 0/1 [00:00<?, ?it/s]"
      ]
     },
     "metadata": {},
     "output_type": "display_data"
    },
    {
     "data": {
      "application/vnd.jupyter.widget-view+json": {
       "model_id": "3c856b31f2ff47c08e3625170e1ef412",
       "version_major": 2,
       "version_minor": 0
      },
      "text/plain": [
       "Batches:   0%|          | 0/1 [00:00<?, ?it/s]"
      ]
     },
     "metadata": {},
     "output_type": "display_data"
    },
    {
     "data": {
      "application/vnd.jupyter.widget-view+json": {
       "model_id": "bccccd36df7546998a87cf7507dab6d9",
       "version_major": 2,
       "version_minor": 0
      },
      "text/plain": [
       "Batches:   0%|          | 0/1 [00:00<?, ?it/s]"
      ]
     },
     "metadata": {},
     "output_type": "display_data"
    },
    {
     "data": {
      "application/vnd.jupyter.widget-view+json": {
       "model_id": "16aa4220c26842dda868a4ab64bcea00",
       "version_major": 2,
       "version_minor": 0
      },
      "text/plain": [
       "Batches:   0%|          | 0/1 [00:00<?, ?it/s]"
      ]
     },
     "metadata": {},
     "output_type": "display_data"
    },
    {
     "data": {
      "application/vnd.jupyter.widget-view+json": {
       "model_id": "77fa3e4fd13846818f59310cd0f458c7",
       "version_major": 2,
       "version_minor": 0
      },
      "text/plain": [
       "Batches:   0%|          | 0/1 [00:00<?, ?it/s]"
      ]
     },
     "metadata": {},
     "output_type": "display_data"
    },
    {
     "data": {
      "application/vnd.jupyter.widget-view+json": {
       "model_id": "1a9e29c06bc84281b4130f7e833451f2",
       "version_major": 2,
       "version_minor": 0
      },
      "text/plain": [
       "Batches:   0%|          | 0/1 [00:00<?, ?it/s]"
      ]
     },
     "metadata": {},
     "output_type": "display_data"
    },
    {
     "data": {
      "application/vnd.jupyter.widget-view+json": {
       "model_id": "719f2f7580424a82ae757cb17f7bbf6e",
       "version_major": 2,
       "version_minor": 0
      },
      "text/plain": [
       "Batches:   0%|          | 0/1 [00:00<?, ?it/s]"
      ]
     },
     "metadata": {},
     "output_type": "display_data"
    },
    {
     "data": {
      "application/vnd.jupyter.widget-view+json": {
       "model_id": "7d432698e2384fc9a919ed0498d3c4f3",
       "version_major": 2,
       "version_minor": 0
      },
      "text/plain": [
       "Batches:   0%|          | 0/1 [00:00<?, ?it/s]"
      ]
     },
     "metadata": {},
     "output_type": "display_data"
    },
    {
     "data": {
      "application/vnd.jupyter.widget-view+json": {
       "model_id": "fcc2ef5adc484666b73e6ae7db490cf2",
       "version_major": 2,
       "version_minor": 0
      },
      "text/plain": [
       "Batches:   0%|          | 0/1 [00:00<?, ?it/s]"
      ]
     },
     "metadata": {},
     "output_type": "display_data"
    },
    {
     "data": {
      "application/vnd.jupyter.widget-view+json": {
       "model_id": "d0138773e98a49a0b18f243d88fec1cb",
       "version_major": 2,
       "version_minor": 0
      },
      "text/plain": [
       "Batches:   0%|          | 0/1 [00:00<?, ?it/s]"
      ]
     },
     "metadata": {},
     "output_type": "display_data"
    },
    {
     "data": {
      "application/vnd.jupyter.widget-view+json": {
       "model_id": "579ea6e919a34256b401874b3d15c80c",
       "version_major": 2,
       "version_minor": 0
      },
      "text/plain": [
       "Batches:   0%|          | 0/1 [00:00<?, ?it/s]"
      ]
     },
     "metadata": {},
     "output_type": "display_data"
    },
    {
     "data": {
      "application/vnd.jupyter.widget-view+json": {
       "model_id": "b2d7727fd3944dcdb774b78370cb079a",
       "version_major": 2,
       "version_minor": 0
      },
      "text/plain": [
       "Batches:   0%|          | 0/1 [00:00<?, ?it/s]"
      ]
     },
     "metadata": {},
     "output_type": "display_data"
    },
    {
     "data": {
      "application/vnd.jupyter.widget-view+json": {
       "model_id": "c5512578850542e1aad2685298d7833e",
       "version_major": 2,
       "version_minor": 0
      },
      "text/plain": [
       "Batches:   0%|          | 0/1 [00:00<?, ?it/s]"
      ]
     },
     "metadata": {},
     "output_type": "display_data"
    },
    {
     "data": {
      "application/vnd.jupyter.widget-view+json": {
       "model_id": "ee183efe5ec34ebca5e867876a8f6d20",
       "version_major": 2,
       "version_minor": 0
      },
      "text/plain": [
       "Batches:   0%|          | 0/1 [00:00<?, ?it/s]"
      ]
     },
     "metadata": {},
     "output_type": "display_data"
    },
    {
     "data": {
      "application/vnd.jupyter.widget-view+json": {
       "model_id": "f1b1e85efdb54010879a3e1f9d8b1340",
       "version_major": 2,
       "version_minor": 0
      },
      "text/plain": [
       "Batches:   0%|          | 0/1 [00:00<?, ?it/s]"
      ]
     },
     "metadata": {},
     "output_type": "display_data"
    },
    {
     "data": {
      "application/vnd.jupyter.widget-view+json": {
       "model_id": "18156516f20e4d4c863b39199dae300f",
       "version_major": 2,
       "version_minor": 0
      },
      "text/plain": [
       "Batches:   0%|          | 0/1 [00:00<?, ?it/s]"
      ]
     },
     "metadata": {},
     "output_type": "display_data"
    },
    {
     "data": {
      "application/vnd.jupyter.widget-view+json": {
       "model_id": "47bc033d2592436d89a707217c6dadc5",
       "version_major": 2,
       "version_minor": 0
      },
      "text/plain": [
       "Batches:   0%|          | 0/1 [00:00<?, ?it/s]"
      ]
     },
     "metadata": {},
     "output_type": "display_data"
    },
    {
     "data": {
      "application/vnd.jupyter.widget-view+json": {
       "model_id": "753d97edbdc6486d87cafcb21e2d6a37",
       "version_major": 2,
       "version_minor": 0
      },
      "text/plain": [
       "Batches:   0%|          | 0/1 [00:00<?, ?it/s]"
      ]
     },
     "metadata": {},
     "output_type": "display_data"
    },
    {
     "data": {
      "application/vnd.jupyter.widget-view+json": {
       "model_id": "77dae26fd2b245a0bc85d2d52c88736c",
       "version_major": 2,
       "version_minor": 0
      },
      "text/plain": [
       "Batches:   0%|          | 0/1 [00:00<?, ?it/s]"
      ]
     },
     "metadata": {},
     "output_type": "display_data"
    },
    {
     "data": {
      "application/vnd.jupyter.widget-view+json": {
       "model_id": "5c560f4481b7409288810915294723e5",
       "version_major": 2,
       "version_minor": 0
      },
      "text/plain": [
       "Batches:   0%|          | 0/1 [00:00<?, ?it/s]"
      ]
     },
     "metadata": {},
     "output_type": "display_data"
    },
    {
     "data": {
      "application/vnd.jupyter.widget-view+json": {
       "model_id": "a842a9a9047842988b60bed7c1092597",
       "version_major": 2,
       "version_minor": 0
      },
      "text/plain": [
       "Batches:   0%|          | 0/1 [00:00<?, ?it/s]"
      ]
     },
     "metadata": {},
     "output_type": "display_data"
    },
    {
     "data": {
      "application/vnd.jupyter.widget-view+json": {
       "model_id": "7d95a31ad7b14a5380d58647afa032d6",
       "version_major": 2,
       "version_minor": 0
      },
      "text/plain": [
       "Batches:   0%|          | 0/1 [00:00<?, ?it/s]"
      ]
     },
     "metadata": {},
     "output_type": "display_data"
    },
    {
     "data": {
      "application/vnd.jupyter.widget-view+json": {
       "model_id": "8a4e5b4221924f23bf0ce0bce0278afd",
       "version_major": 2,
       "version_minor": 0
      },
      "text/plain": [
       "Batches:   0%|          | 0/1 [00:00<?, ?it/s]"
      ]
     },
     "metadata": {},
     "output_type": "display_data"
    },
    {
     "data": {
      "application/vnd.jupyter.widget-view+json": {
       "model_id": "f7f07d2a98c04a5ebe61c53bbf21c566",
       "version_major": 2,
       "version_minor": 0
      },
      "text/plain": [
       "Batches:   0%|          | 0/1 [00:00<?, ?it/s]"
      ]
     },
     "metadata": {},
     "output_type": "display_data"
    },
    {
     "data": {
      "application/vnd.jupyter.widget-view+json": {
       "model_id": "bc6e19592bdc49528cc0d3cbb32364a2",
       "version_major": 2,
       "version_minor": 0
      },
      "text/plain": [
       "Batches:   0%|          | 0/1 [00:00<?, ?it/s]"
      ]
     },
     "metadata": {},
     "output_type": "display_data"
    },
    {
     "data": {
      "application/vnd.jupyter.widget-view+json": {
       "model_id": "3dcc7030363e458abcb65ab37939bd3e",
       "version_major": 2,
       "version_minor": 0
      },
      "text/plain": [
       "Batches:   0%|          | 0/1 [00:00<?, ?it/s]"
      ]
     },
     "metadata": {},
     "output_type": "display_data"
    },
    {
     "data": {
      "application/vnd.jupyter.widget-view+json": {
       "model_id": "197172eddea84e7a9c54e410974079bf",
       "version_major": 2,
       "version_minor": 0
      },
      "text/plain": [
       "Batches:   0%|          | 0/1 [00:00<?, ?it/s]"
      ]
     },
     "metadata": {},
     "output_type": "display_data"
    },
    {
     "data": {
      "application/vnd.jupyter.widget-view+json": {
       "model_id": "33a4114500c64898b9cf1bd1eb692ab7",
       "version_major": 2,
       "version_minor": 0
      },
      "text/plain": [
       "Batches:   0%|          | 0/1 [00:00<?, ?it/s]"
      ]
     },
     "metadata": {},
     "output_type": "display_data"
    },
    {
     "data": {
      "application/vnd.jupyter.widget-view+json": {
       "model_id": "4108aa206ec647d1be9db42d8bfc398d",
       "version_major": 2,
       "version_minor": 0
      },
      "text/plain": [
       "Batches:   0%|          | 0/1 [00:00<?, ?it/s]"
      ]
     },
     "metadata": {},
     "output_type": "display_data"
    },
    {
     "data": {
      "application/vnd.jupyter.widget-view+json": {
       "model_id": "85235f12867940e984d4cd1ccf8f0760",
       "version_major": 2,
       "version_minor": 0
      },
      "text/plain": [
       "Batches:   0%|          | 0/1 [00:00<?, ?it/s]"
      ]
     },
     "metadata": {},
     "output_type": "display_data"
    },
    {
     "data": {
      "application/vnd.jupyter.widget-view+json": {
       "model_id": "742db34008c14e01b9e473d9ae6fe18b",
       "version_major": 2,
       "version_minor": 0
      },
      "text/plain": [
       "Batches:   0%|          | 0/1 [00:00<?, ?it/s]"
      ]
     },
     "metadata": {},
     "output_type": "display_data"
    },
    {
     "data": {
      "application/vnd.jupyter.widget-view+json": {
       "model_id": "68fb57dfe560446f88b37458d130533d",
       "version_major": 2,
       "version_minor": 0
      },
      "text/plain": [
       "Batches:   0%|          | 0/1 [00:00<?, ?it/s]"
      ]
     },
     "metadata": {},
     "output_type": "display_data"
    },
    {
     "data": {
      "application/vnd.jupyter.widget-view+json": {
       "model_id": "555e869d2a464ecca295c85349db1a2e",
       "version_major": 2,
       "version_minor": 0
      },
      "text/plain": [
       "Batches:   0%|          | 0/1 [00:00<?, ?it/s]"
      ]
     },
     "metadata": {},
     "output_type": "display_data"
    },
    {
     "data": {
      "application/vnd.jupyter.widget-view+json": {
       "model_id": "063e24f9625b404d9f2e5877c6b825c2",
       "version_major": 2,
       "version_minor": 0
      },
      "text/plain": [
       "Batches:   0%|          | 0/1 [00:00<?, ?it/s]"
      ]
     },
     "metadata": {},
     "output_type": "display_data"
    },
    {
     "data": {
      "application/vnd.jupyter.widget-view+json": {
       "model_id": "341258f8a9f546718abc2b12367fca55",
       "version_major": 2,
       "version_minor": 0
      },
      "text/plain": [
       "Batches:   0%|          | 0/1 [00:00<?, ?it/s]"
      ]
     },
     "metadata": {},
     "output_type": "display_data"
    },
    {
     "data": {
      "application/vnd.jupyter.widget-view+json": {
       "model_id": "1ded48cbbded43dd81b6465ca3e6ceaa",
       "version_major": 2,
       "version_minor": 0
      },
      "text/plain": [
       "Batches:   0%|          | 0/1 [00:00<?, ?it/s]"
      ]
     },
     "metadata": {},
     "output_type": "display_data"
    },
    {
     "data": {
      "application/vnd.jupyter.widget-view+json": {
       "model_id": "ef54b8f0a9c74603bc5aaa43ef38f1f7",
       "version_major": 2,
       "version_minor": 0
      },
      "text/plain": [
       "Batches:   0%|          | 0/1 [00:00<?, ?it/s]"
      ]
     },
     "metadata": {},
     "output_type": "display_data"
    },
    {
     "data": {
      "application/vnd.jupyter.widget-view+json": {
       "model_id": "c97ebd55f5fc4171bdfd4ec1e6157894",
       "version_major": 2,
       "version_minor": 0
      },
      "text/plain": [
       "Batches:   0%|          | 0/1 [00:00<?, ?it/s]"
      ]
     },
     "metadata": {},
     "output_type": "display_data"
    },
    {
     "data": {
      "application/vnd.jupyter.widget-view+json": {
       "model_id": "bba56863c24c4a4d8ebe9b63cb3ed484",
       "version_major": 2,
       "version_minor": 0
      },
      "text/plain": [
       "Batches:   0%|          | 0/1 [00:00<?, ?it/s]"
      ]
     },
     "metadata": {},
     "output_type": "display_data"
    },
    {
     "data": {
      "application/vnd.jupyter.widget-view+json": {
       "model_id": "7bc9713d70634596b3c38d4f4e3052c0",
       "version_major": 2,
       "version_minor": 0
      },
      "text/plain": [
       "Batches:   0%|          | 0/1 [00:00<?, ?it/s]"
      ]
     },
     "metadata": {},
     "output_type": "display_data"
    },
    {
     "data": {
      "application/vnd.jupyter.widget-view+json": {
       "model_id": "093309ef72aa405aa0b477b69cf90438",
       "version_major": 2,
       "version_minor": 0
      },
      "text/plain": [
       "Batches:   0%|          | 0/1 [00:00<?, ?it/s]"
      ]
     },
     "metadata": {},
     "output_type": "display_data"
    },
    {
     "data": {
      "application/vnd.jupyter.widget-view+json": {
       "model_id": "9b303ec50c6d4da49cf68406f2022ee0",
       "version_major": 2,
       "version_minor": 0
      },
      "text/plain": [
       "Batches:   0%|          | 0/1 [00:00<?, ?it/s]"
      ]
     },
     "metadata": {},
     "output_type": "display_data"
    },
    {
     "data": {
      "application/vnd.jupyter.widget-view+json": {
       "model_id": "9750916fd83d46178d0c33eb8e40fb41",
       "version_major": 2,
       "version_minor": 0
      },
      "text/plain": [
       "Batches:   0%|          | 0/1 [00:00<?, ?it/s]"
      ]
     },
     "metadata": {},
     "output_type": "display_data"
    },
    {
     "data": {
      "application/vnd.jupyter.widget-view+json": {
       "model_id": "dd7f925e86e849b6b65ddffbb57ccee5",
       "version_major": 2,
       "version_minor": 0
      },
      "text/plain": [
       "Batches:   0%|          | 0/1 [00:00<?, ?it/s]"
      ]
     },
     "metadata": {},
     "output_type": "display_data"
    },
    {
     "data": {
      "application/vnd.jupyter.widget-view+json": {
       "model_id": "b3f992e27a424f1786dafe5e59e14454",
       "version_major": 2,
       "version_minor": 0
      },
      "text/plain": [
       "Batches:   0%|          | 0/1 [00:00<?, ?it/s]"
      ]
     },
     "metadata": {},
     "output_type": "display_data"
    },
    {
     "data": {
      "application/vnd.jupyter.widget-view+json": {
       "model_id": "e402632332cb4edc8943467af9bd19ba",
       "version_major": 2,
       "version_minor": 0
      },
      "text/plain": [
       "Batches:   0%|          | 0/1 [00:00<?, ?it/s]"
      ]
     },
     "metadata": {},
     "output_type": "display_data"
    },
    {
     "data": {
      "application/vnd.jupyter.widget-view+json": {
       "model_id": "c318e37b957645a9bf5a383a68df13c5",
       "version_major": 2,
       "version_minor": 0
      },
      "text/plain": [
       "Batches:   0%|          | 0/1 [00:00<?, ?it/s]"
      ]
     },
     "metadata": {},
     "output_type": "display_data"
    },
    {
     "data": {
      "application/vnd.jupyter.widget-view+json": {
       "model_id": "d58bf2ececb24a35a6927cedf4a8294d",
       "version_major": 2,
       "version_minor": 0
      },
      "text/plain": [
       "Batches:   0%|          | 0/1 [00:00<?, ?it/s]"
      ]
     },
     "metadata": {},
     "output_type": "display_data"
    },
    {
     "data": {
      "application/vnd.jupyter.widget-view+json": {
       "model_id": "4ac9abb4042947fda336236b79f66941",
       "version_major": 2,
       "version_minor": 0
      },
      "text/plain": [
       "Batches:   0%|          | 0/1 [00:00<?, ?it/s]"
      ]
     },
     "metadata": {},
     "output_type": "display_data"
    },
    {
     "data": {
      "application/vnd.jupyter.widget-view+json": {
       "model_id": "8401709be76e48c78a758951595a5017",
       "version_major": 2,
       "version_minor": 0
      },
      "text/plain": [
       "Batches:   0%|          | 0/1 [00:00<?, ?it/s]"
      ]
     },
     "metadata": {},
     "output_type": "display_data"
    },
    {
     "data": {
      "application/vnd.jupyter.widget-view+json": {
       "model_id": "f4deb07a574c4a54a55e8cd6e1b3374a",
       "version_major": 2,
       "version_minor": 0
      },
      "text/plain": [
       "Batches:   0%|          | 0/1 [00:00<?, ?it/s]"
      ]
     },
     "metadata": {},
     "output_type": "display_data"
    },
    {
     "data": {
      "application/vnd.jupyter.widget-view+json": {
       "model_id": "066455725cef47b7bdc832f800ba04de",
       "version_major": 2,
       "version_minor": 0
      },
      "text/plain": [
       "Batches:   0%|          | 0/1 [00:00<?, ?it/s]"
      ]
     },
     "metadata": {},
     "output_type": "display_data"
    },
    {
     "data": {
      "application/vnd.jupyter.widget-view+json": {
       "model_id": "5c77ae26c070472bbb9bb24a30485cd2",
       "version_major": 2,
       "version_minor": 0
      },
      "text/plain": [
       "Batches:   0%|          | 0/1 [00:00<?, ?it/s]"
      ]
     },
     "metadata": {},
     "output_type": "display_data"
    },
    {
     "data": {
      "application/vnd.jupyter.widget-view+json": {
       "model_id": "2231170588b5477292abbdb7f3ca0728",
       "version_major": 2,
       "version_minor": 0
      },
      "text/plain": [
       "Batches:   0%|          | 0/1 [00:00<?, ?it/s]"
      ]
     },
     "metadata": {},
     "output_type": "display_data"
    },
    {
     "data": {
      "application/vnd.jupyter.widget-view+json": {
       "model_id": "bbb9c486c9c34ddba3034d49deed7836",
       "version_major": 2,
       "version_minor": 0
      },
      "text/plain": [
       "Batches:   0%|          | 0/1 [00:00<?, ?it/s]"
      ]
     },
     "metadata": {},
     "output_type": "display_data"
    },
    {
     "data": {
      "application/vnd.jupyter.widget-view+json": {
       "model_id": "a6fb0b19713f4ba58daf81e16104bc05",
       "version_major": 2,
       "version_minor": 0
      },
      "text/plain": [
       "Batches:   0%|          | 0/1 [00:00<?, ?it/s]"
      ]
     },
     "metadata": {},
     "output_type": "display_data"
    },
    {
     "data": {
      "application/vnd.jupyter.widget-view+json": {
       "model_id": "0849a9f1f5684772ad657e4ff14c61b4",
       "version_major": 2,
       "version_minor": 0
      },
      "text/plain": [
       "Batches:   0%|          | 0/1 [00:00<?, ?it/s]"
      ]
     },
     "metadata": {},
     "output_type": "display_data"
    },
    {
     "data": {
      "application/vnd.jupyter.widget-view+json": {
       "model_id": "a4e040a80b2b4ad09b64d4cf0f453b48",
       "version_major": 2,
       "version_minor": 0
      },
      "text/plain": [
       "Batches:   0%|          | 0/1 [00:00<?, ?it/s]"
      ]
     },
     "metadata": {},
     "output_type": "display_data"
    },
    {
     "data": {
      "application/vnd.jupyter.widget-view+json": {
       "model_id": "9128cef91e1645d28fe1bf5b3a7e802b",
       "version_major": 2,
       "version_minor": 0
      },
      "text/plain": [
       "Batches:   0%|          | 0/1 [00:00<?, ?it/s]"
      ]
     },
     "metadata": {},
     "output_type": "display_data"
    },
    {
     "data": {
      "application/vnd.jupyter.widget-view+json": {
       "model_id": "f9016fbb9c0340789fbdbfa4be8ccf17",
       "version_major": 2,
       "version_minor": 0
      },
      "text/plain": [
       "Batches:   0%|          | 0/1 [00:00<?, ?it/s]"
      ]
     },
     "metadata": {},
     "output_type": "display_data"
    },
    {
     "data": {
      "application/vnd.jupyter.widget-view+json": {
       "model_id": "b3fc2bc70deb46b7aeb0f3e167f8f6b1",
       "version_major": 2,
       "version_minor": 0
      },
      "text/plain": [
       "Batches:   0%|          | 0/1 [00:00<?, ?it/s]"
      ]
     },
     "metadata": {},
     "output_type": "display_data"
    },
    {
     "data": {
      "application/vnd.jupyter.widget-view+json": {
       "model_id": "92dbd68683e94d3c9956b43087979e87",
       "version_major": 2,
       "version_minor": 0
      },
      "text/plain": [
       "Batches:   0%|          | 0/1 [00:00<?, ?it/s]"
      ]
     },
     "metadata": {},
     "output_type": "display_data"
    },
    {
     "data": {
      "application/vnd.jupyter.widget-view+json": {
       "model_id": "920832c4e7bf44ea85f9ae1c47916359",
       "version_major": 2,
       "version_minor": 0
      },
      "text/plain": [
       "Batches:   0%|          | 0/1 [00:00<?, ?it/s]"
      ]
     },
     "metadata": {},
     "output_type": "display_data"
    },
    {
     "data": {
      "application/vnd.jupyter.widget-view+json": {
       "model_id": "fbefc9d7fbf443218c06cbb04772f79a",
       "version_major": 2,
       "version_minor": 0
      },
      "text/plain": [
       "Batches:   0%|          | 0/1 [00:00<?, ?it/s]"
      ]
     },
     "metadata": {},
     "output_type": "display_data"
    },
    {
     "data": {
      "application/vnd.jupyter.widget-view+json": {
       "model_id": "15913e6ab0da4b60b3bb872475633245",
       "version_major": 2,
       "version_minor": 0
      },
      "text/plain": [
       "Batches:   0%|          | 0/1 [00:00<?, ?it/s]"
      ]
     },
     "metadata": {},
     "output_type": "display_data"
    },
    {
     "data": {
      "application/vnd.jupyter.widget-view+json": {
       "model_id": "5a369cf1beed4db8bb742bed1a1a014a",
       "version_major": 2,
       "version_minor": 0
      },
      "text/plain": [
       "Batches:   0%|          | 0/1 [00:00<?, ?it/s]"
      ]
     },
     "metadata": {},
     "output_type": "display_data"
    },
    {
     "data": {
      "application/vnd.jupyter.widget-view+json": {
       "model_id": "f2afd334458c4d04a85331228e05363c",
       "version_major": 2,
       "version_minor": 0
      },
      "text/plain": [
       "Batches:   0%|          | 0/1 [00:00<?, ?it/s]"
      ]
     },
     "metadata": {},
     "output_type": "display_data"
    },
    {
     "data": {
      "application/vnd.jupyter.widget-view+json": {
       "model_id": "2ca9217b6c1b452b9e62decac1fdf264",
       "version_major": 2,
       "version_minor": 0
      },
      "text/plain": [
       "Batches:   0%|          | 0/1 [00:00<?, ?it/s]"
      ]
     },
     "metadata": {},
     "output_type": "display_data"
    },
    {
     "data": {
      "application/vnd.jupyter.widget-view+json": {
       "model_id": "16093f77c7f046faba7fda6f892983bd",
       "version_major": 2,
       "version_minor": 0
      },
      "text/plain": [
       "Batches:   0%|          | 0/1 [00:00<?, ?it/s]"
      ]
     },
     "metadata": {},
     "output_type": "display_data"
    },
    {
     "data": {
      "application/vnd.jupyter.widget-view+json": {
       "model_id": "460f61db5e1d428daa9c5b2c26521faf",
       "version_major": 2,
       "version_minor": 0
      },
      "text/plain": [
       "Batches:   0%|          | 0/1 [00:00<?, ?it/s]"
      ]
     },
     "metadata": {},
     "output_type": "display_data"
    },
    {
     "data": {
      "application/vnd.jupyter.widget-view+json": {
       "model_id": "10f57e77ebc24511a3ff12fccf616a9f",
       "version_major": 2,
       "version_minor": 0
      },
      "text/plain": [
       "Batches:   0%|          | 0/1 [00:00<?, ?it/s]"
      ]
     },
     "metadata": {},
     "output_type": "display_data"
    },
    {
     "data": {
      "application/vnd.jupyter.widget-view+json": {
       "model_id": "c0bcd7b57a154258a118761f9eb49b14",
       "version_major": 2,
       "version_minor": 0
      },
      "text/plain": [
       "Batches:   0%|          | 0/1 [00:00<?, ?it/s]"
      ]
     },
     "metadata": {},
     "output_type": "display_data"
    },
    {
     "data": {
      "application/vnd.jupyter.widget-view+json": {
       "model_id": "ca417e360559452f970394866a86131f",
       "version_major": 2,
       "version_minor": 0
      },
      "text/plain": [
       "Batches:   0%|          | 0/1 [00:00<?, ?it/s]"
      ]
     },
     "metadata": {},
     "output_type": "display_data"
    },
    {
     "data": {
      "application/vnd.jupyter.widget-view+json": {
       "model_id": "aeb87064ddbc423faa26679e83872e42",
       "version_major": 2,
       "version_minor": 0
      },
      "text/plain": [
       "Batches:   0%|          | 0/1 [00:00<?, ?it/s]"
      ]
     },
     "metadata": {},
     "output_type": "display_data"
    },
    {
     "data": {
      "application/vnd.jupyter.widget-view+json": {
       "model_id": "5a1f3dde9bfa40d08644283110e4426a",
       "version_major": 2,
       "version_minor": 0
      },
      "text/plain": [
       "Batches:   0%|          | 0/1 [00:00<?, ?it/s]"
      ]
     },
     "metadata": {},
     "output_type": "display_data"
    },
    {
     "data": {
      "application/vnd.jupyter.widget-view+json": {
       "model_id": "f47cb7e75aaf4bcda6aad3de9385e95d",
       "version_major": 2,
       "version_minor": 0
      },
      "text/plain": [
       "Batches:   0%|          | 0/1 [00:00<?, ?it/s]"
      ]
     },
     "metadata": {},
     "output_type": "display_data"
    },
    {
     "data": {
      "application/vnd.jupyter.widget-view+json": {
       "model_id": "58fa8324bc844b699273d2e513595b7d",
       "version_major": 2,
       "version_minor": 0
      },
      "text/plain": [
       "Batches:   0%|          | 0/1 [00:00<?, ?it/s]"
      ]
     },
     "metadata": {},
     "output_type": "display_data"
    },
    {
     "data": {
      "application/vnd.jupyter.widget-view+json": {
       "model_id": "49fd9202414a494695b7d4a59a6f2a1c",
       "version_major": 2,
       "version_minor": 0
      },
      "text/plain": [
       "Batches:   0%|          | 0/1 [00:00<?, ?it/s]"
      ]
     },
     "metadata": {},
     "output_type": "display_data"
    },
    {
     "data": {
      "application/vnd.jupyter.widget-view+json": {
       "model_id": "9c2ee08cf6174169937fb19e09972ecb",
       "version_major": 2,
       "version_minor": 0
      },
      "text/plain": [
       "Batches:   0%|          | 0/1 [00:00<?, ?it/s]"
      ]
     },
     "metadata": {},
     "output_type": "display_data"
    },
    {
     "data": {
      "application/vnd.jupyter.widget-view+json": {
       "model_id": "6fab46f38e7048fb81013d06ca219480",
       "version_major": 2,
       "version_minor": 0
      },
      "text/plain": [
       "Batches:   0%|          | 0/1 [00:00<?, ?it/s]"
      ]
     },
     "metadata": {},
     "output_type": "display_data"
    },
    {
     "data": {
      "application/vnd.jupyter.widget-view+json": {
       "model_id": "b72033b9a9574fe89043d0c0e83aaa53",
       "version_major": 2,
       "version_minor": 0
      },
      "text/plain": [
       "Batches:   0%|          | 0/1 [00:00<?, ?it/s]"
      ]
     },
     "metadata": {},
     "output_type": "display_data"
    },
    {
     "data": {
      "application/vnd.jupyter.widget-view+json": {
       "model_id": "a36c904942bc40e29a6c64fec864ae4b",
       "version_major": 2,
       "version_minor": 0
      },
      "text/plain": [
       "Batches:   0%|          | 0/1 [00:00<?, ?it/s]"
      ]
     },
     "metadata": {},
     "output_type": "display_data"
    },
    {
     "data": {
      "application/vnd.jupyter.widget-view+json": {
       "model_id": "9c729002c314475aa5919c19fef17789",
       "version_major": 2,
       "version_minor": 0
      },
      "text/plain": [
       "Batches:   0%|          | 0/1 [00:00<?, ?it/s]"
      ]
     },
     "metadata": {},
     "output_type": "display_data"
    },
    {
     "data": {
      "application/vnd.jupyter.widget-view+json": {
       "model_id": "9ac26687057e4af2ad681e9833100494",
       "version_major": 2,
       "version_minor": 0
      },
      "text/plain": [
       "Batches:   0%|          | 0/1 [00:00<?, ?it/s]"
      ]
     },
     "metadata": {},
     "output_type": "display_data"
    },
    {
     "data": {
      "application/vnd.jupyter.widget-view+json": {
       "model_id": "48fe01bcfd3548648503e9abb09d721a",
       "version_major": 2,
       "version_minor": 0
      },
      "text/plain": [
       "Batches:   0%|          | 0/1 [00:00<?, ?it/s]"
      ]
     },
     "metadata": {},
     "output_type": "display_data"
    },
    {
     "data": {
      "application/vnd.jupyter.widget-view+json": {
       "model_id": "f143562e4b41441681f2507a8d606fc6",
       "version_major": 2,
       "version_minor": 0
      },
      "text/plain": [
       "Batches:   0%|          | 0/1 [00:00<?, ?it/s]"
      ]
     },
     "metadata": {},
     "output_type": "display_data"
    },
    {
     "data": {
      "application/vnd.jupyter.widget-view+json": {
       "model_id": "82be8a05f11f43968e01343aebe40a6c",
       "version_major": 2,
       "version_minor": 0
      },
      "text/plain": [
       "Batches:   0%|          | 0/1 [00:00<?, ?it/s]"
      ]
     },
     "metadata": {},
     "output_type": "display_data"
    },
    {
     "data": {
      "application/vnd.jupyter.widget-view+json": {
       "model_id": "0a261310bb494f839437a78a4b8ddd1a",
       "version_major": 2,
       "version_minor": 0
      },
      "text/plain": [
       "Batches:   0%|          | 0/1 [00:00<?, ?it/s]"
      ]
     },
     "metadata": {},
     "output_type": "display_data"
    },
    {
     "data": {
      "application/vnd.jupyter.widget-view+json": {
       "model_id": "c15748b42b564c73b63dce765b80bfbf",
       "version_major": 2,
       "version_minor": 0
      },
      "text/plain": [
       "Batches:   0%|          | 0/1 [00:00<?, ?it/s]"
      ]
     },
     "metadata": {},
     "output_type": "display_data"
    },
    {
     "data": {
      "application/vnd.jupyter.widget-view+json": {
       "model_id": "fe95caf8b92f455e9250dfbcb444ea04",
       "version_major": 2,
       "version_minor": 0
      },
      "text/plain": [
       "Batches:   0%|          | 0/1 [00:00<?, ?it/s]"
      ]
     },
     "metadata": {},
     "output_type": "display_data"
    },
    {
     "data": {
      "application/vnd.jupyter.widget-view+json": {
       "model_id": "f699029705bb4d5995ddcb5133f5b77d",
       "version_major": 2,
       "version_minor": 0
      },
      "text/plain": [
       "Batches:   0%|          | 0/1 [00:00<?, ?it/s]"
      ]
     },
     "metadata": {},
     "output_type": "display_data"
    },
    {
     "data": {
      "application/vnd.jupyter.widget-view+json": {
       "model_id": "ddbc8f77f1394735a53046faea3b1576",
       "version_major": 2,
       "version_minor": 0
      },
      "text/plain": [
       "Batches:   0%|          | 0/1 [00:00<?, ?it/s]"
      ]
     },
     "metadata": {},
     "output_type": "display_data"
    },
    {
     "data": {
      "application/vnd.jupyter.widget-view+json": {
       "model_id": "f620063fdd6f410dbae34116ca991fe2",
       "version_major": 2,
       "version_minor": 0
      },
      "text/plain": [
       "Batches:   0%|          | 0/1 [00:00<?, ?it/s]"
      ]
     },
     "metadata": {},
     "output_type": "display_data"
    },
    {
     "data": {
      "application/vnd.jupyter.widget-view+json": {
       "model_id": "2c962c4e612b420898f317734ab3303b",
       "version_major": 2,
       "version_minor": 0
      },
      "text/plain": [
       "Batches:   0%|          | 0/1 [00:00<?, ?it/s]"
      ]
     },
     "metadata": {},
     "output_type": "display_data"
    },
    {
     "data": {
      "application/vnd.jupyter.widget-view+json": {
       "model_id": "557621dda5d04dc480bcd4b8a45fa366",
       "version_major": 2,
       "version_minor": 0
      },
      "text/plain": [
       "Batches:   0%|          | 0/1 [00:00<?, ?it/s]"
      ]
     },
     "metadata": {},
     "output_type": "display_data"
    },
    {
     "data": {
      "application/vnd.jupyter.widget-view+json": {
       "model_id": "64c29b59cff349d1ae0d53607e71259d",
       "version_major": 2,
       "version_minor": 0
      },
      "text/plain": [
       "Batches:   0%|          | 0/1 [00:00<?, ?it/s]"
      ]
     },
     "metadata": {},
     "output_type": "display_data"
    },
    {
     "data": {
      "application/vnd.jupyter.widget-view+json": {
       "model_id": "3d4231ce4b1b487b807c292a6f39546d",
       "version_major": 2,
       "version_minor": 0
      },
      "text/plain": [
       "Batches:   0%|          | 0/1 [00:00<?, ?it/s]"
      ]
     },
     "metadata": {},
     "output_type": "display_data"
    },
    {
     "data": {
      "application/vnd.jupyter.widget-view+json": {
       "model_id": "facb9b9a3737410ca0c7cacb828692b9",
       "version_major": 2,
       "version_minor": 0
      },
      "text/plain": [
       "Batches:   0%|          | 0/1 [00:00<?, ?it/s]"
      ]
     },
     "metadata": {},
     "output_type": "display_data"
    },
    {
     "data": {
      "application/vnd.jupyter.widget-view+json": {
       "model_id": "17829a8618fe4c6aa7dfc8625ad898a0",
       "version_major": 2,
       "version_minor": 0
      },
      "text/plain": [
       "Batches:   0%|          | 0/1 [00:00<?, ?it/s]"
      ]
     },
     "metadata": {},
     "output_type": "display_data"
    },
    {
     "data": {
      "application/vnd.jupyter.widget-view+json": {
       "model_id": "e01e2059619e45b6aeb062a3c6fc8429",
       "version_major": 2,
       "version_minor": 0
      },
      "text/plain": [
       "Batches:   0%|          | 0/1 [00:00<?, ?it/s]"
      ]
     },
     "metadata": {},
     "output_type": "display_data"
    },
    {
     "data": {
      "application/vnd.jupyter.widget-view+json": {
       "model_id": "9c078ee07542486b8cecdf0b8be3173a",
       "version_major": 2,
       "version_minor": 0
      },
      "text/plain": [
       "Batches:   0%|          | 0/1 [00:00<?, ?it/s]"
      ]
     },
     "metadata": {},
     "output_type": "display_data"
    },
    {
     "data": {
      "application/vnd.jupyter.widget-view+json": {
       "model_id": "d42fa7dbd7964280b661c0626069b869",
       "version_major": 2,
       "version_minor": 0
      },
      "text/plain": [
       "Batches:   0%|          | 0/1 [00:00<?, ?it/s]"
      ]
     },
     "metadata": {},
     "output_type": "display_data"
    },
    {
     "data": {
      "application/vnd.jupyter.widget-view+json": {
       "model_id": "173ea8ce39454afe8694e9980dfe39a1",
       "version_major": 2,
       "version_minor": 0
      },
      "text/plain": [
       "Batches:   0%|          | 0/1 [00:00<?, ?it/s]"
      ]
     },
     "metadata": {},
     "output_type": "display_data"
    },
    {
     "data": {
      "application/vnd.jupyter.widget-view+json": {
       "model_id": "bfc0c7c28a814ae883d23d9169bac9c9",
       "version_major": 2,
       "version_minor": 0
      },
      "text/plain": [
       "Batches:   0%|          | 0/1 [00:00<?, ?it/s]"
      ]
     },
     "metadata": {},
     "output_type": "display_data"
    },
    {
     "data": {
      "application/vnd.jupyter.widget-view+json": {
       "model_id": "c4edce79935f4e389ba40cd41c759080",
       "version_major": 2,
       "version_minor": 0
      },
      "text/plain": [
       "Batches:   0%|          | 0/1 [00:00<?, ?it/s]"
      ]
     },
     "metadata": {},
     "output_type": "display_data"
    },
    {
     "data": {
      "application/vnd.jupyter.widget-view+json": {
       "model_id": "b9a10cdef3cf4aa39c8f8969b11dca18",
       "version_major": 2,
       "version_minor": 0
      },
      "text/plain": [
       "Batches:   0%|          | 0/1 [00:00<?, ?it/s]"
      ]
     },
     "metadata": {},
     "output_type": "display_data"
    },
    {
     "data": {
      "application/vnd.jupyter.widget-view+json": {
       "model_id": "415ab2e67c944c53847beb034fada8c4",
       "version_major": 2,
       "version_minor": 0
      },
      "text/plain": [
       "Batches:   0%|          | 0/1 [00:00<?, ?it/s]"
      ]
     },
     "metadata": {},
     "output_type": "display_data"
    },
    {
     "data": {
      "application/vnd.jupyter.widget-view+json": {
       "model_id": "d4c62080282f4a42afb79c070f112655",
       "version_major": 2,
       "version_minor": 0
      },
      "text/plain": [
       "Batches:   0%|          | 0/1 [00:00<?, ?it/s]"
      ]
     },
     "metadata": {},
     "output_type": "display_data"
    },
    {
     "data": {
      "application/vnd.jupyter.widget-view+json": {
       "model_id": "4ab54c0fea504b05b176c034c9b81a9a",
       "version_major": 2,
       "version_minor": 0
      },
      "text/plain": [
       "Batches:   0%|          | 0/1 [00:00<?, ?it/s]"
      ]
     },
     "metadata": {},
     "output_type": "display_data"
    },
    {
     "data": {
      "application/vnd.jupyter.widget-view+json": {
       "model_id": "58ef200ed71343cc85751023e28042ab",
       "version_major": 2,
       "version_minor": 0
      },
      "text/plain": [
       "Batches:   0%|          | 0/1 [00:00<?, ?it/s]"
      ]
     },
     "metadata": {},
     "output_type": "display_data"
    },
    {
     "data": {
      "application/vnd.jupyter.widget-view+json": {
       "model_id": "4d8140e023cf413ca26b81656f51fcff",
       "version_major": 2,
       "version_minor": 0
      },
      "text/plain": [
       "Batches:   0%|          | 0/1 [00:00<?, ?it/s]"
      ]
     },
     "metadata": {},
     "output_type": "display_data"
    },
    {
     "data": {
      "application/vnd.jupyter.widget-view+json": {
       "model_id": "88105982909845d687132832bd73048e",
       "version_major": 2,
       "version_minor": 0
      },
      "text/plain": [
       "Batches:   0%|          | 0/1 [00:00<?, ?it/s]"
      ]
     },
     "metadata": {},
     "output_type": "display_data"
    },
    {
     "data": {
      "application/vnd.jupyter.widget-view+json": {
       "model_id": "3402623910a347a0a4d84bced85969fe",
       "version_major": 2,
       "version_minor": 0
      },
      "text/plain": [
       "Batches:   0%|          | 0/1 [00:00<?, ?it/s]"
      ]
     },
     "metadata": {},
     "output_type": "display_data"
    },
    {
     "data": {
      "application/vnd.jupyter.widget-view+json": {
       "model_id": "f28d4e3c84624fdba07a31f7bc15831a",
       "version_major": 2,
       "version_minor": 0
      },
      "text/plain": [
       "Batches:   0%|          | 0/1 [00:00<?, ?it/s]"
      ]
     },
     "metadata": {},
     "output_type": "display_data"
    },
    {
     "data": {
      "application/vnd.jupyter.widget-view+json": {
       "model_id": "6e9eb610aef24165888ec6517f796680",
       "version_major": 2,
       "version_minor": 0
      },
      "text/plain": [
       "Batches:   0%|          | 0/1 [00:00<?, ?it/s]"
      ]
     },
     "metadata": {},
     "output_type": "display_data"
    },
    {
     "data": {
      "application/vnd.jupyter.widget-view+json": {
       "model_id": "fe438aaa2c7044e0a3f84c4fbe937438",
       "version_major": 2,
       "version_minor": 0
      },
      "text/plain": [
       "Batches:   0%|          | 0/1 [00:00<?, ?it/s]"
      ]
     },
     "metadata": {},
     "output_type": "display_data"
    },
    {
     "data": {
      "application/vnd.jupyter.widget-view+json": {
       "model_id": "4e85e01af1be47c1b67fbb200314ad37",
       "version_major": 2,
       "version_minor": 0
      },
      "text/plain": [
       "Batches:   0%|          | 0/1 [00:00<?, ?it/s]"
      ]
     },
     "metadata": {},
     "output_type": "display_data"
    },
    {
     "data": {
      "application/vnd.jupyter.widget-view+json": {
       "model_id": "9f887272ce8a48a3b3f3bb712cf48957",
       "version_major": 2,
       "version_minor": 0
      },
      "text/plain": [
       "Batches:   0%|          | 0/1 [00:00<?, ?it/s]"
      ]
     },
     "metadata": {},
     "output_type": "display_data"
    },
    {
     "data": {
      "application/vnd.jupyter.widget-view+json": {
       "model_id": "fc1012e7558e49c2b2ab46b62660dcd5",
       "version_major": 2,
       "version_minor": 0
      },
      "text/plain": [
       "Batches:   0%|          | 0/1 [00:00<?, ?it/s]"
      ]
     },
     "metadata": {},
     "output_type": "display_data"
    },
    {
     "data": {
      "application/vnd.jupyter.widget-view+json": {
       "model_id": "529e327fdf41432b856e3ed73ba3acc7",
       "version_major": 2,
       "version_minor": 0
      },
      "text/plain": [
       "Batches:   0%|          | 0/1 [00:00<?, ?it/s]"
      ]
     },
     "metadata": {},
     "output_type": "display_data"
    },
    {
     "data": {
      "application/vnd.jupyter.widget-view+json": {
       "model_id": "9acfd16340e74ee4b24bd2db2d1faa32",
       "version_major": 2,
       "version_minor": 0
      },
      "text/plain": [
       "Batches:   0%|          | 0/1 [00:00<?, ?it/s]"
      ]
     },
     "metadata": {},
     "output_type": "display_data"
    },
    {
     "data": {
      "application/vnd.jupyter.widget-view+json": {
       "model_id": "f903c094b1844083be16264c5f2a1574",
       "version_major": 2,
       "version_minor": 0
      },
      "text/plain": [
       "Batches:   0%|          | 0/1 [00:00<?, ?it/s]"
      ]
     },
     "metadata": {},
     "output_type": "display_data"
    },
    {
     "data": {
      "application/vnd.jupyter.widget-view+json": {
       "model_id": "dbccbf966b0b490a96ff3c1f61b671f0",
       "version_major": 2,
       "version_minor": 0
      },
      "text/plain": [
       "Batches:   0%|          | 0/1 [00:00<?, ?it/s]"
      ]
     },
     "metadata": {},
     "output_type": "display_data"
    },
    {
     "data": {
      "application/vnd.jupyter.widget-view+json": {
       "model_id": "004a7738bb5e4997949a9efb463db797",
       "version_major": 2,
       "version_minor": 0
      },
      "text/plain": [
       "Batches:   0%|          | 0/1 [00:00<?, ?it/s]"
      ]
     },
     "metadata": {},
     "output_type": "display_data"
    },
    {
     "data": {
      "application/vnd.jupyter.widget-view+json": {
       "model_id": "ff0991e68cbb47939c4592e6b295de1c",
       "version_major": 2,
       "version_minor": 0
      },
      "text/plain": [
       "Batches:   0%|          | 0/1 [00:00<?, ?it/s]"
      ]
     },
     "metadata": {},
     "output_type": "display_data"
    },
    {
     "data": {
      "application/vnd.jupyter.widget-view+json": {
       "model_id": "c52b221e2ab64e8ebdda06254eb69e40",
       "version_major": 2,
       "version_minor": 0
      },
      "text/plain": [
       "Batches:   0%|          | 0/1 [00:00<?, ?it/s]"
      ]
     },
     "metadata": {},
     "output_type": "display_data"
    },
    {
     "data": {
      "application/vnd.jupyter.widget-view+json": {
       "model_id": "1346e6ba6c6d45b19f68b311e6877ae0",
       "version_major": 2,
       "version_minor": 0
      },
      "text/plain": [
       "Batches:   0%|          | 0/1 [00:00<?, ?it/s]"
      ]
     },
     "metadata": {},
     "output_type": "display_data"
    },
    {
     "data": {
      "application/vnd.jupyter.widget-view+json": {
       "model_id": "25662dbabbe6434791e5a29ac1920cf9",
       "version_major": 2,
       "version_minor": 0
      },
      "text/plain": [
       "Batches:   0%|          | 0/1 [00:00<?, ?it/s]"
      ]
     },
     "metadata": {},
     "output_type": "display_data"
    },
    {
     "data": {
      "application/vnd.jupyter.widget-view+json": {
       "model_id": "901d70d5b20245938911e2bff54250c9",
       "version_major": 2,
       "version_minor": 0
      },
      "text/plain": [
       "Batches:   0%|          | 0/1 [00:00<?, ?it/s]"
      ]
     },
     "metadata": {},
     "output_type": "display_data"
    },
    {
     "data": {
      "application/vnd.jupyter.widget-view+json": {
       "model_id": "9b3107e9771d4e6e92f3fcc211491332",
       "version_major": 2,
       "version_minor": 0
      },
      "text/plain": [
       "Batches:   0%|          | 0/1 [00:00<?, ?it/s]"
      ]
     },
     "metadata": {},
     "output_type": "display_data"
    },
    {
     "data": {
      "application/vnd.jupyter.widget-view+json": {
       "model_id": "96e7a2ee22be40e2bf83cc53edbf8a16",
       "version_major": 2,
       "version_minor": 0
      },
      "text/plain": [
       "Batches:   0%|          | 0/1 [00:00<?, ?it/s]"
      ]
     },
     "metadata": {},
     "output_type": "display_data"
    },
    {
     "data": {
      "application/vnd.jupyter.widget-view+json": {
       "model_id": "ee71b4c887864c3a96773c42f6a696d6",
       "version_major": 2,
       "version_minor": 0
      },
      "text/plain": [
       "Batches:   0%|          | 0/1 [00:00<?, ?it/s]"
      ]
     },
     "metadata": {},
     "output_type": "display_data"
    },
    {
     "data": {
      "application/vnd.jupyter.widget-view+json": {
       "model_id": "9e8e510dc56043c8a870dcfae81fdaaa",
       "version_major": 2,
       "version_minor": 0
      },
      "text/plain": [
       "Batches:   0%|          | 0/1 [00:00<?, ?it/s]"
      ]
     },
     "metadata": {},
     "output_type": "display_data"
    },
    {
     "data": {
      "application/vnd.jupyter.widget-view+json": {
       "model_id": "1997eecc289d411a9029ff81eae11679",
       "version_major": 2,
       "version_minor": 0
      },
      "text/plain": [
       "Batches:   0%|          | 0/1 [00:00<?, ?it/s]"
      ]
     },
     "metadata": {},
     "output_type": "display_data"
    },
    {
     "data": {
      "application/vnd.jupyter.widget-view+json": {
       "model_id": "68b630a8e499409db53e7ac435567776",
       "version_major": 2,
       "version_minor": 0
      },
      "text/plain": [
       "Batches:   0%|          | 0/1 [00:00<?, ?it/s]"
      ]
     },
     "metadata": {},
     "output_type": "display_data"
    },
    {
     "data": {
      "application/vnd.jupyter.widget-view+json": {
       "model_id": "3751341464404454942e61506bc1fc79",
       "version_major": 2,
       "version_minor": 0
      },
      "text/plain": [
       "Batches:   0%|          | 0/1 [00:00<?, ?it/s]"
      ]
     },
     "metadata": {},
     "output_type": "display_data"
    },
    {
     "data": {
      "application/vnd.jupyter.widget-view+json": {
       "model_id": "56763848fcea41138ae7567ab40d4751",
       "version_major": 2,
       "version_minor": 0
      },
      "text/plain": [
       "Batches:   0%|          | 0/1 [00:00<?, ?it/s]"
      ]
     },
     "metadata": {},
     "output_type": "display_data"
    },
    {
     "data": {
      "application/vnd.jupyter.widget-view+json": {
       "model_id": "03dc87b62f73435ab21d76ac765e93a8",
       "version_major": 2,
       "version_minor": 0
      },
      "text/plain": [
       "Batches:   0%|          | 0/1 [00:00<?, ?it/s]"
      ]
     },
     "metadata": {},
     "output_type": "display_data"
    },
    {
     "data": {
      "application/vnd.jupyter.widget-view+json": {
       "model_id": "82eb8d3fbdd842f0b898ea699ad5dc70",
       "version_major": 2,
       "version_minor": 0
      },
      "text/plain": [
       "Batches:   0%|          | 0/1 [00:00<?, ?it/s]"
      ]
     },
     "metadata": {},
     "output_type": "display_data"
    },
    {
     "data": {
      "application/vnd.jupyter.widget-view+json": {
       "model_id": "5ee44de5f8ce4169bdd93a8f588b2925",
       "version_major": 2,
       "version_minor": 0
      },
      "text/plain": [
       "Batches:   0%|          | 0/1 [00:00<?, ?it/s]"
      ]
     },
     "metadata": {},
     "output_type": "display_data"
    },
    {
     "data": {
      "application/vnd.jupyter.widget-view+json": {
       "model_id": "943dc839d5e7445faf44dfec2883a3e4",
       "version_major": 2,
       "version_minor": 0
      },
      "text/plain": [
       "Batches:   0%|          | 0/1 [00:00<?, ?it/s]"
      ]
     },
     "metadata": {},
     "output_type": "display_data"
    },
    {
     "data": {
      "application/vnd.jupyter.widget-view+json": {
       "model_id": "94da1b34b95046e8a31bf9e2e0689e0b",
       "version_major": 2,
       "version_minor": 0
      },
      "text/plain": [
       "Batches:   0%|          | 0/1 [00:00<?, ?it/s]"
      ]
     },
     "metadata": {},
     "output_type": "display_data"
    },
    {
     "data": {
      "application/vnd.jupyter.widget-view+json": {
       "model_id": "10d4b4ef3da941419c58325ff3ef4de2",
       "version_major": 2,
       "version_minor": 0
      },
      "text/plain": [
       "Batches:   0%|          | 0/1 [00:00<?, ?it/s]"
      ]
     },
     "metadata": {},
     "output_type": "display_data"
    },
    {
     "data": {
      "application/vnd.jupyter.widget-view+json": {
       "model_id": "829844300be54ec3933fa1fff2a143ed",
       "version_major": 2,
       "version_minor": 0
      },
      "text/plain": [
       "Batches:   0%|          | 0/1 [00:00<?, ?it/s]"
      ]
     },
     "metadata": {},
     "output_type": "display_data"
    },
    {
     "data": {
      "application/vnd.jupyter.widget-view+json": {
       "model_id": "b1265c6b7e3e44d0b9bbd97bd1c3419f",
       "version_major": 2,
       "version_minor": 0
      },
      "text/plain": [
       "Batches:   0%|          | 0/1 [00:00<?, ?it/s]"
      ]
     },
     "metadata": {},
     "output_type": "display_data"
    },
    {
     "data": {
      "application/vnd.jupyter.widget-view+json": {
       "model_id": "2ed94cb5410f4e2baf51a0c2c0bf7f81",
       "version_major": 2,
       "version_minor": 0
      },
      "text/plain": [
       "Batches:   0%|          | 0/1 [00:00<?, ?it/s]"
      ]
     },
     "metadata": {},
     "output_type": "display_data"
    },
    {
     "data": {
      "application/vnd.jupyter.widget-view+json": {
       "model_id": "3bf69ff00c1a4afeb6ea3436c0718f09",
       "version_major": 2,
       "version_minor": 0
      },
      "text/plain": [
       "Batches:   0%|          | 0/1 [00:00<?, ?it/s]"
      ]
     },
     "metadata": {},
     "output_type": "display_data"
    },
    {
     "data": {
      "application/vnd.jupyter.widget-view+json": {
       "model_id": "a3c640ddc5294029b5e5c851151dfe24",
       "version_major": 2,
       "version_minor": 0
      },
      "text/plain": [
       "Batches:   0%|          | 0/1 [00:00<?, ?it/s]"
      ]
     },
     "metadata": {},
     "output_type": "display_data"
    },
    {
     "data": {
      "application/vnd.jupyter.widget-view+json": {
       "model_id": "e0ed822c6f9646dd9af371ea801b7dd7",
       "version_major": 2,
       "version_minor": 0
      },
      "text/plain": [
       "Batches:   0%|          | 0/1 [00:00<?, ?it/s]"
      ]
     },
     "metadata": {},
     "output_type": "display_data"
    },
    {
     "data": {
      "application/vnd.jupyter.widget-view+json": {
       "model_id": "5c433eabf3574923a9163d8dd6b3298d",
       "version_major": 2,
       "version_minor": 0
      },
      "text/plain": [
       "Batches:   0%|          | 0/1 [00:00<?, ?it/s]"
      ]
     },
     "metadata": {},
     "output_type": "display_data"
    },
    {
     "data": {
      "application/vnd.jupyter.widget-view+json": {
       "model_id": "55b29b0db4b848c69258314277ebe35a",
       "version_major": 2,
       "version_minor": 0
      },
      "text/plain": [
       "Batches:   0%|          | 0/1 [00:00<?, ?it/s]"
      ]
     },
     "metadata": {},
     "output_type": "display_data"
    },
    {
     "data": {
      "application/vnd.jupyter.widget-view+json": {
       "model_id": "098f6d4efcb94e49b40c01f086575171",
       "version_major": 2,
       "version_minor": 0
      },
      "text/plain": [
       "Batches:   0%|          | 0/1 [00:00<?, ?it/s]"
      ]
     },
     "metadata": {},
     "output_type": "display_data"
    },
    {
     "data": {
      "application/vnd.jupyter.widget-view+json": {
       "model_id": "97315545a8f9438e9ffe1cda1a1689c8",
       "version_major": 2,
       "version_minor": 0
      },
      "text/plain": [
       "Batches:   0%|          | 0/1 [00:00<?, ?it/s]"
      ]
     },
     "metadata": {},
     "output_type": "display_data"
    },
    {
     "data": {
      "application/vnd.jupyter.widget-view+json": {
       "model_id": "7e0361787d4b437eadef2551e91ba96c",
       "version_major": 2,
       "version_minor": 0
      },
      "text/plain": [
       "Batches:   0%|          | 0/1 [00:00<?, ?it/s]"
      ]
     },
     "metadata": {},
     "output_type": "display_data"
    },
    {
     "data": {
      "application/vnd.jupyter.widget-view+json": {
       "model_id": "ad3f4dbfd86d453c8121129f38a53577",
       "version_major": 2,
       "version_minor": 0
      },
      "text/plain": [
       "Batches:   0%|          | 0/1 [00:00<?, ?it/s]"
      ]
     },
     "metadata": {},
     "output_type": "display_data"
    },
    {
     "data": {
      "application/vnd.jupyter.widget-view+json": {
       "model_id": "1201a27c48084462b8db26fc555f424e",
       "version_major": 2,
       "version_minor": 0
      },
      "text/plain": [
       "Batches:   0%|          | 0/1 [00:00<?, ?it/s]"
      ]
     },
     "metadata": {},
     "output_type": "display_data"
    },
    {
     "data": {
      "application/vnd.jupyter.widget-view+json": {
       "model_id": "5fdd4a38a43147879acf885353729f45",
       "version_major": 2,
       "version_minor": 0
      },
      "text/plain": [
       "Batches:   0%|          | 0/1 [00:00<?, ?it/s]"
      ]
     },
     "metadata": {},
     "output_type": "display_data"
    },
    {
     "data": {
      "application/vnd.jupyter.widget-view+json": {
       "model_id": "8687560559ff472b9385c848c23212b3",
       "version_major": 2,
       "version_minor": 0
      },
      "text/plain": [
       "Batches:   0%|          | 0/1 [00:00<?, ?it/s]"
      ]
     },
     "metadata": {},
     "output_type": "display_data"
    },
    {
     "data": {
      "application/vnd.jupyter.widget-view+json": {
       "model_id": "2b5ea6d91f0842419b0598a8a6b3044b",
       "version_major": 2,
       "version_minor": 0
      },
      "text/plain": [
       "Batches:   0%|          | 0/1 [00:00<?, ?it/s]"
      ]
     },
     "metadata": {},
     "output_type": "display_data"
    },
    {
     "data": {
      "application/vnd.jupyter.widget-view+json": {
       "model_id": "d531a6f8cc994a14a3d09505cdac8168",
       "version_major": 2,
       "version_minor": 0
      },
      "text/plain": [
       "Batches:   0%|          | 0/1 [00:00<?, ?it/s]"
      ]
     },
     "metadata": {},
     "output_type": "display_data"
    },
    {
     "data": {
      "application/vnd.jupyter.widget-view+json": {
       "model_id": "a3c93e15a01b434f921b7e3038403356",
       "version_major": 2,
       "version_minor": 0
      },
      "text/plain": [
       "Batches:   0%|          | 0/1 [00:00<?, ?it/s]"
      ]
     },
     "metadata": {},
     "output_type": "display_data"
    },
    {
     "data": {
      "application/vnd.jupyter.widget-view+json": {
       "model_id": "67d5829b895b4bd2809ba11fa9939a95",
       "version_major": 2,
       "version_minor": 0
      },
      "text/plain": [
       "Batches:   0%|          | 0/1 [00:00<?, ?it/s]"
      ]
     },
     "metadata": {},
     "output_type": "display_data"
    },
    {
     "data": {
      "application/vnd.jupyter.widget-view+json": {
       "model_id": "b9abe19061a14ff491bb7cbbb9a20d67",
       "version_major": 2,
       "version_minor": 0
      },
      "text/plain": [
       "Batches:   0%|          | 0/1 [00:00<?, ?it/s]"
      ]
     },
     "metadata": {},
     "output_type": "display_data"
    },
    {
     "data": {
      "application/vnd.jupyter.widget-view+json": {
       "model_id": "0544c988b833461983218dc906e9dfa0",
       "version_major": 2,
       "version_minor": 0
      },
      "text/plain": [
       "Batches:   0%|          | 0/1 [00:00<?, ?it/s]"
      ]
     },
     "metadata": {},
     "output_type": "display_data"
    },
    {
     "data": {
      "application/vnd.jupyter.widget-view+json": {
       "model_id": "e8f9f847576b4e4393b0e049db55e07c",
       "version_major": 2,
       "version_minor": 0
      },
      "text/plain": [
       "Batches:   0%|          | 0/1 [00:00<?, ?it/s]"
      ]
     },
     "metadata": {},
     "output_type": "display_data"
    },
    {
     "data": {
      "application/vnd.jupyter.widget-view+json": {
       "model_id": "f670038d96004124bd466f9e4ec85c07",
       "version_major": 2,
       "version_minor": 0
      },
      "text/plain": [
       "Batches:   0%|          | 0/1 [00:00<?, ?it/s]"
      ]
     },
     "metadata": {},
     "output_type": "display_data"
    },
    {
     "data": {
      "application/vnd.jupyter.widget-view+json": {
       "model_id": "b5a887474f4d4f378f554d7b25b1725b",
       "version_major": 2,
       "version_minor": 0
      },
      "text/plain": [
       "Batches:   0%|          | 0/1 [00:00<?, ?it/s]"
      ]
     },
     "metadata": {},
     "output_type": "display_data"
    },
    {
     "data": {
      "application/vnd.jupyter.widget-view+json": {
       "model_id": "1f5123ee79df457485414dfc655ec66b",
       "version_major": 2,
       "version_minor": 0
      },
      "text/plain": [
       "Batches:   0%|          | 0/1 [00:00<?, ?it/s]"
      ]
     },
     "metadata": {},
     "output_type": "display_data"
    },
    {
     "data": {
      "application/vnd.jupyter.widget-view+json": {
       "model_id": "f020bb09a3894afdb28f86e51425a1a4",
       "version_major": 2,
       "version_minor": 0
      },
      "text/plain": [
       "Batches:   0%|          | 0/1 [00:00<?, ?it/s]"
      ]
     },
     "metadata": {},
     "output_type": "display_data"
    },
    {
     "data": {
      "application/vnd.jupyter.widget-view+json": {
       "model_id": "89e8eeabb0894914b31e1a7c8106b8eb",
       "version_major": 2,
       "version_minor": 0
      },
      "text/plain": [
       "Batches:   0%|          | 0/1 [00:00<?, ?it/s]"
      ]
     },
     "metadata": {},
     "output_type": "display_data"
    },
    {
     "data": {
      "application/vnd.jupyter.widget-view+json": {
       "model_id": "d51dc73e593d44c8a076ce2686faaeea",
       "version_major": 2,
       "version_minor": 0
      },
      "text/plain": [
       "Batches:   0%|          | 0/1 [00:00<?, ?it/s]"
      ]
     },
     "metadata": {},
     "output_type": "display_data"
    },
    {
     "data": {
      "application/vnd.jupyter.widget-view+json": {
       "model_id": "88ee1ce460cb41baa4095a3d6a726352",
       "version_major": 2,
       "version_minor": 0
      },
      "text/plain": [
       "Batches:   0%|          | 0/1 [00:00<?, ?it/s]"
      ]
     },
     "metadata": {},
     "output_type": "display_data"
    },
    {
     "data": {
      "application/vnd.jupyter.widget-view+json": {
       "model_id": "d3e1b3bad579478098c2cca506135966",
       "version_major": 2,
       "version_minor": 0
      },
      "text/plain": [
       "Batches:   0%|          | 0/1 [00:00<?, ?it/s]"
      ]
     },
     "metadata": {},
     "output_type": "display_data"
    },
    {
     "data": {
      "application/vnd.jupyter.widget-view+json": {
       "model_id": "81f3f47dd9494cf8a29d9b05153a293c",
       "version_major": 2,
       "version_minor": 0
      },
      "text/plain": [
       "Batches:   0%|          | 0/1 [00:00<?, ?it/s]"
      ]
     },
     "metadata": {},
     "output_type": "display_data"
    },
    {
     "data": {
      "application/vnd.jupyter.widget-view+json": {
       "model_id": "decb4dfae2074fb5a08c3ea697e73703",
       "version_major": 2,
       "version_minor": 0
      },
      "text/plain": [
       "Batches:   0%|          | 0/1 [00:00<?, ?it/s]"
      ]
     },
     "metadata": {},
     "output_type": "display_data"
    },
    {
     "data": {
      "application/vnd.jupyter.widget-view+json": {
       "model_id": "4ccfe696f19a48d7acb852b5c00abd88",
       "version_major": 2,
       "version_minor": 0
      },
      "text/plain": [
       "Batches:   0%|          | 0/1 [00:00<?, ?it/s]"
      ]
     },
     "metadata": {},
     "output_type": "display_data"
    },
    {
     "data": {
      "application/vnd.jupyter.widget-view+json": {
       "model_id": "b9dc29cb2a9a4bde888aa79384fdb8dd",
       "version_major": 2,
       "version_minor": 0
      },
      "text/plain": [
       "Batches:   0%|          | 0/1 [00:00<?, ?it/s]"
      ]
     },
     "metadata": {},
     "output_type": "display_data"
    },
    {
     "data": {
      "application/vnd.jupyter.widget-view+json": {
       "model_id": "f26c2ee47b6a4b80b71a751f938da4ef",
       "version_major": 2,
       "version_minor": 0
      },
      "text/plain": [
       "Batches:   0%|          | 0/1 [00:00<?, ?it/s]"
      ]
     },
     "metadata": {},
     "output_type": "display_data"
    },
    {
     "data": {
      "application/vnd.jupyter.widget-view+json": {
       "model_id": "d2e05b2b13a440499c63f21f970be925",
       "version_major": 2,
       "version_minor": 0
      },
      "text/plain": [
       "Batches:   0%|          | 0/1 [00:00<?, ?it/s]"
      ]
     },
     "metadata": {},
     "output_type": "display_data"
    },
    {
     "data": {
      "application/vnd.jupyter.widget-view+json": {
       "model_id": "5cb3e8154dda45d5be03bfbc271dccdb",
       "version_major": 2,
       "version_minor": 0
      },
      "text/plain": [
       "Batches:   0%|          | 0/1 [00:00<?, ?it/s]"
      ]
     },
     "metadata": {},
     "output_type": "display_data"
    },
    {
     "data": {
      "application/vnd.jupyter.widget-view+json": {
       "model_id": "6d15653eea19476e95bea6c35afee6ba",
       "version_major": 2,
       "version_minor": 0
      },
      "text/plain": [
       "Batches:   0%|          | 0/1 [00:00<?, ?it/s]"
      ]
     },
     "metadata": {},
     "output_type": "display_data"
    },
    {
     "data": {
      "application/vnd.jupyter.widget-view+json": {
       "model_id": "c3ddf8bcd74f42e08cf8fb8b522c1ea6",
       "version_major": 2,
       "version_minor": 0
      },
      "text/plain": [
       "Batches:   0%|          | 0/1 [00:00<?, ?it/s]"
      ]
     },
     "metadata": {},
     "output_type": "display_data"
    },
    {
     "data": {
      "application/vnd.jupyter.widget-view+json": {
       "model_id": "4a5b7e6c284d404485a134142d5f1274",
       "version_major": 2,
       "version_minor": 0
      },
      "text/plain": [
       "Batches:   0%|          | 0/1 [00:00<?, ?it/s]"
      ]
     },
     "metadata": {},
     "output_type": "display_data"
    },
    {
     "data": {
      "application/vnd.jupyter.widget-view+json": {
       "model_id": "b82afd82430a4d4c9082ad9b31d72ca4",
       "version_major": 2,
       "version_minor": 0
      },
      "text/plain": [
       "Batches:   0%|          | 0/1 [00:00<?, ?it/s]"
      ]
     },
     "metadata": {},
     "output_type": "display_data"
    },
    {
     "data": {
      "application/vnd.jupyter.widget-view+json": {
       "model_id": "852a229359ad48f1a88c7a5690d45b14",
       "version_major": 2,
       "version_minor": 0
      },
      "text/plain": [
       "Batches:   0%|          | 0/1 [00:00<?, ?it/s]"
      ]
     },
     "metadata": {},
     "output_type": "display_data"
    },
    {
     "data": {
      "application/vnd.jupyter.widget-view+json": {
       "model_id": "ca2937ea37e348a6ac23526513ec2243",
       "version_major": 2,
       "version_minor": 0
      },
      "text/plain": [
       "Batches:   0%|          | 0/1 [00:00<?, ?it/s]"
      ]
     },
     "metadata": {},
     "output_type": "display_data"
    },
    {
     "data": {
      "application/vnd.jupyter.widget-view+json": {
       "model_id": "b3679479db374c1e93ccedadc59eef11",
       "version_major": 2,
       "version_minor": 0
      },
      "text/plain": [
       "Batches:   0%|          | 0/1 [00:00<?, ?it/s]"
      ]
     },
     "metadata": {},
     "output_type": "display_data"
    },
    {
     "data": {
      "application/vnd.jupyter.widget-view+json": {
       "model_id": "2b5e75f398f64fda9918e52d3cc87682",
       "version_major": 2,
       "version_minor": 0
      },
      "text/plain": [
       "Batches:   0%|          | 0/1 [00:00<?, ?it/s]"
      ]
     },
     "metadata": {},
     "output_type": "display_data"
    },
    {
     "data": {
      "application/vnd.jupyter.widget-view+json": {
       "model_id": "a084dce4992b46d29088554fddeea5dc",
       "version_major": 2,
       "version_minor": 0
      },
      "text/plain": [
       "Batches:   0%|          | 0/1 [00:00<?, ?it/s]"
      ]
     },
     "metadata": {},
     "output_type": "display_data"
    },
    {
     "data": {
      "application/vnd.jupyter.widget-view+json": {
       "model_id": "fcdc667e5bf24f7ea1d8666633c3cc64",
       "version_major": 2,
       "version_minor": 0
      },
      "text/plain": [
       "Batches:   0%|          | 0/1 [00:00<?, ?it/s]"
      ]
     },
     "metadata": {},
     "output_type": "display_data"
    },
    {
     "data": {
      "application/vnd.jupyter.widget-view+json": {
       "model_id": "89bb183dcc7b47f29c4a25120e5bc2dc",
       "version_major": 2,
       "version_minor": 0
      },
      "text/plain": [
       "Batches:   0%|          | 0/1 [00:00<?, ?it/s]"
      ]
     },
     "metadata": {},
     "output_type": "display_data"
    },
    {
     "data": {
      "application/vnd.jupyter.widget-view+json": {
       "model_id": "0df07613a0f8465ebe765279618ee545",
       "version_major": 2,
       "version_minor": 0
      },
      "text/plain": [
       "Batches:   0%|          | 0/1 [00:00<?, ?it/s]"
      ]
     },
     "metadata": {},
     "output_type": "display_data"
    },
    {
     "data": {
      "application/vnd.jupyter.widget-view+json": {
       "model_id": "1f7805e335dc4cb4a726e86e7de570c4",
       "version_major": 2,
       "version_minor": 0
      },
      "text/plain": [
       "Batches:   0%|          | 0/1 [00:00<?, ?it/s]"
      ]
     },
     "metadata": {},
     "output_type": "display_data"
    },
    {
     "data": {
      "application/vnd.jupyter.widget-view+json": {
       "model_id": "bc1f4c319b6543cbb6a95d1a78a04166",
       "version_major": 2,
       "version_minor": 0
      },
      "text/plain": [
       "Batches:   0%|          | 0/1 [00:00<?, ?it/s]"
      ]
     },
     "metadata": {},
     "output_type": "display_data"
    },
    {
     "data": {
      "application/vnd.jupyter.widget-view+json": {
       "model_id": "2b6eaaef9baa4b1388abaa71a725e01d",
       "version_major": 2,
       "version_minor": 0
      },
      "text/plain": [
       "Batches:   0%|          | 0/1 [00:00<?, ?it/s]"
      ]
     },
     "metadata": {},
     "output_type": "display_data"
    },
    {
     "data": {
      "application/vnd.jupyter.widget-view+json": {
       "model_id": "a2b5922507e14a0bb5827472a5b066fe",
       "version_major": 2,
       "version_minor": 0
      },
      "text/plain": [
       "Batches:   0%|          | 0/1 [00:00<?, ?it/s]"
      ]
     },
     "metadata": {},
     "output_type": "display_data"
    },
    {
     "data": {
      "application/vnd.jupyter.widget-view+json": {
       "model_id": "cd495ec67ebc48a593de6f36b61b9fe2",
       "version_major": 2,
       "version_minor": 0
      },
      "text/plain": [
       "Batches:   0%|          | 0/1 [00:00<?, ?it/s]"
      ]
     },
     "metadata": {},
     "output_type": "display_data"
    },
    {
     "data": {
      "application/vnd.jupyter.widget-view+json": {
       "model_id": "fad8803030a94440856898a936ff13f8",
       "version_major": 2,
       "version_minor": 0
      },
      "text/plain": [
       "Batches:   0%|          | 0/1 [00:00<?, ?it/s]"
      ]
     },
     "metadata": {},
     "output_type": "display_data"
    },
    {
     "data": {
      "application/vnd.jupyter.widget-view+json": {
       "model_id": "aece25aab89d48bfb8ff3804373b3b4e",
       "version_major": 2,
       "version_minor": 0
      },
      "text/plain": [
       "Batches:   0%|          | 0/1 [00:00<?, ?it/s]"
      ]
     },
     "metadata": {},
     "output_type": "display_data"
    },
    {
     "data": {
      "application/vnd.jupyter.widget-view+json": {
       "model_id": "f18d9eb74e344d0eb0c123b1533a4156",
       "version_major": 2,
       "version_minor": 0
      },
      "text/plain": [
       "Batches:   0%|          | 0/1 [00:00<?, ?it/s]"
      ]
     },
     "metadata": {},
     "output_type": "display_data"
    },
    {
     "data": {
      "application/vnd.jupyter.widget-view+json": {
       "model_id": "289ebf37be454838a6b6eded7c8b0b14",
       "version_major": 2,
       "version_minor": 0
      },
      "text/plain": [
       "Batches:   0%|          | 0/1 [00:00<?, ?it/s]"
      ]
     },
     "metadata": {},
     "output_type": "display_data"
    },
    {
     "data": {
      "application/vnd.jupyter.widget-view+json": {
       "model_id": "b1e67f55ccd946b39da1550e1950009d",
       "version_major": 2,
       "version_minor": 0
      },
      "text/plain": [
       "Batches:   0%|          | 0/1 [00:00<?, ?it/s]"
      ]
     },
     "metadata": {},
     "output_type": "display_data"
    },
    {
     "data": {
      "application/vnd.jupyter.widget-view+json": {
       "model_id": "3ce9873a062b43a6ad18079d65ea90a9",
       "version_major": 2,
       "version_minor": 0
      },
      "text/plain": [
       "Batches:   0%|          | 0/1 [00:00<?, ?it/s]"
      ]
     },
     "metadata": {},
     "output_type": "display_data"
    },
    {
     "data": {
      "application/vnd.jupyter.widget-view+json": {
       "model_id": "93247542235c46e899d35ad669e53155",
       "version_major": 2,
       "version_minor": 0
      },
      "text/plain": [
       "Batches:   0%|          | 0/1 [00:00<?, ?it/s]"
      ]
     },
     "metadata": {},
     "output_type": "display_data"
    },
    {
     "data": {
      "application/vnd.jupyter.widget-view+json": {
       "model_id": "9134afe6dfd242bcac0253fa91ed4199",
       "version_major": 2,
       "version_minor": 0
      },
      "text/plain": [
       "Batches:   0%|          | 0/1 [00:00<?, ?it/s]"
      ]
     },
     "metadata": {},
     "output_type": "display_data"
    },
    {
     "data": {
      "application/vnd.jupyter.widget-view+json": {
       "model_id": "059127fafe2147d0bf9e03443d4daf9b",
       "version_major": 2,
       "version_minor": 0
      },
      "text/plain": [
       "Batches:   0%|          | 0/1 [00:00<?, ?it/s]"
      ]
     },
     "metadata": {},
     "output_type": "display_data"
    },
    {
     "data": {
      "application/vnd.jupyter.widget-view+json": {
       "model_id": "b84916e7dcc54f22aebaa43a8ab5d6f3",
       "version_major": 2,
       "version_minor": 0
      },
      "text/plain": [
       "Batches:   0%|          | 0/1 [00:00<?, ?it/s]"
      ]
     },
     "metadata": {},
     "output_type": "display_data"
    },
    {
     "data": {
      "application/vnd.jupyter.widget-view+json": {
       "model_id": "ccba142ce80f4bb5a9232b13cf96d528",
       "version_major": 2,
       "version_minor": 0
      },
      "text/plain": [
       "Batches:   0%|          | 0/1 [00:00<?, ?it/s]"
      ]
     },
     "metadata": {},
     "output_type": "display_data"
    },
    {
     "data": {
      "application/vnd.jupyter.widget-view+json": {
       "model_id": "5c23afda06974f9fbe975e9c75623862",
       "version_major": 2,
       "version_minor": 0
      },
      "text/plain": [
       "Batches:   0%|          | 0/1 [00:00<?, ?it/s]"
      ]
     },
     "metadata": {},
     "output_type": "display_data"
    },
    {
     "data": {
      "application/vnd.jupyter.widget-view+json": {
       "model_id": "acf1554f46a34f86a694a049144e3504",
       "version_major": 2,
       "version_minor": 0
      },
      "text/plain": [
       "Batches:   0%|          | 0/1 [00:00<?, ?it/s]"
      ]
     },
     "metadata": {},
     "output_type": "display_data"
    },
    {
     "data": {
      "application/vnd.jupyter.widget-view+json": {
       "model_id": "75761965fd8a4dfa96226b3362c29083",
       "version_major": 2,
       "version_minor": 0
      },
      "text/plain": [
       "Batches:   0%|          | 0/1 [00:00<?, ?it/s]"
      ]
     },
     "metadata": {},
     "output_type": "display_data"
    },
    {
     "name": "stderr",
     "output_type": "stream",
     "text": [
      "`embedding_function` is expected to be an Embeddings object, support for passing in a function will soon be removed.\n"
     ]
    },
    {
     "data": {
      "application/vnd.jupyter.widget-view+json": {
       "model_id": "2314dfc439ad4fc0b710790189c9c2ef",
       "version_major": 2,
       "version_minor": 0
      },
      "text/plain": [
       "Batches:   0%|          | 0/1 [00:00<?, ?it/s]"
      ]
     },
     "metadata": {},
     "output_type": "display_data"
    },
    {
     "data": {
      "application/vnd.jupyter.widget-view+json": {
       "model_id": "0be931fecd224b9aa932685bbadbb907",
       "version_major": 2,
       "version_minor": 0
      },
      "text/plain": [
       "Batches:   0%|          | 0/1 [00:00<?, ?it/s]"
      ]
     },
     "metadata": {},
     "output_type": "display_data"
    },
    {
     "data": {
      "application/vnd.jupyter.widget-view+json": {
       "model_id": "73e08f85f9f24887a10c519392aa2077",
       "version_major": 2,
       "version_minor": 0
      },
      "text/plain": [
       "Batches:   0%|          | 0/1 [00:00<?, ?it/s]"
      ]
     },
     "metadata": {},
     "output_type": "display_data"
    },
    {
     "data": {
      "application/vnd.jupyter.widget-view+json": {
       "model_id": "ad7f8923013f4cabb47dd28761e01ec2",
       "version_major": 2,
       "version_minor": 0
      },
      "text/plain": [
       "Batches:   0%|          | 0/1 [00:00<?, ?it/s]"
      ]
     },
     "metadata": {},
     "output_type": "display_data"
    },
    {
     "data": {
      "application/vnd.jupyter.widget-view+json": {
       "model_id": "597439de4af94683aa3b612877f6588a",
       "version_major": 2,
       "version_minor": 0
      },
      "text/plain": [
       "Batches:   0%|          | 0/1 [00:00<?, ?it/s]"
      ]
     },
     "metadata": {},
     "output_type": "display_data"
    },
    {
     "data": {
      "application/vnd.jupyter.widget-view+json": {
       "model_id": "d9d5ec791e4e4bc18634e360b5e3654d",
       "version_major": 2,
       "version_minor": 0
      },
      "text/plain": [
       "Batches:   0%|          | 0/1 [00:00<?, ?it/s]"
      ]
     },
     "metadata": {},
     "output_type": "display_data"
    },
    {
     "data": {
      "application/vnd.jupyter.widget-view+json": {
       "model_id": "071763ec1f3d4ff29c7151be74ceb719",
       "version_major": 2,
       "version_minor": 0
      },
      "text/plain": [
       "Batches:   0%|          | 0/1 [00:00<?, ?it/s]"
      ]
     },
     "metadata": {},
     "output_type": "display_data"
    },
    {
     "data": {
      "application/vnd.jupyter.widget-view+json": {
       "model_id": "51148f29eff54a6f8b293dd6902ce323",
       "version_major": 2,
       "version_minor": 0
      },
      "text/plain": [
       "Batches:   0%|          | 0/1 [00:00<?, ?it/s]"
      ]
     },
     "metadata": {},
     "output_type": "display_data"
    },
    {
     "data": {
      "application/vnd.jupyter.widget-view+json": {
       "model_id": "410d57b1c3004e43b4886dce3c650af8",
       "version_major": 2,
       "version_minor": 0
      },
      "text/plain": [
       "Batches:   0%|          | 0/1 [00:00<?, ?it/s]"
      ]
     },
     "metadata": {},
     "output_type": "display_data"
    },
    {
     "data": {
      "application/vnd.jupyter.widget-view+json": {
       "model_id": "c536bc7b454a4f568eb6e3f516c0a5ee",
       "version_major": 2,
       "version_minor": 0
      },
      "text/plain": [
       "Batches:   0%|          | 0/1 [00:00<?, ?it/s]"
      ]
     },
     "metadata": {},
     "output_type": "display_data"
    },
    {
     "data": {
      "application/vnd.jupyter.widget-view+json": {
       "model_id": "876a7e655cdc4b18a82522fa1b7615a5",
       "version_major": 2,
       "version_minor": 0
      },
      "text/plain": [
       "Batches:   0%|          | 0/1 [00:00<?, ?it/s]"
      ]
     },
     "metadata": {},
     "output_type": "display_data"
    },
    {
     "data": {
      "application/vnd.jupyter.widget-view+json": {
       "model_id": "a7dfa923c81a47a394070fe41feb9b3e",
       "version_major": 2,
       "version_minor": 0
      },
      "text/plain": [
       "Batches:   0%|          | 0/1 [00:00<?, ?it/s]"
      ]
     },
     "metadata": {},
     "output_type": "display_data"
    },
    {
     "data": {
      "application/vnd.jupyter.widget-view+json": {
       "model_id": "a4fc4749d52f40078afb56965f280472",
       "version_major": 2,
       "version_minor": 0
      },
      "text/plain": [
       "Batches:   0%|          | 0/1 [00:00<?, ?it/s]"
      ]
     },
     "metadata": {},
     "output_type": "display_data"
    },
    {
     "data": {
      "application/vnd.jupyter.widget-view+json": {
       "model_id": "b99aff39e4f14482b2da0338bfcffce5",
       "version_major": 2,
       "version_minor": 0
      },
      "text/plain": [
       "Batches:   0%|          | 0/1 [00:00<?, ?it/s]"
      ]
     },
     "metadata": {},
     "output_type": "display_data"
    },
    {
     "data": {
      "application/vnd.jupyter.widget-view+json": {
       "model_id": "f69501d88c1f41328ea8209e4f8df647",
       "version_major": 2,
       "version_minor": 0
      },
      "text/plain": [
       "Batches:   0%|          | 0/1 [00:00<?, ?it/s]"
      ]
     },
     "metadata": {},
     "output_type": "display_data"
    },
    {
     "data": {
      "application/vnd.jupyter.widget-view+json": {
       "model_id": "1f10557660d54fa3a5286f2817c184a2",
       "version_major": 2,
       "version_minor": 0
      },
      "text/plain": [
       "Batches:   0%|          | 0/1 [00:00<?, ?it/s]"
      ]
     },
     "metadata": {},
     "output_type": "display_data"
    },
    {
     "data": {
      "application/vnd.jupyter.widget-view+json": {
       "model_id": "6e1d42282cb441e3ab5cdf9fa974a6d0",
       "version_major": 2,
       "version_minor": 0
      },
      "text/plain": [
       "Batches:   0%|          | 0/1 [00:00<?, ?it/s]"
      ]
     },
     "metadata": {},
     "output_type": "display_data"
    },
    {
     "data": {
      "application/vnd.jupyter.widget-view+json": {
       "model_id": "5738ab8de6b246469eca067f2da46e9c",
       "version_major": 2,
       "version_minor": 0
      },
      "text/plain": [
       "Batches:   0%|          | 0/1 [00:00<?, ?it/s]"
      ]
     },
     "metadata": {},
     "output_type": "display_data"
    },
    {
     "data": {
      "application/vnd.jupyter.widget-view+json": {
       "model_id": "068a6452617f4f2c9e7e0f085d1cad8a",
       "version_major": 2,
       "version_minor": 0
      },
      "text/plain": [
       "Batches:   0%|          | 0/1 [00:00<?, ?it/s]"
      ]
     },
     "metadata": {},
     "output_type": "display_data"
    },
    {
     "data": {
      "application/vnd.jupyter.widget-view+json": {
       "model_id": "16419672548d471bb35b9b16e3da06af",
       "version_major": 2,
       "version_minor": 0
      },
      "text/plain": [
       "Batches:   0%|          | 0/1 [00:00<?, ?it/s]"
      ]
     },
     "metadata": {},
     "output_type": "display_data"
    },
    {
     "data": {
      "application/vnd.jupyter.widget-view+json": {
       "model_id": "39bb004fd09e4ccfa26e0f68b92624c9",
       "version_major": 2,
       "version_minor": 0
      },
      "text/plain": [
       "Batches:   0%|          | 0/1 [00:00<?, ?it/s]"
      ]
     },
     "metadata": {},
     "output_type": "display_data"
    },
    {
     "data": {
      "application/vnd.jupyter.widget-view+json": {
       "model_id": "48da27e8a98242debda0ab855cc5cde4",
       "version_major": 2,
       "version_minor": 0
      },
      "text/plain": [
       "Batches:   0%|          | 0/1 [00:00<?, ?it/s]"
      ]
     },
     "metadata": {},
     "output_type": "display_data"
    },
    {
     "data": {
      "application/vnd.jupyter.widget-view+json": {
       "model_id": "4e3ad93bd20a4f3f8a6311e53909630f",
       "version_major": 2,
       "version_minor": 0
      },
      "text/plain": [
       "Batches:   0%|          | 0/1 [00:00<?, ?it/s]"
      ]
     },
     "metadata": {},
     "output_type": "display_data"
    },
    {
     "data": {
      "application/vnd.jupyter.widget-view+json": {
       "model_id": "e288216657cb40968a7fc13765d1346a",
       "version_major": 2,
       "version_minor": 0
      },
      "text/plain": [
       "Batches:   0%|          | 0/1 [00:00<?, ?it/s]"
      ]
     },
     "metadata": {},
     "output_type": "display_data"
    },
    {
     "data": {
      "application/vnd.jupyter.widget-view+json": {
       "model_id": "17d98971a9ba4fe9a83ebb72918a308a",
       "version_major": 2,
       "version_minor": 0
      },
      "text/plain": [
       "Batches:   0%|          | 0/1 [00:00<?, ?it/s]"
      ]
     },
     "metadata": {},
     "output_type": "display_data"
    },
    {
     "data": {
      "application/vnd.jupyter.widget-view+json": {
       "model_id": "d23a636289e4410abc503fe3abe8ab67",
       "version_major": 2,
       "version_minor": 0
      },
      "text/plain": [
       "Batches:   0%|          | 0/1 [00:00<?, ?it/s]"
      ]
     },
     "metadata": {},
     "output_type": "display_data"
    },
    {
     "data": {
      "application/vnd.jupyter.widget-view+json": {
       "model_id": "56e75214e8bf4fe6b80a5a3d080b0b38",
       "version_major": 2,
       "version_minor": 0
      },
      "text/plain": [
       "Batches:   0%|          | 0/1 [00:00<?, ?it/s]"
      ]
     },
     "metadata": {},
     "output_type": "display_data"
    },
    {
     "data": {
      "application/vnd.jupyter.widget-view+json": {
       "model_id": "db54673d7ba3486b9c9a1241b8a7eed6",
       "version_major": 2,
       "version_minor": 0
      },
      "text/plain": [
       "Batches:   0%|          | 0/1 [00:00<?, ?it/s]"
      ]
     },
     "metadata": {},
     "output_type": "display_data"
    },
    {
     "data": {
      "application/vnd.jupyter.widget-view+json": {
       "model_id": "5d8407c3676c4fa3b893870e4a8dc42e",
       "version_major": 2,
       "version_minor": 0
      },
      "text/plain": [
       "Batches:   0%|          | 0/1 [00:00<?, ?it/s]"
      ]
     },
     "metadata": {},
     "output_type": "display_data"
    },
    {
     "data": {
      "application/vnd.jupyter.widget-view+json": {
       "model_id": "f2a34bc23e5a4724862ae5328d729161",
       "version_major": 2,
       "version_minor": 0
      },
      "text/plain": [
       "Batches:   0%|          | 0/1 [00:00<?, ?it/s]"
      ]
     },
     "metadata": {},
     "output_type": "display_data"
    },
    {
     "data": {
      "application/vnd.jupyter.widget-view+json": {
       "model_id": "4949a8f9165f4e948aabb3f45ece2df0",
       "version_major": 2,
       "version_minor": 0
      },
      "text/plain": [
       "Batches:   0%|          | 0/1 [00:00<?, ?it/s]"
      ]
     },
     "metadata": {},
     "output_type": "display_data"
    },
    {
     "data": {
      "application/vnd.jupyter.widget-view+json": {
       "model_id": "318cb478822241c99307461935be7bea",
       "version_major": 2,
       "version_minor": 0
      },
      "text/plain": [
       "Batches:   0%|          | 0/1 [00:00<?, ?it/s]"
      ]
     },
     "metadata": {},
     "output_type": "display_data"
    },
    {
     "data": {
      "application/vnd.jupyter.widget-view+json": {
       "model_id": "e1d3f9ebd6204dea8c3e20ce0bb55f70",
       "version_major": 2,
       "version_minor": 0
      },
      "text/plain": [
       "Batches:   0%|          | 0/1 [00:00<?, ?it/s]"
      ]
     },
     "metadata": {},
     "output_type": "display_data"
    },
    {
     "data": {
      "application/vnd.jupyter.widget-view+json": {
       "model_id": "01d3d65794584633870b8ba223d4938b",
       "version_major": 2,
       "version_minor": 0
      },
      "text/plain": [
       "Batches:   0%|          | 0/1 [00:00<?, ?it/s]"
      ]
     },
     "metadata": {},
     "output_type": "display_data"
    },
    {
     "data": {
      "application/vnd.jupyter.widget-view+json": {
       "model_id": "e3b649bf8a9b41d4a6c79ff54c27dec9",
       "version_major": 2,
       "version_minor": 0
      },
      "text/plain": [
       "Batches:   0%|          | 0/1 [00:00<?, ?it/s]"
      ]
     },
     "metadata": {},
     "output_type": "display_data"
    },
    {
     "data": {
      "application/vnd.jupyter.widget-view+json": {
       "model_id": "323e479fc5bc47dbbf1c641ba2369398",
       "version_major": 2,
       "version_minor": 0
      },
      "text/plain": [
       "Batches:   0%|          | 0/1 [00:00<?, ?it/s]"
      ]
     },
     "metadata": {},
     "output_type": "display_data"
    },
    {
     "data": {
      "application/vnd.jupyter.widget-view+json": {
       "model_id": "4305b4bfadfe4f33be0072cfefaa4ce5",
       "version_major": 2,
       "version_minor": 0
      },
      "text/plain": [
       "Batches:   0%|          | 0/1 [00:00<?, ?it/s]"
      ]
     },
     "metadata": {},
     "output_type": "display_data"
    },
    {
     "data": {
      "application/vnd.jupyter.widget-view+json": {
       "model_id": "668cd818140c46a59cda7a0c769573cf",
       "version_major": 2,
       "version_minor": 0
      },
      "text/plain": [
       "Batches:   0%|          | 0/1 [00:00<?, ?it/s]"
      ]
     },
     "metadata": {},
     "output_type": "display_data"
    },
    {
     "data": {
      "application/vnd.jupyter.widget-view+json": {
       "model_id": "006a138962aa4afe86b6854eb5b036d1",
       "version_major": 2,
       "version_minor": 0
      },
      "text/plain": [
       "Batches:   0%|          | 0/1 [00:00<?, ?it/s]"
      ]
     },
     "metadata": {},
     "output_type": "display_data"
    },
    {
     "data": {
      "application/vnd.jupyter.widget-view+json": {
       "model_id": "308abc4cf00346e58306f45190cb3cdb",
       "version_major": 2,
       "version_minor": 0
      },
      "text/plain": [
       "Batches:   0%|          | 0/1 [00:00<?, ?it/s]"
      ]
     },
     "metadata": {},
     "output_type": "display_data"
    },
    {
     "data": {
      "application/vnd.jupyter.widget-view+json": {
       "model_id": "1bb02fdab58e423abcda673940f61ac4",
       "version_major": 2,
       "version_minor": 0
      },
      "text/plain": [
       "Batches:   0%|          | 0/1 [00:00<?, ?it/s]"
      ]
     },
     "metadata": {},
     "output_type": "display_data"
    },
    {
     "data": {
      "application/vnd.jupyter.widget-view+json": {
       "model_id": "477004d1b50d4de99dddbc722a3860da",
       "version_major": 2,
       "version_minor": 0
      },
      "text/plain": [
       "Batches:   0%|          | 0/1 [00:00<?, ?it/s]"
      ]
     },
     "metadata": {},
     "output_type": "display_data"
    },
    {
     "data": {
      "application/vnd.jupyter.widget-view+json": {
       "model_id": "194731dc0e594ef08c6afd92bac26299",
       "version_major": 2,
       "version_minor": 0
      },
      "text/plain": [
       "Batches:   0%|          | 0/1 [00:00<?, ?it/s]"
      ]
     },
     "metadata": {},
     "output_type": "display_data"
    },
    {
     "data": {
      "application/vnd.jupyter.widget-view+json": {
       "model_id": "cd59b69df6e9424a98548a3aa7e83533",
       "version_major": 2,
       "version_minor": 0
      },
      "text/plain": [
       "Batches:   0%|          | 0/1 [00:00<?, ?it/s]"
      ]
     },
     "metadata": {},
     "output_type": "display_data"
    },
    {
     "data": {
      "application/vnd.jupyter.widget-view+json": {
       "model_id": "5000cabfd5ab40e98262c8cff7d92b52",
       "version_major": 2,
       "version_minor": 0
      },
      "text/plain": [
       "Batches:   0%|          | 0/1 [00:00<?, ?it/s]"
      ]
     },
     "metadata": {},
     "output_type": "display_data"
    },
    {
     "data": {
      "application/vnd.jupyter.widget-view+json": {
       "model_id": "f56e48ab1d584bf7a13af15ee4023ff2",
       "version_major": 2,
       "version_minor": 0
      },
      "text/plain": [
       "Batches:   0%|          | 0/1 [00:00<?, ?it/s]"
      ]
     },
     "metadata": {},
     "output_type": "display_data"
    },
    {
     "data": {
      "application/vnd.jupyter.widget-view+json": {
       "model_id": "8f59543894bf407e9c9045c65454886c",
       "version_major": 2,
       "version_minor": 0
      },
      "text/plain": [
       "Batches:   0%|          | 0/1 [00:00<?, ?it/s]"
      ]
     },
     "metadata": {},
     "output_type": "display_data"
    },
    {
     "data": {
      "application/vnd.jupyter.widget-view+json": {
       "model_id": "8f63336cb0344ec1b37457155e36aae3",
       "version_major": 2,
       "version_minor": 0
      },
      "text/plain": [
       "Batches:   0%|          | 0/1 [00:00<?, ?it/s]"
      ]
     },
     "metadata": {},
     "output_type": "display_data"
    },
    {
     "data": {
      "application/vnd.jupyter.widget-view+json": {
       "model_id": "7addfa0ef3a64f6a8dc33b0e338e8909",
       "version_major": 2,
       "version_minor": 0
      },
      "text/plain": [
       "Batches:   0%|          | 0/1 [00:00<?, ?it/s]"
      ]
     },
     "metadata": {},
     "output_type": "display_data"
    },
    {
     "data": {
      "application/vnd.jupyter.widget-view+json": {
       "model_id": "5736edcc98844255b37964f8ab2bf61a",
       "version_major": 2,
       "version_minor": 0
      },
      "text/plain": [
       "Batches:   0%|          | 0/1 [00:00<?, ?it/s]"
      ]
     },
     "metadata": {},
     "output_type": "display_data"
    },
    {
     "data": {
      "application/vnd.jupyter.widget-view+json": {
       "model_id": "5f6b67faf56c40be96e70128672da4c4",
       "version_major": 2,
       "version_minor": 0
      },
      "text/plain": [
       "Batches:   0%|          | 0/1 [00:00<?, ?it/s]"
      ]
     },
     "metadata": {},
     "output_type": "display_data"
    },
    {
     "data": {
      "application/vnd.jupyter.widget-view+json": {
       "model_id": "7886bd2d803643e796672c9783f262fd",
       "version_major": 2,
       "version_minor": 0
      },
      "text/plain": [
       "Batches:   0%|          | 0/1 [00:00<?, ?it/s]"
      ]
     },
     "metadata": {},
     "output_type": "display_data"
    },
    {
     "data": {
      "application/vnd.jupyter.widget-view+json": {
       "model_id": "3ab0204ad5794cc582bb089848c48f80",
       "version_major": 2,
       "version_minor": 0
      },
      "text/plain": [
       "Batches:   0%|          | 0/1 [00:00<?, ?it/s]"
      ]
     },
     "metadata": {},
     "output_type": "display_data"
    },
    {
     "data": {
      "application/vnd.jupyter.widget-view+json": {
       "model_id": "5bfd2906a391405786c522aeb7e6e92b",
       "version_major": 2,
       "version_minor": 0
      },
      "text/plain": [
       "Batches:   0%|          | 0/1 [00:00<?, ?it/s]"
      ]
     },
     "metadata": {},
     "output_type": "display_data"
    },
    {
     "data": {
      "application/vnd.jupyter.widget-view+json": {
       "model_id": "ddab2a3acce54d6283aa8ba5a4bf4ba2",
       "version_major": 2,
       "version_minor": 0
      },
      "text/plain": [
       "Batches:   0%|          | 0/1 [00:00<?, ?it/s]"
      ]
     },
     "metadata": {},
     "output_type": "display_data"
    },
    {
     "data": {
      "application/vnd.jupyter.widget-view+json": {
       "model_id": "8f360e3bc9464596976976c2fc4a3f26",
       "version_major": 2,
       "version_minor": 0
      },
      "text/plain": [
       "Batches:   0%|          | 0/1 [00:00<?, ?it/s]"
      ]
     },
     "metadata": {},
     "output_type": "display_data"
    },
    {
     "data": {
      "application/vnd.jupyter.widget-view+json": {
       "model_id": "bde5fc0cdfdb4ee58f0cb1bfefd16a39",
       "version_major": 2,
       "version_minor": 0
      },
      "text/plain": [
       "Batches:   0%|          | 0/1 [00:00<?, ?it/s]"
      ]
     },
     "metadata": {},
     "output_type": "display_data"
    },
    {
     "data": {
      "application/vnd.jupyter.widget-view+json": {
       "model_id": "71d789136c194e5dbe67c7c8e0b1e29e",
       "version_major": 2,
       "version_minor": 0
      },
      "text/plain": [
       "Batches:   0%|          | 0/1 [00:00<?, ?it/s]"
      ]
     },
     "metadata": {},
     "output_type": "display_data"
    },
    {
     "data": {
      "application/vnd.jupyter.widget-view+json": {
       "model_id": "fffa3f05002347fd926aced095ce23c8",
       "version_major": 2,
       "version_minor": 0
      },
      "text/plain": [
       "Batches:   0%|          | 0/1 [00:00<?, ?it/s]"
      ]
     },
     "metadata": {},
     "output_type": "display_data"
    },
    {
     "data": {
      "application/vnd.jupyter.widget-view+json": {
       "model_id": "e51e2a301fb94fb2a1c1ce3b13fe964d",
       "version_major": 2,
       "version_minor": 0
      },
      "text/plain": [
       "Batches:   0%|          | 0/1 [00:00<?, ?it/s]"
      ]
     },
     "metadata": {},
     "output_type": "display_data"
    },
    {
     "data": {
      "application/vnd.jupyter.widget-view+json": {
       "model_id": "d730f6717df04a7383a159fdab7f0c76",
       "version_major": 2,
       "version_minor": 0
      },
      "text/plain": [
       "Batches:   0%|          | 0/1 [00:00<?, ?it/s]"
      ]
     },
     "metadata": {},
     "output_type": "display_data"
    },
    {
     "data": {
      "application/vnd.jupyter.widget-view+json": {
       "model_id": "62c98a354c964e339390b3f3213d379d",
       "version_major": 2,
       "version_minor": 0
      },
      "text/plain": [
       "Batches:   0%|          | 0/1 [00:00<?, ?it/s]"
      ]
     },
     "metadata": {},
     "output_type": "display_data"
    },
    {
     "data": {
      "application/vnd.jupyter.widget-view+json": {
       "model_id": "9505fcd89f4e4c35a28d8145d8bfcc18",
       "version_major": 2,
       "version_minor": 0
      },
      "text/plain": [
       "Batches:   0%|          | 0/1 [00:00<?, ?it/s]"
      ]
     },
     "metadata": {},
     "output_type": "display_data"
    },
    {
     "data": {
      "application/vnd.jupyter.widget-view+json": {
       "model_id": "9f38234085134474877f1dd401444bdd",
       "version_major": 2,
       "version_minor": 0
      },
      "text/plain": [
       "Batches:   0%|          | 0/1 [00:00<?, ?it/s]"
      ]
     },
     "metadata": {},
     "output_type": "display_data"
    },
    {
     "data": {
      "application/vnd.jupyter.widget-view+json": {
       "model_id": "48bc7dcd35dd4c04a7940e8749abc2fa",
       "version_major": 2,
       "version_minor": 0
      },
      "text/plain": [
       "Batches:   0%|          | 0/1 [00:00<?, ?it/s]"
      ]
     },
     "metadata": {},
     "output_type": "display_data"
    },
    {
     "data": {
      "application/vnd.jupyter.widget-view+json": {
       "model_id": "21a7b516fb9943d3a839eba7633242cd",
       "version_major": 2,
       "version_minor": 0
      },
      "text/plain": [
       "Batches:   0%|          | 0/1 [00:00<?, ?it/s]"
      ]
     },
     "metadata": {},
     "output_type": "display_data"
    },
    {
     "data": {
      "application/vnd.jupyter.widget-view+json": {
       "model_id": "95cb77f7e73c471e96094db1a21514f0",
       "version_major": 2,
       "version_minor": 0
      },
      "text/plain": [
       "Batches:   0%|          | 0/1 [00:00<?, ?it/s]"
      ]
     },
     "metadata": {},
     "output_type": "display_data"
    },
    {
     "data": {
      "application/vnd.jupyter.widget-view+json": {
       "model_id": "2f8272f04b634650968a0d447ecd79f1",
       "version_major": 2,
       "version_minor": 0
      },
      "text/plain": [
       "Batches:   0%|          | 0/1 [00:00<?, ?it/s]"
      ]
     },
     "metadata": {},
     "output_type": "display_data"
    },
    {
     "data": {
      "application/vnd.jupyter.widget-view+json": {
       "model_id": "56ac45bd8c9a4798a9601394a451d44b",
       "version_major": 2,
       "version_minor": 0
      },
      "text/plain": [
       "Batches:   0%|          | 0/1 [00:00<?, ?it/s]"
      ]
     },
     "metadata": {},
     "output_type": "display_data"
    },
    {
     "data": {
      "application/vnd.jupyter.widget-view+json": {
       "model_id": "f30af99ab3e34e7fbf4063cf475f32eb",
       "version_major": 2,
       "version_minor": 0
      },
      "text/plain": [
       "Batches:   0%|          | 0/1 [00:00<?, ?it/s]"
      ]
     },
     "metadata": {},
     "output_type": "display_data"
    },
    {
     "data": {
      "application/vnd.jupyter.widget-view+json": {
       "model_id": "21fd4634fb32411e9d6738af9437b2f5",
       "version_major": 2,
       "version_minor": 0
      },
      "text/plain": [
       "Batches:   0%|          | 0/1 [00:00<?, ?it/s]"
      ]
     },
     "metadata": {},
     "output_type": "display_data"
    },
    {
     "data": {
      "application/vnd.jupyter.widget-view+json": {
       "model_id": "6d8151db6dec4835b236d18e646d37bc",
       "version_major": 2,
       "version_minor": 0
      },
      "text/plain": [
       "Batches:   0%|          | 0/1 [00:00<?, ?it/s]"
      ]
     },
     "metadata": {},
     "output_type": "display_data"
    },
    {
     "data": {
      "application/vnd.jupyter.widget-view+json": {
       "model_id": "73130baf198e459fb070db3d32e96f48",
       "version_major": 2,
       "version_minor": 0
      },
      "text/plain": [
       "Batches:   0%|          | 0/1 [00:00<?, ?it/s]"
      ]
     },
     "metadata": {},
     "output_type": "display_data"
    },
    {
     "data": {
      "application/vnd.jupyter.widget-view+json": {
       "model_id": "1a28f28bb3b44294af9819d5b6ab2eb8",
       "version_major": 2,
       "version_minor": 0
      },
      "text/plain": [
       "Batches:   0%|          | 0/1 [00:00<?, ?it/s]"
      ]
     },
     "metadata": {},
     "output_type": "display_data"
    },
    {
     "data": {
      "application/vnd.jupyter.widget-view+json": {
       "model_id": "3dd2f29283b448b292146e2c8436dffc",
       "version_major": 2,
       "version_minor": 0
      },
      "text/plain": [
       "Batches:   0%|          | 0/1 [00:00<?, ?it/s]"
      ]
     },
     "metadata": {},
     "output_type": "display_data"
    },
    {
     "data": {
      "application/vnd.jupyter.widget-view+json": {
       "model_id": "d83b01c8d6a7475a883b3645c4bf2d15",
       "version_major": 2,
       "version_minor": 0
      },
      "text/plain": [
       "Batches:   0%|          | 0/1 [00:00<?, ?it/s]"
      ]
     },
     "metadata": {},
     "output_type": "display_data"
    },
    {
     "data": {
      "application/vnd.jupyter.widget-view+json": {
       "model_id": "fdebbdd543bc41c69fd4abd3a692fd8f",
       "version_major": 2,
       "version_minor": 0
      },
      "text/plain": [
       "Batches:   0%|          | 0/1 [00:00<?, ?it/s]"
      ]
     },
     "metadata": {},
     "output_type": "display_data"
    },
    {
     "data": {
      "application/vnd.jupyter.widget-view+json": {
       "model_id": "3d12384aa89b41ffa70d220048e0e0e1",
       "version_major": 2,
       "version_minor": 0
      },
      "text/plain": [
       "Batches:   0%|          | 0/1 [00:00<?, ?it/s]"
      ]
     },
     "metadata": {},
     "output_type": "display_data"
    },
    {
     "data": {
      "application/vnd.jupyter.widget-view+json": {
       "model_id": "a7922dd967414e0fa6940a8b540dfd9a",
       "version_major": 2,
       "version_minor": 0
      },
      "text/plain": [
       "Batches:   0%|          | 0/1 [00:00<?, ?it/s]"
      ]
     },
     "metadata": {},
     "output_type": "display_data"
    },
    {
     "data": {
      "application/vnd.jupyter.widget-view+json": {
       "model_id": "d80eb3a860e9408392e673a2ac8a802e",
       "version_major": 2,
       "version_minor": 0
      },
      "text/plain": [
       "Batches:   0%|          | 0/1 [00:00<?, ?it/s]"
      ]
     },
     "metadata": {},
     "output_type": "display_data"
    },
    {
     "data": {
      "application/vnd.jupyter.widget-view+json": {
       "model_id": "def2c70a4e684cff9667c539d19ed6da",
       "version_major": 2,
       "version_minor": 0
      },
      "text/plain": [
       "Batches:   0%|          | 0/1 [00:00<?, ?it/s]"
      ]
     },
     "metadata": {},
     "output_type": "display_data"
    },
    {
     "data": {
      "application/vnd.jupyter.widget-view+json": {
       "model_id": "182875cbfcd74fffbf02ef03621c2916",
       "version_major": 2,
       "version_minor": 0
      },
      "text/plain": [
       "Batches:   0%|          | 0/1 [00:00<?, ?it/s]"
      ]
     },
     "metadata": {},
     "output_type": "display_data"
    },
    {
     "data": {
      "application/vnd.jupyter.widget-view+json": {
       "model_id": "dc3f8f9a71e044f6ad811dddf0bf834e",
       "version_major": 2,
       "version_minor": 0
      },
      "text/plain": [
       "Batches:   0%|          | 0/1 [00:00<?, ?it/s]"
      ]
     },
     "metadata": {},
     "output_type": "display_data"
    },
    {
     "data": {
      "application/vnd.jupyter.widget-view+json": {
       "model_id": "efdd5e7557d84b40afd67c0392d23dc1",
       "version_major": 2,
       "version_minor": 0
      },
      "text/plain": [
       "Batches:   0%|          | 0/1 [00:00<?, ?it/s]"
      ]
     },
     "metadata": {},
     "output_type": "display_data"
    },
    {
     "data": {
      "application/vnd.jupyter.widget-view+json": {
       "model_id": "468366aec3054a0e9d687d579f9f3c0d",
       "version_major": 2,
       "version_minor": 0
      },
      "text/plain": [
       "Batches:   0%|          | 0/1 [00:00<?, ?it/s]"
      ]
     },
     "metadata": {},
     "output_type": "display_data"
    },
    {
     "data": {
      "application/vnd.jupyter.widget-view+json": {
       "model_id": "a5f7ed82cb2b438cab678e78422428b5",
       "version_major": 2,
       "version_minor": 0
      },
      "text/plain": [
       "Batches:   0%|          | 0/1 [00:00<?, ?it/s]"
      ]
     },
     "metadata": {},
     "output_type": "display_data"
    },
    {
     "data": {
      "application/vnd.jupyter.widget-view+json": {
       "model_id": "e6975660f66e4c1d87cbc647509df673",
       "version_major": 2,
       "version_minor": 0
      },
      "text/plain": [
       "Batches:   0%|          | 0/1 [00:00<?, ?it/s]"
      ]
     },
     "metadata": {},
     "output_type": "display_data"
    },
    {
     "data": {
      "application/vnd.jupyter.widget-view+json": {
       "model_id": "ca70b8eff98e4c6bb7294599e9d320f9",
       "version_major": 2,
       "version_minor": 0
      },
      "text/plain": [
       "Batches:   0%|          | 0/1 [00:00<?, ?it/s]"
      ]
     },
     "metadata": {},
     "output_type": "display_data"
    },
    {
     "data": {
      "application/vnd.jupyter.widget-view+json": {
       "model_id": "b100debabcb54a1fa2620018a957a651",
       "version_major": 2,
       "version_minor": 0
      },
      "text/plain": [
       "Batches:   0%|          | 0/1 [00:00<?, ?it/s]"
      ]
     },
     "metadata": {},
     "output_type": "display_data"
    },
    {
     "data": {
      "application/vnd.jupyter.widget-view+json": {
       "model_id": "711a2f97bcbe4752a11dab2bb5245c7e",
       "version_major": 2,
       "version_minor": 0
      },
      "text/plain": [
       "Batches:   0%|          | 0/1 [00:00<?, ?it/s]"
      ]
     },
     "metadata": {},
     "output_type": "display_data"
    },
    {
     "data": {
      "application/vnd.jupyter.widget-view+json": {
       "model_id": "b6be3e34d351432f9c5958b25ac15411",
       "version_major": 2,
       "version_minor": 0
      },
      "text/plain": [
       "Batches:   0%|          | 0/1 [00:00<?, ?it/s]"
      ]
     },
     "metadata": {},
     "output_type": "display_data"
    },
    {
     "data": {
      "application/vnd.jupyter.widget-view+json": {
       "model_id": "436685923b414d61983a3ca0002a5d19",
       "version_major": 2,
       "version_minor": 0
      },
      "text/plain": [
       "Batches:   0%|          | 0/1 [00:00<?, ?it/s]"
      ]
     },
     "metadata": {},
     "output_type": "display_data"
    },
    {
     "data": {
      "application/vnd.jupyter.widget-view+json": {
       "model_id": "48456a047f8f422c84951cab01fa1a34",
       "version_major": 2,
       "version_minor": 0
      },
      "text/plain": [
       "Batches:   0%|          | 0/1 [00:00<?, ?it/s]"
      ]
     },
     "metadata": {},
     "output_type": "display_data"
    },
    {
     "data": {
      "application/vnd.jupyter.widget-view+json": {
       "model_id": "662ce72fcd5c47edbc4b6f9eb0df7575",
       "version_major": 2,
       "version_minor": 0
      },
      "text/plain": [
       "Batches:   0%|          | 0/1 [00:00<?, ?it/s]"
      ]
     },
     "metadata": {},
     "output_type": "display_data"
    },
    {
     "data": {
      "application/vnd.jupyter.widget-view+json": {
       "model_id": "5bd74d641a854fec901a12f1ddfcc6cd",
       "version_major": 2,
       "version_minor": 0
      },
      "text/plain": [
       "Batches:   0%|          | 0/1 [00:00<?, ?it/s]"
      ]
     },
     "metadata": {},
     "output_type": "display_data"
    },
    {
     "data": {
      "application/vnd.jupyter.widget-view+json": {
       "model_id": "440165274d6b43a0b93fc5e549380a1f",
       "version_major": 2,
       "version_minor": 0
      },
      "text/plain": [
       "Batches:   0%|          | 0/1 [00:00<?, ?it/s]"
      ]
     },
     "metadata": {},
     "output_type": "display_data"
    },
    {
     "data": {
      "application/vnd.jupyter.widget-view+json": {
       "model_id": "65385db5da0b46b38ee3599f24c7d34e",
       "version_major": 2,
       "version_minor": 0
      },
      "text/plain": [
       "Batches:   0%|          | 0/1 [00:00<?, ?it/s]"
      ]
     },
     "metadata": {},
     "output_type": "display_data"
    },
    {
     "data": {
      "application/vnd.jupyter.widget-view+json": {
       "model_id": "492d2fa1c1814b7abf06edd05404f27f",
       "version_major": 2,
       "version_minor": 0
      },
      "text/plain": [
       "Batches:   0%|          | 0/1 [00:00<?, ?it/s]"
      ]
     },
     "metadata": {},
     "output_type": "display_data"
    },
    {
     "data": {
      "application/vnd.jupyter.widget-view+json": {
       "model_id": "4d62491687a14ce297239b83dde2a4fc",
       "version_major": 2,
       "version_minor": 0
      },
      "text/plain": [
       "Batches:   0%|          | 0/1 [00:00<?, ?it/s]"
      ]
     },
     "metadata": {},
     "output_type": "display_data"
    },
    {
     "data": {
      "application/vnd.jupyter.widget-view+json": {
       "model_id": "ea5e48c2ece549918f0455e62faf040a",
       "version_major": 2,
       "version_minor": 0
      },
      "text/plain": [
       "Batches:   0%|          | 0/1 [00:00<?, ?it/s]"
      ]
     },
     "metadata": {},
     "output_type": "display_data"
    },
    {
     "data": {
      "application/vnd.jupyter.widget-view+json": {
       "model_id": "7f41eca9c89c47d8bad7810ded65c49d",
       "version_major": 2,
       "version_minor": 0
      },
      "text/plain": [
       "Batches:   0%|          | 0/1 [00:00<?, ?it/s]"
      ]
     },
     "metadata": {},
     "output_type": "display_data"
    },
    {
     "data": {
      "application/vnd.jupyter.widget-view+json": {
       "model_id": "bf36ce6a8537498ab6e8c811249cdaa0",
       "version_major": 2,
       "version_minor": 0
      },
      "text/plain": [
       "Batches:   0%|          | 0/1 [00:00<?, ?it/s]"
      ]
     },
     "metadata": {},
     "output_type": "display_data"
    },
    {
     "data": {
      "application/vnd.jupyter.widget-view+json": {
       "model_id": "f8d53720a1eb4a78beab527442396e29",
       "version_major": 2,
       "version_minor": 0
      },
      "text/plain": [
       "Batches:   0%|          | 0/1 [00:00<?, ?it/s]"
      ]
     },
     "metadata": {},
     "output_type": "display_data"
    },
    {
     "data": {
      "application/vnd.jupyter.widget-view+json": {
       "model_id": "7f55897f2e9646b88bb8969bc6141758",
       "version_major": 2,
       "version_minor": 0
      },
      "text/plain": [
       "Batches:   0%|          | 0/1 [00:00<?, ?it/s]"
      ]
     },
     "metadata": {},
     "output_type": "display_data"
    },
    {
     "data": {
      "application/vnd.jupyter.widget-view+json": {
       "model_id": "cc6adae6055e4aba916520f906ad154d",
       "version_major": 2,
       "version_minor": 0
      },
      "text/plain": [
       "Batches:   0%|          | 0/1 [00:00<?, ?it/s]"
      ]
     },
     "metadata": {},
     "output_type": "display_data"
    },
    {
     "data": {
      "application/vnd.jupyter.widget-view+json": {
       "model_id": "45ef49ee4a094120bf54b119cbd1415a",
       "version_major": 2,
       "version_minor": 0
      },
      "text/plain": [
       "Batches:   0%|          | 0/1 [00:00<?, ?it/s]"
      ]
     },
     "metadata": {},
     "output_type": "display_data"
    },
    {
     "data": {
      "application/vnd.jupyter.widget-view+json": {
       "model_id": "b39028530f964c27902b190b9bfd0e6f",
       "version_major": 2,
       "version_minor": 0
      },
      "text/plain": [
       "Batches:   0%|          | 0/1 [00:00<?, ?it/s]"
      ]
     },
     "metadata": {},
     "output_type": "display_data"
    },
    {
     "data": {
      "application/vnd.jupyter.widget-view+json": {
       "model_id": "5ff0f5970da843aabec542556e2726ed",
       "version_major": 2,
       "version_minor": 0
      },
      "text/plain": [
       "Batches:   0%|          | 0/1 [00:00<?, ?it/s]"
      ]
     },
     "metadata": {},
     "output_type": "display_data"
    },
    {
     "data": {
      "application/vnd.jupyter.widget-view+json": {
       "model_id": "e425a724cbef48ba8fee26fd2ea9ec30",
       "version_major": 2,
       "version_minor": 0
      },
      "text/plain": [
       "Batches:   0%|          | 0/1 [00:00<?, ?it/s]"
      ]
     },
     "metadata": {},
     "output_type": "display_data"
    },
    {
     "data": {
      "application/vnd.jupyter.widget-view+json": {
       "model_id": "ccaa5fa3db1f4e56ab8b18014ccb459d",
       "version_major": 2,
       "version_minor": 0
      },
      "text/plain": [
       "Batches:   0%|          | 0/1 [00:00<?, ?it/s]"
      ]
     },
     "metadata": {},
     "output_type": "display_data"
    },
    {
     "data": {
      "application/vnd.jupyter.widget-view+json": {
       "model_id": "d395cac8ca7f49239f637c3f5e2df3b5",
       "version_major": 2,
       "version_minor": 0
      },
      "text/plain": [
       "Batches:   0%|          | 0/1 [00:00<?, ?it/s]"
      ]
     },
     "metadata": {},
     "output_type": "display_data"
    },
    {
     "data": {
      "application/vnd.jupyter.widget-view+json": {
       "model_id": "959cef58121c4bc7a0ca1d1469df6534",
       "version_major": 2,
       "version_minor": 0
      },
      "text/plain": [
       "Batches:   0%|          | 0/1 [00:00<?, ?it/s]"
      ]
     },
     "metadata": {},
     "output_type": "display_data"
    },
    {
     "data": {
      "application/vnd.jupyter.widget-view+json": {
       "model_id": "2942d9e8b58b422ea618d7a8562cdd7b",
       "version_major": 2,
       "version_minor": 0
      },
      "text/plain": [
       "Batches:   0%|          | 0/1 [00:00<?, ?it/s]"
      ]
     },
     "metadata": {},
     "output_type": "display_data"
    },
    {
     "data": {
      "application/vnd.jupyter.widget-view+json": {
       "model_id": "f1ae0f0335eb42c3a1671e20d14d946c",
       "version_major": 2,
       "version_minor": 0
      },
      "text/plain": [
       "Batches:   0%|          | 0/1 [00:00<?, ?it/s]"
      ]
     },
     "metadata": {},
     "output_type": "display_data"
    },
    {
     "data": {
      "application/vnd.jupyter.widget-view+json": {
       "model_id": "3e5aa0a8b77f4ae0b8da122c62400ad7",
       "version_major": 2,
       "version_minor": 0
      },
      "text/plain": [
       "Batches:   0%|          | 0/1 [00:00<?, ?it/s]"
      ]
     },
     "metadata": {},
     "output_type": "display_data"
    },
    {
     "data": {
      "application/vnd.jupyter.widget-view+json": {
       "model_id": "cde1fca5995b4e6c891b87c53426fa8a",
       "version_major": 2,
       "version_minor": 0
      },
      "text/plain": [
       "Batches:   0%|          | 0/1 [00:00<?, ?it/s]"
      ]
     },
     "metadata": {},
     "output_type": "display_data"
    },
    {
     "data": {
      "application/vnd.jupyter.widget-view+json": {
       "model_id": "bb5390aa0c66489c906dbf48d15a97d1",
       "version_major": 2,
       "version_minor": 0
      },
      "text/plain": [
       "Batches:   0%|          | 0/1 [00:00<?, ?it/s]"
      ]
     },
     "metadata": {},
     "output_type": "display_data"
    },
    {
     "data": {
      "application/vnd.jupyter.widget-view+json": {
       "model_id": "159a8017871041b0a5bbda2c5fc86ede",
       "version_major": 2,
       "version_minor": 0
      },
      "text/plain": [
       "Batches:   0%|          | 0/1 [00:00<?, ?it/s]"
      ]
     },
     "metadata": {},
     "output_type": "display_data"
    },
    {
     "data": {
      "application/vnd.jupyter.widget-view+json": {
       "model_id": "395d7c8cdb1a490297c9a829521ed997",
       "version_major": 2,
       "version_minor": 0
      },
      "text/plain": [
       "Batches:   0%|          | 0/1 [00:00<?, ?it/s]"
      ]
     },
     "metadata": {},
     "output_type": "display_data"
    },
    {
     "data": {
      "application/vnd.jupyter.widget-view+json": {
       "model_id": "0fac8322f981431584769738a82886f2",
       "version_major": 2,
       "version_minor": 0
      },
      "text/plain": [
       "Batches:   0%|          | 0/1 [00:00<?, ?it/s]"
      ]
     },
     "metadata": {},
     "output_type": "display_data"
    },
    {
     "data": {
      "application/vnd.jupyter.widget-view+json": {
       "model_id": "455dc46239004daf84efa2e7aa4a38b7",
       "version_major": 2,
       "version_minor": 0
      },
      "text/plain": [
       "Batches:   0%|          | 0/1 [00:00<?, ?it/s]"
      ]
     },
     "metadata": {},
     "output_type": "display_data"
    },
    {
     "data": {
      "application/vnd.jupyter.widget-view+json": {
       "model_id": "5964ed3ad0524d47b605913e95f3056c",
       "version_major": 2,
       "version_minor": 0
      },
      "text/plain": [
       "Batches:   0%|          | 0/1 [00:00<?, ?it/s]"
      ]
     },
     "metadata": {},
     "output_type": "display_data"
    },
    {
     "data": {
      "application/vnd.jupyter.widget-view+json": {
       "model_id": "81ad1870036d424093b9ddc494999ee5",
       "version_major": 2,
       "version_minor": 0
      },
      "text/plain": [
       "Batches:   0%|          | 0/1 [00:00<?, ?it/s]"
      ]
     },
     "metadata": {},
     "output_type": "display_data"
    },
    {
     "data": {
      "application/vnd.jupyter.widget-view+json": {
       "model_id": "b30aa522877b4d62a9db9e2790520286",
       "version_major": 2,
       "version_minor": 0
      },
      "text/plain": [
       "Batches:   0%|          | 0/1 [00:00<?, ?it/s]"
      ]
     },
     "metadata": {},
     "output_type": "display_data"
    },
    {
     "data": {
      "application/vnd.jupyter.widget-view+json": {
       "model_id": "64049cf07d6641658182a18afb77f867",
       "version_major": 2,
       "version_minor": 0
      },
      "text/plain": [
       "Batches:   0%|          | 0/1 [00:00<?, ?it/s]"
      ]
     },
     "metadata": {},
     "output_type": "display_data"
    },
    {
     "data": {
      "application/vnd.jupyter.widget-view+json": {
       "model_id": "13afee0564934bdfa243308b224729c2",
       "version_major": 2,
       "version_minor": 0
      },
      "text/plain": [
       "Batches:   0%|          | 0/1 [00:00<?, ?it/s]"
      ]
     },
     "metadata": {},
     "output_type": "display_data"
    },
    {
     "data": {
      "application/vnd.jupyter.widget-view+json": {
       "model_id": "c82175d54ba94b069f5b9077a4044105",
       "version_major": 2,
       "version_minor": 0
      },
      "text/plain": [
       "Batches:   0%|          | 0/1 [00:00<?, ?it/s]"
      ]
     },
     "metadata": {},
     "output_type": "display_data"
    },
    {
     "data": {
      "application/vnd.jupyter.widget-view+json": {
       "model_id": "45232af32f954095a0841c6af7083c78",
       "version_major": 2,
       "version_minor": 0
      },
      "text/plain": [
       "Batches:   0%|          | 0/1 [00:00<?, ?it/s]"
      ]
     },
     "metadata": {},
     "output_type": "display_data"
    },
    {
     "data": {
      "application/vnd.jupyter.widget-view+json": {
       "model_id": "32c8e48641d4433fa9a3edd5cea76648",
       "version_major": 2,
       "version_minor": 0
      },
      "text/plain": [
       "Batches:   0%|          | 0/1 [00:00<?, ?it/s]"
      ]
     },
     "metadata": {},
     "output_type": "display_data"
    },
    {
     "data": {
      "application/vnd.jupyter.widget-view+json": {
       "model_id": "e95e0f82c0304274bc93da13457feec4",
       "version_major": 2,
       "version_minor": 0
      },
      "text/plain": [
       "Batches:   0%|          | 0/1 [00:00<?, ?it/s]"
      ]
     },
     "metadata": {},
     "output_type": "display_data"
    },
    {
     "data": {
      "application/vnd.jupyter.widget-view+json": {
       "model_id": "a1f0a4ca28ca478fabc118b2eae7e972",
       "version_major": 2,
       "version_minor": 0
      },
      "text/plain": [
       "Batches:   0%|          | 0/1 [00:00<?, ?it/s]"
      ]
     },
     "metadata": {},
     "output_type": "display_data"
    },
    {
     "data": {
      "application/vnd.jupyter.widget-view+json": {
       "model_id": "2bde0951c3d8445784ee192260832b75",
       "version_major": 2,
       "version_minor": 0
      },
      "text/plain": [
       "Batches:   0%|          | 0/1 [00:00<?, ?it/s]"
      ]
     },
     "metadata": {},
     "output_type": "display_data"
    },
    {
     "data": {
      "application/vnd.jupyter.widget-view+json": {
       "model_id": "fc15cbd7ef954552aac205674e2392a7",
       "version_major": 2,
       "version_minor": 0
      },
      "text/plain": [
       "Batches:   0%|          | 0/1 [00:00<?, ?it/s]"
      ]
     },
     "metadata": {},
     "output_type": "display_data"
    },
    {
     "data": {
      "application/vnd.jupyter.widget-view+json": {
       "model_id": "be80b96b5de040d789e69103e7f4b913",
       "version_major": 2,
       "version_minor": 0
      },
      "text/plain": [
       "Batches:   0%|          | 0/1 [00:00<?, ?it/s]"
      ]
     },
     "metadata": {},
     "output_type": "display_data"
    },
    {
     "data": {
      "application/vnd.jupyter.widget-view+json": {
       "model_id": "e5614e17342741dfbe263003584f60aa",
       "version_major": 2,
       "version_minor": 0
      },
      "text/plain": [
       "Batches:   0%|          | 0/1 [00:00<?, ?it/s]"
      ]
     },
     "metadata": {},
     "output_type": "display_data"
    },
    {
     "data": {
      "application/vnd.jupyter.widget-view+json": {
       "model_id": "466f245309c04e9ea9db0190d01c7559",
       "version_major": 2,
       "version_minor": 0
      },
      "text/plain": [
       "Batches:   0%|          | 0/1 [00:00<?, ?it/s]"
      ]
     },
     "metadata": {},
     "output_type": "display_data"
    },
    {
     "data": {
      "application/vnd.jupyter.widget-view+json": {
       "model_id": "9b15bf749b1f4c39a7c0dfbe1315f77c",
       "version_major": 2,
       "version_minor": 0
      },
      "text/plain": [
       "Batches:   0%|          | 0/1 [00:00<?, ?it/s]"
      ]
     },
     "metadata": {},
     "output_type": "display_data"
    },
    {
     "data": {
      "application/vnd.jupyter.widget-view+json": {
       "model_id": "06467b4198a946d4ad26f95f02beaf23",
       "version_major": 2,
       "version_minor": 0
      },
      "text/plain": [
       "Batches:   0%|          | 0/1 [00:00<?, ?it/s]"
      ]
     },
     "metadata": {},
     "output_type": "display_data"
    },
    {
     "data": {
      "application/vnd.jupyter.widget-view+json": {
       "model_id": "96c07d76536c4ee0adb67e29042eb3ad",
       "version_major": 2,
       "version_minor": 0
      },
      "text/plain": [
       "Batches:   0%|          | 0/1 [00:00<?, ?it/s]"
      ]
     },
     "metadata": {},
     "output_type": "display_data"
    },
    {
     "data": {
      "application/vnd.jupyter.widget-view+json": {
       "model_id": "d4c983434b5d49538e0823017cddc8cb",
       "version_major": 2,
       "version_minor": 0
      },
      "text/plain": [
       "Batches:   0%|          | 0/1 [00:00<?, ?it/s]"
      ]
     },
     "metadata": {},
     "output_type": "display_data"
    },
    {
     "data": {
      "application/vnd.jupyter.widget-view+json": {
       "model_id": "0edb78371fc549c58648b2a17639e510",
       "version_major": 2,
       "version_minor": 0
      },
      "text/plain": [
       "Batches:   0%|          | 0/1 [00:00<?, ?it/s]"
      ]
     },
     "metadata": {},
     "output_type": "display_data"
    },
    {
     "data": {
      "application/vnd.jupyter.widget-view+json": {
       "model_id": "f0a4a180c7b24e089a08cfdc5926b70a",
       "version_major": 2,
       "version_minor": 0
      },
      "text/plain": [
       "Batches:   0%|          | 0/1 [00:00<?, ?it/s]"
      ]
     },
     "metadata": {},
     "output_type": "display_data"
    },
    {
     "data": {
      "application/vnd.jupyter.widget-view+json": {
       "model_id": "7036ef35cbf64f269180284b13912809",
       "version_major": 2,
       "version_minor": 0
      },
      "text/plain": [
       "Batches:   0%|          | 0/1 [00:00<?, ?it/s]"
      ]
     },
     "metadata": {},
     "output_type": "display_data"
    },
    {
     "data": {
      "application/vnd.jupyter.widget-view+json": {
       "model_id": "2977eea82c9c45b5b7cc7e2e35386c30",
       "version_major": 2,
       "version_minor": 0
      },
      "text/plain": [
       "Batches:   0%|          | 0/1 [00:00<?, ?it/s]"
      ]
     },
     "metadata": {},
     "output_type": "display_data"
    },
    {
     "data": {
      "application/vnd.jupyter.widget-view+json": {
       "model_id": "56c772e5ce4b49a096c65151446a8262",
       "version_major": 2,
       "version_minor": 0
      },
      "text/plain": [
       "Batches:   0%|          | 0/1 [00:00<?, ?it/s]"
      ]
     },
     "metadata": {},
     "output_type": "display_data"
    },
    {
     "data": {
      "application/vnd.jupyter.widget-view+json": {
       "model_id": "9e7a95058ef3441e97d86a97d6271bc4",
       "version_major": 2,
       "version_minor": 0
      },
      "text/plain": [
       "Batches:   0%|          | 0/1 [00:00<?, ?it/s]"
      ]
     },
     "metadata": {},
     "output_type": "display_data"
    },
    {
     "data": {
      "application/vnd.jupyter.widget-view+json": {
       "model_id": "94873db4ecd34c68ba534b1d245448a2",
       "version_major": 2,
       "version_minor": 0
      },
      "text/plain": [
       "Batches:   0%|          | 0/1 [00:00<?, ?it/s]"
      ]
     },
     "metadata": {},
     "output_type": "display_data"
    },
    {
     "data": {
      "application/vnd.jupyter.widget-view+json": {
       "model_id": "d2b205532c19490f9e14352f21396d2f",
       "version_major": 2,
       "version_minor": 0
      },
      "text/plain": [
       "Batches:   0%|          | 0/1 [00:00<?, ?it/s]"
      ]
     },
     "metadata": {},
     "output_type": "display_data"
    },
    {
     "data": {
      "application/vnd.jupyter.widget-view+json": {
       "model_id": "19f56157372d490a8503be6d555e429b",
       "version_major": 2,
       "version_minor": 0
      },
      "text/plain": [
       "Batches:   0%|          | 0/1 [00:00<?, ?it/s]"
      ]
     },
     "metadata": {},
     "output_type": "display_data"
    },
    {
     "data": {
      "application/vnd.jupyter.widget-view+json": {
       "model_id": "1dc63df1a2914c56a1addb3e15bc2a5c",
       "version_major": 2,
       "version_minor": 0
      },
      "text/plain": [
       "Batches:   0%|          | 0/1 [00:00<?, ?it/s]"
      ]
     },
     "metadata": {},
     "output_type": "display_data"
    },
    {
     "data": {
      "application/vnd.jupyter.widget-view+json": {
       "model_id": "7e40f9cac51d4e0f9b398c2dd2396da3",
       "version_major": 2,
       "version_minor": 0
      },
      "text/plain": [
       "Batches:   0%|          | 0/1 [00:00<?, ?it/s]"
      ]
     },
     "metadata": {},
     "output_type": "display_data"
    },
    {
     "data": {
      "application/vnd.jupyter.widget-view+json": {
       "model_id": "ec82b31457b747c984487920d9424b7a",
       "version_major": 2,
       "version_minor": 0
      },
      "text/plain": [
       "Batches:   0%|          | 0/1 [00:00<?, ?it/s]"
      ]
     },
     "metadata": {},
     "output_type": "display_data"
    },
    {
     "data": {
      "application/vnd.jupyter.widget-view+json": {
       "model_id": "e951506fd59e4dcdaed7c0722a407ebc",
       "version_major": 2,
       "version_minor": 0
      },
      "text/plain": [
       "Batches:   0%|          | 0/1 [00:00<?, ?it/s]"
      ]
     },
     "metadata": {},
     "output_type": "display_data"
    },
    {
     "data": {
      "application/vnd.jupyter.widget-view+json": {
       "model_id": "6044b2f3f24745379e1db6f0f2a65d33",
       "version_major": 2,
       "version_minor": 0
      },
      "text/plain": [
       "Batches:   0%|          | 0/1 [00:00<?, ?it/s]"
      ]
     },
     "metadata": {},
     "output_type": "display_data"
    },
    {
     "data": {
      "application/vnd.jupyter.widget-view+json": {
       "model_id": "bd800307eaaf4d70ae860b6551fb7588",
       "version_major": 2,
       "version_minor": 0
      },
      "text/plain": [
       "Batches:   0%|          | 0/1 [00:00<?, ?it/s]"
      ]
     },
     "metadata": {},
     "output_type": "display_data"
    },
    {
     "data": {
      "application/vnd.jupyter.widget-view+json": {
       "model_id": "c0c88020f1704142aa2dd7a02ea8ed8c",
       "version_major": 2,
       "version_minor": 0
      },
      "text/plain": [
       "Batches:   0%|          | 0/1 [00:00<?, ?it/s]"
      ]
     },
     "metadata": {},
     "output_type": "display_data"
    },
    {
     "data": {
      "application/vnd.jupyter.widget-view+json": {
       "model_id": "7778addd192f42a2b46f17c6dd818e52",
       "version_major": 2,
       "version_minor": 0
      },
      "text/plain": [
       "Batches:   0%|          | 0/1 [00:00<?, ?it/s]"
      ]
     },
     "metadata": {},
     "output_type": "display_data"
    },
    {
     "data": {
      "application/vnd.jupyter.widget-view+json": {
       "model_id": "3bee4b5d3ffe49fdb9697b1e5b047766",
       "version_major": 2,
       "version_minor": 0
      },
      "text/plain": [
       "Batches:   0%|          | 0/1 [00:00<?, ?it/s]"
      ]
     },
     "metadata": {},
     "output_type": "display_data"
    },
    {
     "data": {
      "application/vnd.jupyter.widget-view+json": {
       "model_id": "23b63776513442169a9bfa071ffcc4e5",
       "version_major": 2,
       "version_minor": 0
      },
      "text/plain": [
       "Batches:   0%|          | 0/1 [00:00<?, ?it/s]"
      ]
     },
     "metadata": {},
     "output_type": "display_data"
    },
    {
     "data": {
      "application/vnd.jupyter.widget-view+json": {
       "model_id": "ac79c14da9c44c87b20b2c215e65298f",
       "version_major": 2,
       "version_minor": 0
      },
      "text/plain": [
       "Batches:   0%|          | 0/1 [00:00<?, ?it/s]"
      ]
     },
     "metadata": {},
     "output_type": "display_data"
    },
    {
     "data": {
      "application/vnd.jupyter.widget-view+json": {
       "model_id": "d44d06a98ab14e11909297f03b6efd82",
       "version_major": 2,
       "version_minor": 0
      },
      "text/plain": [
       "Batches:   0%|          | 0/1 [00:00<?, ?it/s]"
      ]
     },
     "metadata": {},
     "output_type": "display_data"
    },
    {
     "data": {
      "application/vnd.jupyter.widget-view+json": {
       "model_id": "0c2b7b58200943cf8b252b72c10ea1bd",
       "version_major": 2,
       "version_minor": 0
      },
      "text/plain": [
       "Batches:   0%|          | 0/1 [00:00<?, ?it/s]"
      ]
     },
     "metadata": {},
     "output_type": "display_data"
    },
    {
     "data": {
      "application/vnd.jupyter.widget-view+json": {
       "model_id": "4f11e2983e834b6da488d6eccbce528f",
       "version_major": 2,
       "version_minor": 0
      },
      "text/plain": [
       "Batches:   0%|          | 0/1 [00:00<?, ?it/s]"
      ]
     },
     "metadata": {},
     "output_type": "display_data"
    },
    {
     "data": {
      "application/vnd.jupyter.widget-view+json": {
       "model_id": "48563c2437394c5698f31b8ce52bc25a",
       "version_major": 2,
       "version_minor": 0
      },
      "text/plain": [
       "Batches:   0%|          | 0/1 [00:00<?, ?it/s]"
      ]
     },
     "metadata": {},
     "output_type": "display_data"
    },
    {
     "data": {
      "application/vnd.jupyter.widget-view+json": {
       "model_id": "527777573563410985a6f8b63a064ac8",
       "version_major": 2,
       "version_minor": 0
      },
      "text/plain": [
       "Batches:   0%|          | 0/1 [00:00<?, ?it/s]"
      ]
     },
     "metadata": {},
     "output_type": "display_data"
    },
    {
     "data": {
      "application/vnd.jupyter.widget-view+json": {
       "model_id": "e366ca2dbb8f4943a4937127dfcbd0c4",
       "version_major": 2,
       "version_minor": 0
      },
      "text/plain": [
       "Batches:   0%|          | 0/1 [00:00<?, ?it/s]"
      ]
     },
     "metadata": {},
     "output_type": "display_data"
    },
    {
     "data": {
      "application/vnd.jupyter.widget-view+json": {
       "model_id": "52d1ae35c0c241bcaa343af9a689f050",
       "version_major": 2,
       "version_minor": 0
      },
      "text/plain": [
       "Batches:   0%|          | 0/1 [00:00<?, ?it/s]"
      ]
     },
     "metadata": {},
     "output_type": "display_data"
    },
    {
     "data": {
      "application/vnd.jupyter.widget-view+json": {
       "model_id": "d4d6ba6af2974a9d8b14045e59baf963",
       "version_major": 2,
       "version_minor": 0
      },
      "text/plain": [
       "Batches:   0%|          | 0/1 [00:00<?, ?it/s]"
      ]
     },
     "metadata": {},
     "output_type": "display_data"
    },
    {
     "data": {
      "application/vnd.jupyter.widget-view+json": {
       "model_id": "d646eecaebef418fa368368cab0b68ae",
       "version_major": 2,
       "version_minor": 0
      },
      "text/plain": [
       "Batches:   0%|          | 0/1 [00:00<?, ?it/s]"
      ]
     },
     "metadata": {},
     "output_type": "display_data"
    },
    {
     "data": {
      "application/vnd.jupyter.widget-view+json": {
       "model_id": "bbcf78a6e79048da9d70b2d391c87432",
       "version_major": 2,
       "version_minor": 0
      },
      "text/plain": [
       "Batches:   0%|          | 0/1 [00:00<?, ?it/s]"
      ]
     },
     "metadata": {},
     "output_type": "display_data"
    },
    {
     "data": {
      "application/vnd.jupyter.widget-view+json": {
       "model_id": "077dd16f92db4ff0b8b7bac411085f09",
       "version_major": 2,
       "version_minor": 0
      },
      "text/plain": [
       "Batches:   0%|          | 0/1 [00:00<?, ?it/s]"
      ]
     },
     "metadata": {},
     "output_type": "display_data"
    },
    {
     "data": {
      "application/vnd.jupyter.widget-view+json": {
       "model_id": "09fe55a6da1d4834be950fe2d5d44ea1",
       "version_major": 2,
       "version_minor": 0
      },
      "text/plain": [
       "Batches:   0%|          | 0/1 [00:00<?, ?it/s]"
      ]
     },
     "metadata": {},
     "output_type": "display_data"
    },
    {
     "data": {
      "application/vnd.jupyter.widget-view+json": {
       "model_id": "728d14e7e5684d6e841ee88d0b44e892",
       "version_major": 2,
       "version_minor": 0
      },
      "text/plain": [
       "Batches:   0%|          | 0/1 [00:00<?, ?it/s]"
      ]
     },
     "metadata": {},
     "output_type": "display_data"
    },
    {
     "data": {
      "application/vnd.jupyter.widget-view+json": {
       "model_id": "4ecf925403c64e959d2e5aad438a7fc2",
       "version_major": 2,
       "version_minor": 0
      },
      "text/plain": [
       "Batches:   0%|          | 0/1 [00:00<?, ?it/s]"
      ]
     },
     "metadata": {},
     "output_type": "display_data"
    },
    {
     "data": {
      "application/vnd.jupyter.widget-view+json": {
       "model_id": "f1ae9055fcad4e438bd4daf63249d96e",
       "version_major": 2,
       "version_minor": 0
      },
      "text/plain": [
       "Batches:   0%|          | 0/1 [00:00<?, ?it/s]"
      ]
     },
     "metadata": {},
     "output_type": "display_data"
    },
    {
     "data": {
      "application/vnd.jupyter.widget-view+json": {
       "model_id": "792c8798198b4a209e0bf473aea940bb",
       "version_major": 2,
       "version_minor": 0
      },
      "text/plain": [
       "Batches:   0%|          | 0/1 [00:00<?, ?it/s]"
      ]
     },
     "metadata": {},
     "output_type": "display_data"
    },
    {
     "data": {
      "application/vnd.jupyter.widget-view+json": {
       "model_id": "f17c738e1a6148289c57453e20f1e43f",
       "version_major": 2,
       "version_minor": 0
      },
      "text/plain": [
       "Batches:   0%|          | 0/1 [00:00<?, ?it/s]"
      ]
     },
     "metadata": {},
     "output_type": "display_data"
    },
    {
     "data": {
      "application/vnd.jupyter.widget-view+json": {
       "model_id": "35e6ff6a8b6746d884803f7a94b924f9",
       "version_major": 2,
       "version_minor": 0
      },
      "text/plain": [
       "Batches:   0%|          | 0/1 [00:00<?, ?it/s]"
      ]
     },
     "metadata": {},
     "output_type": "display_data"
    },
    {
     "data": {
      "application/vnd.jupyter.widget-view+json": {
       "model_id": "d0bf23dfeb4e45a5a4af7b7002dd8ee4",
       "version_major": 2,
       "version_minor": 0
      },
      "text/plain": [
       "Batches:   0%|          | 0/1 [00:00<?, ?it/s]"
      ]
     },
     "metadata": {},
     "output_type": "display_data"
    },
    {
     "data": {
      "application/vnd.jupyter.widget-view+json": {
       "model_id": "65cb486441c64963993c90bb21563674",
       "version_major": 2,
       "version_minor": 0
      },
      "text/plain": [
       "Batches:   0%|          | 0/1 [00:00<?, ?it/s]"
      ]
     },
     "metadata": {},
     "output_type": "display_data"
    },
    {
     "data": {
      "application/vnd.jupyter.widget-view+json": {
       "model_id": "42f627de53b741eba57be7194e767202",
       "version_major": 2,
       "version_minor": 0
      },
      "text/plain": [
       "Batches:   0%|          | 0/1 [00:00<?, ?it/s]"
      ]
     },
     "metadata": {},
     "output_type": "display_data"
    },
    {
     "data": {
      "application/vnd.jupyter.widget-view+json": {
       "model_id": "e4cc73323bf6464eb521193c2c2efda0",
       "version_major": 2,
       "version_minor": 0
      },
      "text/plain": [
       "Batches:   0%|          | 0/1 [00:00<?, ?it/s]"
      ]
     },
     "metadata": {},
     "output_type": "display_data"
    },
    {
     "data": {
      "application/vnd.jupyter.widget-view+json": {
       "model_id": "2fcd7d139fdf4ac698a4da6871f09faa",
       "version_major": 2,
       "version_minor": 0
      },
      "text/plain": [
       "Batches:   0%|          | 0/1 [00:00<?, ?it/s]"
      ]
     },
     "metadata": {},
     "output_type": "display_data"
    },
    {
     "data": {
      "application/vnd.jupyter.widget-view+json": {
       "model_id": "af3fb5f786fa4d4e98ff0ba9b0342525",
       "version_major": 2,
       "version_minor": 0
      },
      "text/plain": [
       "Batches:   0%|          | 0/1 [00:00<?, ?it/s]"
      ]
     },
     "metadata": {},
     "output_type": "display_data"
    },
    {
     "data": {
      "application/vnd.jupyter.widget-view+json": {
       "model_id": "d332abaf21ed4e5e9b37e2c8f0892bac",
       "version_major": 2,
       "version_minor": 0
      },
      "text/plain": [
       "Batches:   0%|          | 0/1 [00:00<?, ?it/s]"
      ]
     },
     "metadata": {},
     "output_type": "display_data"
    },
    {
     "data": {
      "application/vnd.jupyter.widget-view+json": {
       "model_id": "e97de423aead4665b3626a9a701b4dc6",
       "version_major": 2,
       "version_minor": 0
      },
      "text/plain": [
       "Batches:   0%|          | 0/1 [00:00<?, ?it/s]"
      ]
     },
     "metadata": {},
     "output_type": "display_data"
    },
    {
     "data": {
      "application/vnd.jupyter.widget-view+json": {
       "model_id": "e46a17c4f71d4aa0b51672d5875df84c",
       "version_major": 2,
       "version_minor": 0
      },
      "text/plain": [
       "Batches:   0%|          | 0/1 [00:00<?, ?it/s]"
      ]
     },
     "metadata": {},
     "output_type": "display_data"
    },
    {
     "data": {
      "application/vnd.jupyter.widget-view+json": {
       "model_id": "bdfca8916d33483780856f3285751f1c",
       "version_major": 2,
       "version_minor": 0
      },
      "text/plain": [
       "Batches:   0%|          | 0/1 [00:00<?, ?it/s]"
      ]
     },
     "metadata": {},
     "output_type": "display_data"
    },
    {
     "data": {
      "application/vnd.jupyter.widget-view+json": {
       "model_id": "3eaa91ab20d44ac9af8485ec8696b224",
       "version_major": 2,
       "version_minor": 0
      },
      "text/plain": [
       "Batches:   0%|          | 0/1 [00:00<?, ?it/s]"
      ]
     },
     "metadata": {},
     "output_type": "display_data"
    },
    {
     "data": {
      "application/vnd.jupyter.widget-view+json": {
       "model_id": "e173015c2f284b0aae50e9f41deb53fc",
       "version_major": 2,
       "version_minor": 0
      },
      "text/plain": [
       "Batches:   0%|          | 0/1 [00:00<?, ?it/s]"
      ]
     },
     "metadata": {},
     "output_type": "display_data"
    },
    {
     "data": {
      "application/vnd.jupyter.widget-view+json": {
       "model_id": "f9546e753ae842b09aafc345e474d8bf",
       "version_major": 2,
       "version_minor": 0
      },
      "text/plain": [
       "Batches:   0%|          | 0/1 [00:00<?, ?it/s]"
      ]
     },
     "metadata": {},
     "output_type": "display_data"
    },
    {
     "data": {
      "application/vnd.jupyter.widget-view+json": {
       "model_id": "3fcf2e038d144e6db850bf6895911cdc",
       "version_major": 2,
       "version_minor": 0
      },
      "text/plain": [
       "Batches:   0%|          | 0/1 [00:00<?, ?it/s]"
      ]
     },
     "metadata": {},
     "output_type": "display_data"
    },
    {
     "data": {
      "application/vnd.jupyter.widget-view+json": {
       "model_id": "8dd9c658badc4bcf9d3da21b6290c846",
       "version_major": 2,
       "version_minor": 0
      },
      "text/plain": [
       "Batches:   0%|          | 0/1 [00:00<?, ?it/s]"
      ]
     },
     "metadata": {},
     "output_type": "display_data"
    },
    {
     "data": {
      "application/vnd.jupyter.widget-view+json": {
       "model_id": "9cff78a254864a26a82bcf3008a4a755",
       "version_major": 2,
       "version_minor": 0
      },
      "text/plain": [
       "Batches:   0%|          | 0/1 [00:00<?, ?it/s]"
      ]
     },
     "metadata": {},
     "output_type": "display_data"
    },
    {
     "data": {
      "application/vnd.jupyter.widget-view+json": {
       "model_id": "bf07bb65b75b4a1c8ecaeb5032783b20",
       "version_major": 2,
       "version_minor": 0
      },
      "text/plain": [
       "Batches:   0%|          | 0/1 [00:00<?, ?it/s]"
      ]
     },
     "metadata": {},
     "output_type": "display_data"
    },
    {
     "data": {
      "application/vnd.jupyter.widget-view+json": {
       "model_id": "c90670a07f5b40e3b9327b1c312b6741",
       "version_major": 2,
       "version_minor": 0
      },
      "text/plain": [
       "Batches:   0%|          | 0/1 [00:00<?, ?it/s]"
      ]
     },
     "metadata": {},
     "output_type": "display_data"
    },
    {
     "data": {
      "application/vnd.jupyter.widget-view+json": {
       "model_id": "93d043534cdc40dbb859533aeb9aacea",
       "version_major": 2,
       "version_minor": 0
      },
      "text/plain": [
       "Batches:   0%|          | 0/1 [00:00<?, ?it/s]"
      ]
     },
     "metadata": {},
     "output_type": "display_data"
    },
    {
     "data": {
      "application/vnd.jupyter.widget-view+json": {
       "model_id": "054e9191144f47b1895bb57e6fc4ffe5",
       "version_major": 2,
       "version_minor": 0
      },
      "text/plain": [
       "Batches:   0%|          | 0/1 [00:00<?, ?it/s]"
      ]
     },
     "metadata": {},
     "output_type": "display_data"
    },
    {
     "data": {
      "application/vnd.jupyter.widget-view+json": {
       "model_id": "21c20ee8106147468e2fc883ca5f1476",
       "version_major": 2,
       "version_minor": 0
      },
      "text/plain": [
       "Batches:   0%|          | 0/1 [00:00<?, ?it/s]"
      ]
     },
     "metadata": {},
     "output_type": "display_data"
    },
    {
     "data": {
      "application/vnd.jupyter.widget-view+json": {
       "model_id": "a6ed76908b51495c875aa81151e85cf7",
       "version_major": 2,
       "version_minor": 0
      },
      "text/plain": [
       "Batches:   0%|          | 0/1 [00:00<?, ?it/s]"
      ]
     },
     "metadata": {},
     "output_type": "display_data"
    },
    {
     "data": {
      "application/vnd.jupyter.widget-view+json": {
       "model_id": "3752d0877339473ca19a9cac5ced218a",
       "version_major": 2,
       "version_minor": 0
      },
      "text/plain": [
       "Batches:   0%|          | 0/1 [00:00<?, ?it/s]"
      ]
     },
     "metadata": {},
     "output_type": "display_data"
    },
    {
     "data": {
      "application/vnd.jupyter.widget-view+json": {
       "model_id": "0db680f760f745e8b3c90ca97b0ad22b",
       "version_major": 2,
       "version_minor": 0
      },
      "text/plain": [
       "Batches:   0%|          | 0/1 [00:00<?, ?it/s]"
      ]
     },
     "metadata": {},
     "output_type": "display_data"
    },
    {
     "data": {
      "application/vnd.jupyter.widget-view+json": {
       "model_id": "c94c87cd488d40539e7ee12f967f11c3",
       "version_major": 2,
       "version_minor": 0
      },
      "text/plain": [
       "Batches:   0%|          | 0/1 [00:00<?, ?it/s]"
      ]
     },
     "metadata": {},
     "output_type": "display_data"
    },
    {
     "data": {
      "application/vnd.jupyter.widget-view+json": {
       "model_id": "feac52fbeb794849808f0d1a3a61df48",
       "version_major": 2,
       "version_minor": 0
      },
      "text/plain": [
       "Batches:   0%|          | 0/1 [00:00<?, ?it/s]"
      ]
     },
     "metadata": {},
     "output_type": "display_data"
    },
    {
     "data": {
      "application/vnd.jupyter.widget-view+json": {
       "model_id": "87360f3e38a14bf8aa8d0dcaca98d49f",
       "version_major": 2,
       "version_minor": 0
      },
      "text/plain": [
       "Batches:   0%|          | 0/1 [00:00<?, ?it/s]"
      ]
     },
     "metadata": {},
     "output_type": "display_data"
    },
    {
     "data": {
      "application/vnd.jupyter.widget-view+json": {
       "model_id": "1f81ffd5246e430eb5f257ccc58bd161",
       "version_major": 2,
       "version_minor": 0
      },
      "text/plain": [
       "Batches:   0%|          | 0/1 [00:00<?, ?it/s]"
      ]
     },
     "metadata": {},
     "output_type": "display_data"
    },
    {
     "data": {
      "application/vnd.jupyter.widget-view+json": {
       "model_id": "b73dc238a5db41e69f57764ed68c78ba",
       "version_major": 2,
       "version_minor": 0
      },
      "text/plain": [
       "Batches:   0%|          | 0/1 [00:00<?, ?it/s]"
      ]
     },
     "metadata": {},
     "output_type": "display_data"
    },
    {
     "data": {
      "application/vnd.jupyter.widget-view+json": {
       "model_id": "973325279c2843f59b69a57455bc7c83",
       "version_major": 2,
       "version_minor": 0
      },
      "text/plain": [
       "Batches:   0%|          | 0/1 [00:00<?, ?it/s]"
      ]
     },
     "metadata": {},
     "output_type": "display_data"
    },
    {
     "data": {
      "application/vnd.jupyter.widget-view+json": {
       "model_id": "7c159ebd2d544536b6e24bd05dc6754d",
       "version_major": 2,
       "version_minor": 0
      },
      "text/plain": [
       "Batches:   0%|          | 0/1 [00:00<?, ?it/s]"
      ]
     },
     "metadata": {},
     "output_type": "display_data"
    },
    {
     "data": {
      "application/vnd.jupyter.widget-view+json": {
       "model_id": "8ab851a29fbd44b88ddfccaa67359697",
       "version_major": 2,
       "version_minor": 0
      },
      "text/plain": [
       "Batches:   0%|          | 0/1 [00:00<?, ?it/s]"
      ]
     },
     "metadata": {},
     "output_type": "display_data"
    },
    {
     "data": {
      "application/vnd.jupyter.widget-view+json": {
       "model_id": "bdcc16f2c896470c9c793a90c71328c3",
       "version_major": 2,
       "version_minor": 0
      },
      "text/plain": [
       "Batches:   0%|          | 0/1 [00:00<?, ?it/s]"
      ]
     },
     "metadata": {},
     "output_type": "display_data"
    },
    {
     "data": {
      "application/vnd.jupyter.widget-view+json": {
       "model_id": "d0ebb8b0e78247809cdc070cf4344da7",
       "version_major": 2,
       "version_minor": 0
      },
      "text/plain": [
       "Batches:   0%|          | 0/1 [00:00<?, ?it/s]"
      ]
     },
     "metadata": {},
     "output_type": "display_data"
    },
    {
     "data": {
      "application/vnd.jupyter.widget-view+json": {
       "model_id": "c7137e13371346e2b4039f256039111a",
       "version_major": 2,
       "version_minor": 0
      },
      "text/plain": [
       "Batches:   0%|          | 0/1 [00:00<?, ?it/s]"
      ]
     },
     "metadata": {},
     "output_type": "display_data"
    },
    {
     "data": {
      "application/vnd.jupyter.widget-view+json": {
       "model_id": "04b9273dc8424bc4a4c3e4a21fb2d2cc",
       "version_major": 2,
       "version_minor": 0
      },
      "text/plain": [
       "Batches:   0%|          | 0/1 [00:00<?, ?it/s]"
      ]
     },
     "metadata": {},
     "output_type": "display_data"
    },
    {
     "data": {
      "application/vnd.jupyter.widget-view+json": {
       "model_id": "bdeac40fae884d7b9b006582971dc4ba",
       "version_major": 2,
       "version_minor": 0
      },
      "text/plain": [
       "Batches:   0%|          | 0/1 [00:00<?, ?it/s]"
      ]
     },
     "metadata": {},
     "output_type": "display_data"
    },
    {
     "data": {
      "application/vnd.jupyter.widget-view+json": {
       "model_id": "91110100c3754b8690c5de6f422207e6",
       "version_major": 2,
       "version_minor": 0
      },
      "text/plain": [
       "Batches:   0%|          | 0/1 [00:00<?, ?it/s]"
      ]
     },
     "metadata": {},
     "output_type": "display_data"
    },
    {
     "data": {
      "application/vnd.jupyter.widget-view+json": {
       "model_id": "928280e598a44c7ca33f35104d89643e",
       "version_major": 2,
       "version_minor": 0
      },
      "text/plain": [
       "Batches:   0%|          | 0/1 [00:00<?, ?it/s]"
      ]
     },
     "metadata": {},
     "output_type": "display_data"
    },
    {
     "data": {
      "application/vnd.jupyter.widget-view+json": {
       "model_id": "c78369edc82342f58f6176ec6f3b6f16",
       "version_major": 2,
       "version_minor": 0
      },
      "text/plain": [
       "Batches:   0%|          | 0/1 [00:00<?, ?it/s]"
      ]
     },
     "metadata": {},
     "output_type": "display_data"
    },
    {
     "data": {
      "application/vnd.jupyter.widget-view+json": {
       "model_id": "3bd44d6dac9b431e868fc2d00e0396d9",
       "version_major": 2,
       "version_minor": 0
      },
      "text/plain": [
       "Batches:   0%|          | 0/1 [00:00<?, ?it/s]"
      ]
     },
     "metadata": {},
     "output_type": "display_data"
    },
    {
     "data": {
      "application/vnd.jupyter.widget-view+json": {
       "model_id": "2cc9b1cd0506465f8e4fd33e4fc61445",
       "version_major": 2,
       "version_minor": 0
      },
      "text/plain": [
       "Batches:   0%|          | 0/1 [00:00<?, ?it/s]"
      ]
     },
     "metadata": {},
     "output_type": "display_data"
    },
    {
     "data": {
      "application/vnd.jupyter.widget-view+json": {
       "model_id": "13d83e99a53c4b05bb634e0a3b0b5833",
       "version_major": 2,
       "version_minor": 0
      },
      "text/plain": [
       "Batches:   0%|          | 0/1 [00:00<?, ?it/s]"
      ]
     },
     "metadata": {},
     "output_type": "display_data"
    },
    {
     "data": {
      "application/vnd.jupyter.widget-view+json": {
       "model_id": "1c5b5fe318f24437ba7fea8de9fc21ff",
       "version_major": 2,
       "version_minor": 0
      },
      "text/plain": [
       "Batches:   0%|          | 0/1 [00:00<?, ?it/s]"
      ]
     },
     "metadata": {},
     "output_type": "display_data"
    },
    {
     "data": {
      "application/vnd.jupyter.widget-view+json": {
       "model_id": "dd598e28cd0b431cac082c3c4bc20817",
       "version_major": 2,
       "version_minor": 0
      },
      "text/plain": [
       "Batches:   0%|          | 0/1 [00:00<?, ?it/s]"
      ]
     },
     "metadata": {},
     "output_type": "display_data"
    },
    {
     "data": {
      "application/vnd.jupyter.widget-view+json": {
       "model_id": "c88ff0ea988144838c997695fc690929",
       "version_major": 2,
       "version_minor": 0
      },
      "text/plain": [
       "Batches:   0%|          | 0/1 [00:00<?, ?it/s]"
      ]
     },
     "metadata": {},
     "output_type": "display_data"
    },
    {
     "data": {
      "application/vnd.jupyter.widget-view+json": {
       "model_id": "2c66ef360e2141acae108af066406a5e",
       "version_major": 2,
       "version_minor": 0
      },
      "text/plain": [
       "Batches:   0%|          | 0/1 [00:00<?, ?it/s]"
      ]
     },
     "metadata": {},
     "output_type": "display_data"
    },
    {
     "data": {
      "application/vnd.jupyter.widget-view+json": {
       "model_id": "007712f6334d4b6b8c06acdae1131b1a",
       "version_major": 2,
       "version_minor": 0
      },
      "text/plain": [
       "Batches:   0%|          | 0/1 [00:00<?, ?it/s]"
      ]
     },
     "metadata": {},
     "output_type": "display_data"
    },
    {
     "data": {
      "application/vnd.jupyter.widget-view+json": {
       "model_id": "cdef7689d4a944cab93d7a53dcf87bf2",
       "version_major": 2,
       "version_minor": 0
      },
      "text/plain": [
       "Batches:   0%|          | 0/1 [00:00<?, ?it/s]"
      ]
     },
     "metadata": {},
     "output_type": "display_data"
    },
    {
     "data": {
      "application/vnd.jupyter.widget-view+json": {
       "model_id": "9065f494b24d465998effdf2684368d8",
       "version_major": 2,
       "version_minor": 0
      },
      "text/plain": [
       "Batches:   0%|          | 0/1 [00:00<?, ?it/s]"
      ]
     },
     "metadata": {},
     "output_type": "display_data"
    },
    {
     "data": {
      "application/vnd.jupyter.widget-view+json": {
       "model_id": "7c1113cac15f41e686c8fdf1c5fa3800",
       "version_major": 2,
       "version_minor": 0
      },
      "text/plain": [
       "Batches:   0%|          | 0/1 [00:00<?, ?it/s]"
      ]
     },
     "metadata": {},
     "output_type": "display_data"
    },
    {
     "data": {
      "application/vnd.jupyter.widget-view+json": {
       "model_id": "b58d31360cdc4823a724f5056f9c54b7",
       "version_major": 2,
       "version_minor": 0
      },
      "text/plain": [
       "Batches:   0%|          | 0/1 [00:00<?, ?it/s]"
      ]
     },
     "metadata": {},
     "output_type": "display_data"
    },
    {
     "data": {
      "application/vnd.jupyter.widget-view+json": {
       "model_id": "e4d6c91bbefd4e3ab0f8c3d145849614",
       "version_major": 2,
       "version_minor": 0
      },
      "text/plain": [
       "Batches:   0%|          | 0/1 [00:00<?, ?it/s]"
      ]
     },
     "metadata": {},
     "output_type": "display_data"
    }
   ],
   "source": [
    "# Complete Workflow Notebook for Corrective RAG using LangGraph\n",
    "\n",
    "# Step 1: Environment Setup\n",
    "import os\n",
    "from dotenv import load_dotenv, find_dotenv\n",
    "from sentence_transformers import SentenceTransformer\n",
    "from langchain.document_loaders import PyMuPDFLoader\n",
    "from langchain.text_splitter import RecursiveCharacterTextSplitter\n",
    "from langchain_experimental.text_splitter import SemanticChunker\n",
    "from langchain.vectorstores import Chroma, FAISS\n",
    "from langchain_pinecone import PineconeVectorStore\n",
    "from langchain_openai import AzureChatOpenAI\n",
    "from langchain.prompts import ChatPromptTemplate\n",
    "from langchain_core.output_parsers import StrOutputParser\n",
    "from typing import List, Any, Tuple, Dict, Set\n",
    "from langchain_core.pydantic_v1 import BaseModel, Field\n",
    "import numpy as np\n",
    "from sklearn.metrics.pairwise import cosine_similarity\n",
    "from ragas import evaluate\n",
    "from ragas.metrics import (\n",
    "    answer_relevancy,\n",
    "    faithfulness,\n",
    "    context_recall,\n",
    "    context_utilization,\n",
    ")\n",
    "from datasets import Dataset, Features, Sequence, Value\n",
    "from langgraph.graph import END, StateGraph\n",
    "from typing_extensions import TypedDict\n",
    "from langchain.schema import Document\n",
    "\n",
    "# Placeholder for SemanticChunker definition or import\n",
    "# from some_module import SemanticChunker\n",
    "\n",
    "# Load environment variables from .env file\n",
    "dotenv_path = find_dotenv()\n",
    "if not dotenv_path:\n",
    "    raise FileNotFoundError(\"Could not find .env file\")\n",
    "load_dotenv(dotenv_path)\n",
    "\n",
    "# Azure GPT-4 model parameters\n",
    "azure_api_key = os.getenv('AZURE_API_KEY')\n",
    "azure_api_version = os.getenv('AZURE_API_VERSION')\n",
    "azure_deployment = os.getenv('AZURE_DEPLOYMENT')\n",
    "azure_endpoint = os.getenv('AZURE_ENDPOINT')\n",
    "\n",
    "# Debugging: Print the loaded environment variables\n",
    "print(\"AZURE_API_KEY:\", azure_api_key)\n",
    "print(\"AZURE_API_VERSION:\", azure_api_version)\n",
    "print(\"AZURE_DEPLOYMENT:\", azure_deployment)\n",
    "print(\"AZURE_ENDPOINT:\", azure_endpoint)\n",
    "\n",
    "# Check if the environment variables are loaded correctly\n",
    "if not all([azure_api_key, azure_api_version, azure_deployment, azure_endpoint]):\n",
    "    raise ValueError(\"One or more environment variables are missing.\")\n",
    "\n",
    "# Initialize the SentenceTransformer model\n",
    "model = SentenceTransformer('sentence-transformers/all-MiniLM-L6-v2')\n",
    "\n",
    "# Define an embedding function with batching\n",
    "class SentenceTransformerEmbeddings:\n",
    "    def __init__(self, model, batch_size=1):\n",
    "        self.model = model\n",
    "        self.batch_size = batch_size\n",
    "\n",
    "    def embed_documents(self, documents):\n",
    "        embeddings = []\n",
    "        for start_idx in range(0, len(documents), self.batch_size):\n",
    "            batch = documents[start_idx:start_idx + self.batch_size]\n",
    "            batch_embeddings = self.model.encode(batch, show_progress_bar=True).tolist()\n",
    "            embeddings.extend(batch_embeddings)\n",
    "        return embeddings\n",
    "\n",
    "    def embed_query(self, query):\n",
    "        return self.model.encode(query, show_progress_bar=True).tolist()\n",
    "\n",
    "    def __call__(self, text):\n",
    "        return self.model.encode(text, show_progress_bar=True).tolist()\n",
    "\n",
    "embedding_function = SentenceTransformerEmbeddings(model, batch_size=1)\n",
    "\n",
    "# Paths to the directories containing the PDF files\n",
    "directories = {\n",
    "    'chroma': r\"E:\\RepoFisiereMulte\\FisiereTotal\",\n",
    "    'faiss': r\"E:\\RepoFisiereMulte\\FisiereTotal\",\n",
    "    'pinecone': r\"E:\\RepoFisiereMulte\\FisiereTotal\"\n",
    "}\n",
    "\n",
    "all_texts = {key: [] for key in directories}\n",
    "all_metadatas = {key: [] for key in directories}\n",
    "\n",
    "# Process PDFs with the specified chunking method\n",
    "chunking_method = 'recursive_character'\n",
    "\n",
    "class ChunkingHelper:\n",
    "    def __init__(self, file_path: str, chunking_method: str, embedding_function):\n",
    "        self.file_path = file_path\n",
    "        self.chunking_method = chunking_method\n",
    "        self.embedding_function = embedding_function\n",
    "        self.loader = PyMuPDFLoader(file_path=file_path)\n",
    "        self.docs = self.loader.load()\n",
    "        self.chunks = []\n",
    "\n",
    "    def chunk_document(self):\n",
    "        if self.chunking_method == 'standard_deviation':\n",
    "            text_splitter = SemanticChunker(self.embedding_function, breakpoint_threshold_type='standard_deviation')\n",
    "        elif self.chunking_method == 'recursive_character':\n",
    "            text_splitter = RecursiveCharacterTextSplitter(chunk_size=1000, chunk_overlap=200)\n",
    "        else:\n",
    "            raise ValueError(f\"Unknown chunking method: {self.chunking_method}\")\n",
    "        \n",
    "        self.chunks = text_splitter.split_documents(self.docs)\n",
    "\n",
    "    def get_chunks(self):\n",
    "        if not self.chunks:\n",
    "            self.chunk_document()\n",
    "        return self.chunks\n",
    "\n",
    "def process_pdfs(directory_path, all_texts, all_metadatas, chunking_method):\n",
    "    for filename in os.listdir(directory_path):\n",
    "        if filename.endswith(\".pdf\"):\n",
    "            file_path = os.path.join(directory_path, filename)\n",
    "            chunking_helper = ChunkingHelper(file_path, chunking_method, embedding_function)\n",
    "            splits = chunking_helper.get_chunks()\n",
    "            for i, split in enumerate(splits):\n",
    "                split.metadata['chunk_id'] = i\n",
    "                split.metadata['file'] = filename\n",
    "                all_texts.append(split)\n",
    "                all_metadatas.append(split.metadata)\n",
    "\n",
    "for key, directory in directories.items():\n",
    "    process_pdfs(directory, all_texts[key], all_metadatas[key], chunking_method)\n",
    "\n",
    "index_name = \"vladch\"\n",
    "pinecone_api_key = os.getenv('PINECONE_API_KEY')\n",
    "\n",
    "# Check if the environment variables are loaded correctly\n",
    "if not pinecone_api_key:\n",
    "    raise ValueError(\"Pinecone API key is missing.\")\n",
    "\n",
    "# LLM for the CRAG chain\n",
    "llm = AzureChatOpenAI(\n",
    "    openai_api_version=azure_api_version,\n",
    "    azure_deployment=azure_deployment,\n",
    "    api_key=azure_api_key,\n",
    "    azure_endpoint=azure_endpoint\n",
    ")\n",
    "\n",
    "# Define function to create vector stores\n",
    "def create_vector_store(store_type, documents, metadatas, index_name=None):\n",
    "    if store_type == 'chroma':\n",
    "        return Chroma.from_texts(texts=[doc.page_content for doc in documents], embedding=embedding_function, metadatas=metadatas)\n",
    "    elif store_type == 'faiss':\n",
    "        return FAISS.from_texts(texts=[doc.page_content for doc in documents], embedding=embedding_function, metadatas=metadatas)\n",
    "    elif store_type == 'pinecone':\n",
    "        return PineconeVectorStore.from_documents(documents, index_name=index_name, embedding=embedding_function)\n",
    "        \n",
    "\n",
    "vector_stores = {key: create_vector_store(key, all_texts[key], all_metadatas[key], index_name) for key in directories}\n",
    "\n",
    "# Create retrievers from the vector stores\n",
    "retrievers = {key: store.as_retriever() for key, store in vector_stores.items()}\n",
    "\n",
    "# Data model for grading\n",
    "class GradeDocuments(BaseModel):\n",
    "    binary_score: str = Field(description=\"Documents are relevant to the question, 'yes' or 'no'\")\n",
    "\n",
    "# LLM with function call for grading\n",
    "structured_llm_grader = llm.with_structured_output(GradeDocuments)\n",
    "\n",
    "# Grading prompt\n",
    "system_prompt = \"\"\"You are a grader assessing relevance of a retrieved document to a user question. \n",
    "    If the document contains keyword(s) or semantic meaning related to the question, grade it as relevant.\n",
    "    Give a binary score 'yes' or 'no' score to indicate whether the document is relevant to the question.\"\"\"\n",
    "grade_prompt = ChatPromptTemplate.from_messages(\n",
    "    [\n",
    "        (\"system\", system_prompt),\n",
    "        (\"human\", \"Retrieved document: \\n\\n {document} \\n\\n User question: {question}\"),\n",
    "    ]\n",
    ")\n",
    "\n",
    "retrieval_grader = grade_prompt | structured_llm_grader\n",
    "\n",
    "# LLM for question re-writing\n",
    "question_rewrite_llm = llm\n",
    "question_rewrite_prompt = ChatPromptTemplate.from_messages(\n",
    "    [\n",
    "        (\"system\", \"\"\"You are a question re-writer that converts an input question to a better version that is optimized for web search. Look at the input and try to reason about the underlying semantic intent / meaning.\"\"\"),\n",
    "        (\"human\", \"Here is the initial question: \\n\\n {question} \\n Formulate an improved question.\"),\n",
    "    ]\n",
    ")\n",
    "\n",
    "question_rewriter = question_rewrite_prompt | question_rewrite_llm\n",
    "\n",
    "# RAG Chain setup\n",
    "from langchain import hub\n",
    "\n",
    "prompt = hub.pull(\"rlm/rag-prompt\")\n",
    "llm_generate = llm\n",
    "rag_chain = prompt | llm_generate | StrOutputParser()\n",
    "\n",
    "# Graph state\n",
    "class GraphState(TypedDict):\n",
    "    question: str\n",
    "    generation: str\n",
    "    documents: List[str]\n",
    "    tavily_message: str\n",
    "\n",
    "# Define the nodes and edges for the CRAG workflow\n",
    "def retrieve(state):\n",
    "    print(\"---RETRIEVE---\")\n",
    "    question = state[\"question\"]\n",
    "    documents = []\n",
    "    for retriever in retrievers.values():\n",
    "        documents.extend(retriever.get_relevant_documents(question))\n",
    "    return {\"documents\": documents, \"question\": question}\n",
    "\n",
    "def generate(state):\n",
    "    print(\"---GENERATE---\")\n",
    "    question = state[\"question\"]\n",
    "    documents = state[\"documents\"]\n",
    "    generation = rag_chain.invoke({\"context\": documents, \"question\": question})\n",
    "    return {\"documents\": documents, \"question\": question, \"generation\": generation}\n",
    "\n",
    "def grade_documents(state):\n",
    "    print(\"---CHECK DOCUMENT RELEVANCE TO QUESTION---\")\n",
    "    question = state[\"question\"]\n",
    "    documents = state[\"documents\"]\n",
    "    filtered_docs = []\n",
    "    for d in documents:\n",
    "        score = retrieval_grader.invoke({\"question\": question, \"document\": d.page_content})\n",
    "        grade = score.binary_score\n",
    "        if grade == \"yes\":\n",
    "            print(\"---GRADE: DOCUMENT RELEVANT---\")\n",
    "            filtered_docs.append(d)\n",
    "        else:\n",
    "            print(\"---GRADE: DOCUMENT NOT RELEVANT---\")\n",
    "    return {\"documents\": filtered_docs, \"question\": question}\n",
    "\n",
    "def perform_tavily_search(question):\n",
    "    print(\"---PERFORMING TAVILY SEARCH---\")\n",
    "    from tavily import TavilyClient\n",
    "    client = TavilyClient(api_key=\"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\")\n",
    "    tavily_results = client.search(question, search_depth=\"advanced\")\n",
    "    if isinstance(tavily_results, list):\n",
    "        tavily_message = \"\\n\".join([result[\"content\"] for result in tavily_results])\n",
    "    else:\n",
    "        tavily_message = tavily_results\n",
    "    print(tavily_message)\n",
    "    return tavily_message\n",
    "\n",
    "def decide_to_generate(state):\n",
    "    print(\"---ASSESS GRADED DOCUMENTS---\")\n",
    "    if not state[\"documents\"]:\n",
    "        tavily_message = perform_tavily_search(state[\"question\"])\n",
    "        state[\"tavily_message\"] = tavily_message\n",
    "        state[\"tavily_search\"] = True\n",
    "        return \"generate\"\n",
    "    else:\n",
    "        state[\"tavily_search\"] = False\n",
    "        return \"generate\"\n",
    "\n",
    "# Build the CRAG workflow graph\n",
    "workflow = StateGraph(GraphState)\n",
    "\n",
    "# Define the nodes\n",
    "workflow.add_node(\"retrieve\", retrieve)\n",
    "workflow.add_node(\"grade_documents\", grade_documents)\n",
    "workflow.add_node(\"generate\", generate)\n",
    "\n",
    "# Build graph\n",
    "workflow.set_entry_point(\"retrieve\")\n",
    "workflow.add_edge(\"retrieve\", \"grade_documents\")\n",
    "workflow.add_conditional_edges(\n",
    "    \"grade_documents\",\n",
    "    decide_to_generate,\n",
    "    {\n",
    "        \"generate\": \"generate\",\n",
    "    },\n",
    ")\n",
    "workflow.add_edge(\"generate\", END)\n",
    "\n",
    "# Compile\n",
    "app = workflow.compile()\n",
    "\n",
    "# Define the helper functions\n",
    "def evaluate_answer(answer: str, question: str, context: List[Any], ground_truth: str) -> Dict[str, float]:\n",
    "    context_str = format_context(context)\n",
    "    context_list = context_str.split('\\n\\n')\n",
    "\n",
    "    data = {\n",
    "        \"question\": [question],\n",
    "        \"context\": [context_str],\n",
    "        \"answer\": [answer],\n",
    "        \"contexts\": [context_list],\n",
    "        \"ground_truth\": [ground_truth]\n",
    "    }\n",
    "\n",
    "    features = Features({\n",
    "        \"question\": Value(\"string\"),\n",
    "        \"context\": Value(\"string\"),\n",
    "        \"answer\": Value(\"string\"),\n",
    "        \"contexts\": Sequence(Value(\"string\")),\n",
    "        \"ground_truth\": Value(\"string\")\n",
    "    })\n",
    "\n",
    "    dataset = Dataset.from_dict(data, features=features)\n",
    "\n",
    "    scores = evaluate(\n",
    "        dataset,\n",
    "        metrics=[context_utilization, faithfulness, answer_relevancy, context_recall],\n",
    "        column_map={\"question\": \"question\", \"context\": \"context\", \"answer\": \"answer\", \"contexts\": \"contexts\", \"ground_truth\": \"ground_truth\"},\n",
    "        llm=llm,\n",
    "        embeddings=embedding_function\n",
    "    )\n",
    "    return scores\n",
    "\n",
    "def get_aggregated_answer_and_sources(input_question: str, session_id=\"abc123\") -> Tuple[str, Dict[str, str], List[Any], Set[Tuple[str, str]]]:\n",
    "    def is_invalid_answer(answer: str) -> bool:\n",
    "        return \"I don't\" in answer or \"I'm sorry\" in answer\n",
    "\n",
    "    def get_response_and_sources(response: Dict[str, Any], all_texts: List[Any]) -> Tuple[str, List[Any], Set[Tuple[str, str]]]:\n",
    "        answer = response[\"generation\"]\n",
    "        context = response[\"documents\"]\n",
    "        used_chunks = [doc for doc in all_texts if any(chunk.page_content in doc.page_content for chunk in context)]\n",
    "        sources = {(chunk.metadata['file'], chunk.metadata.get('page', 'Unknown')) for chunk in used_chunks}\n",
    "        return answer, context, sources\n",
    "\n",
    "    all_responses = {}\n",
    "    all_contexts = []\n",
    "    all_sources = set()\n",
    "    \n",
    "    tavily_message = None\n",
    "\n",
    "    for key in ['chroma', 'faiss', 'pinecone']:\n",
    "        response = app.invoke({\"question\": input_question})\n",
    "        if response.get(\"tavily_search\"):\n",
    "            tavily_message = response[\"tavily_message\"]\n",
    "            break\n",
    "        if not is_invalid_answer(response[\"generation\"]):\n",
    "            answer, context, sources = get_response_and_sources(response, all_texts[key])\n",
    "            all_responses[key] = answer\n",
    "            all_contexts.extend(context)\n",
    "            all_sources.update(sources)\n",
    "\n",
    "    if tavily_message:\n",
    "        return tavily_message, {\"tavily_search\": tavily_message}, [], set()\n",
    "\n",
    "    if not all_responses:\n",
    "        return \"I don't know the answer.\", {}, [], set()\n",
    "\n",
    "    sentences = []\n",
    "    for answer in all_responses.values():\n",
    "        sentences.extend(answer.split(\". \"))\n",
    "\n",
    "    sentence_embeddings = embedding_function.embed_documents(sentences)\n",
    "    unique_sentences = []\n",
    "    unique_embeddings = []\n",
    "\n",
    "    for i, embedding in enumerate(sentence_embeddings):\n",
    "        if not unique_embeddings:\n",
    "            unique_sentences.append(sentences[i])\n",
    "            unique_embeddings.append(embedding)\n",
    "        else:\n",
    "            similarities = cosine_similarity([embedding], unique_embeddings)\n",
    "            if all(sim < 0.8 for sim in similarities[0]):\n",
    "                unique_sentences.append(sentences[i])\n",
    "                unique_embeddings.append(embedding)\n",
    "\n",
    "    aggregated_answer = \". \".join(unique_sentences)\n",
    "\n",
    "    return aggregated_answer, all_responses, all_contexts, all_sources\n",
    "\n",
    "def format_context(context: List[Any]) -> str:\n",
    "    formatted_context = \"\\n\\n\".join([\n",
    "        f\"File: {doc.metadata.get('file', 'Unknown')}, Page {doc.metadata.get('page', 'Unknown')}: {doc.page_content}\"\n",
    "        for doc in context\n",
    "    ])\n",
    "    return formatted_context\n"
   ]
  },
  {
   "cell_type": "code",
   "execution_count": 2,
   "id": "8e649210-fb68-454c-a5d6-96dc9b81d2c6",
   "metadata": {},
   "outputs": [
    {
     "name": "stdout",
     "output_type": "stream",
     "text": [
      "---RETRIEVE---\n"
     ]
    },
    {
     "name": "stderr",
     "output_type": "stream",
     "text": [
      "C:\\Users\\vlad\\AppData\\Local\\Packages\\PythonSoftwareFoundation.Python.3.9_qbz5n2kfra8p0\\LocalCache\\local-packages\\Python39\\site-packages\\langchain_core\\_api\\deprecation.py:119: LangChainDeprecationWarning: The method `BaseRetriever.get_relevant_documents` was deprecated in langchain-core 0.1.46 and will be removed in 0.3.0. Use invoke instead.\n",
      "  warn_deprecated(\n"
     ]
    },
    {
     "data": {
      "application/vnd.jupyter.widget-view+json": {
       "model_id": "a23da15ba95f49fb9f2655d8e1ebdd17",
       "version_major": 2,
       "version_minor": 0
      },
      "text/plain": [
       "Batches:   0%|          | 0/1 [00:00<?, ?it/s]"
      ]
     },
     "metadata": {},
     "output_type": "display_data"
    },
    {
     "data": {
      "application/vnd.jupyter.widget-view+json": {
       "model_id": "0cf05cde684f447fad23becd055facbe",
       "version_major": 2,
       "version_minor": 0
      },
      "text/plain": [
       "Batches:   0%|          | 0/1 [00:00<?, ?it/s]"
      ]
     },
     "metadata": {},
     "output_type": "display_data"
    },
    {
     "data": {
      "application/vnd.jupyter.widget-view+json": {
       "model_id": "4ef48dbb5ca6457eaab8369b90a14d59",
       "version_major": 2,
       "version_minor": 0
      },
      "text/plain": [
       "Batches:   0%|          | 0/1 [00:00<?, ?it/s]"
      ]
     },
     "metadata": {},
     "output_type": "display_data"
    },
    {
     "name": "stdout",
     "output_type": "stream",
     "text": [
      "---CHECK DOCUMENT RELEVANCE TO QUESTION---\n",
      "---GRADE: DOCUMENT RELEVANT---\n",
      "---GRADE: DOCUMENT RELEVANT---\n",
      "---GRADE: DOCUMENT RELEVANT---\n",
      "---GRADE: DOCUMENT RELEVANT---\n",
      "---GRADE: DOCUMENT RELEVANT---\n",
      "---GRADE: DOCUMENT RELEVANT---\n",
      "---GRADE: DOCUMENT RELEVANT---\n",
      "---GRADE: DOCUMENT RELEVANT---\n",
      "---GRADE: DOCUMENT RELEVANT---\n",
      "---GRADE: DOCUMENT RELEVANT---\n",
      "---GRADE: DOCUMENT RELEVANT---\n",
      "---GRADE: DOCUMENT RELEVANT---\n",
      "---ASSESS GRADED DOCUMENTS---\n",
      "---GENERATE---\n",
      "---RETRIEVE---\n"
     ]
    },
    {
     "data": {
      "application/vnd.jupyter.widget-view+json": {
       "model_id": "2627319aacbf4c6c99ae98f92947004f",
       "version_major": 2,
       "version_minor": 0
      },
      "text/plain": [
       "Batches:   0%|          | 0/1 [00:00<?, ?it/s]"
      ]
     },
     "metadata": {},
     "output_type": "display_data"
    },
    {
     "data": {
      "application/vnd.jupyter.widget-view+json": {
       "model_id": "22e002d093e5486faf5b8fbb7c249167",
       "version_major": 2,
       "version_minor": 0
      },
      "text/plain": [
       "Batches:   0%|          | 0/1 [00:00<?, ?it/s]"
      ]
     },
     "metadata": {},
     "output_type": "display_data"
    },
    {
     "data": {
      "application/vnd.jupyter.widget-view+json": {
       "model_id": "33ba71862b45416e9f15dc84708fdced",
       "version_major": 2,
       "version_minor": 0
      },
      "text/plain": [
       "Batches:   0%|          | 0/1 [00:00<?, ?it/s]"
      ]
     },
     "metadata": {},
     "output_type": "display_data"
    },
    {
     "name": "stdout",
     "output_type": "stream",
     "text": [
      "---CHECK DOCUMENT RELEVANCE TO QUESTION---\n",
      "---GRADE: DOCUMENT RELEVANT---\n",
      "---GRADE: DOCUMENT RELEVANT---\n",
      "---GRADE: DOCUMENT RELEVANT---\n",
      "---GRADE: DOCUMENT RELEVANT---\n",
      "---GRADE: DOCUMENT RELEVANT---\n",
      "---GRADE: DOCUMENT RELEVANT---\n",
      "---GRADE: DOCUMENT RELEVANT---\n",
      "---GRADE: DOCUMENT NOT RELEVANT---\n",
      "---GRADE: DOCUMENT RELEVANT---\n",
      "---GRADE: DOCUMENT RELEVANT---\n",
      "---GRADE: DOCUMENT RELEVANT---\n",
      "---GRADE: DOCUMENT RELEVANT---\n",
      "---ASSESS GRADED DOCUMENTS---\n",
      "---GENERATE---\n",
      "---RETRIEVE---\n"
     ]
    },
    {
     "data": {
      "application/vnd.jupyter.widget-view+json": {
       "model_id": "6b35560aec5b4949b72ab3fd6df067d4",
       "version_major": 2,
       "version_minor": 0
      },
      "text/plain": [
       "Batches:   0%|          | 0/1 [00:00<?, ?it/s]"
      ]
     },
     "metadata": {},
     "output_type": "display_data"
    },
    {
     "data": {
      "application/vnd.jupyter.widget-view+json": {
       "model_id": "a9849164c08846c5ae1c05200cfa3dd1",
       "version_major": 2,
       "version_minor": 0
      },
      "text/plain": [
       "Batches:   0%|          | 0/1 [00:00<?, ?it/s]"
      ]
     },
     "metadata": {},
     "output_type": "display_data"
    },
    {
     "data": {
      "application/vnd.jupyter.widget-view+json": {
       "model_id": "6abbe0ddb44a4c139360c283428d4d9f",
       "version_major": 2,
       "version_minor": 0
      },
      "text/plain": [
       "Batches:   0%|          | 0/1 [00:00<?, ?it/s]"
      ]
     },
     "metadata": {},
     "output_type": "display_data"
    },
    {
     "name": "stdout",
     "output_type": "stream",
     "text": [
      "---CHECK DOCUMENT RELEVANCE TO QUESTION---\n",
      "---GRADE: DOCUMENT RELEVANT---\n",
      "---GRADE: DOCUMENT RELEVANT---\n",
      "---GRADE: DOCUMENT RELEVANT---\n",
      "---GRADE: DOCUMENT RELEVANT---\n",
      "---GRADE: DOCUMENT RELEVANT---\n",
      "---GRADE: DOCUMENT RELEVANT---\n",
      "---GRADE: DOCUMENT RELEVANT---\n",
      "---GRADE: DOCUMENT RELEVANT---\n",
      "---GRADE: DOCUMENT RELEVANT---\n",
      "---GRADE: DOCUMENT RELEVANT---\n",
      "---GRADE: DOCUMENT RELEVANT---\n",
      "---GRADE: DOCUMENT RELEVANT---\n",
      "---ASSESS GRADED DOCUMENTS---\n",
      "---GENERATE---\n"
     ]
    },
    {
     "data": {
      "application/vnd.jupyter.widget-view+json": {
       "model_id": "ef0a9684f6d840f1a51d992c5e645b74",
       "version_major": 2,
       "version_minor": 0
      },
      "text/plain": [
       "Batches:   0%|          | 0/1 [00:00<?, ?it/s]"
      ]
     },
     "metadata": {},
     "output_type": "display_data"
    },
    {
     "data": {
      "application/vnd.jupyter.widget-view+json": {
       "model_id": "02f6c40fc9ca4564bf53d8dcecb4bb6e",
       "version_major": 2,
       "version_minor": 0
      },
      "text/plain": [
       "Batches:   0%|          | 0/1 [00:00<?, ?it/s]"
      ]
     },
     "metadata": {},
     "output_type": "display_data"
    },
    {
     "data": {
      "application/vnd.jupyter.widget-view+json": {
       "model_id": "cd953e8d5340437994c627ae59259c02",
       "version_major": 2,
       "version_minor": 0
      },
      "text/plain": [
       "Batches:   0%|          | 0/1 [00:00<?, ?it/s]"
      ]
     },
     "metadata": {},
     "output_type": "display_data"
    },
    {
     "data": {
      "application/vnd.jupyter.widget-view+json": {
       "model_id": "614670d30bb34117ab2aa42b38e844d7",
       "version_major": 2,
       "version_minor": 0
      },
      "text/plain": [
       "Batches:   0%|          | 0/1 [00:00<?, ?it/s]"
      ]
     },
     "metadata": {},
     "output_type": "display_data"
    },
    {
     "data": {
      "application/vnd.jupyter.widget-view+json": {
       "model_id": "f8aa9462ff5a4d0684d7f98bc03d92a6",
       "version_major": 2,
       "version_minor": 0
      },
      "text/plain": [
       "Batches:   0%|          | 0/1 [00:00<?, ?it/s]"
      ]
     },
     "metadata": {},
     "output_type": "display_data"
    },
    {
     "data": {
      "application/vnd.jupyter.widget-view+json": {
       "model_id": "7f91e9c7ddda4b84834bacb2beffa782",
       "version_major": 2,
       "version_minor": 0
      },
      "text/plain": [
       "Batches:   0%|          | 0/1 [00:00<?, ?it/s]"
      ]
     },
     "metadata": {},
     "output_type": "display_data"
    },
    {
     "data": {
      "application/vnd.jupyter.widget-view+json": {
       "model_id": "8574de5de43c45c99c029d0c531a5870",
       "version_major": 2,
       "version_minor": 0
      },
      "text/plain": [
       "Batches:   0%|          | 0/1 [00:00<?, ?it/s]"
      ]
     },
     "metadata": {},
     "output_type": "display_data"
    },
    {
     "data": {
      "application/vnd.jupyter.widget-view+json": {
       "model_id": "c3dbc27aebe947108d93aa123511d40c",
       "version_major": 2,
       "version_minor": 0
      },
      "text/plain": [
       "Batches:   0%|          | 0/1 [00:00<?, ?it/s]"
      ]
     },
     "metadata": {},
     "output_type": "display_data"
    },
    {
     "name": "stdout",
     "output_type": "stream",
     "text": [
      "\n",
      "    Final Aggregated Answer: Broadcast technicians are responsible for setting up, operating, and maintaining the electronic equipment used to transmit radio and television programs. They control audio equipment to regulate volume level and quality of sound, and operate transmitters to broadcast radio and television content. Additionally, they maintain programming logs as required by station management and the Federal Communications Commission, monitor and adjust signal strength and quality, and ensure programs are ready for transmission.. Additional tasks include regulating video transmissions' fidelity, brightness, and contrast, and making necessary equipment repairs.\n",
      "\n",
      "    Context used for answer:\n",
      "    File: 1_chroma.pdf, Page 0: Broadcast Technicians, page 1 of 3\n",
      "A CareerZone Occupational Brief for:\n",
      "Broadcast Technicians\n",
      "An occupation in Engineering and Technologies\n",
      "New York State Department of Labor\n",
      "David A. Paterson, Governor\n",
      "Job Description\n",
      "Set up, operate, and maintain the electronic equipment used to transmit radio and television programs. Control\n",
      "audio equipment to regulate volume level and quality of sound during radio and television broadcasts. Operate\n",
      "radio transmitter to broadcast radio and television programs.\n",
      "Interests\n",
      "Realistic - Realistic occupations frequently involve work activities that include practical, hands-on problems and\n",
      "solutions. They often deal with plants, animals, and real-world materials like wood, tools, and machinery. Many of\n",
      "the occupations require working outside, and do not involve a lot of paperwork or working closely with others.\n",
      "Tasks\n",
      "1. Maintain programming logs, as required by station management and the Federal Communications\n",
      "Commission.\n",
      "\n",
      "File: 1_chroma.pdf, Page 1: management; principles of interpersonal and mediated communications; radio, television, and digital media\n",
      "production; and related aspects of technology and communications systems.\n",
      "Radio and Television Broadcasting Technology/Technician. - A program that prepares individuals to apply\n",
      "technical knowledge and skills to the production of radio and television programs, and related operations, under\n",
      "the supervision of broadcast and studio managers, directors, editors, and producers. Includes instruction in\n",
      "sound, lighting, and camera operation and maintenance; power and feed control; studio operations; production\n",
      "preparation; broadcast engineering; related computer applications; and specialized applications such as news,\n",
      "entertainment, live talk, sports, commercials, and taping.\n",
      "\n",
      "File: 1_chroma.pdf, Page 0: Tasks\n",
      "1. Maintain programming logs, as required by station management and the Federal Communications\n",
      "Commission.\n",
      "2. Control audio equipment to regulate the volume and sound quality during radio and television broadcasts.\n",
      "3. Monitor strength, clarity, and reliability of incoming and outgoing signals, and adjust equipment as necessary to\n",
      "maintain quality broadcasts.\n",
      "4. Regulate the fidelity, brightness, and contrast of video transmissions, using video console control panels.\n",
      "5. Observe monitors and converse with station personnel to determine audio and video levels and to ascertain\n",
      "that programs are airing.\n",
      "6. Preview scheduled programs to ensure that signals are functioning and programs are ready for transmission.\n",
      "7. Select sources from which programming will be received, or through which programming will be transmitted.\n",
      "8. Report equipment problems, ensure that repairs are made, and make emergency repairs to equipment when\n",
      "necessary and possible.\n",
      "\n",
      "File: 1_chroma.pdf, Page 1: Broadcast Technicians, page 2 of 3\n",
      "Troubleshooting - Determining causes of operating errors and deciding what to do about it.\n",
      "Active Listening - Giving full attention to what other people are saying, taking time to understand the points\n",
      "being made, asking questions as appropriate, and not interrupting at inappropriate times.\n",
      "Active Learning - Understanding the implications of new information for both current and future problem-solving\n",
      "and decision-making.\n",
      "Critical Thinking - Using logic and reasoning to identify the strengths and weaknesses of alternative solutions,\n",
      "conclusions or approaches to problems.\n",
      "Knowledge\n",
      "Telecommunications - Knowledge of transmission, broadcasting, switching, control, and operation of\n",
      "telecommunications systems.\n",
      "Communications and Media - Knowledge of media production, communication, and dissemination techniques\n",
      "and methods. This includes alternative ways to inform and entertain via written, oral, and visual media.\n",
      "\n",
      "File: 1_chroma.pdf, Page 0: Broadcast Technicians, page 1 of 3\n",
      "A CareerZone Occupational Brief for:\n",
      "Broadcast Technicians\n",
      "An occupation in Engineering and Technologies\n",
      "New York State Department of Labor\n",
      "David A. Paterson, Governor\n",
      "Job Description\n",
      "Set up, operate, and maintain the electronic equipment used to transmit radio and television programs. Control\n",
      "audio equipment to regulate volume level and quality of sound during radio and television broadcasts. Operate\n",
      "radio transmitter to broadcast radio and television programs.\n",
      "Interests\n",
      "Realistic - Realistic occupations frequently involve work activities that include practical, hands-on problems and\n",
      "solutions. They often deal with plants, animals, and real-world materials like wood, tools, and machinery. Many of\n",
      "the occupations require working outside, and do not involve a lot of paperwork or working closely with others.\n",
      "Tasks\n",
      "1. Maintain programming logs, as required by station management and the Federal Communications\n",
      "Commission.\n",
      "\n",
      "File: 1_chroma.pdf, Page 1: management; principles of interpersonal and mediated communications; radio, television, and digital media\n",
      "production; and related aspects of technology and communications systems.\n",
      "Radio and Television Broadcasting Technology/Technician. - A program that prepares individuals to apply\n",
      "technical knowledge and skills to the production of radio and television programs, and related operations, under\n",
      "the supervision of broadcast and studio managers, directors, editors, and producers. Includes instruction in\n",
      "sound, lighting, and camera operation and maintenance; power and feed control; studio operations; production\n",
      "preparation; broadcast engineering; related computer applications; and specialized applications such as news,\n",
      "entertainment, live talk, sports, commercials, and taping.\n",
      "\n",
      "File: 1_chroma.pdf, Page 0: Tasks\n",
      "1. Maintain programming logs, as required by station management and the Federal Communications\n",
      "Commission.\n",
      "2. Control audio equipment to regulate the volume and sound quality during radio and television broadcasts.\n",
      "3. Monitor strength, clarity, and reliability of incoming and outgoing signals, and adjust equipment as necessary to\n",
      "maintain quality broadcasts.\n",
      "4. Regulate the fidelity, brightness, and contrast of video transmissions, using video console control panels.\n",
      "5. Observe monitors and converse with station personnel to determine audio and video levels and to ascertain\n",
      "that programs are airing.\n",
      "6. Preview scheduled programs to ensure that signals are functioning and programs are ready for transmission.\n",
      "7. Select sources from which programming will be received, or through which programming will be transmitted.\n",
      "8. Report equipment problems, ensure that repairs are made, and make emergency repairs to equipment when\n",
      "necessary and possible.\n",
      "\n",
      "File: 1_chroma.pdf, Page 1: Broadcast Technicians, page 2 of 3\n",
      "Troubleshooting - Determining causes of operating errors and deciding what to do about it.\n",
      "Active Listening - Giving full attention to what other people are saying, taking time to understand the points\n",
      "being made, asking questions as appropriate, and not interrupting at inappropriate times.\n",
      "Active Learning - Understanding the implications of new information for both current and future problem-solving\n",
      "and decision-making.\n",
      "Critical Thinking - Using logic and reasoning to identify the strengths and weaknesses of alternative solutions,\n",
      "conclusions or approaches to problems.\n",
      "Knowledge\n",
      "Telecommunications - Knowledge of transmission, broadcasting, switching, control, and operation of\n",
      "telecommunications systems.\n",
      "Communications and Media - Knowledge of media production, communication, and dissemination techniques\n",
      "and methods. This includes alternative ways to inform and entertain via written, oral, and visual media.\n",
      "\n",
      "File: 1_chroma.pdf, Page 0.0: Broadcast Technicians, page 1 of 3\n",
      "A CareerZone Occupational Brief for:\n",
      "Broadcast Technicians\n",
      "An occupation in Engineering and Technologies\n",
      "New York State Department of Labor\n",
      "David A. Paterson, Governor\n",
      "Job Description\n",
      "Set up, operate, and maintain the electronic equipment used to transmit radio and television programs. Control\n",
      "audio equipment to regulate volume level and quality of sound during radio and television broadcasts. Operate\n",
      "radio transmitter to broadcast radio and television programs.\n",
      "Interests\n",
      "Realistic - Realistic occupations frequently involve work activities that include practical, hands-on problems and\n",
      "solutions. They often deal with plants, animals, and real-world materials like wood, tools, and machinery. Many of\n",
      "the occupations require working outside, and do not involve a lot of paperwork or working closely with others.\n",
      "Tasks\n",
      "1. Maintain programming logs, as required by station management and the Federal Communications\n",
      "Commission.\n",
      "2. Control audio equipment to regulate the volume and sound quality during radio and television broadcasts.\n",
      "3. Monitor strength, clarity, and reliability of incoming and outgoing signals, and adjust equipment as necessary to\n",
      "maintain quality broadcasts.\n",
      "\n",
      "File: 1_chroma.pdf, Page 0.0: Broadcast Technicians, page 1 of 3\n",
      "A CareerZone Occupational Brief for:\n",
      "Broadcast Technicians\n",
      "An occupation in Engineering and Technologies\n",
      "New York State Department of Labor\n",
      "David A. Paterson, Governor\n",
      "Job Description\n",
      "Set up, operate, and maintain the electronic equipment used to transmit radio and television programs. Control\n",
      "audio equipment to regulate volume level and quality of sound during radio and television broadcasts. Operate\n",
      "radio transmitter to broadcast radio and television programs.\n",
      "Interests\n",
      "Realistic - Realistic occupations frequently involve work activities that include practical, hands-on problems and\n",
      "solutions. They often deal with plants, animals, and real-world materials like wood, tools, and machinery. Many of\n",
      "the occupations require working outside, and do not involve a lot of paperwork or working closely with others.\n",
      "Tasks\n",
      "1. Maintain programming logs, as required by station management and the Federal Communications\n",
      "Commission.\n",
      "2. Control audio equipment to regulate the volume and sound quality during radio and television broadcasts.\n",
      "3. Monitor strength, clarity, and reliability of incoming and outgoing signals, and adjust equipment as necessary to\n",
      "maintain quality broadcasts.\n",
      "\n",
      "File: 1_chroma.pdf, Page 0.0: Broadcast Technicians, page 1 of 3\n",
      "A CareerZone Occupational Brief for:\n",
      "Broadcast Technicians\n",
      "An occupation in Engineering and Technologies\n",
      "New York State Department of Labor\n",
      "David A. Paterson, Governor\n",
      "Job Description\n",
      "Set up, operate, and maintain the electronic equipment used to transmit radio and television programs. Control\n",
      "audio equipment to regulate volume level and quality of sound during radio and television broadcasts. Operate\n",
      "radio transmitter to broadcast radio and television programs.\n",
      "Interests\n",
      "Realistic - Realistic occupations frequently involve work activities that include practical, hands-on problems and\n",
      "solutions. They often deal with plants, animals, and real-world materials like wood, tools, and machinery. Many of\n",
      "the occupations require working outside, and do not involve a lot of paperwork or working closely with others.\n",
      "Tasks\n",
      "1. Maintain programming logs, as required by station management and the Federal Communications\n",
      "Commission.\n",
      "2. Control audio equipment to regulate the volume and sound quality during radio and television broadcasts.\n",
      "3. Monitor strength, clarity, and reliability of incoming and outgoing signals, and adjust equipment as necessary to\n",
      "maintain quality broadcasts.\n",
      "\n",
      "File: 1_chroma.pdf, Page 0.0: Broadcast Technicians, page 1 of 3\n",
      "A CareerZone Occupational Brief for:\n",
      "Broadcast Technicians\n",
      "An occupation in Engineering and Technologies\n",
      "New York State Department of Labor\n",
      "David A. Paterson, Governor\n",
      "Job Description\n",
      "Set up, operate, and maintain the electronic equipment used to transmit radio and television programs. Control\n",
      "audio equipment to regulate volume level and quality of sound during radio and television broadcasts. Operate\n",
      "radio transmitter to broadcast radio and television programs.\n",
      "Interests\n",
      "Realistic - Realistic occupations frequently involve work activities that include practical, hands-on problems and\n",
      "solutions. They often deal with plants, animals, and real-world materials like wood, tools, and machinery. Many of\n",
      "the occupations require working outside, and do not involve a lot of paperwork or working closely with others.\n",
      "Tasks\n",
      "1. Maintain programming logs, as required by station management and the Federal Communications\n",
      "Commission.\n",
      "2. Control audio equipment to regulate the volume and sound quality during radio and television broadcasts.\n",
      "3. Monitor strength, clarity, and reliability of incoming and outgoing signals, and adjust equipment as necessary to\n",
      "maintain quality broadcasts.\n",
      "\n",
      "File: 1_chroma.pdf, Page 0: Broadcast Technicians, page 1 of 3\n",
      "A CareerZone Occupational Brief for:\n",
      "Broadcast Technicians\n",
      "An occupation in Engineering and Technologies\n",
      "New York State Department of Labor\n",
      "David A. Paterson, Governor\n",
      "Job Description\n",
      "Set up, operate, and maintain the electronic equipment used to transmit radio and television programs. Control\n",
      "audio equipment to regulate volume level and quality of sound during radio and television broadcasts. Operate\n",
      "radio transmitter to broadcast radio and television programs.\n",
      "Interests\n",
      "Realistic - Realistic occupations frequently involve work activities that include practical, hands-on problems and\n",
      "solutions. They often deal with plants, animals, and real-world materials like wood, tools, and machinery. Many of\n",
      "the occupations require working outside, and do not involve a lot of paperwork or working closely with others.\n",
      "Tasks\n",
      "1. Maintain programming logs, as required by station management and the Federal Communications\n",
      "Commission.\n",
      "\n",
      "File: 1_chroma.pdf, Page 1: management; principles of interpersonal and mediated communications; radio, television, and digital media\n",
      "production; and related aspects of technology and communications systems.\n",
      "Radio and Television Broadcasting Technology/Technician. - A program that prepares individuals to apply\n",
      "technical knowledge and skills to the production of radio and television programs, and related operations, under\n",
      "the supervision of broadcast and studio managers, directors, editors, and producers. Includes instruction in\n",
      "sound, lighting, and camera operation and maintenance; power and feed control; studio operations; production\n",
      "preparation; broadcast engineering; related computer applications; and specialized applications such as news,\n",
      "entertainment, live talk, sports, commercials, and taping.\n",
      "\n",
      "File: 1_chroma.pdf, Page 0: Tasks\n",
      "1. Maintain programming logs, as required by station management and the Federal Communications\n",
      "Commission.\n",
      "2. Control audio equipment to regulate the volume and sound quality during radio and television broadcasts.\n",
      "3. Monitor strength, clarity, and reliability of incoming and outgoing signals, and adjust equipment as necessary to\n",
      "maintain quality broadcasts.\n",
      "4. Regulate the fidelity, brightness, and contrast of video transmissions, using video console control panels.\n",
      "5. Observe monitors and converse with station personnel to determine audio and video levels and to ascertain\n",
      "that programs are airing.\n",
      "6. Preview scheduled programs to ensure that signals are functioning and programs are ready for transmission.\n",
      "7. Select sources from which programming will be received, or through which programming will be transmitted.\n",
      "8. Report equipment problems, ensure that repairs are made, and make emergency repairs to equipment when\n",
      "necessary and possible.\n",
      "\n",
      "File: 1_chroma.pdf, Page 1: Broadcast Technicians, page 2 of 3\n",
      "Troubleshooting - Determining causes of operating errors and deciding what to do about it.\n",
      "Active Listening - Giving full attention to what other people are saying, taking time to understand the points\n",
      "being made, asking questions as appropriate, and not interrupting at inappropriate times.\n",
      "Active Learning - Understanding the implications of new information for both current and future problem-solving\n",
      "and decision-making.\n",
      "Critical Thinking - Using logic and reasoning to identify the strengths and weaknesses of alternative solutions,\n",
      "conclusions or approaches to problems.\n",
      "Knowledge\n",
      "Telecommunications - Knowledge of transmission, broadcasting, switching, control, and operation of\n",
      "telecommunications systems.\n",
      "Communications and Media - Knowledge of media production, communication, and dissemination techniques\n",
      "and methods. This includes alternative ways to inform and entertain via written, oral, and visual media.\n",
      "\n",
      "File: 1_chroma.pdf, Page 0: Broadcast Technicians, page 1 of 3\n",
      "A CareerZone Occupational Brief for:\n",
      "Broadcast Technicians\n",
      "An occupation in Engineering and Technologies\n",
      "New York State Department of Labor\n",
      "David A. Paterson, Governor\n",
      "Job Description\n",
      "Set up, operate, and maintain the electronic equipment used to transmit radio and television programs. Control\n",
      "audio equipment to regulate volume level and quality of sound during radio and television broadcasts. Operate\n",
      "radio transmitter to broadcast radio and television programs.\n",
      "Interests\n",
      "Realistic - Realistic occupations frequently involve work activities that include practical, hands-on problems and\n",
      "solutions. They often deal with plants, animals, and real-world materials like wood, tools, and machinery. Many of\n",
      "the occupations require working outside, and do not involve a lot of paperwork or working closely with others.\n",
      "Tasks\n",
      "1. Maintain programming logs, as required by station management and the Federal Communications\n",
      "Commission.\n",
      "\n",
      "File: 1_chroma.pdf, Page 1: management; principles of interpersonal and mediated communications; radio, television, and digital media\n",
      "production; and related aspects of technology and communications systems.\n",
      "Radio and Television Broadcasting Technology/Technician. - A program that prepares individuals to apply\n",
      "technical knowledge and skills to the production of radio and television programs, and related operations, under\n",
      "the supervision of broadcast and studio managers, directors, editors, and producers. Includes instruction in\n",
      "sound, lighting, and camera operation and maintenance; power and feed control; studio operations; production\n",
      "preparation; broadcast engineering; related computer applications; and specialized applications such as news,\n",
      "entertainment, live talk, sports, commercials, and taping.\n",
      "\n",
      "File: 1_chroma.pdf, Page 0: Tasks\n",
      "1. Maintain programming logs, as required by station management and the Federal Communications\n",
      "Commission.\n",
      "2. Control audio equipment to regulate the volume and sound quality during radio and television broadcasts.\n",
      "3. Monitor strength, clarity, and reliability of incoming and outgoing signals, and adjust equipment as necessary to\n",
      "maintain quality broadcasts.\n",
      "4. Regulate the fidelity, brightness, and contrast of video transmissions, using video console control panels.\n",
      "5. Observe monitors and converse with station personnel to determine audio and video levels and to ascertain\n",
      "that programs are airing.\n",
      "6. Preview scheduled programs to ensure that signals are functioning and programs are ready for transmission.\n",
      "7. Select sources from which programming will be received, or through which programming will be transmitted.\n",
      "8. Report equipment problems, ensure that repairs are made, and make emergency repairs to equipment when\n",
      "necessary and possible.\n",
      "\n",
      "File: 1_chroma.pdf, Page 0.0: Broadcast Technicians, page 1 of 3\n",
      "A CareerZone Occupational Brief for:\n",
      "Broadcast Technicians\n",
      "An occupation in Engineering and Technologies\n",
      "New York State Department of Labor\n",
      "David A. Paterson, Governor\n",
      "Job Description\n",
      "Set up, operate, and maintain the electronic equipment used to transmit radio and television programs. Control\n",
      "audio equipment to regulate volume level and quality of sound during radio and television broadcasts. Operate\n",
      "radio transmitter to broadcast radio and television programs.\n",
      "Interests\n",
      "Realistic - Realistic occupations frequently involve work activities that include practical, hands-on problems and\n",
      "solutions. They often deal with plants, animals, and real-world materials like wood, tools, and machinery. Many of\n",
      "the occupations require working outside, and do not involve a lot of paperwork or working closely with others.\n",
      "Tasks\n",
      "1. Maintain programming logs, as required by station management and the Federal Communications\n",
      "Commission.\n",
      "2. Control audio equipment to regulate the volume and sound quality during radio and television broadcasts.\n",
      "3. Monitor strength, clarity, and reliability of incoming and outgoing signals, and adjust equipment as necessary to\n",
      "maintain quality broadcasts.\n",
      "\n",
      "File: 1_chroma.pdf, Page 0.0: Broadcast Technicians, page 1 of 3\n",
      "A CareerZone Occupational Brief for:\n",
      "Broadcast Technicians\n",
      "An occupation in Engineering and Technologies\n",
      "New York State Department of Labor\n",
      "David A. Paterson, Governor\n",
      "Job Description\n",
      "Set up, operate, and maintain the electronic equipment used to transmit radio and television programs. Control\n",
      "audio equipment to regulate volume level and quality of sound during radio and television broadcasts. Operate\n",
      "radio transmitter to broadcast radio and television programs.\n",
      "Interests\n",
      "Realistic - Realistic occupations frequently involve work activities that include practical, hands-on problems and\n",
      "solutions. They often deal with plants, animals, and real-world materials like wood, tools, and machinery. Many of\n",
      "the occupations require working outside, and do not involve a lot of paperwork or working closely with others.\n",
      "Tasks\n",
      "1. Maintain programming logs, as required by station management and the Federal Communications\n",
      "Commission.\n",
      "2. Control audio equipment to regulate the volume and sound quality during radio and television broadcasts.\n",
      "3. Monitor strength, clarity, and reliability of incoming and outgoing signals, and adjust equipment as necessary to\n",
      "maintain quality broadcasts.\n",
      "\n",
      "File: 1_chroma.pdf, Page 0.0: Broadcast Technicians, page 1 of 3\n",
      "A CareerZone Occupational Brief for:\n",
      "Broadcast Technicians\n",
      "An occupation in Engineering and Technologies\n",
      "New York State Department of Labor\n",
      "David A. Paterson, Governor\n",
      "Job Description\n",
      "Set up, operate, and maintain the electronic equipment used to transmit radio and television programs. Control\n",
      "audio equipment to regulate volume level and quality of sound during radio and television broadcasts. Operate\n",
      "radio transmitter to broadcast radio and television programs.\n",
      "Interests\n",
      "Realistic - Realistic occupations frequently involve work activities that include practical, hands-on problems and\n",
      "solutions. They often deal with plants, animals, and real-world materials like wood, tools, and machinery. Many of\n",
      "the occupations require working outside, and do not involve a lot of paperwork or working closely with others.\n",
      "Tasks\n",
      "1. Maintain programming logs, as required by station management and the Federal Communications\n",
      "Commission.\n",
      "2. Control audio equipment to regulate the volume and sound quality during radio and television broadcasts.\n",
      "3. Monitor strength, clarity, and reliability of incoming and outgoing signals, and adjust equipment as necessary to\n",
      "maintain quality broadcasts.\n",
      "\n",
      "File: 1_chroma.pdf, Page 0.0: Broadcast Technicians, page 1 of 3\n",
      "A CareerZone Occupational Brief for:\n",
      "Broadcast Technicians\n",
      "An occupation in Engineering and Technologies\n",
      "New York State Department of Labor\n",
      "David A. Paterson, Governor\n",
      "Job Description\n",
      "Set up, operate, and maintain the electronic equipment used to transmit radio and television programs. Control\n",
      "audio equipment to regulate volume level and quality of sound during radio and television broadcasts. Operate\n",
      "radio transmitter to broadcast radio and television programs.\n",
      "Interests\n",
      "Realistic - Realistic occupations frequently involve work activities that include practical, hands-on problems and\n",
      "solutions. They often deal with plants, animals, and real-world materials like wood, tools, and machinery. Many of\n",
      "the occupations require working outside, and do not involve a lot of paperwork or working closely with others.\n",
      "Tasks\n",
      "1. Maintain programming logs, as required by station management and the Federal Communications\n",
      "Commission.\n",
      "2. Control audio equipment to regulate the volume and sound quality during radio and television broadcasts.\n",
      "3. Monitor strength, clarity, and reliability of incoming and outgoing signals, and adjust equipment as necessary to\n",
      "maintain quality broadcasts.\n",
      "\n",
      "File: 1_chroma.pdf, Page 0: Broadcast Technicians, page 1 of 3\n",
      "A CareerZone Occupational Brief for:\n",
      "Broadcast Technicians\n",
      "An occupation in Engineering and Technologies\n",
      "New York State Department of Labor\n",
      "David A. Paterson, Governor\n",
      "Job Description\n",
      "Set up, operate, and maintain the electronic equipment used to transmit radio and television programs. Control\n",
      "audio equipment to regulate volume level and quality of sound during radio and television broadcasts. Operate\n",
      "radio transmitter to broadcast radio and television programs.\n",
      "Interests\n",
      "Realistic - Realistic occupations frequently involve work activities that include practical, hands-on problems and\n",
      "solutions. They often deal with plants, animals, and real-world materials like wood, tools, and machinery. Many of\n",
      "the occupations require working outside, and do not involve a lot of paperwork or working closely with others.\n",
      "Tasks\n",
      "1. Maintain programming logs, as required by station management and the Federal Communications\n",
      "Commission.\n",
      "\n",
      "File: 1_chroma.pdf, Page 1: management; principles of interpersonal and mediated communications; radio, television, and digital media\n",
      "production; and related aspects of technology and communications systems.\n",
      "Radio and Television Broadcasting Technology/Technician. - A program that prepares individuals to apply\n",
      "technical knowledge and skills to the production of radio and television programs, and related operations, under\n",
      "the supervision of broadcast and studio managers, directors, editors, and producers. Includes instruction in\n",
      "sound, lighting, and camera operation and maintenance; power and feed control; studio operations; production\n",
      "preparation; broadcast engineering; related computer applications; and specialized applications such as news,\n",
      "entertainment, live talk, sports, commercials, and taping.\n",
      "\n",
      "File: 1_chroma.pdf, Page 0: Tasks\n",
      "1. Maintain programming logs, as required by station management and the Federal Communications\n",
      "Commission.\n",
      "2. Control audio equipment to regulate the volume and sound quality during radio and television broadcasts.\n",
      "3. Monitor strength, clarity, and reliability of incoming and outgoing signals, and adjust equipment as necessary to\n",
      "maintain quality broadcasts.\n",
      "4. Regulate the fidelity, brightness, and contrast of video transmissions, using video console control panels.\n",
      "5. Observe monitors and converse with station personnel to determine audio and video levels and to ascertain\n",
      "that programs are airing.\n",
      "6. Preview scheduled programs to ensure that signals are functioning and programs are ready for transmission.\n",
      "7. Select sources from which programming will be received, or through which programming will be transmitted.\n",
      "8. Report equipment problems, ensure that repairs are made, and make emergency repairs to equipment when\n",
      "necessary and possible.\n",
      "\n",
      "File: 1_chroma.pdf, Page 1: Broadcast Technicians, page 2 of 3\n",
      "Troubleshooting - Determining causes of operating errors and deciding what to do about it.\n",
      "Active Listening - Giving full attention to what other people are saying, taking time to understand the points\n",
      "being made, asking questions as appropriate, and not interrupting at inappropriate times.\n",
      "Active Learning - Understanding the implications of new information for both current and future problem-solving\n",
      "and decision-making.\n",
      "Critical Thinking - Using logic and reasoning to identify the strengths and weaknesses of alternative solutions,\n",
      "conclusions or approaches to problems.\n",
      "Knowledge\n",
      "Telecommunications - Knowledge of transmission, broadcasting, switching, control, and operation of\n",
      "telecommunications systems.\n",
      "Communications and Media - Knowledge of media production, communication, and dissemination techniques\n",
      "and methods. This includes alternative ways to inform and entertain via written, oral, and visual media.\n",
      "\n",
      "File: 1_chroma.pdf, Page 0: Broadcast Technicians, page 1 of 3\n",
      "A CareerZone Occupational Brief for:\n",
      "Broadcast Technicians\n",
      "An occupation in Engineering and Technologies\n",
      "New York State Department of Labor\n",
      "David A. Paterson, Governor\n",
      "Job Description\n",
      "Set up, operate, and maintain the electronic equipment used to transmit radio and television programs. Control\n",
      "audio equipment to regulate volume level and quality of sound during radio and television broadcasts. Operate\n",
      "radio transmitter to broadcast radio and television programs.\n",
      "Interests\n",
      "Realistic - Realistic occupations frequently involve work activities that include practical, hands-on problems and\n",
      "solutions. They often deal with plants, animals, and real-world materials like wood, tools, and machinery. Many of\n",
      "the occupations require working outside, and do not involve a lot of paperwork or working closely with others.\n",
      "Tasks\n",
      "1. Maintain programming logs, as required by station management and the Federal Communications\n",
      "Commission.\n",
      "\n",
      "File: 1_chroma.pdf, Page 1: management; principles of interpersonal and mediated communications; radio, television, and digital media\n",
      "production; and related aspects of technology and communications systems.\n",
      "Radio and Television Broadcasting Technology/Technician. - A program that prepares individuals to apply\n",
      "technical knowledge and skills to the production of radio and television programs, and related operations, under\n",
      "the supervision of broadcast and studio managers, directors, editors, and producers. Includes instruction in\n",
      "sound, lighting, and camera operation and maintenance; power and feed control; studio operations; production\n",
      "preparation; broadcast engineering; related computer applications; and specialized applications such as news,\n",
      "entertainment, live talk, sports, commercials, and taping.\n",
      "\n",
      "File: 1_chroma.pdf, Page 0: Tasks\n",
      "1. Maintain programming logs, as required by station management and the Federal Communications\n",
      "Commission.\n",
      "2. Control audio equipment to regulate the volume and sound quality during radio and television broadcasts.\n",
      "3. Monitor strength, clarity, and reliability of incoming and outgoing signals, and adjust equipment as necessary to\n",
      "maintain quality broadcasts.\n",
      "4. Regulate the fidelity, brightness, and contrast of video transmissions, using video console control panels.\n",
      "5. Observe monitors and converse with station personnel to determine audio and video levels and to ascertain\n",
      "that programs are airing.\n",
      "6. Preview scheduled programs to ensure that signals are functioning and programs are ready for transmission.\n",
      "7. Select sources from which programming will be received, or through which programming will be transmitted.\n",
      "8. Report equipment problems, ensure that repairs are made, and make emergency repairs to equipment when\n",
      "necessary and possible.\n",
      "\n",
      "File: 1_chroma.pdf, Page 1: Broadcast Technicians, page 2 of 3\n",
      "Troubleshooting - Determining causes of operating errors and deciding what to do about it.\n",
      "Active Listening - Giving full attention to what other people are saying, taking time to understand the points\n",
      "being made, asking questions as appropriate, and not interrupting at inappropriate times.\n",
      "Active Learning - Understanding the implications of new information for both current and future problem-solving\n",
      "and decision-making.\n",
      "Critical Thinking - Using logic and reasoning to identify the strengths and weaknesses of alternative solutions,\n",
      "conclusions or approaches to problems.\n",
      "Knowledge\n",
      "Telecommunications - Knowledge of transmission, broadcasting, switching, control, and operation of\n",
      "telecommunications systems.\n",
      "Communications and Media - Knowledge of media production, communication, and dissemination techniques\n",
      "and methods. This includes alternative ways to inform and entertain via written, oral, and visual media.\n",
      "\n",
      "File: 1_chroma.pdf, Page 0.0: Broadcast Technicians, page 1 of 3\n",
      "A CareerZone Occupational Brief for:\n",
      "Broadcast Technicians\n",
      "An occupation in Engineering and Technologies\n",
      "New York State Department of Labor\n",
      "David A. Paterson, Governor\n",
      "Job Description\n",
      "Set up, operate, and maintain the electronic equipment used to transmit radio and television programs. Control\n",
      "audio equipment to regulate volume level and quality of sound during radio and television broadcasts. Operate\n",
      "radio transmitter to broadcast radio and television programs.\n",
      "Interests\n",
      "Realistic - Realistic occupations frequently involve work activities that include practical, hands-on problems and\n",
      "solutions. They often deal with plants, animals, and real-world materials like wood, tools, and machinery. Many of\n",
      "the occupations require working outside, and do not involve a lot of paperwork or working closely with others.\n",
      "Tasks\n",
      "1. Maintain programming logs, as required by station management and the Federal Communications\n",
      "Commission.\n",
      "2. Control audio equipment to regulate the volume and sound quality during radio and television broadcasts.\n",
      "3. Monitor strength, clarity, and reliability of incoming and outgoing signals, and adjust equipment as necessary to\n",
      "maintain quality broadcasts.\n",
      "\n",
      "File: 1_chroma.pdf, Page 0.0: Broadcast Technicians, page 1 of 3\n",
      "A CareerZone Occupational Brief for:\n",
      "Broadcast Technicians\n",
      "An occupation in Engineering and Technologies\n",
      "New York State Department of Labor\n",
      "David A. Paterson, Governor\n",
      "Job Description\n",
      "Set up, operate, and maintain the electronic equipment used to transmit radio and television programs. Control\n",
      "audio equipment to regulate volume level and quality of sound during radio and television broadcasts. Operate\n",
      "radio transmitter to broadcast radio and television programs.\n",
      "Interests\n",
      "Realistic - Realistic occupations frequently involve work activities that include practical, hands-on problems and\n",
      "solutions. They often deal with plants, animals, and real-world materials like wood, tools, and machinery. Many of\n",
      "the occupations require working outside, and do not involve a lot of paperwork or working closely with others.\n",
      "Tasks\n",
      "1. Maintain programming logs, as required by station management and the Federal Communications\n",
      "Commission.\n",
      "2. Control audio equipment to regulate the volume and sound quality during radio and television broadcasts.\n",
      "3. Monitor strength, clarity, and reliability of incoming and outgoing signals, and adjust equipment as necessary to\n",
      "maintain quality broadcasts.\n",
      "\n",
      "File: 1_chroma.pdf, Page 0.0: Broadcast Technicians, page 1 of 3\n",
      "A CareerZone Occupational Brief for:\n",
      "Broadcast Technicians\n",
      "An occupation in Engineering and Technologies\n",
      "New York State Department of Labor\n",
      "David A. Paterson, Governor\n",
      "Job Description\n",
      "Set up, operate, and maintain the electronic equipment used to transmit radio and television programs. Control\n",
      "audio equipment to regulate volume level and quality of sound during radio and television broadcasts. Operate\n",
      "radio transmitter to broadcast radio and television programs.\n",
      "Interests\n",
      "Realistic - Realistic occupations frequently involve work activities that include practical, hands-on problems and\n",
      "solutions. They often deal with plants, animals, and real-world materials like wood, tools, and machinery. Many of\n",
      "the occupations require working outside, and do not involve a lot of paperwork or working closely with others.\n",
      "Tasks\n",
      "1. Maintain programming logs, as required by station management and the Federal Communications\n",
      "Commission.\n",
      "2. Control audio equipment to regulate the volume and sound quality during radio and television broadcasts.\n",
      "3. Monitor strength, clarity, and reliability of incoming and outgoing signals, and adjust equipment as necessary to\n",
      "maintain quality broadcasts.\n",
      "\n",
      "File: 1_chroma.pdf, Page 0.0: Broadcast Technicians, page 1 of 3\n",
      "A CareerZone Occupational Brief for:\n",
      "Broadcast Technicians\n",
      "An occupation in Engineering and Technologies\n",
      "New York State Department of Labor\n",
      "David A. Paterson, Governor\n",
      "Job Description\n",
      "Set up, operate, and maintain the electronic equipment used to transmit radio and television programs. Control\n",
      "audio equipment to regulate volume level and quality of sound during radio and television broadcasts. Operate\n",
      "radio transmitter to broadcast radio and television programs.\n",
      "Interests\n",
      "Realistic - Realistic occupations frequently involve work activities that include practical, hands-on problems and\n",
      "solutions. They often deal with plants, animals, and real-world materials like wood, tools, and machinery. Many of\n",
      "the occupations require working outside, and do not involve a lot of paperwork or working closely with others.\n",
      "Tasks\n",
      "1. Maintain programming logs, as required by station management and the Federal Communications\n",
      "Commission.\n",
      "2. Control audio equipment to regulate the volume and sound quality during radio and television broadcasts.\n",
      "3. Monitor strength, clarity, and reliability of incoming and outgoing signals, and adjust equipment as necessary to\n",
      "maintain quality broadcasts.\n",
      "    \n"
     ]
    },
    {
     "data": {
      "application/vnd.jupyter.widget-view+json": {
       "model_id": "2bb7e640d8a14b8d95400c302db98f37",
       "version_major": 2,
       "version_minor": 0
      },
      "text/plain": [
       "Evaluating:   0%|          | 0/4 [00:00<?, ?it/s]"
      ]
     },
     "metadata": {},
     "output_type": "display_data"
    },
    {
     "data": {
      "application/vnd.jupyter.widget-view+json": {
       "model_id": "bef740b1fd304e57b28ad4d8cf8ec6c7",
       "version_major": 2,
       "version_minor": 0
      },
      "text/plain": [
       "Batches:   0%|          | 0/1 [00:00<?, ?it/s]"
      ]
     },
     "metadata": {},
     "output_type": "display_data"
    },
    {
     "data": {
      "application/vnd.jupyter.widget-view+json": {
       "model_id": "aa00b6b1574c4f099d46ad3f34e3be11",
       "version_major": 2,
       "version_minor": 0
      },
      "text/plain": [
       "Batches:   0%|          | 0/1 [00:00<?, ?it/s]"
      ]
     },
     "metadata": {},
     "output_type": "display_data"
    },
    {
     "data": {
      "application/vnd.jupyter.widget-view+json": {
       "model_id": "46df583b1f7344f6a0c2efb68ee5c7e9",
       "version_major": 2,
       "version_minor": 0
      },
      "text/plain": [
       "Batches:   0%|          | 0/1 [00:00<?, ?it/s]"
      ]
     },
     "metadata": {},
     "output_type": "display_data"
    },
    {
     "data": {
      "application/vnd.jupyter.widget-view+json": {
       "model_id": "780b78129a14466a898dc0ed862c4b29",
       "version_major": 2,
       "version_minor": 0
      },
      "text/plain": [
       "Batches:   0%|          | 0/1 [00:00<?, ?it/s]"
      ]
     },
     "metadata": {},
     "output_type": "display_data"
    },
    {
     "name": "stdout",
     "output_type": "stream",
     "text": [
      "\n",
      "Final Aggregated Answer Evaluation Scores: {'context_utilization': 0.8619, 'faithfulness': 0.8889, 'answer_relevancy': 0.8355, 'context_recall': 1.0000}\n"
     ]
    }
   ],
   "source": [
    "# Usage Example\n",
    "question = \"What are the primary tasks performed by broadcast technicians during radio and television broadcasts?\"\n",
    "aggregated_answer, all_responses, context, sources = get_aggregated_answer_and_sources(question)\n",
    "\n",
    "if \"tavily_search\" in all_responses:\n",
    "    print(\"\\nTavily Search Message:\")\n",
    "    print(aggregated_answer)\n",
    "else:\n",
    "    formatted_context = format_context(context)\n",
    "    output = f\"\"\"\n",
    "    Final Aggregated Answer: {aggregated_answer}\n",
    "\n",
    "    Context used for answer:\n",
    "    {formatted_context}\n",
    "    \"\"\"\n",
    "    print(output)\n",
    "\n",
    "    ground_truth = \"Primary tasks performed by broadcast technicians during radio and television broadcasts include operating and maintaining equipment, monitoring signal strength, and ensuring quality of audio and video transmissions.\"\n",
    "\n",
    "    final_scores = evaluate_answer(aggregated_answer, question, context, ground_truth)\n",
    "    print(\"\\nFinal Aggregated Answer Evaluation Scores:\", final_scores)"
   ]
  },
  {
   "cell_type": "code",
   "execution_count": 3,
   "id": "5cfa6ae7-9d93-45d8-ba8d-24e76b66e7dc",
   "metadata": {},
   "outputs": [
    {
     "name": "stdout",
     "output_type": "stream",
     "text": [
      "---RETRIEVE---\n"
     ]
    },
    {
     "data": {
      "application/vnd.jupyter.widget-view+json": {
       "model_id": "b1f63853ad17432c92696771949769c3",
       "version_major": 2,
       "version_minor": 0
      },
      "text/plain": [
       "Batches:   0%|          | 0/1 [00:00<?, ?it/s]"
      ]
     },
     "metadata": {},
     "output_type": "display_data"
    },
    {
     "data": {
      "application/vnd.jupyter.widget-view+json": {
       "model_id": "9d9e44765cda4c93a9e14a9fa284328d",
       "version_major": 2,
       "version_minor": 0
      },
      "text/plain": [
       "Batches:   0%|          | 0/1 [00:00<?, ?it/s]"
      ]
     },
     "metadata": {},
     "output_type": "display_data"
    },
    {
     "data": {
      "application/vnd.jupyter.widget-view+json": {
       "model_id": "5448343b19764d1199f441352ce1daea",
       "version_major": 2,
       "version_minor": 0
      },
      "text/plain": [
       "Batches:   0%|          | 0/1 [00:00<?, ?it/s]"
      ]
     },
     "metadata": {},
     "output_type": "display_data"
    },
    {
     "name": "stdout",
     "output_type": "stream",
     "text": [
      "---CHECK DOCUMENT RELEVANCE TO QUESTION---\n",
      "---GRADE: DOCUMENT RELEVANT---\n",
      "---GRADE: DOCUMENT RELEVANT---\n",
      "---GRADE: DOCUMENT NOT RELEVANT---\n",
      "---GRADE: DOCUMENT NOT RELEVANT---\n",
      "---GRADE: DOCUMENT RELEVANT---\n",
      "---GRADE: DOCUMENT RELEVANT---\n",
      "---GRADE: DOCUMENT NOT RELEVANT---\n",
      "---GRADE: DOCUMENT RELEVANT---\n",
      "---GRADE: DOCUMENT RELEVANT---\n",
      "---GRADE: DOCUMENT RELEVANT---\n",
      "---GRADE: DOCUMENT RELEVANT---\n",
      "---GRADE: DOCUMENT RELEVANT---\n",
      "---ASSESS GRADED DOCUMENTS---\n",
      "---GENERATE---\n",
      "---RETRIEVE---\n"
     ]
    },
    {
     "data": {
      "application/vnd.jupyter.widget-view+json": {
       "model_id": "026601815d854e65a5c9bd594c37c285",
       "version_major": 2,
       "version_minor": 0
      },
      "text/plain": [
       "Batches:   0%|          | 0/1 [00:00<?, ?it/s]"
      ]
     },
     "metadata": {},
     "output_type": "display_data"
    },
    {
     "data": {
      "application/vnd.jupyter.widget-view+json": {
       "model_id": "2b9bba3310f54ed5b302d272915073ee",
       "version_major": 2,
       "version_minor": 0
      },
      "text/plain": [
       "Batches:   0%|          | 0/1 [00:00<?, ?it/s]"
      ]
     },
     "metadata": {},
     "output_type": "display_data"
    },
    {
     "data": {
      "application/vnd.jupyter.widget-view+json": {
       "model_id": "67b0698b9f0b4a6ea9d56cd77b582647",
       "version_major": 2,
       "version_minor": 0
      },
      "text/plain": [
       "Batches:   0%|          | 0/1 [00:00<?, ?it/s]"
      ]
     },
     "metadata": {},
     "output_type": "display_data"
    },
    {
     "name": "stdout",
     "output_type": "stream",
     "text": [
      "---CHECK DOCUMENT RELEVANCE TO QUESTION---\n",
      "---GRADE: DOCUMENT RELEVANT---\n",
      "---GRADE: DOCUMENT RELEVANT---\n",
      "---GRADE: DOCUMENT NOT RELEVANT---\n",
      "---GRADE: DOCUMENT NOT RELEVANT---\n",
      "---GRADE: DOCUMENT RELEVANT---\n",
      "---GRADE: DOCUMENT RELEVANT---\n",
      "---GRADE: DOCUMENT NOT RELEVANT---\n",
      "---GRADE: DOCUMENT RELEVANT---\n",
      "---GRADE: DOCUMENT RELEVANT---\n",
      "---GRADE: DOCUMENT RELEVANT---\n",
      "---GRADE: DOCUMENT RELEVANT---\n",
      "---GRADE: DOCUMENT RELEVANT---\n",
      "---ASSESS GRADED DOCUMENTS---\n",
      "---GENERATE---\n",
      "---RETRIEVE---\n"
     ]
    },
    {
     "data": {
      "application/vnd.jupyter.widget-view+json": {
       "model_id": "4ee6612813b24974a997e8e7b795d3aa",
       "version_major": 2,
       "version_minor": 0
      },
      "text/plain": [
       "Batches:   0%|          | 0/1 [00:00<?, ?it/s]"
      ]
     },
     "metadata": {},
     "output_type": "display_data"
    },
    {
     "data": {
      "application/vnd.jupyter.widget-view+json": {
       "model_id": "a02486eb291e46b5b501ff506198e75d",
       "version_major": 2,
       "version_minor": 0
      },
      "text/plain": [
       "Batches:   0%|          | 0/1 [00:00<?, ?it/s]"
      ]
     },
     "metadata": {},
     "output_type": "display_data"
    },
    {
     "data": {
      "application/vnd.jupyter.widget-view+json": {
       "model_id": "fa382ec718e549d6b49348d9f9d7ecce",
       "version_major": 2,
       "version_minor": 0
      },
      "text/plain": [
       "Batches:   0%|          | 0/1 [00:00<?, ?it/s]"
      ]
     },
     "metadata": {},
     "output_type": "display_data"
    },
    {
     "name": "stdout",
     "output_type": "stream",
     "text": [
      "---CHECK DOCUMENT RELEVANCE TO QUESTION---\n",
      "---GRADE: DOCUMENT RELEVANT---\n",
      "---GRADE: DOCUMENT RELEVANT---\n",
      "---GRADE: DOCUMENT NOT RELEVANT---\n",
      "---GRADE: DOCUMENT NOT RELEVANT---\n",
      "---GRADE: DOCUMENT RELEVANT---\n",
      "---GRADE: DOCUMENT RELEVANT---\n",
      "---GRADE: DOCUMENT NOT RELEVANT---\n",
      "---GRADE: DOCUMENT RELEVANT---\n",
      "---GRADE: DOCUMENT RELEVANT---\n",
      "---GRADE: DOCUMENT RELEVANT---\n",
      "---GRADE: DOCUMENT RELEVANT---\n",
      "---GRADE: DOCUMENT RELEVANT---\n",
      "---ASSESS GRADED DOCUMENTS---\n",
      "---GENERATE---\n"
     ]
    },
    {
     "data": {
      "application/vnd.jupyter.widget-view+json": {
       "model_id": "0efde967f4fb4d2ba818c1e7cb7951c7",
       "version_major": 2,
       "version_minor": 0
      },
      "text/plain": [
       "Batches:   0%|          | 0/1 [00:00<?, ?it/s]"
      ]
     },
     "metadata": {},
     "output_type": "display_data"
    },
    {
     "data": {
      "application/vnd.jupyter.widget-view+json": {
       "model_id": "a974b58873ef4868a8d70943270abb00",
       "version_major": 2,
       "version_minor": 0
      },
      "text/plain": [
       "Batches:   0%|          | 0/1 [00:00<?, ?it/s]"
      ]
     },
     "metadata": {},
     "output_type": "display_data"
    },
    {
     "data": {
      "application/vnd.jupyter.widget-view+json": {
       "model_id": "2a2df34d756c4b319ce037b2be07dd03",
       "version_major": 2,
       "version_minor": 0
      },
      "text/plain": [
       "Batches:   0%|          | 0/1 [00:00<?, ?it/s]"
      ]
     },
     "metadata": {},
     "output_type": "display_data"
    },
    {
     "data": {
      "application/vnd.jupyter.widget-view+json": {
       "model_id": "e35c23f1db4d4f49b27e2a788671e62b",
       "version_major": 2,
       "version_minor": 0
      },
      "text/plain": [
       "Batches:   0%|          | 0/1 [00:00<?, ?it/s]"
      ]
     },
     "metadata": {},
     "output_type": "display_data"
    },
    {
     "data": {
      "application/vnd.jupyter.widget-view+json": {
       "model_id": "e44a9cba2dd34891af3ac4eedd4c99c5",
       "version_major": 2,
       "version_minor": 0
      },
      "text/plain": [
       "Batches:   0%|          | 0/1 [00:00<?, ?it/s]"
      ]
     },
     "metadata": {},
     "output_type": "display_data"
    },
    {
     "data": {
      "application/vnd.jupyter.widget-view+json": {
       "model_id": "2b8c599733c24b7b8ce174bdb2825dfc",
       "version_major": 2,
       "version_minor": 0
      },
      "text/plain": [
       "Batches:   0%|          | 0/1 [00:00<?, ?it/s]"
      ]
     },
     "metadata": {},
     "output_type": "display_data"
    },
    {
     "name": "stdout",
     "output_type": "stream",
     "text": [
      "\n",
      "    Final Aggregated Answer: The forecasts for U.S. crude oil production in the fourth quarter of 2016 were 8.94 million barrels per day according to the current forecast as of December 6, 2016, and 8.87 million barrels per day according to the previous forecast as of November 8, 2016.\n",
      "\n",
      "    Context used for answer:\n",
      "    File: 6_FAISS.pdf, Page 0: Current Forecast: December 6, 2016; Previous Forecast: November 8, 2016\n",
      "Q1\n",
      "Q2\n",
      "Q3\n",
      "Q4\n",
      "Q1\n",
      "Q2\n",
      "Q3\n",
      "Q4\n",
      "Q1\n",
      "Q2\n",
      "Q3\n",
      "Q4\n",
      "2014\n",
      "2015\n",
      "2016\n",
      "2017\n",
      "2014-2015\n",
      "2015-2016\n",
      "2016-2017\n",
      "U.S. Energy Supply\n",
      "   U.S. Crude Oil Production (million barrels per day)\n",
      "      Current\n",
      "9.49\n",
      "9.47\n",
      "9.41\n",
      "9.30\n",
      "9.17\n",
      "8.85\n",
      "8.67\n",
      "8.75\n",
      "8.75\n",
      "8.74\n",
      "8.70\n",
      "8.94\n",
      "8.76\n",
      "9.42\n",
      "8.86\n",
      "8.78\n",
      "7.4%\n",
      "-5.9%\n",
      "-0.9%\n",
      "      Previous\n",
      "9.49\n",
      "9.47\n",
      "9.41\n",
      "9.30\n",
      "9.17\n",
      "8.85\n",
      "8.68\n",
      "8.68\n",
      "8.68\n",
      "8.71\n",
      "8.67\n",
      "8.87\n",
      "8.76\n",
      "9.42\n",
      "8.84\n",
      "8.73\n",
      "7.4%\n",
      "-6.1%\n",
      "-1.3%\n",
      "         Percent Change\n",
      "0.0%\n",
      "0.0%\n",
      "0.0%\n",
      "0.0%\n",
      "0.0%\n",
      "0.0%\n",
      "-0.1%\n",
      "0.7%\n",
      "0.7%\n",
      "0.4%\n",
      "0.3%\n",
      "0.8%\n",
      "0.0%\n",
      "0.0%\n",
      "0.2%\n",
      "0.6%\n",
      "   U.S. Dry Natural Gas Production (billion cubic feet per day)\n",
      "      Current\n",
      "73.44\n",
      "74.50\n",
      "74.51\n",
      "74.08\n",
      "73.77\n",
      "72.38\n",
      "71.89\n",
      "71.94\n",
      "73.22\n",
      "74.48\n",
      "75.34\n",
      "76.13\n",
      "70.93\n",
      "74.14\n",
      "72.49\n",
      "74.80\n",
      "4.5%\n",
      "-2.2%\n",
      "3.2%\n",
      "      Previous\n",
      "73.44\n",
      "74.50\n",
      "74.51\n",
      "74.08\n",
      "73.77\n",
      "72.38\n",
      "71.73\n",
      "71.51\n",
      "73.06\n",
      "74.41\n",
      "75.81\n",
      "76.93\n",
      "70.93\n",
      "74.14\n",
      "72.34\n",
      "75.06\n",
      "4.5%\n",
      "-2.4%\n",
      "3.8%\n",
      "         Percent Change\n",
      "0.0%\n",
      "0.0%\n",
      "0.0%\n",
      "0.0%\n",
      "0.0%\n",
      "0.0%\n",
      "0.2%\n",
      "0.6%\n",
      "0.2%\n",
      "0.1%\n",
      "-0.6%\n",
      "-1.0%\n",
      "0.0%\n",
      "0.0%\n",
      "0.2%\n",
      "-0.4%\n",
      "\n",
      "File: 6_FAISS.pdf, Page 3: Current Forecast: December 6, 2016; Previous Forecast: November 8, 2016\n",
      "Q1\n",
      "Q2\n",
      "Q3\n",
      "Q4\n",
      "Q1\n",
      "Q2\n",
      "Q3\n",
      "Q4\n",
      "Q1\n",
      "Q2\n",
      "Q3\n",
      "Q4\n",
      "2014\n",
      "2015\n",
      "2016\n",
      "2017\n",
      "2014-2015\n",
      "2015-2016\n",
      "2016-2017\n",
      "U.S. Supply  (million barrels per day)\n",
      "   U.S. Crude Oil Production \n",
      "      Current\n",
      "9.49\n",
      "9.47\n",
      "9.41\n",
      "9.30\n",
      "9.17\n",
      "8.85\n",
      "8.67\n",
      "8.75\n",
      "8.75\n",
      "8.74\n",
      "8.70\n",
      "8.94\n",
      "8.76\n",
      "9.42\n",
      "8.86\n",
      "8.78\n",
      "7.4%\n",
      "-5.9%\n",
      "-0.9%\n",
      "      Previous\n",
      "9.49\n",
      "9.47\n",
      "9.41\n",
      "9.30\n",
      "9.17\n",
      "8.85\n",
      "8.68\n",
      "8.68\n",
      "8.68\n",
      "8.71\n",
      "8.67\n",
      "8.87\n",
      "8.76\n",
      "9.42\n",
      "8.84\n",
      "8.73\n",
      "7.4%\n",
      "-6.1%\n",
      "-1.3%\n",
      "         Percent Change\n",
      "0.0%\n",
      "0.0%\n",
      "0.0%\n",
      "0.0%\n",
      "0.0%\n",
      "0.0%\n",
      "-0.1%\n",
      "0.7%\n",
      "0.7%\n",
      "0.4%\n",
      "0.3%\n",
      "0.8%\n",
      "0.0%\n",
      "0.0%\n",
      "0.2%\n",
      "0.6%\n",
      "   U.S. Natural Gas Plant Liquids Production\n",
      "      Current\n",
      "3.15\n",
      "3.34\n",
      "3.40\n",
      "3.47\n",
      "3.38\n",
      "3.57\n",
      "3.46\n",
      "3.49\n",
      "3.46\n",
      "3.71\n",
      "3.91\n",
      "4.03\n",
      "3.01\n",
      "3.34\n",
      "3.48\n",
      "3.78\n",
      "10.9%\n",
      "4.1%\n",
      "8.7%\n",
      "      Previous\n",
      "3.15\n",
      "3.34\n",
      "3.40\n",
      "3.47\n",
      "3.38\n",
      "3.57\n",
      "3.48\n",
      "3.51\n",
      "3.53\n",
      "3.70\n",
      "3.93\n",
      "4.06\n",
      "3.01\n",
      "3.34\n",
      "3.48\n",
      "3.81\n",
      "10.9%\n",
      "4.3%\n",
      "9.2%\n",
      "         Percent Change\n",
      "0.0%\n",
      "0.0%\n",
      "0.0%\n",
      "0.0%\n",
      "0.0%\n",
      "0.0%\n",
      "-0.4%\n",
      "-0.4%\n",
      "-2.1%\n",
      "0.4%\n",
      "-0.5%\n",
      "-0.7%\n",
      "0.0%\n",
      "0.0%\n",
      "-0.2%\n",
      "-0.7%\n",
      "   U.S. Ethanol Production\n",
      "      Current\n",
      "0.96\n",
      "0.96\n",
      "0.96\n",
      "0.99\n",
      "0.99\n",
      "\n",
      "File: 6_FAISS.pdf, Page 0: Current Forecast: December 6, 2016; Previous Forecast: November 8, 2016\n",
      "Q1\n",
      "Q2\n",
      "Q3\n",
      "Q4\n",
      "Q1\n",
      "Q2\n",
      "Q3\n",
      "Q4\n",
      "Q1\n",
      "Q2\n",
      "Q3\n",
      "Q4\n",
      "2014\n",
      "2015\n",
      "2016\n",
      "2017\n",
      "2014-2015\n",
      "2015-2016\n",
      "2016-2017\n",
      "U.S. Energy Supply\n",
      "   U.S. Crude Oil Production (million barrels per day)\n",
      "      Current\n",
      "9.49\n",
      "9.47\n",
      "9.41\n",
      "9.30\n",
      "9.17\n",
      "8.85\n",
      "8.67\n",
      "8.75\n",
      "8.75\n",
      "8.74\n",
      "8.70\n",
      "8.94\n",
      "8.76\n",
      "9.42\n",
      "8.86\n",
      "8.78\n",
      "7.4%\n",
      "-5.9%\n",
      "-0.9%\n",
      "      Previous\n",
      "9.49\n",
      "9.47\n",
      "9.41\n",
      "9.30\n",
      "9.17\n",
      "8.85\n",
      "8.68\n",
      "8.68\n",
      "8.68\n",
      "8.71\n",
      "8.67\n",
      "8.87\n",
      "8.76\n",
      "9.42\n",
      "8.84\n",
      "8.73\n",
      "7.4%\n",
      "-6.1%\n",
      "-1.3%\n",
      "         Percent Change\n",
      "0.0%\n",
      "0.0%\n",
      "0.0%\n",
      "0.0%\n",
      "0.0%\n",
      "0.0%\n",
      "-0.1%\n",
      "0.7%\n",
      "0.7%\n",
      "0.4%\n",
      "0.3%\n",
      "0.8%\n",
      "0.0%\n",
      "0.0%\n",
      "0.2%\n",
      "0.6%\n",
      "   U.S. Dry Natural Gas Production (billion cubic feet per day)\n",
      "      Current\n",
      "73.44\n",
      "74.50\n",
      "74.51\n",
      "74.08\n",
      "73.77\n",
      "72.38\n",
      "71.89\n",
      "71.94\n",
      "73.22\n",
      "74.48\n",
      "75.34\n",
      "76.13\n",
      "70.93\n",
      "74.14\n",
      "72.49\n",
      "74.80\n",
      "4.5%\n",
      "-2.2%\n",
      "3.2%\n",
      "      Previous\n",
      "73.44\n",
      "74.50\n",
      "74.51\n",
      "74.08\n",
      "73.77\n",
      "72.38\n",
      "71.73\n",
      "71.51\n",
      "73.06\n",
      "74.41\n",
      "75.81\n",
      "76.93\n",
      "70.93\n",
      "74.14\n",
      "72.34\n",
      "75.06\n",
      "4.5%\n",
      "-2.4%\n",
      "3.8%\n",
      "         Percent Change\n",
      "0.0%\n",
      "0.0%\n",
      "0.0%\n",
      "0.0%\n",
      "0.0%\n",
      "0.0%\n",
      "0.2%\n",
      "0.6%\n",
      "0.2%\n",
      "0.1%\n",
      "-0.6%\n",
      "-1.0%\n",
      "0.0%\n",
      "0.0%\n",
      "0.2%\n",
      "-0.4%\n",
      "\n",
      "File: 6_FAISS.pdf, Page 3: Current Forecast: December 6, 2016; Previous Forecast: November 8, 2016\n",
      "Q1\n",
      "Q2\n",
      "Q3\n",
      "Q4\n",
      "Q1\n",
      "Q2\n",
      "Q3\n",
      "Q4\n",
      "Q1\n",
      "Q2\n",
      "Q3\n",
      "Q4\n",
      "2014\n",
      "2015\n",
      "2016\n",
      "2017\n",
      "2014-2015\n",
      "2015-2016\n",
      "2016-2017\n",
      "U.S. Supply  (million barrels per day)\n",
      "   U.S. Crude Oil Production \n",
      "      Current\n",
      "9.49\n",
      "9.47\n",
      "9.41\n",
      "9.30\n",
      "9.17\n",
      "8.85\n",
      "8.67\n",
      "8.75\n",
      "8.75\n",
      "8.74\n",
      "8.70\n",
      "8.94\n",
      "8.76\n",
      "9.42\n",
      "8.86\n",
      "8.78\n",
      "7.4%\n",
      "-5.9%\n",
      "-0.9%\n",
      "      Previous\n",
      "9.49\n",
      "9.47\n",
      "9.41\n",
      "9.30\n",
      "9.17\n",
      "8.85\n",
      "8.68\n",
      "8.68\n",
      "8.68\n",
      "8.71\n",
      "8.67\n",
      "8.87\n",
      "8.76\n",
      "9.42\n",
      "8.84\n",
      "8.73\n",
      "7.4%\n",
      "-6.1%\n",
      "-1.3%\n",
      "         Percent Change\n",
      "0.0%\n",
      "0.0%\n",
      "0.0%\n",
      "0.0%\n",
      "0.0%\n",
      "0.0%\n",
      "-0.1%\n",
      "0.7%\n",
      "0.7%\n",
      "0.4%\n",
      "0.3%\n",
      "0.8%\n",
      "0.0%\n",
      "0.0%\n",
      "0.2%\n",
      "0.6%\n",
      "   U.S. Natural Gas Plant Liquids Production\n",
      "      Current\n",
      "3.15\n",
      "3.34\n",
      "3.40\n",
      "3.47\n",
      "3.38\n",
      "3.57\n",
      "3.46\n",
      "3.49\n",
      "3.46\n",
      "3.71\n",
      "3.91\n",
      "4.03\n",
      "3.01\n",
      "3.34\n",
      "3.48\n",
      "3.78\n",
      "10.9%\n",
      "4.1%\n",
      "8.7%\n",
      "      Previous\n",
      "3.15\n",
      "3.34\n",
      "3.40\n",
      "3.47\n",
      "3.38\n",
      "3.57\n",
      "3.48\n",
      "3.51\n",
      "3.53\n",
      "3.70\n",
      "3.93\n",
      "4.06\n",
      "3.01\n",
      "3.34\n",
      "3.48\n",
      "3.81\n",
      "10.9%\n",
      "4.3%\n",
      "9.2%\n",
      "         Percent Change\n",
      "0.0%\n",
      "0.0%\n",
      "0.0%\n",
      "0.0%\n",
      "0.0%\n",
      "0.0%\n",
      "-0.4%\n",
      "-0.4%\n",
      "-2.1%\n",
      "0.4%\n",
      "-0.5%\n",
      "-0.7%\n",
      "0.0%\n",
      "0.0%\n",
      "-0.2%\n",
      "-0.7%\n",
      "   U.S. Ethanol Production\n",
      "      Current\n",
      "0.96\n",
      "0.96\n",
      "0.96\n",
      "0.99\n",
      "0.99\n",
      "\n",
      "File: 6_FAISS.pdf, Page 1: Current Forecast: December 6, 2016; Previous Forecast: November 8, 2016\n",
      "Q1\n",
      "Q2\n",
      "Q3\n",
      "Q4\n",
      "Q1\n",
      "Q2\n",
      "Q3\n",
      "Q4\n",
      "Q1\n",
      "Q2\n",
      "Q3\n",
      "Q4\n",
      "2014\n",
      "2015\n",
      "2016\n",
      "2017\n",
      "2014-2015\n",
      "2015-2016\n",
      "2016-2017\n",
      "U.S. Petroleum\n",
      "   WTI spot ($/barrel)\n",
      "      Current\n",
      "48.48\n",
      "57.85\n",
      "46.55\n",
      "41.94\n",
      "33.35\n",
      "45.46\n",
      "44.85\n",
      "48.18\n",
      "49.00\n",
      "49.00\n",
      "51.00\n",
      "53.65\n",
      "93.17\n",
      "48.67\n",
      "43.07\n",
      "50.66\n",
      "-47.8%\n",
      "-11.5%\n",
      "17.6%\n",
      "      Previous\n",
      "48.48\n",
      "57.85\n",
      "46.55\n",
      "41.94\n",
      "33.35\n",
      "45.46\n",
      "44.85\n",
      "47.24\n",
      "47.00\n",
      "48.03\n",
      "51.00\n",
      "53.65\n",
      "93.17\n",
      "48.67\n",
      "42.84\n",
      "49.91\n",
      "-47.8%\n",
      "-12.0%\n",
      "16.5%\n",
      "         Percent Change\n",
      "0.0%\n",
      "0.0%\n",
      "0.0%\n",
      "0.0%\n",
      "0.0%\n",
      "0.0%\n",
      "0.0%\n",
      "2.0%\n",
      "4.3%\n",
      "2.0%\n",
      "0.0%\n",
      "0.0%\n",
      "0.0%\n",
      "0.0%\n",
      "0.6%\n",
      "1.5%\n",
      "  Refiner composite crude oil  acquisition cost ($/barrel)\n",
      "      Current\n",
      "47.94\n",
      "57.47\n",
      "47.67\n",
      "40.48\n",
      "30.84\n",
      "42.23\n",
      "43.18\n",
      "47.17\n",
      "48.00\n",
      "48.00\n",
      "49.98\n",
      "52.67\n",
      "92.05\n",
      "48.40\n",
      "40.92\n",
      "49.70\n",
      "-47.4%\n",
      "-15.5%\n",
      "21.5%\n",
      "      Previous\n",
      "47.94\n",
      "57.47\n",
      "47.67\n",
      "40.48\n",
      "30.84\n",
      "42.23\n",
      "43.53\n",
      "46.22\n",
      "46.00\n",
      "47.01\n",
      "49.98\n",
      "52.67\n",
      "92.05\n",
      "48.40\n",
      "40.78\n",
      "48.98\n",
      "-47.4%\n",
      "-15.8%\n",
      "20.1%\n",
      "         Percent Change\n",
      "0.0%\n",
      "0.0%\n",
      "0.0%\n",
      "0.0%\n",
      "0.0%\n",
      "0.0%\n",
      "-0.8%\n",
      "2.1%\n",
      "4.3%\n",
      "2.1%\n",
      "0.0%\n",
      "0.0%\n",
      "0.0%\n",
      "0.0%\n",
      "0.4%\n",
      "1.5%\n",
      "\n",
      "File: 6_FAISS.pdf, Page 0.0: Current Forecast: December 6, 2016; Previous Forecast: November 8, 2016\n",
      "Q1\n",
      "Q2\n",
      "Q3\n",
      "Q4\n",
      "Q1\n",
      "Q2\n",
      "Q3\n",
      "Q4\n",
      "Q1\n",
      "Q2\n",
      "Q3\n",
      "Q4\n",
      "2014\n",
      "2015\n",
      "2016\n",
      "2017\n",
      "2014-2015\n",
      "2015-2016\n",
      "2016-2017\n",
      "U.S. Energy Supply\n",
      "   U.S. Crude Oil Production (million barrels per day)\n",
      "      Current\n",
      "9.49\n",
      "9.47\n",
      "9.41\n",
      "9.30\n",
      "9.17\n",
      "8.85\n",
      "8.67\n",
      "8.75\n",
      "8.75\n",
      "8.74\n",
      "8.70\n",
      "8.94\n",
      "8.76\n",
      "9.42\n",
      "8.86\n",
      "8.78\n",
      "7.4%\n",
      "-5.9%\n",
      "-0.9%\n",
      "      Previous\n",
      "9.49\n",
      "9.47\n",
      "9.41\n",
      "9.30\n",
      "9.17\n",
      "8.85\n",
      "8.68\n",
      "8.68\n",
      "8.68\n",
      "8.71\n",
      "8.67\n",
      "8.87\n",
      "8.76\n",
      "9.42\n",
      "\n",
      "File: 6_FAISS.pdf, Page 0.0: Current Forecast: December 6, 2016; Previous Forecast: November 8, 2016\n",
      "Q1\n",
      "Q2\n",
      "Q3\n",
      "Q4\n",
      "Q1\n",
      "Q2\n",
      "Q3\n",
      "Q4\n",
      "Q1\n",
      "Q2\n",
      "Q3\n",
      "Q4\n",
      "2014\n",
      "2015\n",
      "2016\n",
      "2017\n",
      "2014-2015\n",
      "2015-2016\n",
      "2016-2017\n",
      "U.S. Energy Supply\n",
      "   U.S. Crude Oil Production (million barrels per day)\n",
      "      Current\n",
      "9.49\n",
      "9.47\n",
      "9.41\n",
      "9.30\n",
      "9.17\n",
      "8.85\n",
      "8.67\n",
      "8.75\n",
      "8.75\n",
      "8.74\n",
      "8.70\n",
      "8.94\n",
      "8.76\n",
      "9.42\n",
      "8.86\n",
      "8.78\n",
      "7.4%\n",
      "-5.9%\n",
      "-0.9%\n",
      "      Previous\n",
      "9.49\n",
      "9.47\n",
      "9.41\n",
      "9.30\n",
      "9.17\n",
      "8.85\n",
      "8.68\n",
      "8.68\n",
      "8.68\n",
      "8.71\n",
      "8.67\n",
      "8.87\n",
      "8.76\n",
      "9.42\n",
      "\n",
      "File: 6_FAISS.pdf, Page 0.0: Current Forecast: December 6, 2016; Previous Forecast: November 8, 2016\n",
      "Q1\n",
      "Q2\n",
      "Q3\n",
      "Q4\n",
      "Q1\n",
      "Q2\n",
      "Q3\n",
      "Q4\n",
      "Q1\n",
      "Q2\n",
      "Q3\n",
      "Q4\n",
      "2014\n",
      "2015\n",
      "2016\n",
      "2017\n",
      "2014-2015\n",
      "2015-2016\n",
      "2016-2017\n",
      "U.S. Energy Supply\n",
      "   U.S. Crude Oil Production (million barrels per day)\n",
      "      Current\n",
      "9.49\n",
      "9.47\n",
      "9.41\n",
      "9.30\n",
      "9.17\n",
      "8.85\n",
      "8.67\n",
      "8.75\n",
      "8.75\n",
      "8.74\n",
      "8.70\n",
      "8.94\n",
      "8.76\n",
      "9.42\n",
      "8.86\n",
      "8.78\n",
      "7.4%\n",
      "-5.9%\n",
      "-0.9%\n",
      "      Previous\n",
      "9.49\n",
      "9.47\n",
      "9.41\n",
      "9.30\n",
      "9.17\n",
      "8.85\n",
      "8.68\n",
      "8.68\n",
      "8.68\n",
      "8.71\n",
      "8.67\n",
      "8.87\n",
      "8.76\n",
      "9.42\n",
      "\n",
      "File: 6_FAISS.pdf, Page 0.0: Current Forecast: December 6, 2016; Previous Forecast: November 8, 2016\n",
      "Q1\n",
      "Q2\n",
      "Q3\n",
      "Q4\n",
      "Q1\n",
      "Q2\n",
      "Q3\n",
      "Q4\n",
      "Q1\n",
      "Q2\n",
      "Q3\n",
      "Q4\n",
      "2014\n",
      "2015\n",
      "2016\n",
      "2017\n",
      "2014-2015\n",
      "2015-2016\n",
      "2016-2017\n",
      "U.S. Energy Supply\n",
      "   U.S. Crude Oil Production (million barrels per day)\n",
      "      Current\n",
      "9.49\n",
      "9.47\n",
      "9.41\n",
      "9.30\n",
      "9.17\n",
      "8.85\n",
      "8.67\n",
      "8.75\n",
      "8.75\n",
      "8.74\n",
      "8.70\n",
      "8.94\n",
      "8.76\n",
      "9.42\n",
      "8.86\n",
      "8.78\n",
      "7.4%\n",
      "-5.9%\n",
      "-0.9%\n",
      "      Previous\n",
      "9.49\n",
      "9.47\n",
      "9.41\n",
      "9.30\n",
      "9.17\n",
      "8.85\n",
      "8.68\n",
      "8.68\n",
      "8.68\n",
      "8.71\n",
      "8.67\n",
      "8.87\n",
      "8.76\n",
      "9.42\n",
      "\n",
      "File: 6_FAISS.pdf, Page 0: Current Forecast: December 6, 2016; Previous Forecast: November 8, 2016\n",
      "Q1\n",
      "Q2\n",
      "Q3\n",
      "Q4\n",
      "Q1\n",
      "Q2\n",
      "Q3\n",
      "Q4\n",
      "Q1\n",
      "Q2\n",
      "Q3\n",
      "Q4\n",
      "2014\n",
      "2015\n",
      "2016\n",
      "2017\n",
      "2014-2015\n",
      "2015-2016\n",
      "2016-2017\n",
      "U.S. Energy Supply\n",
      "   U.S. Crude Oil Production (million barrels per day)\n",
      "      Current\n",
      "9.49\n",
      "9.47\n",
      "9.41\n",
      "9.30\n",
      "9.17\n",
      "8.85\n",
      "8.67\n",
      "8.75\n",
      "8.75\n",
      "8.74\n",
      "8.70\n",
      "8.94\n",
      "8.76\n",
      "9.42\n",
      "8.86\n",
      "8.78\n",
      "7.4%\n",
      "-5.9%\n",
      "-0.9%\n",
      "      Previous\n",
      "9.49\n",
      "9.47\n",
      "9.41\n",
      "9.30\n",
      "9.17\n",
      "8.85\n",
      "8.68\n",
      "8.68\n",
      "8.68\n",
      "8.71\n",
      "8.67\n",
      "8.87\n",
      "8.76\n",
      "9.42\n",
      "8.84\n",
      "8.73\n",
      "7.4%\n",
      "-6.1%\n",
      "-1.3%\n",
      "         Percent Change\n",
      "0.0%\n",
      "0.0%\n",
      "0.0%\n",
      "0.0%\n",
      "0.0%\n",
      "0.0%\n",
      "-0.1%\n",
      "0.7%\n",
      "0.7%\n",
      "0.4%\n",
      "0.3%\n",
      "0.8%\n",
      "0.0%\n",
      "0.0%\n",
      "0.2%\n",
      "0.6%\n",
      "   U.S. Dry Natural Gas Production (billion cubic feet per day)\n",
      "      Current\n",
      "73.44\n",
      "74.50\n",
      "74.51\n",
      "74.08\n",
      "73.77\n",
      "72.38\n",
      "71.89\n",
      "71.94\n",
      "73.22\n",
      "74.48\n",
      "75.34\n",
      "76.13\n",
      "70.93\n",
      "74.14\n",
      "72.49\n",
      "74.80\n",
      "4.5%\n",
      "-2.2%\n",
      "3.2%\n",
      "      Previous\n",
      "73.44\n",
      "74.50\n",
      "74.51\n",
      "74.08\n",
      "73.77\n",
      "72.38\n",
      "71.73\n",
      "71.51\n",
      "73.06\n",
      "74.41\n",
      "75.81\n",
      "76.93\n",
      "70.93\n",
      "74.14\n",
      "72.34\n",
      "75.06\n",
      "4.5%\n",
      "-2.4%\n",
      "3.8%\n",
      "         Percent Change\n",
      "0.0%\n",
      "0.0%\n",
      "0.0%\n",
      "0.0%\n",
      "0.0%\n",
      "0.0%\n",
      "0.2%\n",
      "0.6%\n",
      "0.2%\n",
      "0.1%\n",
      "-0.6%\n",
      "-1.0%\n",
      "0.0%\n",
      "0.0%\n",
      "0.2%\n",
      "-0.4%\n",
      "\n",
      "File: 6_FAISS.pdf, Page 3: Current Forecast: December 6, 2016; Previous Forecast: November 8, 2016\n",
      "Q1\n",
      "Q2\n",
      "Q3\n",
      "Q4\n",
      "Q1\n",
      "Q2\n",
      "Q3\n",
      "Q4\n",
      "Q1\n",
      "Q2\n",
      "Q3\n",
      "Q4\n",
      "2014\n",
      "2015\n",
      "2016\n",
      "2017\n",
      "2014-2015\n",
      "2015-2016\n",
      "2016-2017\n",
      "U.S. Supply  (million barrels per day)\n",
      "   U.S. Crude Oil Production \n",
      "      Current\n",
      "9.49\n",
      "9.47\n",
      "9.41\n",
      "9.30\n",
      "9.17\n",
      "8.85\n",
      "8.67\n",
      "8.75\n",
      "8.75\n",
      "8.74\n",
      "8.70\n",
      "8.94\n",
      "8.76\n",
      "9.42\n",
      "8.86\n",
      "8.78\n",
      "7.4%\n",
      "-5.9%\n",
      "-0.9%\n",
      "      Previous\n",
      "9.49\n",
      "9.47\n",
      "9.41\n",
      "9.30\n",
      "9.17\n",
      "8.85\n",
      "8.68\n",
      "8.68\n",
      "8.68\n",
      "8.71\n",
      "8.67\n",
      "8.87\n",
      "8.76\n",
      "9.42\n",
      "8.84\n",
      "8.73\n",
      "7.4%\n",
      "-6.1%\n",
      "-1.3%\n",
      "         Percent Change\n",
      "0.0%\n",
      "0.0%\n",
      "0.0%\n",
      "0.0%\n",
      "0.0%\n",
      "0.0%\n",
      "-0.1%\n",
      "0.7%\n",
      "0.7%\n",
      "0.4%\n",
      "0.3%\n",
      "0.8%\n",
      "0.0%\n",
      "0.0%\n",
      "0.2%\n",
      "0.6%\n",
      "   U.S. Natural Gas Plant Liquids Production\n",
      "      Current\n",
      "3.15\n",
      "3.34\n",
      "3.40\n",
      "3.47\n",
      "3.38\n",
      "3.57\n",
      "3.46\n",
      "3.49\n",
      "3.46\n",
      "3.71\n",
      "3.91\n",
      "4.03\n",
      "3.01\n",
      "3.34\n",
      "3.48\n",
      "3.78\n",
      "10.9%\n",
      "4.1%\n",
      "8.7%\n",
      "      Previous\n",
      "3.15\n",
      "3.34\n",
      "3.40\n",
      "3.47\n",
      "3.38\n",
      "3.57\n",
      "3.48\n",
      "3.51\n",
      "3.53\n",
      "3.70\n",
      "3.93\n",
      "4.06\n",
      "3.01\n",
      "3.34\n",
      "3.48\n",
      "3.81\n",
      "10.9%\n",
      "4.3%\n",
      "9.2%\n",
      "         Percent Change\n",
      "0.0%\n",
      "0.0%\n",
      "0.0%\n",
      "0.0%\n",
      "0.0%\n",
      "0.0%\n",
      "-0.4%\n",
      "-0.4%\n",
      "-2.1%\n",
      "0.4%\n",
      "-0.5%\n",
      "-0.7%\n",
      "0.0%\n",
      "0.0%\n",
      "-0.2%\n",
      "-0.7%\n",
      "   U.S. Ethanol Production\n",
      "      Current\n",
      "0.96\n",
      "0.96\n",
      "0.96\n",
      "0.99\n",
      "0.99\n",
      "\n",
      "File: 6_FAISS.pdf, Page 0: Current Forecast: December 6, 2016; Previous Forecast: November 8, 2016\n",
      "Q1\n",
      "Q2\n",
      "Q3\n",
      "Q4\n",
      "Q1\n",
      "Q2\n",
      "Q3\n",
      "Q4\n",
      "Q1\n",
      "Q2\n",
      "Q3\n",
      "Q4\n",
      "2014\n",
      "2015\n",
      "2016\n",
      "2017\n",
      "2014-2015\n",
      "2015-2016\n",
      "2016-2017\n",
      "U.S. Energy Supply\n",
      "   U.S. Crude Oil Production (million barrels per day)\n",
      "      Current\n",
      "9.49\n",
      "9.47\n",
      "9.41\n",
      "9.30\n",
      "9.17\n",
      "8.85\n",
      "8.67\n",
      "8.75\n",
      "8.75\n",
      "8.74\n",
      "8.70\n",
      "8.94\n",
      "8.76\n",
      "9.42\n",
      "8.86\n",
      "8.78\n",
      "7.4%\n",
      "-5.9%\n",
      "-0.9%\n",
      "      Previous\n",
      "9.49\n",
      "9.47\n",
      "9.41\n",
      "9.30\n",
      "9.17\n",
      "8.85\n",
      "8.68\n",
      "8.68\n",
      "8.68\n",
      "8.71\n",
      "8.67\n",
      "8.87\n",
      "8.76\n",
      "9.42\n",
      "8.84\n",
      "8.73\n",
      "7.4%\n",
      "-6.1%\n",
      "-1.3%\n",
      "         Percent Change\n",
      "0.0%\n",
      "0.0%\n",
      "0.0%\n",
      "0.0%\n",
      "0.0%\n",
      "0.0%\n",
      "-0.1%\n",
      "0.7%\n",
      "0.7%\n",
      "0.4%\n",
      "0.3%\n",
      "0.8%\n",
      "0.0%\n",
      "0.0%\n",
      "0.2%\n",
      "0.6%\n",
      "   U.S. Dry Natural Gas Production (billion cubic feet per day)\n",
      "      Current\n",
      "73.44\n",
      "74.50\n",
      "74.51\n",
      "74.08\n",
      "73.77\n",
      "72.38\n",
      "71.89\n",
      "71.94\n",
      "73.22\n",
      "74.48\n",
      "75.34\n",
      "76.13\n",
      "70.93\n",
      "74.14\n",
      "72.49\n",
      "74.80\n",
      "4.5%\n",
      "-2.2%\n",
      "3.2%\n",
      "      Previous\n",
      "73.44\n",
      "74.50\n",
      "74.51\n",
      "74.08\n",
      "73.77\n",
      "72.38\n",
      "71.73\n",
      "71.51\n",
      "73.06\n",
      "74.41\n",
      "75.81\n",
      "76.93\n",
      "70.93\n",
      "74.14\n",
      "72.34\n",
      "75.06\n",
      "4.5%\n",
      "-2.4%\n",
      "3.8%\n",
      "         Percent Change\n",
      "0.0%\n",
      "0.0%\n",
      "0.0%\n",
      "0.0%\n",
      "0.0%\n",
      "0.0%\n",
      "0.2%\n",
      "0.6%\n",
      "0.2%\n",
      "0.1%\n",
      "-0.6%\n",
      "-1.0%\n",
      "0.0%\n",
      "0.0%\n",
      "0.2%\n",
      "-0.4%\n",
      "\n",
      "File: 6_FAISS.pdf, Page 3: Current Forecast: December 6, 2016; Previous Forecast: November 8, 2016\n",
      "Q1\n",
      "Q2\n",
      "Q3\n",
      "Q4\n",
      "Q1\n",
      "Q2\n",
      "Q3\n",
      "Q4\n",
      "Q1\n",
      "Q2\n",
      "Q3\n",
      "Q4\n",
      "2014\n",
      "2015\n",
      "2016\n",
      "2017\n",
      "2014-2015\n",
      "2015-2016\n",
      "2016-2017\n",
      "U.S. Supply  (million barrels per day)\n",
      "   U.S. Crude Oil Production \n",
      "      Current\n",
      "9.49\n",
      "9.47\n",
      "9.41\n",
      "9.30\n",
      "9.17\n",
      "8.85\n",
      "8.67\n",
      "8.75\n",
      "8.75\n",
      "8.74\n",
      "8.70\n",
      "8.94\n",
      "8.76\n",
      "9.42\n",
      "8.86\n",
      "8.78\n",
      "7.4%\n",
      "-5.9%\n",
      "-0.9%\n",
      "      Previous\n",
      "9.49\n",
      "9.47\n",
      "9.41\n",
      "9.30\n",
      "9.17\n",
      "8.85\n",
      "8.68\n",
      "8.68\n",
      "8.68\n",
      "8.71\n",
      "8.67\n",
      "8.87\n",
      "8.76\n",
      "9.42\n",
      "8.84\n",
      "8.73\n",
      "7.4%\n",
      "-6.1%\n",
      "-1.3%\n",
      "         Percent Change\n",
      "0.0%\n",
      "0.0%\n",
      "0.0%\n",
      "0.0%\n",
      "0.0%\n",
      "0.0%\n",
      "-0.1%\n",
      "0.7%\n",
      "0.7%\n",
      "0.4%\n",
      "0.3%\n",
      "0.8%\n",
      "0.0%\n",
      "0.0%\n",
      "0.2%\n",
      "0.6%\n",
      "   U.S. Natural Gas Plant Liquids Production\n",
      "      Current\n",
      "3.15\n",
      "3.34\n",
      "3.40\n",
      "3.47\n",
      "3.38\n",
      "3.57\n",
      "3.46\n",
      "3.49\n",
      "3.46\n",
      "3.71\n",
      "3.91\n",
      "4.03\n",
      "3.01\n",
      "3.34\n",
      "3.48\n",
      "3.78\n",
      "10.9%\n",
      "4.1%\n",
      "8.7%\n",
      "      Previous\n",
      "3.15\n",
      "3.34\n",
      "3.40\n",
      "3.47\n",
      "3.38\n",
      "3.57\n",
      "3.48\n",
      "3.51\n",
      "3.53\n",
      "3.70\n",
      "3.93\n",
      "4.06\n",
      "3.01\n",
      "3.34\n",
      "3.48\n",
      "3.81\n",
      "10.9%\n",
      "4.3%\n",
      "9.2%\n",
      "         Percent Change\n",
      "0.0%\n",
      "0.0%\n",
      "0.0%\n",
      "0.0%\n",
      "0.0%\n",
      "0.0%\n",
      "-0.4%\n",
      "-0.4%\n",
      "-2.1%\n",
      "0.4%\n",
      "-0.5%\n",
      "-0.7%\n",
      "0.0%\n",
      "0.0%\n",
      "-0.2%\n",
      "-0.7%\n",
      "   U.S. Ethanol Production\n",
      "      Current\n",
      "0.96\n",
      "0.96\n",
      "0.96\n",
      "0.99\n",
      "0.99\n",
      "\n",
      "File: 6_FAISS.pdf, Page 1: Current Forecast: December 6, 2016; Previous Forecast: November 8, 2016\n",
      "Q1\n",
      "Q2\n",
      "Q3\n",
      "Q4\n",
      "Q1\n",
      "Q2\n",
      "Q3\n",
      "Q4\n",
      "Q1\n",
      "Q2\n",
      "Q3\n",
      "Q4\n",
      "2014\n",
      "2015\n",
      "2016\n",
      "2017\n",
      "2014-2015\n",
      "2015-2016\n",
      "2016-2017\n",
      "U.S. Petroleum\n",
      "   WTI spot ($/barrel)\n",
      "      Current\n",
      "48.48\n",
      "57.85\n",
      "46.55\n",
      "41.94\n",
      "33.35\n",
      "45.46\n",
      "44.85\n",
      "48.18\n",
      "49.00\n",
      "49.00\n",
      "51.00\n",
      "53.65\n",
      "93.17\n",
      "48.67\n",
      "43.07\n",
      "50.66\n",
      "-47.8%\n",
      "-11.5%\n",
      "17.6%\n",
      "      Previous\n",
      "48.48\n",
      "57.85\n",
      "46.55\n",
      "41.94\n",
      "33.35\n",
      "45.46\n",
      "44.85\n",
      "47.24\n",
      "47.00\n",
      "48.03\n",
      "51.00\n",
      "53.65\n",
      "93.17\n",
      "48.67\n",
      "42.84\n",
      "49.91\n",
      "-47.8%\n",
      "-12.0%\n",
      "16.5%\n",
      "         Percent Change\n",
      "0.0%\n",
      "0.0%\n",
      "0.0%\n",
      "0.0%\n",
      "0.0%\n",
      "0.0%\n",
      "0.0%\n",
      "2.0%\n",
      "4.3%\n",
      "2.0%\n",
      "0.0%\n",
      "0.0%\n",
      "0.0%\n",
      "0.0%\n",
      "0.6%\n",
      "1.5%\n",
      "  Refiner composite crude oil  acquisition cost ($/barrel)\n",
      "      Current\n",
      "47.94\n",
      "57.47\n",
      "47.67\n",
      "40.48\n",
      "30.84\n",
      "42.23\n",
      "43.18\n",
      "47.17\n",
      "48.00\n",
      "48.00\n",
      "49.98\n",
      "52.67\n",
      "92.05\n",
      "48.40\n",
      "40.92\n",
      "49.70\n",
      "-47.4%\n",
      "-15.5%\n",
      "21.5%\n",
      "      Previous\n",
      "47.94\n",
      "57.47\n",
      "47.67\n",
      "40.48\n",
      "30.84\n",
      "42.23\n",
      "43.53\n",
      "46.22\n",
      "46.00\n",
      "47.01\n",
      "49.98\n",
      "52.67\n",
      "92.05\n",
      "48.40\n",
      "40.78\n",
      "48.98\n",
      "-47.4%\n",
      "-15.8%\n",
      "20.1%\n",
      "         Percent Change\n",
      "0.0%\n",
      "0.0%\n",
      "0.0%\n",
      "0.0%\n",
      "0.0%\n",
      "0.0%\n",
      "-0.8%\n",
      "2.1%\n",
      "4.3%\n",
      "2.1%\n",
      "0.0%\n",
      "0.0%\n",
      "0.0%\n",
      "0.0%\n",
      "0.4%\n",
      "1.5%\n",
      "\n",
      "File: 6_FAISS.pdf, Page 0.0: Current Forecast: December 6, 2016; Previous Forecast: November 8, 2016\n",
      "Q1\n",
      "Q2\n",
      "Q3\n",
      "Q4\n",
      "Q1\n",
      "Q2\n",
      "Q3\n",
      "Q4\n",
      "Q1\n",
      "Q2\n",
      "Q3\n",
      "Q4\n",
      "2014\n",
      "2015\n",
      "2016\n",
      "2017\n",
      "2014-2015\n",
      "2015-2016\n",
      "2016-2017\n",
      "U.S. Energy Supply\n",
      "   U.S. Crude Oil Production (million barrels per day)\n",
      "      Current\n",
      "9.49\n",
      "9.47\n",
      "9.41\n",
      "9.30\n",
      "9.17\n",
      "8.85\n",
      "8.67\n",
      "8.75\n",
      "8.75\n",
      "8.74\n",
      "8.70\n",
      "8.94\n",
      "8.76\n",
      "9.42\n",
      "8.86\n",
      "8.78\n",
      "7.4%\n",
      "-5.9%\n",
      "-0.9%\n",
      "      Previous\n",
      "9.49\n",
      "9.47\n",
      "9.41\n",
      "9.30\n",
      "9.17\n",
      "8.85\n",
      "8.68\n",
      "8.68\n",
      "8.68\n",
      "8.71\n",
      "8.67\n",
      "8.87\n",
      "8.76\n",
      "9.42\n",
      "\n",
      "File: 6_FAISS.pdf, Page 0.0: Current Forecast: December 6, 2016; Previous Forecast: November 8, 2016\n",
      "Q1\n",
      "Q2\n",
      "Q3\n",
      "Q4\n",
      "Q1\n",
      "Q2\n",
      "Q3\n",
      "Q4\n",
      "Q1\n",
      "Q2\n",
      "Q3\n",
      "Q4\n",
      "2014\n",
      "2015\n",
      "2016\n",
      "2017\n",
      "2014-2015\n",
      "2015-2016\n",
      "2016-2017\n",
      "U.S. Energy Supply\n",
      "   U.S. Crude Oil Production (million barrels per day)\n",
      "      Current\n",
      "9.49\n",
      "9.47\n",
      "9.41\n",
      "9.30\n",
      "9.17\n",
      "8.85\n",
      "8.67\n",
      "8.75\n",
      "8.75\n",
      "8.74\n",
      "8.70\n",
      "8.94\n",
      "8.76\n",
      "9.42\n",
      "8.86\n",
      "8.78\n",
      "7.4%\n",
      "-5.9%\n",
      "-0.9%\n",
      "      Previous\n",
      "9.49\n",
      "9.47\n",
      "9.41\n",
      "9.30\n",
      "9.17\n",
      "8.85\n",
      "8.68\n",
      "8.68\n",
      "8.68\n",
      "8.71\n",
      "8.67\n",
      "8.87\n",
      "8.76\n",
      "9.42\n",
      "\n",
      "File: 6_FAISS.pdf, Page 0.0: Current Forecast: December 6, 2016; Previous Forecast: November 8, 2016\n",
      "Q1\n",
      "Q2\n",
      "Q3\n",
      "Q4\n",
      "Q1\n",
      "Q2\n",
      "Q3\n",
      "Q4\n",
      "Q1\n",
      "Q2\n",
      "Q3\n",
      "Q4\n",
      "2014\n",
      "2015\n",
      "2016\n",
      "2017\n",
      "2014-2015\n",
      "2015-2016\n",
      "2016-2017\n",
      "U.S. Energy Supply\n",
      "   U.S. Crude Oil Production (million barrels per day)\n",
      "      Current\n",
      "9.49\n",
      "9.47\n",
      "9.41\n",
      "9.30\n",
      "9.17\n",
      "8.85\n",
      "8.67\n",
      "8.75\n",
      "8.75\n",
      "8.74\n",
      "8.70\n",
      "8.94\n",
      "8.76\n",
      "9.42\n",
      "8.86\n",
      "8.78\n",
      "7.4%\n",
      "-5.9%\n",
      "-0.9%\n",
      "      Previous\n",
      "9.49\n",
      "9.47\n",
      "9.41\n",
      "9.30\n",
      "9.17\n",
      "8.85\n",
      "8.68\n",
      "8.68\n",
      "8.68\n",
      "8.71\n",
      "8.67\n",
      "8.87\n",
      "8.76\n",
      "9.42\n",
      "\n",
      "File: 6_FAISS.pdf, Page 0.0: Current Forecast: December 6, 2016; Previous Forecast: November 8, 2016\n",
      "Q1\n",
      "Q2\n",
      "Q3\n",
      "Q4\n",
      "Q1\n",
      "Q2\n",
      "Q3\n",
      "Q4\n",
      "Q1\n",
      "Q2\n",
      "Q3\n",
      "Q4\n",
      "2014\n",
      "2015\n",
      "2016\n",
      "2017\n",
      "2014-2015\n",
      "2015-2016\n",
      "2016-2017\n",
      "U.S. Energy Supply\n",
      "   U.S. Crude Oil Production (million barrels per day)\n",
      "      Current\n",
      "9.49\n",
      "9.47\n",
      "9.41\n",
      "9.30\n",
      "9.17\n",
      "8.85\n",
      "8.67\n",
      "8.75\n",
      "8.75\n",
      "8.74\n",
      "8.70\n",
      "8.94\n",
      "8.76\n",
      "9.42\n",
      "8.86\n",
      "8.78\n",
      "7.4%\n",
      "-5.9%\n",
      "-0.9%\n",
      "      Previous\n",
      "9.49\n",
      "9.47\n",
      "9.41\n",
      "9.30\n",
      "9.17\n",
      "8.85\n",
      "8.68\n",
      "8.68\n",
      "8.68\n",
      "8.71\n",
      "8.67\n",
      "8.87\n",
      "8.76\n",
      "9.42\n",
      "\n",
      "File: 6_FAISS.pdf, Page 0: Current Forecast: December 6, 2016; Previous Forecast: November 8, 2016\n",
      "Q1\n",
      "Q2\n",
      "Q3\n",
      "Q4\n",
      "Q1\n",
      "Q2\n",
      "Q3\n",
      "Q4\n",
      "Q1\n",
      "Q2\n",
      "Q3\n",
      "Q4\n",
      "2014\n",
      "2015\n",
      "2016\n",
      "2017\n",
      "2014-2015\n",
      "2015-2016\n",
      "2016-2017\n",
      "U.S. Energy Supply\n",
      "   U.S. Crude Oil Production (million barrels per day)\n",
      "      Current\n",
      "9.49\n",
      "9.47\n",
      "9.41\n",
      "9.30\n",
      "9.17\n",
      "8.85\n",
      "8.67\n",
      "8.75\n",
      "8.75\n",
      "8.74\n",
      "8.70\n",
      "8.94\n",
      "8.76\n",
      "9.42\n",
      "8.86\n",
      "8.78\n",
      "7.4%\n",
      "-5.9%\n",
      "-0.9%\n",
      "      Previous\n",
      "9.49\n",
      "9.47\n",
      "9.41\n",
      "9.30\n",
      "9.17\n",
      "8.85\n",
      "8.68\n",
      "8.68\n",
      "8.68\n",
      "8.71\n",
      "8.67\n",
      "8.87\n",
      "8.76\n",
      "9.42\n",
      "8.84\n",
      "8.73\n",
      "7.4%\n",
      "-6.1%\n",
      "-1.3%\n",
      "         Percent Change\n",
      "0.0%\n",
      "0.0%\n",
      "0.0%\n",
      "0.0%\n",
      "0.0%\n",
      "0.0%\n",
      "-0.1%\n",
      "0.7%\n",
      "0.7%\n",
      "0.4%\n",
      "0.3%\n",
      "0.8%\n",
      "0.0%\n",
      "0.0%\n",
      "0.2%\n",
      "0.6%\n",
      "   U.S. Dry Natural Gas Production (billion cubic feet per day)\n",
      "      Current\n",
      "73.44\n",
      "74.50\n",
      "74.51\n",
      "74.08\n",
      "73.77\n",
      "72.38\n",
      "71.89\n",
      "71.94\n",
      "73.22\n",
      "74.48\n",
      "75.34\n",
      "76.13\n",
      "70.93\n",
      "74.14\n",
      "72.49\n",
      "74.80\n",
      "4.5%\n",
      "-2.2%\n",
      "3.2%\n",
      "      Previous\n",
      "73.44\n",
      "74.50\n",
      "74.51\n",
      "74.08\n",
      "73.77\n",
      "72.38\n",
      "71.73\n",
      "71.51\n",
      "73.06\n",
      "74.41\n",
      "75.81\n",
      "76.93\n",
      "70.93\n",
      "74.14\n",
      "72.34\n",
      "75.06\n",
      "4.5%\n",
      "-2.4%\n",
      "3.8%\n",
      "         Percent Change\n",
      "0.0%\n",
      "0.0%\n",
      "0.0%\n",
      "0.0%\n",
      "0.0%\n",
      "0.0%\n",
      "0.2%\n",
      "0.6%\n",
      "0.2%\n",
      "0.1%\n",
      "-0.6%\n",
      "-1.0%\n",
      "0.0%\n",
      "0.0%\n",
      "0.2%\n",
      "-0.4%\n",
      "\n",
      "File: 6_FAISS.pdf, Page 3: Current Forecast: December 6, 2016; Previous Forecast: November 8, 2016\n",
      "Q1\n",
      "Q2\n",
      "Q3\n",
      "Q4\n",
      "Q1\n",
      "Q2\n",
      "Q3\n",
      "Q4\n",
      "Q1\n",
      "Q2\n",
      "Q3\n",
      "Q4\n",
      "2014\n",
      "2015\n",
      "2016\n",
      "2017\n",
      "2014-2015\n",
      "2015-2016\n",
      "2016-2017\n",
      "U.S. Supply  (million barrels per day)\n",
      "   U.S. Crude Oil Production \n",
      "      Current\n",
      "9.49\n",
      "9.47\n",
      "9.41\n",
      "9.30\n",
      "9.17\n",
      "8.85\n",
      "8.67\n",
      "8.75\n",
      "8.75\n",
      "8.74\n",
      "8.70\n",
      "8.94\n",
      "8.76\n",
      "9.42\n",
      "8.86\n",
      "8.78\n",
      "7.4%\n",
      "-5.9%\n",
      "-0.9%\n",
      "      Previous\n",
      "9.49\n",
      "9.47\n",
      "9.41\n",
      "9.30\n",
      "9.17\n",
      "8.85\n",
      "8.68\n",
      "8.68\n",
      "8.68\n",
      "8.71\n",
      "8.67\n",
      "8.87\n",
      "8.76\n",
      "9.42\n",
      "8.84\n",
      "8.73\n",
      "7.4%\n",
      "-6.1%\n",
      "-1.3%\n",
      "         Percent Change\n",
      "0.0%\n",
      "0.0%\n",
      "0.0%\n",
      "0.0%\n",
      "0.0%\n",
      "0.0%\n",
      "-0.1%\n",
      "0.7%\n",
      "0.7%\n",
      "0.4%\n",
      "0.3%\n",
      "0.8%\n",
      "0.0%\n",
      "0.0%\n",
      "0.2%\n",
      "0.6%\n",
      "   U.S. Natural Gas Plant Liquids Production\n",
      "      Current\n",
      "3.15\n",
      "3.34\n",
      "3.40\n",
      "3.47\n",
      "3.38\n",
      "3.57\n",
      "3.46\n",
      "3.49\n",
      "3.46\n",
      "3.71\n",
      "3.91\n",
      "4.03\n",
      "3.01\n",
      "3.34\n",
      "3.48\n",
      "3.78\n",
      "10.9%\n",
      "4.1%\n",
      "8.7%\n",
      "      Previous\n",
      "3.15\n",
      "3.34\n",
      "3.40\n",
      "3.47\n",
      "3.38\n",
      "3.57\n",
      "3.48\n",
      "3.51\n",
      "3.53\n",
      "3.70\n",
      "3.93\n",
      "4.06\n",
      "3.01\n",
      "3.34\n",
      "3.48\n",
      "3.81\n",
      "10.9%\n",
      "4.3%\n",
      "9.2%\n",
      "         Percent Change\n",
      "0.0%\n",
      "0.0%\n",
      "0.0%\n",
      "0.0%\n",
      "0.0%\n",
      "0.0%\n",
      "-0.4%\n",
      "-0.4%\n",
      "-2.1%\n",
      "0.4%\n",
      "-0.5%\n",
      "-0.7%\n",
      "0.0%\n",
      "0.0%\n",
      "-0.2%\n",
      "-0.7%\n",
      "   U.S. Ethanol Production\n",
      "      Current\n",
      "0.96\n",
      "0.96\n",
      "0.96\n",
      "0.99\n",
      "0.99\n",
      "\n",
      "File: 6_FAISS.pdf, Page 0: Current Forecast: December 6, 2016; Previous Forecast: November 8, 2016\n",
      "Q1\n",
      "Q2\n",
      "Q3\n",
      "Q4\n",
      "Q1\n",
      "Q2\n",
      "Q3\n",
      "Q4\n",
      "Q1\n",
      "Q2\n",
      "Q3\n",
      "Q4\n",
      "2014\n",
      "2015\n",
      "2016\n",
      "2017\n",
      "2014-2015\n",
      "2015-2016\n",
      "2016-2017\n",
      "U.S. Energy Supply\n",
      "   U.S. Crude Oil Production (million barrels per day)\n",
      "      Current\n",
      "9.49\n",
      "9.47\n",
      "9.41\n",
      "9.30\n",
      "9.17\n",
      "8.85\n",
      "8.67\n",
      "8.75\n",
      "8.75\n",
      "8.74\n",
      "8.70\n",
      "8.94\n",
      "8.76\n",
      "9.42\n",
      "8.86\n",
      "8.78\n",
      "7.4%\n",
      "-5.9%\n",
      "-0.9%\n",
      "      Previous\n",
      "9.49\n",
      "9.47\n",
      "9.41\n",
      "9.30\n",
      "9.17\n",
      "8.85\n",
      "8.68\n",
      "8.68\n",
      "8.68\n",
      "8.71\n",
      "8.67\n",
      "8.87\n",
      "8.76\n",
      "9.42\n",
      "8.84\n",
      "8.73\n",
      "7.4%\n",
      "-6.1%\n",
      "-1.3%\n",
      "         Percent Change\n",
      "0.0%\n",
      "0.0%\n",
      "0.0%\n",
      "0.0%\n",
      "0.0%\n",
      "0.0%\n",
      "-0.1%\n",
      "0.7%\n",
      "0.7%\n",
      "0.4%\n",
      "0.3%\n",
      "0.8%\n",
      "0.0%\n",
      "0.0%\n",
      "0.2%\n",
      "0.6%\n",
      "   U.S. Dry Natural Gas Production (billion cubic feet per day)\n",
      "      Current\n",
      "73.44\n",
      "74.50\n",
      "74.51\n",
      "74.08\n",
      "73.77\n",
      "72.38\n",
      "71.89\n",
      "71.94\n",
      "73.22\n",
      "74.48\n",
      "75.34\n",
      "76.13\n",
      "70.93\n",
      "74.14\n",
      "72.49\n",
      "74.80\n",
      "4.5%\n",
      "-2.2%\n",
      "3.2%\n",
      "      Previous\n",
      "73.44\n",
      "74.50\n",
      "74.51\n",
      "74.08\n",
      "73.77\n",
      "72.38\n",
      "71.73\n",
      "71.51\n",
      "73.06\n",
      "74.41\n",
      "75.81\n",
      "76.93\n",
      "70.93\n",
      "74.14\n",
      "72.34\n",
      "75.06\n",
      "4.5%\n",
      "-2.4%\n",
      "3.8%\n",
      "         Percent Change\n",
      "0.0%\n",
      "0.0%\n",
      "0.0%\n",
      "0.0%\n",
      "0.0%\n",
      "0.0%\n",
      "0.2%\n",
      "0.6%\n",
      "0.2%\n",
      "0.1%\n",
      "-0.6%\n",
      "-1.0%\n",
      "0.0%\n",
      "0.0%\n",
      "0.2%\n",
      "-0.4%\n",
      "\n",
      "File: 6_FAISS.pdf, Page 3: Current Forecast: December 6, 2016; Previous Forecast: November 8, 2016\n",
      "Q1\n",
      "Q2\n",
      "Q3\n",
      "Q4\n",
      "Q1\n",
      "Q2\n",
      "Q3\n",
      "Q4\n",
      "Q1\n",
      "Q2\n",
      "Q3\n",
      "Q4\n",
      "2014\n",
      "2015\n",
      "2016\n",
      "2017\n",
      "2014-2015\n",
      "2015-2016\n",
      "2016-2017\n",
      "U.S. Supply  (million barrels per day)\n",
      "   U.S. Crude Oil Production \n",
      "      Current\n",
      "9.49\n",
      "9.47\n",
      "9.41\n",
      "9.30\n",
      "9.17\n",
      "8.85\n",
      "8.67\n",
      "8.75\n",
      "8.75\n",
      "8.74\n",
      "8.70\n",
      "8.94\n",
      "8.76\n",
      "9.42\n",
      "8.86\n",
      "8.78\n",
      "7.4%\n",
      "-5.9%\n",
      "-0.9%\n",
      "      Previous\n",
      "9.49\n",
      "9.47\n",
      "9.41\n",
      "9.30\n",
      "9.17\n",
      "8.85\n",
      "8.68\n",
      "8.68\n",
      "8.68\n",
      "8.71\n",
      "8.67\n",
      "8.87\n",
      "8.76\n",
      "9.42\n",
      "8.84\n",
      "8.73\n",
      "7.4%\n",
      "-6.1%\n",
      "-1.3%\n",
      "         Percent Change\n",
      "0.0%\n",
      "0.0%\n",
      "0.0%\n",
      "0.0%\n",
      "0.0%\n",
      "0.0%\n",
      "-0.1%\n",
      "0.7%\n",
      "0.7%\n",
      "0.4%\n",
      "0.3%\n",
      "0.8%\n",
      "0.0%\n",
      "0.0%\n",
      "0.2%\n",
      "0.6%\n",
      "   U.S. Natural Gas Plant Liquids Production\n",
      "      Current\n",
      "3.15\n",
      "3.34\n",
      "3.40\n",
      "3.47\n",
      "3.38\n",
      "3.57\n",
      "3.46\n",
      "3.49\n",
      "3.46\n",
      "3.71\n",
      "3.91\n",
      "4.03\n",
      "3.01\n",
      "3.34\n",
      "3.48\n",
      "3.78\n",
      "10.9%\n",
      "4.1%\n",
      "8.7%\n",
      "      Previous\n",
      "3.15\n",
      "3.34\n",
      "3.40\n",
      "3.47\n",
      "3.38\n",
      "3.57\n",
      "3.48\n",
      "3.51\n",
      "3.53\n",
      "3.70\n",
      "3.93\n",
      "4.06\n",
      "3.01\n",
      "3.34\n",
      "3.48\n",
      "3.81\n",
      "10.9%\n",
      "4.3%\n",
      "9.2%\n",
      "         Percent Change\n",
      "0.0%\n",
      "0.0%\n",
      "0.0%\n",
      "0.0%\n",
      "0.0%\n",
      "0.0%\n",
      "-0.4%\n",
      "-0.4%\n",
      "-2.1%\n",
      "0.4%\n",
      "-0.5%\n",
      "-0.7%\n",
      "0.0%\n",
      "0.0%\n",
      "-0.2%\n",
      "-0.7%\n",
      "   U.S. Ethanol Production\n",
      "      Current\n",
      "0.96\n",
      "0.96\n",
      "0.96\n",
      "0.99\n",
      "0.99\n",
      "\n",
      "File: 6_FAISS.pdf, Page 1: Current Forecast: December 6, 2016; Previous Forecast: November 8, 2016\n",
      "Q1\n",
      "Q2\n",
      "Q3\n",
      "Q4\n",
      "Q1\n",
      "Q2\n",
      "Q3\n",
      "Q4\n",
      "Q1\n",
      "Q2\n",
      "Q3\n",
      "Q4\n",
      "2014\n",
      "2015\n",
      "2016\n",
      "2017\n",
      "2014-2015\n",
      "2015-2016\n",
      "2016-2017\n",
      "U.S. Petroleum\n",
      "   WTI spot ($/barrel)\n",
      "      Current\n",
      "48.48\n",
      "57.85\n",
      "46.55\n",
      "41.94\n",
      "33.35\n",
      "45.46\n",
      "44.85\n",
      "48.18\n",
      "49.00\n",
      "49.00\n",
      "51.00\n",
      "53.65\n",
      "93.17\n",
      "48.67\n",
      "43.07\n",
      "50.66\n",
      "-47.8%\n",
      "-11.5%\n",
      "17.6%\n",
      "      Previous\n",
      "48.48\n",
      "57.85\n",
      "46.55\n",
      "41.94\n",
      "33.35\n",
      "45.46\n",
      "44.85\n",
      "47.24\n",
      "47.00\n",
      "48.03\n",
      "51.00\n",
      "53.65\n",
      "93.17\n",
      "48.67\n",
      "42.84\n",
      "49.91\n",
      "-47.8%\n",
      "-12.0%\n",
      "16.5%\n",
      "         Percent Change\n",
      "0.0%\n",
      "0.0%\n",
      "0.0%\n",
      "0.0%\n",
      "0.0%\n",
      "0.0%\n",
      "0.0%\n",
      "2.0%\n",
      "4.3%\n",
      "2.0%\n",
      "0.0%\n",
      "0.0%\n",
      "0.0%\n",
      "0.0%\n",
      "0.6%\n",
      "1.5%\n",
      "  Refiner composite crude oil  acquisition cost ($/barrel)\n",
      "      Current\n",
      "47.94\n",
      "57.47\n",
      "47.67\n",
      "40.48\n",
      "30.84\n",
      "42.23\n",
      "43.18\n",
      "47.17\n",
      "48.00\n",
      "48.00\n",
      "49.98\n",
      "52.67\n",
      "92.05\n",
      "48.40\n",
      "40.92\n",
      "49.70\n",
      "-47.4%\n",
      "-15.5%\n",
      "21.5%\n",
      "      Previous\n",
      "47.94\n",
      "57.47\n",
      "47.67\n",
      "40.48\n",
      "30.84\n",
      "42.23\n",
      "43.53\n",
      "46.22\n",
      "46.00\n",
      "47.01\n",
      "49.98\n",
      "52.67\n",
      "92.05\n",
      "48.40\n",
      "40.78\n",
      "48.98\n",
      "-47.4%\n",
      "-15.8%\n",
      "20.1%\n",
      "         Percent Change\n",
      "0.0%\n",
      "0.0%\n",
      "0.0%\n",
      "0.0%\n",
      "0.0%\n",
      "0.0%\n",
      "-0.8%\n",
      "2.1%\n",
      "4.3%\n",
      "2.1%\n",
      "0.0%\n",
      "0.0%\n",
      "0.0%\n",
      "0.0%\n",
      "0.4%\n",
      "1.5%\n",
      "\n",
      "File: 6_FAISS.pdf, Page 0.0: Current Forecast: December 6, 2016; Previous Forecast: November 8, 2016\n",
      "Q1\n",
      "Q2\n",
      "Q3\n",
      "Q4\n",
      "Q1\n",
      "Q2\n",
      "Q3\n",
      "Q4\n",
      "Q1\n",
      "Q2\n",
      "Q3\n",
      "Q4\n",
      "2014\n",
      "2015\n",
      "2016\n",
      "2017\n",
      "2014-2015\n",
      "2015-2016\n",
      "2016-2017\n",
      "U.S. Energy Supply\n",
      "   U.S. Crude Oil Production (million barrels per day)\n",
      "      Current\n",
      "9.49\n",
      "9.47\n",
      "9.41\n",
      "9.30\n",
      "9.17\n",
      "8.85\n",
      "8.67\n",
      "8.75\n",
      "8.75\n",
      "8.74\n",
      "8.70\n",
      "8.94\n",
      "8.76\n",
      "9.42\n",
      "8.86\n",
      "8.78\n",
      "7.4%\n",
      "-5.9%\n",
      "-0.9%\n",
      "      Previous\n",
      "9.49\n",
      "9.47\n",
      "9.41\n",
      "9.30\n",
      "9.17\n",
      "8.85\n",
      "8.68\n",
      "8.68\n",
      "8.68\n",
      "8.71\n",
      "8.67\n",
      "8.87\n",
      "8.76\n",
      "9.42\n",
      "\n",
      "File: 6_FAISS.pdf, Page 0.0: Current Forecast: December 6, 2016; Previous Forecast: November 8, 2016\n",
      "Q1\n",
      "Q2\n",
      "Q3\n",
      "Q4\n",
      "Q1\n",
      "Q2\n",
      "Q3\n",
      "Q4\n",
      "Q1\n",
      "Q2\n",
      "Q3\n",
      "Q4\n",
      "2014\n",
      "2015\n",
      "2016\n",
      "2017\n",
      "2014-2015\n",
      "2015-2016\n",
      "2016-2017\n",
      "U.S. Energy Supply\n",
      "   U.S. Crude Oil Production (million barrels per day)\n",
      "      Current\n",
      "9.49\n",
      "9.47\n",
      "9.41\n",
      "9.30\n",
      "9.17\n",
      "8.85\n",
      "8.67\n",
      "8.75\n",
      "8.75\n",
      "8.74\n",
      "8.70\n",
      "8.94\n",
      "8.76\n",
      "9.42\n",
      "8.86\n",
      "8.78\n",
      "7.4%\n",
      "-5.9%\n",
      "-0.9%\n",
      "      Previous\n",
      "9.49\n",
      "9.47\n",
      "9.41\n",
      "9.30\n",
      "9.17\n",
      "8.85\n",
      "8.68\n",
      "8.68\n",
      "8.68\n",
      "8.71\n",
      "8.67\n",
      "8.87\n",
      "8.76\n",
      "9.42\n",
      "\n",
      "File: 6_FAISS.pdf, Page 0.0: Current Forecast: December 6, 2016; Previous Forecast: November 8, 2016\n",
      "Q1\n",
      "Q2\n",
      "Q3\n",
      "Q4\n",
      "Q1\n",
      "Q2\n",
      "Q3\n",
      "Q4\n",
      "Q1\n",
      "Q2\n",
      "Q3\n",
      "Q4\n",
      "2014\n",
      "2015\n",
      "2016\n",
      "2017\n",
      "2014-2015\n",
      "2015-2016\n",
      "2016-2017\n",
      "U.S. Energy Supply\n",
      "   U.S. Crude Oil Production (million barrels per day)\n",
      "      Current\n",
      "9.49\n",
      "9.47\n",
      "9.41\n",
      "9.30\n",
      "9.17\n",
      "8.85\n",
      "8.67\n",
      "8.75\n",
      "8.75\n",
      "8.74\n",
      "8.70\n",
      "8.94\n",
      "8.76\n",
      "9.42\n",
      "8.86\n",
      "8.78\n",
      "7.4%\n",
      "-5.9%\n",
      "-0.9%\n",
      "      Previous\n",
      "9.49\n",
      "9.47\n",
      "9.41\n",
      "9.30\n",
      "9.17\n",
      "8.85\n",
      "8.68\n",
      "8.68\n",
      "8.68\n",
      "8.71\n",
      "8.67\n",
      "8.87\n",
      "8.76\n",
      "9.42\n",
      "\n",
      "File: 6_FAISS.pdf, Page 0.0: Current Forecast: December 6, 2016; Previous Forecast: November 8, 2016\n",
      "Q1\n",
      "Q2\n",
      "Q3\n",
      "Q4\n",
      "Q1\n",
      "Q2\n",
      "Q3\n",
      "Q4\n",
      "Q1\n",
      "Q2\n",
      "Q3\n",
      "Q4\n",
      "2014\n",
      "2015\n",
      "2016\n",
      "2017\n",
      "2014-2015\n",
      "2015-2016\n",
      "2016-2017\n",
      "U.S. Energy Supply\n",
      "   U.S. Crude Oil Production (million barrels per day)\n",
      "      Current\n",
      "9.49\n",
      "9.47\n",
      "9.41\n",
      "9.30\n",
      "9.17\n",
      "8.85\n",
      "8.67\n",
      "8.75\n",
      "8.75\n",
      "8.74\n",
      "8.70\n",
      "8.94\n",
      "8.76\n",
      "9.42\n",
      "8.86\n",
      "8.78\n",
      "7.4%\n",
      "-5.9%\n",
      "-0.9%\n",
      "      Previous\n",
      "9.49\n",
      "9.47\n",
      "9.41\n",
      "9.30\n",
      "9.17\n",
      "8.85\n",
      "8.68\n",
      "8.68\n",
      "8.68\n",
      "8.71\n",
      "8.67\n",
      "8.87\n",
      "8.76\n",
      "9.42\n",
      "    \n"
     ]
    },
    {
     "data": {
      "application/vnd.jupyter.widget-view+json": {
       "model_id": "ad143d0678034be79546171335df5f4a",
       "version_major": 2,
       "version_minor": 0
      },
      "text/plain": [
       "Evaluating:   0%|          | 0/4 [00:00<?, ?it/s]"
      ]
     },
     "metadata": {},
     "output_type": "display_data"
    },
    {
     "data": {
      "application/vnd.jupyter.widget-view+json": {
       "model_id": "d8e43df890a948468c7612037ce0e524",
       "version_major": 2,
       "version_minor": 0
      },
      "text/plain": [
       "Batches:   0%|          | 0/1 [00:00<?, ?it/s]"
      ]
     },
     "metadata": {},
     "output_type": "display_data"
    },
    {
     "data": {
      "application/vnd.jupyter.widget-view+json": {
       "model_id": "81c3c752f7da49c5b0c310321fc9f89b",
       "version_major": 2,
       "version_minor": 0
      },
      "text/plain": [
       "Batches:   0%|          | 0/1 [00:00<?, ?it/s]"
      ]
     },
     "metadata": {},
     "output_type": "display_data"
    },
    {
     "data": {
      "application/vnd.jupyter.widget-view+json": {
       "model_id": "ca7d56441589432aab2fd16dfe22b8d2",
       "version_major": 2,
       "version_minor": 0
      },
      "text/plain": [
       "Batches:   0%|          | 0/1 [00:00<?, ?it/s]"
      ]
     },
     "metadata": {},
     "output_type": "display_data"
    },
    {
     "data": {
      "application/vnd.jupyter.widget-view+json": {
       "model_id": "ea2629b3cc2649eb8a02c8a08d0711c6",
       "version_major": 2,
       "version_minor": 0
      },
      "text/plain": [
       "Batches:   0%|          | 0/1 [00:00<?, ?it/s]"
      ]
     },
     "metadata": {},
     "output_type": "display_data"
    },
    {
     "name": "stdout",
     "output_type": "stream",
     "text": [
      "\n",
      "Final Aggregated Answer Evaluation Scores: {'context_utilization': 0.9064, 'faithfulness': 1.0000, 'answer_relevancy': 0.9321, 'context_recall': 1.0000}\n"
     ]
    }
   ],
   "source": [
    "# Usage Example\n",
    "question = \"What were the forecasts for U.S. crude oil production in the fourth quarter of 2016?\"\n",
    "aggregated_answer, all_responses, context, sources = get_aggregated_answer_and_sources(question)\n",
    "\n",
    "if \"tavily_search\" in all_responses:\n",
    "    print(\"\\nTavily Search Message:\")\n",
    "    print(aggregated_answer)\n",
    "else:\n",
    "    formatted_context = format_context(context)\n",
    "    output = f\"\"\"\n",
    "    Final Aggregated Answer: {aggregated_answer}\n",
    "\n",
    "    Context used for answer:\n",
    "    {formatted_context}\n",
    "    \"\"\"\n",
    "    print(output)\n",
    "\n",
    "    ground_truth = \"The forecasts for U.S. crude oil production in the fourth quarter of 2016 were as follows: Current Forecast (as of December 6, 2016): 8.94 million barrels per day. Previous Forecast (as of November 8, 2016): 8.87 million barrels per day. This represents a percent change increase of 0.8% from the previous forecast to the current forecast for Q4 of 2016.\"\n",
    "\n",
    "    final_scores = evaluate_answer(aggregated_answer, question, context, ground_truth)\n",
    "    print(\"\\nFinal Aggregated Answer Evaluation Scores:\", final_scores)\n"
   ]
  },
  {
   "cell_type": "code",
   "execution_count": 4,
   "id": "2ab796f4-1446-43a8-95c4-c91a435d7b28",
   "metadata": {},
   "outputs": [
    {
     "name": "stdout",
     "output_type": "stream",
     "text": [
      "---RETRIEVE---\n"
     ]
    },
    {
     "data": {
      "application/vnd.jupyter.widget-view+json": {
       "model_id": "715aa880f95b45b8aa59909d789698fc",
       "version_major": 2,
       "version_minor": 0
      },
      "text/plain": [
       "Batches:   0%|          | 0/1 [00:00<?, ?it/s]"
      ]
     },
     "metadata": {},
     "output_type": "display_data"
    },
    {
     "data": {
      "application/vnd.jupyter.widget-view+json": {
       "model_id": "bb976dbf4cc8400cb86e44d16612b22b",
       "version_major": 2,
       "version_minor": 0
      },
      "text/plain": [
       "Batches:   0%|          | 0/1 [00:00<?, ?it/s]"
      ]
     },
     "metadata": {},
     "output_type": "display_data"
    },
    {
     "data": {
      "application/vnd.jupyter.widget-view+json": {
       "model_id": "f33fe126da984a64a44f0b5a68818e77",
       "version_major": 2,
       "version_minor": 0
      },
      "text/plain": [
       "Batches:   0%|          | 0/1 [00:00<?, ?it/s]"
      ]
     },
     "metadata": {},
     "output_type": "display_data"
    },
    {
     "name": "stdout",
     "output_type": "stream",
     "text": [
      "---CHECK DOCUMENT RELEVANCE TO QUESTION---\n",
      "---GRADE: DOCUMENT RELEVANT---\n",
      "---GRADE: DOCUMENT NOT RELEVANT---\n",
      "---GRADE: DOCUMENT NOT RELEVANT---\n",
      "---GRADE: DOCUMENT NOT RELEVANT---\n",
      "---GRADE: DOCUMENT RELEVANT---\n",
      "---GRADE: DOCUMENT NOT RELEVANT---\n",
      "---GRADE: DOCUMENT NOT RELEVANT---\n",
      "---GRADE: DOCUMENT NOT RELEVANT---\n",
      "---GRADE: DOCUMENT RELEVANT---\n",
      "---GRADE: DOCUMENT RELEVANT---\n",
      "---GRADE: DOCUMENT RELEVANT---\n",
      "---GRADE: DOCUMENT RELEVANT---\n",
      "---ASSESS GRADED DOCUMENTS---\n",
      "---GENERATE---\n",
      "---RETRIEVE---\n"
     ]
    },
    {
     "data": {
      "application/vnd.jupyter.widget-view+json": {
       "model_id": "9d443b6c0e0e41459397d684e6b830e9",
       "version_major": 2,
       "version_minor": 0
      },
      "text/plain": [
       "Batches:   0%|          | 0/1 [00:00<?, ?it/s]"
      ]
     },
     "metadata": {},
     "output_type": "display_data"
    },
    {
     "data": {
      "application/vnd.jupyter.widget-view+json": {
       "model_id": "352151cd633f4893bb6c58065a3ecddb",
       "version_major": 2,
       "version_minor": 0
      },
      "text/plain": [
       "Batches:   0%|          | 0/1 [00:00<?, ?it/s]"
      ]
     },
     "metadata": {},
     "output_type": "display_data"
    },
    {
     "data": {
      "application/vnd.jupyter.widget-view+json": {
       "model_id": "55c104cae3934f979936011d392d6251",
       "version_major": 2,
       "version_minor": 0
      },
      "text/plain": [
       "Batches:   0%|          | 0/1 [00:00<?, ?it/s]"
      ]
     },
     "metadata": {},
     "output_type": "display_data"
    },
    {
     "name": "stdout",
     "output_type": "stream",
     "text": [
      "---CHECK DOCUMENT RELEVANCE TO QUESTION---\n",
      "---GRADE: DOCUMENT RELEVANT---\n",
      "---GRADE: DOCUMENT NOT RELEVANT---\n",
      "---GRADE: DOCUMENT NOT RELEVANT---\n",
      "---GRADE: DOCUMENT NOT RELEVANT---\n",
      "---GRADE: DOCUMENT RELEVANT---\n",
      "---GRADE: DOCUMENT NOT RELEVANT---\n",
      "---GRADE: DOCUMENT NOT RELEVANT---\n",
      "---GRADE: DOCUMENT NOT RELEVANT---\n",
      "---GRADE: DOCUMENT RELEVANT---\n",
      "---GRADE: DOCUMENT RELEVANT---\n",
      "---GRADE: DOCUMENT RELEVANT---\n",
      "---GRADE: DOCUMENT RELEVANT---\n",
      "---ASSESS GRADED DOCUMENTS---\n",
      "---GENERATE---\n",
      "---RETRIEVE---\n"
     ]
    },
    {
     "data": {
      "application/vnd.jupyter.widget-view+json": {
       "model_id": "f0a59bf361624f38a0d29048aaffbe93",
       "version_major": 2,
       "version_minor": 0
      },
      "text/plain": [
       "Batches:   0%|          | 0/1 [00:00<?, ?it/s]"
      ]
     },
     "metadata": {},
     "output_type": "display_data"
    },
    {
     "data": {
      "application/vnd.jupyter.widget-view+json": {
       "model_id": "8c3ee41055c84096b7b9ad5ee6f7ef8f",
       "version_major": 2,
       "version_minor": 0
      },
      "text/plain": [
       "Batches:   0%|          | 0/1 [00:00<?, ?it/s]"
      ]
     },
     "metadata": {},
     "output_type": "display_data"
    },
    {
     "data": {
      "application/vnd.jupyter.widget-view+json": {
       "model_id": "9a15bbd476374221a2c5a7509bebd51d",
       "version_major": 2,
       "version_minor": 0
      },
      "text/plain": [
       "Batches:   0%|          | 0/1 [00:00<?, ?it/s]"
      ]
     },
     "metadata": {},
     "output_type": "display_data"
    },
    {
     "name": "stdout",
     "output_type": "stream",
     "text": [
      "---CHECK DOCUMENT RELEVANCE TO QUESTION---\n",
      "---GRADE: DOCUMENT RELEVANT---\n",
      "---GRADE: DOCUMENT NOT RELEVANT---\n",
      "---GRADE: DOCUMENT NOT RELEVANT---\n",
      "---GRADE: DOCUMENT NOT RELEVANT---\n",
      "---GRADE: DOCUMENT RELEVANT---\n",
      "---GRADE: DOCUMENT NOT RELEVANT---\n",
      "---GRADE: DOCUMENT NOT RELEVANT---\n",
      "---GRADE: DOCUMENT NOT RELEVANT---\n",
      "---GRADE: DOCUMENT RELEVANT---\n",
      "---GRADE: DOCUMENT RELEVANT---\n",
      "---GRADE: DOCUMENT RELEVANT---\n",
      "---GRADE: DOCUMENT RELEVANT---\n",
      "---ASSESS GRADED DOCUMENTS---\n",
      "---GENERATE---\n"
     ]
    },
    {
     "data": {
      "application/vnd.jupyter.widget-view+json": {
       "model_id": "359e45529fa4456abc7f545d27c14483",
       "version_major": 2,
       "version_minor": 0
      },
      "text/plain": [
       "Batches:   0%|          | 0/1 [00:00<?, ?it/s]"
      ]
     },
     "metadata": {},
     "output_type": "display_data"
    },
    {
     "data": {
      "application/vnd.jupyter.widget-view+json": {
       "model_id": "6ce6165d9ca1466890b5adcf5572a01a",
       "version_major": 2,
       "version_minor": 0
      },
      "text/plain": [
       "Batches:   0%|          | 0/1 [00:00<?, ?it/s]"
      ]
     },
     "metadata": {},
     "output_type": "display_data"
    },
    {
     "data": {
      "application/vnd.jupyter.widget-view+json": {
       "model_id": "222a3db1d8814e93877665946edbc26b",
       "version_major": 2,
       "version_minor": 0
      },
      "text/plain": [
       "Batches:   0%|          | 0/1 [00:00<?, ?it/s]"
      ]
     },
     "metadata": {},
     "output_type": "display_data"
    },
    {
     "data": {
      "application/vnd.jupyter.widget-view+json": {
       "model_id": "a90ab3082ffd4f72b606c20184183a21",
       "version_major": 2,
       "version_minor": 0
      },
      "text/plain": [
       "Batches:   0%|          | 0/1 [00:00<?, ?it/s]"
      ]
     },
     "metadata": {},
     "output_type": "display_data"
    },
    {
     "data": {
      "application/vnd.jupyter.widget-view+json": {
       "model_id": "22cd99feef944b4d8a9ba060e8aa63d0",
       "version_major": 2,
       "version_minor": 0
      },
      "text/plain": [
       "Batches:   0%|          | 0/1 [00:00<?, ?it/s]"
      ]
     },
     "metadata": {},
     "output_type": "display_data"
    },
    {
     "data": {
      "application/vnd.jupyter.widget-view+json": {
       "model_id": "21a5e0a68da640e8a5e04695c96c7f76",
       "version_major": 2,
       "version_minor": 0
      },
      "text/plain": [
       "Batches:   0%|          | 0/1 [00:00<?, ?it/s]"
      ]
     },
     "metadata": {},
     "output_type": "display_data"
    },
    {
     "data": {
      "application/vnd.jupyter.widget-view+json": {
       "model_id": "7d6bdcb5a4444b2581fe9782d96a268b",
       "version_major": 2,
       "version_minor": 0
      },
      "text/plain": [
       "Batches:   0%|          | 0/1 [00:00<?, ?it/s]"
      ]
     },
     "metadata": {},
     "output_type": "display_data"
    },
    {
     "data": {
      "application/vnd.jupyter.widget-view+json": {
       "model_id": "4ad20ed653f34f6d9ff2feff177ccb3f",
       "version_major": 2,
       "version_minor": 0
      },
      "text/plain": [
       "Batches:   0%|          | 0/1 [00:00<?, ?it/s]"
      ]
     },
     "metadata": {},
     "output_type": "display_data"
    },
    {
     "data": {
      "application/vnd.jupyter.widget-view+json": {
       "model_id": "17c5a8f18d5c44a49a0dd76f867eb054",
       "version_major": 2,
       "version_minor": 0
      },
      "text/plain": [
       "Batches:   0%|          | 0/1 [00:00<?, ?it/s]"
      ]
     },
     "metadata": {},
     "output_type": "display_data"
    },
    {
     "name": "stdout",
     "output_type": "stream",
     "text": [
      "\n",
      "    Final Aggregated Answer: The number of Chapter 11 filings in Connecticut decreased between 1994 and 2004. In 1994, there were 216 filings, and by 2004, the number had dropped to 84 filings. This represents a substantial decline over the ten-year period.. This represents a significant reduction in filings over the ten-year period.\n",
      "\n",
      "    Context used for answer:\n",
      "    File: 7_FAISS.pdf, Page 0: 0\n",
      "50\n",
      "100\n",
      "150\n",
      "200\n",
      "250\n",
      "CHAPTER 11 FILINGS\n",
      "1994\n",
      "1995\n",
      "1996\n",
      "1997\n",
      "1998\n",
      "1999\n",
      "2000\n",
      "2001\n",
      "2002\n",
      "2003\n",
      "2004\n",
      "CALENDAR YEAR\n",
      "216\n",
      "178\n",
      "166\n",
      "134\n",
      "97\n",
      "90\n",
      "79\n",
      "88\n",
      "125\n",
      "103\n",
      "84\n",
      "CHAPTER 11 FILINGS IN CONNECTICUT\n",
      "CALENDAR YEARS   1994 --  2004\n",
      "\n",
      "File: 7_FAISS.pdf, Page 0: 0\n",
      "50\n",
      "100\n",
      "150\n",
      "200\n",
      "250\n",
      "CHAPTER 11 FILINGS\n",
      "1994\n",
      "1995\n",
      "1996\n",
      "1997\n",
      "1998\n",
      "1999\n",
      "2000\n",
      "2001\n",
      "2002\n",
      "2003\n",
      "2004\n",
      "CALENDAR YEAR\n",
      "216\n",
      "178\n",
      "166\n",
      "134\n",
      "97\n",
      "90\n",
      "79\n",
      "88\n",
      "125\n",
      "103\n",
      "84\n",
      "CHAPTER 11 FILINGS IN CONNECTICUT\n",
      "CALENDAR YEARS   1994 --  2004\n",
      "\n",
      "File: 7_FAISS.pdf, Page 0.0: 0\n",
      "50\n",
      "100\n",
      "150\n",
      "200\n",
      "250\n",
      "CHAPTER 11 FILINGS\n",
      "1994\n",
      "1995\n",
      "1996\n",
      "1997\n",
      "1998\n",
      "1999\n",
      "2000\n",
      "2001\n",
      "2002\n",
      "2003\n",
      "2004\n",
      "CALENDAR YEAR\n",
      "216\n",
      "178\n",
      "166\n",
      "134\n",
      "97\n",
      "90\n",
      "79\n",
      "88\n",
      "125\n",
      "103\n",
      "84\n",
      "CHAPTER 11 FILINGS IN CONNECTICUT\n",
      "CALENDAR YEARS   1994 --  2004\n",
      "\n",
      "\n",
      "File: 7_FAISS.pdf, Page 0.0: 0\n",
      "50\n",
      "100\n",
      "150\n",
      "200\n",
      "250\n",
      "CHAPTER 11 FILINGS\n",
      "1994\n",
      "1995\n",
      "1996\n",
      "1997\n",
      "1998\n",
      "1999\n",
      "2000\n",
      "2001\n",
      "2002\n",
      "2003\n",
      "2004\n",
      "CALENDAR YEAR\n",
      "216\n",
      "178\n",
      "166\n",
      "134\n",
      "97\n",
      "90\n",
      "79\n",
      "88\n",
      "125\n",
      "103\n",
      "84\n",
      "CHAPTER 11 FILINGS IN CONNECTICUT\n",
      "CALENDAR YEARS   1994 --  2004\n",
      "\n",
      "\n",
      "File: 7_FAISS.pdf, Page 0.0: 0\n",
      "50\n",
      "100\n",
      "150\n",
      "200\n",
      "250\n",
      "CHAPTER 11 FILINGS\n",
      "1994\n",
      "1995\n",
      "1996\n",
      "1997\n",
      "1998\n",
      "1999\n",
      "2000\n",
      "2001\n",
      "2002\n",
      "2003\n",
      "2004\n",
      "CALENDAR YEAR\n",
      "216\n",
      "178\n",
      "166\n",
      "134\n",
      "97\n",
      "90\n",
      "79\n",
      "88\n",
      "125\n",
      "103\n",
      "84\n",
      "CHAPTER 11 FILINGS IN CONNECTICUT\n",
      "CALENDAR YEARS   1994 --  2004\n",
      "\n",
      "\n",
      "File: 7_FAISS.pdf, Page 0.0: 0\n",
      "50\n",
      "100\n",
      "150\n",
      "200\n",
      "250\n",
      "CHAPTER 11 FILINGS\n",
      "1994\n",
      "1995\n",
      "1996\n",
      "1997\n",
      "1998\n",
      "1999\n",
      "2000\n",
      "2001\n",
      "2002\n",
      "2003\n",
      "2004\n",
      "CALENDAR YEAR\n",
      "216\n",
      "178\n",
      "166\n",
      "134\n",
      "97\n",
      "90\n",
      "79\n",
      "88\n",
      "125\n",
      "103\n",
      "84\n",
      "CHAPTER 11 FILINGS IN CONNECTICUT\n",
      "CALENDAR YEARS   1994 --  2004\n",
      "\n",
      "\n",
      "File: 7_FAISS.pdf, Page 0: 0\n",
      "50\n",
      "100\n",
      "150\n",
      "200\n",
      "250\n",
      "CHAPTER 11 FILINGS\n",
      "1994\n",
      "1995\n",
      "1996\n",
      "1997\n",
      "1998\n",
      "1999\n",
      "2000\n",
      "2001\n",
      "2002\n",
      "2003\n",
      "2004\n",
      "CALENDAR YEAR\n",
      "216\n",
      "178\n",
      "166\n",
      "134\n",
      "97\n",
      "90\n",
      "79\n",
      "88\n",
      "125\n",
      "103\n",
      "84\n",
      "CHAPTER 11 FILINGS IN CONNECTICUT\n",
      "CALENDAR YEARS   1994 --  2004\n",
      "\n",
      "File: 7_FAISS.pdf, Page 0: 0\n",
      "50\n",
      "100\n",
      "150\n",
      "200\n",
      "250\n",
      "CHAPTER 11 FILINGS\n",
      "1994\n",
      "1995\n",
      "1996\n",
      "1997\n",
      "1998\n",
      "1999\n",
      "2000\n",
      "2001\n",
      "2002\n",
      "2003\n",
      "2004\n",
      "CALENDAR YEAR\n",
      "216\n",
      "178\n",
      "166\n",
      "134\n",
      "97\n",
      "90\n",
      "79\n",
      "88\n",
      "125\n",
      "103\n",
      "84\n",
      "CHAPTER 11 FILINGS IN CONNECTICUT\n",
      "CALENDAR YEARS   1994 --  2004\n",
      "\n",
      "File: 7_FAISS.pdf, Page 0.0: 0\n",
      "50\n",
      "100\n",
      "150\n",
      "200\n",
      "250\n",
      "CHAPTER 11 FILINGS\n",
      "1994\n",
      "1995\n",
      "1996\n",
      "1997\n",
      "1998\n",
      "1999\n",
      "2000\n",
      "2001\n",
      "2002\n",
      "2003\n",
      "2004\n",
      "CALENDAR YEAR\n",
      "216\n",
      "178\n",
      "166\n",
      "134\n",
      "97\n",
      "90\n",
      "79\n",
      "88\n",
      "125\n",
      "103\n",
      "84\n",
      "CHAPTER 11 FILINGS IN CONNECTICUT\n",
      "CALENDAR YEARS   1994 --  2004\n",
      "\n",
      "\n",
      "File: 7_FAISS.pdf, Page 0.0: 0\n",
      "50\n",
      "100\n",
      "150\n",
      "200\n",
      "250\n",
      "CHAPTER 11 FILINGS\n",
      "1994\n",
      "1995\n",
      "1996\n",
      "1997\n",
      "1998\n",
      "1999\n",
      "2000\n",
      "2001\n",
      "2002\n",
      "2003\n",
      "2004\n",
      "CALENDAR YEAR\n",
      "216\n",
      "178\n",
      "166\n",
      "134\n",
      "97\n",
      "90\n",
      "79\n",
      "88\n",
      "125\n",
      "103\n",
      "84\n",
      "CHAPTER 11 FILINGS IN CONNECTICUT\n",
      "CALENDAR YEARS   1994 --  2004\n",
      "\n",
      "\n",
      "File: 7_FAISS.pdf, Page 0.0: 0\n",
      "50\n",
      "100\n",
      "150\n",
      "200\n",
      "250\n",
      "CHAPTER 11 FILINGS\n",
      "1994\n",
      "1995\n",
      "1996\n",
      "1997\n",
      "1998\n",
      "1999\n",
      "2000\n",
      "2001\n",
      "2002\n",
      "2003\n",
      "2004\n",
      "CALENDAR YEAR\n",
      "216\n",
      "178\n",
      "166\n",
      "134\n",
      "97\n",
      "90\n",
      "79\n",
      "88\n",
      "125\n",
      "103\n",
      "84\n",
      "CHAPTER 11 FILINGS IN CONNECTICUT\n",
      "CALENDAR YEARS   1994 --  2004\n",
      "\n",
      "\n",
      "File: 7_FAISS.pdf, Page 0.0: 0\n",
      "50\n",
      "100\n",
      "150\n",
      "200\n",
      "250\n",
      "CHAPTER 11 FILINGS\n",
      "1994\n",
      "1995\n",
      "1996\n",
      "1997\n",
      "1998\n",
      "1999\n",
      "2000\n",
      "2001\n",
      "2002\n",
      "2003\n",
      "2004\n",
      "CALENDAR YEAR\n",
      "216\n",
      "178\n",
      "166\n",
      "134\n",
      "97\n",
      "90\n",
      "79\n",
      "88\n",
      "125\n",
      "103\n",
      "84\n",
      "CHAPTER 11 FILINGS IN CONNECTICUT\n",
      "CALENDAR YEARS   1994 --  2004\n",
      "\n",
      "\n",
      "File: 7_FAISS.pdf, Page 0: 0\n",
      "50\n",
      "100\n",
      "150\n",
      "200\n",
      "250\n",
      "CHAPTER 11 FILINGS\n",
      "1994\n",
      "1995\n",
      "1996\n",
      "1997\n",
      "1998\n",
      "1999\n",
      "2000\n",
      "2001\n",
      "2002\n",
      "2003\n",
      "2004\n",
      "CALENDAR YEAR\n",
      "216\n",
      "178\n",
      "166\n",
      "134\n",
      "97\n",
      "90\n",
      "79\n",
      "88\n",
      "125\n",
      "103\n",
      "84\n",
      "CHAPTER 11 FILINGS IN CONNECTICUT\n",
      "CALENDAR YEARS   1994 --  2004\n",
      "\n",
      "File: 7_FAISS.pdf, Page 0: 0\n",
      "50\n",
      "100\n",
      "150\n",
      "200\n",
      "250\n",
      "CHAPTER 11 FILINGS\n",
      "1994\n",
      "1995\n",
      "1996\n",
      "1997\n",
      "1998\n",
      "1999\n",
      "2000\n",
      "2001\n",
      "2002\n",
      "2003\n",
      "2004\n",
      "CALENDAR YEAR\n",
      "216\n",
      "178\n",
      "166\n",
      "134\n",
      "97\n",
      "90\n",
      "79\n",
      "88\n",
      "125\n",
      "103\n",
      "84\n",
      "CHAPTER 11 FILINGS IN CONNECTICUT\n",
      "CALENDAR YEARS   1994 --  2004\n",
      "\n",
      "File: 7_FAISS.pdf, Page 0.0: 0\n",
      "50\n",
      "100\n",
      "150\n",
      "200\n",
      "250\n",
      "CHAPTER 11 FILINGS\n",
      "1994\n",
      "1995\n",
      "1996\n",
      "1997\n",
      "1998\n",
      "1999\n",
      "2000\n",
      "2001\n",
      "2002\n",
      "2003\n",
      "2004\n",
      "CALENDAR YEAR\n",
      "216\n",
      "178\n",
      "166\n",
      "134\n",
      "97\n",
      "90\n",
      "79\n",
      "88\n",
      "125\n",
      "103\n",
      "84\n",
      "CHAPTER 11 FILINGS IN CONNECTICUT\n",
      "CALENDAR YEARS   1994 --  2004\n",
      "\n",
      "\n",
      "File: 7_FAISS.pdf, Page 0.0: 0\n",
      "50\n",
      "100\n",
      "150\n",
      "200\n",
      "250\n",
      "CHAPTER 11 FILINGS\n",
      "1994\n",
      "1995\n",
      "1996\n",
      "1997\n",
      "1998\n",
      "1999\n",
      "2000\n",
      "2001\n",
      "2002\n",
      "2003\n",
      "2004\n",
      "CALENDAR YEAR\n",
      "216\n",
      "178\n",
      "166\n",
      "134\n",
      "97\n",
      "90\n",
      "79\n",
      "88\n",
      "125\n",
      "103\n",
      "84\n",
      "CHAPTER 11 FILINGS IN CONNECTICUT\n",
      "CALENDAR YEARS   1994 --  2004\n",
      "\n",
      "\n",
      "File: 7_FAISS.pdf, Page 0.0: 0\n",
      "50\n",
      "100\n",
      "150\n",
      "200\n",
      "250\n",
      "CHAPTER 11 FILINGS\n",
      "1994\n",
      "1995\n",
      "1996\n",
      "1997\n",
      "1998\n",
      "1999\n",
      "2000\n",
      "2001\n",
      "2002\n",
      "2003\n",
      "2004\n",
      "CALENDAR YEAR\n",
      "216\n",
      "178\n",
      "166\n",
      "134\n",
      "97\n",
      "90\n",
      "79\n",
      "88\n",
      "125\n",
      "103\n",
      "84\n",
      "CHAPTER 11 FILINGS IN CONNECTICUT\n",
      "CALENDAR YEARS   1994 --  2004\n",
      "\n",
      "\n",
      "File: 7_FAISS.pdf, Page 0.0: 0\n",
      "50\n",
      "100\n",
      "150\n",
      "200\n",
      "250\n",
      "CHAPTER 11 FILINGS\n",
      "1994\n",
      "1995\n",
      "1996\n",
      "1997\n",
      "1998\n",
      "1999\n",
      "2000\n",
      "2001\n",
      "2002\n",
      "2003\n",
      "2004\n",
      "CALENDAR YEAR\n",
      "216\n",
      "178\n",
      "166\n",
      "134\n",
      "97\n",
      "90\n",
      "79\n",
      "88\n",
      "125\n",
      "103\n",
      "84\n",
      "CHAPTER 11 FILINGS IN CONNECTICUT\n",
      "CALENDAR YEARS   1994 --  2004\n",
      "\n",
      "    \n"
     ]
    },
    {
     "data": {
      "application/vnd.jupyter.widget-view+json": {
       "model_id": "42b48f4edd8f411cbd83ad2bb6bb3b30",
       "version_major": 2,
       "version_minor": 0
      },
      "text/plain": [
       "Evaluating:   0%|          | 0/4 [00:00<?, ?it/s]"
      ]
     },
     "metadata": {},
     "output_type": "display_data"
    },
    {
     "data": {
      "application/vnd.jupyter.widget-view+json": {
       "model_id": "290e8f85a96d4db98ad1a1f6da9fc7d8",
       "version_major": 2,
       "version_minor": 0
      },
      "text/plain": [
       "Batches:   0%|          | 0/1 [00:00<?, ?it/s]"
      ]
     },
     "metadata": {},
     "output_type": "display_data"
    },
    {
     "data": {
      "application/vnd.jupyter.widget-view+json": {
       "model_id": "ca9017863eec4af0a4397ea806f65265",
       "version_major": 2,
       "version_minor": 0
      },
      "text/plain": [
       "Batches:   0%|          | 0/1 [00:00<?, ?it/s]"
      ]
     },
     "metadata": {},
     "output_type": "display_data"
    },
    {
     "data": {
      "application/vnd.jupyter.widget-view+json": {
       "model_id": "cf52305a38c14755bf058a445e0c6268",
       "version_major": 2,
       "version_minor": 0
      },
      "text/plain": [
       "Batches:   0%|          | 0/1 [00:00<?, ?it/s]"
      ]
     },
     "metadata": {},
     "output_type": "display_data"
    },
    {
     "data": {
      "application/vnd.jupyter.widget-view+json": {
       "model_id": "d99d584024f646b792e78be86b519f2c",
       "version_major": 2,
       "version_minor": 0
      },
      "text/plain": [
       "Batches:   0%|          | 0/1 [00:00<?, ?it/s]"
      ]
     },
     "metadata": {},
     "output_type": "display_data"
    },
    {
     "name": "stdout",
     "output_type": "stream",
     "text": [
      "\n",
      "Final Aggregated Answer Evaluation Scores: {'context_utilization': 1.0000, 'faithfulness': 1.0000, 'answer_relevancy': 1.0000, 'context_recall': 1.0000}\n"
     ]
    }
   ],
   "source": [
    "# Usage Example\n",
    "question = \"How did the number of Chapter 11 filings in Connecticut change between 1994 and 2004?\"\n",
    "aggregated_answer, all_responses, context, sources = get_aggregated_answer_and_sources(question)\n",
    "\n",
    "if \"tavily_search\" in all_responses:\n",
    "    print(\"\\nTavily Search Message:\")\n",
    "    print(aggregated_answer)\n",
    "else:\n",
    "    formatted_context = format_context(context)\n",
    "    output = f\"\"\"\n",
    "    Final Aggregated Answer: {aggregated_answer}\n",
    "\n",
    "    Context used for answer:\n",
    "    {formatted_context}\n",
    "    \"\"\"\n",
    "    print(output)\n",
    "\n",
    "    ground_truth = \"Between 1994 and 2004, the number of Chapter 11 filings in Connecticut decreased. In 1994, there were 216 filings, and by 2004 the number had declined to 84 filings. This represents a significant reduction over the ten-year period.\"\n",
    "\n",
    "    final_scores = evaluate_answer(aggregated_answer, question, context, ground_truth)\n",
    "    print(\"\\nFinal Aggregated Answer Evaluation Scores:\", final_scores)\n"
   ]
  },
  {
   "cell_type": "code",
   "execution_count": 5,
   "id": "f8b54d9d-27bb-4e56-a26f-6b241fb920f1",
   "metadata": {},
   "outputs": [
    {
     "name": "stdout",
     "output_type": "stream",
     "text": [
      "---RETRIEVE---\n"
     ]
    },
    {
     "data": {
      "application/vnd.jupyter.widget-view+json": {
       "model_id": "9d01e8138d4543a183b912950ba0dbf9",
       "version_major": 2,
       "version_minor": 0
      },
      "text/plain": [
       "Batches:   0%|          | 0/1 [00:00<?, ?it/s]"
      ]
     },
     "metadata": {},
     "output_type": "display_data"
    },
    {
     "data": {
      "application/vnd.jupyter.widget-view+json": {
       "model_id": "c887330375d9468bab642ca68bdc4f5c",
       "version_major": 2,
       "version_minor": 0
      },
      "text/plain": [
       "Batches:   0%|          | 0/1 [00:00<?, ?it/s]"
      ]
     },
     "metadata": {},
     "output_type": "display_data"
    },
    {
     "data": {
      "application/vnd.jupyter.widget-view+json": {
       "model_id": "2b75e9ee1cb644cbb8f27e3cdd258abc",
       "version_major": 2,
       "version_minor": 0
      },
      "text/plain": [
       "Batches:   0%|          | 0/1 [00:00<?, ?it/s]"
      ]
     },
     "metadata": {},
     "output_type": "display_data"
    },
    {
     "name": "stdout",
     "output_type": "stream",
     "text": [
      "---CHECK DOCUMENT RELEVANCE TO QUESTION---\n",
      "---GRADE: DOCUMENT NOT RELEVANT---\n",
      "---GRADE: DOCUMENT NOT RELEVANT---\n",
      "---GRADE: DOCUMENT NOT RELEVANT---\n",
      "---GRADE: DOCUMENT NOT RELEVANT---\n",
      "---GRADE: DOCUMENT NOT RELEVANT---\n",
      "---GRADE: DOCUMENT NOT RELEVANT---\n",
      "---GRADE: DOCUMENT NOT RELEVANT---\n",
      "---GRADE: DOCUMENT NOT RELEVANT---\n",
      "---GRADE: DOCUMENT NOT RELEVANT---\n",
      "---GRADE: DOCUMENT NOT RELEVANT---\n",
      "---GRADE: DOCUMENT NOT RELEVANT---\n",
      "---GRADE: DOCUMENT NOT RELEVANT---\n",
      "---ASSESS GRADED DOCUMENTS---\n",
      "---PERFORMING TAVILY SEARCH---\n",
      "{'query': 'Who is the president of Romania?', 'follow_up_questions': None, 'answer': None, 'images': None, 'results': [{'title': 'Presidents Of Romania - WorldAtlas', 'url': 'https://www.worldatlas.com/articles/presidents-of-romania-since-1989.html', 'content': 'The office of President of Romania was created in 1974 when the Romanian constitution was changed via amendments to upgrade the position of President of the State Council. Since 2004, following the modification of the structure, the president is directly elected by the people in a two-round system. The president may serve two five years terms ...', 'score': 0.97259, 'raw_content': None}, {'title': 'Klaus Werner Iohannis | World Leaders Forum', 'url': 'https://worldleaders.columbia.edu/directory/klaus-werner-iohannis', 'content': 'The Emperor Otto Prize, awarded by the City of Magdeburg, the Federal Republic of Germany\\n2020 – European Prize Coudenhove-Kalergi, European Society Coudenhove-Kalergi\\n2019 – Medal of Honour (Goldene Ehrennadel), the Democratic Forum of Germans in Romania, Sibiu\\n2018 – Franz Josef Strauss award, Hanns Seidel Foundation, Munich, the Federal Republic of Germany\\n2017 – Light Unto the Nations award, American Jewish Committee, Washington, D.C., United States of America\\n2017 – Semper Opera Ball Dresden Medal of St. George, the Federal Republic of Germany\\n2016 – Hermann Ehlers award, Hermann Ehlers Foundation, Kiel, the Federal Republic of Germany\\n2016 – Martin Buber-Plaque, EURIADE Foundation, Kerkrade, the Kingdom of the Netherlands\\n2010 – Friend of the Jewish Communities in Romania Medal of Honor, Sibiu, Romania\\n2010 – The German Expatriates Association Plaque of Honor\\nState honorary distinctions\\n2022 - Grand Cross of the Order for Merits to Lithuania\\n2022 - Order of the Three Stars – Commander Grand Cross (1st class) – Republic of Latvia\\n2022 – Grand Collar of the State of Palestine\\n2021 – Collar of the Order of the Cross of Terra Mariana of the Republic of Estonia\\n2019 – Emblem of Honour of Romanian Army\\n2017 – Grand Order of King Tomislav with Sash and Grand Star of the Republic of Croatia\\n2016 – Order (First Class) of the White Double Cross of the Slovak Republic\\n2016 – Grand Cross of the Legion of Honour of the French Republic\\n2016 – Order of the White Eagle of the Republic of Poland\\n2016 – Grand Cross (Special Class) of the Order of Merit of the Federal Republic of Germany\\n2016 – Order Stara Planina with Ribbon of the Republic of Bulgaria\\n2016 – Knight Grand Cross of the Order of Merit of the Italian Republic\\n2016 – Order of the Gold Lion of the House of Nassau, the Grand Duchy of Luxembourg\\n2016 – Collar (First Class) of the Order of Vytautas the Great, the Republic of Lithuania\\n2016 – Order of the Holy Sepulchre of the Patriarchate of the Holy City of Jerusalem and all Palestine and Israel\\n2016 – Order of the Republic of Moldova\\n2015 – Grand Collar of the Order of the Infante D. Henrique of the Portuguese Republic\\n2014 – Officer’s Cross of the Order of Merit of the Federal Republic of Germany\\n2011 – Knight of the National Order for Merit of Romania\\n2009 – Officer of the Order of the Crown of the Kingdom of Belgium\\n2009 – Grand Cross Order of Merit, the Republic of Austria\\n2009 – Officer of the Order of Merit of the Grand Duchy of Luxembourg\\n2008 – Commander of the Order of the Star of Italian Solidarity of the Italian Republic\\n2007 – Knight of the National Order of the Star of Romania\\n2006 – Cross of the Order of Merit of the Federal Republic of Germany\\nPublications\\nEU.RO - Europe, an Open Dialogue (EU.RO - Un dialog deschis despre Europa), Curtea Veche Publishing, 2019\\n Personal Information\\nDate and place of birth: 13 June 1959, Sibiu, Romania\\nMarital Status: Married\\nDecember 2014 — Elected President of Romania\\n2000 - December 2014 — Mayor of the Municipality of Sibiu\\n1999 - 2000 — General Inspector, Sibiu County School Inspectorate\\n1997 - 1999 — Deputy General Inspector, Sibiu County School Inspectorate\\n1983 - 1997 — Physics teacher, Sibiu\\nPolitical career\\n2014 – President of the National Liberal Party\\n2013 – First Vice-President of the National Liberal Party\\n2002 - 2013 – President of the Democratic Forum of Germans in Romania\\nEducation\\n1979-1983 – Faculty of Physics, Babeș-Bolyai University, Cluj-Napoca, Romania\\nInternational and National Awards\\n2023 - German Civic Award, conferred by the Bad Harzburg Civic Foundation\\n2023 - Franz Werfel Award for Human Rights, granted by the Center against Expulsions in Bonn, the Federal Republic of Germany\\n2020 – European Charles IV Prize of the Sudeten German Homeland Association, the Federal Republic of Germany\\n2020/2021 – Charlemagne Prize, awarded by the City of Aachen, the Federal Republic of Germany\\n2020 – The First Step (Primul pas), Curtea Veche Publishing, 2015\\nStep by step (Pas cu pas), Curtea Veche Publishing, 2014\\nForeign Languages spoken fluently\\nGerman and English\\nSource: Permanent Mission of Romania to the United Nations, August 2023.\\n Prior to holding the highest dignity in the Romanian state, Klaus Werner Iohannis led the National Liberal Party and the Democratic Forum of Germans in Romania.\\n Main navigation expanded\\nYou are here:\\nKlaus Werner Iohannis\\nKlaus Werner Iohannis is the President of Romania since 2014.\\n', 'score': 0.96902, 'raw_content': None}, {'title': 'List of presidents of Romania - Wikipedia', 'url': 'https://en.wikipedia.org/wiki/List_of_presidents_of_Romania', 'content': \"Emil Constantinescu was the candidate of the Christian Democratic National Peasants' Party (PNȚCD) whose candidacy was supported as part of the larger right-leaning Romanian Democratic Convention (CDR) in both 1992 and 1996;\\n2 Traian Băsescu was the presidential candidate of the Democratic Party (PD) whose candidacy was supported as part of the larger right-leaning Justice and Truth Alliance (DA) in 2004, alongside the National Liberal Party. Christian Democratic National Peasants' Party (PNȚCD)\\nDemocratic Liberal Party (PDL)\\nNational Liberal Party (PNL)\\nSocialist Republic of Romania (1965–1989)[edit]\\n1980\\n1985\\n249 days\\nRomania (1989–present)[edit]\\n161 days\\n21 days\\nNonetheless, the CDR coalition managed to secure three prime ministers who initiated liberalizing economic reforms under Constantinescu's presidency, although the overall progress on a short-term basis was slower than initially expected.\\n In the wake of the 2016 legislative elections, his first presidential term was marked by the frequent change of prime ministers made by his former and current close allies, the socialists, as well as by the most massive and widespread series of protests to have ever occurred in the history of Romania (which were directed against the political corruption endorsed at high level by the socialist governments controlled from behind by former PSD leader Liviu Dragnea).\\n 1 day[a]\\nHis second term was marked by a landslide victory of the opposition coalition, specifically the Social Liberal Union (USL), in both the local and the legislative elections of 2012, amidst heavy losses for the presidential party (i.e. the Democratic Liberal Party).\\n Contents\\nList of presidents of Romania\\nThe president of Romania serves as the head of state of Romania.\", 'score': 0.93316, 'raw_content': None}, {'title': 'President of Romania - Wikipedia', 'url': 'https://en.wikipedia.org/wiki/President_of_Romania', 'content': \"Succession[edit]\\nShould the office of the president become vacant due to resignation, impeachment, permanent inability to perform the duties of office, or death while in office,[9] the president of the Senate or the president of the Chamber of Deputies, in that order, step in as Ad Interim President of Romania[10] (Romanian: Președinte Interimar al României). I solemnly swear that I will dedicate all my strength and the best of my ability for the spiritual and material welfare of the Romanian people, to abide by the Constitution and laws of the country, to defend democracy, the fundamental rights and freedoms of my fellow-citizens, Romania's sovereignty, independence, unity and territorial integrity. When the GNA was not in session (in practice, for most of the year), the president could appoint and dismiss the president of the Supreme Court and the prosecutor general without State Council's approval; indeed, he was not even required to consult his State Council colleagues when making such decisions. Communist era[edit]\\nIn the Communist era, the president was elected for a five-year term by the Great National Assembly (GNA) on the recommendation of the Romanian Communist Party's Central Committee and the Front of Socialist Unity and Democracy, with no term limits. Over time, he also usurped many powers that constitutionally belonged to the State Council as a whole.[2]\\nOath of office[edit]\\nAfter the Constitutional Court acknowledges the legality of the election, the Houses of Parliament meet in a joint session.\", 'score': 0.91534, 'raw_content': None}, {'title': 'Klaus Iohannis - Wikipedia', 'url': 'https://en.wikipedia.org/wiki/Klaus_Iohannis', 'content': 'Talks with pro-European parties on bilateral relations and the process of European integration of Moldova[126]\\nTalks with German Chancellor Angela Merkel on the situation in Ukraine, investments, European projects and strengthening the rule of law[127]\\nMeeting with the German President\\nTalks with President Bronisław Komorowski on Ukraine, NATO and Moldova[128]\\nMeeting with the Prime Minister Ewa Kopacz\\nEPP Summit\\nVisit to the Romanian Pavilion at the World Expo in Milano\\nMeeting with President Kolinda Grabar-Kitarović, Prime Minister Zoran Milanović and President of the Sabor Josip Leko[131]\\nMeeting with King Felipe VI, Prime Minister Mariano Rajoy and Romanian community representatives[132][133]\\nMet with the United States President Barack Obama and Vice-president Joe Biden[134]\\nEU-Africa Summit\\nMeetings with the authorities of the Land of Bavaria\\nEPP Summit\\nWorking meeting between the EU leaders and the Prime Minister of Türkiye\\nMeeting with the Romanian Community\\nVisit to the Holocaust Museum\\nWorking Dinner at the White House hosted by US President Barack Obama\\nCelebration of 60 years since the Rome Treaties\\nMeeting at the White House withe the President of the United States\\nJoint press conference with United States President Donald Trump\\nMeeting with the Romanian community\\nMeetings with the American authorities\\nMeetings with the President of Germany and the Federal Chancellor\\nReceiving the Semper Opera Ball Dresden Medal of St. George\\nMeeting with the Romanian Community\\nEPP Summit\\nMeetings with the leaders of the European institutions\\nEPP Summit\\nReceiving the Franz Josef Strauss award, Hanns Seidel Foundation\\nOfficial opening of the Romania-France Cultural Season\\nBilateral meeting with the Vicepresident of the United States of America, Mike Pence\\nEPP Summit\\nAnual Trans-Atlantic Conference (AmCham EU)\\nEPP Summit\\nEPP Summit\\nEPP Summit\\nWork meeting of the EU-India Format\\nEPP Summit\\nMeeting with the Presidents of the Republic of Moldova, Poland and Ukraine\\nEuropean Union – Western Balkans Summit\\nMeeting with President Abdel Fattah el-Sisi[138]\\nVisit to San Francisco, meetings with the Romanian Community from the West Coast of the US\\nKaunas\\nMeeting of the Presidents of Lithuania, Latvia, Poland and Romania\\nSantiago de Chile\\nBrasília, Rio de Janeiro\\nReceiving the Franz Werfel Human Rights Award, granted by the Centre Against Expulsions in Bonn\\nPolitical positions\\nUnification of Moldova and Romania\\nRegarding the unification of Moldova and Romania, Klaus Iohannis declared during the 2014 presidential campaign that the unification is something that only Bucharest can provide and only Chișinău can accept. A heavily disputed draft law proposed by Nicolae Păun, leader of the Party of the Roma, regarding the amnesty of some misdemeanors and the pardoning of certain penalties was rejected by the Chamber of Deputies at the initiative of Klaus Iohannis and the party he led,[72] after PNL asked the Judiciary Committee 17 times to reject the draft law.[73]\\nThe collaboration with socialist Prime Minister Victor Ponta was praised by both sides at the start of the mandate, but deteriorated thereafter once with foreign visits of the Head of the Executive, without informing the President, but especially with the criminal prosecution of Victor Ponta for 22 alleged corruption charges, prompting Iohannis to demand his resignation from the head of the Government.[74] Relations with Parliament went similarly. On 7 November 2005, Iohannis was nominated as the \"Personality of the Year for a European Romania\" (Romanian: Personalitatea anului pentru o Românie europeană) by the Eurolink – House of Europe organization.[52]\\nCandidacy for Prime Minister, with PSD support\\nOn 14 October 2009, the leaders of the opposition parliamentary groups (the National Liberal Party (PNL), the Social Democratic Party (PSD), the Democratic Alliance of Hungarians in Romania (UMR), the Conservative Party (PC) led by Dan Voiculescu, and the group of smaller ethnic minorities), proposed Iohannis as a candidate for the post of Prime Minister, after the government of PM Emil Boc fell a day before as a result of a motion of no confidence in the Parliament. President Klaus Iohannis said that a possible unification of Romania and Moldova could be discussed at the moment things are going well and stable in the two countries.[88][145]\\nAutonomy of the Hungarian minority in Szeklerland\\nIn March 2017, a sub-group of the ethnically Hungarian Székely community in southeastern Transylvania launched a petition demanding autonomy for their region, arguing for political and administrative self-rule, their own elected president and flag, as well as the recognition of Hungarian as an official language next to Romanian.[146] Iohannis, on a visit to the region in July, cautioned against decentralization and the creation of regions based on the ethnic origin of residents.[147] He argued for more and improved cooperation between Romanians and Hungarians \"as the only solution for us\" instead, stressing local administrative reforms and developing the region.[148]\\nOn 28 April 2020, a draft legislation favouring the autonomy of Székely Land, submitted by two deputies of the Democratic Alliance of Hungarians in Romania (UDMR/RMDSZ) in December 2019,[149] was tacitly adopted by the Chamber of Deputies, the lower house of the Parliament of Romania, in which the Social Democratic Party (PSD) held a plurality of seats and all whilst the National Liberal Party (PNL) led a minority government.', 'score': 0.90061, 'raw_content': None}], 'response_time': 0.84}\n",
      "---GENERATE---\n",
      "---RETRIEVE---\n"
     ]
    },
    {
     "data": {
      "application/vnd.jupyter.widget-view+json": {
       "model_id": "959c382831684c93b1e062bb423f54bf",
       "version_major": 2,
       "version_minor": 0
      },
      "text/plain": [
       "Batches:   0%|          | 0/1 [00:00<?, ?it/s]"
      ]
     },
     "metadata": {},
     "output_type": "display_data"
    },
    {
     "data": {
      "application/vnd.jupyter.widget-view+json": {
       "model_id": "b99e833982e040f486c7f756ae4e60e4",
       "version_major": 2,
       "version_minor": 0
      },
      "text/plain": [
       "Batches:   0%|          | 0/1 [00:00<?, ?it/s]"
      ]
     },
     "metadata": {},
     "output_type": "display_data"
    },
    {
     "data": {
      "application/vnd.jupyter.widget-view+json": {
       "model_id": "66ebb8c4f3e240f8b25e29d49ab3bc0f",
       "version_major": 2,
       "version_minor": 0
      },
      "text/plain": [
       "Batches:   0%|          | 0/1 [00:00<?, ?it/s]"
      ]
     },
     "metadata": {},
     "output_type": "display_data"
    },
    {
     "name": "stdout",
     "output_type": "stream",
     "text": [
      "---CHECK DOCUMENT RELEVANCE TO QUESTION---\n",
      "---GRADE: DOCUMENT NOT RELEVANT---\n",
      "---GRADE: DOCUMENT NOT RELEVANT---\n",
      "---GRADE: DOCUMENT NOT RELEVANT---\n",
      "---GRADE: DOCUMENT NOT RELEVANT---\n",
      "---GRADE: DOCUMENT NOT RELEVANT---\n",
      "---GRADE: DOCUMENT NOT RELEVANT---\n",
      "---GRADE: DOCUMENT NOT RELEVANT---\n",
      "---GRADE: DOCUMENT NOT RELEVANT---\n",
      "---GRADE: DOCUMENT NOT RELEVANT---\n",
      "---GRADE: DOCUMENT NOT RELEVANT---\n",
      "---GRADE: DOCUMENT NOT RELEVANT---\n",
      "---GRADE: DOCUMENT NOT RELEVANT---\n",
      "---ASSESS GRADED DOCUMENTS---\n",
      "---PERFORMING TAVILY SEARCH---\n",
      "{'query': 'Who is the president of Romania?', 'follow_up_questions': None, 'answer': None, 'images': None, 'results': [{'title': 'List of presidents of Romania - Wikipedia', 'url': 'https://en.wikipedia.org/wiki/List_of_presidents_of_Romania', 'content': \"Emil Constantinescu was the candidate of the Christian Democratic National Peasants' Party (PNȚCD) whose candidacy was supported as part of the larger right-leaning Romanian Democratic Convention (CDR) in both 1992 and 1996;\\n2 Traian Băsescu was the presidential candidate of the Democratic Party (PD) whose candidacy was supported as part of the larger right-leaning Justice and Truth Alliance (DA) in 2004, alongside the National Liberal Party. Christian Democratic National Peasants' Party (PNȚCD)\\nDemocratic Liberal Party (PDL)\\nNational Liberal Party (PNL)\\nSocialist Republic of Romania (1965–1989)[edit]\\n1980\\n1985\\n249 days\\nRomania (1989–present)[edit]\\n161 days\\n21 days\\nNonetheless, the CDR coalition managed to secure three prime ministers who initiated liberalizing economic reforms under Constantinescu's presidency, although the overall progress on a short-term basis was slower than initially expected.\\n In the wake of the 2016 legislative elections, his first presidential term was marked by the frequent change of prime ministers made by his former and current close allies, the socialists, as well as by the most massive and widespread series of protests to have ever occurred in the history of Romania (which were directed against the political corruption endorsed at high level by the socialist governments controlled from behind by former PSD leader Liviu Dragnea).\\n 1 day[a]\\nHis second term was marked by a landslide victory of the opposition coalition, specifically the Social Liberal Union (USL), in both the local and the legislative elections of 2012, amidst heavy losses for the presidential party (i.e. the Democratic Liberal Party).\\n Contents\\nList of presidents of Romania\\nThe president of Romania serves as the head of state of Romania.\", 'score': 0.97267, 'raw_content': None}, {'title': 'President of Romania - Wikipedia', 'url': 'https://en.wikipedia.org/wiki/President_of_Romania', 'content': \"Succession[edit]\\nShould the office of the president become vacant due to resignation, impeachment, permanent inability to perform the duties of office, or death while in office,[9] the president of the Senate or the president of the Chamber of Deputies, in that order, step in as Ad Interim President of Romania[10] (Romanian: Președinte Interimar al României). I solemnly swear that I will dedicate all my strength and the best of my ability for the spiritual and material welfare of the Romanian people, to abide by the Constitution and laws of the country, to defend democracy, the fundamental rights and freedoms of my fellow-citizens, Romania's sovereignty, independence, unity and territorial integrity. When the GNA was not in session (in practice, for most of the year), the president could appoint and dismiss the president of the Supreme Court and the prosecutor general without State Council's approval; indeed, he was not even required to consult his State Council colleagues when making such decisions. Communist era[edit]\\nIn the Communist era, the president was elected for a five-year term by the Great National Assembly (GNA) on the recommendation of the Romanian Communist Party's Central Committee and the Front of Socialist Unity and Democracy, with no term limits. Over time, he also usurped many powers that constitutionally belonged to the State Council as a whole.[2]\\nOath of office[edit]\\nAfter the Constitutional Court acknowledges the legality of the election, the Houses of Parliament meet in a joint session.\", 'score': 0.95986, 'raw_content': None}, {'title': 'Presidents Of Romania - WorldAtlas', 'url': 'https://www.worldatlas.com/articles/presidents-of-romania-since-1989.html', 'content': 'The office of President of Romania was created in 1974 when the Romanian constitution was changed via amendments to upgrade the position of President of the State Council. Since 2004, following the modification of the structure, the president is directly elected by the people in a two-round system. The president may serve two five years terms ...', 'score': 0.94802, 'raw_content': None}, {'title': 'Klaus Iohannis - Wikipedia', 'url': 'https://en.wikipedia.org/wiki/Klaus_Iohannis', 'content': 'Talks with pro-European parties on bilateral relations and the process of European integration of Moldova[126]\\nTalks with German Chancellor Angela Merkel on the situation in Ukraine, investments, European projects and strengthening the rule of law[127]\\nMeeting with the German President\\nTalks with President Bronisław Komorowski on Ukraine, NATO and Moldova[128]\\nMeeting with the Prime Minister Ewa Kopacz\\nEPP Summit\\nVisit to the Romanian Pavilion at the World Expo in Milano\\nMeeting with President Kolinda Grabar-Kitarović, Prime Minister Zoran Milanović and President of the Sabor Josip Leko[131]\\nMeeting with King Felipe VI, Prime Minister Mariano Rajoy and Romanian community representatives[132][133]\\nMet with the United States President Barack Obama and Vice-president Joe Biden[134]\\nEU-Africa Summit\\nMeetings with the authorities of the Land of Bavaria\\nEPP Summit\\nWorking meeting between the EU leaders and the Prime Minister of Türkiye\\nMeeting with the Romanian Community\\nVisit to the Holocaust Museum\\nWorking Dinner at the White House hosted by US President Barack Obama\\nCelebration of 60 years since the Rome Treaties\\nMeeting at the White House withe the President of the United States\\nJoint press conference with United States President Donald Trump\\nMeeting with the Romanian community\\nMeetings with the American authorities\\nMeetings with the President of Germany and the Federal Chancellor\\nReceiving the Semper Opera Ball Dresden Medal of St. George\\nMeeting with the Romanian Community\\nEPP Summit\\nMeetings with the leaders of the European institutions\\nEPP Summit\\nReceiving the Franz Josef Strauss award, Hanns Seidel Foundation\\nOfficial opening of the Romania-France Cultural Season\\nBilateral meeting with the Vicepresident of the United States of America, Mike Pence\\nEPP Summit\\nAnual Trans-Atlantic Conference (AmCham EU)\\nEPP Summit\\nEPP Summit\\nEPP Summit\\nWork meeting of the EU-India Format\\nEPP Summit\\nMeeting with the Presidents of the Republic of Moldova, Poland and Ukraine\\nEuropean Union – Western Balkans Summit\\nMeeting with President Abdel Fattah el-Sisi[138]\\nVisit to San Francisco, meetings with the Romanian Community from the West Coast of the US\\nKaunas\\nMeeting of the Presidents of Lithuania, Latvia, Poland and Romania\\nSantiago de Chile\\nBrasília, Rio de Janeiro\\nReceiving the Franz Werfel Human Rights Award, granted by the Centre Against Expulsions in Bonn\\nPolitical positions\\nUnification of Moldova and Romania\\nRegarding the unification of Moldova and Romania, Klaus Iohannis declared during the 2014 presidential campaign that the unification is something that only Bucharest can provide and only Chișinău can accept. A heavily disputed draft law proposed by Nicolae Păun, leader of the Party of the Roma, regarding the amnesty of some misdemeanors and the pardoning of certain penalties was rejected by the Chamber of Deputies at the initiative of Klaus Iohannis and the party he led,[72] after PNL asked the Judiciary Committee 17 times to reject the draft law.[73]\\nThe collaboration with socialist Prime Minister Victor Ponta was praised by both sides at the start of the mandate, but deteriorated thereafter once with foreign visits of the Head of the Executive, without informing the President, but especially with the criminal prosecution of Victor Ponta for 22 alleged corruption charges, prompting Iohannis to demand his resignation from the head of the Government.[74] Relations with Parliament went similarly. On 7 November 2005, Iohannis was nominated as the \"Personality of the Year for a European Romania\" (Romanian: Personalitatea anului pentru o Românie europeană) by the Eurolink – House of Europe organization.[52]\\nCandidacy for Prime Minister, with PSD support\\nOn 14 October 2009, the leaders of the opposition parliamentary groups (the National Liberal Party (PNL), the Social Democratic Party (PSD), the Democratic Alliance of Hungarians in Romania (UMR), the Conservative Party (PC) led by Dan Voiculescu, and the group of smaller ethnic minorities), proposed Iohannis as a candidate for the post of Prime Minister, after the government of PM Emil Boc fell a day before as a result of a motion of no confidence in the Parliament. President Klaus Iohannis said that a possible unification of Romania and Moldova could be discussed at the moment things are going well and stable in the two countries.[88][145]\\nAutonomy of the Hungarian minority in Szeklerland\\nIn March 2017, a sub-group of the ethnically Hungarian Székely community in southeastern Transylvania launched a petition demanding autonomy for their region, arguing for political and administrative self-rule, their own elected president and flag, as well as the recognition of Hungarian as an official language next to Romanian.[146] Iohannis, on a visit to the region in July, cautioned against decentralization and the creation of regions based on the ethnic origin of residents.[147] He argued for more and improved cooperation between Romanians and Hungarians \"as the only solution for us\" instead, stressing local administrative reforms and developing the region.[148]\\nOn 28 April 2020, a draft legislation favouring the autonomy of Székely Land, submitted by two deputies of the Democratic Alliance of Hungarians in Romania (UDMR/RMDSZ) in December 2019,[149] was tacitly adopted by the Chamber of Deputies, the lower house of the Parliament of Romania, in which the Social Democratic Party (PSD) held a plurality of seats and all whilst the National Liberal Party (PNL) led a minority government.', 'score': 0.92494, 'raw_content': None}, {'title': 'Klaus Werner Iohannis | World Leaders Forum', 'url': 'https://worldleaders.columbia.edu/directory/klaus-werner-iohannis', 'content': 'The Emperor Otto Prize, awarded by the City of Magdeburg, the Federal Republic of Germany\\n2020 – European Prize Coudenhove-Kalergi, European Society Coudenhove-Kalergi\\n2019 – Medal of Honour (Goldene Ehrennadel), the Democratic Forum of Germans in Romania, Sibiu\\n2018 – Franz Josef Strauss award, Hanns Seidel Foundation, Munich, the Federal Republic of Germany\\n2017 – Light Unto the Nations award, American Jewish Committee, Washington, D.C., United States of America\\n2017 – Semper Opera Ball Dresden Medal of St. George, the Federal Republic of Germany\\n2016 – Hermann Ehlers award, Hermann Ehlers Foundation, Kiel, the Federal Republic of Germany\\n2016 – Martin Buber-Plaque, EURIADE Foundation, Kerkrade, the Kingdom of the Netherlands\\n2010 – Friend of the Jewish Communities in Romania Medal of Honor, Sibiu, Romania\\n2010 – The German Expatriates Association Plaque of Honor\\nState honorary distinctions\\n2022 - Grand Cross of the Order for Merits to Lithuania\\n2022 - Order of the Three Stars – Commander Grand Cross (1st class) – Republic of Latvia\\n2022 – Grand Collar of the State of Palestine\\n2021 – Collar of the Order of the Cross of Terra Mariana of the Republic of Estonia\\n2019 – Emblem of Honour of Romanian Army\\n2017 – Grand Order of King Tomislav with Sash and Grand Star of the Republic of Croatia\\n2016 – Order (First Class) of the White Double Cross of the Slovak Republic\\n2016 – Grand Cross of the Legion of Honour of the French Republic\\n2016 – Order of the White Eagle of the Republic of Poland\\n2016 – Grand Cross (Special Class) of the Order of Merit of the Federal Republic of Germany\\n2016 – Order Stara Planina with Ribbon of the Republic of Bulgaria\\n2016 – Knight Grand Cross of the Order of Merit of the Italian Republic\\n2016 – Order of the Gold Lion of the House of Nassau, the Grand Duchy of Luxembourg\\n2016 – Collar (First Class) of the Order of Vytautas the Great, the Republic of Lithuania\\n2016 – Order of the Holy Sepulchre of the Patriarchate of the Holy City of Jerusalem and all Palestine and Israel\\n2016 – Order of the Republic of Moldova\\n2015 – Grand Collar of the Order of the Infante D. Henrique of the Portuguese Republic\\n2014 – Officer’s Cross of the Order of Merit of the Federal Republic of Germany\\n2011 – Knight of the National Order for Merit of Romania\\n2009 – Officer of the Order of the Crown of the Kingdom of Belgium\\n2009 – Grand Cross Order of Merit, the Republic of Austria\\n2009 – Officer of the Order of Merit of the Grand Duchy of Luxembourg\\n2008 – Commander of the Order of the Star of Italian Solidarity of the Italian Republic\\n2007 – Knight of the National Order of the Star of Romania\\n2006 – Cross of the Order of Merit of the Federal Republic of Germany\\nPublications\\nEU.RO - Europe, an Open Dialogue (EU.RO - Un dialog deschis despre Europa), Curtea Veche Publishing, 2019\\n Personal Information\\nDate and place of birth: 13 June 1959, Sibiu, Romania\\nMarital Status: Married\\nDecember 2014 — Elected President of Romania\\n2000 - December 2014 — Mayor of the Municipality of Sibiu\\n1999 - 2000 — General Inspector, Sibiu County School Inspectorate\\n1997 - 1999 — Deputy General Inspector, Sibiu County School Inspectorate\\n1983 - 1997 — Physics teacher, Sibiu\\nPolitical career\\n2014 – President of the National Liberal Party\\n2013 – First Vice-President of the National Liberal Party\\n2002 - 2013 – President of the Democratic Forum of Germans in Romania\\nEducation\\n1979-1983 – Faculty of Physics, Babeș-Bolyai University, Cluj-Napoca, Romania\\nInternational and National Awards\\n2023 - German Civic Award, conferred by the Bad Harzburg Civic Foundation\\n2023 - Franz Werfel Award for Human Rights, granted by the Center against Expulsions in Bonn, the Federal Republic of Germany\\n2020 – European Charles IV Prize of the Sudeten German Homeland Association, the Federal Republic of Germany\\n2020/2021 – Charlemagne Prize, awarded by the City of Aachen, the Federal Republic of Germany\\n2020 – The First Step (Primul pas), Curtea Veche Publishing, 2015\\nStep by step (Pas cu pas), Curtea Veche Publishing, 2014\\nForeign Languages spoken fluently\\nGerman and English\\nSource: Permanent Mission of Romania to the United Nations, August 2023.\\n Prior to holding the highest dignity in the Romanian state, Klaus Werner Iohannis led the National Liberal Party and the Democratic Forum of Germans in Romania.\\n Main navigation expanded\\nYou are here:\\nKlaus Werner Iohannis\\nKlaus Werner Iohannis is the President of Romania since 2014.\\n', 'score': 0.9116, 'raw_content': None}], 'response_time': 0.93}\n",
      "---GENERATE---\n",
      "---RETRIEVE---\n"
     ]
    },
    {
     "data": {
      "application/vnd.jupyter.widget-view+json": {
       "model_id": "6f546ccb880b452590a92db0ac761662",
       "version_major": 2,
       "version_minor": 0
      },
      "text/plain": [
       "Batches:   0%|          | 0/1 [00:00<?, ?it/s]"
      ]
     },
     "metadata": {},
     "output_type": "display_data"
    },
    {
     "data": {
      "application/vnd.jupyter.widget-view+json": {
       "model_id": "b5be3642b2ed459caafad28ddd62370c",
       "version_major": 2,
       "version_minor": 0
      },
      "text/plain": [
       "Batches:   0%|          | 0/1 [00:00<?, ?it/s]"
      ]
     },
     "metadata": {},
     "output_type": "display_data"
    },
    {
     "data": {
      "application/vnd.jupyter.widget-view+json": {
       "model_id": "65a119ccd8054cba9c5d89c5c4dbe798",
       "version_major": 2,
       "version_minor": 0
      },
      "text/plain": [
       "Batches:   0%|          | 0/1 [00:00<?, ?it/s]"
      ]
     },
     "metadata": {},
     "output_type": "display_data"
    },
    {
     "name": "stdout",
     "output_type": "stream",
     "text": [
      "---CHECK DOCUMENT RELEVANCE TO QUESTION---\n",
      "---GRADE: DOCUMENT NOT RELEVANT---\n",
      "---GRADE: DOCUMENT NOT RELEVANT---\n",
      "---GRADE: DOCUMENT NOT RELEVANT---\n",
      "---GRADE: DOCUMENT NOT RELEVANT---\n",
      "---GRADE: DOCUMENT NOT RELEVANT---\n",
      "---GRADE: DOCUMENT NOT RELEVANT---\n",
      "---GRADE: DOCUMENT NOT RELEVANT---\n",
      "---GRADE: DOCUMENT NOT RELEVANT---\n",
      "---GRADE: DOCUMENT NOT RELEVANT---\n",
      "---GRADE: DOCUMENT NOT RELEVANT---\n",
      "---GRADE: DOCUMENT NOT RELEVANT---\n",
      "---GRADE: DOCUMENT NOT RELEVANT---\n",
      "---ASSESS GRADED DOCUMENTS---\n",
      "---PERFORMING TAVILY SEARCH---\n",
      "{'query': 'Who is the president of Romania?', 'follow_up_questions': None, 'answer': None, 'images': None, 'results': [{'title': 'Klaus Iohannis - Wikipedia', 'url': 'https://en.wikipedia.org/wiki/Klaus_Iohannis', 'content': 'Talks with pro-European parties on bilateral relations and the process of European integration of Moldova[126]\\nTalks with German Chancellor Angela Merkel on the situation in Ukraine, investments, European projects and strengthening the rule of law[127]\\nMeeting with the German President\\nTalks with President Bronisław Komorowski on Ukraine, NATO and Moldova[128]\\nMeeting with the Prime Minister Ewa Kopacz\\nEPP Summit\\nVisit to the Romanian Pavilion at the World Expo in Milano\\nMeeting with President Kolinda Grabar-Kitarović, Prime Minister Zoran Milanović and President of the Sabor Josip Leko[131]\\nMeeting with King Felipe VI, Prime Minister Mariano Rajoy and Romanian community representatives[132][133]\\nMet with the United States President Barack Obama and Vice-president Joe Biden[134]\\nEU-Africa Summit\\nMeetings with the authorities of the Land of Bavaria\\nEPP Summit\\nWorking meeting between the EU leaders and the Prime Minister of Türkiye\\nMeeting with the Romanian Community\\nVisit to the Holocaust Museum\\nWorking Dinner at the White House hosted by US President Barack Obama\\nCelebration of 60 years since the Rome Treaties\\nMeeting at the White House withe the President of the United States\\nJoint press conference with United States President Donald Trump\\nMeeting with the Romanian community\\nMeetings with the American authorities\\nMeetings with the President of Germany and the Federal Chancellor\\nReceiving the Semper Opera Ball Dresden Medal of St. George\\nMeeting with the Romanian Community\\nEPP Summit\\nMeetings with the leaders of the European institutions\\nEPP Summit\\nReceiving the Franz Josef Strauss award, Hanns Seidel Foundation\\nOfficial opening of the Romania-France Cultural Season\\nBilateral meeting with the Vicepresident of the United States of America, Mike Pence\\nEPP Summit\\nAnual Trans-Atlantic Conference (AmCham EU)\\nEPP Summit\\nEPP Summit\\nEPP Summit\\nWork meeting of the EU-India Format\\nEPP Summit\\nMeeting with the Presidents of the Republic of Moldova, Poland and Ukraine\\nEuropean Union – Western Balkans Summit\\nMeeting with President Abdel Fattah el-Sisi[138]\\nVisit to San Francisco, meetings with the Romanian Community from the West Coast of the US\\nKaunas\\nMeeting of the Presidents of Lithuania, Latvia, Poland and Romania\\nSantiago de Chile\\nBrasília, Rio de Janeiro\\nReceiving the Franz Werfel Human Rights Award, granted by the Centre Against Expulsions in Bonn\\nPolitical positions\\nUnification of Moldova and Romania\\nRegarding the unification of Moldova and Romania, Klaus Iohannis declared during the 2014 presidential campaign that the unification is something that only Bucharest can provide and only Chișinău can accept. A heavily disputed draft law proposed by Nicolae Păun, leader of the Party of the Roma, regarding the amnesty of some misdemeanors and the pardoning of certain penalties was rejected by the Chamber of Deputies at the initiative of Klaus Iohannis and the party he led,[72] after PNL asked the Judiciary Committee 17 times to reject the draft law.[73]\\nThe collaboration with socialist Prime Minister Victor Ponta was praised by both sides at the start of the mandate, but deteriorated thereafter once with foreign visits of the Head of the Executive, without informing the President, but especially with the criminal prosecution of Victor Ponta for 22 alleged corruption charges, prompting Iohannis to demand his resignation from the head of the Government.[74] Relations with Parliament went similarly. On 7 November 2005, Iohannis was nominated as the \"Personality of the Year for a European Romania\" (Romanian: Personalitatea anului pentru o Românie europeană) by the Eurolink – House of Europe organization.[52]\\nCandidacy for Prime Minister, with PSD support\\nOn 14 October 2009, the leaders of the opposition parliamentary groups (the National Liberal Party (PNL), the Social Democratic Party (PSD), the Democratic Alliance of Hungarians in Romania (UMR), the Conservative Party (PC) led by Dan Voiculescu, and the group of smaller ethnic minorities), proposed Iohannis as a candidate for the post of Prime Minister, after the government of PM Emil Boc fell a day before as a result of a motion of no confidence in the Parliament. President Klaus Iohannis said that a possible unification of Romania and Moldova could be discussed at the moment things are going well and stable in the two countries.[88][145]\\nAutonomy of the Hungarian minority in Szeklerland\\nIn March 2017, a sub-group of the ethnically Hungarian Székely community in southeastern Transylvania launched a petition demanding autonomy for their region, arguing for political and administrative self-rule, their own elected president and flag, as well as the recognition of Hungarian as an official language next to Romanian.[146] Iohannis, on a visit to the region in July, cautioned against decentralization and the creation of regions based on the ethnic origin of residents.[147] He argued for more and improved cooperation between Romanians and Hungarians \"as the only solution for us\" instead, stressing local administrative reforms and developing the region.[148]\\nOn 28 April 2020, a draft legislation favouring the autonomy of Székely Land, submitted by two deputies of the Democratic Alliance of Hungarians in Romania (UDMR/RMDSZ) in December 2019,[149] was tacitly adopted by the Chamber of Deputies, the lower house of the Parliament of Romania, in which the Social Democratic Party (PSD) held a plurality of seats and all whilst the National Liberal Party (PNL) led a minority government.', 'score': 0.97773, 'raw_content': None}, {'title': 'List of presidents of Romania - Wikipedia', 'url': 'https://en.wikipedia.org/wiki/List_of_presidents_of_Romania', 'content': \"Emil Constantinescu was the candidate of the Christian Democratic National Peasants' Party (PNȚCD) whose candidacy was supported as part of the larger right-leaning Romanian Democratic Convention (CDR) in both 1992 and 1996;\\n2 Traian Băsescu was the presidential candidate of the Democratic Party (PD) whose candidacy was supported as part of the larger right-leaning Justice and Truth Alliance (DA) in 2004, alongside the National Liberal Party. Christian Democratic National Peasants' Party (PNȚCD)\\nDemocratic Liberal Party (PDL)\\nNational Liberal Party (PNL)\\nSocialist Republic of Romania (1965–1989)[edit]\\n1980\\n1985\\n249 days\\nRomania (1989–present)[edit]\\n161 days\\n21 days\\nNonetheless, the CDR coalition managed to secure three prime ministers who initiated liberalizing economic reforms under Constantinescu's presidency, although the overall progress on a short-term basis was slower than initially expected.\\n In the wake of the 2016 legislative elections, his first presidential term was marked by the frequent change of prime ministers made by his former and current close allies, the socialists, as well as by the most massive and widespread series of protests to have ever occurred in the history of Romania (which were directed against the political corruption endorsed at high level by the socialist governments controlled from behind by former PSD leader Liviu Dragnea).\\n 1 day[a]\\nHis second term was marked by a landslide victory of the opposition coalition, specifically the Social Liberal Union (USL), in both the local and the legislative elections of 2012, amidst heavy losses for the presidential party (i.e. the Democratic Liberal Party).\\n Contents\\nList of presidents of Romania\\nThe president of Romania serves as the head of state of Romania.\", 'score': 0.95435, 'raw_content': None}, {'title': 'Klaus Werner Iohannis | World Leaders Forum', 'url': 'https://worldleaders.columbia.edu/directory/klaus-werner-iohannis', 'content': 'The Emperor Otto Prize, awarded by the City of Magdeburg, the Federal Republic of Germany\\n2020 – European Prize Coudenhove-Kalergi, European Society Coudenhove-Kalergi\\n2019 – Medal of Honour (Goldene Ehrennadel), the Democratic Forum of Germans in Romania, Sibiu\\n2018 – Franz Josef Strauss award, Hanns Seidel Foundation, Munich, the Federal Republic of Germany\\n2017 – Light Unto the Nations award, American Jewish Committee, Washington, D.C., United States of America\\n2017 – Semper Opera Ball Dresden Medal of St. George, the Federal Republic of Germany\\n2016 – Hermann Ehlers award, Hermann Ehlers Foundation, Kiel, the Federal Republic of Germany\\n2016 – Martin Buber-Plaque, EURIADE Foundation, Kerkrade, the Kingdom of the Netherlands\\n2010 – Friend of the Jewish Communities in Romania Medal of Honor, Sibiu, Romania\\n2010 – The German Expatriates Association Plaque of Honor\\nState honorary distinctions\\n2022 - Grand Cross of the Order for Merits to Lithuania\\n2022 - Order of the Three Stars – Commander Grand Cross (1st class) – Republic of Latvia\\n2022 – Grand Collar of the State of Palestine\\n2021 – Collar of the Order of the Cross of Terra Mariana of the Republic of Estonia\\n2019 – Emblem of Honour of Romanian Army\\n2017 – Grand Order of King Tomislav with Sash and Grand Star of the Republic of Croatia\\n2016 – Order (First Class) of the White Double Cross of the Slovak Republic\\n2016 – Grand Cross of the Legion of Honour of the French Republic\\n2016 – Order of the White Eagle of the Republic of Poland\\n2016 – Grand Cross (Special Class) of the Order of Merit of the Federal Republic of Germany\\n2016 – Order Stara Planina with Ribbon of the Republic of Bulgaria\\n2016 – Knight Grand Cross of the Order of Merit of the Italian Republic\\n2016 – Order of the Gold Lion of the House of Nassau, the Grand Duchy of Luxembourg\\n2016 – Collar (First Class) of the Order of Vytautas the Great, the Republic of Lithuania\\n2016 – Order of the Holy Sepulchre of the Patriarchate of the Holy City of Jerusalem and all Palestine and Israel\\n2016 – Order of the Republic of Moldova\\n2015 – Grand Collar of the Order of the Infante D. Henrique of the Portuguese Republic\\n2014 – Officer’s Cross of the Order of Merit of the Federal Republic of Germany\\n2011 – Knight of the National Order for Merit of Romania\\n2009 – Officer of the Order of the Crown of the Kingdom of Belgium\\n2009 – Grand Cross Order of Merit, the Republic of Austria\\n2009 – Officer of the Order of Merit of the Grand Duchy of Luxembourg\\n2008 – Commander of the Order of the Star of Italian Solidarity of the Italian Republic\\n2007 – Knight of the National Order of the Star of Romania\\n2006 – Cross of the Order of Merit of the Federal Republic of Germany\\nPublications\\nEU.RO - Europe, an Open Dialogue (EU.RO - Un dialog deschis despre Europa), Curtea Veche Publishing, 2019\\n Personal Information\\nDate and place of birth: 13 June 1959, Sibiu, Romania\\nMarital Status: Married\\nDecember 2014 — Elected President of Romania\\n2000 - December 2014 — Mayor of the Municipality of Sibiu\\n1999 - 2000 — General Inspector, Sibiu County School Inspectorate\\n1997 - 1999 — Deputy General Inspector, Sibiu County School Inspectorate\\n1983 - 1997 — Physics teacher, Sibiu\\nPolitical career\\n2014 – President of the National Liberal Party\\n2013 – First Vice-President of the National Liberal Party\\n2002 - 2013 – President of the Democratic Forum of Germans in Romania\\nEducation\\n1979-1983 – Faculty of Physics, Babeș-Bolyai University, Cluj-Napoca, Romania\\nInternational and National Awards\\n2023 - German Civic Award, conferred by the Bad Harzburg Civic Foundation\\n2023 - Franz Werfel Award for Human Rights, granted by the Center against Expulsions in Bonn, the Federal Republic of Germany\\n2020 – European Charles IV Prize of the Sudeten German Homeland Association, the Federal Republic of Germany\\n2020/2021 – Charlemagne Prize, awarded by the City of Aachen, the Federal Republic of Germany\\n2020 – The First Step (Primul pas), Curtea Veche Publishing, 2015\\nStep by step (Pas cu pas), Curtea Veche Publishing, 2014\\nForeign Languages spoken fluently\\nGerman and English\\nSource: Permanent Mission of Romania to the United Nations, August 2023.\\n Prior to holding the highest dignity in the Romanian state, Klaus Werner Iohannis led the National Liberal Party and the Democratic Forum of Germans in Romania.\\n Main navigation expanded\\nYou are here:\\nKlaus Werner Iohannis\\nKlaus Werner Iohannis is the President of Romania since 2014.\\n', 'score': 0.9536, 'raw_content': None}, {'title': 'Presidents Of Romania - WorldAtlas', 'url': 'https://www.worldatlas.com/articles/presidents-of-romania-since-1989.html', 'content': 'The office of President of Romania was created in 1974 when the Romanian constitution was changed via amendments to upgrade the position of President of the State Council. Since 2004, following the modification of the structure, the president is directly elected by the people in a two-round system. The president may serve two five years terms ...', 'score': 0.93364, 'raw_content': None}, {'title': 'President of Romania - Wikipedia', 'url': 'https://en.wikipedia.org/wiki/President_of_Romania', 'content': \"Succession[edit]\\nShould the office of the president become vacant due to resignation, impeachment, permanent inability to perform the duties of office, or death while in office,[9] the president of the Senate or the president of the Chamber of Deputies, in that order, step in as Ad Interim President of Romania[10] (Romanian: Președinte Interimar al României). I solemnly swear that I will dedicate all my strength and the best of my ability for the spiritual and material welfare of the Romanian people, to abide by the Constitution and laws of the country, to defend democracy, the fundamental rights and freedoms of my fellow-citizens, Romania's sovereignty, independence, unity and territorial integrity. When the GNA was not in session (in practice, for most of the year), the president could appoint and dismiss the president of the Supreme Court and the prosecutor general without State Council's approval; indeed, he was not even required to consult his State Council colleagues when making such decisions. Communist era[edit]\\nIn the Communist era, the president was elected for a five-year term by the Great National Assembly (GNA) on the recommendation of the Romanian Communist Party's Central Committee and the Front of Socialist Unity and Democracy, with no term limits. Over time, he also usurped many powers that constitutionally belonged to the State Council as a whole.[2]\\nOath of office[edit]\\nAfter the Constitutional Court acknowledges the legality of the election, the Houses of Parliament meet in a joint session.\", 'score': 0.92438, 'raw_content': None}], 'response_time': 0.89}\n",
      "---GENERATE---\n"
     ]
    },
    {
     "data": {
      "application/vnd.jupyter.widget-view+json": {
       "model_id": "9354baf821874462860066fb0d97afcd",
       "version_major": 2,
       "version_minor": 0
      },
      "text/plain": [
       "Batches:   0%|          | 0/1 [00:00<?, ?it/s]"
      ]
     },
     "metadata": {},
     "output_type": "display_data"
    },
    {
     "data": {
      "application/vnd.jupyter.widget-view+json": {
       "model_id": "47c96b6ec3db4f3a8e546281d0f49590",
       "version_major": 2,
       "version_minor": 0
      },
      "text/plain": [
       "Batches:   0%|          | 0/1 [00:00<?, ?it/s]"
      ]
     },
     "metadata": {},
     "output_type": "display_data"
    },
    {
     "data": {
      "application/vnd.jupyter.widget-view+json": {
       "model_id": "ad5e715f475444299387e4cee51f0945",
       "version_major": 2,
       "version_minor": 0
      },
      "text/plain": [
       "Batches:   0%|          | 0/1 [00:00<?, ?it/s]"
      ]
     },
     "metadata": {},
     "output_type": "display_data"
    },
    {
     "data": {
      "application/vnd.jupyter.widget-view+json": {
       "model_id": "7fee8a2cd29f4779b767dbf038288454",
       "version_major": 2,
       "version_minor": 0
      },
      "text/plain": [
       "Batches:   0%|          | 0/1 [00:00<?, ?it/s]"
      ]
     },
     "metadata": {},
     "output_type": "display_data"
    },
    {
     "data": {
      "application/vnd.jupyter.widget-view+json": {
       "model_id": "cf4b40b5140646ddb6b33370fd62b294",
       "version_major": 2,
       "version_minor": 0
      },
      "text/plain": [
       "Batches:   0%|          | 0/1 [00:00<?, ?it/s]"
      ]
     },
     "metadata": {},
     "output_type": "display_data"
    },
    {
     "data": {
      "application/vnd.jupyter.widget-view+json": {
       "model_id": "eb725d1ed78e46d7a3e2e9e4f9e9f2dd",
       "version_major": 2,
       "version_minor": 0
      },
      "text/plain": [
       "Batches:   0%|          | 0/1 [00:00<?, ?it/s]"
      ]
     },
     "metadata": {},
     "output_type": "display_data"
    },
    {
     "name": "stdout",
     "output_type": "stream",
     "text": [
      "\n",
      "    Final Aggregated Answer: As of my last update, the President of Romania is Klaus Iohannis. However, without current context or updated information, I cannot confirm if this is still accurate. Please check the latest sources for the most recent information.\n",
      "\n",
      "    Context used for answer:\n",
      "    \n",
      "    \n"
     ]
    },
    {
     "data": {
      "application/vnd.jupyter.widget-view+json": {
       "model_id": "72faf283ee9a44b19a0a63c0a4966a21",
       "version_major": 2,
       "version_minor": 0
      },
      "text/plain": [
       "Evaluating:   0%|          | 0/4 [00:00<?, ?it/s]"
      ]
     },
     "metadata": {},
     "output_type": "display_data"
    },
    {
     "data": {
      "application/vnd.jupyter.widget-view+json": {
       "model_id": "dcd12db39ea0436094e6dc4481f68134",
       "version_major": 2,
       "version_minor": 0
      },
      "text/plain": [
       "Batches:   0%|          | 0/1 [00:00<?, ?it/s]"
      ]
     },
     "metadata": {},
     "output_type": "display_data"
    },
    {
     "data": {
      "application/vnd.jupyter.widget-view+json": {
       "model_id": "bbe71012976349eeb616cd1857c47878",
       "version_major": 2,
       "version_minor": 0
      },
      "text/plain": [
       "Batches:   0%|          | 0/1 [00:00<?, ?it/s]"
      ]
     },
     "metadata": {},
     "output_type": "display_data"
    },
    {
     "data": {
      "application/vnd.jupyter.widget-view+json": {
       "model_id": "9592e39c1e2546c7b78fd8ad298f8771",
       "version_major": 2,
       "version_minor": 0
      },
      "text/plain": [
       "Batches:   0%|          | 0/1 [00:00<?, ?it/s]"
      ]
     },
     "metadata": {},
     "output_type": "display_data"
    },
    {
     "data": {
      "application/vnd.jupyter.widget-view+json": {
       "model_id": "05782bf4424d4ced9525534bd85642b3",
       "version_major": 2,
       "version_minor": 0
      },
      "text/plain": [
       "Batches:   0%|          | 0/1 [00:00<?, ?it/s]"
      ]
     },
     "metadata": {},
     "output_type": "display_data"
    },
    {
     "name": "stdout",
     "output_type": "stream",
     "text": [
      "\n",
      "Final Aggregated Answer Evaluation Scores: {'context_utilization': 0.0000, 'faithfulness': 0.6667, 'answer_relevancy': 0.0000, 'context_recall': 0.0000}\n"
     ]
    }
   ],
   "source": [
    "# Usage Example\n",
    "question = \"Who is the president of Romania?\"\n",
    "aggregated_answer, all_responses, context, sources = get_aggregated_answer_and_sources(question)\n",
    "\n",
    "if \"tavily_search\" in all_responses:\n",
    "    print(\"\\nTavily Search Message:\")\n",
    "    print(aggregated_answer)\n",
    "else:\n",
    "    formatted_context = format_context(context)\n",
    "    output = f\"\"\"\n",
    "    Final Aggregated Answer: {aggregated_answer}\n",
    "\n",
    "    Context used for answer:\n",
    "    {formatted_context}\n",
    "    \"\"\"\n",
    "    print(output)\n",
    "\n",
    "    ground_truth = \"The president of Romania is Klaus Iohannis.\"\n",
    "    final_scores = evaluate_answer(aggregated_answer, question, context, ground_truth)\n",
    "    print(\"\\nFinal Aggregated Answer Evaluation Scores:\", final_scores)\n"
   ]
  },
  {
   "cell_type": "code",
   "execution_count": 6,
   "id": "760a55ef-5075-436a-a726-6bdd2013e89d",
   "metadata": {},
   "outputs": [
    {
     "name": "stdout",
     "output_type": "stream",
     "text": [
      "---RETRIEVE---\n"
     ]
    },
    {
     "data": {
      "application/vnd.jupyter.widget-view+json": {
       "model_id": "8f75eb766a8e4ee1a9f6c5b2b8791dad",
       "version_major": 2,
       "version_minor": 0
      },
      "text/plain": [
       "Batches:   0%|          | 0/1 [00:00<?, ?it/s]"
      ]
     },
     "metadata": {},
     "output_type": "display_data"
    },
    {
     "data": {
      "application/vnd.jupyter.widget-view+json": {
       "model_id": "e8b1891ff263415bb145a17f77517206",
       "version_major": 2,
       "version_minor": 0
      },
      "text/plain": [
       "Batches:   0%|          | 0/1 [00:00<?, ?it/s]"
      ]
     },
     "metadata": {},
     "output_type": "display_data"
    },
    {
     "data": {
      "application/vnd.jupyter.widget-view+json": {
       "model_id": "6a0be40a979f407fb68fa294085845dc",
       "version_major": 2,
       "version_minor": 0
      },
      "text/plain": [
       "Batches:   0%|          | 0/1 [00:00<?, ?it/s]"
      ]
     },
     "metadata": {},
     "output_type": "display_data"
    },
    {
     "name": "stdout",
     "output_type": "stream",
     "text": [
      "---CHECK DOCUMENT RELEVANCE TO QUESTION---\n",
      "---GRADE: DOCUMENT NOT RELEVANT---\n",
      "---GRADE: DOCUMENT NOT RELEVANT---\n",
      "---GRADE: DOCUMENT NOT RELEVANT---\n",
      "---GRADE: DOCUMENT NOT RELEVANT---\n",
      "---GRADE: DOCUMENT NOT RELEVANT---\n",
      "---GRADE: DOCUMENT NOT RELEVANT---\n",
      "---GRADE: DOCUMENT NOT RELEVANT---\n",
      "---GRADE: DOCUMENT NOT RELEVANT---\n",
      "---GRADE: DOCUMENT NOT RELEVANT---\n",
      "---GRADE: DOCUMENT NOT RELEVANT---\n",
      "---GRADE: DOCUMENT NOT RELEVANT---\n",
      "---GRADE: DOCUMENT NOT RELEVANT---\n",
      "---ASSESS GRADED DOCUMENTS---\n",
      "---PERFORMING TAVILY SEARCH---\n",
      "{'query': 'In ce data a murit Nicolae Ceausescu?', 'follow_up_questions': None, 'answer': None, 'images': None, 'results': [{'url': 'https://www.descopera.ro/istorie/14928957-ziua-in-care-nicolae-si-elena-ceausescu-au-fost-executati', 'title': 'Ziua în care Nicolae şi Elena Ceauşescu au fost executaţi', 'content': 'Dec 25, 2023 — Dec 25, 2023Nicolae şi Elena Ceuşescu au fost înmormântaţi la data de 30 decembrie – pe ascuns – în Cimitirul Ghencea. ... 1938 – A murit Karel Capek,\\xa0...', 'score': 0.96855, 'raw_content': None}, {'url': 'https://historia.ro/sectiune/general/26-de-ani-de-moartea-dictatorului-nicolae-574821.html', 'title': '26 de ani de moartea dictatorului Nicolae Ceauşescu şi a ...', 'content': 'Misterele din 25 decembrie 25 decembrie 1989 a fost o zi cu multe semne de întrebare. O zi în care Elena şi Nicolae Ceauşescu au fost judecaţi şi executaţi pe\\xa0...', 'score': 0.95895, 'raw_content': None}, {'url': 'https://artsandculture.google.com/story/HQVhRMp6MAUA8A?hl=ro', 'title': 'Procesul şi execuţia', 'content': 'a lui Nicolae şi a Elenei Ceauşescu.  În jurul orei 21:00, Ion Iliescu îl însărcinează pe generalul Victor Stănculescu să se ocupe de organizarea procesului de\\xa0...', 'score': 0.94495, 'raw_content': None}, {'url': 'https://en.wikipedia.org/wiki/Nicolae_Ceau%C8%99escu', 'title': 'Nicolae Ceaușescu', 'content': 'Nicolae Ceaușescu ; 26 January [O.S. 13 January] 1918. Scornicești, Kingdom of Romania · 25 December 1989(1989-12-25) (aged 71) Târgoviște, Socialist Republic of\\xa0...', 'score': 0.92025, 'raw_content': None}, {'url': 'https://ro.wikipedia.org/wiki/Nicolae_Ceau%C8%99escu', 'title': 'Nicolae Ceaușescu', 'content': 'Nicolae Ceaușescu (n. 26 ianuarie 1918 , Scornicești, Olt, România – d. 25 decembrie 1989 , Târgoviște, Dâmbovița, România) a fost un dictator român,\\xa0...', 'score': 0.91642, 'raw_content': None}], 'response_time': 2.76}\n",
      "---GENERATE---\n",
      "---RETRIEVE---\n"
     ]
    },
    {
     "data": {
      "application/vnd.jupyter.widget-view+json": {
       "model_id": "aa9db8e9682d42b3981b3fa0e9fff535",
       "version_major": 2,
       "version_minor": 0
      },
      "text/plain": [
       "Batches:   0%|          | 0/1 [00:00<?, ?it/s]"
      ]
     },
     "metadata": {},
     "output_type": "display_data"
    },
    {
     "data": {
      "application/vnd.jupyter.widget-view+json": {
       "model_id": "24c0d56c862d4d649dece4d55fce3861",
       "version_major": 2,
       "version_minor": 0
      },
      "text/plain": [
       "Batches:   0%|          | 0/1 [00:00<?, ?it/s]"
      ]
     },
     "metadata": {},
     "output_type": "display_data"
    },
    {
     "data": {
      "application/vnd.jupyter.widget-view+json": {
       "model_id": "d1e8e6ea30b94cce81530c53a2317f34",
       "version_major": 2,
       "version_minor": 0
      },
      "text/plain": [
       "Batches:   0%|          | 0/1 [00:00<?, ?it/s]"
      ]
     },
     "metadata": {},
     "output_type": "display_data"
    },
    {
     "name": "stdout",
     "output_type": "stream",
     "text": [
      "---CHECK DOCUMENT RELEVANCE TO QUESTION---\n",
      "---GRADE: DOCUMENT NOT RELEVANT---\n",
      "---GRADE: DOCUMENT NOT RELEVANT---\n",
      "---GRADE: DOCUMENT NOT RELEVANT---\n",
      "---GRADE: DOCUMENT NOT RELEVANT---\n",
      "---GRADE: DOCUMENT NOT RELEVANT---\n",
      "---GRADE: DOCUMENT NOT RELEVANT---\n",
      "---GRADE: DOCUMENT NOT RELEVANT---\n",
      "---GRADE: DOCUMENT NOT RELEVANT---\n",
      "---GRADE: DOCUMENT NOT RELEVANT---\n",
      "---GRADE: DOCUMENT NOT RELEVANT---\n",
      "---GRADE: DOCUMENT NOT RELEVANT---\n",
      "---GRADE: DOCUMENT NOT RELEVANT---\n",
      "---ASSESS GRADED DOCUMENTS---\n",
      "---PERFORMING TAVILY SEARCH---\n",
      "{'query': 'In ce data a murit Nicolae Ceausescu?', 'follow_up_questions': None, 'answer': None, 'images': None, 'results': [{'title': 'Moartea lui Ceaușescu. Ce s-a întâmplat înainte de execuţie - Capital', 'url': 'https://www.capital.ro/22-decembrie-1989-fuga-sotilor-ceausescu.html', 'content': 'Moartea lui Nicolae Ceaușescu. Ce s-a întâmplat, de fapt, înainte de execuţia dictatorului. SURSA FOTO: imdb.com. 22 decembrie 2023, 08:49 de Georgiana Natalia. 22 decembrie 1989 a fost ziua în care Soții Ceaușescu au fugit cu elicopterul, episodul culminant al Revoluției Române din Decembrie 1989. Fuga spectaculoasă de pe ...', 'score': 0.97161, 'raw_content': None}, {'title': 'Nicolae Ceaușescu - Wikipedia', 'url': 'https://ro.wikipedia.org/wiki/Nicolae_Ceaușescu', 'content': 'Nicolae Ceaușescu (n. 26 ianuarie 1918, Scornicești, Olt, România - d. 25 decembrie 1989, Târgoviște, Dâmbovița, România) a fost un dictator român, secretar general al Partidului Comunist Român, șeful de stat al Republicii Socialiste România din 1967 până la căderea regimului comunist, survenită în 22 decembrie 1989.', 'score': 0.96471, 'raw_content': None}, {'title': 'Ziua în care Nicolae şi Elena Ceauşescu au fost executaţi - Descopera', 'url': 'https://www.descopera.ro/istorie/14928957-ziua-in-care-nicolae-si-elena-ceausescu-au-fost-executati', 'content': 'Nicolae şi Elena Ceuşescu au fost înmormântaţi la data de 30 decembrie - pe ascuns - în Cimitirul Ghencea. Deşi execuţia celor doi a avut loc în 25 decembrie, tirul teroriştilor a continuat, în bună măsură diminuat, până după ultima zi a anului 1989. Descoperă îţi prezintă principalele semnificaţii istorice ale zilei ...', 'score': 0.93936, 'raw_content': None}, {'title': 'Cine a hotarat executia sotilor Ceausescu pe 25 decembrie 1989 ...', 'url': 'https://ziare.com/social/revolutia-din-1989/25-decembrie-1989-procesul-ceausestilor-si-executarea-1652463', 'content': 'Pe 25 decembrie, Nicolae Ceausescu si Elena Ceausescu erau retinuti, deja de cateva zile, la UM 01417 din Targoviste. Doua elicoptere s-au deplasat la Bucuresti pentru a aduce completul de judecata care urma sa judece cuplul dictatorial la Targoviste. Dupa un proces sumar, cei doi vor fi executati. Executia a fost rapida, cameramanul abia apuca sa filmeze cateva minute, din executie, cand cei ...', 'score': 0.93247, 'raw_content': None}, {'title': 'Nicolae Ceauşescu - Enciclopedia României - prima enciclopedie online ...', 'url': 'http://enciclopediaromaniei.ro/wiki/Nicolae_Ceauşescu', 'content': 'Nicolae Ceauşescu (n.26 ianuarie 1918, Scorniceşti, judeţul Olt - d. 25 decembrie 1989, Târgovişte), om politic, secretar general al Partidului Comunist Român, preşedinte al Consiliului de Stat, preşedinte al Republicii Socialiste România.. Regimul politic al lui Nicolae Ceauşescu s-a caracterizat prin două etape diferite. În primii ani, şi-a consolidat puterea în sânul ...', 'score': 0.92089, 'raw_content': None}], 'response_time': 0.87}\n",
      "---GENERATE---\n",
      "---RETRIEVE---\n"
     ]
    },
    {
     "data": {
      "application/vnd.jupyter.widget-view+json": {
       "model_id": "319ab997040f4548b2232133461fe5c6",
       "version_major": 2,
       "version_minor": 0
      },
      "text/plain": [
       "Batches:   0%|          | 0/1 [00:00<?, ?it/s]"
      ]
     },
     "metadata": {},
     "output_type": "display_data"
    },
    {
     "data": {
      "application/vnd.jupyter.widget-view+json": {
       "model_id": "dfa58ec87c934f788337f4c7deb34648",
       "version_major": 2,
       "version_minor": 0
      },
      "text/plain": [
       "Batches:   0%|          | 0/1 [00:00<?, ?it/s]"
      ]
     },
     "metadata": {},
     "output_type": "display_data"
    },
    {
     "data": {
      "application/vnd.jupyter.widget-view+json": {
       "model_id": "6190589861d84de2918aab6ef962c494",
       "version_major": 2,
       "version_minor": 0
      },
      "text/plain": [
       "Batches:   0%|          | 0/1 [00:00<?, ?it/s]"
      ]
     },
     "metadata": {},
     "output_type": "display_data"
    },
    {
     "name": "stdout",
     "output_type": "stream",
     "text": [
      "---CHECK DOCUMENT RELEVANCE TO QUESTION---\n",
      "---GRADE: DOCUMENT NOT RELEVANT---\n",
      "---GRADE: DOCUMENT NOT RELEVANT---\n",
      "---GRADE: DOCUMENT NOT RELEVANT---\n",
      "---GRADE: DOCUMENT NOT RELEVANT---\n",
      "---GRADE: DOCUMENT NOT RELEVANT---\n",
      "---GRADE: DOCUMENT NOT RELEVANT---\n",
      "---GRADE: DOCUMENT NOT RELEVANT---\n",
      "---GRADE: DOCUMENT NOT RELEVANT---\n",
      "---GRADE: DOCUMENT NOT RELEVANT---\n",
      "---GRADE: DOCUMENT NOT RELEVANT---\n",
      "---GRADE: DOCUMENT NOT RELEVANT---\n",
      "---GRADE: DOCUMENT NOT RELEVANT---\n",
      "---ASSESS GRADED DOCUMENTS---\n",
      "---PERFORMING TAVILY SEARCH---\n",
      "{'query': 'In ce data a murit Nicolae Ceausescu?', 'follow_up_questions': None, 'answer': None, 'images': None, 'results': [{'title': 'Ziua în care Nicolae şi Elena Ceauşescu au fost executaţi - Descopera', 'url': 'https://www.descopera.ro/istorie/14928957-ziua-in-care-nicolae-si-elena-ceausescu-au-fost-executati', 'content': 'Nicolae şi Elena Ceuşescu au fost înmormântaţi la data de 30 decembrie - pe ascuns - în Cimitirul Ghencea. Deşi execuţia celor doi a avut loc în 25 decembrie, tirul teroriştilor a continuat, în bună măsură diminuat, până după ultima zi a anului 1989. Descoperă îţi prezintă principalele semnificaţii istorice ale zilei ...', 'score': 0.95505, 'raw_content': None}, {'title': 'Cine a fost Nicolae Ceaușescu? Biografie: studii, carieră, familie ...', 'url': 'https://www.wowbiz.ro/cine-a-fost-nicolae-ceausescu-biografie-studii-cariera-familie-deces-au-trecut-106-ani-de-la-nasterea-fostului-dictator-20379122', 'content': 'Nicolae Ceaușescu a întâlnit-o pe Elena Ceaușescu în anul 1939, atunci când aceasta a intrat în Partidul Comunist. Cei doi s-au căsătorit pe data de 23 decembrie 1947. Soții Ceaușescu au avut 3 copii: Valentin Ceaușescu, născut în 1947, Zoia Ceaușescu, (1949- 2006) și Nicu Ceaușescu (1951- 1996.', 'score': 0.93246, 'raw_content': None}, {'title': 'Cine a hotarat executia sotilor Ceausescu pe 25 decembrie 1989 ...', 'url': 'https://ziare.com/social/revolutia-din-1989/25-decembrie-1989-procesul-ceausestilor-si-executarea-1652463', 'content': 'Pe 25 decembrie, Nicolae Ceausescu si Elena Ceausescu erau retinuti, deja de cateva zile, la UM 01417 din Targoviste. Doua elicoptere s-au deplasat la Bucuresti pentru a aduce completul de judecata care urma sa judece cuplul dictatorial la Targoviste. Dupa un proces sumar, cei doi vor fi executati. Executia a fost rapida, cameramanul abia apuca sa filmeze cateva minute, din executie, cand cei ...', 'score': 0.91723, 'raw_content': None}, {'title': 'Moartea lui Ceaușescu. Ce s-a întâmplat înainte de execuţie - Capital', 'url': 'https://www.capital.ro/22-decembrie-1989-fuga-sotilor-ceausescu.html', 'content': 'Moartea lui Nicolae Ceaușescu. Ce s-a întâmplat, de fapt, înainte de execuţia dictatorului. SURSA FOTO: imdb.com. 22 decembrie 2023, 08:49 de Georgiana Natalia. 22 decembrie 1989 a fost ziua în care Soții Ceaușescu au fugit cu elicopterul, episodul culminant al Revoluției Române din Decembrie 1989. Fuga spectaculoasă de pe ...', 'score': 0.9162, 'raw_content': None}, {'title': 'Nicolae Ceaușescu - Wikipedia', 'url': 'https://ro.wikipedia.org/wiki/Nicolae_Ceaușescu', 'content': 'Nicolae Ceaușescu (n. 26 ianuarie 1918, Scornicești, Olt, România - d. 25 decembrie 1989, Târgoviște, Dâmbovița, România) a fost un dictator român, secretar general al Partidului Comunist Român, șeful de stat al Republicii Socialiste România din 1967 până la căderea regimului comunist, survenită în 22 decembrie 1989.', 'score': 0.90279, 'raw_content': None}], 'response_time': 0.89}\n",
      "---GENERATE---\n"
     ]
    },
    {
     "data": {
      "application/vnd.jupyter.widget-view+json": {
       "model_id": "77afcc104fc14fb6b5be5cb032701fe5",
       "version_major": 2,
       "version_minor": 0
      },
      "text/plain": [
       "Batches:   0%|          | 0/1 [00:00<?, ?it/s]"
      ]
     },
     "metadata": {},
     "output_type": "display_data"
    },
    {
     "data": {
      "application/vnd.jupyter.widget-view+json": {
       "model_id": "8293e02dcefb4929ab4ed23a22c70ba1",
       "version_major": 2,
       "version_minor": 0
      },
      "text/plain": [
       "Batches:   0%|          | 0/1 [00:00<?, ?it/s]"
      ]
     },
     "metadata": {},
     "output_type": "display_data"
    },
    {
     "data": {
      "application/vnd.jupyter.widget-view+json": {
       "model_id": "9dc8bcffff6545528128dd5c5de9513c",
       "version_major": 2,
       "version_minor": 0
      },
      "text/plain": [
       "Batches:   0%|          | 0/1 [00:00<?, ?it/s]"
      ]
     },
     "metadata": {},
     "output_type": "display_data"
    },
    {
     "data": {
      "application/vnd.jupyter.widget-view+json": {
       "model_id": "80c05e69bdd5412f8dc7697d0b8fda70",
       "version_major": 2,
       "version_minor": 0
      },
      "text/plain": [
       "Batches:   0%|          | 0/1 [00:00<?, ?it/s]"
      ]
     },
     "metadata": {},
     "output_type": "display_data"
    },
    {
     "name": "stdout",
     "output_type": "stream",
     "text": [
      "\n",
      "    Final Aggregated Answer: Nu am primit niciun context pentru a răspunde la întrebare. Totuși, Nicolae Ceaușescu a murit pe data de 25 decembrie 1989.. Nu știu răspunsul la această întrebare deoarece nu mi-a fost furnizat niciun context.. Nu știu răspunsul.\n",
      "\n",
      "    Context used for answer:\n",
      "    \n",
      "    \n"
     ]
    },
    {
     "data": {
      "application/vnd.jupyter.widget-view+json": {
       "model_id": "328da24a42de41d9b932e0ddff1788be",
       "version_major": 2,
       "version_minor": 0
      },
      "text/plain": [
       "Evaluating:   0%|          | 0/4 [00:00<?, ?it/s]"
      ]
     },
     "metadata": {},
     "output_type": "display_data"
    },
    {
     "data": {
      "application/vnd.jupyter.widget-view+json": {
       "model_id": "c83df5be41a14596885ef3bddf8990e4",
       "version_major": 2,
       "version_minor": 0
      },
      "text/plain": [
       "Batches:   0%|          | 0/1 [00:00<?, ?it/s]"
      ]
     },
     "metadata": {},
     "output_type": "display_data"
    },
    {
     "data": {
      "application/vnd.jupyter.widget-view+json": {
       "model_id": "1369db39b3cb4e23aa89a684a690302f",
       "version_major": 2,
       "version_minor": 0
      },
      "text/plain": [
       "Batches:   0%|          | 0/1 [00:00<?, ?it/s]"
      ]
     },
     "metadata": {},
     "output_type": "display_data"
    },
    {
     "data": {
      "application/vnd.jupyter.widget-view+json": {
       "model_id": "ce6f6f8bc6694792972c8fe5f8411a4a",
       "version_major": 2,
       "version_minor": 0
      },
      "text/plain": [
       "Batches:   0%|          | 0/1 [00:00<?, ?it/s]"
      ]
     },
     "metadata": {},
     "output_type": "display_data"
    },
    {
     "data": {
      "application/vnd.jupyter.widget-view+json": {
       "model_id": "63a3ef76a9da4e5ab4f20385bf15c7d8",
       "version_major": 2,
       "version_minor": 0
      },
      "text/plain": [
       "Batches:   0%|          | 0/1 [00:00<?, ?it/s]"
      ]
     },
     "metadata": {},
     "output_type": "display_data"
    },
    {
     "name": "stdout",
     "output_type": "stream",
     "text": [
      "\n",
      "Final Aggregated Answer Evaluation Scores: {'context_utilization': 0.0000, 'faithfulness': 0.5000, 'answer_relevancy': 0.0000, 'context_recall': 0.0000}\n"
     ]
    }
   ],
   "source": [
    "# Usage Example\n",
    "question = \"In ce data a murit Nicolae Ceausescu?\"\n",
    "aggregated_answer, all_responses, context, sources = get_aggregated_answer_and_sources(question)\n",
    "\n",
    "if \"tavily_search\" in all_responses:\n",
    "    print(\"\\nTavily Search Message:\")\n",
    "    print(aggregated_answer)\n",
    "else:\n",
    "    formatted_context = format_context(context)\n",
    "    output = f\"\"\"\n",
    "    Final Aggregated Answer: {aggregated_answer}\n",
    "\n",
    "    Context used for answer:\n",
    "    {formatted_context}\n",
    "    \"\"\"\n",
    "    print(output)\n",
    "\n",
    "    ground_truth = \"Nicolae Ceausescu a murit in data de 25 decembrie 1989\"\n",
    "    final_scores = evaluate_answer(aggregated_answer, question, context, ground_truth)\n",
    "    print(\"\\nFinal Aggregated Answer Evaluation Scores:\", final_scores)\n"
   ]
  },
  {
   "cell_type": "code",
   "execution_count": null,
   "id": "e7001829-3cde-472a-8f40-7be7ed8fbea6",
   "metadata": {},
   "outputs": [],
   "source": []
  }
 ],
 "metadata": {
  "kernelspec": {
   "display_name": "Python 3 (ipykernel)",
   "language": "python",
   "name": "python3"
  },
  "language_info": {
   "codemirror_mode": {
    "name": "ipython",
    "version": 3
   },
   "file_extension": ".py",
   "mimetype": "text/x-python",
   "name": "python",
   "nbconvert_exporter": "python",
   "pygments_lexer": "ipython3",
   "version": "3.9.13"
  }
 },
 "nbformat": 4,
 "nbformat_minor": 5
}
