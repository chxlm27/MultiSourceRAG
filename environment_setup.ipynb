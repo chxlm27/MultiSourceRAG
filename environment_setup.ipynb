{
 "cells": [
  {
   "cell_type": "code",
   "execution_count": 1,
   "id": "19034940-b7d1-4935-a9b6-6c39538f8939",
   "metadata": {},
   "outputs": [],
   "source": [
    "# Notebook 1: Environment Setup and Imports\n",
    "\n",
    "import os\n",
    "from dotenv import load_dotenv, find_dotenv\n",
    "from sentence_transformers import SentenceTransformer\n",
    "from langchain.document_loaders.pdf import PyMuPDFLoader\n",
    "from langchain.text_splitter import RecursiveCharacterTextSplitter\n",
    "from langchain_experimental.text_splitter import SemanticChunker\n",
    "from langchain.chains.combine_documents import create_stuff_documents_chain  # Add this import\n",
    "\n",
    "# Load environment variables from .env file\n",
    "dotenv_path = find_dotenv()\n",
    "if not dotenv_path:\n",
    "    raise FileNotFoundError(\"Could not find .env file\")\n",
    "load_dotenv(dotenv_path)\n",
    "\n",
    "# Azure GPT-4 model parameters\n",
    "azure_api_key = os.getenv('AZURE_API_KEY')\n",
    "azure_api_version = os.getenv('AZURE_API_VERSION')\n",
    "azure_deployment = os.getenv('AZURE_DEPLOYMENT')\n",
    "azure_endpoint = os.getenv('AZURE_ENDPOINT')\n",
    "\n",
    "# Check if the environment variables are loaded correctly\n",
    "if not all([azure_api_key, azure_api_version, azure_deployment, azure_endpoint]):\n",
    "    raise ValueError(\"One or more environment variables are missing.\")\n"
   ]
  },
  {
   "cell_type": "code",
   "execution_count": null,
   "id": "1b3edec0-73e3-4092-9a52-c58a1b9958ce",
   "metadata": {},
   "outputs": [],
   "source": []
  }
 ],
 "metadata": {
  "kernelspec": {
   "display_name": "Python 3 (ipykernel)",
   "language": "python",
   "name": "python3"
  },
  "language_info": {
   "codemirror_mode": {
    "name": "ipython",
    "version": 3
   },
   "file_extension": ".py",
   "mimetype": "text/x-python",
   "name": "python",
   "nbconvert_exporter": "python",
   "pygments_lexer": "ipython3",
   "version": "3.9.13"
  }
 },
 "nbformat": 4,
 "nbformat_minor": 5
}
