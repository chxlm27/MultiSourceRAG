{
 "cells": [
  {
   "cell_type": "code",
   "execution_count": 1,
   "id": "19034940-b7d1-4935-a9b6-6c39538f8939",
   "metadata": {},
   "outputs": [
    {
     "name": "stdout",
     "output_type": "stream",
     "text": [
      "AZURE_API_KEY: d5c1ae66fe5a41fd82f61e0b9fe88470\n",
      "AZURE_API_VERSION: 2024-02-15-preview\n",
      "AZURE_DEPLOYMENT: gpt-4t\n",
      "AZURE_ENDPOINT: https://itp-azopenai-ne.openai.azure.com/\n"
     ]
    }
   ],
   "source": [
    "# environment_setup.ipynb\n",
    "\n",
    "import os\n",
    "from dotenv import load_dotenv, find_dotenv\n",
    "from sentence_transformers import SentenceTransformer\n",
    "from langchain.document_loaders.pdf import PyMuPDFLoader\n",
    "from langchain.text_splitter import RecursiveCharacterTextSplitter\n",
    "from langchain_experimental.text_splitter import SemanticChunker\n",
    "from langchain.chains.combine_documents import create_stuff_documents_chain  # Add this import\n",
    "\n",
    "# Load environment variables from .env file\n",
    "dotenv_path = find_dotenv()\n",
    "if not dotenv_path:\n",
    "    raise FileNotFoundError(\"Could not find .env file\")\n",
    "load_dotenv(dotenv_path)\n",
    "\n",
    "# Azure GPT-4 model parameters\n",
    "azure_api_key = os.getenv('AZURE_API_KEY')\n",
    "azure_api_version = os.getenv('AZURE_API_VERSION')\n",
    "azure_deployment = os.getenv('AZURE_DEPLOYMENT')\n",
    "azure_endpoint = os.getenv('AZURE_ENDPOINT')\n",
    "\n",
    "# Tavily API key\n",
    "#tavily_api_key = os.getenv('TAVILY_API_KEY')\n",
    "\n",
    "# Debugging: Print the loaded environment variables\n",
    "print(\"AZURE_API_KEY:\", azure_api_key)\n",
    "print(\"AZURE_API_VERSION:\", azure_api_version)\n",
    "print(\"AZURE_DEPLOYMENT:\", azure_deployment)\n",
    "print(\"AZURE_ENDPOINT:\", azure_endpoint)\n",
    "#print(\"TAVILY_API_KEY:\", tavily_api_key)\n",
    "\n",
    "# Check if the environment variables are loaded correctly\n",
    "if not all([azure_api_key, azure_api_version, azure_deployment, azure_endpoint]):\n",
    "    raise ValueError(\"One or more environment variables are missing.\")\n"
   ]
  },
  {
   "cell_type": "code",
   "execution_count": null,
   "id": "1b3edec0-73e3-4092-9a52-c58a1b9958ce",
   "metadata": {},
   "outputs": [],
   "source": []
  },
  {
   "cell_type": "code",
   "execution_count": null,
   "id": "f9c72437-568f-452e-b265-b75e0615d574",
   "metadata": {},
   "outputs": [],
   "source": []
  }
 ],
 "metadata": {
  "kernelspec": {
   "display_name": "Python 3 (ipykernel)",
   "language": "python",
   "name": "python3"
  },
  "language_info": {
   "codemirror_mode": {
    "name": "ipython",
    "version": 3
   },
   "file_extension": ".py",
   "mimetype": "text/x-python",
   "name": "python",
   "nbconvert_exporter": "python",
   "pygments_lexer": "ipython3",
   "version": "3.9.13"
  }
 },
 "nbformat": 4,
 "nbformat_minor": 5
}
